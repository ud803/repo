{
 "cells": [
  {
   "cell_type": "markdown",
   "metadata": {},
   "source": [
    "# Supervised learning\n",
    "\n",
    "지도 학습의 예를 살펴보자. 먼저 포트랜드 주 자택의 면적과 가격에 대한 예제를 살펴보겠다."
   ]
  },
  {
   "cell_type": "code",
   "execution_count": 339,
   "metadata": {
    "scrolled": true
   },
   "outputs": [
    {
     "data": {
      "text/html": [
       "<div>\n",
       "<style>\n",
       "    .dataframe thead tr:only-child th {\n",
       "        text-align: right;\n",
       "    }\n",
       "\n",
       "    .dataframe thead th {\n",
       "        text-align: left;\n",
       "    }\n",
       "\n",
       "    .dataframe tbody tr th {\n",
       "        vertical-align: top;\n",
       "    }\n",
       "</style>\n",
       "<table border=\"1\" class=\"dataframe\">\n",
       "  <thead>\n",
       "    <tr style=\"text-align: right;\">\n",
       "      <th></th>\n",
       "      <th>Living Area</th>\n",
       "      <th>Bedrooms</th>\n",
       "      <th>Price</th>\n",
       "    </tr>\n",
       "  </thead>\n",
       "  <tbody>\n",
       "    <tr>\n",
       "      <th>0</th>\n",
       "      <td>2104</td>\n",
       "      <td>3</td>\n",
       "      <td>399900</td>\n",
       "    </tr>\n",
       "    <tr>\n",
       "      <th>1</th>\n",
       "      <td>1600</td>\n",
       "      <td>3</td>\n",
       "      <td>329900</td>\n",
       "    </tr>\n",
       "    <tr>\n",
       "      <th>2</th>\n",
       "      <td>2400</td>\n",
       "      <td>3</td>\n",
       "      <td>369000</td>\n",
       "    </tr>\n",
       "    <tr>\n",
       "      <th>3</th>\n",
       "      <td>1416</td>\n",
       "      <td>2</td>\n",
       "      <td>232000</td>\n",
       "    </tr>\n",
       "    <tr>\n",
       "      <th>4</th>\n",
       "      <td>3000</td>\n",
       "      <td>4</td>\n",
       "      <td>539900</td>\n",
       "    </tr>\n",
       "  </tbody>\n",
       "</table>\n",
       "</div>"
      ],
      "text/plain": [
       "   Living Area  Bedrooms   Price\n",
       "0         2104         3  399900\n",
       "1         1600         3  329900\n",
       "2         2400         3  369000\n",
       "3         1416         2  232000\n",
       "4         3000         4  539900"
      ]
     },
     "execution_count": 339,
     "metadata": {},
     "output_type": "execute_result"
    }
   ],
   "source": [
    "import pandas as pd\n",
    "import matplotlib.pyplot as plt\n",
    "import numpy as np\n",
    "import random\n",
    "\n",
    "house = pd.read_csv(\"data2.txt\", header=None)\n",
    "house.columns = ['Living Area', 'Bedrooms', 'Price']\n",
    "house.head()"
   ]
  },
  {
   "cell_type": "code",
   "execution_count": 340,
   "metadata": {
    "scrolled": true
   },
   "outputs": [
    {
     "data": {
      "image/png": "[encoded data removed]",
      "text/plain": [
       "<matplotlib.figure.Figure at 0x7f83bf51e8d0>"
      ]
     },
     "metadata": {},
     "output_type": "display_data"
    }
   ],
   "source": [
    "plt.scatter(house['Living Area'], house['Price'])\n",
    "plt.show()"
   ]
  },
  {
   "cell_type": "markdown",
   "metadata": {},
   "source": [
    "이런 데이터가 주어졌을 때, 포트랜드 집값을 어떻게 예측할 수 있을까?\n",
    "\n",
    "**입력 변수(input var, input feature)**를 $x^{(i)}$, **결과 변수(output var, target var)**를 $y^{(i)}$ 라고 하자.\n",
    "\n",
    "$(x^{(i)}, y^{(i)})$ 쌍은 **트레이닝 예제(training example)**이라고 하고, \n",
    "\n",
    "트레이닝 예제가 m개 있는  $\\{(x^{(i)}, y^{(i)}); i = 1, ..., m\\}$를 **트레이닝 셋(training set)**이라고 한다.\n",
    "\n",
    "또한 $\\chi$ 는 입력 값들의 공간을 나타내고, $\\Upsilon$는 출력 값들의 공간을 나타낸다.\n",
    "\n",
    "\n",
    "지도 학습에서, 우리의 목표는 트레이닝 셋이 주어졌을 때 $ h : \\chi ->  \\Upsilon$로 가는 함수를 찾는 것이다. \n",
    "\n",
    "그래서 $h(x)$가 y의 좋은 예측치가 되도록 하는 것이다.\n",
    "\n",
    "이 함수 h를 **가설(hypothesis)**이라고 한다.\n",
    "\n",
    "* 우리가 예측하려는 타겟 변수가 연속형이면 **회귀 문제(regression problem)**이라고 한다.\n",
    "* 타겟 변수가 이산형 값을 가지면 **분류 문제(Classification problem)** 이라고 한다."
   ]
  },
  {
   "cell_type": "markdown",
   "metadata": {},
   "source": [
    "<br>\n",
    "## Part 1. Linear Regression\n"
   ]
  },
  {
   "cell_type": "code",
   "execution_count": 341,
   "metadata": {
    "scrolled": true
   },
   "outputs": [
    {
     "data": {
      "text/html": [
       "<div>\n",
       "<style>\n",
       "    .dataframe thead tr:only-child th {\n",
       "        text-align: right;\n",
       "    }\n",
       "\n",
       "    .dataframe thead th {\n",
       "        text-align: left;\n",
       "    }\n",
       "\n",
       "    .dataframe tbody tr th {\n",
       "        vertical-align: top;\n",
       "    }\n",
       "</style>\n",
       "<table border=\"1\" class=\"dataframe\">\n",
       "  <thead>\n",
       "    <tr style=\"text-align: right;\">\n",
       "      <th></th>\n",
       "      <th>Living Area</th>\n",
       "      <th>Bedrooms</th>\n",
       "      <th>Price</th>\n",
       "    </tr>\n",
       "  </thead>\n",
       "  <tbody>\n",
       "    <tr>\n",
       "      <th>0</th>\n",
       "      <td>2104</td>\n",
       "      <td>3</td>\n",
       "      <td>399900</td>\n",
       "    </tr>\n",
       "    <tr>\n",
       "      <th>1</th>\n",
       "      <td>1600</td>\n",
       "      <td>3</td>\n",
       "      <td>329900</td>\n",
       "    </tr>\n",
       "    <tr>\n",
       "      <th>2</th>\n",
       "      <td>2400</td>\n",
       "      <td>3</td>\n",
       "      <td>369000</td>\n",
       "    </tr>\n",
       "    <tr>\n",
       "      <th>3</th>\n",
       "      <td>1416</td>\n",
       "      <td>2</td>\n",
       "      <td>232000</td>\n",
       "    </tr>\n",
       "    <tr>\n",
       "      <th>4</th>\n",
       "      <td>3000</td>\n",
       "      <td>4</td>\n",
       "      <td>539900</td>\n",
       "    </tr>\n",
       "  </tbody>\n",
       "</table>\n",
       "</div>"
      ],
      "text/plain": [
       "   Living Area  Bedrooms   Price\n",
       "0         2104         3  399900\n",
       "1         1600         3  329900\n",
       "2         2400         3  369000\n",
       "3         1416         2  232000\n",
       "4         3000         4  539900"
      ]
     },
     "execution_count": 341,
     "metadata": {},
     "output_type": "execute_result"
    }
   ],
   "source": [
    "house.head()"
   ]
  },
  {
   "cell_type": "markdown",
   "metadata": {},
   "source": [
    "여기서 입력 변수($x$)는 $R^2$의 2차원 벡터이다.\n",
    "\n",
    "예를 들어, \n",
    "\n",
    "- $x_1^{i}$ 는 트레이닝 셋의 i번째 집의 Living Area 이고,\n",
    "-  $x_2^{i}$ 는 트레이닝 셋의 i번째 집의 Bedrooms 이다.\n",
    "\n",
    "일반적으로, 이러한 알고리즘을 학습할 때는 어떤 특징(feature)을 사용할 것인가는 사용자에게 달려있다.\n",
    "\n",
    "나중에는 이러한 특징을 고르는 방법들에 대해서도 이야기할 것이다.\n",
    "\n",
    "지도 학습을 위해, 컴퓨터에서 어떻게 함수/가설인 $h$를 표현할 것인지를 결정해야 한다.\n",
    "\n",
    "일단은 우리가 $y$를 $x$의 선형 함수로 근사한다고 해보자.\n",
    "\n",
    "<br>\n",
    "$$ h_\\theta(x) = \\theta_0 + \\theta_1 x_1 + \\theta_2 x_2 $$\n",
    "<br>\n",
    "\n",
    "여기서 $\\theta_i$는 **파라미터 혹은 가중치(parameters, weights)**라고 불리며, 입력 변수 공간  $\\chi$에서 출력 변수 공간 $\\Upsilon$ 으로 매핑하는 역할을 한다.\n",
    "\n",
    "절편인 $x_0$ 를 1로 두고 더 간단히 표현하면,\n",
    "\n",
    "<br>\n",
    "$$ h(x) = \\sum_{i=0}^n\\theta_i x_i = \\theta^T x$$\n",
    "<br>\n",
    "\n",
    "자 이제 트레이닝 셋이 주어졌다. 그럼 어떻게 적절한 파라미터인 $\\theta$를 고를까?\n",
    "\n",
    "합리적인 방법은 $h(x)$가 $y$에 근사하도록 (적어도 트레이닝 셋에 대해서) 만드는 것이다.\n",
    "\n",
    "다시 말해, 각 $\\theta$ 값에 대해, $h(x^{i})$가 대응하는 $y^{i}$에 얼마나 가까운지를 측정하는 함수를 만들 수 있다.\n",
    "\n",
    "*이를 수학적으로 표현해보면,*  다음과 같은 **비용 함수(Cost function)**을 정의할 수 있다.\n",
    "\n",
    "<br>\n",
    "$$ J(\\theta) = \\frac{1}{2m}\\sum_{i=1}^m (h_\\theta(x^{(i)}) - y^{(i)} ) ^2 $$\n",
    "<br>\n",
    "\n",
    "이전에 선형 회귀를 본적이 있다면, 이 식이 **최소제곱법(Ordinary Least Squares)** 회귀 모델을 만든 **least-squares cost function**과 유사하다는 것을 알 것이다. \n",
    "\n",
    "\n",
    "<br>\n",
    "\n",
    "<br>\n",
    "** 주의해야할 점은, 이러한 계산에 있어서 특징 간의 가중치를 같게 줘야하기 때문에 데이터 정규화를 꼭!! 시켜준다**"
   ]
  },
  {
   "cell_type": "code",
   "execution_count": 343,
   "metadata": {},
   "outputs": [
    {
     "data": {
      "text/plain": [
       "[(2000.6808510638298, 794.7023535338897),\n",
       " (3.1702127659574466, 0.7609818867800999)]"
      ]
     },
     "execution_count": 343,
     "metadata": {},
     "output_type": "execute_result"
    }
   ],
   "source": [
    "# save std, mean for each columns\n",
    "save = []\n",
    "for i in range(house.shape[1]-1) :\n",
    "    save.append( (house.iloc[:, i].mean(), house.iloc[:, i].std()))\n",
    "save"
   ]
  },
  {
   "cell_type": "code",
   "execution_count": 344,
   "metadata": {},
   "outputs": [
    {
     "name": "stderr",
     "output_type": "stream",
     "text": [
      "/home/dabuntu/Apps/anaconda/lib/python3.6/site-packages/sklearn/utils/validation.py:475: DataConversionWarning: Data with input dtype int64 was converted to float64 by StandardScaler.\n",
      "  warnings.warn(msg, DataConversionWarning)\n"
     ]
    },
    {
     "data": {
      "text/html": [
       "<div>\n",
       "<style>\n",
       "    .dataframe thead tr:only-child th {\n",
       "        text-align: right;\n",
       "    }\n",
       "\n",
       "    .dataframe thead th {\n",
       "        text-align: left;\n",
       "    }\n",
       "\n",
       "    .dataframe tbody tr th {\n",
       "        vertical-align: top;\n",
       "    }\n",
       "</style>\n",
       "<table border=\"1\" class=\"dataframe\">\n",
       "  <thead>\n",
       "    <tr style=\"text-align: right;\">\n",
       "      <th></th>\n",
       "      <th>Living Area</th>\n",
       "      <th>Bedrooms</th>\n",
       "      <th>Price</th>\n",
       "      <th>Intercept</th>\n",
       "    </tr>\n",
       "  </thead>\n",
       "  <tbody>\n",
       "    <tr>\n",
       "      <th>0</th>\n",
       "      <td>0.131415</td>\n",
       "      <td>-0.226093</td>\n",
       "      <td>399900.0</td>\n",
       "      <td>1</td>\n",
       "    </tr>\n",
       "    <tr>\n",
       "      <th>1</th>\n",
       "      <td>-0.509641</td>\n",
       "      <td>-0.226093</td>\n",
       "      <td>329900.0</td>\n",
       "      <td>1</td>\n",
       "    </tr>\n",
       "    <tr>\n",
       "      <th>2</th>\n",
       "      <td>0.507909</td>\n",
       "      <td>-0.226093</td>\n",
       "      <td>369000.0</td>\n",
       "      <td>1</td>\n",
       "    </tr>\n",
       "    <tr>\n",
       "      <th>3</th>\n",
       "      <td>-0.743677</td>\n",
       "      <td>-1.554392</td>\n",
       "      <td>232000.0</td>\n",
       "      <td>1</td>\n",
       "    </tr>\n",
       "    <tr>\n",
       "      <th>4</th>\n",
       "      <td>1.271071</td>\n",
       "      <td>1.102205</td>\n",
       "      <td>539900.0</td>\n",
       "      <td>1</td>\n",
       "    </tr>\n",
       "  </tbody>\n",
       "</table>\n",
       "</div>"
      ],
      "text/plain": [
       "   Living Area  Bedrooms     Price  Intercept\n",
       "0     0.131415 -0.226093  399900.0          1\n",
       "1    -0.509641 -0.226093  329900.0          1\n",
       "2     0.507909 -0.226093  369000.0          1\n",
       "3    -0.743677 -1.554392  232000.0          1\n",
       "4     1.271071  1.102205  539900.0          1"
      ]
     },
     "execution_count": 344,
     "metadata": {},
     "output_type": "execute_result"
    }
   ],
   "source": [
    "# normalizing process\n",
    "from sklearn import preprocessing\n",
    "\n",
    "std_scaler = preprocessing.StandardScaler()\n",
    "x = house.iloc[:, 0:2].values\n",
    "x_scaled = std_scaler.fit_transform(x)\n",
    "\n",
    "house = pd.DataFrame( np.concatenate( (x_scaled, \n",
    "                                       np.array(house['Price']).reshape(len(house), -1)), axis=1 ), columns=house.columns)\n",
    "house['Intercept'] = 1\n",
    "house.head()"
   ]
  },
  {
   "cell_type": "markdown",
   "metadata": {},
   "source": [
    "<br>\n",
    "**아래는 비용함수와 비용함수를 3차원 그래프에 도식화한 것이다.**\n",
    "\n",
    "<br>"
   ]
  },
  {
   "cell_type": "code",
   "execution_count": 255,
   "metadata": {
    "scrolled": true
   },
   "outputs": [
    {
     "data": {
      "text/plain": [
       "65591548106.45744"
      ]
     },
     "execution_count": 255,
     "metadata": {},
     "output_type": "execute_result"
    }
   ],
   "source": [
    "def computeCost(theta, x, y) :\n",
    "    matrixX = np.array(x).reshape(len(x), -1)\n",
    "    matrixY = np.array(y).reshape(len(y), -1)\n",
    "    theta = np.array(theta).reshape(len(theta), -1)\n",
    "    m = len(x)\n",
    "    return (1/(2*m)*np.dot( (np.dot(matrixX, theta)- matrixY).T, (np.dot(matrixX, theta)- matrixY) )).item(0)\n",
    "\n",
    "computeCost([0, 0], house[['Living Area', 'Bedrooms']], house['Price'])"
   ]
  },
  {
   "cell_type": "code",
   "execution_count": 355,
   "metadata": {
    "scrolled": true
   },
   "outputs": [
    {
     "data": {
      "image/png": "[encoded data removed]",
      "text/plain": [
       "<matplotlib.figure.Figure at 0x7f83c08f9f98>"
      ]
     },
     "metadata": {},
     "output_type": "display_data"
    }
   ],
   "source": [
    "import numpy as np\n",
    "import matplotlib.pyplot as plt\n",
    "from matplotlib import cm\n",
    "from mpl_toolkits.mplot3d import Axes3D\n",
    "\n",
    "# 시각화를 위해 Price 변수를 10만으로 나눠줌\n",
    "house['Price'] = house['Price'] / 100000\n",
    "\n",
    "theta_0 = np.linspace(-1000, 1000, 60)\n",
    "theta_1 = np.linspace(-1000, 1000, 60)\n",
    "theta_0, theta_1 = np.meshgrid(theta_0, theta_1)\n",
    "    # make (X,Y) coordinates (grid)\n",
    "\n",
    "Z = []\n",
    "for a, b in zip(np.ravel(theta_0), np.ravel(theta_1)) :\n",
    "    Z.append(computeCost([a, b], house[['Intercept', 'Living Area']], house['Price']))\n",
    "Z = np.array(Z).reshape(theta_0.shape)\n",
    "\n",
    "fig = plt.figure()\n",
    "ax = fig.gca(projection = '3d')\n",
    "ax.plot_surface(theta_0, theta_1, Z, rstride=3, cstride=3, linewidth=1, antialiased=True, cmap=cm.viridis)\n",
    "#cset = ax.contourf(theta_0, theta_1, Z, zdir='z', offset=-0.15, cmap=cm.viridis)\n",
    "ax.set_xlabel('theta_0')\n",
    "ax.set_ylabel('theta_1')\n",
    "ax.set_zlabel('Cost')\n",
    "#ax.view_init(27,- 21)\n",
    "plt.show()\n",
    "\n",
    "house['Price'] = house['Price'] * 100000"
   ]
  },
  {
   "cell_type": "markdown",
   "metadata": {},
   "source": [
    "\n",
    "<br>\n",
    "위 그림은 비용 함수의 3차원 그래프이다.\n",
    "\n",
    "**위 그림에서 최저점을 찾는 것, 즉 비용이 최소가 되는 파라미터의 조합을 찾는 것이 우리의 목표이다.**\n",
    "\n",
    "<br>"
   ]
  },
  {
   "cell_type": "markdown",
   "metadata": {},
   "source": [
    "### 1. LMS Algorithm (Least-mean squares)\n",
    "\n",
    "결국, 우리는 $J(\\theta)$를 최소화 할 수 있는 $\\theta$를 찾고 싶다.\n",
    "\n",
    "그렇게 하기 위해, $\\theta$에 대한 초기값을 정하고 시작하는 탐색 알고리즘을 사용해보자.\n",
    "\n",
    "이 알고리즘은 반복적으로 $\\theta$값을 변경하여 $J(\\theta)$를 작게 만들어 하나의 값에 수렴하게 된다.\n",
    "\n",
    "특히, **경사하강법(그래디언트 디센트, Gradient Descent)** 알고리즘을 살펴보자. \n",
    "\n",
    "<br>\n",
    "$$ \\theta_j := \\theta_j - \\alpha \\frac{\\partial}{\\partial \\theta_j} J(\\theta)$$\n",
    "$$ j = 0, ..., n $$\n",
    "<br>\n",
    "\n",
    "여기서, $\\alpha$는 **학습률(learning rate)**이고, 얼마나 나아갈지를 정해주는 값이다.\n",
    "\n",
    "이 알고리즘을 구현하기 위해, 오른쪽 항의 편미분항이 어떤 것인지를 알아야 한다.\n",
    "\n",
    "먼저 트레이닝 예제가 하나 있는 $(x, y)$의 경우를 살펴보자. 이 경우, 비용 함수($J$)에 있는 합을 무시할 수 있다.\n",
    "\n",
    "<br>\n",
    "$$ \\frac{\\partial}{\\partial \\theta_j}J(\\theta) = \\frac{\\partial}{\\partial \\theta_j}\\frac{1}{2}(h_\\theta(x) - y)^2$$\n",
    "\n",
    "$$ = 2 * \\frac{1}{2} (h_\\theta(x) - y)* \\frac{\\partial}{\\partial \\theta_j} (h_\\theta(x) - y) $$\n",
    "\n",
    "$$ = (h_\\theta(x) - y) * \\frac{\\partial}{\\partial \\theta_j}( \\sum_{i=0}^n \\theta_i x_i - y) $$\n",
    "\n",
    "$$ = (h_\\theta(x)-y) x_j $$\n",
    "<br>\n",
    "\n",
    "하나의 트레이닝 예제에 대해, 이것은 다음과 같은 업데이트 규칙을 의미한다.\n",
    "\n",
    "<br>\n",
    "$$ \\theta_j := \\theta_j - \\alpha (h_\\theta(x^{(i)}) - y^{(i)}  ) x_j^{(i)}$$\n",
    "<br>\n",
    "\n",
    "\n",
    "\n",
    "이 규칙은 **LMS 업데이트 규칙**이라고 하며, **Widrow-Hoff 학습 규칙**이라고도 한다.\n",
    "\n",
    "<br>\n",
    "*** 중요한 사실은, $\\theta_0$ 와 $\\theta_1$ 에 대한 업데이트가 동시에 이루어져야 한다는 것이다!! ***\n",
    "\n",
    "\n",
    "<br>\n",
    "이제 단일 트레이닝 예제가 아닌, 하나의 트레이닝 셋에 대해 이 수식을 적용해보자."
   ]
  },
  {
   "cell_type": "markdown",
   "metadata": {},
   "source": [
    "###### a. Batch Gradient Descent\n",
    "\n",
    "`Repeat Until Convergence` {\n",
    "\n",
    "$$ \\theta_j := \\theta_j - \\alpha \\sum_{i=1}^m( h_\\theta(x^{(i)}) - y^{(i)} )x_j^{(i)}$$ \n",
    "$$ j = 0, ..., n$$\n",
    "\n",
    "}\n",
    "\n",
    "사실 위 식은 원래 비용 함수인 $J$의 경사하강법과도 같다. \n",
    "\n",
    "이 방법은 매 단계에서 전체 트레이닝 셋의 모든 예제를 살펴보기 때문에, **배치 경사하강법** 이라고 한다.\n",
    "\n",
    "*주의할 점은, 경사하강법이 일반적으로 지역최소값에 취약하지만, 여기서의 선형 회귀에서는 오직 하나의 전역최소값만을 갖기에 항상 수렴한다고 가정한다.*\n"
   ]
  },
  {
   "cell_type": "code",
   "execution_count": 351,
   "metadata": {
    "scrolled": true
   },
   "outputs": [],
   "source": [
    "def batchGradientDescent(theta, x, y) :\n",
    "    alpha = 0.01\n",
    "    count = 1\n",
    "    matrixX = np.array(x).reshape(len(x), -1)\n",
    "    matrixY = np.array(y).reshape(len(y), -1)\n",
    "    theta = np.array(theta).reshape(len(theta), -1)\n",
    "   \n",
    "    m = len(x)\n",
    "    temp = [0] * len(theta)\n",
    "    traj = []\n",
    "    while(count < 1500) :\n",
    "        aa = computeCost(theta, x, y)\n",
    "        \n",
    "        for i in range(len(temp)) :\n",
    "            temp[i] = theta[i] - alpha / m * np.dot( (np.dot(matrixX, theta) - matrixY).T, matrixX[:,i])\n",
    "        for i in range(len(theta)) :\n",
    "            theta[i] = temp[i]    \n",
    "        traj.append( (count, aa ))\n",
    "        count += 1\n",
    "    return np.array(traj), theta\n",
    "\n",
    "batch, final_theta = batchGradientDescent([0,0 , 0], house[['Intercept','Bedrooms', 'Living Area']], house['Price'])"
   ]
  },
  {
   "cell_type": "markdown",
   "metadata": {},
   "source": [
    "**아래 그림은 반복횟수에 따른 비용의 값이다.**"
   ]
  },
  {
   "cell_type": "code",
   "execution_count": 324,
   "metadata": {},
   "outputs": [
    {
     "data": {
      "image/png": "[encoded data removed]",
      "text/plain": [
       "<matplotlib.figure.Figure at 0x7f83c07ffac8>"
      ]
     },
     "metadata": {},
     "output_type": "display_data"
    }
   ],
   "source": [
    "plt.figure()\n",
    "plt.plot(batch[:,0], batch[:,1])\n",
    "plt.show()"
   ]
  },
  {
   "cell_type": "code",
   "execution_count": 325,
   "metadata": {},
   "outputs": [
    {
     "data": {
      "text/plain": [
       "array([[340313],\n",
       "       [ -6352],\n",
       "       [109222]])"
      ]
     },
     "execution_count": 325,
     "metadata": {},
     "output_type": "execute_result"
    }
   ],
   "source": [
    "final_theta"
   ]
  },
  {
   "cell_type": "markdown",
   "metadata": {},
   "source": [
    "###### b. Stochastic Gradient Descent\n",
    "\n",
    "`Loop` {\n",
    "\n",
    "$$ i = 1, ... , m $$\n",
    "$$ \\theta_j := \\theta_j - \\alpha ( h_\\theta(x^{(i)}) - y^{(i)}  )x_j^{(i)}$$ \n",
    "$$ `every` j$$\n",
    "\n",
    "}\n",
    "\n",
    "이 알고리즘은 트레이닝셋을 돌며 하나의 트레이닝 예제에 대해서 파라미터를 업데이트한다. \n",
    "\n",
    "따라서 **확률 경사하강법**이라고 부른다. \n",
    "\n",
    "배치 경사하강법이 한 단계를 거치기 위해 전체 트레이닝 셋을 돌아야 하는 반면, 확률 경사하강법은 하나의 트레이닝 예제를 볼 때마다 한 단계를 나아갈 수 있다.\n",
    "\n",
    "따라서 배치 경사하강법은 데이터의 총 개수가 크다면 그 연산량이 크고, 보통 확률 경사하강법이 배치보다 최소값에 더 빠르게 근접한다.\n",
    "\n",
    "결론적으로, 트레이닝 셋이 큰 경우, 확률 경사하강법이 더 선호된다."
   ]
  },
  {
   "cell_type": "code",
   "execution_count": 353,
   "metadata": {},
   "outputs": [],
   "source": [
    "def stochasticGradientDescent(theta, x, y) :\n",
    "    alpha = 0.01\n",
    "    count = 1\n",
    "    matrixX = np.array(x).reshape(len(x), -1)\n",
    "    matrixY = np.array(y).reshape(len(y), -1)\n",
    "    theta = np.array(theta).reshape(len(theta), -1)\n",
    "   \n",
    "    m = len(x)\n",
    "    temp = [0] * len(theta)\n",
    "    traj = []\n",
    "    while(count < 1500) :\n",
    "        aa = computeCost(theta, x, y)\n",
    "        \n",
    "        for i in range(m) :\n",
    "            for j in range(len(temp)) :\n",
    "                temp[j] = theta[j] - alpha / m * ( np.dot(matrixX[i,:], theta) - matrixY[i, 0])*matrixX[i,j]\n",
    "            for k in range(len(theta)) :\n",
    "                theta[k] = temp[k]    \n",
    "        traj.append( (count, aa ))\n",
    "        count += 1\n",
    "    return np.array(traj), theta\n",
    "\n",
    "\n",
    "stochastic, final_theta2 = stochasticGradientDescent([0,0, 0], house[['Intercept','Bedrooms', 'Living Area']], house['Price'])"
   ]
  },
  {
   "cell_type": "code",
   "execution_count": 327,
   "metadata": {},
   "outputs": [
    {
     "data": {
      "image/png": "[encoded data removed]",
      "text/plain": [
       "<matplotlib.figure.Figure at 0x7f83bf3bb898>"
      ]
     },
     "metadata": {},
     "output_type": "display_data"
    }
   ],
   "source": [
    "plt.figure()\n",
    "plt.plot(stochastic[:,0], stochastic[:,1])\n",
    "plt.show()"
   ]
  },
  {
   "cell_type": "code",
   "execution_count": 328,
   "metadata": {
    "scrolled": true
   },
   "outputs": [
    {
     "data": {
      "text/plain": [
       "array([[338156],\n",
       "       [  -859],\n",
       "       [103498]])"
      ]
     },
     "execution_count": 328,
     "metadata": {},
     "output_type": "execute_result"
    }
   ],
   "source": [
    "final_theta2"
   ]
  },
  {
   "cell_type": "markdown",
   "metadata": {},
   "source": [
    "<br>\n",
    "\n",
    "결과적으로 데이터셋이 60개로 매우 작기 때문에 두 연산의 성능차는 눈에 보이지 않는다.\n",
    "\n",
    "시간을 측정했을때 배치 경사하강법이 조금 더 빠르지만 이는 데이터가 매우 작기 때문인 걸로 보인다.\n",
    "\n",
    "또한 두 함수가 계산한 파라미터 $\\theta$의 값도 아주 비슷하다.\n",
    "\n",
    "**그렇다면 정말 맞게 근사한 것일까? 정확한 수학적 계산을 통해 그 답을 내어보자.**\n"
   ]
  },
  {
   "cell_type": "markdown",
   "metadata": {},
   "source": [
    "<br>\n",
    "### 2. The normal equations\n",
    "\n",
    "경사하강법은 $J$를 최소화하는 한 가지 방법이다. 이제 두 번째 방법을 살펴보자.\n",
    "\n",
    "이번에는 반복 알고리즘에 의존하지 않고, 확실하게 최소화하는 방법을 알아볼 것이다. \n",
    "\n",
    "여기서 비용 함수인 $J$를 $\\theta_j$에 대해 미분하고, 0으로 두어서 이를 최소화할 것이다. \n",
    "\n",
    "#### 2-2. Least squares revisited\n",
    "\n",
    "트레이닝 셋이 주어졌을 때, 행렬 $X$가 m-by-n 행렬이라고 하자. (절편항을 더하면 m-by-n+1)\n",
    "\n",
    "$X$는 각 $i$번째 행에 $x^{(i)}$의 값들이 들어있다. 즉, 특징 벡터는 n차원이며, 데이터의 개수가 m개이다.\n",
    "\n",
    "$\\vec{y}$는 m차원 (열)벡터이며, $y^{(i)}$의 타겟 변수가 들어있다.\n",
    "\n",
    "$h_\\theta(x^{(i)}) = (x^{(i)})^T\\theta$ 이므로, 다음의 식을 확인할 수 있다.\n",
    "\n",
    "<br>\n",
    "$$ X\\theta - \\vec{y} = [ (h_\\theta(x^{(1)})-y^(1)), ... ,(h_\\theta(x^{(m)})-y^(m))]^T  $$\n",
    "<br>\n",
    "\n",
    " $$ z^Tz = \\sum_{i}z_i^2 $$ \n",
    "\n",
    "이때, 위 식이 성립하므로,\n",
    "$$ \\frac{1}{2}(X \\theta - \\vec{y})^T(X \\theta - \\vec{y}) = \\frac{1}{2} \\sum_{i=1}^m (h_\\theta(x^{(i)})-y^{(i)})^2$$\n",
    "\n",
    "$$ = J(\\theta)$$\n",
    "\n",
    "마지막으로 $J$를 최소화하기 위해, $\\theta$에 대해 미분해준다.\n",
    "\n",
    "<br>\n",
    "$\\nabla_\\theta J(\\theta)$\n",
    "\n",
    "$ = \\nabla_\\theta \\frac{1}{2}(X\\theta-\\vec{y})^T(X\\theta-\\vec{y})$\n",
    "\n",
    "$ = \\frac{1}{2}\\nabla_\\theta(\\theta^TX^TX\\theta-\\theta^TX^T\\vec{y}-\\vec{y}^TX\\theta+\\vec{y}^T\\vec{y}$\n",
    "\n",
    "$ = \\frac{1}{2}\\nabla_\\theta tr(\\theta^TX^TX\\theta-\\theta^TX^T\\vec{y}-\\vec{y}^TX\\theta+\\vec{y}^T\\vec{y})$\n",
    "\n",
    "$ = \\frac{1}{2}\\nabla_\\theta(tr\\theta^TX^TX\\theta - 2tr\\vec{y}^TX\\theta)$\n",
    "\n",
    "$ = X^TX\\theta - X^T\\vec{y}$\n",
    "\n",
    "이제 위 식을 0으로 놓으면,\n",
    "\n",
    "$$ X^TX\\theta = X^T\\vec{y} $$ \n",
    "\n",
    "***결국, 아래와 같은 정규방정식(normal equation)을 얻을 수 있다.***\n",
    "\n",
    "$$ \\theta = (X^TX)^{-1}X^T\\vec{y}$$"
   ]
  },
  {
   "cell_type": "code",
   "execution_count": 329,
   "metadata": {
    "collapsed": true
   },
   "outputs": [],
   "source": [
    "def normal_equation(x, y) :\n",
    "\n",
    "    matrix_X = np.matrix( [x.loc[i] for i in range(len(x))]).reshape(len(x), -1)\n",
    "    matrix_Y = np.matrix( [y.loc[i] for i in range(len(y))]).reshape(len(y), -1)\n",
    "    \n",
    "    matrix_W = np.linalg.inv(matrix_X.T * matrix_X)*matrix_X.T*matrix_Y\n",
    "    print(matrix_W)\n",
    "    return matrix_W"
   ]
  },
  {
   "cell_type": "code",
   "execution_count": 330,
   "metadata": {
    "scrolled": true
   },
   "outputs": [
    {
     "name": "stdout",
     "output_type": "stream",
     "text": [
      "[[ 340412.65957447]\n",
      " [  -6578.35485416]\n",
      " [ 109447.79646964]]\n"
     ]
    },
    {
     "data": {
      "text/plain": [
       "matrix([[ 340412.65957447],\n",
       "        [  -6578.35485416],\n",
       "        [ 109447.79646964]])"
      ]
     },
     "execution_count": 330,
     "metadata": {},
     "output_type": "execute_result"
    }
   ],
   "source": [
    "w_1 = normal_equation(house[['Intercept', 'Bedrooms', 'Living Area']], house['Price'])\n",
    "\n",
    "w_1"
   ]
  },
  {
   "cell_type": "code",
   "execution_count": 370,
   "metadata": {},
   "outputs": [
    {
     "data": {
      "image/png": "[encoded data removed]",
      "text/plain": [
       "<matplotlib.figure.Figure at 0x7f83c03baf98>"
      ]
     },
     "metadata": {},
     "output_type": "display_data"
    }
   ],
   "source": [
    "plt.scatter(house['Living Area'], house['Price'])\n",
    "plt.plot(house['Living Area'], w_1[0,0]*house['Intercept'] + w_1[2,0]*house['Living Area'] )\n",
    "plt.show()"
   ]
  },
  {
   "cell_type": "markdown",
   "metadata": {},
   "source": [
    "<br>\n",
    "\n",
    "**결국 우리가 식으로 구한 파라미터의 값은 위에서 경사하강법을 통해 근사적으로 구한 값과 거의 비슷하다.**\n",
    "\n",
    "<br>\n",
    "여기서 이제 타겟 변수에 대한 예측을 해본다면,\n",
    "\n",
    "$$ house\\hspace{0.1cm}price = \\theta_0 * intercept + \\theta_1 * Bedrooms + \\theta_2 * living\\hspace{0.1cm}area$$\n",
    "\n",
    "$$ if, area=1650, bedroom=3 $$"
   ]
  },
  {
   "cell_type": "code",
   "execution_count": 349,
   "metadata": {},
   "outputs": [
    {
     "name": "stdout",
     "output_type": "stream",
     "text": [
      "Batch:  [ 293537.04327357]\n",
      "Batch:  [ 292677.24327065]\n",
      "Normal Equation:  [[ 293587.69488157]]\n"
     ]
    }
   ],
   "source": [
    "area = (1650-save[0][0])  / save[0][1]\n",
    "bedroom = (3- save[1][0])/  save[1][1]\n",
    "\n",
    "# Batch Gradient Price\n",
    "price_1 = np.dot( final_theta.T, [1, bedroom, area])\n",
    "print(\"Batch: \", price_1)\n",
    "# Stochastic Gradient Price\n",
    "price_2 = np.dot( final_theta2.T, [1, bedroom, area])\n",
    "print(\"Batch: \", price_2)\n",
    "# Normal Equation Price\n",
    "price_3 = np.dot(w_1.T, [1, bedroom, area] )\n",
    "print(\"Normal Equation: \", price_3)"
   ]
  },
  {
   "cell_type": "markdown",
   "metadata": {},
   "source": [
    "**예측 가격도 큰 차이가 없는 것을 알 수 있다!!**"
   ]
  },
  {
   "cell_type": "markdown",
   "metadata": {},
   "source": [
    "<br>\n",
    "### 3. Probabilistic interpretation\n",
    "\n",
    "회귀 문제를 해결할 때, 왜 선형 회귀가, 특히 최소자승법을 이용한 비용 함수 $J$가 합리적인 선택일까?\n",
    "\n",
    "여기서는 확률적인 가정이 주어졌을 때, 최소자승법이 아주 자연스러운 해결책이라는 것을 밝혀낼 것이다.\n",
    "\n",
    "타겟 변수와 입력 변수가 다음과 같은 관계를 가진다고 가정하자.\n",
    "\n",
    "<br>\n",
    "$$ y^{(i)} = \\theta^Tx^{(i)}  + \\epsilon^{(i)}$$\n",
    "<br>\n",
    "\n",
    "여기서 입실론은 모델이 설명할 수 없는 오차를 나타내거나, 임의의 노이즈를 표현하는 항이다.\n",
    "\n",
    "더 나아가서, 이 $\\epsilon^{(i)}$이 IID하게 평균이 0이고 분산이 $\\sigma^2$인 정규분포를 따른다고 가정하자.\n",
    "\n",
    "이때, $pdf$는 다음과 같이 표현된다.\n",
    "\n",
    "<br>\n",
    "$$ p(\\epsilon^{(i)}) = \\frac{1}{\\sqrt{2\\pi\\sigma}}exp(-\\frac{(\\epsilon^{(i)})^2}{2\\sigma^2})$$\n",
    "<br>\n",
    "\n",
    "이는 다시 말하면,\n",
    "\n",
    "<br>\n",
    "$$ p(y^{(i)} | x^{(i)};\\theta) = p(\\epsilon^{(i)}) = \\frac{1}{\\sqrt{2\\pi\\sigma}}exp(-\\frac{(y^{(i)}-\\theta^Tx^{(i)})^2}{2\\sigma^2})$$\n",
    "<br>\n",
    "\n",
    "좌변은 $x^{(i)}$가 주어졌을 때, $\\theta$에 의해 파라미터화된 $y^{(i)}$의 분포를 의미한다.\n",
    "\n",
    "여기서 $\\theta$는 확률변수가 아니기 때문에 조건부가 아님에 주의하자. \n",
    "\n",
    "이제 시야를 바꿔서, 이 함수를 $\\vec{y}$가 아닌 $\\theta$에 대한 함수로 살펴보자.\n",
    "\n",
    "<br>\n",
    "$$L(\\theta) = L(\\theta; X, \\vec{y}) = p(\\vec{y} | X; \\theta) $$\n",
    "<br>\n",
    "\n",
    "이 함수를 **우도 함수(Likelihood function)**이라고 한다. 오차항의 독립 가정으로, 다시 풀어서 쓸 수 있다.\n",
    "\n",
    "<br>\n",
    "\n",
    "$$ L(\\theta) = \\prod_{i=1}^mp(y^{(i)}|x^{(i)};\\theta) $$\n",
    "\n",
    "$$ = \\prod_{i=1}^m\\frac{1}{\\sqrt{2\\pi\\sigma}}exp(-\\frac{(y^{(i)}-\\theta^Tx^{(i)})^2}{2\\sigma^2})$$\n",
    "<br>\n",
    "\n",
    "이제 여기서 최적의 파라미터 $\\theta$의 값을 찾는 방법은 무엇일까?\n",
    "\n",
    "**최대 우도법(Maximum Likelihood Estimation)**은 데이터의 가능성을 가능한 크게 만드는 값을 골라야 한다고 말한다. 즉, $L(\\theta)$를 최대로 만드는 $\\theta$를 찾는 것이다.\n",
    "\n",
    "결국 로그를 취해 이 식을 풀어보면, \n",
    "\n",
    "<br>\n",
    "$ l(\\theta) $\n",
    "\n",
    "$= logL(\\theta)$\n",
    "\n",
    "$= log \\prod_{i=1}^m\\frac{1}{\\sqrt{2\\pi}\\sigma}exp(-\\frac{(y^{(i)}-\\theta^TX^{(i)})^2}{2\\sigma^2})$\n",
    "\n",
    "$ = mlog\\frac{1}{\\sqrt{2\\pi}\\sigma}+\\sum_{i=1}^m-\\frac{(y^{(i)}-\\theta^TX^{(i)})^2}{2\\sigma^2}$\n",
    "<br>\n",
    "\n",
    "이때, Maximize $l(\\theta) $는 오른쪽 항을 최소화 하는 것이다.\n",
    "\n",
    "즉, $\\sum_{i=1}^m-\\frac{(y^{(i)}-\\theta^TX^{(i)})^2}{2\\sigma^2} = J(\\theta)$를 최소화하는 문제가 된다.\n",
    "\n",
    "\n",
    "우리가 앞서 구했던 최소자승법 비용 함수와 같은 결과가 나온다."
   ]
  },
  {
   "cell_type": "markdown",
   "metadata": {},
   "source": [
    "<br>\n",
    "### 4. Locally weighted linear regression\n",
    "\n",
    "실수계에 속하는 $x$를 통해 $y$를 예측하는 문제를 생각해보자.\n",
    "\n",
    "아래 그림에서 가장 왼쪽의 그림은 $y = \\theta_0 + \\theta_1x$의 식을 데이터셋에 학습시킨 결과이다.\n",
    "\n",
    "사실 데이터가 직선 위에 놓이지는 않기에, 학습이 잘 되었다고는 말할 수 없다."
   ]
  },
  {
   "cell_type": "markdown",
   "metadata": {},
   "source": [
    "![title](./locally.png)"
   ]
  },
  {
   "cell_type": "markdown",
   "metadata": {},
   "source": [
    "만약 우리가 또 하나의 특징 $x^2$을 대입하여, $y = \\theta_0 + \\theta_1x + \\theta_2x^2$의 식을 학습시켰다면, 조금 더 데이터에 적합한 결과가 나왔을 것이다.\n",
    "\n",
    "단순히 생각하면 특징이 많을수록 더 학습이 잘 되는 것처럼 보이지만, 이에는 반드시 위험이 따라온다.\n",
    "\n",
    "우측의 그림은 5차원 방정식을 사용한 결과이다. 모든 데이터에 완벽하게 들어맞지만, 새로운 데이터에 테스트했을 때 좋은 결과를 내지는 못할 것이다.\n",
    "\n",
    "좌측 그림같이 모델이 데이터를 잘 포착하지 못한 경우를 **언더 피팅(Underfitting)**되었다고 하고, 우측 그림처럼 지나치게 데이터에 의존한 경우를 **오버 피팅(Overfitting)**이라고 한다."
   ]
  },
  {
   "cell_type": "markdown",
   "metadata": {},
   "source": [
    "###### LWR\n",
    "이처럼 올바른 특징을 골라내는 일은 학습 알고리즘의 성능에 큰 영향을 미친다.\n",
    "\n",
    "여기서는 간단하게 **국소가중회귀(Locally Weighted Regression, LWR)**를 살펴볼 것이다. \n",
    "\n",
    "LWR 알고리즘은 충분히 많은 데이터가 있을 때 특징 선택의 부담을 줄여준다. \n",
    "\n",
    "일반 선형 회귀에서, 우리는\n",
    "\n",
    "1. $\\sum_{i}(y^{(i)}-\\theta^Tx^{(i)})^2$ 를 최소화하기 위해 $\\theta$를 조절한다\n",
    "2. $\\theta^Tx$를 산출한다.\n",
    "\n",
    "하지만 LWR에서는 아래와 같다.\n",
    "\n",
    "1. $\\sum_{i}w^{(i)}(y^{(i)}-\\theta^Tx^{(i)})^2$를 최소화하기 위해 $\\theta$를 조절한다\n",
    "2. $\\theta^Tx$를 산출한다.\n",
    "\n",
    "여기서 $w^{(i)}$는 음이 아닌 가중치이다. \n",
    "\n",
    "만약 이 값이 크다면, $\\theta$를 고를 때 우리는 $(y^{(i)}-\\theta^Tx^{(i)})^2$이 작게 되도록 만들 것이다. \n",
    "\n",
    "만약 이 값이 작다면, 오차 항은 학습 과정에서 거의 무시될 것이다.\n",
    "\n",
    "보통 이 값은 아래 식을 통해 구해진다.\n",
    "\n",
    "<br>\n",
    "$$ w^{(i)} = exp(- \\frac{ (x^{(i)}-x)^2}{2\\tau^2})$$\n",
    "<br>\n",
    "\n",
    "가중치는 우리가 측정하려는 $x$ 값에 의존한다. 따라서 쿼리 포인트에 가까운 트레이닝 예제는 훨씬 큰 가중치를 받게 된다.\n",
    "\n",
    "$\\tau$ 파라미터는 **bandwidth** 파라미터라고도 하며, 트레이닝 예제의 가중치의 정도를 결정한다. 이 값이 크면 멀리 있는 값들을 더 고려하게 되며, 이 값이 작으면 가까이 있는 값들만을 중시하게 된다.\n",
    "\n",
    "LWR 알고리즘은 우리가 살펴볼 **비모수 알고리즘(non-parametric algorithm)**의 첫번째 예이다.\n",
    "\n",
    "이전에 살펴본 (비가중) 선형 회귀는 모수를 이용한 학습 알고리즘이다. $\\theta_i$ 들이 있기 때문이다. 이 $\\theta_i$를 학습하고 나면, 이제 트레이닝 데이터는 미래의 예측에 필요가 없게 된다.\n",
    "\n",
    "반대로 가중 회귀에서는 전체 트레이닝 셋을 계속 유지해야 한다. 여기서 *비모수*란 우리가 가설 $h$를 표현하기 위해 유지해야 할 트레이닝 셋의 크기가 선형적으로 증가한다는 것을 뜻하기도 한다.\n",
    "\n"
   ]
  }
 ],
 "metadata": {
  "kernelspec": {
   "display_name": "Python 3",
   "language": "python",
   "name": "python3"
  },
  "language_info": {
   "codemirror_mode": {
    "name": "ipython",
    "version": 3
   },
   "file_extension": ".py",
   "mimetype": "text/x-python",
   "name": "python",
   "nbconvert_exporter": "python",
   "pygments_lexer": "ipython3",
   "version": "3.6.3"
  }
 },
 "nbformat": 4,
 "nbformat_minor": 2
}
