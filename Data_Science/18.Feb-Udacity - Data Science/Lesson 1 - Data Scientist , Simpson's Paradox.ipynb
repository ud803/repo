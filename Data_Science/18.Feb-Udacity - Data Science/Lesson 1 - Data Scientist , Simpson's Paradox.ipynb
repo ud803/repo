{
 "cells": [
  {
   "cell_type": "markdown",
   "metadata": {},
   "source": [
    "https://github.com/adam-p/markdown-here/wiki/Markdown-Cheatsheet\n",
    "\n",
    "## Data Scientist\n"
   ]
  },
  {
   "cell_type": "markdown",
   "metadata": {},
   "source": [
    "**What is a data scientist?**\n",
    "\n",
    "Data scientist is someone who knows mathematics and statistics which allow them to identify interesting insights and a sea of data. They also have the programming skills to code up statistical models and get variety of data from numerous sources. \n",
    "\n",
    "Furthermore, data scientist is someone who knows how to ask the right question and translates those questions into sound analysis. \n",
    "\n",
    "After doing the analysis, they have communication skills to report their findings in a way that people can easily understand. "
   ]
  },
  {
   "cell_type": "markdown",
   "metadata": {},
   "source": [
    "**What does a data scientist do?**\n",
    "\n",
    "1.They might wrangle data : collect data from real world.\n",
    "\n",
    "2.Analyse existing data or make data-driven predictive model.\n",
    "\n",
    "3.Based on models or predictions, make product and report to general public or other colleagues."
   ]
  },
  {
   "cell_type": "markdown",
   "metadata": {},
   "source": [
    "*Not only in ...*\n",
    "Industries ; Netflix, Social Media, Web Apps ...\n",
    "\n",
    "*But Also in ... *\n",
    "Bioinformatics, Urban Planning, Astrophysics\n",
    "Public Health, Sports Statistics"
   ]
  },
  {
   "cell_type": "markdown",
   "metadata": {},
   "source": [
    "# Simpson's Paradox"
   ]
  },
  {
   "cell_type": "markdown",
   "metadata": {},
   "source": [
    "From Wikipedia : https://en.wikipedia.org/wiki/Simpson%27s_paradox\n",
    "\n",
    "*Simpson's Paradox*, or the *Yule-Simpson effect*, is a phenomenon in probability and statistics, in which a trend appears in several different groups of data but disappears or reverses when these groups are combined. It is sometimes given the descriptive title **reversal paradox** or **amalgamation paradox**.\n",
    "\n",
    "주로 사회과학 분야나 의료과학 분야에서 발생하고, 빈도 데이터에 인과 관계 해석이 들어가는 경우 문제가 발생한다.\n",
    "아래 예제를 통해 자세히 살펴보자.\n",
    "\n",
    "### Lisa and Bart Example\n",
    "\n",
    "|    | **Week 1** | **Week 2** | **Total**|\n",
    "|--- | ---| ---| ---|\n",
    "|Lisa | 0/1 | 3/4 | **3/5** |\n",
    "|Bart | **1/4** | **1/1** | 2/5 |\n",
    "\n",
    "Lisa와 Bart가 2주 동안 논문을 편집한다고 가정하자. \n",
    "\n",
    "1 주에, Lisa는 수정하던 1개의 논문을 편집하는 데 실패했다.\n",
    "        Bart는 4개 중 1개를 편집하였다.\n",
    "2 주에, Lisa는 4개 중 3개를 편집하였다.\n",
    "        Bart는 수정하던 1개의 논문을 편집하였다.\n",
    "\n",
    "모든 기간동안, Bart는 Lisa보다 더 많은 편집을 하였다. 하지만 전체 합을 보면, Lisa의 비율이 더 높게 된다. \n",
    "\n",
    "### 중략 (... 다음에 더 보충)\n",
    "http://vudlab.com/simpsons/"
   ]
  },
  {
   "cell_type": "markdown",
   "metadata": {},
   "source": []
  }
 ],
 "metadata": {
  "kernelspec": {
   "display_name": "Python 3",
   "language": "python",
   "name": "python3"
  },
  "language_info": {
   "codemirror_mode": {
    "name": "ipython",
    "version": 3
   },
   "file_extension": ".py",
   "mimetype": "text/x-python",
   "name": "python",
   "nbconvert_exporter": "python",
   "pygments_lexer": "ipython3",
   "version": "3.6.3"
  }
 },
 "nbformat": 4,
 "nbformat_minor": 2
}
