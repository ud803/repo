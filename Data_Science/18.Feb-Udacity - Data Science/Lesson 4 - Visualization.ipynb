{
 "cells": [
  {
   "cell_type": "markdown",
   "metadata": {
    "collapsed": true
   },
   "source": [
    "## 1. Types of visual encoding\n",
    "\n",
    "1. Position\n",
    "\n",
    "2. Length\n",
    "\n",
    "3. Angle\n",
    "\n",
    "4. Direction\n",
    "\n",
    "5. Shape\n",
    "\n",
    "6. Area / Volume\n",
    "\n",
    "7. Color\n",
    "    1) Hue (색조) : Limit number of hues\n",
    "    2) Saturation (농도)\n",
    "    3) Combination of two\n",
    "    \n",
    "    \n",
    " \n",
    "## 2. Perception of visual cues\n",
    "\n",
    "Position > Length > Angle > Direction > Area > Volume > Saturation > Hue\n",
    "\n",
    "Perception = How easily people recognize the difference !"
   ]
  },
  {
   "cell_type": "markdown",
   "metadata": {},
   "source": [
    "## 3. Plotting in Python\n",
    "\n",
    "Many packages\n",
    "    - Matplotlib\n",
    "    - ggplot \n",
    "Why ggplot? (grammar of graphics)\n",
    "    - Looks nicer\n",
    "    - grammar of graphics\n",
    "    \n",
    "Grammar of graphics?\n",
    "    - Plots convery information through aesthetics : x-pos, y-pos..\n",
    "    - Elements in a plot are geometric shapes : planes, lines, bars..\n",
    "    - First Step : Create plot \n",
    "        ggplot( data, aes(xvar, yvar, color=group_id) ) : variables we're looking at in a data\n",
    "    - Second Step : \n",
    "        + geom_point(color='coral') + geom_line() + ggtitle('title') + xlab('x-label') + ylab('y-label')"
   ]
  },
  {
   "cell_type": "markdown",
   "metadata": {},
   "source": [
    "## 4. Data Types\n",
    "\n",
    "1. Numeric data \n",
    "    - A measurement or count \n",
    "    - Discrete and Continuous\n",
    "        - Discrete : whole numbers\n",
    "        - Continuous : any number within range\n",
    "2. Categorical data\n",
    "    - Represent characteristics\n",
    "    - Can take on numerical values, but they don't have mathematical meaning\n",
    "    - Ordinal data : Categories with some order or ranking\n",
    "    \n",
    "3. Time-Series data\n",
    "    - Data collected via repeated measurements over time"
   ]
  },
  {
   "cell_type": "markdown",
   "metadata": {},
   "source": [
    "## 5. Loess Curve\n",
    "\n",
    "- Emphasize long term trends\n",
    "- Loess - weighted regression"
   ]
  },
  {
   "cell_type": "markdown",
   "metadata": {},
   "source": [
    "## 6. Multivariate Data\n",
    "\n",
    "How to incorporate more variables?\n",
    "\n",
    "-> Use an additional encoding (size, saturation.. )"
   ]
  }
 ],
 "metadata": {
  "kernelspec": {
   "display_name": "Python 3",
   "language": "python",
   "name": "python3"
  },
  "language_info": {
   "codemirror_mode": {
    "name": "ipython",
    "version": 3
   },
   "file_extension": ".py",
   "mimetype": "text/x-python",
   "name": "python",
   "nbconvert_exporter": "python",
   "pygments_lexer": "ipython3",
   "version": "3.6.3"
  }
 },
 "nbformat": 4,
 "nbformat_minor": 2
}
