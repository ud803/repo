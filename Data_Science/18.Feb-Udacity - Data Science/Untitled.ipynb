{
 "cells": [
  {
   "cell_type": "markdown",
   "metadata": {},
   "source": [
    "## Map Reduce\n",
    "\n",
    "Basic Mapreduce - word count\n",
    "\n",
    "\"Alice was beginning to get very tired of sitting by her sisters on the bank, and of having nothing to do...\"\n",
    "\n",
    "{\"alice\" : 1, \"was\" : 1 , ... , \"do\" : 1 }\n",
    "\n",
    "Mappers and Reducers\n",
    "\n",
    "Index all the books in the world.\n",
    "\n",
    "Send all the documents through mappers. \n",
    "\n",
    "Each reducer "
   ]
  },
  {
   "cell_type": "code",
   "execution_count": null,
   "metadata": {},
   "outputs": [],
   "source": [
    "import logging\n",
    "import sys\n",
    "import string\n",
    "\n",
    "from util import logfile\n",
    "\n",
    "logging.basicConfig(filename=logfile, format='%(message)s',\n",
    "                   level=logging.INFO, filemode='w')\n",
    "\n",
    "\n",
    "def word_count():\n",
    "   \n",
    "    word_counts = {}\n",
    "\n",
    "    for line in sys.stdin:\n",
    "        data = line.strip().split(\" \")\n",
    "        \n",
    "        for i in data:\n",
    "            key = i.translate(string.maketrans(\"\",\"\"), string.punctuation).lower()\n",
    "            if key in word_counts.key() :\n",
    "                word_counts[key] += 1\n",
    "            else :\n",
    "                word_counts[key] = 1\n",
    "        # Your code here\n",
    "\n",
    "    print(word_counts)\n",
    "\n",
    "word_count()\n"
   ]
  }
 ],
 "metadata": {
  "kernelspec": {
   "display_name": "Python 3",
   "language": "python",
   "name": "python3"
  },
  "language_info": {
   "codemirror_mode": {
    "name": "ipython",
    "version": 3
   },
   "file_extension": ".py",
   "mimetype": "text/x-python",
   "name": "python",
   "nbconvert_exporter": "python",
   "pygments_lexer": "ipython3",
   "version": "3.6.3"
  }
 },
 "nbformat": 4,
 "nbformat_minor": 2
}
