{
 "cells": [
  {
   "cell_type": "markdown",
   "metadata": {},
   "source": [
    "## MapReduce\n",
    "\n",
    "MapReduce is actually just a prallel programming model for processing large data sets across a cluster of computers. \n",
    "\n",
    "### Computation is done via two functions.\n",
    "1. Mapper\n",
    "2. Reducer\n",
    "\n",
    "### Basics of MapReduce\n",
    "1. Send many documents to many mappers. And they each perform the same mapping on their respective documents and produce a series of intermediate key-value pairs.\n",
    "\n",
    "2. We can shuffle these intermediate results and send all key-value pairs of the same key to the same reducer for processing.\n",
    "\n",
    "3. We do this so that each reducer can produce one final key-value pair for each key."
   ]
  },
  {
   "cell_type": "markdown",
   "metadata": {},
   "source": [
    "** Before we move on, let's do some word-counting via Python dictionary to get a sense of Mapreducing. **"
   ]
  },
  {
   "cell_type": "code",
   "execution_count": 82,
   "metadata": {
    "scrolled": false
   },
   "outputs": [
    {
     "name": "stdout",
     "output_type": "stream",
     "text": [
      "{'Hi': 1, 'there': 1, 'My': 1, 'name': 1, 'is': 1, 'Uidam': 1}\n"
     ]
    }
   ],
   "source": [
    "import string\n",
    "\n",
    "def word_count(sentence) :\n",
    "    word_counts = {}\n",
    "    \n",
    "    data = sentence.split(\" \")\n",
    "\n",
    "    for word in data :\n",
    "        key = ''\n",
    "        for i in word :\n",
    "            for char in i :\n",
    "                if char not in string.punctuation :\n",
    "                    key += char\n",
    "        if key in word_counts.keys() :\n",
    "            word_counts[key] +=1\n",
    "        else :\n",
    "            word_counts[key] = 1\n",
    "    print (word_counts)\n",
    "\n",
    "    \n",
    "\n",
    "sentence = \"Hi, there. My name is Uidam.\"\n",
    "word_count(sentence)"
   ]
  },
  {
   "cell_type": "markdown",
   "metadata": {},
   "source": [
    "<br>\n",
    "** If the text was really really large, this script would take extremely long time.\n",
    "In this case, it makes sense to employ MapReduce **\n",
    "\n",
    "### 1. Mapper\n",
    "\n",
    "Recall that a mapper takes in a document. In this case, a collection of words that appear in a book and return various intermediate key value pairs. \n",
    "\n"
   ]
  },
  {
   "cell_type": "code",
   "execution_count": 84,
   "metadata": {},
   "outputs": [
    {
     "name": "stdout",
     "output_type": "stream",
     "text": [
      "hi\t1\n",
      "there\t1\n",
      "my\t1\n",
      "name\t1\n",
      "is\t1\n",
      "uidam\t1\n",
      "uidam\t1\n",
      "is\t1\n",
      "my\t1\n",
      "name\t1\n"
     ]
    }
   ],
   "source": [
    "import sys\n",
    "list = []\n",
    "def word_count(sentence) :\n",
    "    word_counts = {}\n",
    "    \n",
    "    data = sentence.split(\" \")\n",
    "\n",
    "    for word in data :\n",
    "        key = ''\n",
    "        # clean the data\n",
    "        for i in word :\n",
    "            for char in i :\n",
    "                if char not in string.punctuation :\n",
    "                    key += char\n",
    "        key = key.lower()\n",
    "        if key in word_counts.keys() :\n",
    "            word_counts[key] +=1\n",
    "        else :\n",
    "            word_counts[key] = 1\n",
    "        \n",
    "        #emit a key-value pair\n",
    "        \n",
    "        print(\"{0}\\t{1}\".format(key, 1))\n",
    "        list.append(\"{0}\\t{1}\".format(key,1))\n",
    "    \n",
    "  \n",
    "\n",
    "sentence = \"Hi, there. My name is Uidam. Uidam is My name\"\n",
    "word_count(sentence)"
   ]
  },
  {
   "cell_type": "markdown",
   "metadata": {},
   "source": [
    "### 2. Reducer\n",
    "\n",
    "These key value pairs will be shuffled tn ensure that every key value pair with the same key ends up on the same reducer. \n",
    "\n",
    "And each reducer will perform some operation on particular key. "
   ]
  },
  {
   "cell_type": "code",
   "execution_count": 98,
   "metadata": {
    "scrolled": true
   },
   "outputs": [
    {
     "name": "stdout",
     "output_type": "stream",
     "text": [
      "hi\t1.0\n",
      "is\t2.0\n",
      "my\t2.0\n",
      "name\t2.0\n",
      "there\t1.0\n",
      "uidam\t2.0\n"
     ]
    }
   ],
   "source": [
    "import sys\n",
    "list.sort()\n",
    "def reducer() :\n",
    "    word_count = 0\n",
    "    old_key = None\n",
    "    \n",
    "    for line in list:\n",
    "        data = line.split(\"\\t\")\n",
    "        \n",
    "        if len(data) != 2 :\n",
    "            continue\n",
    "        \n",
    "        this_key, count = data\n",
    "        \n",
    "        if old_key and old_key != this_key :\n",
    "            print(\"{0}\\t{1}\".format(old_key, word_count))\n",
    "            word_count = 0\n",
    "            \n",
    "        old_key = this_key\n",
    "        word_count += float(count)\n",
    "        \n",
    "    if old_key != None :\n",
    "        print(\"{0}\\t{1}\".format(old_key, word_count))\n",
    "            \n",
    "reducer()"
   ]
  },
  {
   "cell_type": "markdown",
   "metadata": {},
   "source": [
    "\n",
    "### 3. More complext MapReduce\n",
    "\n",
    "A very common open source implementation of MapReducemodel is **HADOOP**.\n",
    "\n",
    "In order to more easily allow programmers to complete complicated tasks using the processing power of **HADOOP**, there are lots of infras.\n",
    "\n",
    "Two of the most common are ***Hive and Pig.*** \n",
    "\n",
    "**1. Hive**\n",
    "- dev by Facebook\n",
    "- MapReduce job through a SQL-like querying language.\n",
    "- Hive Query Language\n",
    "\n",
    "**2. Pig** : \n",
    "- dev by Yahoo!, excel in some area\n",
    "- Procedural language called pig Latin\n",
    "- More explicit about the execution of your data processing.\n",
    "\n",
    "** Bunch of other products out there : ** \n",
    "- **Mahout** for machine learning, \n",
    "- **Giraph** for graph analysis, and \n",
    "- **Cassandra**, a hybrid of a key value and a column oriented database.\n"
   ]
  }
 ],
 "metadata": {
  "kernelspec": {
   "display_name": "Python 3",
   "language": "python",
   "name": "python3"
  },
  "language_info": {
   "codemirror_mode": {
    "name": "ipython",
    "version": 3
   },
   "file_extension": ".py",
   "mimetype": "text/x-python",
   "name": "python",
   "nbconvert_exporter": "python",
   "pygments_lexer": "ipython3",
   "version": "3.6.3"
  }
 },
 "nbformat": 4,
 "nbformat_minor": 2
}
