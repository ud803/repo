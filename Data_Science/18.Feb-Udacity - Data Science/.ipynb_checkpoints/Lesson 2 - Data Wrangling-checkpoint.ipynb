{
 "cells": [
  {
   "cell_type": "markdown",
   "metadata": {},
   "source": [
    "Data Wrangling is the art of dealing with, and coverting missing or il-formatted data into a format that more easily lends itself to analysis. \n",
    "\n",
    "Before that, we have to get the data we need from files, databases, or from APIs."
   ]
  },
  {
   "cell_type": "markdown",
   "metadata": {},
   "source": [
    "On average, over 50% of time is spent combing through the data.\n"
   ]
  },
  {
   "cell_type": "markdown",
   "metadata": {},
   "source": [
    "## 1. Acquring Data\n",
    "- Acquiring data often isn't fancy.\n",
    "- Find stuff on the Internet!\n",
    "- A lot of data stored in text files and on gov't websites."
   ]
  },
  {
   "cell_type": "markdown",
   "metadata": {},
   "source": [
    "### Common Data Formats\n",
    "1. CSV (Comma Separated Value)\n",
    "    \n",
    "    Header1, Header2, ...\n",
    "    \n",
    "    Content1, Content2, ...\n",
    "\n",
    "2. XML \n",
    "    <Document Element>\n",
    "        <Table>\n",
    "            <Head1> Content </Head1>\n",
    "            <Head2> Content2 </Head2>\n",
    "            <Head3/>\n",
    "3. JSON\n",
    "    \n",
    "    {\n",
    "        \"Head 1\" : 1,\n",
    "        \"Head 2\" : \"Content2\"\n",
    "        \"Head 3\" : \" \",\n",
    "    }\n",
    "    \n",
    " \n",
    "XML and JSON support nested structures while CSV does not."
   ]
  },
  {
   "cell_type": "markdown",
   "metadata": {},
   "source": [
    "### 1) CSV Data"
   ]
  },
  {
   "cell_type": "code",
   "execution_count": 11,
   "metadata": {},
   "outputs": [
    {
     "data": {
      "text/html": [
       "<div>\n",
       "<style>\n",
       "    .dataframe thead tr:only-child th {\n",
       "        text-align: right;\n",
       "    }\n",
       "\n",
       "    .dataframe thead th {\n",
       "        text-align: left;\n",
       "    }\n",
       "\n",
       "    .dataframe tbody tr th {\n",
       "        vertical-align: top;\n",
       "    }\n",
       "</style>\n",
       "<table border=\"1\" class=\"dataframe\">\n",
       "  <thead>\n",
       "    <tr style=\"text-align: right;\">\n",
       "      <th></th>\n",
       "      <th>age</th>\n",
       "      <th>agegroup</th>\n",
       "      <th>height</th>\n",
       "      <th>status</th>\n",
       "      <th>yearsmarried</th>\n",
       "    </tr>\n",
       "  </thead>\n",
       "  <tbody>\n",
       "    <tr>\n",
       "      <th>0</th>\n",
       "      <td>21</td>\n",
       "      <td>adult</td>\n",
       "      <td>6.0</td>\n",
       "      <td>single</td>\n",
       "      <td>1</td>\n",
       "    </tr>\n",
       "    <tr>\n",
       "      <th>1</th>\n",
       "      <td>2</td>\n",
       "      <td>child</td>\n",
       "      <td>3.0</td>\n",
       "      <td>married</td>\n",
       "      <td>0</td>\n",
       "    </tr>\n",
       "    <tr>\n",
       "      <th>2</th>\n",
       "      <td>18</td>\n",
       "      <td>adult</td>\n",
       "      <td>5.7</td>\n",
       "      <td>married</td>\n",
       "      <td>20</td>\n",
       "    </tr>\n",
       "    <tr>\n",
       "      <th>3</th>\n",
       "      <td>221</td>\n",
       "      <td>elderly</td>\n",
       "      <td>5.0</td>\n",
       "      <td>widowed</td>\n",
       "      <td>2</td>\n",
       "    </tr>\n",
       "    <tr>\n",
       "      <th>4</th>\n",
       "      <td>34</td>\n",
       "      <td>child</td>\n",
       "      <td>7.0</td>\n",
       "      <td>married</td>\n",
       "      <td>3</td>\n",
       "    </tr>\n",
       "  </tbody>\n",
       "</table>\n",
       "</div>"
      ],
      "text/plain": [
       "   age agegroup  height   status  yearsmarried\n",
       "0   21    adult     6.0   single             1\n",
       "1    2    child     3.0  married             0\n",
       "2   18    adult     5.7  married            20\n",
       "3  221  elderly     5.0  widowed             2\n",
       "4   34    child     7.0  married             3"
      ]
     },
     "execution_count": 11,
     "metadata": {},
     "output_type": "execute_result"
    }
   ],
   "source": [
    "import pandas as pd\n",
    "\n",
    "# Importing CSV file\n",
    "csv_data = pd.read_csv(\"inconsistency.csv\")\n",
    "csv_data"
   ]
  },
  {
   "cell_type": "code",
   "execution_count": 6,
   "metadata": {},
   "outputs": [
    {
     "name": "stdout",
     "output_type": "stream",
     "text": [
      "0      adult\n",
      "1      child\n",
      "2      adult\n",
      "3    elderly\n",
      "4      child\n",
      "Name: agegroup, dtype: object\n",
      "   age agegroup  height   status  yearsmarried  new_col\n",
      "0   21    adult     6.0   single             1      6.0\n",
      "1    2    child     3.0  married             0      0.0\n",
      "2   18    adult     5.7  married            20    114.0\n",
      "3  221  elderly     5.0  widowed             2     10.0\n",
      "4   34    child     7.0  married             3     21.0\n"
     ]
    }
   ],
   "source": [
    "print(csv_data['agegroup'])\n",
    "\n",
    "csv_data['new_col'] = csv_data['height'] * csv_data['yearsmarried']\n",
    "print(csv_data)"
   ]
  },
  {
   "cell_type": "code",
   "execution_count": 15,
   "metadata": {
    "collapsed": true
   },
   "outputs": [],
   "source": [
    "# Exporting DataFrame to CSV\n",
    "csv_data.to_csv(\"NewCSVfile.csv\")"
   ]
  },
  {
   "cell_type": "code",
   "execution_count": 16,
   "metadata": {},
   "outputs": [
    {
     "data": {
      "text/html": [
       "<div>\n",
       "<style>\n",
       "    .dataframe thead tr:only-child th {\n",
       "        text-align: right;\n",
       "    }\n",
       "\n",
       "    .dataframe thead th {\n",
       "        text-align: left;\n",
       "    }\n",
       "\n",
       "    .dataframe tbody tr th {\n",
       "        vertical-align: top;\n",
       "    }\n",
       "</style>\n",
       "<table border=\"1\" class=\"dataframe\">\n",
       "  <thead>\n",
       "    <tr style=\"text-align: right;\">\n",
       "      <th></th>\n",
       "      <th>Unnamed: 0</th>\n",
       "      <th>age</th>\n",
       "      <th>agegroup</th>\n",
       "      <th>height</th>\n",
       "      <th>status</th>\n",
       "      <th>yearsmarried</th>\n",
       "    </tr>\n",
       "  </thead>\n",
       "  <tbody>\n",
       "    <tr>\n",
       "      <th>0</th>\n",
       "      <td>0</td>\n",
       "      <td>21</td>\n",
       "      <td>adult</td>\n",
       "      <td>6.0</td>\n",
       "      <td>single</td>\n",
       "      <td>1</td>\n",
       "    </tr>\n",
       "    <tr>\n",
       "      <th>1</th>\n",
       "      <td>1</td>\n",
       "      <td>2</td>\n",
       "      <td>child</td>\n",
       "      <td>3.0</td>\n",
       "      <td>married</td>\n",
       "      <td>0</td>\n",
       "    </tr>\n",
       "    <tr>\n",
       "      <th>2</th>\n",
       "      <td>2</td>\n",
       "      <td>18</td>\n",
       "      <td>adult</td>\n",
       "      <td>5.7</td>\n",
       "      <td>married</td>\n",
       "      <td>20</td>\n",
       "    </tr>\n",
       "    <tr>\n",
       "      <th>3</th>\n",
       "      <td>3</td>\n",
       "      <td>221</td>\n",
       "      <td>elderly</td>\n",
       "      <td>5.0</td>\n",
       "      <td>widowed</td>\n",
       "      <td>2</td>\n",
       "    </tr>\n",
       "    <tr>\n",
       "      <th>4</th>\n",
       "      <td>4</td>\n",
       "      <td>34</td>\n",
       "      <td>child</td>\n",
       "      <td>7.0</td>\n",
       "      <td>married</td>\n",
       "      <td>3</td>\n",
       "    </tr>\n",
       "  </tbody>\n",
       "</table>\n",
       "</div>"
      ],
      "text/plain": [
       "   Unnamed: 0  age agegroup  height   status  yearsmarried\n",
       "0           0   21    adult     6.0   single             1\n",
       "1           1    2    child     3.0  married             0\n",
       "2           2   18    adult     5.7  married            20\n",
       "3           3  221  elderly     5.0  widowed             2\n",
       "4           4   34    child     7.0  married             3"
      ]
     },
     "execution_count": 16,
     "metadata": {},
     "output_type": "execute_result"
    }
   ],
   "source": [
    "pd.read_csv(\"NewCSVfile.csv\")"
   ]
  },
  {
   "cell_type": "code",
   "execution_count": 18,
   "metadata": {},
   "outputs": [],
   "source": [
    "# Replacing spaces with underscores, setting all chars to lowercase\n",
    "\n",
    "csv_data.rename(columns = lambda x : x.replace(' ', '_').lower(), inplace=True)"
   ]
  },
  {
   "cell_type": "markdown",
   "metadata": {},
   "source": [
    "### 2) Relational Database\n",
    "\n",
    "Why the Relational Database?\n",
    "\n",
    "It is straightforward to extract aggregated data with complext filters.\n",
    "\n",
    "A database scales well.\n",
    "\n",
    "It ensures all data is consistently formatted."
   ]
  },
  {
   "cell_type": "markdown",
   "metadata": {},
   "source": [
    "### Schema\n",
    "\n",
    "Schema is a blueprint that tells the database how we plan and store our data."
   ]
  },
  {
   "cell_type": "markdown",
   "metadata": {},
   "source": [
    "### Simple Queries (SQL like queries)\n",
    "\n",
    "SELECT * from aadhaar_data\n",
    "LIMIT 20;\n",
    "\n",
    "SELECT district, subdistrinct from aadhaard_data;"
   ]
  },
  {
   "cell_type": "code",
   "execution_count": null,
   "metadata": {},
   "outputs": [],
   "source": [
    "# From pandas, using SQL-like queries\n",
    "import pandas\n",
    "import pandasql\n",
    "\n",
    "def select_first_50(filename) :\n",
    "    aadhaard_data = pandas.read_csv(filename)\n",
    "    addhaard_data.rename(columns = lambda x : x.replace(' ', '_').lower(), inplace=True)\n",
    "    \n",
    "    queries = \"\"\" select registrar, enrolment_agency from aadhaard_data limit 50; \"\"\"\n",
    "    \n",
    "    aadhaard_solution = pandasql.sqldf(queries.lower(), locals())\n",
    "    return aadhaard_solution\n",
    "\n",
    "select_first_50(\"https://s3.amazonaws.com/content.udacity-data.com/courses/ud359/aadhaar_data.csv\")\n",
    "\n",
    "\n",
    "## pandasql이 없기 때문에 결과는 없지만 위처럼 Query를 python에서도 실행할 수 있다는 점!"
   ]
  },
  {
   "cell_type": "markdown",
   "metadata": {},
   "source": [
    "### Complex Queries\n",
    "\n",
    "SELECT * from aadhaar_data where state='Gujarat'; \n",
    "\n",
    "SELECT district, sum(aadhaar_generated) from aadhaard_data group by district ;\n",
    "\n",
    "SELECT district, subdistrict, sum(aadhaard_generated) from aadhaard_data where age > 60 group by district, subdistrict ;"
   ]
  },
  {
   "cell_type": "code",
   "execution_count": null,
   "metadata": {
    "collapsed": true
   },
   "outputs": [],
   "source": [
    "# From pandas, using SQL-like queries\n",
    "import pandas\n",
    "import pandasql\n",
    "\n",
    "def select_first_50(filename) :\n",
    "    aadhaard_data = pandas.read_csv(filename)\n",
    "    addhaard_data.rename(columns = lambda x : x.replace(' ', '_').lower(), inplace=True)\n",
    "    \n",
    "    queries = \"\"\"select gender, district, sum(aadhaar_generated) \n",
    "                from aadhaar_data where age > 50 group by gender, district;\"\"\"\n",
    "\n",
    "    \n",
    "    aadhaard_solution = pandasql.sqldf(queries.lower(), locals())\n",
    "    return aadhaard_solution\n",
    "\n",
    "select_first_50(\"https://s3.amazonaws.com/content.udacity-data.com/courses/ud359/aadhaar_data.csv\")\n",
    "\n",
    "\n",
    "## pandasql이 없기 때문에 결과는 없지만 위처럼 Query를 python에서도 실행할 수 있다는 점!\n",
    "## group by를 해주는 기준은 반드시 Select 해야한다."
   ]
  },
  {
   "cell_type": "markdown",
   "metadata": {},
   "source": [
    " \n",
    " "
   ]
  },
  {
   "cell_type": "markdown",
   "metadata": {},
   "source": [
    "### 3) APIs\n",
    "\n",
    "APIs (Application Programming Interface)\n",
    "\n",
    "- REST API (Representational State Transfer)"
   ]
  },
  {
   "cell_type": "markdown",
   "metadata": {},
   "source": [
    "Interacting with on API\n",
    "\n",
    "http://ws.audioscrabbler.com/2.0/?method=album.getinfo&api_key=[API_KEY]&artist=Rihanna&album=Loud&format=json\n",
    "\n",
    "위에서 ? 이후의 주소는 API parameter를 정의하는 것이다."
   ]
  },
  {
   "cell_type": "code",
   "execution_count": null,
   "metadata": {},
   "outputs": [],
   "source": [
    "import json\n",
    "import requests\n",
    "\n",
    "url = \"url\"\n",
    "data = requests.get(url).text\n",
    "data = json.loads(data)   #json 데이터를 Python dict으로 바꿈\n",
    "print(data['topartists']['artist'][0]['name']\n",
    "data['artist']"
   ]
  },
  {
   "cell_type": "markdown",
   "metadata": {},
   "source": [
    " \n",
    " "
   ]
  },
  {
   "cell_type": "markdown",
   "metadata": {},
   "source": [
    "## 2. Cleansing Data\n",
    "\n",
    "* Does the data make sense?\n",
    "\n",
    "* Is there a problem?\n",
    "\n",
    "* Does the data look like I expect it to?"
   ]
  },
  {
   "cell_type": "code",
   "execution_count": null,
   "metadata": {},
   "outputs": [],
   "source": [
    "import pandas\n",
    "baseball = pandas.read_csv(\"pathname\")\n",
    "baseball.describe()\n",
    "\n",
    "# pandas의 describe을 통해 전체 그림을 살펴볼 수 있다."
   ]
  }
 ],
 "metadata": {
  "kernelspec": {
   "display_name": "Python 3",
   "language": "python",
   "name": "python3"
  },
  "language_info": {
   "codemirror_mode": {
    "name": "ipython",
    "version": 3
   },
   "file_extension": ".py",
   "mimetype": "text/x-python",
   "name": "python",
   "nbconvert_exporter": "python",
   "pygments_lexer": "ipython3",
   "version": "3.6.3"
  }
 },
 "nbformat": 4,
 "nbformat_minor": 2
}
