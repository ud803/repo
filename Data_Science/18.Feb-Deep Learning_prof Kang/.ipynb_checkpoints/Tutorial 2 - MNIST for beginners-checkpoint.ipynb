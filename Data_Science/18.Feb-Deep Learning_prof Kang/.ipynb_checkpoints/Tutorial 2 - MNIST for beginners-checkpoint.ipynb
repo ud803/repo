{
 "cells": [
  {
   "cell_type": "markdown",
   "metadata": {},
   "source": [
    "# MNIST?\n",
    "\n",
    "Just like the first thing you do when learniing a programmiing is print \"Hello World\", machine learning has MNIST.\n",
    "\n",
    "MNIST is a simple computer vision dataset. It consists of images of handwritten digits. from 0 to 9.\n",
    "\n",
    "In this tutorial, we're going to train a model to look at images and predict what digits they are.\n",
    "\n",
    "This tutorial is an explanation of 'mnist_softmax.py' code.\n",
    "\n",
    "The actual code for this tutorial is very short, and all the interesting stuff happens in just three lines.\n",
    "\n",
    "However, it is very important to understand the ideas behind it : <Br>\n",
    "\n",
    "**How TensorFlow works <br>What the ML concepts are.**\n"
   ]
  },
  {
   "cell_type": "markdown",
   "metadata": {},
   "source": [
    "### 0. Objectives\n",
    "- Learn MNIS tdata and softmax regressions\n",
    "- Create a function for recognizing digits based on every pixel\n",
    "- Use TF to train the model\n",
    "- Check the model's accuracy with test data\n",
    "\n",
    "### 1. The MNIST Data\n"
   ]
  },
  {
   "cell_type": "code",
   "execution_count": 1,
   "metadata": {
    "scrolled": true
   },
   "outputs": [
    {
     "name": "stdout",
     "output_type": "stream",
     "text": [
      "Successfully downloaded train-images-idx3-ubyte.gz 9912422 bytes.\n",
      "Extracting MNIST_data/train-images-idx3-ubyte.gz\n",
      "Successfully downloaded train-labels-idx1-ubyte.gz 28881 bytes.\n",
      "Extracting MNIST_data/train-labels-idx1-ubyte.gz\n",
      "Successfully downloaded t10k-images-idx3-ubyte.gz 1648877 bytes.\n",
      "Extracting MNIST_data/t10k-images-idx3-ubyte.gz\n",
      "Successfully downloaded t10k-labels-idx1-ubyte.gz 4542 bytes.\n",
      "Extracting MNIST_data/t10k-labels-idx1-ubyte.gz\n"
     ]
    }
   ],
   "source": [
    "# Download and read in the data\n",
    "from tensorflow.examples.tutorials.mnist import input_data\n",
    "mnist = input_data.read_data_sets(\"MNIST_data/\", one_hot=True)"
   ]
  },
  {
   "cell_type": "markdown",
   "metadata": {},
   "source": [
    "1. MNIST Data split into three parts : \n",
    "\n",
    "    1) 55000 data points of training data (mnist.train)\n",
    "\n",
    "    2) 10000 points of test data (mnist.test)\n",
    "\n",
    "    3) 5000 points of validation data (mnist.validation) <br><br>\n",
    "\n",
    "2. Every MNIST data point has two parts :\n",
    "\n",
    "    1) x : an image of a handwritten digit\n",
    "\n",
    "    2) y : corresponding label<br><br>\n",
    "\n",
    "3. Each image is 28 pixels by 28 pixels. We can interpret this as a big array of num.\n",
    "    <br>(28*28 = 784)"
   ]
  },
  {
   "cell_type": "markdown",
   "metadata": {},
   "source": [
    "\\* The result is that **mnist.train.images** is a tensor (n-dim array) with a shape of [55000, 784].\n",
    "\n",
    "-> The first dimension is an index into the list of images\n",
    "\n",
    "-> The second dimension is the index for each pixel in each image.\n",
    "\n",
    "-> Each entry in the tensor is a pixel intensity btw 0 and 1.<br><br>"
   ]
  },
  {
   "cell_type": "markdown",
   "metadata": {},
   "source": [
    "\\* For the purpose of this tutorial, we're going to want our labels as \"one-hot vectors\".\n",
    "\n",
    "It is a vector which is 0 in most dimensions, and 1 in a single dimension.\n",
    "\n",
    "In this case, the **n-th digit will be represented as a vector which is 1 in the n-th dimension.**\n",
    "\n",
    "For ex, 3 would be [0, 0, 0, 1, ... 0]\n",
    "\n",
    "Consequently, **mnist.train.labels** is a [55000, 10] array of floats."
   ]
  },
  {
   "cell_type": "markdown",
   "metadata": {},
   "source": [
    "### 2. Softmax Regressions\n",
    "\n"
   ]
  }
 ],
 "metadata": {
  "kernelspec": {
   "display_name": "Python 3",
   "language": "python",
   "name": "python3"
  },
  "language_info": {
   "codemirror_mode": {
    "name": "ipython",
    "version": 3
   },
   "file_extension": ".py",
   "mimetype": "text/x-python",
   "name": "python",
   "nbconvert_exporter": "python",
   "pygments_lexer": "ipython3",
   "version": "3.6.3"
  }
 },
 "nbformat": 4,
 "nbformat_minor": 2
}
