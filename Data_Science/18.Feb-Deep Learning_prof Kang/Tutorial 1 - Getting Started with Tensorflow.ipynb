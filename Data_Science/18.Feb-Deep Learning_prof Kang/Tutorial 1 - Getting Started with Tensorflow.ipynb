{
 "cells": [
  {
   "cell_type": "markdown",
   "metadata": {},
   "source": [
    "### 0. Multiple APIs\n",
    "\n",
    "TensorFlow provides multiple APIs.\n",
    "1. Lowest level - TensorFlow Core \n",
    "Complete programming control.\n",
    "\n",
    "2. Higher level APIs\n",
    "- Built on top of TensorFlow Core. \n",
    "- Typically easier to learn and use than Core.\n",
    "- Make repetitive tasks easier and more consistent btw dif users.\n",
    "\n",
    "\n",
    "### 1. Tensors\n",
    "\n",
    "The central unit of data in TensorFlow is the **tensor.**\n",
    "\n",
    "A tensor consists of a set of primitive values shaped into an array of any number of dimensions.\n",
    "\n",
    "A tensor's **rank** is its number of dimensions. here are some examples of tensors :"
   ]
  },
  {
   "cell_type": "code",
   "execution_count": 18,
   "metadata": {},
   "outputs": [
    {
     "data": {
      "text/plain": [
       "[[[1.0, 2.0, 3.0]], [[7.0, 8.0, 9.0]]]"
      ]
     },
     "execution_count": 18,
     "metadata": {},
     "output_type": "execute_result"
    }
   ],
   "source": [
    "3 # a rank 0 tensor; a scalar with shape []\n",
    "\n",
    "[1., 2., 3.] # a rank 1 tensor; a vector with shape [3]\n",
    "\n",
    "[[1., 2., 3.], [4., 5., 6.]] # a rank 2 tensor; a matrix with shape [2, 3]\n",
    "\n",
    "[[[1., 2., 3.]], [[7., 8., 9.]]] # a rank 3 tensor with shape [2, 1, 3]#"
   ]
  },
  {
   "cell_type": "code",
   "execution_count": 19,
   "metadata": {
    "collapsed": true
   },
   "outputs": [],
   "source": [
    "# The canonical import statement for TensorFlow is as follows :\n",
    "\n",
    "import tensorflow as tf"
   ]
  },
  {
   "cell_type": "markdown",
   "metadata": {},
   "source": [
    "You might think of Core as consisting of two discrete sections :\n",
    "1. Building the computational graph.\n",
    "\n",
    "\n",
    "2. Running the computational graph."
   ]
  },
  {
   "cell_type": "markdown",
   "metadata": {},
   "source": [
    "### 2. Computational graph\n",
    "\n",
    "is a series of TensorFlow operations arranged into a graph of nodes.\n",
    "\n",
    "\n",
    "Let's build a simple computational graph."
   ]
  },
  {
   "cell_type": "code",
   "execution_count": 20,
   "metadata": {},
   "outputs": [
    {
     "name": "stdout",
     "output_type": "stream",
     "text": [
      "Tensor(\"Const_4:0\", shape=(), dtype=float32) Tensor(\"Const_5:0\", shape=(), dtype=float32)\n"
     ]
    }
   ],
   "source": [
    "# Each node takes zero or more tensors as inputs and produces a tensor as an output.\n",
    "\n",
    "# One type of node is a constant\n",
    "    # It takes no inputs\n",
    "    # and it outputs a value it sotres internally\n",
    "\n",
    "node1 = tf.constant(3.0, dtype=tf.float32)\n",
    "node2 = tf.constant(4.0) # also tf.float32 implicitly\n",
    "print(node1, node2)"
   ]
  },
  {
   "cell_type": "markdown",
   "metadata": {},
   "source": [
    "#### 1) Session\n",
    "Notice that printing the nodes does not output the values 3.0 and 4.0 as you might expect.\n",
    "\n",
    "Instead, they are nodes that, when evaluated, would produce 3.0 and 4.0. \n",
    "\n",
    "To actually evaluate the nodes, we must run the computational graph ***within a session.***\n",
    "\n",
    "** A session encapsulates the control and state of the TensorFlow runtime. **\n"
   ]
  },
  {
   "cell_type": "code",
   "execution_count": 21,
   "metadata": {},
   "outputs": [
    {
     "name": "stdout",
     "output_type": "stream",
     "text": [
      "[3.0, 4.0]\n"
     ]
    }
   ],
   "source": [
    "# The following code creates a session object \n",
    "# and then invokes its run method to run computational graph \n",
    "# to evaluate node1 and node 2\n",
    "\n",
    "sess = tf.Session()\n",
    "print(sess.run([node1, node2]))"
   ]
  },
  {
   "cell_type": "code",
   "execution_count": 22,
   "metadata": {},
   "outputs": [
    {
     "name": "stdout",
     "output_type": "stream",
     "text": [
      "node3: Tensor(\"Add_1:0\", shape=(), dtype=float32)\n",
      "sess.run(node3): 7.0\n"
     ]
    }
   ],
   "source": [
    "# We can build more complicated computations by combining Tensor nodes with operations.\n",
    "# For example, we can add our two constant nodes and produce a new graph as follows :\n",
    "\n",
    "from __future__ import print_function\n",
    "node3 = tf.add(node1, node2)\n",
    "print(\"node3:\", node3)\n",
    "print(\"sess.run(node3):\", sess.run(node3))"
   ]
  },
  {
   "cell_type": "markdown",
   "metadata": {},
   "source": [
    "TensorFlow provides a utility called **TensorBoard** that can display a picture of the computational graph."
   ]
  },
  {
   "cell_type": "markdown",
   "metadata": {},
   "source": [
    "#### 2) Placeholder\n",
    "As it stands, this graph is not especially interesting because it always produces a constant result. \n",
    "\n",
    "A graph can be parameterized to accept external inputs, known as **placeholders**.\n",
    "\n",
    "A placeholder is a promise to provide a value later."
   ]
  },
  {
   "cell_type": "code",
   "execution_count": 23,
   "metadata": {
    "collapsed": true
   },
   "outputs": [],
   "source": [
    "# following three lines are a bit llike a function or a lambda\n",
    "# in which we define two input parameters and do operation on them\n",
    "a = tf.placeholder(tf.float32)\n",
    "b = tf.placeholder(tf.float32)\n",
    "adder_node = a+b  # it's a shortcut for tf.add(a,b)"
   ]
  },
  {
   "cell_type": "markdown",
   "metadata": {},
   "source": [
    "We can evaluate this graph with multiple inputs by using the feed_dict arg to the run method to feed concrete values to the placeholder."
   ]
  },
  {
   "cell_type": "code",
   "execution_count": 24,
   "metadata": {
    "scrolled": false
   },
   "outputs": [
    {
     "name": "stdout",
     "output_type": "stream",
     "text": [
      "7.5\n",
      "[ 3.  7.]\n"
     ]
    }
   ],
   "source": [
    "print(sess.run(adder_node, {a: 3, b:4.5}))\n",
    "print(sess.run(adder_node, {a: [1,3], b: [2,4]}))"
   ]
  },
  {
   "cell_type": "code",
   "execution_count": 25,
   "metadata": {
    "scrolled": true
   },
   "outputs": [
    {
     "name": "stdout",
     "output_type": "stream",
     "text": [
      "22.5\n"
     ]
    }
   ],
   "source": [
    "# more complex by adding another operation\n",
    "add_and_triple = adder_node * 3.\n",
    "print(sess.run(add_and_triple, {a:3, b:4.5}))"
   ]
  },
  {
   "cell_type": "markdown",
   "metadata": {},
   "source": [
    "#### 3) Variables\n",
    "In machine learning, we will typically want a model that can take arbitrary inputs.\n",
    "\n",
    "To make the model trainable, we need to be able to modify the graph to get new outputs with the same input.\n",
    "\n",
    "**Variables** allow us to add trainable parameters to a graph."
   ]
  },
  {
   "cell_type": "code",
   "execution_count": 26,
   "metadata": {},
   "outputs": [
    {
     "data": {
      "text/plain": [
       "<tf.Tensor 'add_3:0' shape=<unknown> dtype=float32>"
      ]
     },
     "execution_count": 26,
     "metadata": {},
     "output_type": "execute_result"
    }
   ],
   "source": [
    "W = tf.Variable([.3], dtype=tf.float32)\n",
    "b = tf.Variable([-.3], dtype=tf.float32)\n",
    "x = tf.placeholder(tf.float32)\n",
    "linear_model = W*x + b\n",
    "linear_model"
   ]
  },
  {
   "cell_type": "markdown",
   "metadata": {},
   "source": [
    "Constants are initialized when you call tf.constant, and their value can never change. \n",
    "\n",
    "By contrast, variables are not initialized when you call tf.Variable. \n",
    "\n",
    "To initialize all the variables in a TensorFlow program, you must explicitly call a special operations as follows :"
   ]
  },
  {
   "cell_type": "code",
   "execution_count": 27,
   "metadata": {
    "collapsed": true
   },
   "outputs": [],
   "source": [
    "init = tf.global_variables_initializer()\n",
    "sess.run(init)"
   ]
  },
  {
   "cell_type": "markdown",
   "metadata": {},
   "source": [
    "It is important to realize init is a handle to the TensorFlow sub-graph that initializes all the global variables. \n",
    "\n",
    "Variables can be reassigned using **tf.assign**\n",
    "\n",
    "Since 'x' is a placeholder, we can evaluate 'linear_model' for several values of 'x' as follows :"
   ]
  },
  {
   "cell_type": "code",
   "execution_count": 28,
   "metadata": {
    "scrolled": true
   },
   "outputs": [
    {
     "name": "stdout",
     "output_type": "stream",
     "text": [
      "[ 0.          0.30000001  0.60000002  0.90000004]\n"
     ]
    }
   ],
   "source": [
    "print(sess.run(linear_model, {x:[1,2,3,4]}))"
   ]
  },
  {
   "cell_type": "markdown",
   "metadata": {},
   "source": [
    "We've created a model, but we don't know how good it is yet. \n",
    "\n",
    "To evaluate the model on training data, we need a 'y' placeholder to provide the desired values, and we need to write a loss function."
   ]
  },
  {
   "cell_type": "markdown",
   "metadata": {},
   "source": [
    "#### 4) Loss function\n",
    "\n",
    "A loss function measures how far apart the current model is from the provided data.\n",
    "\n",
    "We'll use a standard loss model for linear regression, which sums the squares of the deltas btw the current model and the provided data.\n",
    "\n",
    "'linear_model - y ' creates a vector where each element is the corresponding example's error delta.\n",
    "\n",
    "We call **tf.square** to square that error. Then, we sum all the sqrd errors to create a single scalar using **tf.reduce_sum**."
   ]
  },
  {
   "cell_type": "code",
   "execution_count": 29,
   "metadata": {},
   "outputs": [
    {
     "name": "stdout",
     "output_type": "stream",
     "text": [
      "23.66\n"
     ]
    }
   ],
   "source": [
    "y = tf.placeholder(tf.float32)\n",
    "squared_deltas = tf.square(linear_model - y)\n",
    "loss = tf.reduce_sum(squared_deltas)\n",
    "print(sess.run(loss, {x:[1, 2, 3, 4], y: [0, -1, -2, -3]}))"
   ]
  },
  {
   "cell_type": "markdown",
   "metadata": {},
   "source": [
    "We could improve this manually by reassigning the values of W and b to the perfect values of -1 and 1."
   ]
  },
  {
   "cell_type": "code",
   "execution_count": 32,
   "metadata": {},
   "outputs": [
    {
     "name": "stdout",
     "output_type": "stream",
     "text": [
      "0.0\n"
     ]
    }
   ],
   "source": [
    "fixW = tf.assign(W, [-1.])\n",
    "fixb = tf.assign(b, [1.])\n",
    "sess.run([fixW, fixb])\n",
    "print(sess.run(loss, {x: [1, 2, 3, 4], y : [0, -1, -2, -3]}))\n",
    "\n",
    "#Now the loss is zero."
   ]
  },
  {
   "cell_type": "markdown",
   "metadata": {},
   "source": [
    "### 3. if.train API\n",
    "\n",
    "Tensorflow provides **optimizers** that slowly change each variable in order to minimize the loss function.\n",
    "\n",
    "The simplest optimizer is **gradient descent.** \n",
    "\n",
    "Let's look at some example :"
   ]
  },
  {
   "cell_type": "code",
   "execution_count": 35,
   "metadata": {},
   "outputs": [
    {
     "name": "stdout",
     "output_type": "stream",
     "text": [
      "[array([-0.9999969], dtype=float32), array([ 0.99999082], dtype=float32)]\n"
     ]
    }
   ],
   "source": [
    "# Gradient Descent\n",
    "optimizer = tf.train.GradientDescentOptimizer(0.01)\n",
    "train = optimizer.minimize(loss)\n",
    "\n",
    "sess.run(init)  # reset values to incorrect defaults.\n",
    "for i in range(1000) :\n",
    "    sess.run(train, {x: [1, 2, 3, 4], y: [0, -1, -2, -3]})\n",
    "\n",
    "print(sess.run([W, b]))\n",
    "\n",
    "# results is the final parameter values (W and b)"
   ]
  },
  {
   "cell_type": "markdown",
   "metadata": {},
   "source": [
    "# 아래 부분 아직 안했음"
   ]
  }
 ],
 "metadata": {
  "kernelspec": {
   "display_name": "Python 3",
   "language": "python",
   "name": "python3"
  },
  "language_info": {
   "codemirror_mode": {
    "name": "ipython",
    "version": 3
   },
   "file_extension": ".py",
   "mimetype": "text/x-python",
   "name": "python",
   "nbconvert_exporter": "python",
   "pygments_lexer": "ipython3",
   "version": "3.6.3"
  }
 },
 "nbformat": 4,
 "nbformat_minor": 2
}
