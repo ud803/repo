{
 "cells": [
  {
   "cell_type": "markdown",
   "metadata": {},
   "source": [
    "# 6장. 결정 트리\n",
    "\n",
    "SVM처럼 **결정 트리 Decision Tree**는 분류와 회귀 작업 그리고 다중출력 작업도 가능한 다재다능한 ML 알고리즘이다. 또한 매우 복잡한 데이터셋도 학습할 수 있는 강력함도 가지고 있다.\n",
    "\n",
    "결정 트리는 최근에 자주 사용되는 가장 강력한 ML 알고리즘 중 하나인 랜덤 포레스트의 기본 구성 요소이기도 하다.\n",
    "\n",
    "이 장에서는 결정 트리의 훈련, 시각화, 예측 방법에 대해 알아보고, CART 훈련 알고리즘과 트리에 규제를 가하는 방법, 회귀 문제에 적용하는 방법을 배우도록 한다.\n",
    "\n",
    "# 1. 결정 트리 학습과 시각화\n",
    "\n",
    "일단 하나의 예시를 만들어보자."
   ]
  },
  {
   "cell_type": "code",
   "execution_count": 26,
   "metadata": {},
   "outputs": [
    {
     "data": {
      "text/plain": [
       "DecisionTreeClassifier(ccp_alpha=0.0, class_weight=None, criterion='gini',\n",
       "                       max_depth=2, max_features=None, max_leaf_nodes=None,\n",
       "                       min_impurity_decrease=0.0, min_impurity_split=None,\n",
       "                       min_samples_leaf=1, min_samples_split=2,\n",
       "                       min_weight_fraction_leaf=0.0, presort='deprecated',\n",
       "                       random_state=None, splitter='best')"
      ]
     },
     "execution_count": 26,
     "metadata": {},
     "output_type": "execute_result"
    }
   ],
   "source": [
    "from sklearn.datasets import load_iris\n",
    "from sklearn.tree import DecisionTreeClassifier\n",
    "\n",
    "iris = load_iris()\n",
    "X = iris.data[:, 2:]\n",
    "y = iris.target\n",
    "\n",
    "tree_clf = DecisionTreeClassifier(max_depth=2)\n",
    "tree_clf.fit(X, y)"
   ]
  },
  {
   "cell_type": "code",
   "execution_count": 27,
   "metadata": {},
   "outputs": [],
   "source": [
    "from sklearn.tree import export_graphviz\n",
    "\n",
    "export_graphviz(\n",
    "    tree_clf,\n",
    "    out_file=\"models/iris_tree.dot\",\n",
    "    feature_names=iris.feature_names[2:],\n",
    "    class_names=iris.target_names,\n",
    "    rounded=True,\n",
    "    filled=True\n",
    ")"
   ]
  },
  {
   "cell_type": "code",
   "execution_count": 28,
   "metadata": {},
   "outputs": [],
   "source": [
    "!dot -Tpng models/iris_tree.dot -o models/iris_tree.png"
   ]
  },
  {
   "cell_type": "markdown",
   "metadata": {},
   "source": [
    "![iris_tree](models/iris_tree.png)"
   ]
  },
  {
   "cell_type": "markdown",
   "metadata": {},
   "source": [
    "# 2. 예측하기\n",
    "\n",
    "이제 위 트리를 통해 어떻게 예측을 만들어내는지 살펴보자. \n",
    "\n",
    "먼저 **루트 노드 Root Node** (깊이가 0인 맨 꼭대기의 노드)에서 시작한다. 이 노드는 꽃잎의 너비가 0.8cm보다 짧은지 검사한다.\n",
    "\n",
    "만약 그럴 경우 (True) 왼쪽 자식 노드로 이동하고, 이 경우 이 노드가 **리프 노드 Leaf Node** (자식 노드를 가지지 않은 노드) 이므로 추가적인 검사를 하지 않는다.\n",
    "\n",
    "여기서는 `class=setosa` 이므로 새로 발견한 꽃의 품종을 setosa로 예측한다.\n",
    "\n",
    "이번에는 꽃잎의 너비가 1.75보다 작은 경우, 즉 0.8에서 1.75 사이인 경우를 살펴본다.\n",
    "\n",
    "위 경우가 참일 경우, 이 꽃은 versicolor가 되고, 그렇지 않으면 virginica 가 된다.\n",
    "\n",
    "---\n",
    "\n",
    "**Tip.** 결정 트리의 여러 장점 중 하나는 데이터 전처리가 거의 필요하지 않다는 점이다. \n",
    "\n",
    "특히 특성의 스케일을 맞추거나 평균을 원점에 맞추는 작업이 필요없다.\n",
    "\n",
    "---\n",
    "\n",
    "노드에 있는 `sample` 속성은 얼마나 많은 훈련 샘플이 적용되었는지 센 것이다. 즉, 상위 조건에 해당하는 샘플이 몇 개인지를 나타낸다. \n",
    "\n",
    "`value` 속성은 노드에서 각 클래스에 얼마나 많은 훈련 샘플이 있는지 알려준다. 오른쪽 아래 노드는 [0, 1, 45]의 값으로, setosa ~ virginica가 각각 0, 1, 45개 있다는 것을 의미한다.\n",
    "\n",
    "마지막으로 노드의 `gini` 속성은 **불순도 Impurity**를 측정한다. 한 노드의 모든 샘플이 같은 클래스에 속해 있다면 이 노드를 순수하다 (gini=0) 라고 한다.\n",
    "\n",
    "지니 불순도는 아래와 같은 식으로 계산한다.\n",
    "\n",
    "$$ G_i = 1 - \\sum_{k=1}^n{p_{i,k}}^2 $$\n",
    "\n",
    "*$p_{i,k}$는 i번째 노드에 있는 훈련 샘플 중 클래스 k에 속한 샘플의 비율이다.*\n",
    "\n",
    "<br>\n",
    "\n",
    "---\n",
    "\n",
    "**Tip.** 사이킷런은 **이진 트리**만 만드는 CART(Classification And Regression Trees) 알고리즘을 사용한다. \n",
    "\n",
    "그러므로 리프 노드 외의 모든 노드는 자식 노드를 두 개씩 가진다. (즉, 질문의 답은 예, 아니오이다.) \n",
    "\n",
    "하지만 ID3 같은 알고리즘은 둘 이상의 자식 노드를 가진 결정 트리를 만들 수 있다.\n",
    "\n",
    "---\n",
    "\n"
   ]
  },
  {
   "cell_type": "code",
   "execution_count": 31,
   "metadata": {},
   "outputs": [
    {
     "data": {
      "image/png": "[encoded data removed]",
      "text/plain": [
       "<Figure size 720x360 with 1 Axes>"
      ]
     },
     "metadata": {
      "needs_background": "light"
     },
     "output_type": "display_data"
    }
   ],
   "source": [
    "import matplotlib.pyplot as plt\n",
    "import numpy as np\n",
    "\n",
    "plt.figure(figsize=(10, 5))\n",
    "plt.axis([0, 7.5, 0, 3.0])\n",
    "\n",
    "plt.plot(X[y==0, 0], X[y==0, 1], 'gs', label=iris.target_names[0])\n",
    "plt.plot(X[y==1, 0], X[y==1, 1], 'bo', label=iris.target_names[1])\n",
    "plt.plot(X[y==2, 0], X[y==2, 1], 'r^', label=iris.target_names[2])\n",
    "x1s = np.linspace(0, 7.5, 100)\n",
    "x2s = np.linspace(0, 3.0, 100)\n",
    "x1, x2 = np.meshgrid(x1s, x2s)\n",
    "X_new = np.c_[x1.ravel(), x2.ravel()]\n",
    "y_pred = tree_clf.predict(X_new).reshape(x1.shape)\n",
    "contour = plt.contourf(x1, x2, y_pred, alpha=0.3)\n",
    "plt.legend()\n",
    "plt.clabel(contour)\n",
    "plt.show()"
   ]
  },
  {
   "cell_type": "markdown",
   "metadata": {},
   "source": [
    "<br>\n",
    "\n",
    "---\n",
    "\n",
    "**Tip. 모델 해석 : 화이트박스와 블랙박스 **\n",
    "\n",
    "결정 트리는 위에서 볼 수 있듯 매우 직관적이고 결정 방식을 이해하기 쉽다. 이런 모델을 **화이트 박스 White Box** 모델이라고 한다.\n",
    "\n",
    "반대로 앞으로 배울 랜덤 포레스트나 신경망은 **블랙 박스 Black Box** 모델이다. 이 알고리즘들은 성능이 뛰어나지만 왜 그런 예측을 만드는 지는 쉽게 설명하기 어렵다.\n",
    "\n",
    "반명에 결정 트리는 피룡하다면 수동으로 직접 따라 해볼 수도 있는 간단하고 명확한 분류 방법을 사용한다.\n",
    "\n",
    "---\n",
    "\n"
   ]
  },
  {
   "cell_type": "markdown",
   "metadata": {},
   "source": [
    "# 3. 클래스 확률 추정\n",
    "\n",
    "결정 트리는 한 샘플이 특정 클래스 k에 속할 확률을 추정할 수 있다.\n",
    "\n",
    "먼저 샘플에 대해 리프 노드를 찾기 위해 트리를 탐색하고, 그 노드에 있는 클래스 k의 훈련 샘플의 비율을 반환한다."
   ]
  },
  {
   "cell_type": "code",
   "execution_count": 32,
   "metadata": {},
   "outputs": [
    {
     "data": {
      "text/plain": [
       "array([[0.        , 0.90740741, 0.09259259]])"
      ]
     },
     "execution_count": 32,
     "metadata": {},
     "output_type": "execute_result"
    }
   ],
   "source": [
    "tree_clf.predict_proba([[5, 1.5]])"
   ]
  },
  {
   "cell_type": "code",
   "execution_count": 34,
   "metadata": {},
   "outputs": [
    {
     "data": {
      "text/plain": [
       "array([1])"
      ]
     },
     "execution_count": 34,
     "metadata": {},
     "output_type": "execute_result"
    }
   ],
   "source": [
    "tree_clf.predict([[5, 1.5]])"
   ]
  },
  {
   "cell_type": "markdown",
   "metadata": {},
   "source": [
    "# 4. CART 훈련 알고리즘\n",
    "\n",
    "사이킷런은 결정 트리를 훈련시키기 위해 CART 알고리즘을 사용한다. 이 알고리즘의 아이디어는 매우 간단한데, 훈련 세트를 하나의 특성 k의 임곗값 $t_k$를 사용해 두 개의 서브셋으로 나눈다. \n",
    "\n",
    "여기서 $k$와 $t_k$는 크기에 따라 가중치가 적용된 가장 순수한 서브셋으로 나눌 수 있는 $(k, t_k)$ 짝을 찾는다. 따라서 이 알고리즘이 최소화해야 하는 비용 함수는 아래와 같다.\n",
    "\n",
    "G는 gini 불순도, m은 샘플 수를 의미한다. left, right은 어느 서브셋인지를 가리킨다.\n",
    "\n",
    "$$ J(k, t_k) = \\frac{m_{left}}{m}G_{left} + \\frac{m_{right}}{m}G_{right} $$\n",
    "\n",
    "훈련 세트를 성공적으로 둘로 나누었다면 같은 방식으로 서브셋을 또 나누는 행위를 반복한다. 이 과정은 최대 깊이가 되면 중지하거나 불순도를 줄이는 분할을 찾을 수 없을 때 멈추게 된다.\n",
    "\n",
    "<br>\n",
    "\n",
    "---\n",
    "\n",
    "**Caution.** 여기에서 볼 수 있듯이 CART 알고리즘은 **탐욕적 알고리즘 Greedy Algorithm** 이다. \n",
    "\n",
    "맨 위 루트에서 최적의 분할을 찾으며 각 단계에서 이 과정을 반복한다. 현재 단계의 분할이 몇 단계를 거쳐 가장 낮은 불순도로 이어질 수 있을지 없을지는 고려하지 않는다.\n",
    "\n",
    "탐욕적 알고리즘은 납득할만한 훌륭한 솔루션을 만들어내지만 최적의 값을 보장하지는 않는다.\n",
    "\n",
    "---\n",
    "\n",
    "<br>\n",
    "\n",
    "불행하게도 최적의 트리를 찾는 것은 [**NP-Complete**](https://en.wikipedia.org/wiki/NP-completeness) 문제로 알려져 있다. $O(exp(m))$의 시간이 필요하고, 매우 작은 훈련 세트에도 적용하기 어렵다.\n",
    "\n",
    "\n",
    "# 5. 계산 복잡도\n",
    "\n",
    "예측의 경우, 결정 트리를 루트 노드에서부터 리프 노드까지 탐색해야 한다. 일반적으로 결정 트리는 거의 균형을 이루고 있으므로 결정 트리를 탐색하기 위해서는 약 $O(log_2(m))$개의 노드를 거쳐야 한다.\n",
    "\n",
    "각 노드는 하나의 특성값만 확인하기 때문에 예측에 필요한 전체 복잡도는 특성 수와 무관하게 $O(log_2(m))$개가 된다. 그래서 **큰 훈련 세트를 다룰 때도 예측 속도가** 매우 빠르다.\n",
    "\n",
    "그러나 훈련 알고리즘은 각 노드에서 모든 훈련 샘플의 모든 특성을 비교한다. 그래서 훈련 복잡도는 $O(n \\times mlog(m))$이 된다.\n",
    "\n",
    "훈련 세트가 작을 경우 (수천 개 이하 샘플 정도) 사이킷런은 `presort=True` 파라미터로 미리 데이터를 정렬하여 훈련 속도를 높일 수 있다. 하지만 훈련 세트가 클 경우 속도는 느려진다.\n",
    "\n",
    "# 6. 지니 불순도 또는 엔트로피?\n",
    "\n",
    "기본적으로 지니 불순도가 사용되지만 `criterion` 매개변수를 `entropy`로 지정하여 엔트로피 불순도를 사용할 수도 있다. 엔트로피는 분자의 무질서함을 측정하는 것으로 원래 열역학의 개념이다.\n",
    "\n",
    "분자가 안정되고 질서 정연하면 엔트로피가 0에 가깝다. 후에 메시지의 평균 정보 양을 측정하는 **섀넌의 정보 이론**도 여기에 포함된다.\n",
    "\n",
    "엔트로피를 구하는 식은 아래와 같다.\n",
    "\n",
    "$$ H_i = -\\sum_{k=1}^np_{i,k}log_2(P_{i,k})$$\n",
    "\n",
    "지니 불순도와 엔트로피 중 어느 것을 사용해야 할까? 실제로는 큰 차이가 없다. 다만 지니 불순도가 조금 더 계산이 빠르기 때문에 기본값으로 좋다.\n",
    "\n",
    "그러나 다른 트리가 만들어지는 경우 지니 불순도가 가장 빈도 높은 클래스를 한쪽 가지(branch)로 고립시키는 경향이 있는 반면 엔트로피는 조금 더 균형 잡힌 트리를 만든다.\n",
    "\n",
    "# 7. 규제 매개변수\n",
    "\n",
    "결정 트리는 훈련 데이터에 대한 제약사항이 거의 없다. (반대로 선형 모델은 데이터가 꼭 선형일 거라 가정한다.)\n",
    "\n",
    "제한을 두지 않으면 트리가 훈련 데이터에 아주 가깝게 맞추려고 해서 대부분 과대적합되기 쉽다. 결정 트리는 모델 파라미터가 전혀 없는 것이 아니라 훈련되기 전에 파라미터 수가 결정되지 않기 때문에 이런 모델을 **비파라미터 모델, Nonparametric Model**이라고 부르곤 한다.\n",
    "\n",
    "그래서 모델 구조가 데이터에 맞춰져서 고정되지 않고 자유롭다. 반대로 선형 모델 같은 **파라미터 모델 Parametric Model**은 미리 정의된 모델 파라미터 수를 가지므로 자유도가 제한되고 과대적합될 위험이 줄어든다. (하지만 과소적합의 위험은 커진다.)\n",
    "\n",
    "훈련 데이터에의 과대적합을 피하기 위해 결정 트리의 자유도를 제한할 필요가 있다. 결정 트리의 최대 깊이를 제어할 수 있는데, 사이킷런에서는 `max_depth` 매개변수를 사용한다.\n",
    "\n",
    "이 외에도 `min_samples_split`, `min_samples_leaf`, `min_weight_fraction_leaf`, `max_leaf_nodes`, `max_features` 등 다양한 매개변수들이 있다.\n",
    "\n",
    "<br>\n",
    "\n",
    "---\n",
    "\n",
    "**Note** 제한 없이 결정 트리를 훈련시키고 불필요한 노드를 **가지치기 Pruning**하는 알고리즘도 있다.\n",
    "\n",
    "순도를 높이는 것이 **통계적으로 큰 효과가 없다면** 리프 노드 바로 위의 노드는 불필요할 수 있다. 대표적으로 $\\chi^2$ 검정 같은 통계적 검정을 사용하여 우연히 향상된 것인지 추정한다.\n",
    "\n",
    "이 확률을 **p-값 (p-value)** 이라 부르며, 어떤 임곗값보다 높으면 그 노드는 불필요한 것으로 간주되고 그 자식 노드는 삭제된다.\n",
    "\n",
    "가지치기는 불필요한 노드가 모두 없어질 때까지 계속된다.\n",
    "\n",
    "---\n",
    "\n",
    "# 8. 회귀\n",
    "\n",
    "결정 트리는 회귀 문제에도 사용할 수 있다. 사이킷런의 `DeicisonTreeRegressor`를 사용하면 된다.\n",
    "\n",
    "노이즈가 섞인 2차 함수 형태의 데이터셋에서 `max_depth=2` 설정으로 회귀 트리를 만들어보자."
   ]
  },
  {
   "cell_type": "code",
   "execution_count": 35,
   "metadata": {},
   "outputs": [
    {
     "data": {
      "text/plain": [
       "DecisionTreeRegressor(ccp_alpha=0.0, criterion='mse', max_depth=2,\n",
       "                      max_features=None, max_leaf_nodes=None,\n",
       "                      min_impurity_decrease=0.0, min_impurity_split=None,\n",
       "                      min_samples_leaf=1, min_samples_split=2,\n",
       "                      min_weight_fraction_leaf=0.0, presort='deprecated',\n",
       "                      random_state=None, splitter='best')"
      ]
     },
     "execution_count": 35,
     "metadata": {},
     "output_type": "execute_result"
    }
   ],
   "source": [
    "from sklearn.tree import DecisionTreeRegressor\n",
    "\n",
    "tree_reg = DecisionTreeRegressor(max_depth=2)\n",
    "tree_reg.fit(X, y)"
   ]
  },
  {
   "cell_type": "code",
   "execution_count": 36,
   "metadata": {},
   "outputs": [],
   "source": [
    "from sklearn.tree import export_graphviz\n",
    "\n",
    "export_graphviz(\n",
    "    tree_reg,\n",
    "    out_file=\"models/iris_tree_reg.dot\",\n",
    "    feature_names=iris.feature_names[2:],\n",
    "    class_names=iris.target_names,\n",
    "    rounded=True,\n",
    "    filled=True\n",
    ")\n",
    "\n",
    "!dot -Tpng models/iris_tree_reg.dot -o models/iris_tree_reg.png"
   ]
  },
  {
   "cell_type": "markdown",
   "metadata": {},
   "source": [
    "![iris_tree](models/iris_tree_reg.png)"
   ]
  },
  {
   "cell_type": "markdown",
   "metadata": {},
   "source": [
    "앞서 만든 분류 트리와 매우 비슷해 보인다. 주요한 차이는 각 노드에서 클래스를 예측하는 대신 어떤 값을 예측한다는 점이다.\n",
    "\n",
    "예를 들어, $x_1=1.5$인 샘플의 클래스를 예측할 때, 루트 노드부터 시작해서 트리를 순회하면 결국 `value=1.093`인 리프 노드에 도달하게 된다.\n",
    "\n",
    "이 리프 노드에 있는 54개 훈련 샘플의 평균 타깃값이 예측값이 된다. 이 예측값을 사용해 54개 샘플에 대한 평균제곱오차(MSE)를 계산하면 0.084가 된다.\n",
    "\n",
    "즉, 각 영역의 예측값은 항상 그 영역에 있는 타깃값의 평균이 된다. 알고리즘은 예측값과 가능한 한 많은 샘플이 가까이 있도록 영역을 분할한다.\n",
    "\n",
    "CART 알고리즘은 훈련 세트를 불순도가 아닌 평균제곱오차(MSE)를 최소화하도록 분할하는 것을 제외하고는 앞서 설명한 것과 거의 비슷하게 작동한다.\n",
    "\n",
    "# 9. 불안정성\n",
    "\n",
    "결정 트리는 많은 장점이 있다. 이해하고 해석하기 쉬우며, 사용이 편하고, 여러 용도로 사용할 수 있으며, 성능도 뛰어나다.\n",
    "\n",
    "하지만 몇 가지 제한사항이 있다. 눈치 챘을지 모르겠지만 결정 트리는 계단 모양의 결정 경계를 만든다. (모든 분할은 축에 수직이기 때문에)\n",
    "\n",
    "그래서 훈련 세트의 회전에 민감하다. 이런 문제를 해결하는 한 가지 방법은 훈련 데이터를 더 좋은 방향으로 회전시키는 PCA 기법을 사용하는 것이다.\n",
    "\n",
    "결정 트리의 또다른 문제는 훈련 데이터에 있는 작은 변화에도 매우 민감하다는 것이다. 사이킷런에서 사용하는 훈련 알고리즘은 확률적이기 때문에, 같은 훈련 데이터에서도 다른 모델을 얻게 될 수 있다.\n",
    "\n",
    "다음 장에서 보게 될 랜덤 포레스트는 많은 트리에서 만든 예측을 평균하여 이런 불안정성을 극복할 수 있다."
   ]
  }
 ],
 "metadata": {
  "kernelspec": {
   "display_name": "Python 3",
   "language": "python",
   "name": "python3"
  },
  "language_info": {
   "codemirror_mode": {
    "name": "ipython",
    "version": 3
   },
   "file_extension": ".py",
   "mimetype": "text/x-python",
   "name": "python",
   "nbconvert_exporter": "python",
   "pygments_lexer": "ipython3",
   "version": "3.7.5"
  }
 },
 "nbformat": 4,
 "nbformat_minor": 4
}
