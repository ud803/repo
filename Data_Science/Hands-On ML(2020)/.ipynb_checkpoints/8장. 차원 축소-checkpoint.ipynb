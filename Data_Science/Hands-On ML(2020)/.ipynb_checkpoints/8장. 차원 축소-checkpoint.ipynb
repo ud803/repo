{
 "cells": [
  {
   "cell_type": "markdown",
   "metadata": {},
   "source": [
    "# 8장. 차원 축소\n",
    "\n",
    "많은 경우 머신러닝 문제는 훈련 샘플 각각이 수천 심지어 수백만 개의 특성을 가지고 있다.\n",
    "\n",
    "이는 훈련을 느리게 할 뿐 아니라 좋은 솔루션을 찾기 어렵게 만드는데, 이러한 문제를 **차원의 저주 Curse of Dimensionality**라고 한다.\n",
    "\n",
    "다행히 실전에서는 특성 수를 크게 줄여서 불가능한 문제를 가능한 범위로 변경할 수 있는 경우가 많다. MNIST를 예로 들면, 이미지 경계에 있는 픽셀은 거의 항상 흰색이므로 훈련 세트에서 이런 픽셀을 완전히 제거해도 많은 정보를 잃지는 않는다.\n",
    "\n",
    "게다가 인접한 픽셀은 종종 많이 연관되어 있기 때문에, 두 픽셀을 하나의 픽셀로 합치더라도 잃는 정보가 많지 않을 것이다.\n",
    "\n",
    "---\n",
    "\n",
    "**Caution.** 차원을 축소시키면 일부 정보가 유실된다. 그래서 훈련 속도는 빨라질 수 있지만 시스템의 성능은 나빠질 수 있다.\n",
    "\n",
    "또한 작업 파이프라인이 조금 더 복잡하게 되고 유지 관리가 어려워진다. 그러므로 차원 축소를 고려하기 전에 훈련이 너무 느린지 먼저 원본 데이터로 시스템을 훈련시켜 봐야 한다.\n",
    "\n",
    "그러나 어떠한 경우에는 훈련 데이터의 차원을 축소시키면 잡음이나 불필요한 세부사항을 걸러내므로 성능을 높일 수 있다. (일반적으로는 훈련 속도만 빨라지지만)\n",
    "\n",
    "---\n",
    "\n",
    "\n",
    "훈련 속도를 높이는 것 외에 차원 축소는 **데이터 시각화**에도 아주 유용하다. 차원 수를 둘 또는 셋으로 줄이면 고차원 훈련 세트를 하나의 그래프로 그릴 수 있고 군집 같은 시각적인 패턴을 감지해 중요한 통찰을 얻는 경우가 많다.\n",
    "\n",
    "이 장에서는 차원의 저주에 대해 논의하고 고차원 공간에서 어떤 일이 일어나는지 알아본다. 다음 차원 축소에 사용되는 두 가지 주요 접근 방법(**투영 Projection**과 **매니폴드 학습 Manifold Learning**)을 소개한다.\n",
    "\n",
    "그리고 가장 인기 있는 차원 축소 기법인 **PCA, 커널 PCA, LLE**를 다루도록 한다."
   ]
  },
  {
   "cell_type": "markdown",
   "metadata": {},
   "source": [
    "# 1. 차원의 저주\n",
    "\n",
    "고차원에서 대부분의 훈련 데이터는 희박한 상태에 있을 수 있다. 즉, 대부분의 훈련 데이터가 서로 멀리 떨어져 있다.\n",
    "\n",
    "이 경우 예측을 위해 훨씬 많은 **외삽 Extrapolation** 을 해야 하기 때문에 저차원일 때보다 예측이 더 불안정하다.\n",
    "\n",
    "간단히 말해 훈련 세트의 차원이 클수록 과대적합 위험이 커진다.\n",
    "\n",
    "이론적으로 차원의 저주를 해결하는 방법 중 하나는 훈련 샘플의 밀도가 충분히 높아질 때까지 훈련 세트의 크기를 키우는 것이다. 불행하게도 실제로는 일정 밀도에 도달하기 위해 필요한 훈련 샘플 수는 차원 수가 커짐에 따라 기하급수적으로 늘어난다.\n",
    "\n",
    "\n",
    "# 2. 차원 축소를 위한 접근 방법\n",
    "\n",
    "구체적인 차원 축소 알고리즘을 살펴보기 전에 차원을 감소시키는 두 가지 주요한 접근법인 **투영과 매니폴드 학습**을 살펴보자.\n",
    "\n",
    "## 2.1 투영\n",
    "\n",
    "대부분의 실전문제는 훈련 샘플이 모든 차원에 걸쳐 균일하게 퍼져 있지 않다.\n",
    "\n",
    "많은 특성은 거의 변화가 없는 반면, 다른 특성들은 서로 강하게 연관되어 있다. 결과적으로 모든 훈련 샘플이 사실 고차원 공간 안의 저차원 **부분 공간 Subspace**에 놓여 있다.\n",
    "\n",
    "예를 들자면, 삼차원 평면 내에서 훈련 샘플들이 하나의 2차원 평면 부분 공간에 놓여있는 경우를 상상하면 된다. 이 삼차원의 샘플들을 이 부분 공간에 수직으로 (즉, 샘플과 평면 사이의 가장 짧은 직선을 따라) 투영하면 2D 데이터셋을 얻는다.\n",
    "\n",
    "이게 바로 차원 축소이고, 3차원에서 2차원으로 줄였다!\n",
    "\n",
    "그러나 차원 축소에 있어서 투영이 언제나 최선의 방법은 아니다. 많은 경우 스위스 롤 데이터셋처럼 부분 공간이 뒤틀리거나 휘어 있기도 하다.\n",
    "\n",
    "## 2.2 매니폴드 학습\n",
    "\n",
    "스위스 롤은 2D 매니폴드의 한 예이다. 간단히 말해 2D 매니폴드는 고차원 공간에서 휘어지거나 뒤틀린 2D 모양이다.\n",
    "\n",
    "더 일반적으로 말하면, d차원 매니폴드는 국부적으로 d차원 초평면으로 보일 수 있는 n차원 공간의 일부이다. 국부적으로는 2D 평면으로 보이지만 3차원으로 말려 있다.\n",
    "\n",
    "많은 차원 축소 알고리즘이 훈련 샘플이 놓여 있는 매니폴드를 모델링하는 식으로 작동한다. 이를 **매니폴드 학습 Manifold Learning** 이라고 한다.\n",
    "\n",
    "이는 대부분 실제 고차원 데이터셋이 더 낮은 저차원 매니폴드에 더 가깝게 놓여있다는 **매니폴드 가정 Manifold Assumption** 또는 매니폴드 가설에 근거한다.\n",
    "\n",
    "MNIST를 다시 예로 들면, 전체 손글씨 숫자 이미지는 어느 정도 비슷한 면이 있다. 선으로 연결되어 있고, 경계는 흰색이며 어느 정도 중앙에 있다.\n",
    "\n",
    "무작위로 생성된 이미지라면 그중 아주 적은 일부만 손글씨 숫자처럼 보일 것이다. 다시 말해 숫자 이미지를 만들 때 가능한 자유도는 아무 이미지나 생성할 때의 자유도보다 훨씬 낮다.\n",
    "\n",
    "이런 제약은 데이터셋을 저차원의 매니폴드로 압축할 수 있도록 도와준다. 매니폴드 가정은 종종 암묵적으로 다른 가정과 병행되곤 하는데, 바로 처리해야 할 작업(예를 들면, 분류나 회귀)이 저차원의 매니폴드 공간에 표현되면 더 간단해질 것이란 가정이다.\n",
    "\n",
    "요약하면, 모델을 훈련시키기 전에 훈련 세트의 차원을 감소시키면 훈련 속도는 빨라지지만 항상 더 낫거나 간단한 솔루션이 되는 것은 아니다. 이는 전적으로 데이터셋에 달렸다.\n",
    "\n",
    "\n",
    "# 3. PCA\n",
    "\n",
    "**주성분 분석, Principal Component Analysis, PCA**은 가장 인기 있는 차원 축소 알고리즘이다. 먼저 데이터에 가장 가까운 초평면 Hyperplane을 정의한 다음, 데이터를 이 평면에 투영시킨다.\n",
    "\n",
    "## 3.1 분산 보존\n",
    "\n",
    "저차원의 초평면에 훈련 세트를 투영하기 전에 먼저 올바른 초평면을 선택해야 한다. 예를 들어, 왼쪽 그래프는 간단한 2D 데이터셋이 세 개의 축(즉, 일차원 초평면)과 함께 표현되어 있다.\n",
    "\n",
    "오른쪽 그래프는 각 축에 투영된 결과이며, 실선에 투영된 것은 분산을 최대로 보존하는 반면, 점선에 투영된 것은 분산을 매우 적게 유지하고 있다.\n",
    "\n",
    "다른 방향으로 투영하는 것보다 분산이 최대로 보존되는 축을 선택하는 것이 정보가 가장 적게 손실되므로 합리적으로 보인다.\n",
    "\n",
    "이 선택을 다른 방식으로 설명하면 원본 데이터셋과 투영된 것 사이의 평균 제곱 거리를 최소화하는 축이다. 이 방식이 PCA를 더 간단하게 설명할 수 있다."
   ]
  },
  {
   "cell_type": "code",
   "execution_count": 4,
   "metadata": {
    "jupyter": {
     "source_hidden": true
    }
   },
   "outputs": [
    {
     "data": {
      "image/png": "[encoded data removed]",
      "text/plain": [
       "<Figure size 576x288 with 4 Axes>"
      ]
     },
     "metadata": {
      "needs_background": "light"
     },
     "output_type": "display_data"
    }
   ],
   "source": [
    "import numpy as np\n",
    "import matplotlib.pyplot as plt\n",
    "\n",
    "angle = np.pi / 5\n",
    "stretch = 5\n",
    "m = 200\n",
    "\n",
    "np.random.seed(3)\n",
    "X = np.random.randn(m, 2) / 10\n",
    "X = X.dot(np.array([[stretch, 0],[0, 1]])) # stretch\n",
    "X = X.dot([[np.cos(angle), np.sin(angle)], [-np.sin(angle), np.cos(angle)]]) # rotate\n",
    "\n",
    "u1 = np.array([np.cos(angle), np.sin(angle)])\n",
    "u2 = np.array([np.cos(angle - 2 * np.pi/6), np.sin(angle - 2 * np.pi/6)])\n",
    "u3 = np.array([np.cos(angle - np.pi/2), np.sin(angle - np.pi/2)])\n",
    "\n",
    "X_proj1 = X.dot(u1.reshape(-1, 1))\n",
    "X_proj2 = X.dot(u2.reshape(-1, 1))\n",
    "X_proj3 = X.dot(u3.reshape(-1, 1))\n",
    "\n",
    "plt.figure(figsize=(8,4))\n",
    "plt.subplot2grid((3,2), (0, 0), rowspan=3)\n",
    "plt.plot([-1.4, 1.4], [-1.4*u1[1]/u1[0], 1.4*u1[1]/u1[0]], \"k-\", linewidth=1)\n",
    "plt.plot([-1.4, 1.4], [-1.4*u2[1]/u2[0], 1.4*u2[1]/u2[0]], \"k--\", linewidth=1)\n",
    "plt.plot([-1.4, 1.4], [-1.4*u3[1]/u3[0], 1.4*u3[1]/u3[0]], \"k:\", linewidth=2)\n",
    "plt.plot(X[:, 0], X[:, 1], \"bo\", alpha=0.5)\n",
    "plt.axis([-1.4, 1.4, -1.4, 1.4])\n",
    "plt.arrow(0, 0, u1[0], u1[1], head_width=0.1, linewidth=5, length_includes_head=True, head_length=0.1, fc='k', ec='k')\n",
    "plt.arrow(0, 0, u3[0], u3[1], head_width=0.1, linewidth=5, length_includes_head=True, head_length=0.1, fc='k', ec='k')\n",
    "plt.text(u1[0] + 0.1, u1[1] - 0.05, r\"$\\mathbf{c_1}$\", fontsize=22)\n",
    "plt.text(u3[0] + 0.1, u3[1], r\"$\\mathbf{c_2}$\", fontsize=22)\n",
    "plt.xlabel(\"$x_1$\", fontsize=18)\n",
    "plt.ylabel(\"$x_2$\", fontsize=18, rotation=0)\n",
    "plt.grid(True)\n",
    "\n",
    "plt.subplot2grid((3,2), (0, 1))\n",
    "plt.plot([-2, 2], [0, 0], \"k-\", linewidth=1)\n",
    "plt.plot(X_proj1[:, 0], np.zeros(m), \"bo\", alpha=0.3)\n",
    "plt.gca().get_yaxis().set_ticks([])\n",
    "plt.gca().get_xaxis().set_ticklabels([])\n",
    "plt.axis([-2, 2, -1, 1])\n",
    "plt.grid(True)\n",
    "\n",
    "plt.subplot2grid((3,2), (1, 1))\n",
    "plt.plot([-2, 2], [0, 0], \"k--\", linewidth=1)\n",
    "plt.plot(X_proj2[:, 0], np.zeros(m), \"bo\", alpha=0.3)\n",
    "plt.gca().get_yaxis().set_ticks([])\n",
    "plt.gca().get_xaxis().set_ticklabels([])\n",
    "plt.axis([-2, 2, -1, 1])\n",
    "plt.grid(True)\n",
    "\n",
    "plt.subplot2grid((3,2), (2, 1))\n",
    "plt.plot([-2, 2], [0, 0], \"k:\", linewidth=2)\n",
    "plt.plot(X_proj3[:, 0], np.zeros(m), \"bo\", alpha=0.3)\n",
    "plt.gca().get_yaxis().set_ticks([])\n",
    "plt.axis([-2, 2, -1, 1])\n",
    "plt.xlabel(\"$z_1$\", fontsize=18)\n",
    "plt.grid(True)\n",
    "\n",
    "plt.show()"
   ]
  },
  {
   "cell_type": "markdown",
   "metadata": {},
   "source": [
    "## 3.2 주성분\n",
    "\n",
    "PCA는 훈련 세트에서 분산이 최대인 축을 찾는다. 또한 첫 번째 축에 직교하고 남은 분산을 최대한 보존하는 두 번째 축을 찾는다. \n",
    "\n",
    "이 2D 예제에서는 선택의 여지 없이 점선이 그 경우가 된다. 고차원 데이터셋이라면 PCA는 이전의 두 축에 직교하는 세 번째 축을 찾으며 데이터셋에 있는 차원의 수만큼 N번째 축까지 찾게 된다.\n",
    "\n",
    "i 번째 축을 정의하는 단위 벡터를 i번째 **주성분 Principal Component, PC**라고 부른다. 위 그링메서 1번째 PC는 $c_1$이고, 2번째는 $c_2$가 된다. 그리고 세 번째 PC는 아마도 이 둘로 이루어진 평면에 수직일 것이다.\n",
    "\n",
    "---\n",
    "\n",
    "**Note.** 주성분의 방향은 일정치 않다. 훈련 세트를 조금 섞은 다음 다시 PCA를 적용하면 새로운 PC 중 일부가 원래 PC와 반대 방향일 수 있다.\n",
    "\n",
    "그러나 일반적으로 같은 축에 놓여 있을 것이다. 어떤 경우에는 한 쌍의 PC가 회전하거나 서로 바뀔 수 있지만 보통은 같은 평면을 구성한다.\n",
    "\n",
    "---\n",
    "\n",
    "그럼 훈련 세트의 주성분을 어떻게 찾을까? 다행히 **특이값 분해 SVD, Singular Value Decomposition**라는 표준 행렬 분해 기술이 있어 훈련 세트 행렬 X를 세 개 행렬의 점곱인 $U\\sum V^T$로 분해할 수 있다.\n",
    "\n",
    "여기서 찾고자 하는 모든 주성분이 V에 열벡터의 형태로써 담겨있다.\n",
    "\n",
    "다음 파이썬 코드는 넘파이의 `svd()` 함수를 사용해 훈련 세트의 모든 주성분을 구한 후 처음 두 개의 PC를 추출한다."
   ]
  },
  {
   "cell_type": "code",
   "execution_count": 7,
   "metadata": {},
   "outputs": [
    {
     "data": {
      "text/plain": [
       "(array([-0.79644131, -0.60471583]), array([-0.60471583,  0.79644131]))"
      ]
     },
     "execution_count": 7,
     "metadata": {},
     "output_type": "execute_result"
    }
   ],
   "source": [
    "X_centered = X - X.mean(axis=0)\n",
    "U, s, Vt = np.linalg.svd(X_centered)\n",
    "c1 = Vt.T[:, 0]\n",
    "c2 = Vt.T[:, 1]\n",
    "\n",
    "c1, c2"
   ]
  },
  {
   "cell_type": "markdown",
   "metadata": {},
   "source": [
    "---\n",
    "\n",
    "**Caution.** PCA는 데이터셋의 평균이 0이라고 가정한다. 앞으로 볼 사이킷런의 PCA 파이썬 클래스는 이 작업을 대신 처리해준다.\n",
    "\n",
    "앞의 코드처럼 직접 구현하거나 다른 라이브러리를 사용할 경우, 먼저 데이터를 원점에 맞추는 것을 잊지 말자.\n",
    "\n",
    "---"
   ]
  },
  {
   "cell_type": "markdown",
   "metadata": {},
   "source": [
    "## 3.3 d차원으로 투영하기\n",
    "\n",
    "주성분을 모두 추출해냈다면 처음 d개의 주성분으로 정의한 초평면에 투영하여 데이터셋의 차원을 d차원으로 축소시킬 수 있다.\n",
    "\n",
    "이 초평면은 앞서 배운대로 분산을 가능한 한 최대로 보존하는 투영임을 보장해준다. 초평면에 훈련 세트를 투영하기 위해서는 아래 식과 같이 행렬 X와 첫 d개의 주성분을 담은 행렬 $W_d$를 점곱하면 된다.\n",
    "\n",
    "$$ X_{d-proj} = XW_d $$\n",
    "\n",
    "다음 파이썬 코드는 첫 두 개의 주성분으로 정의된 평면에 훈련 세트를 투영한다."
   ]
  },
  {
   "cell_type": "code",
   "execution_count": 8,
   "metadata": {},
   "outputs": [],
   "source": [
    "W2 = Vt.T[:, :2]\n",
    "X2D = X_centered.dot(W2)"
   ]
  },
  {
   "cell_type": "markdown",
   "metadata": {},
   "source": [
    "PCA 변환이 되었다! 지금까지는 **분산을 가능한 한 최대로 유지하며** 어떻게 데이터셋의 차원을 특정 차원으로 축소하는지 보았다.\n",
    "\n",
    "## 3.4 사이킷런 사용하기\n",
    "\n",
    "사이킷런의 PCA 모델은 앞서 한 것처럼 SVD 분해 방법을 사용하여 구현한다. 다음 코드는 위와 동일한 작업을 수행한다."
   ]
  },
  {
   "cell_type": "code",
   "execution_count": 11,
   "metadata": {},
   "outputs": [],
   "source": [
    "from sklearn.decomposition import PCA\n",
    "\n",
    "pca = PCA(n_components = 2).fit(X)\n",
    "X2D_sklearn = pca.transform(X)"
   ]
  },
  {
   "cell_type": "code",
   "execution_count": 12,
   "metadata": {},
   "outputs": [
    {
     "data": {
      "text/plain": [
       "array([[-0.79644131, -0.60471583],\n",
       "       [ 0.60471583, -0.79644131]])"
      ]
     },
     "execution_count": 12,
     "metadata": {},
     "output_type": "execute_result"
    }
   ],
   "source": [
    "pca.components_"
   ]
  },
  {
   "cell_type": "markdown",
   "metadata": {},
   "source": [
    "PCA 변환기를 데이터셋에 학습시키고 나면 `components_` 변수를 사용해 주성분을 확인할 수 있다. \n",
    "\n",
    "위에서 직접 구현했을 때와 동일하다. 단, 주성분이 행 벡터로 포함되어 있으므로 첫 번째 주성분은 `pca.components_.T[:, 0]` 이 된다.\n",
    "\n",
    "## 3.5 설명된 분산의 비율\n",
    "\n",
    "`explained_variance_ratio_` 변수에 저장된 주성분의 **설명된 분산의 비율 explained variance ratio**도 유용한 정보 중 하나이다.\n",
    "\n",
    "(이 값은 공분산 행렬의 고유값(eigenvalue) 이다. 설명된 분산의 비율은 전체 분산에서 차지하는 비율을 뜻한다.)\n",
    "\n",
    "이 값은 각 주성분의 축을 따라 있는 데이터셋의 분산 비율을 나타낸다. 예를 들어, 값이 0.84, 0.14라면 데이터셋 분산의 84%가 첫 축에, 14%가 두 번째 축에, 그리고 세 번째 축에는 2% 미만이 남아 있어 아주 적은 양의 정보가 남았다는 것을 의미한다.\n",
    "\n",
    "## 3.6 적절한 차원 수 선택하기\n",
    "\n",
    "축소할 차원 수를 임의로 정하기보다는 충분한 분산 (예를 들면 95%)이 될 때까지 더해야 할 차원 수를 선택하는 쪽이 선호된다. 물론 데이터 시각화를 위한 용도라면 차원을 2개나 3개로 줄이는 것이 일반적이다.\n",
    "\n",
    "다음 코드는 차원을 축소하지 않고 PCA를 계산한 뒤 훈련 세트의 분산을 95%로 유지하는 데 필요한 최소한의 차원의 수를 계산한다."
   ]
  },
  {
   "cell_type": "code",
   "execution_count": 17,
   "metadata": {},
   "outputs": [],
   "source": [
    "from sklearn.model_selection import train_test_split\n",
    "\n",
    "pca = PCA()\n",
    "pca.fit(X)\n",
    "cumsum = np.cumsum(pca.explained_variance_ratio_)\n",
    "d = np.argmax(cumsum >= 0.95) + 1"
   ]
  },
  {
   "cell_type": "markdown",
   "metadata": {},
   "source": [
    "그런 다음 `n_components=d`로 설정하여 PCA를 다시 실행한다. 하지만 유지하려는 주성분의 수를 지정하기보다는 보존하려는 분산의 비율을 `n_components`에 0.0에서 1.0 사이로 설정하는 편이 훨씬 낫다."
   ]
  },
  {
   "cell_type": "code",
   "execution_count": 19,
   "metadata": {},
   "outputs": [],
   "source": [
    "pca = PCA(n_components=0.95)\n",
    "X_reduced = pca.fit_transform(X)"
   ]
  },
  {
   "cell_type": "markdown",
   "metadata": {},
   "source": [
    "또 다른 방법은 설명된 분산을 차원 수에 대한 함수로 그리는 것이다. (cumsum을 그래프로 그리면 된다.)\n",
    "\n",
    "일반적으로 이 그래프에는 설명된 분산의 빠른 성장이 멈추는 변곡점이 있다. 이 지점을 사용하면 된다.\n",
    "\n",
    "## 3.7 압축을 위한 PCA \n",
    "\n",
    "차원 축소를 한 후에는 훈련 세트의 크기가 줄어든다. 예를 들어 MNIST 데이터셋에 분산의 95%를 유지하도록 PCA를 적용하면 원래 784개 특성이 아닌 약 150개 정도만 가지고 있을 것이다.\n",
    "\n",
    "대부분의 분산은 유지되었지만 데이터셋은 원본 크기의 20% 미만이 된 셈이다. 이는 상당한 압축률이고, SVM같은 분류 알고리즘의 속도를 크게 높일 수 있다.\n",
    "\n",
    "또한 압축된 데이터셋에 PCA 투영의 변환을 반대로 적용하여 784개의 차원으로 되돌릴 수도 있다. 물론 5%의 분산을 잃어버렸기 때문에 원본 데이터셋을 복원할 수는 없지만, 매우 비슷할 것이다.\n",
    "\n",
    "원본 데이터와 재구성된 데이터 사이의 평균 제곱 거리를 **재구성 오차 Reconstruction Error**라고 한다. \n",
    "\n",
    "다음 코드는 MNIST를 154원으로 압축 후, `inverse_transform()` 메서드를 사용해 784차원으로 복원한다."
   ]
  },
  {
   "cell_type": "code",
   "execution_count": 21,
   "metadata": {},
   "outputs": [],
   "source": [
    "from uidam_package import fetchData\n",
    "\n",
    "X_train, y_train, X_test, y_test = fetchData.fetch_mnist()\n",
    "X_train = X_train.reshape((60000, 784))\n",
    "X_test = X_test.reshape((10000, 784))\n",
    "pca = PCA(n_components = 154)\n",
    "X_reduced = pca.fit_transform(X_train)\n",
    "X_recovered = pca.inverse_transform(X_reduced)"
   ]
  },
  {
   "cell_type": "code",
   "execution_count": 25,
   "metadata": {},
   "outputs": [
    {
     "data": {
      "text/plain": [
       "Text(0.5, 1.0, 'Reconstruction')"
      ]
     },
     "execution_count": 25,
     "metadata": {},
     "output_type": "execute_result"
    },
    {
     "data": {
      "image/png": "[encoded data removed]",
      "text/plain": [
       "<Figure size 504x288 with 2 Axes>"
      ]
     },
     "metadata": {
      "needs_background": "light"
     },
     "output_type": "display_data"
    }
   ],
   "source": [
    "import matplotlib.pyplot as plt\n",
    "import matplotlib\n",
    "def plot_digits(instances, images_per_row=5, **options):\n",
    "    size = 28\n",
    "    images_per_row = min(len(instances), images_per_row)\n",
    "    images = [instance.reshape(size,size) for instance in instances]\n",
    "    n_rows = (len(instances) - 1) // images_per_row + 1\n",
    "    row_images = []\n",
    "    n_empty = n_rows * images_per_row - len(instances)\n",
    "    images.append(np.zeros((size, size * n_empty)))\n",
    "    for row in range(n_rows):\n",
    "        rimages = images[row * images_per_row : (row + 1) * images_per_row]\n",
    "        row_images.append(np.concatenate(rimages, axis=1))\n",
    "    image = np.concatenate(row_images, axis=0)\n",
    "    plt.imshow(image, cmap = matplotlib.cm.binary, **options)\n",
    "    plt.axis(\"off\")\n",
    "\n",
    "plt.figure(figsize=(7, 4))\n",
    "plt.subplot(121)\n",
    "plot_digits(X_train[::2100])\n",
    "plt.title(\"Origin\", fontsize=16)\n",
    "plt.subplot(122)\n",
    "plot_digits(X_recovered[::2100])\n",
    "plt.title(\"Reconstruction\", fontsize=16)\n"
   ]
  },
  {
   "cell_type": "markdown",
   "metadata": {},
   "source": [
    "이미지 품질이 조금 손실된 것을 볼 수 있지만 숫자 모양은 거의 온전한 상태이다.\n",
    "\n",
    "## 3.8 점진적 PCA\n",
    "\n",
    "PCA 구현의 문제는 SVD 알고리즘을 실행하기 위해 전체 훈련 세트를 메모리에 올려야 한다는 것이다.\n",
    "\n",
    "다행히 **점진적 PCA, Incremental PCA, IPCA** 알고리즘이 개발되었다. 훈련 세트를 미니배치로 나눈 뒤 IPCA 알고리즘에 한 번에 하나씩 주입한다.\n",
    "\n",
    "이런 방식은 훈련 세트가 클 때 유용하고 온라인으로(즉, 새로운 데이터가 준비되는 대로 실시간으로) PCA를 적용할 수도 있다.\n",
    "\n",
    "다음 코드는 MNIST 데이터셋을 100개의 미니배치로 나누고, 사이킷런의 `IncrementalPCA` 클래스에 주입하여 차원을 줄인다.\n",
    "\n",
    "전체 훈련 세트를 사용하는 `fit()` 메서드가 아닌, `partial_fit()` 메서드를 미니배치마다 호출해야 한다."
   ]
  },
  {
   "cell_type": "code",
   "execution_count": 26,
   "metadata": {},
   "outputs": [],
   "source": [
    "from sklearn.decomposition import IncrementalPCA\n",
    "\n",
    "n_batches = 100\n",
    "inc_pca = IncrementalPCA(n_components=154)\n",
    "for X_batch in np.array_split(X_train, n_batches):\n",
    "    inc_pca.partial_fit(X_batch)\n",
    "X_reduced = inc_pca.transform(X_train)"
   ]
  },
  {
   "cell_type": "markdown",
   "metadata": {},
   "source": [
    "또 다른 방법은 넘파이의 `memmap` 클래스를 사용해 하드 디스크의 이전 파일에 저장된 매우 큰 배열을 메모리에 들어 있는 것처럼 다루는 것이다.\n",
    "\n",
    "이 파이썬 클래스는 필요할 때 데이터를 메모리에 적재한다. `IncrementalPCA`는 특정 순간에 배열의 일부만 사용하기 때문에 메모리 부족 문제를 해결할 수 있다.\n",
    "\n",
    "이 방식을 적용하면 일반적인 `fit()` 메서드를 사용할 수 있다. (여기서는 생략)\n",
    "\n",
    "## 3.9 랜덤 PCA\n",
    "\n",
    "사이킷런에는 PCA의 또 다른 옵션으로 **랜덤 PCA, Randomized PCA**를 제공한다. 이 방식은 확률적인 알고리즘으로, 첫 d개의 주성분에 대해 근삿값을 빠르게 찾는다.\n",
    "\n",
    "이 알고리즘의 계산 복잡도는 $O(m \\times n^2) + O(n^3) $이 아니라 $O(m \\times d^2) + O(d^3)$이다. 그래서 d가 n보다 많이 작으면 앞선 알고리즘보다 매우 빨라진다."
   ]
  },
  {
   "cell_type": "code",
   "execution_count": 27,
   "metadata": {},
   "outputs": [],
   "source": [
    "rnd_pca = PCA(n_components=154, svd_solver=\"randomized\")\n",
    "X_reduced = rnd_pca.fit_transform(X_train)"
   ]
  },
  {
   "cell_type": "markdown",
   "metadata": {},
   "source": [
    "# 4. 커널 PCA\n",
    "\n",
    "5장에서 샘플을 매우 높은 고차원 공간(**특성 공간 Feature Space**)으로 맵핑하여 서포트 벡터 머신의 비선형 분류와 회귀를 가능하게 하는 수학적 기법인 커널 트릭에 대해 이야기했었다.\n",
    "\n",
    "고차원 특성 공간에서의 선형 결정 경계는 **원본 공간**에서는 복잡한 비선형 결정 경계에 해당한다는 것을 배웠다.\n",
    "\n",
    "같은 기법을 PCA에 적용해 차원 축소를 위한 복잡한 비선형 투형을 수행할 수 있다. 이를 **커널 PCA, kPCA, kernel PCA**라고 한다. \n",
    "\n",
    "이 기법은 투영된 후에 샘플의 군집을 유지하거나 꼬인 매니폴드에 가까운 데이터셋을 펼칠 때도 유용하다.\n",
    "\n",
    "다음 코드는 사이킷런의 `kernelPCA`를 사용해 RBF 커널로 kPCA를 적용한다."
   ]
  },
  {
   "cell_type": "code",
   "execution_count": 28,
   "metadata": {},
   "outputs": [],
   "source": [
    "from sklearn.decomposition import KernelPCA\n",
    "\n",
    "rbf_pca = KernelPCA(n_components = 2, kernel=\"rbf\", gamma=0.04)\n",
    "X_reduced = rbf_pca.fit_transform(X)"
   ]
  },
  {
   "cell_type": "markdown",
   "metadata": {},
   "source": [
    "## 4.1 커널 선택과 하이퍼파라미터 튜닝\n",
    "\n",
    "kPCA는 비지도 학습이기 때문에 좋은 커널과 하이퍼파라미터를 선택하기 위한 명확한 성능 측정 기준이 없다. \n",
    "\n",
    "하지만 차원 축소는 종종 지도 학습의 전처리 단계로 활용되므로 그리드 탐색을 사용하여 주어진 문제에서 성능이 가장 좋은 커널과 하이퍼파라미터를 선택할 수 있다.\n",
    "\n",
    "예를 들어 다음 코드는 두 단계의 파이프라인을 만드는데, 먼저 kPCA를 사용해 차원을 2차원으로 축소하고 분류를 위해 로지스틱 회귀를 적용한다.\n",
    "\n",
    "그런 다음 파이프라인 마지막 단계에서 가장 높은 분류 정확도를 얻기 위해 `GridSearchCV`를 사용해 가장 좋은 커널과 감마 파라미터를 찾는다."
   ]
  },
  {
   "cell_type": "raw",
   "metadata": {},
   "source": [
    "from sklearn.model_selection import GridSearchCV\n",
    "from sklearn.linear_model import LogisticRegression\n",
    "from sklearn.pipeline import Pipeline\n",
    "\n",
    "clf = Pipeline([\n",
    "    (\"kpca\", KernelPCA(n_components=2)),\n",
    "    (\"log_reg\", LogisticRegression())\n",
    "])\n",
    "\n",
    "param_grid = [{\n",
    "    \"kpca_gamma\" : np.linspace(0.03, 0.05, 10),\n",
    "    \"kpca_kernel\" : [\"rbf\", \"sigmoid\"]\n",
    "}]\n",
    "\n",
    "grid_search = GridSearchCV(clf, param_grid, cv=3)\n",
    "grid_search.fit(X, y)"
   ]
  },
  {
   "cell_type": "markdown",
   "metadata": {},
   "source": [
    "완전한 비지도 학습 방법으로, 가장 낮은 재구성 오차를 만드는 커널과 하이퍼파라미터를 선택하는 방식도 있다. 하지만 재구성은 선형 PCA만큼 쉽지 않다. \n",
    "\n",
    "커널 트릭 덕분에 훈련 세트를 **특성 맵, Feature Map**을 사용한 무한 차원의 특성 공간에 매핑한 다음, 변환된 데이터셋을 선형 PCA를 사용해 2D로 투영한 것과 수학적으로 동일하다.\n",
    "\n",
    "이 이후부터는 난이도가 높아지므로 일단 생략한다. 나중에 실무적으로 사용할 일이 있을 때 공부하도록 한다."
   ]
  }
 ],
 "metadata": {
  "kernelspec": {
   "display_name": "Python 3",
   "language": "python",
   "name": "python3"
  },
  "language_info": {
   "codemirror_mode": {
    "name": "ipython",
    "version": 3
   },
   "file_extension": ".py",
   "mimetype": "text/x-python",
   "name": "python",
   "nbconvert_exporter": "python",
   "pygments_lexer": "ipython3",
   "version": "3.7.5"
  }
 },
 "nbformat": 4,
 "nbformat_minor": 4
}
