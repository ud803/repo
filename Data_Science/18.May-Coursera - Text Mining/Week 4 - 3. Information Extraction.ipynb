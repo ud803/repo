{
 "cells": [
  {
   "cell_type": "markdown",
   "metadata": {},
   "source": [
    "# Information Extraction\n",
    "\n",
    "Information is hidden in free-text\n",
    "1. Most traditional transactional information is structured\n",
    "2. Abundance of unstructured, freeform text\n",
    "3. How to convert unstructured text to structured form?"
   ]
  },
  {
   "cell_type": "markdown",
   "metadata": {},
   "source": [
    "### 1. Information Extraction\n",
    "\n",
    "Goal : Identify and extract field of interest from free text\n",
    "    - Contents\n",
    "    - Author\n",
    "    - Reviewer, Dates\n",
    "\n",
    "##### - Fields of Interest\n",
    "- Names entities\n",
    "    - [NEWS] people, places, dates, ...\n",
    "    - [Finance] Money, Companies, stock index, ...\n",
    "    - [Medicine] Disease, Drugs, ...\n",
    "- Relations\n",
    "    - What happened to who, when, where, ...\n",
    "    \n",
    "##### - Named Entity Recognition\n",
    "1. Named Entities :\n",
    "<br> Noun phrases that are of specific type and refer to specific individuals, places, organizations, ...\n",
    "<br>\n",
    "2. Named Entity Recognition :\n",
    "<br> Techniques to identify all mentions of pre-defined named entities in text\n",
    "    - Identify the mention / phrase : Boundary detection\n",
    "    - Identify the type : Tagging / classification"
   ]
  },
  {
   "cell_type": "markdown",
   "metadata": {},
   "source": [
    "For example,\n",
    "\n",
    "`The patient is a 63-year-old female with a three-year history of bilateral hand numbness and occasional weakness.\n",
    "\n",
    "Within the past year, these symptoms have progressively gotten worse, to encompass also her feet.\n",
    "\n",
    "She had a workup by her neurologist and an MRI revealed a C5-6 disc herniation with cord compression and a T2 signal change at that level.`"
   ]
  },
  {
   "cell_type": "markdown",
   "metadata": {},
   "source": [
    "##### -What are the named entity above?\n",
    "\n",
    "- Disease : bilateral hand numbness, occasional weakness, C5-6 disc herniation, cord compression, T2 signal change\n",
    "\n",
    "- Individual : female, 63-year-old\n",
    "\n",
    "- Body part : hand, feet\n",
    "\n"
   ]
  },
  {
   "cell_type": "markdown",
   "metadata": {},
   "source": [
    "### 2. Usual Tasks"
   ]
  },
  {
   "cell_type": "markdown",
   "metadata": {},
   "source": [
    "##### -Approaches to identify named entities\n",
    "- Depends on kinds of entities that need to be identified\n",
    "- For well-formatted filed like date, phone numbers : Regex\n",
    "- For other fields, Typically a machine learning approach\n",
    "\n",
    "##### - Person, Organization, Location/GPE\n",
    "- Standard NER task in NLP research community\n",
    "- Typically a four-class model\n",
    "    - PER\n",
    "    - ORG\n",
    "    - LOC / GPE\n",
    "    - Other / Outside (any other class)\n",
    "    \n",
    "##### - Relation extraction\n",
    "- Identify relationships between named entities\n",
    "    - ex) Erbitux helps treat lung cancer. (Erbitux --> treatment --> lung cancer)\n",
    "\n",
    "##### - Co-reference resolution\n",
    "- Disambiguate mentions and group mentions together\n",
    "    - ex) Anita met Joseph at the market. He surprised her with a rose.\n",
    "    - Anita --> her, Joseph --> He\n",
    "\n",
    "##### - Question Answering\n",
    "- Given a question, find the most appropriate answer from the text\n",
    "    - ex) What does Erbitux treat?\n",
    "    - ex) Who gave Anita the rose?\n",
    "- Builds on named entity recognition, relation extraction, and co-reference resolution"
   ]
  },
  {
   "cell_type": "markdown",
   "metadata": {},
   "source": [
    "### 3. Summarize\n",
    "\n",
    "1. Information extraction is important for natural language understanding and making sense of textual data\n",
    "\n",
    "2. Named Entity Recognition is a key building block to address many advanced NLP tasks\n",
    "\n",
    "3. Named Entity Recognition systems extensively deploy supervised machine learning and text mining techniques discussed in this course"
   ]
  }
 ],
 "metadata": {
  "kernelspec": {
   "display_name": "Python 3",
   "language": "python",
   "name": "python3"
  },
  "language_info": {
   "codemirror_mode": {
    "name": "ipython",
    "version": 3
   },
   "file_extension": ".py",
   "mimetype": "text/x-python",
   "name": "python",
   "nbconvert_exporter": "python",
   "pygments_lexer": "ipython3",
   "version": "3.6.3"
  }
 },
 "nbformat": 4,
 "nbformat_minor": 2
}
