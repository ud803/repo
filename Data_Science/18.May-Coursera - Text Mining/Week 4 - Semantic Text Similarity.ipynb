{
 "cells": [
  {
   "cell_type": "markdown",
   "metadata": {},
   "source": [
    "# 1. Semantic Similarity\n",
    "\n",
    "Which pair of words are most similar?\n",
    "- deer, elk\n",
    "- deer, giraffe\n",
    "- deer, horse\n",
    "- deer, mouse\n",
    "\n",
    "** *How can we quantify this? **\n",
    "\n",
    "#### *Applications of semantic similarity\n",
    "- Grouping similar words into semantic concepts\n",
    "- As a building block in natural language understanding tasks\n",
    "    - Textual entailment\n",
    "    - Paraphrasing\n",
    "    \n",
    "#### *WordNet\n",
    "- Semantic dictionary of (mostly) English words, interlinked by semantic relations\n",
    "- Includes rich linguistic information\n",
    "    - POS, word senses, synonyms, ..\n",
    "- Machine-readable, freely available\n",
    "\n",
    "### 1. Semantic similarity using WordNet\n",
    "- WordNet organizes informaton in a hierarchy\n",
    "- Many similarity measures use the hierarchy in some way\n",
    "- Verbs, nouns, adjectives all have separate hierarchies\n",
    "\n",
    "#### Calculating Similarity\n",
    "\n",
    "##### 1) Path Similarity\n",
    "- Find the shortest path btw the two concepts\n",
    "- Similarity measure inversely related to path distance\n",
    "\n",
    "##### 2) Lowest Common subsumer (LCS)\n",
    "- Find the closest ancestor to both concepts\n",
    "\n",
    "##### 3) Lin Similarity\n",
    "- Based on the information contained in the LCS of the two concepts\n",
    "- LinSim(u, v) = $ 2 * log P(Lcs(u,v)) / (log P(u) + log P(v)) $\n",
    "- P(u) is given by the information content\n",
    "\n",
    "#### 4) Collocation and Distributional similarity\n",
    "- \"you know a word by the company it keeps\"\n",
    "- Two words that frequently appears in similar contexts are more likely to be semantically related\n",
    "    - The friends met at a cafe.\n",
    "    - Shyam met Ray at a pizzeria.\n",
    "    - Let's meet up near the coffee shop.\n",
    "    - The secret meeting at the restaurant.\n",
    "- Strength of association btw words\n",
    "    - How frequent?\n",
    "    - Pointwise Mutual Information PMI(w,c) = log[P(w,c)/P(w)P(c)]"
   ]
  },
  {
   "cell_type": "markdown",
   "metadata": {},
   "source": [
    "### 2. Application in Python\n",
    "\n",
    "WordNet easily imported inty Python through NLTK."
   ]
  },
  {
   "cell_type": "code",
   "execution_count": 3,
   "metadata": {},
   "outputs": [],
   "source": [
    "import nltk\n",
    "from nltk.corpus import wordnet as wn\n",
    "\n",
    "deer = wn.synset('deer.n.01')  # find me the noun, and give me the first synset\n",
    "elk = wn.synset('elk.n.01')\n",
    "horse = wn.synset('horse.n.01')"
   ]
  },
  {
   "cell_type": "code",
   "execution_count": 4,
   "metadata": {},
   "outputs": [
    {
     "name": "stdout",
     "output_type": "stream",
     "text": [
      "0.5\n",
      "0.14285714285714285\n"
     ]
    }
   ],
   "source": [
    "# Find 'path similarity'\n",
    "\n",
    "print(deer.path_similarity(elk))\n",
    "print(deer.path_similarity(horse))"
   ]
  },
  {
   "cell_type": "code",
   "execution_count": 6,
   "metadata": {},
   "outputs": [
    {
     "name": "stdout",
     "output_type": "stream",
     "text": [
      "0.8623778273893673\n",
      "0.7726998936065773\n"
     ]
    }
   ],
   "source": [
    "# Find 'Lin similarity'\n",
    "\n",
    "from nltk.corpus import wordnet_ic\n",
    "brown_ic = wordnet_ic.ic('ic-brown.dat')\n",
    "\n",
    "print(deer.lin_similarity(elk, brown_ic))\n",
    "print(deer.lin_similarity(horse, brown_ic))"
   ]
  },
  {
   "cell_type": "code",
   "execution_count": null,
   "metadata": {
    "collapsed": true
   },
   "outputs": [],
   "source": [
    "# NLTK collocations and association\n",
    "\n",
    "import nltk\n",
    "from nltk.collocations import *\n",
    "\n",
    "bigram_measures = nltk.collocations.BigramAssocMeasures()\n",
    "\n",
    "finder = BigramCollocaionFinder.from_words(text)\n",
    "finder.nbest(bigram_measures.pmi, 10)\n",
    "\n",
    "# other useful function such as frequency filter !\n",
    "\n",
    "finder.apply_freq_filter(10)"
   ]
  }
 ],
 "metadata": {
  "kernelspec": {
   "display_name": "Python 3",
   "language": "python",
   "name": "python3"
  },
  "language_info": {
   "codemirror_mode": {
    "name": "ipython",
    "version": 3
   },
   "file_extension": ".py",
   "mimetype": "text/x-python",
   "name": "python",
   "nbconvert_exporter": "python",
   "pygments_lexer": "ipython3",
   "version": "3.6.3"
  }
 },
 "nbformat": 4,
 "nbformat_minor": 2
}
