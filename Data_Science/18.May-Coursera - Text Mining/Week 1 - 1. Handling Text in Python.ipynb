{
 "cells": [
  {
   "cell_type": "markdown",
   "metadata": {},
   "source": [
    "# Why is Text so important\n",
    "\n",
    "Data continues to grow exponentially\n",
    "- Estimated to be 2.5 Exabytes (2.5 million TB) a day\n",
    "- Grow to 40 Zettabytes (40 billion TB) by 2020 (50-times that of 2010)\n",
    "\n",
    "Approximately 80% of all data is estimated to be unstructured, text-rich data\n",
    "\n",
    "SO, what can be done with text?\n",
    "- Parse Text\n",
    "- Find / Identity / Extract relevant information from text\n",
    "- Classify text documents\n",
    "- Search for relevant text documents\n",
    "- Sentiment analysis\n",
    "- Topic modeling\n",
    "- ...\n",
    "\n"
   ]
  },
  {
   "cell_type": "markdown",
   "metadata": {},
   "source": [
    "# Handling Text in Python\n",
    "\n",
    "### 1. Primitive constructs in Text\n",
    "- Sentences / input strings\n",
    "- Words or Tokens\n",
    "- Characters\n",
    "- Document, larger files\n"
   ]
  },
  {
   "cell_type": "code",
   "execution_count": 5,
   "metadata": {},
   "outputs": [
    {
     "data": {
      "text/plain": [
       "75"
      ]
     },
     "execution_count": 5,
     "metadata": {},
     "output_type": "execute_result"
    }
   ],
   "source": [
    "# what if I want to know how many chars\n",
    "text1 = 'Ethics are built right into the ideals and objectives of the United Nations '\n",
    "len(text1)"
   ]
  },
  {
   "cell_type": "code",
   "execution_count": 6,
   "metadata": {},
   "outputs": [
    {
     "data": {
      "text/plain": [
       "13"
      ]
     },
     "execution_count": 6,
     "metadata": {},
     "output_type": "execute_result"
    }
   ],
   "source": [
    "# what if I want to know how many words\n",
    "text2 = text1.split(' ')\n",
    "len(text2)"
   ]
  },
  {
   "cell_type": "markdown",
   "metadata": {},
   "source": [
    "### 2. Finding Specific words\n",
    "\n",
    "1) Long words : Words that are more than 3 letters long\n",
    "\n",
    "2) Capitalized words\n",
    "\n",
    "3) Words that end with s"
   ]
  },
  {
   "cell_type": "code",
   "execution_count": 9,
   "metadata": {},
   "outputs": [
    {
     "name": "stdout",
     "output_type": "stream",
     "text": [
      "['Ethics', 'built', 'right', 'into', 'ideals', 'objectives', 'United', 'Nations']\n",
      "['Ethics', 'United', 'Nations']\n",
      "['Ethics', 'ideals', 'objectives', 'Nations']\n"
     ]
    }
   ],
   "source": [
    "# Long words\n",
    "print([w for w in text2 if len(w) > 3])\n",
    "\n",
    "# Cap words\n",
    "print([w for w in text2 if w.istitle()])\n",
    "\n",
    "# ends with 's'\n",
    "print([w for w in text2 if w.endswith('s')])"
   ]
  },
  {
   "cell_type": "markdown",
   "metadata": {},
   "source": [
    "### 3. Finding Unique words : using set()"
   ]
  },
  {
   "cell_type": "code",
   "execution_count": 10,
   "metadata": {},
   "outputs": [
    {
     "data": {
      "text/plain": [
       "6"
      ]
     },
     "execution_count": 10,
     "metadata": {},
     "output_type": "execute_result"
    }
   ],
   "source": [
    "text3 = \"To be or not to be\"\n",
    "text4 = text3.split(' ')\n",
    "len(text4)"
   ]
  },
  {
   "cell_type": "code",
   "execution_count": 14,
   "metadata": {
    "scrolled": true
   },
   "outputs": [
    {
     "data": {
      "text/plain": [
       "{'To', 'be', 'not', 'or', 'to'}"
      ]
     },
     "execution_count": 14,
     "metadata": {},
     "output_type": "execute_result"
    }
   ],
   "source": [
    "# returns unique words, but \"To\" and \"to\" still overlap\n",
    "set(text4)"
   ]
  },
  {
   "cell_type": "code",
   "execution_count": 16,
   "metadata": {},
   "outputs": [
    {
     "data": {
      "text/plain": [
       "{'be', 'not', 'or', 'to'}"
      ]
     },
     "execution_count": 16,
     "metadata": {},
     "output_type": "execute_result"
    }
   ],
   "source": [
    "# so we change it\n",
    "set([w.lower() for w in text4])"
   ]
  },
  {
   "cell_type": "markdown",
   "metadata": {},
   "source": [
    "### 4. Word Comparison functions\n",
    "\n",
    "- s.startswith(t)\n",
    "- s.endswith(t)\n",
    "\n",
    "- t in s\n",
    "\n",
    "- s.isupper(); s.islower(); s.istitle()\n",
    "    - isupper : 전부 대문자\n",
    "    - islower : 전부 소문자\n",
    "    - istitle : 첫글자만 대문자\n",
    "    \n",
    "- s.isalpha(); s.isdigit(); s.isalnum()\n",
    "    - isalpha : 전부 알파벳\n",
    "    - isdigit : 전부 숫자\n",
    "    - isalnum : 알파벳과 숫자의 결합"
   ]
  },
  {
   "cell_type": "markdown",
   "metadata": {},
   "source": [
    "### 5. String Operations\n",
    "\n",
    "- s.lower(); s.upper(); s.titlecase()\n",
    "- s.split(t)\n",
    "- s.splitlines()  : split sentence on newline, endofline character\n",
    "- s.join(t) : split과 반대로 붙임\n",
    "- s.strip(); s.rstrip()  : strip은 **단어 앞의** 모든 공백을 제거, rstrip은 **단어 뒤의** 모든 공백 제거 \n",
    "- s.find(t); s.rfind(t)  : 각각 앞, 뒤부터 string t를 찾음\n",
    "- s.replace(u,v) : 모든 u를 v로 대체"
   ]
  },
  {
   "cell_type": "code",
   "execution_count": 19,
   "metadata": {},
   "outputs": [
    {
     "data": {
      "text/plain": [
       "['', 'agad', 'g', '']"
      ]
     },
     "execution_count": 19,
     "metadata": {},
     "output_type": "execute_result"
    }
   ],
   "source": [
    "# split\n",
    "text5 = 'ouagadougou'\n",
    "text6 = text5.split('ou')\n",
    "text6"
   ]
  },
  {
   "cell_type": "code",
   "execution_count": 20,
   "metadata": {
    "scrolled": true
   },
   "outputs": [
    {
     "data": {
      "text/plain": [
       "'ouagadougou'"
      ]
     },
     "execution_count": 20,
     "metadata": {},
     "output_type": "execute_result"
    }
   ],
   "source": [
    "# join\n",
    "'ou'.join(text6)"
   ]
  },
  {
   "cell_type": "code",
   "execution_count": 22,
   "metadata": {},
   "outputs": [
    {
     "name": "stdout",
     "output_type": "stream",
     "text": [
      "['o', 'u', 'a', 'g', 'a', 'd', 'o', 'u', 'g', 'o', 'u']\n",
      "['o', 'u', 'a', 'g', 'a', 'd', 'o', 'u', 'g', 'o', 'u']\n"
     ]
    }
   ],
   "source": [
    "# all the chars in string\n",
    "print(list(text5))\n",
    "print( [c for c in text5 ])  # same as above"
   ]
  },
  {
   "cell_type": "code",
   "execution_count": 34,
   "metadata": {},
   "outputs": [
    {
     "name": "stdout",
     "output_type": "stream",
     "text": [
      "['', '', '', 'A', 'quick', 'brown', 'fox', 'jumped', 'over', 'the', 'lazy', 'dog.', '']\n",
      "A quick brown fox jumped over the lazy dog.\n"
     ]
    }
   ],
   "source": [
    "# Cleaning Example\n",
    "text8 = '   A quick brown fox jumped over the lazy dog. '\n",
    "print(text8.split(' '))\n",
    "text9 = text8.strip()   # 앞과 뒤 공백제거\n",
    "print(text9)"
   ]
  },
  {
   "cell_type": "code",
   "execution_count": 39,
   "metadata": {},
   "outputs": [
    {
     "name": "stdout",
     "output_type": "stream",
     "text": [
      "10\n",
      "40\n"
     ]
    },
    {
     "data": {
      "text/plain": [
       "'A quick brOwn fOx jumped Over the lazy dOg.'"
      ]
     },
     "execution_count": 39,
     "metadata": {},
     "output_type": "execute_result"
    }
   ],
   "source": [
    "# Changing Text\n",
    "text9\n",
    "print(text9.find('o'))  # where it finds the first 'o'\n",
    "print(text9.rfind('o')) # 뒤에서부터 시작하여 첫번째 'o'를 찾음\n",
    "text9.replace('o', 'O') # replacement"
   ]
  },
  {
   "cell_type": "markdown",
   "metadata": {},
   "source": [
    "### 6. File Operations\n",
    "1) Reading files line by line\n",
    "    \n",
    "    f = open('UNDHR.txt', 'r')\n",
    "    \n",
    "2) Reading the full file\n",
    "\n",
    "    f.seek(0) #resets the reading\n",
    "    text12 = f.read()\n",
    "    len(text12)\n",
    "    text13 = text12.splitlines()   #split into \\n\n",
    "    \n",
    "3) File Operations\n",
    "    - f = open(filename, mode)     \n",
    "    - f.readline(); f.read(); f.read(n) : 한 줄을 읽거나, 전체를 읽거나, n글자를 읽음\n",
    "    - for line in f : doSomething(line)\n",
    "    - f.seek(n)  : reset the reading position\n",
    "    - f.write(message) : write into file (write mode)\n",
    "    - f.close() : close the fild handle\n",
    "    - f.closed  : check whether file's closed\n",
    "    "
   ]
  },
  {
   "cell_type": "code",
   "execution_count": 43,
   "metadata": {},
   "outputs": [
    {
     "data": {
      "text/plain": [
       "'Universal Declaration of Human Rights \\n'"
      ]
     },
     "execution_count": 43,
     "metadata": {},
     "output_type": "execute_result"
    }
   ],
   "source": [
    "# Some issues here\n",
    "f = open('UNDHR.txt', 'r')\n",
    "text14 = f.readline()\n",
    "text14 # but we don't want \\n at the end of the sentence"
   ]
  },
  {
   "cell_type": "code",
   "execution_count": 45,
   "metadata": {
    "scrolled": true
   },
   "outputs": [
    {
     "data": {
      "text/plain": [
       "'Universal Declaration of Human Rights'"
      ]
     },
     "execution_count": 45,
     "metadata": {},
     "output_type": "execute_result"
    }
   ],
   "source": [
    "# How do you remove the last newline character?\n",
    "text14.rstrip()  #it also works for \\r \\r\\n ..."
   ]
  }
 ],
 "metadata": {
  "kernelspec": {
   "display_name": "Python 3",
   "language": "python",
   "name": "python3"
  },
  "language_info": {
   "codemirror_mode": {
    "name": "ipython",
    "version": 3
   },
   "file_extension": ".py",
   "mimetype": "text/x-python",
   "name": "python",
   "nbconvert_exporter": "python",
   "pygments_lexer": "ipython3",
   "version": "3.6.3"
  }
 },
 "nbformat": 4,
 "nbformat_minor": 2
}
