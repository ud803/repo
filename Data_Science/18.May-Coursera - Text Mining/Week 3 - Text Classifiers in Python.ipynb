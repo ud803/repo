{
 "cells": [
  {
   "cell_type": "markdown",
   "metadata": {},
   "source": [
    "# Toolkits for Supervised Text Classification\n",
    "- Scikit-learn\n",
    "- NLTK L interfaces with sklearn and other ML toolkits (like Weka!)\n",
    "\n",
    "### 1. Scikit-learn\n",
    "- Open-source ML lib\n",
    "- Started as Google Summer of Code\n",
    "- Has a more programmatic interface\n",
    "\n",
    "#### 1) Naive Bayes Classifier"
   ]
  },
  {
   "cell_type": "code",
   "execution_count": null,
   "metadata": {},
   "outputs": [],
   "source": [
    "from sklearn import naive_bayes\n",
    "\n",
    "clfrNB = naive_bayes.MultinomialNB() # Multinomial NB (you have the bernoulli option)\n",
    "\n",
    "clfrNB.fit(train_data, train_labels)\n",
    "\n",
    "predicted_labels = clfrNB.predict(test_data)\n",
    "\n",
    "metrics.f1_score(test_labels, predicted_labels, average='micro')"
   ]
  },
  {
   "cell_type": "markdown",
   "metadata": {},
   "source": [
    "#### 2) SVM Classifier"
   ]
  },
  {
   "cell_type": "code",
   "execution_count": null,
   "metadata": {
    "collapsed": true
   },
   "outputs": [],
   "source": [
    "from sklearn import svm\n",
    "\n",
    "clfrSVM = svm.SVC(kernel='linear', C=0.1)\n",
    "\n",
    "clfrSVM.fit(train_data, train_labels)\n",
    "\n",
    "predicted_labels = clfrSVM.predict(test_data)"
   ]
  },
  {
   "cell_type": "markdown",
   "metadata": {},
   "source": [
    "#### 3) Model selection, Cross Validation"
   ]
  },
  {
   "cell_type": "code",
   "execution_count": null,
   "metadata": {},
   "outputs": [],
   "source": [
    "# For ex, 66% train set, 34% test set\n",
    "from sklearn import model_selection\n",
    "\n",
    "X_train, X_test, y_train, y_test = model_selection.train_test_split(\n",
    "    train_data, train_labels, test_size =0.333, random_sate = 0)\n",
    "\n",
    "# Cross Validation\n",
    "# 5 ways of splitting the data !\n",
    "# Average the 5 to evaluate the model.\n",
    "predicted_labels = model_selection.cross_val_predict(\n",
    "    clfrSVM, train_data, train_labels, cv=5)"
   ]
  },
  {
   "cell_type": "markdown",
   "metadata": {},
   "source": [
    "### 2. NLTK\n",
    "NLTK has some classification algorithms\n",
    "- Naive Bayes Classifier\n",
    "- Decision Tree Classifier\n",
    "- Conditional Exponential Classifier\n",
    "- Maxent Classifier\n",
    "- **Weka Classifier**\n",
    "- **Sklearn Classifier**\n"
   ]
  },
  {
   "cell_type": "markdown",
   "metadata": {},
   "source": [
    "#### 1) Naive Bayes Classifier"
   ]
  },
  {
   "cell_type": "code",
   "execution_count": null,
   "metadata": {
    "collapsed": true
   },
   "outputs": [],
   "source": [
    "from nltk.classify import NaiveBayesClassifier\n",
    "\n",
    "classifier = NaiveBayesClassifier.train(train_set)\n",
    "\n",
    "classifier.classify(unlabeled_instance)\n",
    "classifier.classify_many(unlabeled_instances)\n",
    "\n",
    "nltk.classify.util.accuracy(classifier, test_set)\n",
    "\n",
    "classifier.labels()\n",
    "\n",
    "classifier.show_most_informative_features()"
   ]
  },
  {
   "cell_type": "markdown",
   "metadata": {},
   "source": [
    "#### 2) Sklearn Classifier"
   ]
  },
  {
   "cell_type": "code",
   "execution_count": null,
   "metadata": {
    "collapsed": true
   },
   "outputs": [],
   "source": [
    "from nltk.classify import SKlearnClassifier\n",
    "from sklearn.naive_bayes import MultinomialNB\n",
    "from sklearn.svm import SVM\n",
    "\n",
    "clfrNB = SKlearnClassifier(MultinomialNB()).train(train_set)\n",
    "\n",
    "clfrSVM =\n",
    "SKlearnClassifier(SVC(), kernel='linear').train(train_set)"
   ]
  }
 ],
 "metadata": {
  "kernelspec": {
   "display_name": "Python 3",
   "language": "python",
   "name": "python3"
  },
  "language_info": {
   "codemirror_mode": {
    "name": "ipython",
    "version": 3
   },
   "file_extension": ".py",
   "mimetype": "text/x-python",
   "name": "python",
   "nbconvert_exporter": "python",
   "pygments_lexer": "ipython3",
   "version": "3.6.3"
  }
 },
 "nbformat": 4,
 "nbformat_minor": 2
}
