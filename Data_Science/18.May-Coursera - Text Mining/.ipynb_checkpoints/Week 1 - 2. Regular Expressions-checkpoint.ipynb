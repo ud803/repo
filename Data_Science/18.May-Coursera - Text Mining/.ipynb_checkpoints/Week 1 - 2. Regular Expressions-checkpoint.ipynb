{
 "cells": [
  {
   "cell_type": "markdown",
   "metadata": {},
   "source": [
    "## Regular Expressions\n",
    "\n",
    "### Processing free-text\n"
   ]
  },
  {
   "cell_type": "markdown",
   "metadata": {},
   "source": [
    "a = '* 04/20/2009; 04/20/09; 4/20/09; 4/3/09\\\n",
    "* Mar-20-2009; Mar 20, 2009; March 20, 2009;  Mar. 20, 2009; Mar 20 2009;\\\n",
    "* 20 Mar 2009; 20 March 2009; 20 Mar. 2009; 20 March, 2009; Feb-20-2009;\\\n",
    "* Mar 20th, 2009; Mar 21st, 2009; Mar 22nd, 2009\\\n",
    "* Feb 2009; Sep 2009; Oct 2010\\\n",
    "* 6/2008; 12/2009\\\n",
    "* 2009; 2010'"
   ]
  },
  {
   "cell_type": "code",
   "execution_count": 86,
   "metadata": {
    "scrolled": true
   },
   "outputs": [
    {
     "data": {
      "text/plain": [
       "['\"Ethics',\n",
       " 'are',\n",
       " 'built',\n",
       " 'right',\n",
       " 'into',\n",
       " 'the',\n",
       " 'ideals',\n",
       " 'and',\n",
       " 'objectives',\n",
       " 'of',\n",
       " 'the',\n",
       " 'United',\n",
       " 'Nations\"',\n",
       " '#UNSG',\n",
       " '@',\n",
       " 'NY',\n",
       " 'Society',\n",
       " 'for',\n",
       " 'Ethical',\n",
       " 'Culture',\n",
       " 'bit.ly/2guVelr',\n",
       " '@UN',\n",
       " '@UN_Women']"
      ]
     },
     "execution_count": 86,
     "metadata": {},
     "output_type": "execute_result"
    }
   ],
   "source": [
    "text1 = '\"Ethics are built right into the ideals and objectives of the United Nations\" \\\n",
    "#UNSG @ NY Society for Ethical Culture bit.ly/2guVelr @UN @UN_Women'\n",
    "text2 = text1.split(' ')\n",
    "text2"
   ]
  },
  {
   "cell_type": "code",
   "execution_count": 87,
   "metadata": {},
   "outputs": [
    {
     "data": {
      "text/plain": [
       "['#regex', '#pandas', '#python']"
      ]
     },
     "execution_count": 87,
     "metadata": {},
     "output_type": "execute_result"
    }
   ],
   "source": [
    "# Simple Quize Here : How would you extract hashtags from the following tweet?\n",
    "tweet = \"@nltk Text analysis is awesome! #regex #pandas #python\"\n",
    "\n",
    "tweet2 = tweet.split(\" \")\n",
    "list([ w for w in tweet2 if w.startswith(\"#\")])"
   ]
  },
  {
   "cell_type": "markdown",
   "metadata": {},
   "source": [
    "##### - Finding Specific words\n",
    "- Hashtags\n",
    "    [w for w in text1 if w.startswith('#')]\n",
    "- Callouts\n",
    "    [w for w in text1 if w.startswith('@')]\n",
    "\n",
    "However, we want callouts with more than just tokens beginning with '@'\n",
    "\n",
    "Which is, only words that match something after '@' (Alphabets, Numbers, Symbols..)"
   ]
  },
  {
   "cell_type": "code",
   "execution_count": 88,
   "metadata": {},
   "outputs": [
    {
     "data": {
      "text/plain": [
       "['@', '@UN', '@UN_Women']"
      ]
     },
     "execution_count": 88,
     "metadata": {},
     "output_type": "execute_result"
    }
   ],
   "source": [
    "[w for w in text2 if w.startswith('@')]\n",
    "\n",
    "# we don't want \"@\" !!"
   ]
  },
  {
   "cell_type": "markdown",
   "metadata": {},
   "source": [
    " \n",
    " "
   ]
  },
  {
   "cell_type": "markdown",
   "metadata": {},
   "source": [
    "### 1. Simple Patterns"
   ]
  },
  {
   "cell_type": "markdown",
   "metadata": {},
   "source": [
    "Most letters and characters will simply match themselves. \n",
    "\n",
    "For example, the regular expression test will match the string test exactly. (You can enable a case-insensitive mode that would let this RE match Test or TEST as well; more about this later.)\n",
    "\n",
    "There are exceptions to this rule; some characters are special metacharacters, and don’t match themselves. \n",
    "\n",
    "Instead, they **signal that some out-of-the-ordinary thing should be matched, or they affect other portions of the RE by repeating them or changing their meaning.**"
   ]
  },
  {
   "cell_type": "code",
   "execution_count": 89,
   "metadata": {
    "scrolled": true
   },
   "outputs": [
    {
     "data": {
      "text/plain": [
       "['@UN', '@UN_Women']"
      ]
     },
     "execution_count": 89,
     "metadata": {},
     "output_type": "execute_result"
    }
   ],
   "source": [
    "# So we use regular expression\n",
    "import re\n",
    "[w for w in text2 if re.search('@[A-Za-z0-9_]+', w)]"
   ]
  },
  {
   "cell_type": "markdown",
   "metadata": {},
   "source": [
    "##### - Parsing the callout regular expression\n",
    "\n",
    "@[A-Za-z0-9)]+   means\n",
    "\n",
    "1) starts with @\n",
    "\n",
    "2) followed by any alphabet, digit, or underscore\n",
    "\n",
    "3) that repeats at least once, but any number of times"
   ]
  },
  {
   "cell_type": "markdown",
   "metadata": {},
   "source": [
    "##### - Meta-characetrs : Character matches\n",
    "\n",
    ".      : wildcard, matches a single character<br>\n",
    "^      : start of a string<br>\n",
    "$      : end of a string<br>\n",
    "[]     : matches one of the set of characters within []<br>\n",
    "[a-z]  : matches one of the range of characters a, b, ..., z<br>\n",
    "[^abc] : matches a character **that is not a, b, or c**<br>\n",
    "a|b    : matches either a or b, where a and b are strings<br>\n",
    "()     : Scoping for operators<br>\n",
    "|      : Alternation, A or B (use \\| or [|])\n",
    "\\      : Escape char for special chars (\\n, \\t..)\n",
    "\n"
   ]
  },
  {
   "cell_type": "markdown",
   "metadata": {},
   "source": [
    "##### - Meta-characters : Character Symbols\n",
    "\n",
    "\\b    : matches word boundary<br>\n",
    "\\d    : Any digit, equivalent to [0-9]<br>\n",
    "\\D    : Any non-digit, equivalent to [^0-9]<br>\n",
    "\\s    : Any whitespace, equivalent to [ \\t\\n\\r\\f\\v]<br>\n",
    "\\S    : Any non-whitespace, equivalent to [^ \\t\\n\\r\\f\\v]<br>\n",
    "\\w    : Alphanumeric character, equivalent to [a-zA-Z0-9_]<br>\n",
    "\\W    : Non-Alphanumeric character, equivalent to [^a-zA-Z0-9_]<br>\n",
    "\\A    : Matches only at the start of the string. When not in MULTILINE mode, same as ^\n",
    "but they are different in that \\A still matches only at the beginning while ^ may match at any location inside the newline<br>\n",
    "\\Z    : Only at the end of the string"
   ]
  },
  {
   "cell_type": "code",
   "execution_count": 90,
   "metadata": {},
   "outputs": [
    {
     "name": "stdout",
     "output_type": "stream",
     "text": [
      "<_sre.SRE_Match object; span=(3, 8), match='class'>\n",
      "None\n",
      "None\n"
     ]
    }
   ],
   "source": [
    "# \\b example\n",
    "# following example matches class only when it's a complete word\n",
    "# it won't match when it's contained inside another word\n",
    "\n",
    "p = re.compile(r'\\bclass\\b')\n",
    "print(p.search('no class at all'))\n",
    "print(p.search('the declassified algorithm'))\n",
    "print(p.search('one subclass is'))"
   ]
  },
  {
   "cell_type": "markdown",
   "metadata": {},
   "source": [
    "##### - Meta-characters : Repetitions\n",
    "\n",
    "\\*    : matches zero or more occurrences, equivalent to {0,}<br>\n",
    "\\+    : matches one or more occurrences, equivalent to {1,}<br>\n",
    "?    : matches zero or one occurrences, equivalent to {0,1} <br>\n",
    "{n}  : exactly n repetitions, n>=0<br>\n",
    "{n,} : at least n rep<br>\n",
    "{,n} : at most n rep<br>\n",
    "{m,n}: at least m, at most n times<br>\n",
    "\n",
    "\\* 주의, *는 먼저 가능한 가장 많은 반복 횟수부터 차례대로 내려오며 비교한다.\n"
   ]
  },
  {
   "cell_type": "code",
   "execution_count": 91,
   "metadata": {},
   "outputs": [
    {
     "data": {
      "text/plain": [
       "<_sre.SRE_Match object; span=(0, 4), match='abcb'>"
      ]
     },
     "execution_count": 91,
     "metadata": {},
     "output_type": "execute_result"
    }
   ],
   "source": [
    "string = 'abcbd'\n",
    "\n",
    "re.search('a[bcd]*b', string)"
   ]
  },
  {
   "cell_type": "code",
   "execution_count": 92,
   "metadata": {
    "scrolled": true
   },
   "outputs": [
    {
     "name": "stdout",
     "output_type": "stream",
     "text": [
      "['@UN', '@UN_Women']\n",
      "['@UN', '@UN_Women']\n"
     ]
    }
   ],
   "source": [
    "# again, callout regex\n",
    "print([w for w in text2 if re.search('@[A-Za-z0-9_]+',w)])\n",
    "print([w for w in text2 if re.search('@\\w+', w)])  # same as above"
   ]
  },
  {
   "cell_type": "code",
   "execution_count": 93,
   "metadata": {},
   "outputs": [
    {
     "name": "stdout",
     "output_type": "stream",
     "text": [
      "['o', 'u', 'a', 'a', 'o', 'u', 'o', 'u']\n",
      "['g', 'd', 'g']\n"
     ]
    }
   ],
   "source": [
    "# Finding specific characters\n",
    "text3 = 'ouagadougou'\n",
    "print(re.findall(r'[aeiou]', text3))  #all the vowels\n",
    "print(re.findall(r'[^aeiou]', text3)) #all the consonants"
   ]
  },
  {
   "cell_type": "markdown",
   "metadata": {},
   "source": [
    " "
   ]
  },
  {
   "cell_type": "markdown",
   "metadata": {},
   "source": [
    "### 2. Using Regular Expressions\n",
    "\n",
    "##### 1) Compiling Regular Expressions\n",
    "\n",
    "Regular expressions are compiled into pattern objects, which have methods for various operations such as searching for pattern matches or performing string substitutions."
   ]
  },
  {
   "cell_type": "code",
   "execution_count": 94,
   "metadata": {},
   "outputs": [
    {
     "data": {
      "text/plain": [
       "re.compile(r'ab*', re.UNICODE)"
      ]
     },
     "execution_count": 94,
     "metadata": {},
     "output_type": "execute_result"
    }
   ],
   "source": [
    "p = re.compile('ab*')\n",
    "p"
   ]
  },
  {
   "cell_type": "code",
   "execution_count": 95,
   "metadata": {},
   "outputs": [
    {
     "data": {
      "text/plain": [
       "re.compile(r'ab*', re.IGNORECASE|re.UNICODE)"
      ]
     },
     "execution_count": 95,
     "metadata": {},
     "output_type": "execute_result"
    }
   ],
   "source": [
    "p = re.compile('ab*', re.IGNORECASE)\n",
    "p"
   ]
  },
  {
   "cell_type": "markdown",
   "metadata": {},
   "source": [
    "The solution is to use Python’s raw string notation for regular expressions; \n",
    "backslashes are not handled in any special way in a string literal prefixed with 'r', so r\"\\n\" is a two-character string containing '\\' and 'n', while \"\\n\" is a one-character string containing a newline. Regular expressions will often be written in Python code using this raw string notation."
   ]
  },
  {
   "cell_type": "markdown",
   "metadata": {},
   "source": [
    "##### 2) Functions\n",
    "\n",
    "- match() : Determine if the RE matches at the beginning of the string.\n",
    "- search(): Scan through a string, looking for any location where this RE matches.\n",
    "- findall() : Find all substrings where the RE matches, and returns them as a list.\n",
    "- finditer(): Find all substrings where the RE matches, and returns them as iterator."
   ]
  },
  {
   "cell_type": "code",
   "execution_count": 96,
   "metadata": {},
   "outputs": [
    {
     "data": {
      "text/plain": [
       "re.compile(r'[a-z]+', re.UNICODE)"
      ]
     },
     "execution_count": 96,
     "metadata": {},
     "output_type": "execute_result"
    }
   ],
   "source": [
    "p = re.compile('[a-z]+')\n",
    "p"
   ]
  },
  {
   "cell_type": "code",
   "execution_count": 97,
   "metadata": {},
   "outputs": [
    {
     "name": "stdout",
     "output_type": "stream",
     "text": [
      "None\n",
      "[]\n"
     ]
    }
   ],
   "source": [
    "# match with empty string. It should return None\n",
    "print(p.match(\"\"))\n",
    "print(p.findall(\"\"))"
   ]
  },
  {
   "cell_type": "code",
   "execution_count": 98,
   "metadata": {},
   "outputs": [
    {
     "name": "stdout",
     "output_type": "stream",
     "text": [
      "<_sre.SRE_Match object; span=(0, 5), match='tempo'>\n",
      "['tempo', 'or', 'down']\n"
     ]
    }
   ],
   "source": [
    "# In this case, match() will return a 'match' object.\n",
    "m = p.match('tempo or down')\n",
    "n = p.findall('tempo or down')\n",
    "print(m)\n",
    "print(n)"
   ]
  },
  {
   "cell_type": "code",
   "execution_count": 3,
   "metadata": {},
   "outputs": [
    {
     "name": "stdout",
     "output_type": "stream",
     "text": [
      "(0, 2)\n",
      "(22, 24)\n",
      "(29, 31)\n"
     ]
    }
   ],
   "source": [
    "# finditer\n",
    "p = re.compile('\\d+')\n",
    "iterator = p.finditer('12 drummers drumming, 11 ... 10 ...')\n",
    "\n",
    "for match in iterator:\n",
    "    print(match.span())"
   ]
  },
  {
   "cell_type": "markdown",
   "metadata": {},
   "source": [
    "##### 3) Match Object Attributes\n",
    "\n",
    "- group() : Return the string matched by RE\n",
    "- start() : Return the starting position of the match\n",
    "- end()   : Return the ending position of the match\n",
    "- span()  : Return a tuple containing the (start,end) positions of the match"
   ]
  },
  {
   "cell_type": "code",
   "execution_count": 100,
   "metadata": {
    "scrolled": true
   },
   "outputs": [
    {
     "name": "stdout",
     "output_type": "stream",
     "text": [
      "tempo\n",
      "0 5\n",
      "(0, 5)\n"
     ]
    }
   ],
   "source": [
    "print(m.group())\n",
    "print(m.start(), m.end())\n",
    "print(m.span())"
   ]
  },
  {
   "cell_type": "markdown",
   "metadata": {},
   "source": [
    "##### 4) Module-Level Functions\n",
    "\n",
    "You don’t have to create a pattern object and call its methods; \n",
    "\n",
    "the re module also provides top-level functions called **match(), search(), findall(), sub(), and so forth.** \n",
    "\n",
    "These functions take the same arguments as the corresponding pattern method with the RE string added as the first argument, and still return either None or a match object instance.\n",
    "\n",
    "<br>\n",
    "\n",
    "##### 5) Compilation Flags\n",
    "\n",
    "Compilation flags let you modify some aspects of how regular expressions work.\n",
    "\n",
    "- ASCII, A  : Makes several escapes like \\w, \\b match only on ASCII characters\n",
    "- DOTALL, S : Make '.' match any character, including newlines.\n",
    "- IGNORECASE, I : Do case-insensitive matches\n",
    "- LOCALE, L : Do a locale-aware match\n",
    "- MULTILINE, M : Multi-line matching, affecting ^ and $.\n",
    "- VERBOSE, X : Enable verbose REs, which can be organized more cleanly"
   ]
  },
  {
   "cell_type": "markdown",
   "metadata": {},
   "source": [
    "### 3. Grouping\n",
    "\n",
    "Frequently you need to obtain more information than just whether the RE matched or not.\n",
    "\n",
    "Regular expressions are often used to dissect strings by writing a RE divided into several subgroups which match different components of interest."
   ]
  },
  {
   "cell_type": "raw",
   "metadata": {},
   "source": [
    "# For example, an RFC-822 header line is divided into a header name and a value, separated by ':', like this :\n",
    "\n",
    "From: author@example.com\n",
    "User-Agent: Thunderbird 1.5.0.9 (X11/20061227)\n",
    "MIME-Version: 1.0\n",
    "To: editor@example.com\n",
    "\n",
    "# Then we can split this into two groups, one with the header name, and another with the header's value."
   ]
  },
  {
   "cell_type": "markdown",
   "metadata": {},
   "source": [
    "**Groups are marked by the ( ) metacharacters. **\n",
    "\n",
    "() have much the same meaning as they do in mathematical expression : they group together the expressions contained inside them, and you can repeate the contents of a group with a repeating qualifier, such as *, +, ?. "
   ]
  },
  {
   "cell_type": "code",
   "execution_count": 101,
   "metadata": {},
   "outputs": [
    {
     "name": "stdout",
     "output_type": "stream",
     "text": [
      "(0, 10)\n",
      "ababababab\n"
     ]
    }
   ],
   "source": [
    "# For example,\n",
    "p = re.compile('(ab)*')\n",
    "m = p.match('ababababab')\n",
    "print(m.span())\n",
    "print(m.group(0))"
   ]
  },
  {
   "cell_type": "markdown",
   "metadata": {},
   "source": [
    "** Groups are numbered starting with 0. **\n",
    "Group 0 is always present; it's the whole RE, so match object methods all have group 0 as their default argument.\n",
    "\n",
    "Subgroups are numbered from left to right, from 1 upward.\n",
    "\n",
    "Groups can be nested; to determine the number, just count the opening parenthesis chars, going from left to right."
   ]
  },
  {
   "cell_type": "code",
   "execution_count": 102,
   "metadata": {},
   "outputs": [
    {
     "name": "stdout",
     "output_type": "stream",
     "text": [
      "ab\n",
      "ab\n"
     ]
    }
   ],
   "source": [
    "p = re.compile('(a)b')\n",
    "m = p.match('abc')\n",
    "print(m.group())\n",
    "print(m.group(0))"
   ]
  },
  {
   "cell_type": "code",
   "execution_count": 103,
   "metadata": {
    "scrolled": true
   },
   "outputs": [
    {
     "name": "stdout",
     "output_type": "stream",
     "text": [
      "abcd\n",
      "abcd\n",
      "abc\n",
      "b\n"
     ]
    }
   ],
   "source": [
    "p = re.compile('(a(b)c)d')\n",
    "m = p.match('abcd')\n",
    "\n",
    "print(m.group())\n",
    "print(m.group(0))\n",
    "print(m.group(1))\n",
    "print(m.group(2))"
   ]
  },
  {
   "cell_type": "code",
   "execution_count": 104,
   "metadata": {},
   "outputs": [
    {
     "data": {
      "text/plain": [
       "('abc', 'b')"
      ]
     },
     "execution_count": 104,
     "metadata": {},
     "output_type": "execute_result"
    }
   ],
   "source": [
    "# the groups() method returns a tuple containing the strings for all the subgroups, \n",
    "# from 1 up to inf.\n",
    "m.groups()"
   ]
  },
  {
   "cell_type": "markdown",
   "metadata": {},
   "source": [
    "### 4. Non-capturing and Named Groups\n",
    "\n",
    "Elaborate REs may use many groups, both to capture substrings of interest, and to group and structure the RE itself.\n",
    "\n",
    "In complex REs, it becomes difficult to keep track of the group numbers. There are two features which help with this problem. \n",
    "\n",
    "Sometimes, you'll want to use a group to denote a part of a regular expression, but aren't interested in retrieving the group's contents.\n",
    "\n",
    "**You can make this fact explicit by using a non-capturing group (?:...), where you can replace the ... with any other regular expressions.**"
   ]
  },
  {
   "cell_type": "code",
   "execution_count": 105,
   "metadata": {},
   "outputs": [
    {
     "name": "stdout",
     "output_type": "stream",
     "text": [
      "('c',)\n"
     ]
    },
    {
     "data": {
      "text/plain": [
       "()"
      ]
     },
     "execution_count": 105,
     "metadata": {},
     "output_type": "execute_result"
    }
   ],
   "source": [
    "m = re.match(\"([abc])+\", \"abc\")\n",
    "print(m.groups())\n",
    "m = re.match(\"(?:[abc])+\", \"abc\")\n",
    "m.groups()"
   ]
  },
  {
   "cell_type": "code",
   "execution_count": 106,
   "metadata": {},
   "outputs": [
    {
     "name": "stdout",
     "output_type": "stream",
     "text": [
      "Lots\n",
      "Lots\n"
     ]
    }
   ],
   "source": [
    "p = re.compile(r'(?P<word>\\b\\w+\\b)')\n",
    "m = p.search( '(((( Lots of punctuation ))))' )\n",
    "print(m.group('word'))\n",
    "print(m.group(1))"
   ]
  },
  {
   "cell_type": "markdown",
   "metadata": {},
   "source": [
    "### 5. Regex for Dates\n",
    "\n",
    "Date variations for 23rd October 2002\n",
    "- 23-10-2002\n",
    "- 23/10/2002\n",
    "- 23/10/02\n",
    "- 10/23/2002\n",
    "- 23 Oct 2002\n",
    "- 23 October 2002\n",
    "- Oct 23, 2002\n",
    "- October 23, 2002\n",
    "\n",
    "maybe in types of following : \\d{2}[/-]\\d{2}[/-]\\d{4}"
   ]
  },
  {
   "cell_type": "code",
   "execution_count": 107,
   "metadata": {},
   "outputs": [
    {
     "name": "stdout",
     "output_type": "stream",
     "text": [
      "['23-10-2002', '23/10/2002', '23/10/2002', '10/23/2002']\n",
      "['23-10-2002', '23/10/2002', '23/10/2002', '10/23/2002']\n",
      "['23-9-2001', '23-10-2002', '23/10/2002', '23/10/2002', '10/23/2002']\n"
     ]
    }
   ],
   "source": [
    "dateStr = '23-9-2001\\n23-10-2002\\n23/10/2002\\n23/10/2002\\n10/23/2002\\n23 Oct 2002\\n23 October 2002\\nOct 23, 2002\\nOctober 23, 2002\\n'\n",
    "dateStr\n",
    "\n",
    "print(re.findall(r'\\d{2}[/-]\\d{2}[/-]\\d{4}', dateStr))  # still one's missing\n",
    "print(re.findall(r'\\d{2}[/-]\\d{2}[/-]\\d{2,4}', dateStr)) # now we have them all\n",
    "print(re.findall(r'\\d{1,2}[/-]\\d{1,2}[/-]\\d{2,4}', dateStr)) # For other months"
   ]
  },
  {
   "cell_type": "code",
   "execution_count": 108,
   "metadata": {},
   "outputs": [
    {
     "data": {
      "text/plain": [
       "['23 Oct 2002', '23 October 2002', 'Oct 23, 2002', 'October 23, 2002']"
      ]
     },
     "execution_count": 108,
     "metadata": {},
     "output_type": "execute_result"
    }
   ],
   "source": [
    "re.findall(r'(?:\\d{2} )?(?:Jan|Feb|Mar|Apr|May|Jun|Jul|Aug|Sep|Oct|Nov|Dec)[a-z]* (?:\\d{2}, )?\\d{4}', dateStr)"
   ]
  },
  {
   "cell_type": "code",
   "execution_count": 109,
   "metadata": {
    "scrolled": true
   },
   "outputs": [
    {
     "name": "stdout",
     "output_type": "stream",
     "text": [
      "['Oct']\n",
      "['23 Oct 2002']\n",
      "['23 Oct 2002', '23 October 2002']\n",
      "['23 Oct 2002', '23 October 2002', 'Oct 23, 2002', 'October 23, 2002']\n",
      "['23 Oct 2002', '23 October 2002', 'Oct 23, 2002', 'October 23, 2002']\n"
     ]
    }
   ],
   "source": [
    "# Now in spelled months\n",
    "\n",
    "print(re.findall(r'\\d{2} (Jan|Feb|Mar|Apr|May|Jun|Jul|Aug|Sep|Oct|Nov|Dec) \\d{4}', dateStr))\n",
    "# what happened?\n",
    "# scoping:() only shows the scoped part even if other parts matched them\n",
    "\n",
    "print(re.findall(r'\\d{2} (?:Jan|Feb|Mar|Apr|May|Jun|Jul|Aug|Sep|Oct|Nov|Dec) \\d{4}', dateStr))\n",
    "# To indicate \"also include others\"\n",
    "\n",
    "print(re.findall(r'\\d{2} (?:Jan|Feb|Mar|Apr|May|Jun|Jul|Aug|Sep|Oct|Nov|Dec)[a-z]* \\d{4}', dateStr))\n",
    "# [a-z]* to include Oct'ober'\n",
    "\n",
    "print(re.findall(r'(?:\\d{2} )?(?:Jan|Feb|Mar|Apr|May|Jun|Jul|Aug|Sep|Oct|Nov|Dec)[a-z]* (?:\\d{2}, )?\\d{4}', dateStr))\n",
    "# include another\n",
    "\n",
    "print(re.findall(r'(?:\\d{1,2} )?(?:Jan|Feb|Mar|Apr|May|Jun|Jul|Aug|Sep|Oct|Nov|Dec)[a-z]* (?:\\d{1,2}, )?\\d{4}', dateStr))\n",
    "# include other months"
   ]
  },
  {
   "cell_type": "markdown",
   "metadata": {},
   "source": [
    "## Regex with Pandas and Named Groups"
   ]
  },
  {
   "cell_type": "code",
   "execution_count": 110,
   "metadata": {
    "scrolled": true
   },
   "outputs": [
    {
     "data": {
      "text/html": [
       "<div>\n",
       "<style>\n",
       "    .dataframe thead tr:only-child th {\n",
       "        text-align: right;\n",
       "    }\n",
       "\n",
       "    .dataframe thead th {\n",
       "        text-align: left;\n",
       "    }\n",
       "\n",
       "    .dataframe tbody tr th {\n",
       "        vertical-align: top;\n",
       "    }\n",
       "</style>\n",
       "<table border=\"1\" class=\"dataframe\">\n",
       "  <thead>\n",
       "    <tr style=\"text-align: right;\">\n",
       "      <th></th>\n",
       "      <th>text</th>\n",
       "    </tr>\n",
       "  </thead>\n",
       "  <tbody>\n",
       "    <tr>\n",
       "      <th>0</th>\n",
       "      <td>Monday: The doctor's appointment is at 2:45pm.</td>\n",
       "    </tr>\n",
       "    <tr>\n",
       "      <th>1</th>\n",
       "      <td>Tuesday: The dentist's appointment is at 11:30...</td>\n",
       "    </tr>\n",
       "    <tr>\n",
       "      <th>2</th>\n",
       "      <td>Wednesday: At 7:00pm, there is a basketball game!</td>\n",
       "    </tr>\n",
       "    <tr>\n",
       "      <th>3</th>\n",
       "      <td>Thursday: Be back home by 11:15 pm at the latest.</td>\n",
       "    </tr>\n",
       "    <tr>\n",
       "      <th>4</th>\n",
       "      <td>Friday: Take the train at 08:10 am, arrive at ...</td>\n",
       "    </tr>\n",
       "  </tbody>\n",
       "</table>\n",
       "</div>"
      ],
      "text/plain": [
       "                                                text\n",
       "0     Monday: The doctor's appointment is at 2:45pm.\n",
       "1  Tuesday: The dentist's appointment is at 11:30...\n",
       "2  Wednesday: At 7:00pm, there is a basketball game!\n",
       "3  Thursday: Be back home by 11:15 pm at the latest.\n",
       "4  Friday: Take the train at 08:10 am, arrive at ..."
      ]
     },
     "execution_count": 110,
     "metadata": {},
     "output_type": "execute_result"
    }
   ],
   "source": [
    "import pandas as pd\n",
    "\n",
    "time_sentences = [\"Monday: The doctor's appointment is at 2:45pm.\", \n",
    "                  \"Tuesday: The dentist's appointment is at 11:30 am.\",\n",
    "                  \"Wednesday: At 7:00pm, there is a basketball game!\",\n",
    "                  \"Thursday: Be back home by 11:15 pm at the latest.\",\n",
    "                  \"Friday: Take the train at 08:10 am, arrive at 09:00am.\"]\n",
    "\n",
    "df = pd.DataFrame(time_sentences, columns=['text'])\n",
    "df"
   ]
  },
  {
   "cell_type": "code",
   "execution_count": 111,
   "metadata": {},
   "outputs": [
    {
     "data": {
      "text/plain": [
       "0    46\n",
       "1    50\n",
       "2    49\n",
       "3    49\n",
       "4    54\n",
       "Name: text, dtype: int64"
      ]
     },
     "execution_count": 111,
     "metadata": {},
     "output_type": "execute_result"
    }
   ],
   "source": [
    "# find the number of characters for each string in df['text']\n",
    "df['text'].str.len()  # Series -> String -> Length"
   ]
  },
  {
   "cell_type": "code",
   "execution_count": 112,
   "metadata": {},
   "outputs": [
    {
     "data": {
      "text/plain": [
       "0     7\n",
       "1     8\n",
       "2     8\n",
       "3    10\n",
       "4    10\n",
       "Name: text, dtype: int64"
      ]
     },
     "execution_count": 112,
     "metadata": {},
     "output_type": "execute_result"
    }
   ],
   "source": [
    "# find the number of tokens for each string in df['text']\n",
    "df['text'].str.split().str.len()"
   ]
  },
  {
   "cell_type": "code",
   "execution_count": 113,
   "metadata": {},
   "outputs": [
    {
     "data": {
      "text/plain": [
       "0     True\n",
       "1     True\n",
       "2    False\n",
       "3    False\n",
       "4    False\n",
       "Name: text, dtype: bool"
      ]
     },
     "execution_count": 113,
     "metadata": {},
     "output_type": "execute_result"
    }
   ],
   "source": [
    "# find which entries contain the word 'appointment'\n",
    "df['text'].str.contains('appointment')"
   ]
  },
  {
   "cell_type": "code",
   "execution_count": 114,
   "metadata": {},
   "outputs": [
    {
     "data": {
      "text/plain": [
       "0    3\n",
       "1    4\n",
       "2    3\n",
       "3    4\n",
       "4    8\n",
       "Name: text, dtype: int64"
      ]
     },
     "execution_count": 114,
     "metadata": {},
     "output_type": "execute_result"
    }
   ],
   "source": [
    "# find how many times a digit occurs in each string\n",
    "df['text'].str.count(r'\\d')"
   ]
  },
  {
   "cell_type": "code",
   "execution_count": 115,
   "metadata": {},
   "outputs": [
    {
     "name": "stdout",
     "output_type": "stream",
     "text": [
      "0    46\n",
      "1    50\n",
      "2    49\n",
      "3    49\n",
      "4    54\n",
      "Name: text, dtype: int64\n"
     ]
    },
    {
     "data": {
      "text/plain": [
       "0                   [2, 4, 5]\n",
       "1                [1, 1, 3, 0]\n",
       "2                   [7, 0, 0]\n",
       "3                [1, 1, 1, 5]\n",
       "4    [0, 8, 1, 0, 0, 9, 0, 0]\n",
       "Name: text, dtype: object"
      ]
     },
     "execution_count": 115,
     "metadata": {},
     "output_type": "execute_result"
    }
   ],
   "source": [
    "# find all occurances of the digits\n",
    "print(df['text'].str.len())\n",
    "df['text'].str.findall(r'\\d')"
   ]
  },
  {
   "cell_type": "code",
   "execution_count": 116,
   "metadata": {},
   "outputs": [
    {
     "data": {
      "text/plain": [
       "0               [(2, 45)]\n",
       "1              [(11, 30)]\n",
       "2               [(7, 00)]\n",
       "3              [(11, 15)]\n",
       "4    [(08, 10), (09, 00)]\n",
       "Name: text, dtype: object"
      ]
     },
     "execution_count": 116,
     "metadata": {},
     "output_type": "execute_result"
    }
   ],
   "source": [
    "# group and find the hours and minutes\n",
    "df['text'].str.findall(r'(\\d?\\d):(\\d\\d)')"
   ]
  },
  {
   "cell_type": "code",
   "execution_count": 117,
   "metadata": {},
   "outputs": [
    {
     "data": {
      "text/plain": [
       "0          ???: The doctor's appointment is at 2:45pm.\n",
       "1       ???: The dentist's appointment is at 11:30 am.\n",
       "2          ???: At 7:00pm, there is a basketball game!\n",
       "3         ???: Be back home by 11:15 pm at the latest.\n",
       "4    ???: Take the train at 08:10 am, arrive at 09:...\n",
       "Name: text, dtype: object"
      ]
     },
     "execution_count": 117,
     "metadata": {},
     "output_type": "execute_result"
    }
   ],
   "source": [
    "# replace weekdays with '???'\n",
    "df['text'].str.replace(r'\\w+day\\b', '???')"
   ]
  },
  {
   "cell_type": "code",
   "execution_count": 118,
   "metadata": {},
   "outputs": [
    {
     "data": {
      "text/plain": [
       "0          Mon: The doctor's appointment is at 2:45pm.\n",
       "1       Tue: The dentist's appointment is at 11:30 am.\n",
       "2          Wed: At 7:00pm, there is a basketball game!\n",
       "3         Thu: Be back home by 11:15 pm at the latest.\n",
       "4    Fri: Take the train at 08:10 am, arrive at 09:...\n",
       "Name: text, dtype: object"
      ]
     },
     "execution_count": 118,
     "metadata": {},
     "output_type": "execute_result"
    }
   ],
   "source": [
    "# replace weekdays with 3 letter abbrevations\n",
    "df['text'].str.replace(r'(\\w+day\\b)', lambda x: x.groups()[0][:3])"
   ]
  },
  {
   "cell_type": "code",
   "execution_count": 119,
   "metadata": {},
   "outputs": [
    {
     "name": "stderr",
     "output_type": "stream",
     "text": [
      "/home/dabuntu/Apps/anaconda/lib/python3.6/site-packages/ipykernel_launcher.py:2: FutureWarning: currently extract(expand=None) means expand=False (return Index/Series/DataFrame) but in a future version of pandas this will be changed to expand=True (return DataFrame)\n",
      "  \n"
     ]
    },
    {
     "data": {
      "text/html": [
       "<div>\n",
       "<style>\n",
       "    .dataframe thead tr:only-child th {\n",
       "        text-align: right;\n",
       "    }\n",
       "\n",
       "    .dataframe thead th {\n",
       "        text-align: left;\n",
       "    }\n",
       "\n",
       "    .dataframe tbody tr th {\n",
       "        vertical-align: top;\n",
       "    }\n",
       "</style>\n",
       "<table border=\"1\" class=\"dataframe\">\n",
       "  <thead>\n",
       "    <tr style=\"text-align: right;\">\n",
       "      <th></th>\n",
       "      <th>0</th>\n",
       "      <th>1</th>\n",
       "    </tr>\n",
       "  </thead>\n",
       "  <tbody>\n",
       "    <tr>\n",
       "      <th>0</th>\n",
       "      <td>2</td>\n",
       "      <td>45</td>\n",
       "    </tr>\n",
       "    <tr>\n",
       "      <th>1</th>\n",
       "      <td>11</td>\n",
       "      <td>30</td>\n",
       "    </tr>\n",
       "    <tr>\n",
       "      <th>2</th>\n",
       "      <td>7</td>\n",
       "      <td>00</td>\n",
       "    </tr>\n",
       "    <tr>\n",
       "      <th>3</th>\n",
       "      <td>11</td>\n",
       "      <td>15</td>\n",
       "    </tr>\n",
       "    <tr>\n",
       "      <th>4</th>\n",
       "      <td>08</td>\n",
       "      <td>10</td>\n",
       "    </tr>\n",
       "  </tbody>\n",
       "</table>\n",
       "</div>"
      ],
      "text/plain": [
       "    0   1\n",
       "0   2  45\n",
       "1  11  30\n",
       "2   7  00\n",
       "3  11  15\n",
       "4  08  10"
      ]
     },
     "execution_count": 119,
     "metadata": {},
     "output_type": "execute_result"
    }
   ],
   "source": [
    "# create new columns from first match of extracted groups\n",
    "df['text'].str.extract(r'(\\d?\\d):(\\d\\d)')\n",
    "\n",
    "# to get all matches, use extractall function"
   ]
  },
  {
   "cell_type": "code",
   "execution_count": 120,
   "metadata": {},
   "outputs": [
    {
     "data": {
      "text/html": [
       "<div>\n",
       "<style>\n",
       "    .dataframe thead tr:only-child th {\n",
       "        text-align: right;\n",
       "    }\n",
       "\n",
       "    .dataframe thead th {\n",
       "        text-align: left;\n",
       "    }\n",
       "\n",
       "    .dataframe tbody tr th {\n",
       "        vertical-align: top;\n",
       "    }\n",
       "</style>\n",
       "<table border=\"1\" class=\"dataframe\">\n",
       "  <thead>\n",
       "    <tr style=\"text-align: right;\">\n",
       "      <th></th>\n",
       "      <th></th>\n",
       "      <th>0</th>\n",
       "      <th>1</th>\n",
       "      <th>2</th>\n",
       "      <th>3</th>\n",
       "    </tr>\n",
       "    <tr>\n",
       "      <th></th>\n",
       "      <th>match</th>\n",
       "      <th></th>\n",
       "      <th></th>\n",
       "      <th></th>\n",
       "      <th></th>\n",
       "    </tr>\n",
       "  </thead>\n",
       "  <tbody>\n",
       "    <tr>\n",
       "      <th>0</th>\n",
       "      <th>0</th>\n",
       "      <td>2:45pm</td>\n",
       "      <td>2</td>\n",
       "      <td>45</td>\n",
       "      <td>pm</td>\n",
       "    </tr>\n",
       "    <tr>\n",
       "      <th>1</th>\n",
       "      <th>0</th>\n",
       "      <td>11:30 am</td>\n",
       "      <td>11</td>\n",
       "      <td>30</td>\n",
       "      <td>am</td>\n",
       "    </tr>\n",
       "    <tr>\n",
       "      <th>2</th>\n",
       "      <th>0</th>\n",
       "      <td>7:00pm</td>\n",
       "      <td>7</td>\n",
       "      <td>00</td>\n",
       "      <td>pm</td>\n",
       "    </tr>\n",
       "    <tr>\n",
       "      <th>3</th>\n",
       "      <th>0</th>\n",
       "      <td>11:15 pm</td>\n",
       "      <td>11</td>\n",
       "      <td>15</td>\n",
       "      <td>pm</td>\n",
       "    </tr>\n",
       "    <tr>\n",
       "      <th rowspan=\"2\" valign=\"top\">4</th>\n",
       "      <th>0</th>\n",
       "      <td>08:10 am</td>\n",
       "      <td>08</td>\n",
       "      <td>10</td>\n",
       "      <td>am</td>\n",
       "    </tr>\n",
       "    <tr>\n",
       "      <th>1</th>\n",
       "      <td>09:00am</td>\n",
       "      <td>09</td>\n",
       "      <td>00</td>\n",
       "      <td>am</td>\n",
       "    </tr>\n",
       "  </tbody>\n",
       "</table>\n",
       "</div>"
      ],
      "text/plain": [
       "                0   1   2   3\n",
       "  match                      \n",
       "0 0        2:45pm   2  45  pm\n",
       "1 0      11:30 am  11  30  am\n",
       "2 0        7:00pm   7  00  pm\n",
       "3 0      11:15 pm  11  15  pm\n",
       "4 0      08:10 am  08  10  am\n",
       "  1       09:00am  09  00  am"
      ]
     },
     "execution_count": 120,
     "metadata": {},
     "output_type": "execute_result"
    }
   ],
   "source": [
    "# extract the entire time, the hours, the minutes, and the period\n",
    "df['text'].str.extractall(r'((\\d?\\d):(\\d\\d) ?([ap]m))')"
   ]
  },
  {
   "cell_type": "code",
   "execution_count": 121,
   "metadata": {
    "scrolled": true
   },
   "outputs": [
    {
     "data": {
      "text/html": [
       "<div>\n",
       "<style>\n",
       "    .dataframe thead tr:only-child th {\n",
       "        text-align: right;\n",
       "    }\n",
       "\n",
       "    .dataframe thead th {\n",
       "        text-align: left;\n",
       "    }\n",
       "\n",
       "    .dataframe tbody tr th {\n",
       "        vertical-align: top;\n",
       "    }\n",
       "</style>\n",
       "<table border=\"1\" class=\"dataframe\">\n",
       "  <thead>\n",
       "    <tr style=\"text-align: right;\">\n",
       "      <th></th>\n",
       "      <th></th>\n",
       "      <th>time</th>\n",
       "      <th>hour</th>\n",
       "      <th>minute</th>\n",
       "      <th>period</th>\n",
       "    </tr>\n",
       "    <tr>\n",
       "      <th></th>\n",
       "      <th>match</th>\n",
       "      <th></th>\n",
       "      <th></th>\n",
       "      <th></th>\n",
       "      <th></th>\n",
       "    </tr>\n",
       "  </thead>\n",
       "  <tbody>\n",
       "    <tr>\n",
       "      <th>0</th>\n",
       "      <th>0</th>\n",
       "      <td>2:45pm</td>\n",
       "      <td>2</td>\n",
       "      <td>45</td>\n",
       "      <td>pm</td>\n",
       "    </tr>\n",
       "    <tr>\n",
       "      <th>1</th>\n",
       "      <th>0</th>\n",
       "      <td>11:30 am</td>\n",
       "      <td>11</td>\n",
       "      <td>30</td>\n",
       "      <td>am</td>\n",
       "    </tr>\n",
       "    <tr>\n",
       "      <th>2</th>\n",
       "      <th>0</th>\n",
       "      <td>7:00pm</td>\n",
       "      <td>7</td>\n",
       "      <td>00</td>\n",
       "      <td>pm</td>\n",
       "    </tr>\n",
       "    <tr>\n",
       "      <th>3</th>\n",
       "      <th>0</th>\n",
       "      <td>11:15 pm</td>\n",
       "      <td>11</td>\n",
       "      <td>15</td>\n",
       "      <td>pm</td>\n",
       "    </tr>\n",
       "    <tr>\n",
       "      <th rowspan=\"2\" valign=\"top\">4</th>\n",
       "      <th>0</th>\n",
       "      <td>08:10 am</td>\n",
       "      <td>08</td>\n",
       "      <td>10</td>\n",
       "      <td>am</td>\n",
       "    </tr>\n",
       "    <tr>\n",
       "      <th>1</th>\n",
       "      <td>09:00am</td>\n",
       "      <td>09</td>\n",
       "      <td>00</td>\n",
       "      <td>am</td>\n",
       "    </tr>\n",
       "  </tbody>\n",
       "</table>\n",
       "</div>"
      ],
      "text/plain": [
       "             time hour minute period\n",
       "  match                             \n",
       "0 0        2:45pm    2     45     pm\n",
       "1 0      11:30 am   11     30     am\n",
       "2 0        7:00pm    7     00     pm\n",
       "3 0      11:15 pm   11     15     pm\n",
       "4 0      08:10 am   08     10     am\n",
       "  1       09:00am   09     00     am"
      ]
     },
     "execution_count": 121,
     "metadata": {},
     "output_type": "execute_result"
    }
   ],
   "source": [
    "# extract the entire time, the hours, the minutes, and the period with group names\n",
    "df['text'].str.extractall(r'(?P<time>(?P<hour>\\d?\\d):(?P<minute>\\d\\d) ?(?P<period>[ap]m))')"
   ]
  },
  {
   "cell_type": "markdown",
   "metadata": {},
   "source": [
    "### Regex Methods\n",
    "\n",
    "- **regex.match(string, pos, endpos)**\n",
    "<br>if \"beginning\" of string matches the regex, returns a corresponding match object\n",
    "\n",
    "- **regex.fullmatch(string, pos, endpos)**\n",
    "<br>if the \"whole\" string matches the regex, returnsa corresponding match object\n",
    "\n",
    "- **regex.split(string, maxsplit= 0)**\n",
    "<br>identical to the split() function with given pattern\n",
    "\n",
    "- **regex.findall(string, pos, end)**\n",
    "<br>return all matches of pattern in string, as a list of strings\n",
    "\n",
    "- **regex.finditer(string, pos, end) **\n",
    "<br>return an iterator yielding match objects\n"
   ]
  },
  {
   "cell_type": "code",
   "execution_count": 366,
   "metadata": {
    "scrolled": true
   },
   "outputs": [
    {
     "name": "stdout",
     "output_type": "stream",
     "text": [
      "None\n",
      "None\n",
      "<_sre.SRE_Match object; span=(1, 3), match='og'>\n"
     ]
    }
   ],
   "source": [
    "# fullmatch example\n",
    "pattern = re.compile(\"o[gh]\")\n",
    "print(pattern.fullmatch(\"dog\")) # no match as \"o\" is not at the start of \"dog\"\n",
    "print(pattern.fullmatch(\"ogre\"))\n",
    "print(pattern.fullmatch(\"doggie\", 1, 3))"
   ]
  },
  {
   "cell_type": "code",
   "execution_count": 367,
   "metadata": {},
   "outputs": [
    {
     "data": {
      "text/plain": [
       "['0', '3', '9']"
      ]
     },
     "execution_count": 367,
     "metadata": {},
     "output_type": "execute_result"
    }
   ],
   "source": [
    "# split example\n",
    "re.split('[a-f+]', '0a3B9', flags=re.IGNORECASE)"
   ]
  },
  {
   "cell_type": "markdown",
   "metadata": {},
   "source": [
    "### Regex Group\n",
    "\n",
    "- **match.group**\n",
    "<br> returns one or more subgroups of the match\n",
    "\n",
    "- **match.groups()**\n",
    "<br>return a tuple containing all the subgroups of the match, from 1 upto however many groups there are in the pattern\n",
    "\n",
    "- **match.groupdict() **\n",
    "<br>return a dict containing all the named subgroups of the match, keyed by the subgroup name"
   ]
  },
  {
   "cell_type": "code",
   "execution_count": 368,
   "metadata": {},
   "outputs": [
    {
     "name": "stdout",
     "output_type": "stream",
     "text": [
      "Isaac newton\n",
      "Isaac\n",
      "newton\n",
      "('Isaac', 'newton')\n"
     ]
    },
    {
     "data": {
      "text/plain": [
       "'newton'"
      ]
     },
     "execution_count": 368,
     "metadata": {},
     "output_type": "execute_result"
    }
   ],
   "source": [
    "# group example\n",
    "m = re.match(r\"(\\w+) (\\w+)\", \"Isaac newton, Physicist\")\n",
    "print(m.group(0))  # The entire match\n",
    "print(m.group(1))  # The first parenthesized subgroup\n",
    "print(m.group(2))  # The second parenthesized subgroup\n",
    "print(m.group(1,2))# Mtp given as tuple\n",
    "\n",
    "m[2] # same as m.group(2)"
   ]
  },
  {
   "cell_type": "code",
   "execution_count": 369,
   "metadata": {},
   "outputs": [
    {
     "data": {
      "text/plain": [
       "'c3'"
      ]
     },
     "execution_count": 369,
     "metadata": {},
     "output_type": "execute_result"
    }
   ],
   "source": [
    "# if a group matches mtp times, only the last match is accessible.\n",
    "m = re.match(r\"(..)+\", \"a1b2c3\") # matches 3 times\n",
    "m.group(1)"
   ]
  },
  {
   "cell_type": "markdown",
   "metadata": {},
   "source": [
    "### Regex Complement\n",
    "\n",
    "Both patterns and strings to be searched can be Unicode strings as well as 8-bit strings. However, they cannot be mixed.\n",
    "\n",
    "Regex use the baskslash character (\"\\\") to indicate special forms or to allow special char to be used without invoking their special meaning. This collide's Python's usage of the same char for the same purpose in string literal.\n",
    "\n",
    "For example, to match a literal backslash, we should use '\\\\\\\\' because regex must be \\\\, and each backslash must be expressed as \\\\ inside a regular Python literal.\n",
    "\n",
    "-> The Solution is to use `r\"\\n\"`."
   ]
  },
  {
   "cell_type": "code",
   "execution_count": 370,
   "metadata": {},
   "outputs": [
    {
     "data": {
      "text/plain": [
       "<_sre.SRE_Match object; span=(2, 11), match='<a> b <c>'>"
      ]
     },
     "execution_count": 370,
     "metadata": {},
     "output_type": "execute_result"
    }
   ],
   "source": [
    "import re\n",
    "# search는 처음으로 일치하는 매치 오브젝트를 반환한다.\n",
    "sent = 'b <a> b <c>'\n",
    "re.search('<.*>', sent)"
   ]
  },
  {
   "cell_type": "code",
   "execution_count": 371,
   "metadata": {
    "collapsed": true
   },
   "outputs": [],
   "source": [
    "# match는 string의 첫 부분부터 일치하는 오브젝트를 반환한다.\n",
    "re.match('<.*>', sent)"
   ]
  },
  {
   "cell_type": "markdown",
   "metadata": {},
   "source": [
    "#### *?, +?, ??\n",
    "\n",
    "The `'*', '+', and '?'` qualifiers are all greedy ; they match as much text as possible.<br>\n",
    "Sometimes, this behavior isn't desired; if the RE `<.*>` is matched against `<a> b <c>`, it will match the entire string, not just `<a>`. <br>\n",
    "Adding ? after it performs the match in non-greedy or minimal fashion.\n",
    "\n",
    "아래의 예를 살펴보자"
   ]
  },
  {
   "cell_type": "code",
   "execution_count": 372,
   "metadata": {},
   "outputs": [
    {
     "data": {
      "text/plain": [
       "<_sre.SRE_Match object; span=(2, 11), match='<a> b <c>'>"
      ]
     },
     "execution_count": 372,
     "metadata": {},
     "output_type": "execute_result"
    }
   ],
   "source": [
    "# greedy way -> sent 전체 문장이 일치한다\n",
    "\n",
    "sent = 'b <a> b <c>'\n",
    "re.search('<.*>', sent)"
   ]
  },
  {
   "cell_type": "code",
   "execution_count": 373,
   "metadata": {},
   "outputs": [
    {
     "data": {
      "text/plain": [
       "<_sre.SRE_Match object; span=(2, 5), match='<a>'>"
      ]
     },
     "execution_count": 373,
     "metadata": {},
     "output_type": "execute_result"
    }
   ],
   "source": [
    "# non greedy way -> minimal하게 <a>만 일치한다.\n",
    "\n",
    "re.search('<.*?>', sent)"
   ]
  },
  {
   "cell_type": "markdown",
   "metadata": {},
   "source": [
    "#### Other Extensions\n",
    "\n",
    "- (?...) : extension notation\n",
    "- (?aiLmsux) : Entire flagging (re.A, re.I, re.L ,...). They should be used first in the expression string.\n",
    "- (?:...) : Non-capturing version of regular parentheses. Substring matched cannot be retrieved.\n",
    "- (?imsx-imsx:...) : Sets or Removes the corresponding flags.\n",
    "- (?P\\<name\\>...) : Similar to regular parentheses, but the substring matched is accessible.\n",
    "- (?P=name) : back-reference to a named group; matches whatever was matched by earlier-group\n",
    "- (?#...) : Comment, ignored\n",
    "- (?=...) : Lookahead assertion, matches if ... matches next <br> For example, Issac (?=Asimov) match 'Isaac' only if it's followed by 'Asimov'\n",
    "- (?!...) : negative Lookahead assertion, matches if ... does not match next.<br> For example, Isaac (?!Asimov) match 'Isaac' only if it's not followed by 'Asimov'\n",
    "- (?<=...) : Positive lookbehind assertion; matches if the cur pos in the string is preceded by a match for ... that ends at the cur pos.\n",
    "- (?<!...) : negative Lookbehind assertion\n",
    "- (? (id/name) yes-pattern | no-pattern) : if the group with given id exists, match with yes-pattern, otw, no-pattern"
   ]
  },
  {
   "cell_type": "markdown",
   "metadata": {},
   "source": [
    "#### Referencing in different ways\n",
    "\n",
    "1. in the same pattern itself\n",
    "    1. (?P=name)\n",
    "    2. \\\\1\n",
    "\n",
    "2. when processing match object m\n",
    "    1. m.group('name')\n",
    "    2. m[1]\n",
    "    3. m.end('name')\n",
    "\n",
    "3. in a string passed to the repl argument of re.sub()\n",
    "    1. \\g<name>\n",
    "    2. \\\\g<1>\n",
    "    3. \\\\1"
   ]
  }
 ],
 "metadata": {
  "kernelspec": {
   "display_name": "Python 3",
   "language": "python",
   "name": "python3"
  },
  "language_info": {
   "codemirror_mode": {
    "name": "ipython",
    "version": 3
   },
   "file_extension": ".py",
   "mimetype": "text/x-python",
   "name": "python",
   "nbconvert_exporter": "python",
   "pygments_lexer": "ipython3",
   "version": "3.6.3"
  }
 },
 "nbformat": 4,
 "nbformat_minor": 2
}
