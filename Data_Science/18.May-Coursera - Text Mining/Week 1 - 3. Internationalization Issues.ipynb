{
 "cells": [
  {
   "cell_type": "markdown",
   "metadata": {},
   "source": [
    "## Internationalization & Issues with Non-ASCII Chars\n",
    "\n",
    "<br>\n",
    "**ASCII** : American Standard Code for Information Interchange\n",
    "- 7-bit character encoding standard: 128 valid codes\n",
    "- Range : 0x00-0x7F [(0000 0000)_2 to (0111 1111)_2]\n",
    "- Includes alphabets, digits, punctuations, common symbols, control characters\n",
    "- Worked relatively well for English\n",
    "  \n",
    "  \n",
    "What used to be enough for English is definitely not enough for this world now.\n",
    "\n",
    "<br>\n",
    "**Other Character Encodings**\n",
    "- IBM EBCDIC\n",
    "- Latin-1\n",
    "- JIS : Japanese Industrial Standards\n",
    "- CCCII : Chinese Character Code for Information Interchange\n",
    "- EUC : Extended Unix Code\n",
    "- Numerous other national standards\n",
    "- Unicode and UTF-8\n",
    "\n"
   ]
  },
  {
   "cell_type": "markdown",
   "metadata": {},
   "source": [
    "### 1. Unicode\n",
    "\n",
    "1) Industry standard for encoding and representing text.\n",
    "\n",
    "2) Over 128,000 chars from 130+ scripts and symbol sets.\n",
    "\n",
    "3) Can be implemented by different character endings\n",
    "    - UTF-8 : One byte to upto four bytes\n",
    "    - UTF-16: One or two 16-bit code units\n",
    "    - UTF-32: One 32-bit code unit\n",
    "\n",
    "##### 1) UTF-8\n",
    "- Unicode Transformational Format - 8-bits\n",
    "- Variable length encoding : One to four bytes\n",
    "- Backward compatible with ASCII -> One byte codes same as ASCII\n",
    "- Dominant character encoding for the Web\n",
    "    - Default in Python 3\n",
    "    - in Python2 : #-*-coding:utf-8 ..\n",
    "  "
   ]
  }
 ],
 "metadata": {
  "kernelspec": {
   "display_name": "Python 3",
   "language": "python",
   "name": "python3"
  },
  "language_info": {
   "codemirror_mode": {
    "name": "ipython",
    "version": 3
   },
   "file_extension": ".py",
   "mimetype": "text/x-python",
   "name": "python",
   "nbconvert_exporter": "python",
   "pygments_lexer": "ipython3",
   "version": "3.6.3"
  }
 },
 "nbformat": 4,
 "nbformat_minor": 2
}
