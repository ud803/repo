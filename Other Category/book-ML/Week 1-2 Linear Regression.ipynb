{
 "cells": [
  {
   "cell_type": "markdown",
   "metadata": {},
   "source": [
    "# Linear Regression with one variable \n",
    "### (Univariate linear regression)\n",
    "\n",
    "주택의 면적과 가격 사이의 관계를 살펴보려고 한다.\n",
    "\n",
    "x축이 면적, y축이 가격인 그래프에 과거 데이터들을 입력할 수 있다.\n",
    "\n",
    "우리는 **과거 데이터**라는 정답을 알고 있기 때문에 **지도 학습**이고,\n",
    "\n",
    "**Real-Valued Output**을 예측하려는 것이기 때문에 **회귀(Regression)**를 사용한다.\n",
    "\n",
    "<br>\n",
    "**< Notation >**\n",
    "- $ m $ = Number of training examples\n",
    "- $x's$ = \"input\" variable / features\n",
    "- $y's$ = \"output\" variable / \"target\" variable\n",
    "- $(x,y)$ = one training example\n",
    "- $(x^{(i)},y^{(i)})$ = $i^{th}$ example\n",
    "\n",
    "<br>\n",
    "### 1. 프로세스\n",
    "\n",
    "**Training Set -> Learning Algorithm -> h(hypothesis)**\n",
    "\n",
    "<br>\n",
    "![title](./Materials/Image/A.png)"
   ]
  },
  {
   "cell_type": "markdown",
   "metadata": {},
   "source": [
    "\n",
    "h는 x's를 y's로 보내는 함수이다.\n",
    "\n",
    "$$ h(x) = h_\\theta(x) = \\theta_0+\\theta_1x $$\n",
    "\n",
    "우리의 목표는 y를 잘 찾아내는 h(x)를 찾아내는 것이다. 관습적으로 \"가설(Hypothesis)\"라고 쓰였기 때문에 계속 그렇게 사용한다.\n",
    "\n",
    "목표 변수가 연속형이라면 이것은 **회귀 문제**가 되고, 명목형 변수라면 **분류 문제**가 된다.\n",
    "\n",
    "여기서 주택의 가격은 연속형이기 때문에 회귀 문제가 되고, 여기서는 1변수 선형 회귀 분석을 해본다."
   ]
  },
  {
   "cell_type": "markdown",
   "metadata": {},
   "source": [
    "### 2. Cost Function\n",
    "\n"
   ]
  }
 ],
 "metadata": {
  "kernelspec": {
   "display_name": "Python 3",
   "language": "python",
   "name": "python3"
  },
  "language_info": {
   "codemirror_mode": {
    "name": "ipython",
    "version": 3
   },
   "file_extension": ".py",
   "mimetype": "text/x-python",
   "name": "python",
   "nbconvert_exporter": "python",
   "pygments_lexer": "ipython3",
   "version": "3.6.3"
  }
 },
 "nbformat": 4,
 "nbformat_minor": 2
}
