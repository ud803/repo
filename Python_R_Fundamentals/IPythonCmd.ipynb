{
 "cells": [
  {
   "cell_type": "markdown",
   "metadata": {},
   "source": [
    "## IPython Commands\n",
    "\n"
   ]
  },
  {
   "cell_type": "markdown",
   "metadata": {},
   "source": [
    "### 1. Keyboard Shortcuts in the IPython Shell\n",
    "\n",
    "1. Navigation Shortcuts\n",
    "    - Ctrl-a : Cursor to the beginning of the line\n",
    "    - Ctrl-e : Cursor to the end of the line\n",
    "    - Ctrl-b : back one char\n",
    "    - Ctrl-f : forward one char\n",
    "\n",
    "2. Text Entry shortcut\n",
    "    - Ctrl-d : delete next char in line\n",
    "    - Ctrl-k : Cut text from cursor to the end of line\n",
    "    - Ctrl-u : Cut text from beginning of line to cursor\n",
    "    - Ctrl-y : paste text that was previously cut\n",
    "    - Ctrl-t : Transpose previous two chars\n",
    "\n",
    "3. Tips\n",
    "    - add semicolon(;) to the end, and there will be no output displayed.\n",
    "    - codes after exclamation point (!) will be executed by system kernel\n",
    "    - and can save the output of any shell command to a Python list\n",
    "        \n",
    "        -contents = !ls\n",
    "        \n",
    "        -directory = !pwd\n",
    "        \n",
    "        -passing Python var into the shell is possible through {varname}\n",
    "        \n",
    "        -message = “hello from Python”\n",
    "        \n",
    "        -!echo {message}\n"
   ]
  },
  {
   "cell_type": "markdown",
   "metadata": {},
   "source": [
    "### 2. IPython Magic Commands\n",
    "\n",
    "1. % function : works in sentence\n",
    "    - %paste : enters and executes the code.\n",
    "    - %cpaste : similar function, but on chunks\n",
    "    - %run : run external code , ex) %run myscript.py\n",
    "    - %time : Time the execution once\n",
    "    - %timeit : measure the execution time of the single-line statement (timeit automatically performs multiple runs to attain more robust results for short commands)\n",
    "    - %memit : Measure the memory use of a single statement\n",
    "    - %history -n 1-4\n",
    "    - %magic : more magic functions (documentation)\n",
    "    - %lsmagic : brief magic lists\n",
    "    - %xmode : Exception handling \n",
    "        - %xmode Context (default)\n",
    "        - %xmode Plain\n",
    "        - %xmode Verbose\n",
    "\n"
   ]
  }
 ],
 "metadata": {
  "kernelspec": {
   "display_name": "Python 3",
   "language": "python",
   "name": "python3"
  },
  "language_info": {
   "codemirror_mode": {
    "name": "ipython",
    "version": 3
   },
   "file_extension": ".py",
   "mimetype": "text/x-python",
   "name": "python",
   "nbconvert_exporter": "python",
   "pygments_lexer": "ipython3",
   "version": "3.6.3"
  }
 },
 "nbformat": 4,
 "nbformat_minor": 2
}
