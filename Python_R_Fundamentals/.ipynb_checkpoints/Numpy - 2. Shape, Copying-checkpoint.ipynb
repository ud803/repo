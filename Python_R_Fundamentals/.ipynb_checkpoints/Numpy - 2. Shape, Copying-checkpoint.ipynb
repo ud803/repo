{
 "cells": [
  {
   "cell_type": "markdown",
   "metadata": {},
   "source": [
    "## 1. Shape Manipulation"
   ]
  },
  {
   "cell_type": "markdown",
   "metadata": {},
   "source": [
    "### 1) Shape Manipulation"
   ]
  },
  {
   "cell_type": "code",
   "execution_count": 2,
   "metadata": {},
   "outputs": [
    {
     "data": {
      "text/plain": [
       "array([[ 6.,  4.,  2.,  7.],\n",
       "       [ 9.,  7.,  3.,  6.],\n",
       "       [ 7.,  6.,  7.,  5.]])"
      ]
     },
     "execution_count": 2,
     "metadata": {},
     "output_type": "execute_result"
    }
   ],
   "source": [
    "import numpy as np\n",
    "a = np.floor( (10*np.random.random((3,4))))\n",
    "a"
   ]
  },
  {
   "cell_type": "code",
   "execution_count": 10,
   "metadata": {
    "scrolled": true
   },
   "outputs": [
    {
     "name": "stdout",
     "output_type": "stream",
     "text": [
      "[ 0.  7.  7.  8.  6.  7.  4.  7.  1.  4.  9.  0.]\n",
      "[[ 0.  7.]\n",
      " [ 7.  8.]\n",
      " [ 6.  7.]\n",
      " [ 4.  7.]\n",
      " [ 1.  4.]\n",
      " [ 9.  0.]]\n",
      "[[ 0.  7.  7.  8.]\n",
      " [ 6.  7.  4.  7.]\n",
      " [ 1.  4.  9.  0.]]\n",
      "[[ 0.  4.]\n",
      " [ 7.  7.]\n",
      " [ 7.  1.]\n",
      " [ 8.  4.]\n",
      " [ 6.  9.]\n",
      " [ 7.  0.]]\n"
     ]
    },
    {
     "data": {
      "text/plain": [
       "array([[ 0.,  7.,  7.,  8.,  6.,  7.],\n",
       "       [ 4.,  7.,  1.,  4.,  9.,  0.]])"
      ]
     },
     "execution_count": 10,
     "metadata": {},
     "output_type": "execute_result"
    }
   ],
   "source": [
    "print(a.ravel())        # returns the flattened array\n",
    "print(a.reshape(6,2))   # returns the modified shape\n",
    "print(a.reshape(3,-1))  # -1 means \"to assign automatically\"\n",
    "print(a.T)              # Transpose of A / Same as a.transpose()\n",
    "\n",
    "a.resize(2,6)           # change the array itself\n",
    "a"
   ]
  },
  {
   "cell_type": "code",
   "execution_count": 4,
   "metadata": {},
   "outputs": [
    {
     "name": "stdout",
     "output_type": "stream",
     "text": [
      "[[[ 6.  4.  2.  7.]\n",
      "  [ 9.  7.  3.  6.]\n",
      "  [ 7.  6.  7.  5.]]]\n",
      "[[[ 6.  4.  2.  7.]]\n",
      "\n",
      " [[ 9.  7.  3.  6.]]\n",
      "\n",
      " [[ 7.  6.  7.  5.]]]\n"
     ]
    }
   ],
   "source": [
    "# newaxis adds one dimension\n",
    "\n",
    "print(a[np.newaxis, :])\n",
    "\n",
    "print(a[:, np.newaxis])"
   ]
  },
  {
   "cell_type": "markdown",
   "metadata": {},
   "source": [
    "### 2) Array Stacking"
   ]
  },
  {
   "cell_type": "markdown",
   "metadata": {},
   "source": [
    "For arrays with more than two dimensions, \n",
    "    \n",
    "    1) hstack stacks along their second axes\n",
    "    2) vstack stacks along their first axes\n",
    "    3) concatenate allows for an optional argument"
   ]
  },
  {
   "cell_type": "code",
   "execution_count": 12,
   "metadata": {},
   "outputs": [
    {
     "name": "stdout",
     "output_type": "stream",
     "text": [
      "[[ 4.  5.]\n",
      " [ 7.  9.]]\n",
      "[[ 6.  2.]\n",
      " [ 9.  9.]]\n"
     ]
    }
   ],
   "source": [
    "a = np.floor(10*np.random.random((2,2)))\n",
    "b = np.floor(10*np.random.random((2,2)))\n",
    "\n",
    "print(a)\n",
    "print(b)"
   ]
  },
  {
   "cell_type": "code",
   "execution_count": 14,
   "metadata": {},
   "outputs": [
    {
     "name": "stdout",
     "output_type": "stream",
     "text": [
      "[[ 4.  5.]\n",
      " [ 7.  9.]\n",
      " [ 6.  2.]\n",
      " [ 9.  9.]]\n",
      "[[ 4.  5.  6.  2.]\n",
      " [ 7.  9.  9.  9.]]\n",
      "[[ 4.  5.  6.  2.]\n",
      " [ 7.  9.  9.  9.]]\n"
     ]
    }
   ],
   "source": [
    "print(np.vstack((a,b)))\n",
    "print(np.hstack((a,b)))\n",
    "print(np.column_stack((a,b)))"
   ]
  },
  {
   "cell_type": "code",
   "execution_count": 16,
   "metadata": {},
   "outputs": [
    {
     "data": {
      "text/plain": [
       "array([[4],\n",
       "       [2]])"
      ]
     },
     "execution_count": 16,
     "metadata": {},
     "output_type": "execute_result"
    }
   ],
   "source": [
    "# newaxis \n",
    "a = np.array([4,2])\n",
    "b = np.array([2,8])\n",
    "a[:, np.newaxis]"
   ]
  },
  {
   "cell_type": "code",
   "execution_count": null,
   "metadata": {
    "collapsed": true
   },
   "outputs": [],
   "source": []
  },
  {
   "cell_type": "markdown",
   "metadata": {},
   "source": [
    "### 3) Array Splitting"
   ]
  },
  {
   "cell_type": "code",
   "execution_count": 17,
   "metadata": {},
   "outputs": [
    {
     "data": {
      "text/plain": [
       "array([[ 0.,  7.,  3.,  8.,  1.,  1.,  9.,  6.,  1.,  7.,  6.,  1.],\n",
       "       [ 6.,  3.,  7.,  7.,  8.,  6.,  6.,  4.,  4.,  8.,  3.,  1.]])"
      ]
     },
     "execution_count": 17,
     "metadata": {},
     "output_type": "execute_result"
    }
   ],
   "source": [
    "a = np.floor(10*np.random.random((2,12)))\n",
    "a"
   ]
  },
  {
   "cell_type": "code",
   "execution_count": 21,
   "metadata": {},
   "outputs": [
    {
     "name": "stdout",
     "output_type": "stream",
     "text": [
      "[array([[ 0.,  7.,  3.,  8.],\n",
      "       [ 6.,  3.,  7.,  7.]]), array([[ 1.,  1.,  9.,  6.],\n",
      "       [ 8.,  6.,  6.,  4.]]), array([[ 1.,  7.,  6.,  1.],\n",
      "       [ 4.,  8.,  3.,  1.]])]\n",
      "[array([[ 0.,  7.],\n",
      "       [ 6.,  3.]]), array([[ 3.,  8.],\n",
      "       [ 7.,  7.]]), array([[ 1.,  1.,  9.,  6.,  1.,  7.,  6.,  1.],\n",
      "       [ 8.,  6.,  6.,  4.,  4.,  8.,  3.,  1.]])]\n"
     ]
    }
   ],
   "source": [
    "print(np.hsplit(a,3))    # split array along horizontal axis into N division\n",
    "print(np.hsplit(a, (2,4))) # split array into [0:2], [2:4], [4:]"
   ]
  },
  {
   "cell_type": "markdown",
   "metadata": {},
   "source": [
    " \n",
    " "
   ]
  },
  {
   "cell_type": "markdown",
   "metadata": {},
   "source": [
    " \n",
    " "
   ]
  },
  {
   "cell_type": "markdown",
   "metadata": {},
   "source": [
    "## 2. Copies and Views"
   ]
  },
  {
   "cell_type": "markdown",
   "metadata": {},
   "source": [
    "### 1) No Copy At All"
   ]
  },
  {
   "cell_type": "code",
   "execution_count": 28,
   "metadata": {},
   "outputs": [
    {
     "name": "stdout",
     "output_type": "stream",
     "text": [
      "(12,)\n",
      "(3, 4)\n",
      "True\n"
     ]
    }
   ],
   "source": [
    "a = np.arange(12)\n",
    "b = a   # no new objects created\n",
    "print(b.shape)\n",
    "b.shape = 3,4\n",
    "print(a.shape)  # change to b shape also changes the shape of a\n",
    "print(b is a)   # True"
   ]
  },
  {
   "cell_type": "code",
   "execution_count": 26,
   "metadata": {},
   "outputs": [
    {
     "name": "stdout",
     "output_type": "stream",
     "text": [
      "139769269916016\n",
      "139769269916016\n"
     ]
    }
   ],
   "source": [
    "def f(x) :\n",
    "    print(id(x))\n",
    "print(id(a))\n",
    "f(a)    # function call makes no copy neither"
   ]
  },
  {
   "cell_type": "markdown",
   "metadata": {},
   "source": [
    "### 2) View or Shallow Copy\n",
    "Different array objects can share the same data.\n",
    "\n",
    "'View' method creates a new array object."
   ]
  },
  {
   "cell_type": "code",
   "execution_count": 29,
   "metadata": {},
   "outputs": [
    {
     "name": "stdout",
     "output_type": "stream",
     "text": [
      "[[ 0  1  2  3]\n",
      " [ 4  5  6  7]\n",
      " [ 8  9 10 11]]\n",
      "False\n",
      "True\n"
     ]
    }
   ],
   "source": [
    "c = a.view()\n",
    "print(c)\n",
    "print(c is a)      # False\n",
    "print(c.base is a) # True"
   ]
  },
  {
   "cell_type": "code",
   "execution_count": 32,
   "metadata": {},
   "outputs": [
    {
     "name": "stdout",
     "output_type": "stream",
     "text": [
      "[[ 0  1  2  3  4  5]\n",
      " [ 6  7  8  9 10 11]]\n",
      "(3, 4)\n",
      "[[   0    1    2    3]\n",
      " [1234    5    6    7]\n",
      " [   8    9   10   11]]\n"
     ]
    }
   ],
   "source": [
    "c.shape = 2,6\n",
    "print(c)\n",
    "print(a.shape)   # a's shape does not change\n",
    "\n",
    "c[0,4] = 1234\n",
    "print(a)         # a's data does change"
   ]
  },
  {
   "cell_type": "code",
   "execution_count": 37,
   "metadata": {},
   "outputs": [
    {
     "name": "stdout",
     "output_type": "stream",
     "text": [
      "[[   0   10   10    3]\n",
      " [1234   10   10    7]\n",
      " [   8   10   10   11]]\n"
     ]
    }
   ],
   "source": [
    "# Slicing an array also returns a \"View\" of it.\n",
    "s = a[:,1:3]\n",
    "s[:] = 10\n",
    "print(a)"
   ]
  },
  {
   "cell_type": "markdown",
   "metadata": {},
   "source": [
    "### 3) Deep Copy\n",
    "Copy method makes a complete copy of the array and its data."
   ]
  },
  {
   "cell_type": "code",
   "execution_count": 38,
   "metadata": {},
   "outputs": [
    {
     "name": "stdout",
     "output_type": "stream",
     "text": [
      "False\n",
      "False\n",
      "[[   0   10   10    3]\n",
      " [1234   10   10    7]\n",
      " [   8   10   10   11]]\n"
     ]
    }
   ],
   "source": [
    "d = a.copy()\n",
    "print(d is a)      # False\n",
    "print(d.base is a) # False\n",
    "d[0,0] = 9999\n",
    "print(a)   # a does not change"
   ]
  },
  {
   "cell_type": "markdown",
   "metadata": {},
   "source": [
    " \n",
    " "
   ]
  },
  {
   "cell_type": "markdown",
   "metadata": {},
   "source": [
    "## 3. The ix_() function\n",
    "ix_ can be used to combine different vectors so as to obtain the result for each n-uplet. \n",
    "\n",
    "For example, let's say you want to compute all the a+b*c for all the triplets taken from each of the vectors a, b and c."
   ]
  },
  {
   "cell_type": "code",
   "execution_count": 41,
   "metadata": {},
   "outputs": [
    {
     "name": "stdout",
     "output_type": "stream",
     "text": [
      "(4, 1, 1) (1, 3, 1) (1, 1, 5)\n"
     ]
    }
   ],
   "source": [
    "a = np.array([2,3,4,5])\n",
    "b = np.array([8,5,4])\n",
    "c = np.array([5,4,6,8,3])\n",
    "\n",
    "ax, bx, cx = np.ix_(a,b,c)\n",
    "print(ax.shape, bx.shape, cx.shape)"
   ]
  },
  {
   "cell_type": "code",
   "execution_count": 42,
   "metadata": {},
   "outputs": [
    {
     "name": "stdout",
     "output_type": "stream",
     "text": [
      "[[[42 34 50 66 26]\n",
      "  [27 22 32 42 17]\n",
      "  [22 18 26 34 14]]\n",
      "\n",
      " [[43 35 51 67 27]\n",
      "  [28 23 33 43 18]\n",
      "  [23 19 27 35 15]]\n",
      "\n",
      " [[44 36 52 68 28]\n",
      "  [29 24 34 44 19]\n",
      "  [24 20 28 36 16]]\n",
      "\n",
      " [[45 37 53 69 29]\n",
      "  [30 25 35 45 20]\n",
      "  [25 21 29 37 17]]]\n",
      "(4, 3, 5)\n",
      "True\n"
     ]
    }
   ],
   "source": [
    "result = ax+bx*cx\n",
    "print(result)\n",
    "print(result.shape)\n",
    "print(result[3,2,4] == a[3] + b[2]*c[4] )   # True"
   ]
  },
  {
   "cell_type": "code",
   "execution_count": 46,
   "metadata": {},
   "outputs": [
    {
     "name": "stdout",
     "output_type": "stream",
     "text": [
      "[[[2]]\n",
      "\n",
      " [[3]]\n",
      "\n",
      " [[4]]\n",
      "\n",
      " [[5]]]\n"
     ]
    }
   ],
   "source": [
    "# Same function as above\n",
    "# ufunc.reduce 보다 효율적이라고 한다. 더 찾아보자.\n",
    "\n",
    "def ufunc_reduce(ufct, *vectors) :\n",
    "    vs = np.ix_(*vectors)\n",
    "    r = ufct.identity\n",
    "    for v in vs :\n",
    "        r = ufct(r,v)\n",
    "        return r\n",
    "    \n",
    "print(ufunc_reduce(np.add, a, b, c))"
   ]
  }
 ],
 "metadata": {
  "kernelspec": {
   "display_name": "Python 3",
   "language": "python",
   "name": "python3"
  },
  "language_info": {
   "codemirror_mode": {
    "name": "ipython",
    "version": 3
   },
   "file_extension": ".py",
   "mimetype": "text/x-python",
   "name": "python",
   "nbconvert_exporter": "python",
   "pygments_lexer": "ipython3",
   "version": "3.6.3"
  }
 },
 "nbformat": 4,
 "nbformat_minor": 2
}
