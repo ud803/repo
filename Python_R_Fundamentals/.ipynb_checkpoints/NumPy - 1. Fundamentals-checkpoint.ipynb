{
 "cells": [
  {
   "cell_type": "markdown",
   "metadata": {},
   "source": [
    "# Numpy : Numerical Python\n",
    "\n",
    "- Mathematical arrays , Matrices\n",
    "- Mathematical Functions\n",
    "\n",
    "Numpy's main object is the homogeneous multi-dimensional array.\n",
    "It is a table of elements (usually numbers), all of the same type, indexed by a tuple of positive integers.\n",
    "\n",
    "Dimensions are called **axes**. Number of axes is **rank**.\n",
    "\n",
    "[1, 2, 1] is an array of rank 1\n",
    "[[1,0,0], [0,1,2]] is an array of rank 2.\n",
    "\n",
    "First axis with length 2, second with 3\n",
    "\n",
    "axis 0 : col, axis 1 : row ,...\n",
    "\n",
    "\n",
    "* np.set_printoptions(threshold='nan') #force NumPy to print the entire array"
   ]
  },
  {
   "cell_type": "markdown",
   "metadata": {},
   "source": [
    "## 0. Basic Principles\n",
    "\n",
    "While in C, the data types of each variable are explicitly declared, in Python the types are dynamically inferred. This means, for example, that we can assign any kind of data to any variable.\n",
    "\n",
    "This sort of flexibility is one piece that makes Python and other dynamically typed languages convenient and easy to use. Understanding how this works is an important piece of learning to analyze data efficiently.\n",
    "\n",
    "\n",
    "### 1) A Python Integer is more than just an integer \n",
    "    \n",
    "1)Standard Python implementation is written in C.\n",
    "    \n",
    "2)This means that every Python object is simply a disguised C structure.\n",
    "\n",
    "3) A single integer in Python actually contains four pieces :\n",
    "    - reference count\n",
    "    - type of the variable\n",
    "    - size of the following data member\n",
    "    - actual integer value\n",
    "4) So, a C integer is essentially a label for a position in memory whose bytes encode an integer value.\n",
    "    \n",
    "5) A Python integer is a pointer to a position in memory containing all the Python object information.\n",
    "    \n",
    "6) *** This extra information is what allows Python to be coded so freely and dynamically. However, all this additional information comes at a cost. ***\n",
    "\n",
    "\n",
    "\n",
    "\n",
    "### 2) A Python list is more than just a list\n",
    "\n",
    "1) The standard mutable multielement container in Python is the list.\n",
    "    - L = list(range(10))        \n",
    "    - L2 = [str(c) for c in L]\n",
    "    \n",
    "2) Because of Python’s dynamic typing, we can create heterogeneous lists.\n",
    "\n",
    "3) But this flexibility comes at a cost : to allow these flexible types, each item in the list must contain its own type info, reference count, and other information - that is, each item is a complete Python Object.\n",
    "\n",
    "4) So, in the special case that all variables are of the same type, much of this information is redundant.\n",
    "\n",
    "\n",
    "\n",
    "\n",
    "### 3) Fixed-Type Arrays in Python\n",
    "\n",
    "1) Python offers several different options for storing data in efficient, fixed-type data buffers.\n",
    "    - import array\n",
    "    - array.array(‘i’, L)\n",
    "\n",
    "2) Much more useful, however, is the ndarray object of the NumPy package.\n",
    "\n",
    "3) NumPy adds to this efficient operations on that data.\n",
    "\n",
    "\n",
    "\n",
    "\n",
    "*So that's why we use NumPy!*"
   ]
  },
  {
   "cell_type": "markdown",
   "metadata": {},
   "source": [
    " "
   ]
  },
  {
   "cell_type": "markdown",
   "metadata": {},
   "source": [
    " \n",
    " "
   ]
  },
  {
   "cell_type": "markdown",
   "metadata": {},
   "source": [
    " "
   ]
  },
  {
   "cell_type": "markdown",
   "metadata": {},
   "source": [
    "## 1. Array Creation"
   ]
  },
  {
   "cell_type": "markdown",
   "metadata": {},
   "source": [
    "### 1) Specified Creation"
   ]
  },
  {
   "cell_type": "code",
   "execution_count": 1,
   "metadata": {},
   "outputs": [
    {
     "name": "stdout",
     "output_type": "stream",
     "text": [
      "[[1 2 3]\n",
      " [4 5 6]]\n",
      "[[1 2 3]\n",
      " [4 5 6]]\n"
     ]
    }
   ],
   "source": [
    "import numpy as np\n",
    "\n",
    "# Numpy Array\n",
    "\n",
    "a = np.array([[1,2,3], [4,5,6]])\n",
    "print(a)\n",
    "\n",
    "print(np.array([ (1,2,3), (4,5,6)])) #same as above"
   ]
  },
  {
   "cell_type": "markdown",
   "metadata": {},
   "source": []
  },
  {
   "cell_type": "code",
   "execution_count": 4,
   "metadata": {},
   "outputs": [
    {
     "data": {
      "text/plain": [
       "array([[2, 3, 4],\n",
       "       [4, 5, 6],\n",
       "       [6, 7, 8]])"
      ]
     },
     "execution_count": 4,
     "metadata": {},
     "output_type": "execute_result"
    }
   ],
   "source": [
    "# array creation with list\n",
    "\n",
    "np.array( [range(i,i+3) for i in [2,4,6] ])"
   ]
  },
  {
   "cell_type": "code",
   "execution_count": 6,
   "metadata": {},
   "outputs": [
    {
     "data": {
      "text/plain": [
       "array([[ 1.+0.j,  2.+0.j],\n",
       "       [ 3.+0.j,  4.+0.j]])"
      ]
     },
     "execution_count": 6,
     "metadata": {},
     "output_type": "execute_result"
    }
   ],
   "source": [
    "# array with type\n",
    "\n",
    "c = np.array([[1,2],[3,4]], dtype=complex)\n",
    "c"
   ]
  },
  {
   "cell_type": "markdown",
   "metadata": {},
   "source": [
    "### 2) Empty / Random Creation"
   ]
  },
  {
   "cell_type": "code",
   "execution_count": 9,
   "metadata": {},
   "outputs": [
    {
     "name": "stdout",
     "output_type": "stream",
     "text": [
      "[[ 0.  0.  0.  0.]\n",
      " [ 0.  0.  0.  0.]\n",
      " [ 0.  0.  0.  0.]]\n",
      "[[[1 1 1 1]\n",
      "  [1 1 1 1]\n",
      "  [1 1 1 1]]\n",
      "\n",
      " [[1 1 1 1]\n",
      "  [1 1 1 1]\n",
      "  [1 1 1 1]]]\n",
      "[  6.93166827e-310   4.67901755e-310]\n"
     ]
    }
   ],
   "source": [
    "# array with rand, empty num\n",
    "\n",
    "with_zero = np.zeros( (3,4) )\n",
    "with_one = np.ones( (2,3,4), dtype=np.int16 )\n",
    "with_rand = np.empty( 2, dtype=float )\n",
    "\n",
    "print(with_zero)\n",
    "print(with_one)\n",
    "print(with_rand)"
   ]
  },
  {
   "cell_type": "code",
   "execution_count": 5,
   "metadata": {},
   "outputs": [
    {
     "data": {
      "text/plain": [
       "array([[ 3.14,  3.14,  3.14,  3.14,  3.14],\n",
       "       [ 3.14,  3.14,  3.14,  3.14,  3.14],\n",
       "       [ 3.14,  3.14,  3.14,  3.14,  3.14]])"
      ]
     },
     "execution_count": 5,
     "metadata": {},
     "output_type": "execute_result"
    }
   ],
   "source": [
    "# array with certain number\n",
    "\n",
    "np.full( (3,5), 3.14 )"
   ]
  },
  {
   "cell_type": "code",
   "execution_count": 7,
   "metadata": {},
   "outputs": [
    {
     "name": "stdout",
     "output_type": "stream",
     "text": [
      "[[ 0.08210476  0.74760541  0.81001923]\n",
      " [ 0.20704571  0.48183279  0.87213213]\n",
      " [ 0.51277309  0.31657756  0.00436055]]\n",
      "[[-0.15963933 -0.24277317  1.1375256 ]\n",
      " [ 0.42268912  0.63659462 -0.75103618]\n",
      " [-0.52807377  0.1756799  -0.44492371]]\n",
      "[[3 9 2]\n",
      " [1 5 7]\n",
      " [8 5 2]]\n",
      "[[ 1.  0.  0.]\n",
      " [ 0.  1.  0.]\n",
      " [ 0.  0.  1.]]\n"
     ]
    }
   ],
   "source": [
    "# array with rand\n",
    "print(np.random.random((3,3)))\n",
    "print(np.random.normal(0, 1, (3,3)))   # mean 0, sd 1, normal dist\n",
    "print(np.random.randint(0,10,(3,3)))   # [0,10)\n",
    "print(np.eye(3))  # identity matrix"
   ]
  },
  {
   "cell_type": "markdown",
   "metadata": {},
   "source": [
    "### 3) Sequential Creation"
   ]
  },
  {
   "cell_type": "code",
   "execution_count": 11,
   "metadata": {},
   "outputs": [
    {
     "name": "stdout",
     "output_type": "stream",
     "text": [
      "[0 1 2]\n",
      "[10 15 20 25]\n",
      "[ 0.   0.3  0.6  0.9  1.2  1.5  1.8]\n",
      "[ 0.    0.25  0.5   0.75  1.    1.25  1.5   1.75  2.  ]\n",
      "[1 2 3 0 4]\n"
     ]
    }
   ],
   "source": [
    "print(np.arange(3))       # from 0 to 2\n",
    "print(np.arange(10,30,5)) # over 10 below 30, step 5\n",
    "print(np.arange(0,2,0.3)) # impossible to predict # of elements\n",
    "print(np.linspace(0,2,9)) # 9 numbers from 0 to 2 (inclusive) - easy to predict num\n",
    "print(np.r_[1:4, 0, 4])   # special usage - veector addition"
   ]
  },
  {
   "cell_type": "markdown",
   "metadata": {},
   "source": [
    "### 4) Attributes"
   ]
  },
  {
   "cell_type": "code",
   "execution_count": 8,
   "metadata": {},
   "outputs": [
    {
     "name": "stdout",
     "output_type": "stream",
     "text": [
      "2\n",
      "(3, 4)\n",
      "12\n",
      "int64\n",
      "8\n",
      "96\n",
      "<memory at 0x7f7b890b3cf0>\n"
     ]
    }
   ],
   "source": [
    "a = np.arange(12).reshape(3,4)\n",
    "\n",
    "print(a.ndim)     # number of axes of the array (also as rank)\n",
    "print(a.shape)    # dimension of array\n",
    "print(a.size)     # totalnumber of elements = shape[0]*shape[1]\n",
    "print(a.dtype)    # describe the type of elements\n",
    "print(a.itemsize) # size in byte of each element\n",
    "print(a.nbytes)   # total size = itemsize * size\n",
    "print(a.data)     # buffer containing the actual elements"
   ]
  },
  {
   "cell_type": "markdown",
   "metadata": {},
   "source": [
    "## 2. Array Indexing / Slicing / Iterating"
   ]
  },
  {
   "cell_type": "code",
   "execution_count": 17,
   "metadata": {},
   "outputs": [
    {
     "name": "stdout",
     "output_type": "stream",
     "text": [
      "[  0   1   8  27  64 125 216 343 512 729]\n",
      "729\n",
      "8\n",
      "[ 8 27 64]\n",
      "[ 0  8 64]\n",
      "[729 512 343 216 125  64  27   8   1   0]\n",
      "[[ 0  1  2  3]\n",
      " [10 11 12 13]\n",
      " [20 21 22 23]\n",
      " [30 31 32 33]\n",
      " [40 41 42 43]]\n"
     ]
    }
   ],
   "source": [
    "# Array Indexing \n",
    "\n",
    "a = np.arange(10)**3\n",
    "print(a)\n",
    "print(a[-1])     # last element\n",
    "print(a[2])\n",
    "print(a[2:5])\n",
    "print(a[:6:2])   # from 0 to 5, with every 2nd element\n",
    "print(a[::-1])   # every element, from backward\n",
    "\n",
    "\n",
    "# fromfunction\n",
    "\n",
    "def f(x,y) :\n",
    "    return 10*x+y\n",
    "\n",
    "b = np.fromfunction(f, (5,4), dtype=int )  # use index as parameter\n",
    "print(b)\n"
   ]
  },
  {
   "cell_type": "code",
   "execution_count": 19,
   "metadata": {},
   "outputs": [
    {
     "data": {
      "text/plain": [
       "array([ 27,  64, 125, 216, 343, 512, 729])"
      ]
     },
     "execution_count": 19,
     "metadata": {},
     "output_type": "execute_result"
    }
   ],
   "source": [
    "# Indexing with booleans\n",
    "b = a>16\n",
    "a[b]"
   ]
  },
  {
   "cell_type": "markdown",
   "metadata": {},
   "source": [
    " "
   ]
  },
  {
   "cell_type": "code",
   "execution_count": 24,
   "metadata": {},
   "outputs": [
    {
     "name": "stdout",
     "output_type": "stream",
     "text": [
      "[[ 1.  2.  3.]\n",
      " [ 4.  5.  6.]]\n",
      "5.0\n",
      "[ 4.  5.  6.]\n",
      "[ 3.  6.]\n"
     ]
    }
   ],
   "source": [
    "# Matrix Indexing / Slicing\n",
    "\n",
    "two_D_array = numpy.array([[1,2,3], [4,5,6]], float)\n",
    "print(two_D_array)\n",
    "print(two_D_array[1][1])\n",
    "print(two_D_array[1, :])\n",
    "print(two_D_array[:,2])"
   ]
  },
  {
   "cell_type": "markdown",
   "metadata": {},
   "source": [
    " "
   ]
  },
  {
   "cell_type": "markdown",
   "metadata": {},
   "source": [
    "* When fewer indices are provided than the number of axes, the missing indices are considered complete slices "
   ]
  },
  {
   "cell_type": "code",
   "execution_count": 24,
   "metadata": {},
   "outputs": [
    {
     "data": {
      "text/plain": [
       "array([40, 41, 42, 43])"
      ]
     },
     "execution_count": 24,
     "metadata": {},
     "output_type": "execute_result"
    }
   ],
   "source": [
    "b = np.fromfunction(f, (5,4), dtype=int )  # use index as parameter\n",
    "\n",
    "b[-1]  # equivalent to b[-1,:] , last row\n"
   ]
  },
  {
   "cell_type": "markdown",
   "metadata": {},
   "source": [
    " "
   ]
  },
  {
   "cell_type": "markdown",
   "metadata": {},
   "source": [
    " "
   ]
  },
  {
   "cell_type": "markdown",
   "metadata": {},
   "source": [
    "* dots(...) represent as many colons as needed to produce a complete indexing tuple.\n",
    "* x[1,2,...] equivalent to x[1,2,:,:,:]"
   ]
  },
  {
   "cell_type": "code",
   "execution_count": 25,
   "metadata": {},
   "outputs": [
    {
     "name": "stdout",
     "output_type": "stream",
     "text": [
      "(2, 2, 3)\n",
      "[[100 101 102]\n",
      " [110 112 113]]\n",
      "[[  2  13]\n",
      " [102 113]]\n"
     ]
    }
   ],
   "source": [
    "c = np.array( [[[0,1,2], [10,12,13]], [[100,101,102], [110,112,113]]])\n",
    "print(c.shape)\n",
    "print(c[1,...])  # same as c[1,:,:] or c[1]\n",
    "print(c[...,2])  # same as c[:,:,2]"
   ]
  },
  {
   "cell_type": "markdown",
   "metadata": {},
   "source": [
    " "
   ]
  },
  {
   "cell_type": "markdown",
   "metadata": {},
   "source": [
    " "
   ]
  },
  {
   "cell_type": "markdown",
   "metadata": {},
   "source": [
    "* Iterating over multi-dimension is done with respect to the first axis (row)"
   ]
  },
  {
   "cell_type": "code",
   "execution_count": 26,
   "metadata": {
    "scrolled": true
   },
   "outputs": [
    {
     "name": "stdout",
     "output_type": "stream",
     "text": [
      "[0 1 2 3]\n",
      "[10 11 12 13]\n",
      "[20 21 22 23]\n",
      "[30 31 32 33]\n",
      "[40 41 42 43]\n",
      "0\n",
      "1\n",
      "2\n",
      "3\n",
      "10\n",
      "11\n",
      "12\n",
      "13\n",
      "20\n",
      "21\n",
      "22\n",
      "23\n",
      "30\n",
      "31\n",
      "32\n",
      "33\n",
      "40\n",
      "41\n",
      "42\n",
      "43\n"
     ]
    }
   ],
   "source": [
    "for row1 in b:\n",
    "    print(row1)\n",
    "    \n",
    "for element in b.flat :\n",
    "    print(element)            # iterate over all the elements"
   ]
  },
  {
   "cell_type": "markdown",
   "metadata": {},
   "source": [
    "One important thing to know about array slice is that they return vies rather than copies of the array data. In Python list, slices will be copies."
   ]
  },
  {
   "cell_type": "markdown",
   "metadata": {},
   "source": [
    "## 3. Arithmentic Operations"
   ]
  },
  {
   "cell_type": "code",
   "execution_count": 37,
   "metadata": {},
   "outputs": [
    {
     "name": "stdout",
     "output_type": "stream",
     "text": [
      "3.0\n",
      "3.0\n",
      "1.41421356237\n",
      "Now with npArray\n",
      "15\n",
      "3.0\n",
      "1\n"
     ]
    }
   ],
   "source": [
    "# Basic Statistics\n",
    "\n",
    "numbers = [1,2,3,4,5]\n",
    "print(numpy.mean(numbers))\n",
    "print(numpy.median(numbers))\n",
    "print(numpy.std(numbers))\n",
    "\n",
    "print(\"Now with npArray\")\n",
    "\n",
    "number = np.array([1,2,3,4,5], int)\n",
    "print(number.sum())\n",
    "print(number.mean())\n",
    "print(number.min())"
   ]
  },
  {
   "cell_type": "code",
   "execution_count": 36,
   "metadata": {},
   "outputs": [
    {
     "name": "stdout",
     "output_type": "stream",
     "text": [
      "[[ 0  1  2  3]\n",
      " [ 4  5  6  7]\n",
      " [ 8  9 10 11]]\n",
      "[12 15 18 21]\n",
      "[0 4 8]\n",
      "[[ 0  1  3  6]\n",
      " [ 4  9 15 22]\n",
      " [ 8 17 27 38]]\n"
     ]
    }
   ],
   "source": [
    "# Basic Statistics 2\n",
    "\n",
    "b = np.arange(12).reshape(3,4)\n",
    "\n",
    "print(b)\n",
    "print(b.sum(axis=0))      # sum of each column\n",
    "print(b.min(axis=1))      # min of each row\n",
    "print(b.cumsum(axis=1))   # cum sum along each row"
   ]
  },
  {
   "cell_type": "code",
   "execution_count": 33,
   "metadata": {},
   "outputs": [
    {
     "name": "stdout",
     "output_type": "stream",
     "text": [
      "[ 6.  4.  9.]\n",
      "[  5.   4.  18.]\n",
      "27.0\n"
     ]
    }
   ],
   "source": [
    "# Array arithmetics\n",
    "\n",
    "array_1 = numpy.array([1,2,3], float)\n",
    "array_2 = numpy.array([5,2,6], float)\n",
    "print(array_1+array_2)\n",
    "print(array_1*array_2)\n",
    "\n",
    "print(numpy.dot(array_1, array_2)) # 벡터의 dot product"
   ]
  },
  {
   "cell_type": "code",
   "execution_count": 29,
   "metadata": {},
   "outputs": [
    {
     "name": "stdout",
     "output_type": "stream",
     "text": [
      "[ True  True False False]\n",
      "[  1.           2.71828183   7.3890561   20.08553692]\n",
      "[20 31 42 53]\n"
     ]
    }
   ],
   "source": [
    "# Array arithmetics 2\n",
    "\n",
    "a = np.array([20,30,40,50])\n",
    "b = np.arange(4)\n",
    "\n",
    "print(a<35)\n",
    "print(np.exp(b))\n",
    "print(np.add(a,b))"
   ]
  },
  {
   "cell_type": "code",
   "execution_count": 30,
   "metadata": {},
   "outputs": [
    {
     "name": "stdout",
     "output_type": "stream",
     "text": [
      "[[  6.   8.]\n",
      " [ 10.  12.]]\n",
      "[[  5.  12.]\n",
      " [ 21.  32.]]\n",
      "[[ 19.  22.]\n",
      " [ 43.  50.]]\n",
      "[[ 19.  22.]\n",
      " [ 43.  50.]]\n"
     ]
    }
   ],
   "source": [
    "# Matrix arithmetics\n",
    "\n",
    "array_1 = numpy.array([[1,2], [3,4]], float)\n",
    "array_2 = numpy.array([[5,6], [7,8]], float)\n",
    "print(array_1+array_2)\n",
    "print(array_1*array_2) # 주의, 행렬 곱이 아닌 원소끼리의 곱\n",
    "\n",
    "print(numpy.dot(array_1, array_2)) # 이게 행렬 곱이다. dot product\n",
    "print(array_1.dot(array_2)) # same as above"
   ]
  },
  {
   "cell_type": "markdown",
   "metadata": {},
   "source": [
    "* Upcasting occurs when two different data types collapse."
   ]
  },
  {
   "cell_type": "code",
   "execution_count": 32,
   "metadata": {},
   "outputs": [
    {
     "name": "stdout",
     "output_type": "stream",
     "text": [
      "float64\n",
      "float64\n"
     ]
    }
   ],
   "source": [
    "a = np.ones(3, np.int32)\n",
    "b = np.linspace(0, np.pi, 3)\n",
    "print(b.dtype)\n",
    "c = a+b\n",
    "print(c.dtype)  # int + float converts into more general form (float, in this case)"
   ]
  },
  {
   "cell_type": "markdown",
   "metadata": {},
   "source": [
    "## 4. Exploring Fancy Indexing\n",
    "Fancy Indexing is conceptually simple : it means passing an array of indices to access multiple array elements at once."
   ]
  },
  {
   "cell_type": "code",
   "execution_count": 208,
   "metadata": {},
   "outputs": [
    {
     "data": {
      "text/plain": [
       "array([51, 92, 14, 71, 60, 20, 82, 86, 74, 74])"
      ]
     },
     "execution_count": 208,
     "metadata": {},
     "output_type": "execute_result"
    }
   ],
   "source": [
    "import numpy as np\n",
    "rand = np.random.RandomState(42) # 랜덤 시드 주는 것\n",
    "\n",
    "x= rand.randint(100, size=10)\n",
    "x"
   ]
  },
  {
   "cell_type": "code",
   "execution_count": 209,
   "metadata": {},
   "outputs": [
    {
     "data": {
      "text/plain": [
       "array([71, 86, 14])"
      ]
     },
     "execution_count": 209,
     "metadata": {},
     "output_type": "execute_result"
    }
   ],
   "source": [
    "# Indexing 1\n",
    "x[ [3, 7, 2]]\n",
    "\n",
    "ind = [3, 7, 2]\n",
    "x[ind]"
   ]
  },
  {
   "cell_type": "code",
   "execution_count": 210,
   "metadata": {},
   "outputs": [
    {
     "data": {
      "text/plain": [
       "[71, 86, 14]"
      ]
     },
     "execution_count": 210,
     "metadata": {},
     "output_type": "execute_result"
    }
   ],
   "source": [
    "# Indexing 2\n",
    "[ x[3], x[7], x[2] ]"
   ]
  },
  {
   "cell_type": "code",
   "execution_count": 211,
   "metadata": {},
   "outputs": [
    {
     "data": {
      "text/plain": [
       "array([[71, 86],\n",
       "       [60, 20]])"
      ]
     },
     "execution_count": 211,
     "metadata": {},
     "output_type": "execute_result"
    }
   ],
   "source": [
    "# Indexing 3\n",
    "ind = np.array( [ [3, 7], [4, 5] ])\n",
    "x[ind]"
   ]
  },
  {
   "cell_type": "markdown",
   "metadata": {},
   "source": [
    "For example, we might have an N by D matrix representing N points in D dimensions, such as the following points drawn from a two-dimensional normal distribution."
   ]
  },
  {
   "cell_type": "code",
   "execution_count": 212,
   "metadata": {},
   "outputs": [
    {
     "data": {
      "text/plain": [
       "(100, 2)"
      ]
     },
     "execution_count": 212,
     "metadata": {},
     "output_type": "execute_result"
    }
   ],
   "source": [
    "mean = [0, 0]\n",
    "cov = [ [1, 2], [2, 5] ]\n",
    "X = rand.multivariate_normal(mean, cov, 100)\n",
    "X.shape"
   ]
  },
  {
   "cell_type": "code",
   "execution_count": 213,
   "metadata": {},
   "outputs": [
    {
     "data": {
      "text/plain": [
       "<matplotlib.collections.PathCollection at 0x7fdf2555d3c8>"
      ]
     },
     "execution_count": 213,
     "metadata": {},
     "output_type": "execute_result"
    },
    {
     "data": {
      "image/png": "[encoded data removed]",
      "text/plain": [
       "<matplotlib.figure.Figure at 0x7fdf26a0c278>"
      ]
     },
     "metadata": {},
     "output_type": "display_data"
    }
   ],
   "source": [
    "%matplotlib inline\n",
    "import matplotlib.pyplot as plt\n",
    "import seaborn; seaborn.set()\n",
    "\n",
    "plt.scatter(X[:,0], X[:,1])"
   ]
  },
  {
   "cell_type": "code",
   "execution_count": 214,
   "metadata": {},
   "outputs": [
    {
     "data": {
      "text/plain": [
       "array([[ 0.0629872 ,  0.57349278],\n",
       "       [-0.75210154, -0.79770535],\n",
       "       [-0.83504984, -2.38632016],\n",
       "       [ 1.06586877,  0.95500019],\n",
       "       [ 0.51575983,  2.30284639],\n",
       "       [ 0.37785618,  0.51409383],\n",
       "       [ 0.33399913,  2.32597923],\n",
       "       [ 0.6074983 ,  1.47089233],\n",
       "       [-0.1317045 , -1.64159158],\n",
       "       [-1.91100558, -3.66800923],\n",
       "       [ 0.32124996,  0.33137032],\n",
       "       [ 0.99305043,  2.54294059],\n",
       "       [-0.69144553, -1.56919875],\n",
       "       [ 0.7841796 ,  1.97640753],\n",
       "       [ 0.0843329 , -0.3543059 ],\n",
       "       [ 1.58115602,  2.86410319],\n",
       "       [ 0.37857234,  0.69112594],\n",
       "       [ 0.30414557, -0.5828419 ],\n",
       "       [ 0.75093031,  2.99487004],\n",
       "       [-1.47656656, -2.13046298]])"
      ]
     },
     "execution_count": 214,
     "metadata": {},
     "output_type": "execute_result"
    }
   ],
   "source": [
    "# Let's use fancy indexing to select 20 random points\n",
    "\n",
    "indices = np.random.choice(X.shape[0], 20, replace=False)\n",
    "selection = X[indices]\n",
    "selection"
   ]
  },
  {
   "cell_type": "code",
   "execution_count": 215,
   "metadata": {
    "scrolled": true
   },
   "outputs": [
    {
     "data": {
      "text/plain": [
       "<matplotlib.collections.PathCollection at 0x7fdf2559b160>"
      ]
     },
     "execution_count": 215,
     "metadata": {},
     "output_type": "execute_result"
    },
    {
     "data": {
      "image/png": "[encoded data removed]",
      "text/plain": [
       "<matplotlib.figure.Figure at 0x7fdf2559b8d0>"
      ]
     },
     "metadata": {},
     "output_type": "display_data"
    }
   ],
   "source": [
    "plt.scatter(X[:,0], X[:,1], alpha= 0.3)\n",
    "plt.scatter(selection[:,0], selection[:,1], facecolor= 'None', s = 200)"
   ]
  }
 ],
 "metadata": {
  "kernelspec": {
   "display_name": "Python 3",
   "language": "python",
   "name": "python3"
  },
  "language_info": {
   "codemirror_mode": {
    "name": "ipython",
    "version": 3
   },
   "file_extension": ".py",
   "mimetype": "text/x-python",
   "name": "python",
   "nbconvert_exporter": "python",
   "pygments_lexer": "ipython3",
   "version": "3.6.3"
  }
 },
 "nbformat": 4,
 "nbformat_minor": 2
}
