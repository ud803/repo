{
 "cells": [
  {
   "cell_type": "markdown",
   "metadata": {
    "collapsed": true
   },
   "source": [
    "## if statements"
   ]
  },
  {
   "cell_type": "code",
   "execution_count": 3,
   "metadata": {},
   "outputs": [
    {
     "name": "stdout",
     "output_type": "stream",
     "text": [
      "Please enter an integer: 5\n",
      "More\n"
     ]
    }
   ],
   "source": [
    "x = int(input(\"Please enter an integer: \"))\n",
    "\n",
    "if x < 0 :\n",
    "    x = 0\n",
    "    print(\"Negative changed to zero\")\n",
    "    \n",
    "elif x == 0 :\n",
    "    print(\"Zero\")\n",
    "elif x == 1:\n",
    "    print(\"Single\")\n",
    "else :\n",
    "    print(\"More\")"
   ]
  },
  {
   "cell_type": "markdown",
   "metadata": {},
   "source": [
    "## for statements"
   ]
  },
  {
   "cell_type": "code",
   "execution_count": 4,
   "metadata": {},
   "outputs": [
    {
     "name": "stdout",
     "output_type": "stream",
     "text": [
      "cat 3\n",
      "window 6\n",
      "defenestrate 12\n"
     ]
    }
   ],
   "source": [
    "words = ['cat', 'window', 'defenestrate']\n",
    "\n",
    "for w in words :\n",
    "    print(w, len(w))"
   ]
  },
  {
   "cell_type": "code",
   "execution_count": 7,
   "metadata": {},
   "outputs": [
    {
     "data": {
      "text/plain": [
       "['defenestrate', 'cat', 'window', 'defenestrate']"
      ]
     },
     "execution_count": 7,
     "metadata": {},
     "output_type": "execute_result"
    }
   ],
   "source": [
    "words = ['cat', 'window', 'defenestrate']\n",
    "\n",
    "for w in words[:] :\n",
    "    if len(w) > 6 :\n",
    "        words.insert(0, w)\n",
    "        \n",
    "words"
   ]
  },
  {
   "cell_type": "markdown",
   "metadata": {},
   "source": [
    "아래와 다르게 위 명령어는 explicit하게 copy를 만들어준다.\n",
    "<br>따라서 리스트를 수정할 경우에 용이하다."
   ]
  },
  {
   "cell_type": "code",
   "execution_count": 9,
   "metadata": {},
   "outputs": [
    {
     "ename": "KeyboardInterrupt",
     "evalue": "",
     "output_type": "error",
     "traceback": [
      "\u001b[0;31m---------------------------------------------------------------------------\u001b[0m",
      "\u001b[0;31mKeyboardInterrupt\u001b[0m                         Traceback (most recent call last)",
      "\u001b[0;32m<ipython-input-9-141c9421f358>\u001b[0m in \u001b[0;36m<module>\u001b[0;34m()\u001b[0m\n\u001b[1;32m      3\u001b[0m \u001b[0;32mfor\u001b[0m \u001b[0mw\u001b[0m \u001b[0;32min\u001b[0m \u001b[0mwords\u001b[0m \u001b[0;34m:\u001b[0m\u001b[0;34m\u001b[0m\u001b[0m\n\u001b[1;32m      4\u001b[0m     \u001b[0;32mif\u001b[0m \u001b[0mlen\u001b[0m\u001b[0;34m(\u001b[0m\u001b[0mw\u001b[0m\u001b[0;34m)\u001b[0m \u001b[0;34m>\u001b[0m \u001b[0;36m6\u001b[0m\u001b[0;34m:\u001b[0m\u001b[0;34m\u001b[0m\u001b[0m\n\u001b[0;32m----> 5\u001b[0;31m         \u001b[0mwords\u001b[0m\u001b[0;34m.\u001b[0m\u001b[0minsert\u001b[0m\u001b[0;34m(\u001b[0m\u001b[0;36m0\u001b[0m\u001b[0;34m,\u001b[0m \u001b[0mw\u001b[0m\u001b[0;34m)\u001b[0m\u001b[0;34m\u001b[0m\u001b[0m\n\u001b[0m\u001b[1;32m      6\u001b[0m \u001b[0;34m\u001b[0m\u001b[0m\n\u001b[1;32m      7\u001b[0m \u001b[0mwords\u001b[0m\u001b[0;34m\u001b[0m\u001b[0m\n",
      "\u001b[0;31mKeyboardInterrupt\u001b[0m: "
     ]
    }
   ],
   "source": [
    "words = ['cat', 'window', 'defenestrate']\n",
    "\n",
    "for w in words :\n",
    "    if len(w) > 6:\n",
    "        words.insert(0, w)\n",
    "        \n",
    "words\n",
    "\n",
    "# 왜냐면 이렇게 하면 무한히 words가 반복되기 때문에 ?"
   ]
  },
  {
   "cell_type": "code",
   "execution_count": 10,
   "metadata": {
    "collapsed": true
   },
   "outputs": [
    {
     "data": {
      "text/plain": [
       "['defenestrate',\n",
       " 'defenestrate',\n",
       " 'defenestrate',\n",
       " 'defenestrate',\n",
       " 'defenestrate',\n",
       " 'defenestrate',\n",
       " 'defenestrate',\n",
       " 'defenestrate',\n",
       " 'defenestrate',\n",
       " 'defenestrate',\n",
       " 'defenestrate',\n",
       " 'defenestrate',\n",
       " 'defenestrate',\n",
       " 'defenestrate',\n",
       " 'defenestrate',\n",
       " 'defenestrate',\n",
       " 'defenestrate',\n",
       " 'defenestrate',\n",
       " 'defenestrate',\n",
       " 'defenestrate',\n",
       " 'defenestrate',\n",
       " 'defenestrate',\n",
       " 'defenestrate',\n",
       " 'defenestrate',\n",
       " 'defenestrate',\n",
       " 'defenestrate',\n",
       " 'defenestrate',\n",
       " 'defenestrate',\n",
       " 'defenestrate',\n",
       " 'defenestrate',\n",
       " 'defenestrate',\n",
       " 'defenestrate',\n",
       " 'defenestrate',\n",
       " 'defenestrate',\n",
       " 'defenestrate',\n",
       " 'defenestrate',\n",
       " 'defenestrate',\n",
       " 'defenestrate',\n",
       " 'defenestrate',\n",
       " 'defenestrate',\n",
       " 'defenestrate',\n",
       " 'defenestrate',\n",
       " 'defenestrate',\n",
       " 'defenestrate',\n",
       " 'defenestrate',\n",
       " 'defenestrate',\n",
       " 'defenestrate',\n",
       " 'defenestrate',\n",
       " 'defenestrate',\n",
       " 'defenestrate',\n",
       " 'defenestrate',\n",
       " 'defenestrate',\n",
       " 'defenestrate',\n",
       " 'defenestrate',\n",
       " 'defenestrate',\n",
       " 'defenestrate',\n",
       " 'defenestrate',\n",
       " 'defenestrate',\n",
       " 'defenestrate',\n",
       " 'defenestrate',\n",
       " 'defenestrate',\n",
       " 'defenestrate',\n",
       " 'defenestrate',\n",
       " 'defenestrate',\n",
       " 'defenestrate',\n",
       " 'defenestrate',\n",
       " 'defenestrate',\n",
       " 'defenestrate',\n",
       " 'defenestrate',\n",
       " 'defenestrate',\n",
       " 'defenestrate',\n",
       " 'defenestrate',\n",
       " 'defenestrate',\n",
       " 'defenestrate',\n",
       " 'defenestrate',\n",
       " 'defenestrate',\n",
       " 'defenestrate',\n",
       " 'defenestrate',\n",
       " 'defenestrate',\n",
       " 'defenestrate',\n",
       " 'defenestrate',\n",
       " 'defenestrate',\n",
       " 'defenestrate',\n",
       " 'defenestrate',\n",
       " 'defenestrate',\n",
       " 'defenestrate',\n",
       " 'defenestrate',\n",
       " 'defenestrate',\n",
       " 'defenestrate',\n",
       " 'defenestrate',\n",
       " 'defenestrate',\n",
       " 'defenestrate',\n",
       " 'defenestrate',\n",
       " 'defenestrate',\n",
       " 'defenestrate',\n",
       " 'defenestrate',\n",
       " 'defenestrate',\n",
       " 'defenestrate',\n",
       " 'defenestrate',\n",
       " 'defenestrate',\n",
       " 'defenestrate',\n",
       " 'defenestrate',\n",
       " 'defenestrate',\n",
       " 'defenestrate',\n",
       " 'defenestrate',\n",
       " 'defenestrate',\n",
       " 'defenestrate',\n",
       " 'defenestrate',\n",
       " 'defenestrate',\n",
       " 'defenestrate',\n",
       " 'defenestrate',\n",
       " 'defenestrate',\n",
       " 'defenestrate',\n",
       " 'defenestrate',\n",
       " 'defenestrate',\n",
       " 'defenestrate',\n",
       " 'defenestrate',\n",
       " 'defenestrate',\n",
       " 'defenestrate',\n",
       " 'defenestrate',\n",
       " 'defenestrate',\n",
       " 'defenestrate',\n",
       " 'defenestrate',\n",
       " 'defenestrate',\n",
       " 'defenestrate',\n",
       " 'defenestrate',\n",
       " 'defenestrate',\n",
       " 'defenestrate',\n",
       " 'defenestrate',\n",
       " 'defenestrate',\n",
       " 'defenestrate',\n",
       " 'defenestrate',\n",
       " 'defenestrate',\n",
       " 'defenestrate',\n",
       " 'defenestrate',\n",
       " 'defenestrate',\n",
       " 'defenestrate',\n",
       " 'defenestrate',\n",
       " 'defenestrate',\n",
       " 'defenestrate',\n",
       " 'defenestrate',\n",
       " 'defenestrate',\n",
       " 'defenestrate',\n",
       " 'defenestrate',\n",
       " 'defenestrate',\n",
       " 'defenestrate',\n",
       " 'defenestrate',\n",
       " 'defenestrate',\n",
       " 'defenestrate',\n",
       " 'defenestrate',\n",
       " 'defenestrate',\n",
       " 'defenestrate',\n",
       " 'defenestrate',\n",
       " 'defenestrate',\n",
       " 'defenestrate',\n",
       " 'defenestrate',\n",
       " 'defenestrate',\n",
       " 'defenestrate',\n",
       " 'defenestrate',\n",
       " 'defenestrate',\n",
       " 'defenestrate',\n",
       " 'defenestrate',\n",
       " 'defenestrate',\n",
       " 'defenestrate',\n",
       " 'defenestrate',\n",
       " 'defenestrate',\n",
       " 'defenestrate',\n",
       " 'defenestrate',\n",
       " 'defenestrate',\n",
       " 'defenestrate',\n",
       " 'defenestrate',\n",
       " 'defenestrate',\n",
       " 'defenestrate',\n",
       " 'defenestrate',\n",
       " 'defenestrate',\n",
       " 'defenestrate',\n",
       " 'defenestrate',\n",
       " 'defenestrate',\n",
       " 'defenestrate',\n",
       " 'defenestrate',\n",
       " 'defenestrate',\n",
       " 'defenestrate',\n",
       " 'defenestrate',\n",
       " 'defenestrate',\n",
       " 'defenestrate',\n",
       " 'defenestrate',\n",
       " 'defenestrate',\n",
       " 'defenestrate',\n",
       " 'defenestrate',\n",
       " 'defenestrate',\n",
       " 'defenestrate',\n",
       " 'defenestrate',\n",
       " 'defenestrate',\n",
       " 'defenestrate',\n",
       " 'defenestrate',\n",
       " 'defenestrate',\n",
       " 'defenestrate',\n",
       " 'defenestrate',\n",
       " 'defenestrate',\n",
       " 'defenestrate',\n",
       " 'defenestrate',\n",
       " 'defenestrate',\n",
       " 'defenestrate',\n",
       " 'defenestrate',\n",
       " 'defenestrate',\n",
       " 'defenestrate',\n",
       " 'defenestrate',\n",
       " 'defenestrate',\n",
       " 'defenestrate',\n",
       " 'defenestrate',\n",
       " 'defenestrate',\n",
       " 'defenestrate',\n",
       " 'defenestrate',\n",
       " 'defenestrate',\n",
       " 'defenestrate',\n",
       " 'defenestrate',\n",
       " 'defenestrate',\n",
       " 'defenestrate',\n",
       " 'defenestrate',\n",
       " 'defenestrate',\n",
       " 'defenestrate',\n",
       " 'defenestrate',\n",
       " 'defenestrate',\n",
       " 'defenestrate',\n",
       " 'defenestrate',\n",
       " 'defenestrate',\n",
       " 'defenestrate',\n",
       " 'defenestrate',\n",
       " 'defenestrate',\n",
       " 'defenestrate',\n",
       " 'defenestrate',\n",
       " 'defenestrate',\n",
       " 'defenestrate',\n",
       " 'defenestrate',\n",
       " 'defenestrate',\n",
       " 'defenestrate',\n",
       " 'defenestrate',\n",
       " 'defenestrate',\n",
       " 'defenestrate',\n",
       " 'defenestrate',\n",
       " 'defenestrate',\n",
       " 'defenestrate',\n",
       " 'defenestrate',\n",
       " 'defenestrate',\n",
       " 'defenestrate',\n",
       " 'defenestrate',\n",
       " 'defenestrate',\n",
       " 'defenestrate',\n",
       " 'defenestrate',\n",
       " 'defenestrate',\n",
       " 'defenestrate',\n",
       " 'defenestrate',\n",
       " 'defenestrate',\n",
       " 'defenestrate',\n",
       " 'defenestrate',\n",
       " 'defenestrate',\n",
       " 'defenestrate',\n",
       " 'defenestrate',\n",
       " 'defenestrate',\n",
       " 'defenestrate',\n",
       " 'defenestrate',\n",
       " 'defenestrate',\n",
       " 'defenestrate',\n",
       " 'defenestrate',\n",
       " 'defenestrate',\n",
       " 'defenestrate',\n",
       " 'defenestrate',\n",
       " 'defenestrate',\n",
       " 'defenestrate',\n",
       " 'defenestrate',\n",
       " 'defenestrate',\n",
       " 'defenestrate',\n",
       " 'defenestrate',\n",
       " 'defenestrate',\n",
       " 'defenestrate',\n",
       " 'defenestrate',\n",
       " 'defenestrate',\n",
       " 'defenestrate',\n",
       " 'defenestrate',\n",
       " 'defenestrate',\n",
       " 'defenestrate',\n",
       " 'defenestrate',\n",
       " 'defenestrate',\n",
       " 'defenestrate',\n",
       " 'defenestrate',\n",
       " 'defenestrate',\n",
       " 'defenestrate',\n",
       " 'defenestrate',\n",
       " 'defenestrate',\n",
       " 'defenestrate',\n",
       " 'defenestrate',\n",
       " 'defenestrate',\n",
       " 'defenestrate',\n",
       " 'defenestrate',\n",
       " 'defenestrate',\n",
       " 'defenestrate',\n",
       " 'defenestrate',\n",
       " 'defenestrate',\n",
       " 'defenestrate',\n",
       " 'defenestrate',\n",
       " 'defenestrate',\n",
       " 'defenestrate',\n",
       " 'defenestrate',\n",
       " 'defenestrate',\n",
       " 'defenestrate',\n",
       " 'defenestrate',\n",
       " 'defenestrate',\n",
       " 'defenestrate',\n",
       " 'defenestrate',\n",
       " 'defenestrate',\n",
       " 'defenestrate',\n",
       " 'defenestrate',\n",
       " 'defenestrate',\n",
       " 'defenestrate',\n",
       " 'defenestrate',\n",
       " 'defenestrate',\n",
       " 'defenestrate',\n",
       " 'defenestrate',\n",
       " 'defenestrate',\n",
       " 'defenestrate',\n",
       " 'defenestrate',\n",
       " 'defenestrate',\n",
       " 'defenestrate',\n",
       " 'defenestrate',\n",
       " 'defenestrate',\n",
       " 'defenestrate',\n",
       " 'defenestrate',\n",
       " 'defenestrate',\n",
       " 'defenestrate',\n",
       " 'defenestrate',\n",
       " 'defenestrate',\n",
       " 'defenestrate',\n",
       " 'defenestrate',\n",
       " 'defenestrate',\n",
       " 'defenestrate',\n",
       " 'defenestrate',\n",
       " 'defenestrate',\n",
       " 'defenestrate',\n",
       " 'defenestrate',\n",
       " 'defenestrate',\n",
       " 'defenestrate',\n",
       " 'defenestrate',\n",
       " 'defenestrate',\n",
       " 'defenestrate',\n",
       " 'defenestrate',\n",
       " 'defenestrate',\n",
       " 'defenestrate',\n",
       " 'defenestrate',\n",
       " 'defenestrate',\n",
       " 'defenestrate',\n",
       " 'defenestrate',\n",
       " 'defenestrate',\n",
       " 'defenestrate',\n",
       " 'defenestrate',\n",
       " 'defenestrate',\n",
       " 'defenestrate',\n",
       " 'defenestrate',\n",
       " 'defenestrate',\n",
       " 'defenestrate',\n",
       " 'defenestrate',\n",
       " 'defenestrate',\n",
       " 'defenestrate',\n",
       " 'defenestrate',\n",
       " 'defenestrate',\n",
       " 'defenestrate',\n",
       " 'defenestrate',\n",
       " 'defenestrate',\n",
       " 'defenestrate',\n",
       " 'defenestrate',\n",
       " 'defenestrate',\n",
       " 'defenestrate',\n",
       " 'defenestrate',\n",
       " 'defenestrate',\n",
       " 'defenestrate',\n",
       " 'defenestrate',\n",
       " 'defenestrate',\n",
       " 'defenestrate',\n",
       " 'defenestrate',\n",
       " 'defenestrate',\n",
       " 'defenestrate',\n",
       " 'defenestrate',\n",
       " 'defenestrate',\n",
       " 'defenestrate',\n",
       " 'defenestrate',\n",
       " 'defenestrate',\n",
       " 'defenestrate',\n",
       " 'defenestrate',\n",
       " 'defenestrate',\n",
       " 'defenestrate',\n",
       " 'defenestrate',\n",
       " 'defenestrate',\n",
       " 'defenestrate',\n",
       " 'defenestrate',\n",
       " 'defenestrate',\n",
       " 'defenestrate',\n",
       " 'defenestrate',\n",
       " 'defenestrate',\n",
       " 'defenestrate',\n",
       " 'defenestrate',\n",
       " 'defenestrate',\n",
       " 'defenestrate',\n",
       " 'defenestrate',\n",
       " 'defenestrate',\n",
       " 'defenestrate',\n",
       " 'defenestrate',\n",
       " 'defenestrate',\n",
       " 'defenestrate',\n",
       " 'defenestrate',\n",
       " 'defenestrate',\n",
       " 'defenestrate',\n",
       " 'defenestrate',\n",
       " 'defenestrate',\n",
       " 'defenestrate',\n",
       " 'defenestrate',\n",
       " 'defenestrate',\n",
       " 'defenestrate',\n",
       " 'defenestrate',\n",
       " 'defenestrate',\n",
       " 'defenestrate',\n",
       " 'defenestrate',\n",
       " 'defenestrate',\n",
       " 'defenestrate',\n",
       " 'defenestrate',\n",
       " 'defenestrate',\n",
       " 'defenestrate',\n",
       " 'defenestrate',\n",
       " 'defenestrate',\n",
       " 'defenestrate',\n",
       " 'defenestrate',\n",
       " 'defenestrate',\n",
       " 'defenestrate',\n",
       " 'defenestrate',\n",
       " 'defenestrate',\n",
       " 'defenestrate',\n",
       " 'defenestrate',\n",
       " 'defenestrate',\n",
       " 'defenestrate',\n",
       " 'defenestrate',\n",
       " 'defenestrate',\n",
       " 'defenestrate',\n",
       " 'defenestrate',\n",
       " 'defenestrate',\n",
       " 'defenestrate',\n",
       " 'defenestrate',\n",
       " 'defenestrate',\n",
       " 'defenestrate',\n",
       " 'defenestrate',\n",
       " 'defenestrate',\n",
       " 'defenestrate',\n",
       " 'defenestrate',\n",
       " 'defenestrate',\n",
       " 'defenestrate',\n",
       " 'defenestrate',\n",
       " 'defenestrate',\n",
       " 'defenestrate',\n",
       " 'defenestrate',\n",
       " 'defenestrate',\n",
       " 'defenestrate',\n",
       " 'defenestrate',\n",
       " 'defenestrate',\n",
       " 'defenestrate',\n",
       " 'defenestrate',\n",
       " 'defenestrate',\n",
       " 'defenestrate',\n",
       " 'defenestrate',\n",
       " 'defenestrate',\n",
       " 'defenestrate',\n",
       " 'defenestrate',\n",
       " 'defenestrate',\n",
       " 'defenestrate',\n",
       " 'defenestrate',\n",
       " 'defenestrate',\n",
       " 'defenestrate',\n",
       " 'defenestrate',\n",
       " 'defenestrate',\n",
       " 'defenestrate',\n",
       " 'defenestrate',\n",
       " 'defenestrate',\n",
       " 'defenestrate',\n",
       " 'defenestrate',\n",
       " 'defenestrate',\n",
       " 'defenestrate',\n",
       " 'defenestrate',\n",
       " 'defenestrate',\n",
       " 'defenestrate',\n",
       " 'defenestrate',\n",
       " 'defenestrate',\n",
       " 'defenestrate',\n",
       " 'defenestrate',\n",
       " 'defenestrate',\n",
       " 'defenestrate',\n",
       " 'defenestrate',\n",
       " 'defenestrate',\n",
       " 'defenestrate',\n",
       " 'defenestrate',\n",
       " 'defenestrate',\n",
       " 'defenestrate',\n",
       " 'defenestrate',\n",
       " 'defenestrate',\n",
       " 'defenestrate',\n",
       " 'defenestrate',\n",
       " 'defenestrate',\n",
       " 'defenestrate',\n",
       " 'defenestrate',\n",
       " 'defenestrate',\n",
       " 'defenestrate',\n",
       " 'defenestrate',\n",
       " 'defenestrate',\n",
       " 'defenestrate',\n",
       " 'defenestrate',\n",
       " 'defenestrate',\n",
       " 'defenestrate',\n",
       " 'defenestrate',\n",
       " 'defenestrate',\n",
       " 'defenestrate',\n",
       " 'defenestrate',\n",
       " 'defenestrate',\n",
       " 'defenestrate',\n",
       " 'defenestrate',\n",
       " 'defenestrate',\n",
       " 'defenestrate',\n",
       " 'defenestrate',\n",
       " 'defenestrate',\n",
       " 'defenestrate',\n",
       " 'defenestrate',\n",
       " 'defenestrate',\n",
       " 'defenestrate',\n",
       " 'defenestrate',\n",
       " 'defenestrate',\n",
       " 'defenestrate',\n",
       " 'defenestrate',\n",
       " 'defenestrate',\n",
       " 'defenestrate',\n",
       " 'defenestrate',\n",
       " 'defenestrate',\n",
       " 'defenestrate',\n",
       " 'defenestrate',\n",
       " 'defenestrate',\n",
       " 'defenestrate',\n",
       " 'defenestrate',\n",
       " 'defenestrate',\n",
       " 'defenestrate',\n",
       " 'defenestrate',\n",
       " 'defenestrate',\n",
       " 'defenestrate',\n",
       " 'defenestrate',\n",
       " 'defenestrate',\n",
       " 'defenestrate',\n",
       " 'defenestrate',\n",
       " 'defenestrate',\n",
       " 'defenestrate',\n",
       " 'defenestrate',\n",
       " 'defenestrate',\n",
       " 'defenestrate',\n",
       " 'defenestrate',\n",
       " 'defenestrate',\n",
       " 'defenestrate',\n",
       " 'defenestrate',\n",
       " 'defenestrate',\n",
       " 'defenestrate',\n",
       " 'defenestrate',\n",
       " 'defenestrate',\n",
       " 'defenestrate',\n",
       " 'defenestrate',\n",
       " 'defenestrate',\n",
       " 'defenestrate',\n",
       " 'defenestrate',\n",
       " 'defenestrate',\n",
       " 'defenestrate',\n",
       " 'defenestrate',\n",
       " 'defenestrate',\n",
       " 'defenestrate',\n",
       " 'defenestrate',\n",
       " 'defenestrate',\n",
       " 'defenestrate',\n",
       " 'defenestrate',\n",
       " 'defenestrate',\n",
       " 'defenestrate',\n",
       " 'defenestrate',\n",
       " 'defenestrate',\n",
       " 'defenestrate',\n",
       " 'defenestrate',\n",
       " 'defenestrate',\n",
       " 'defenestrate',\n",
       " 'defenestrate',\n",
       " 'defenestrate',\n",
       " 'defenestrate',\n",
       " 'defenestrate',\n",
       " 'defenestrate',\n",
       " 'defenestrate',\n",
       " 'defenestrate',\n",
       " 'defenestrate',\n",
       " 'defenestrate',\n",
       " 'defenestrate',\n",
       " 'defenestrate',\n",
       " 'defenestrate',\n",
       " 'defenestrate',\n",
       " 'defenestrate',\n",
       " 'defenestrate',\n",
       " 'defenestrate',\n",
       " 'defenestrate',\n",
       " 'defenestrate',\n",
       " 'defenestrate',\n",
       " 'defenestrate',\n",
       " 'defenestrate',\n",
       " 'defenestrate',\n",
       " 'defenestrate',\n",
       " 'defenestrate',\n",
       " 'defenestrate',\n",
       " 'defenestrate',\n",
       " 'defenestrate',\n",
       " 'defenestrate',\n",
       " 'defenestrate',\n",
       " 'defenestrate',\n",
       " 'defenestrate',\n",
       " 'defenestrate',\n",
       " 'defenestrate',\n",
       " 'defenestrate',\n",
       " 'defenestrate',\n",
       " 'defenestrate',\n",
       " 'defenestrate',\n",
       " 'defenestrate',\n",
       " 'defenestrate',\n",
       " 'defenestrate',\n",
       " 'defenestrate',\n",
       " 'defenestrate',\n",
       " 'defenestrate',\n",
       " 'defenestrate',\n",
       " 'defenestrate',\n",
       " 'defenestrate',\n",
       " 'defenestrate',\n",
       " 'defenestrate',\n",
       " 'defenestrate',\n",
       " 'defenestrate',\n",
       " 'defenestrate',\n",
       " 'defenestrate',\n",
       " 'defenestrate',\n",
       " 'defenestrate',\n",
       " 'defenestrate',\n",
       " 'defenestrate',\n",
       " 'defenestrate',\n",
       " 'defenestrate',\n",
       " 'defenestrate',\n",
       " 'defenestrate',\n",
       " 'defenestrate',\n",
       " 'defenestrate',\n",
       " 'defenestrate',\n",
       " 'defenestrate',\n",
       " 'defenestrate',\n",
       " 'defenestrate',\n",
       " 'defenestrate',\n",
       " 'defenestrate',\n",
       " 'defenestrate',\n",
       " 'defenestrate',\n",
       " 'defenestrate',\n",
       " 'defenestrate',\n",
       " 'defenestrate',\n",
       " 'defenestrate',\n",
       " 'defenestrate',\n",
       " 'defenestrate',\n",
       " 'defenestrate',\n",
       " 'defenestrate',\n",
       " 'defenestrate',\n",
       " 'defenestrate',\n",
       " 'defenestrate',\n",
       " 'defenestrate',\n",
       " 'defenestrate',\n",
       " 'defenestrate',\n",
       " 'defenestrate',\n",
       " 'defenestrate',\n",
       " 'defenestrate',\n",
       " 'defenestrate',\n",
       " 'defenestrate',\n",
       " 'defenestrate',\n",
       " 'defenestrate',\n",
       " 'defenestrate',\n",
       " 'defenestrate',\n",
       " 'defenestrate',\n",
       " 'defenestrate',\n",
       " 'defenestrate',\n",
       " 'defenestrate',\n",
       " 'defenestrate',\n",
       " 'defenestrate',\n",
       " 'defenestrate',\n",
       " 'defenestrate',\n",
       " 'defenestrate',\n",
       " 'defenestrate',\n",
       " 'defenestrate',\n",
       " 'defenestrate',\n",
       " 'defenestrate',\n",
       " 'defenestrate',\n",
       " 'defenestrate',\n",
       " 'defenestrate',\n",
       " 'defenestrate',\n",
       " 'defenestrate',\n",
       " 'defenestrate',\n",
       " 'defenestrate',\n",
       " 'defenestrate',\n",
       " 'defenestrate',\n",
       " 'defenestrate',\n",
       " 'defenestrate',\n",
       " 'defenestrate',\n",
       " 'defenestrate',\n",
       " 'defenestrate',\n",
       " 'defenestrate',\n",
       " 'defenestrate',\n",
       " 'defenestrate',\n",
       " 'defenestrate',\n",
       " 'defenestrate',\n",
       " 'defenestrate',\n",
       " 'defenestrate',\n",
       " 'defenestrate',\n",
       " 'defenestrate',\n",
       " 'defenestrate',\n",
       " 'defenestrate',\n",
       " 'defenestrate',\n",
       " 'defenestrate',\n",
       " 'defenestrate',\n",
       " 'defenestrate',\n",
       " 'defenestrate',\n",
       " 'defenestrate',\n",
       " 'defenestrate',\n",
       " 'defenestrate',\n",
       " 'defenestrate',\n",
       " 'defenestrate',\n",
       " 'defenestrate',\n",
       " 'defenestrate',\n",
       " 'defenestrate',\n",
       " 'defenestrate',\n",
       " 'defenestrate',\n",
       " 'defenestrate',\n",
       " 'defenestrate',\n",
       " 'defenestrate',\n",
       " 'defenestrate',\n",
       " 'defenestrate',\n",
       " 'defenestrate',\n",
       " 'defenestrate',\n",
       " 'defenestrate',\n",
       " 'defenestrate',\n",
       " 'defenestrate',\n",
       " 'defenestrate',\n",
       " 'defenestrate',\n",
       " 'defenestrate',\n",
       " 'defenestrate',\n",
       " 'defenestrate',\n",
       " 'defenestrate',\n",
       " 'defenestrate',\n",
       " 'defenestrate',\n",
       " 'defenestrate',\n",
       " 'defenestrate',\n",
       " 'defenestrate',\n",
       " 'defenestrate',\n",
       " 'defenestrate',\n",
       " 'defenestrate',\n",
       " 'defenestrate',\n",
       " 'defenestrate',\n",
       " 'defenestrate',\n",
       " 'defenestrate',\n",
       " 'defenestrate',\n",
       " 'defenestrate',\n",
       " 'defenestrate',\n",
       " 'defenestrate',\n",
       " 'defenestrate',\n",
       " 'defenestrate',\n",
       " 'defenestrate',\n",
       " 'defenestrate',\n",
       " 'defenestrate',\n",
       " 'defenestrate',\n",
       " 'defenestrate',\n",
       " 'defenestrate',\n",
       " 'defenestrate',\n",
       " 'defenestrate',\n",
       " 'defenestrate',\n",
       " 'defenestrate',\n",
       " 'defenestrate',\n",
       " 'defenestrate',\n",
       " 'defenestrate',\n",
       " 'defenestrate',\n",
       " 'defenestrate',\n",
       " 'defenestrate',\n",
       " 'defenestrate',\n",
       " 'defenestrate',\n",
       " 'defenestrate',\n",
       " 'defenestrate',\n",
       " 'defenestrate',\n",
       " 'defenestrate',\n",
       " 'defenestrate',\n",
       " 'defenestrate',\n",
       " 'defenestrate',\n",
       " 'defenestrate',\n",
       " 'defenestrate',\n",
       " 'defenestrate',\n",
       " 'defenestrate',\n",
       " 'defenestrate',\n",
       " 'defenestrate',\n",
       " 'defenestrate',\n",
       " 'defenestrate',\n",
       " 'defenestrate',\n",
       " 'defenestrate',\n",
       " 'defenestrate',\n",
       " 'defenestrate',\n",
       " 'defenestrate',\n",
       " 'defenestrate',\n",
       " 'defenestrate',\n",
       " 'defenestrate',\n",
       " 'defenestrate',\n",
       " 'defenestrate',\n",
       " 'defenestrate',\n",
       " 'defenestrate',\n",
       " 'defenestrate',\n",
       " 'defenestrate',\n",
       " 'defenestrate',\n",
       " 'defenestrate',\n",
       " 'defenestrate',\n",
       " 'defenestrate',\n",
       " 'defenestrate',\n",
       " 'defenestrate',\n",
       " 'defenestrate',\n",
       " 'defenestrate',\n",
       " 'defenestrate',\n",
       " 'defenestrate',\n",
       " 'defenestrate',\n",
       " 'defenestrate',\n",
       " 'defenestrate',\n",
       " 'defenestrate',\n",
       " 'defenestrate',\n",
       " 'defenestrate',\n",
       " 'defenestrate',\n",
       " 'defenestrate',\n",
       " 'defenestrate',\n",
       " 'defenestrate',\n",
       " 'defenestrate',\n",
       " 'defenestrate',\n",
       " 'defenestrate',\n",
       " 'defenestrate',\n",
       " 'defenestrate',\n",
       " 'defenestrate',\n",
       " 'defenestrate',\n",
       " 'defenestrate',\n",
       " 'defenestrate',\n",
       " 'defenestrate',\n",
       " 'defenestrate',\n",
       " 'defenestrate',\n",
       " 'defenestrate',\n",
       " 'defenestrate',\n",
       " 'defenestrate',\n",
       " 'defenestrate',\n",
       " 'defenestrate',\n",
       " 'defenestrate',\n",
       " 'defenestrate',\n",
       " 'defenestrate',\n",
       " 'defenestrate',\n",
       " 'defenestrate',\n",
       " 'defenestrate',\n",
       " 'defenestrate',\n",
       " 'defenestrate',\n",
       " 'defenestrate',\n",
       " 'defenestrate',\n",
       " 'defenestrate',\n",
       " 'defenestrate',\n",
       " 'defenestrate',\n",
       " 'defenestrate',\n",
       " 'defenestrate',\n",
       " 'defenestrate',\n",
       " 'defenestrate',\n",
       " 'defenestrate',\n",
       " 'defenestrate',\n",
       " 'defenestrate',\n",
       " 'defenestrate',\n",
       " 'defenestrate',\n",
       " 'defenestrate',\n",
       " 'defenestrate',\n",
       " 'defenestrate',\n",
       " 'defenestrate',\n",
       " 'defenestrate',\n",
       " 'defenestrate',\n",
       " 'defenestrate',\n",
       " 'defenestrate',\n",
       " 'defenestrate',\n",
       " 'defenestrate',\n",
       " 'defenestrate',\n",
       " 'defenestrate',\n",
       " 'defenestrate',\n",
       " 'defenestrate',\n",
       " 'defenestrate',\n",
       " 'defenestrate',\n",
       " 'defenestrate',\n",
       " 'defenestrate',\n",
       " 'defenestrate',\n",
       " 'defenestrate',\n",
       " 'defenestrate',\n",
       " 'defenestrate',\n",
       " 'defenestrate',\n",
       " 'defenestrate',\n",
       " 'defenestrate',\n",
       " 'defenestrate',\n",
       " 'defenestrate',\n",
       " 'defenestrate',\n",
       " 'defenestrate',\n",
       " 'defenestrate',\n",
       " 'defenestrate',\n",
       " 'defenestrate',\n",
       " 'defenestrate',\n",
       " 'defenestrate',\n",
       " 'defenestrate',\n",
       " 'defenestrate',\n",
       " 'defenestrate',\n",
       " 'defenestrate',\n",
       " 'defenestrate',\n",
       " 'defenestrate',\n",
       " 'defenestrate',\n",
       " 'defenestrate',\n",
       " 'defenestrate',\n",
       " 'defenestrate',\n",
       " 'defenestrate',\n",
       " 'defenestrate',\n",
       " 'defenestrate',\n",
       " 'defenestrate',\n",
       " 'defenestrate',\n",
       " 'defenestrate',\n",
       " 'defenestrate',\n",
       " 'defenestrate',\n",
       " 'defenestrate',\n",
       " 'defenestrate',\n",
       " 'defenestrate',\n",
       " 'defenestrate',\n",
       " 'defenestrate',\n",
       " 'defenestrate',\n",
       " 'defenestrate',\n",
       " 'defenestrate',\n",
       " 'defenestrate',\n",
       " 'defenestrate',\n",
       " 'defenestrate',\n",
       " 'defenestrate',\n",
       " 'defenestrate',\n",
       " 'defenestrate',\n",
       " 'defenestrate',\n",
       " 'defenestrate',\n",
       " 'defenestrate',\n",
       " 'defenestrate',\n",
       " 'defenestrate',\n",
       " 'defenestrate',\n",
       " 'defenestrate',\n",
       " 'defenestrate',\n",
       " 'defenestrate',\n",
       " 'defenestrate',\n",
       " 'defenestrate',\n",
       " 'defenestrate',\n",
       " 'defenestrate',\n",
       " 'defenestrate',\n",
       " 'defenestrate',\n",
       " 'defenestrate',\n",
       " 'defenestrate',\n",
       " 'defenestrate',\n",
       " 'defenestrate',\n",
       " 'defenestrate',\n",
       " 'defenestrate',\n",
       " 'defenestrate',\n",
       " 'defenestrate',\n",
       " 'defenestrate',\n",
       " 'defenestrate',\n",
       " 'defenestrate',\n",
       " 'defenestrate',\n",
       " 'defenestrate',\n",
       " 'defenestrate',\n",
       " 'defenestrate',\n",
       " 'defenestrate',\n",
       " 'defenestrate',\n",
       " 'defenestrate',\n",
       " 'defenestrate',\n",
       " 'defenestrate',\n",
       " 'defenestrate',\n",
       " 'defenestrate',\n",
       " 'defenestrate',\n",
       " 'defenestrate',\n",
       " 'defenestrate',\n",
       " 'defenestrate',\n",
       " 'defenestrate',\n",
       " 'defenestrate',\n",
       " 'defenestrate',\n",
       " 'defenestrate',\n",
       " 'defenestrate',\n",
       " 'defenestrate',\n",
       " 'defenestrate',\n",
       " 'defenestrate',\n",
       " 'defenestrate',\n",
       " 'defenestrate',\n",
       " 'defenestrate',\n",
       " 'defenestrate',\n",
       " 'defenestrate',\n",
       " 'defenestrate',\n",
       " 'defenestrate',\n",
       " 'defenestrate',\n",
       " 'defenestrate',\n",
       " 'defenestrate',\n",
       " 'defenestrate',\n",
       " 'defenestrate',\n",
       " 'defenestrate',\n",
       " 'defenestrate',\n",
       " 'defenestrate',\n",
       " ...]"
      ]
     },
     "execution_count": 10,
     "metadata": {},
     "output_type": "execute_result"
    }
   ],
   "source": [
    "words"
   ]
  },
  {
   "cell_type": "markdown",
   "metadata": {},
   "source": [
    "## break / continue / else / pass\n",
    "\n",
    "여기서의 else는 if문이 아닌 for문에 걸린다.\n",
    "\n",
    "for문에서 list를 전부 돌았거나, while문에서 조건이 거짓이 될 경우 else 문이 실행된다.\n",
    "하지만 루프가 'break'문에 의해 종료되었을 경우에는 else 문은 실행되지 않는다."
   ]
  },
  {
   "cell_type": "code",
   "execution_count": 25,
   "metadata": {},
   "outputs": [
    {
     "name": "stdout",
     "output_type": "stream",
     "text": [
      "2 is a prime number\n",
      "3 is a prime number\n",
      "4 equals 2 * 2\n",
      "5 is a prime number\n",
      "6 equals 2 * 3\n",
      "7 is a prime number\n",
      "8 equals 2 * 4\n",
      "9 equals 3 * 3\n"
     ]
    }
   ],
   "source": [
    "# break / else\n",
    "for n in range(2,10) :\n",
    "    for x in range(2, n):\n",
    "        if n % x == 0 :\n",
    "            print(n, 'equals', x, '*', n//x)\n",
    "            break\n",
    "    else :\n",
    "        print(n, 'is a prime number')"
   ]
  },
  {
   "cell_type": "code",
   "execution_count": 26,
   "metadata": {
    "scrolled": true
   },
   "outputs": [
    {
     "name": "stdout",
     "output_type": "stream",
     "text": [
      "Found an even number 2\n",
      "Foudn a number 3\n",
      "Found an even number 4\n",
      "Foudn a number 5\n",
      "Found an even number 6\n",
      "Foudn a number 7\n",
      "Found an even number 8\n",
      "Foudn a number 9\n"
     ]
    }
   ],
   "source": [
    "# continue\n",
    "for num in range(2, 10):\n",
    "    if num % 2 == 0 :\n",
    "        print(\"Found an even number\", num)\n",
    "        continue\n",
    "    print(\"Foudn a number\", num)"
   ]
  },
  {
   "cell_type": "code",
   "execution_count": 29,
   "metadata": {},
   "outputs": [],
   "source": [
    "# pass does nothing\n",
    "class MyEmptyClass :\n",
    "    pass\n",
    "    # It's commonly used for creating minimal classes\n",
    "    \n",
    "def initlog(*args) :\n",
    "    pass \n",
    "    # Or to keep thinking at a more abstract level"
   ]
  },
  {
   "cell_type": "markdown",
   "metadata": {},
   "source": [
    "## range() 함수"
   ]
  },
  {
   "cell_type": "code",
   "execution_count": 11,
   "metadata": {},
   "outputs": [
    {
     "name": "stdout",
     "output_type": "stream",
     "text": [
      "0\n",
      "1\n",
      "2\n",
      "3\n",
      "4\n"
     ]
    }
   ],
   "source": [
    "for i in range(5) :\n",
    "    print (i)"
   ]
  },
  {
   "cell_type": "code",
   "execution_count": 13,
   "metadata": {},
   "outputs": [
    {
     "data": {
      "text/plain": [
       "range(5, 10)"
      ]
     },
     "execution_count": 13,
     "metadata": {},
     "output_type": "execute_result"
    }
   ],
   "source": [
    "range(5, 10)"
   ]
  },
  {
   "cell_type": "code",
   "execution_count": 15,
   "metadata": {},
   "outputs": [
    {
     "data": {
      "text/plain": [
       "range(0, 10, 3)"
      ]
     },
     "execution_count": 15,
     "metadata": {},
     "output_type": "execute_result"
    }
   ],
   "source": [
    "range(0, 10, 3)"
   ]
  },
  {
   "cell_type": "code",
   "execution_count": 16,
   "metadata": {},
   "outputs": [
    {
     "data": {
      "text/plain": [
       "range(-10, -100, -30)"
      ]
     },
     "execution_count": 16,
     "metadata": {},
     "output_type": "execute_result"
    }
   ],
   "source": [
    "range(-10, -100, -30)"
   ]
  },
  {
   "cell_type": "code",
   "execution_count": 17,
   "metadata": {},
   "outputs": [
    {
     "name": "stdout",
     "output_type": "stream",
     "text": [
      "0 Mary\n",
      "1 had\n",
      "2 a\n",
      "3 little\n",
      "4 lamb\n"
     ]
    }
   ],
   "source": [
    "a = ['Mary', 'had', 'a', 'little', 'lamb']\n",
    "\n",
    "for i in range(len(a)) :\n",
    "    print(i, a[i])"
   ]
  },
  {
   "cell_type": "code",
   "execution_count": 19,
   "metadata": {},
   "outputs": [
    {
     "data": {
      "text/plain": [
       "[(0, 'Spring'), (1, 'Summer'), (2, 'Fall'), (3, ' Winter')]"
      ]
     },
     "execution_count": 19,
     "metadata": {},
     "output_type": "execute_result"
    }
   ],
   "source": [
    "# 유용한 enumerate function\n",
    "# enumerate(iterablr, start=0)\n",
    "seasons = ['Spring', 'Summer', 'Fall',' Winter']\n",
    "\n",
    "list(enumerate(seasons))"
   ]
  },
  {
   "cell_type": "code",
   "execution_count": 20,
   "metadata": {},
   "outputs": [
    {
     "data": {
      "text/plain": [
       "[(1, 'Spring'), (2, 'Summer'), (3, 'Fall'), (4, ' Winter')]"
      ]
     },
     "execution_count": 20,
     "metadata": {},
     "output_type": "execute_result"
    }
   ],
   "source": [
    "list(enumerate(seasons, start=1))"
   ]
  },
  {
   "cell_type": "markdown",
   "metadata": {},
   "source": [
    "## Defining functions\n",
    "\n",
    "함수 body에서 첫 문장은 보통 'docstring'으로 쓴다.\n",
    "\n",
    "함수에서 변수의 scope는 다음과 같다\n",
    "> 1) local symbol table\n",
    "<br>2) local symbol tables of enclosing function\n",
    "<br>3) global symbol table\n",
    "<br>4) table of built-in names\n",
    "\n",
    "따라서 전역 변수들은 함수 내에서 곧바로 값을 할당받을 수 없다. \n",
    "\n",
    "함수에 전달되는 인자들은 ***Call by Value*** 방식에 의해 전달된다. "
   ]
  },
  {
   "cell_type": "code",
   "execution_count": 30,
   "metadata": {},
   "outputs": [
    {
     "name": "stdout",
     "output_type": "stream",
     "text": [
      "0 1 1 2 3 5 8 13 21 34 55 89 144 233 377 610 987 1597 \n"
     ]
    }
   ],
   "source": [
    "def fib(n) :\n",
    "    \"\"\" Print a Fibonacci series up to n.\"\"\"\n",
    "    a, b = 0, 1\n",
    "    while a < n :\n",
    "        print(a, end=' ')\n",
    "        a, b = b, a+b\n",
    "    print()\n",
    "    \n",
    "fib(2000)"
   ]
  },
  {
   "cell_type": "code",
   "execution_count": 31,
   "metadata": {},
   "outputs": [
    {
     "data": {
      "text/plain": [
       "<function __main__.fib>"
      ]
     },
     "execution_count": 31,
     "metadata": {},
     "output_type": "execute_result"
    }
   ],
   "source": [
    "fib"
   ]
  },
  {
   "cell_type": "code",
   "execution_count": 32,
   "metadata": {},
   "outputs": [
    {
     "name": "stdout",
     "output_type": "stream",
     "text": [
      "0 1 1 2 3 5 8 13 21 34 55 89 \n"
     ]
    }
   ],
   "source": [
    "f = fib\n",
    "f(100)"
   ]
  },
  {
   "cell_type": "code",
   "execution_count": 33,
   "metadata": {},
   "outputs": [
    {
     "name": "stdout",
     "output_type": "stream",
     "text": [
      "\n",
      "\n",
      "None\n"
     ]
    }
   ],
   "source": [
    "fib(0)\n",
    "print(fib(0))"
   ]
  },
  {
   "cell_type": "code",
   "execution_count": 35,
   "metadata": {},
   "outputs": [
    {
     "data": {
      "text/plain": [
       "[0, 1, 1, 2, 3, 5, 8, 13, 21, 34, 55, 89]"
      ]
     },
     "execution_count": 35,
     "metadata": {},
     "output_type": "execute_result"
    }
   ],
   "source": [
    "def fib2(n) :\n",
    "    \"\"\" Print a Fibonacci series up to n.\"\"\"\n",
    "    result= []\n",
    "    a, b = 0, 1\n",
    "    while a < n :\n",
    "        result.append(a)\n",
    "        a, b = b, a+b\n",
    "    return result\n",
    "\n",
    "f100 = fib2(100)\n",
    "f100"
   ]
  },
  {
   "cell_type": "markdown",
   "metadata": {},
   "source": [
    "###### Default Argument Values\n",
    "\n",
    "인자에 다음과 같이 기본값을 할당할 수 있다."
   ]
  },
  {
   "cell_type": "code",
   "execution_count": 37,
   "metadata": {},
   "outputs": [
    {
     "name": "stdout",
     "output_type": "stream",
     "text": [
      "Do you really want to quit?y\n"
     ]
    },
    {
     "data": {
      "text/plain": [
       "True"
      ]
     },
     "execution_count": 37,
     "metadata": {},
     "output_type": "execute_result"
    }
   ],
   "source": [
    "def ask_ok (prompt, retries=4, reminder=\"Please try again!\") :\n",
    "    while True :\n",
    "        ok = input(prompt)\n",
    "        if ok in ('y', 'ye', 'yes') :\n",
    "            return True\n",
    "        if ok in ('n', 'no', 'nop', 'nope'):\n",
    "            return False\n",
    "        retries = retries - 1\n",
    "        if retries < 0 :\n",
    "            raise ValueError('invalid user response')\n",
    "        print(reminder)\n",
    "        \n",
    "ask_ok('Do you really want to quit?')"
   ]
  },
  {
   "cell_type": "code",
   "execution_count": 39,
   "metadata": {},
   "outputs": [
    {
     "name": "stdout",
     "output_type": "stream",
     "text": [
      "OK to overwrite the file?p\n",
      "Come on, only yes or no!\n",
      "OK to overwrite the file?p\n",
      "Come on, only yes or no!\n",
      "OK to overwrite the file?p\n"
     ]
    },
    {
     "ename": "ValueError",
     "evalue": "invalid user response",
     "output_type": "error",
     "traceback": [
      "\u001b[0;31m---------------------------------------------------------------------------\u001b[0m",
      "\u001b[0;31mValueError\u001b[0m                                Traceback (most recent call last)",
      "\u001b[0;32m<ipython-input-39-39262c4d62dc>\u001b[0m in \u001b[0;36m<module>\u001b[0;34m()\u001b[0m\n\u001b[0;32m----> 1\u001b[0;31m \u001b[0mask_ok\u001b[0m\u001b[0;34m(\u001b[0m\u001b[0;34m'OK to overwrite the file?'\u001b[0m\u001b[0;34m,\u001b[0m \u001b[0;36m2\u001b[0m\u001b[0;34m,\u001b[0m \u001b[0;34m'Come on, only yes or no!'\u001b[0m\u001b[0;34m)\u001b[0m\u001b[0;34m\u001b[0m\u001b[0m\n\u001b[0m",
      "\u001b[0;32m<ipython-input-37-924abf86e58c>\u001b[0m in \u001b[0;36mask_ok\u001b[0;34m(prompt, retries, reminder)\u001b[0m\n\u001b[1;32m      8\u001b[0m         \u001b[0mretries\u001b[0m \u001b[0;34m=\u001b[0m \u001b[0mretries\u001b[0m \u001b[0;34m-\u001b[0m \u001b[0;36m1\u001b[0m\u001b[0;34m\u001b[0m\u001b[0m\n\u001b[1;32m      9\u001b[0m         \u001b[0;32mif\u001b[0m \u001b[0mretries\u001b[0m \u001b[0;34m<\u001b[0m \u001b[0;36m0\u001b[0m \u001b[0;34m:\u001b[0m\u001b[0;34m\u001b[0m\u001b[0m\n\u001b[0;32m---> 10\u001b[0;31m             \u001b[0;32mraise\u001b[0m \u001b[0mValueError\u001b[0m\u001b[0;34m(\u001b[0m\u001b[0;34m'invalid user response'\u001b[0m\u001b[0;34m)\u001b[0m\u001b[0;34m\u001b[0m\u001b[0m\n\u001b[0m\u001b[1;32m     11\u001b[0m         \u001b[0mprint\u001b[0m\u001b[0;34m(\u001b[0m\u001b[0mreminder\u001b[0m\u001b[0;34m)\u001b[0m\u001b[0;34m\u001b[0m\u001b[0m\n\u001b[1;32m     12\u001b[0m \u001b[0;34m\u001b[0m\u001b[0m\n",
      "\u001b[0;31mValueError\u001b[0m: invalid user response"
     ]
    }
   ],
   "source": [
    "ask_ok('OK to overwrite the file?', 2, 'Come on, only yes or no!')"
   ]
  },
  {
   "cell_type": "markdown",
   "metadata": {},
   "source": [
    "또한 기본값들은 함수의 정의가 이루어질 때의 값들로 구성된다. 아래 예를 살펴보자."
   ]
  },
  {
   "cell_type": "code",
   "execution_count": 40,
   "metadata": {},
   "outputs": [
    {
     "name": "stdout",
     "output_type": "stream",
     "text": [
      "5\n"
     ]
    }
   ],
   "source": [
    "i = 5\n",
    "\n",
    "def f(arg=i) :\n",
    "    print(arg)\n",
    "\n",
    "i = 6\n",
    "f()"
   ]
  },
  {
   "cell_type": "markdown",
   "metadata": {},
   "source": [
    "또한 기본값들은 오직 한 번만 검사된다. 즉, 반복 가능한 오브젝트일 경우 인자들은 중첩된다."
   ]
  },
  {
   "cell_type": "code",
   "execution_count": 41,
   "metadata": {},
   "outputs": [
    {
     "name": "stdout",
     "output_type": "stream",
     "text": [
      "[1]\n",
      "[1, 2]\n",
      "[1, 2, 3]\n"
     ]
    }
   ],
   "source": [
    "def f(a, L=[]) :\n",
    "    L.append(a)\n",
    "    return L\n",
    "\n",
    "print(f(1))\n",
    "print(f(2))\n",
    "print(f(3))"
   ]
  },
  {
   "cell_type": "markdown",
   "metadata": {},
   "source": [
    "만약 기본값이 다음 호출에서 공유되기를 원하지 않는다면, 다음과 같이 함수를 작성할 수 있다."
   ]
  },
  {
   "cell_type": "code",
   "execution_count": 43,
   "metadata": {},
   "outputs": [
    {
     "name": "stdout",
     "output_type": "stream",
     "text": [
      "[1]\n",
      "[2]\n",
      "[3]\n"
     ]
    }
   ],
   "source": [
    "def f(a, L=None):\n",
    "    if L is None :\n",
    "        L = []\n",
    "    L.append(a)\n",
    "    return L\n",
    "\n",
    "print(f(1))\n",
    "print(f(2))\n",
    "print(f(3))"
   ]
  },
  {
   "cell_type": "markdown",
   "metadata": {},
   "source": [
    "###### Keyword Arguments\n",
    "\n",
    "함수는 `kwarg=value`의 형태로 키워드 인자들을 사용할 수 있다."
   ]
  },
  {
   "cell_type": "code",
   "execution_count": 44,
   "metadata": {},
   "outputs": [
    {
     "name": "stdout",
     "output_type": "stream",
     "text": [
      "- This parrot wouldn't voom if you put 1000 volts through it.\n",
      "- Lovely plumage, the Norwegian Blue\n",
      "- It's a stiff !\n",
      "- This parrot wouldn't VOOOOOM if you put 10000 volts through it.\n",
      "- Lovely plumage, the Norwegian Blue\n",
      "- It's a stiff !\n",
      "- This parrot wouldn't jump if you put a million volts through it.\n",
      "- Lovely plumage, the Norwegian Blue\n",
      "- It's bereft of life !\n",
      "- This parrot wouldn't voom if you put a thousand volts through it.\n",
      "- Lovely plumage, the Norwegian Blue\n",
      "- It's pusing up the daisies !\n"
     ]
    }
   ],
   "source": [
    "def parrot(voltage, state='a stiff', action='voom', type='Norwegian Blue'):\n",
    "    print(\"- This parrot wouldn't\", action, end=' ')\n",
    "    print(\"if you put\", voltage, \"volts through it.\")\n",
    "    print(\"- Lovely plumage, the\", type)\n",
    "    print(\"- It's\", state, \"!\")\n",
    "\n",
    "parrot(1000)  # 1 pos arg\n",
    "parrot(action='VOOOOOM', voltage=10000)  # 2 key arg\n",
    "parrot('a million', 'bereft of life', 'jump')  # 3 pos arg\n",
    "parrot('a thousand', state='pusing up the daisies') # 1 pos, 1 keyword\n"
   ]
  },
  {
   "cell_type": "markdown",
   "metadata": {},
   "source": [
    "그리고 \\*name, \\*\\*name과 같은 기능도 있다.\n",
    "\n",
    "\\*name이 반드시 \\*\\*name보다 먼저 나와야 한다.\n",
    "\n",
    "\\*name은 형식 인자들을 지칭하고, \\*\\*name은 dictionary 형태로 저장된다.\n",
    "\n",
    "아래 예를 살펴보자."
   ]
  },
  {
   "cell_type": "code",
   "execution_count": 45,
   "metadata": {},
   "outputs": [
    {
     "name": "stdout",
     "output_type": "stream",
     "text": [
      "- Do you have any Limburger ?\n",
      "- I'm sorry, we're all out of Limburger\n",
      "It's very runny, sir.\n",
      "It's really very, VERY runny, sir.\n",
      "----------------------------------------\n",
      "shopkeeper : Michael Palin\n",
      "client : John Cleese\n",
      "sketch : Cheese Shop Sketch\n"
     ]
    }
   ],
   "source": [
    "def cheeseshop(kind, *arguments, **keywords):\n",
    "    print(\"- Do you have any\", kind, \"?\")\n",
    "    print(\"- I'm sorry, we're all out of\", kind)\n",
    "    for arg in arguments:\n",
    "        print(arg)\n",
    "    print(\"-\" * 40)\n",
    "    for kw in keywords:\n",
    "        print(kw, \":\", keywords[kw])\n",
    "        \n",
    "cheeseshop(\"Limburger\", \"It's very runny, sir.\",\n",
    "           \"It's really very, VERY runny, sir.\",\n",
    "           shopkeeper=\"Michael Palin\",\n",
    "           client=\"John Cleese\",\n",
    "           sketch=\"Cheese Shop Sketch\")"
   ]
  },
  {
   "cell_type": "markdown",
   "metadata": {},
   "source": [
    "###### Arbitrary argument Lists\n",
    "\n",
    "함수가 임의의 인자로 호출되게 할 수도 있다. 이 경우에는 튜플을 사용한다."
   ]
  },
  {
   "cell_type": "code",
   "execution_count": 48,
   "metadata": {},
   "outputs": [
    {
     "name": "stdout",
     "output_type": "stream",
     "text": [
      "earth/mars/venus\n",
      "earth.mars.venus\n"
     ]
    }
   ],
   "source": [
    "def concat(*args, sep=\"/\") :\n",
    "    return sep.join(args)\n",
    "\n",
    "print(concat(\"earth\", \"mars\", \"venus\"))\n",
    "\n",
    "print(concat(\"earth\", \"mars\", \"venus\", sep=\".\"))"
   ]
  },
  {
   "cell_type": "markdown",
   "metadata": {},
   "source": [
    "###### Unpacking Argument Lists"
   ]
  },
  {
   "cell_type": "code",
   "execution_count": 49,
   "metadata": {},
   "outputs": [
    {
     "data": {
      "text/plain": [
       "[3, 4, 5]"
      ]
     },
     "execution_count": 49,
     "metadata": {},
     "output_type": "execute_result"
    }
   ],
   "source": [
    "list(range(3,6))\n",
    "\n",
    "args = [3,6]\n",
    "\n",
    "list(range(*args))"
   ]
  },
  {
   "cell_type": "code",
   "execution_count": 53,
   "metadata": {},
   "outputs": [
    {
     "name": "stdout",
     "output_type": "stream",
     "text": [
      "- Do you have any Limburger ?\n",
      "- I'm sorry, we're all out of Limburger\n",
      "----------------------------------------\n",
      "shopkeeper : Michael Palin\n"
     ]
    }
   ],
   "source": [
    "d = {\"shopkeeper\" :\"Michael Palin\"}\n",
    "\n",
    "cheeseshop(\"Limburger\", **d)"
   ]
  },
  {
   "cell_type": "markdown",
   "metadata": {},
   "source": [
    "## Lambda Expressions\n",
    "\n",
    "`lambda` 키워드를 사용하여 간단한 어나니머스 함수 형식을 만들 수 있다.\n",
    "\n"
   ]
  },
  {
   "cell_type": "code",
   "execution_count": 55,
   "metadata": {},
   "outputs": [
    {
     "data": {
      "text/plain": [
       "43"
      ]
     },
     "execution_count": 55,
     "metadata": {},
     "output_type": "execute_result"
    }
   ],
   "source": [
    "def make_incrementor(n) :\n",
    "    return lambda x: x + n\n",
    "\n",
    "f = make_incrementor(42)\n",
    "f(1)"
   ]
  },
  {
   "cell_type": "code",
   "execution_count": 56,
   "metadata": {},
   "outputs": [
    {
     "data": {
      "text/plain": [
       "[(4, 'four'), (1, 'one'), (3, 'three'), (2, 'two')]"
      ]
     },
     "execution_count": 56,
     "metadata": {},
     "output_type": "execute_result"
    }
   ],
   "source": [
    "pairs = [(1, 'one'), (2, 'two'), (3, 'three'), (4, 'four')]\n",
    "pairs.sort(key=lambda pair: pair[1])\n",
    "pairs"
   ]
  }
 ],
 "metadata": {
  "kernelspec": {
   "display_name": "Python 3",
   "language": "python",
   "name": "python3"
  },
  "language_info": {
   "codemirror_mode": {
    "name": "ipython",
    "version": 3
   },
   "file_extension": ".py",
   "mimetype": "text/x-python",
   "name": "python",
   "nbconvert_exporter": "python",
   "pygments_lexer": "ipython3",
   "version": "3.6.3"
  }
 },
 "nbformat": 4,
 "nbformat_minor": 2
}
