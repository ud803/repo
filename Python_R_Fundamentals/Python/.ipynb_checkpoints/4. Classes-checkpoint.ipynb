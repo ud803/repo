{
 "cells": [
  {
   "cell_type": "markdown",
   "metadata": {},
   "source": [
    "## Python Scopes and Namespaces\n",
    "\n",
    "###### namespace\n",
    "\n",
    "네임스페이스는 오브젝트에 이름을 연결한 매핑관계이다."
   ]
  },
  {
   "cell_type": "code",
   "execution_count": 1,
   "metadata": {},
   "outputs": [
    {
     "name": "stdout",
     "output_type": "stream",
     "text": [
      "After local assignment: test spam\n",
      "After nonlocal assignment: nonlocal spam\n",
      "After global assignment: nonlocal spam\n",
      "In global scope: global spam\n"
     ]
    }
   ],
   "source": [
    "def scope_test():\n",
    "    def do_local():\n",
    "        spam = \"local spam\"\n",
    "\n",
    "    def do_nonlocal():\n",
    "        nonlocal spam\n",
    "        spam = \"nonlocal spam\"\n",
    "\n",
    "    def do_global():\n",
    "        global spam\n",
    "        spam = \"global spam\"\n",
    "\n",
    "    spam = \"test spam\"\n",
    "    do_local()\n",
    "    print(\"After local assignment:\", spam)\n",
    "    do_nonlocal()\n",
    "    print(\"After nonlocal assignment:\", spam)\n",
    "    do_global()\n",
    "    print(\"After global assignment:\", spam)\n",
    "\n",
    "scope_test()\n",
    "print(\"In global scope:\", spam)"
   ]
  },
  {
   "cell_type": "markdown",
   "metadata": {},
   "source": [
    "## Classes\n",
    "\n",
    "###### Class Objects\n",
    "\n",
    "클래스 오브젝트는 두 가지의 연산이 가능하다 : **특성 참조**와 **인스턴스화**.\n",
    "\n",
    "\n",
    "특성 참조(Attribute reference)는 파이썬의 표준 문법을 사용한다 : `obj.name`\n",
    "\n",
    "따라서 아래의 예제 클래스에서 사용 가능한 특성 참조는 `ClassName.i와 className.f` 이다.\n"
   ]
  },
  {
   "cell_type": "code",
   "execution_count": 3,
   "metadata": {
    "collapsed": true
   },
   "outputs": [],
   "source": [
    "# Definition\n",
    "class ClassName:\n",
    "    \"\"\"A simple example class\"\"\"\n",
    "    i = 12345\n",
    "    \n",
    "    def f(self):\n",
    "        return 'hello word'"
   ]
  },
  {
   "cell_type": "markdown",
   "metadata": {},
   "source": [
    "인스턴스 연산은 함수식을 사용한다.\n",
    "\n",
    "클래스 오브젝트를 클래스의 인스턴스를 반환하는 함수로서 바라보면 된다."
   ]
  },
  {
   "cell_type": "code",
   "execution_count": 5,
   "metadata": {},
   "outputs": [
    {
     "data": {
      "text/plain": [
       "12345"
      ]
     },
     "execution_count": 5,
     "metadata": {},
     "output_type": "execute_result"
    }
   ],
   "source": [
    "x = ClassName()\n",
    "x.i"
   ]
  },
  {
   "cell_type": "code",
   "execution_count": 8,
   "metadata": {
    "scrolled": true
   },
   "outputs": [
    {
     "data": {
      "text/plain": [
       "'hello word'"
      ]
     },
     "execution_count": 8,
     "metadata": {},
     "output_type": "execute_result"
    }
   ],
   "source": [
    "x.f()"
   ]
  },
  {
   "cell_type": "markdown",
   "metadata": {},
   "source": [
    "인스턴스화 작업에서 특별한 초기 상태를 지정해주고 싶을때, 다음과 같은 init 함수를 사용한다."
   ]
  },
  {
   "cell_type": "code",
   "execution_count": 9,
   "metadata": {},
   "outputs": [
    {
     "data": {
      "text/plain": [
       "(3.0, -4.5)"
      ]
     },
     "execution_count": 9,
     "metadata": {},
     "output_type": "execute_result"
    }
   ],
   "source": [
    "class Complex:\n",
    "    \"\"\"More complex class\"\"\"\n",
    "    def __init__(self, realpart, imagpart):\n",
    "        self.r = realpart\n",
    "        self.i = imagpart\n",
    "\n",
    "x = Complex(3.0, -4.5)\n",
    "x.r, x.i"
   ]
  },
  {
   "cell_type": "markdown",
   "metadata": {},
   "source": [
    "###### Instance Objects\n",
    "\n",
    "그럼 인스턴스 오브젝트로 무엇을 할 수 있을까? \n",
    "\n",
    "인스턴스 오브젝트가 갖는 특성 참조에는 두 가지 특성 이름들이 있다 : **data attributes and methods**\n",
    "\n",
    "**데이터 특성**은 \"인스턴스 변수\"와 같다. 이들은 선언될 필요가 없으며, 값이 할당될 때 자연스럽게 생겨난다. 아래 예제에서 x가 MyClass의 인스턴스일 때, 다음의 식이 가능하다."
   ]
  },
  {
   "cell_type": "code",
   "execution_count": 18,
   "metadata": {},
   "outputs": [
    {
     "name": "stdout",
     "output_type": "stream",
     "text": [
      "16\n"
     ]
    }
   ],
   "source": [
    "x = ClassName()\n",
    "x.counter = 1\n",
    "while x.counter <10:\n",
    "    x.counter = x.counter * 2\n",
    "print(x.counter)"
   ]
  },
  {
   "cell_type": "markdown",
   "metadata": {},
   "source": [
    "**메서드**는 오브젝트에 '속하는' 함수이다. ( 파이썬에서 메서드란 용어는 클래스 인스턴스에만 국한된 게 아니다. 리스트도 append, insert와 같은 메서드가 있다.)\n",
    "\n",
    "인스턴스 오브젝트의 메서드 이름은 클래스에 의존한다. 즉, 클래스의 모든 특성중에서 함수에 속하는 것들은 인스턴스의 메서드를 결정한다. \n",
    "\n",
    "위 예에서 `x.f`는 메서드이다. 왜냐하면 MyClass.f가 함수이기 때문이다. \n",
    "\n",
    "하지만 `x.f`는 `MyClass.f`와 같지 않다. - 이는 함수 오브젝트가 아닌 메서드 오브젝트이다."
   ]
  },
  {
   "cell_type": "markdown",
   "metadata": {},
   "source": [
    "###### Method Objects\n",
    "\n",
    "메서드 오브젝트를 호출했어도, 바로 사용하지 않고 나중에 다시 사용할 수 있다.\n",
    "\n",
    "아래 예제를 살펴보자."
   ]
  },
  {
   "cell_type": "code",
   "execution_count": 19,
   "metadata": {},
   "outputs": [
    {
     "name": "stdout",
     "output_type": "stream",
     "text": [
      "hello word\n",
      "hello word\n",
      "hello word\n",
      "hello word\n",
      "hello word\n"
     ]
    }
   ],
   "source": [
    "xf = x.f\n",
    "for i in range(5):\n",
    "    print(xf())"
   ]
  },
  {
   "cell_type": "markdown",
   "metadata": {},
   "source": [
    "그런데 위 MyClass를 보면 x.f 함수는 self라는 인자를 전달받아야 한다.\n",
    "<br>하지만 위 예제에서는 전달되지 않아도 오류가 나지 않았는데, 무슨 경우일까?\n",
    "\n",
    "메서드의 특별한 점은 인스턴스 오브젝트가 함수의 첫번째 인자로서 전달된다는 점이다.\n",
    "\n",
    "즉, x.f()는 MyClass.f(x)와도 같다.\n",
    "\n",
    "다시 말해서,\n",
    "\n",
    "인스턴스의 특성이 데이터 속성이 아닌 것에 참조를 받으면, 클래스를 탐색하게 된다."
   ]
  },
  {
   "cell_type": "markdown",
   "metadata": {},
   "source": [
    "###### Class and Instance Variables\n",
    "인스턴스 변수는 각 인스턴스에 고유한 데이터이고, 클래스 변수는 클래스의 모든 인스턴스가 공유하게 되는 특성이다."
   ]
  },
  {
   "cell_type": "code",
   "execution_count": 20,
   "metadata": {},
   "outputs": [
    {
     "name": "stdout",
     "output_type": "stream",
     "text": [
      "canine\n",
      "canine\n",
      "Fido\n",
      "Buddy\n"
     ]
    }
   ],
   "source": [
    "class Dog:\n",
    "    kind = 'canine'    # class variable\n",
    "    \n",
    "    def __init__(self, name):\n",
    "        self.name = name    # instance variable\n",
    "        \n",
    "d = Dog(\"Fido\")\n",
    "e = Dog(\"Buddy\")\n",
    "print(d.kind)\n",
    "print(e.kind)\n",
    "print(d.name)\n",
    "print(e.name)"
   ]
  },
  {
   "cell_type": "code",
   "execution_count": 23,
   "metadata": {},
   "outputs": [
    {
     "data": {
      "text/plain": [
       "['Roll over', 'Play dead']"
      ]
     },
     "execution_count": 23,
     "metadata": {},
     "output_type": "execute_result"
    }
   ],
   "source": [
    "class Dog2:\n",
    "    tricks = []    #mistaken use of a class variable\n",
    "    \n",
    "    def __init__(self, name):\n",
    "        self.name = name\n",
    "    \n",
    "    def add_trick(self, trick) :\n",
    "        self.tricks.append(trick)\n",
    "\n",
    "d = Dog2(\"Fido\")\n",
    "e = Dog2(\"Buddy\")\n",
    "d.add_trick(\"Roll over\")\n",
    "e.add_trick(\"Play dead\")\n",
    "d.tricks\n",
    "\n",
    "    # unexpected shared by all dogs \n",
    "    # tricks는 init의 안에 포함되어야 한다"
   ]
  }
 ],
 "metadata": {
  "kernelspec": {
   "display_name": "Python 3",
   "language": "python",
   "name": "python3"
  },
  "language_info": {
   "codemirror_mode": {
    "name": "ipython",
    "version": 3
   },
   "file_extension": ".py",
   "mimetype": "text/x-python",
   "name": "python",
   "nbconvert_exporter": "python",
   "pygments_lexer": "ipython3",
   "version": "3.6.3"
  }
 },
 "nbformat": 4,
 "nbformat_minor": 2
}
