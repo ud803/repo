{
 "cells": [
  {
   "cell_type": "markdown",
   "metadata": {},
   "source": [
    "# Object Oriented Definitions"
   ]
  },
  {
   "cell_type": "markdown",
   "metadata": {},
   "source": [
    "##### - Object Oriented\n",
    "- A program is made up of many cooperating objects\n",
    "- Instead of being the \"whole program\" - each object is a little 'island' within the program and cooperatively working with other objects\n",
    "- A program is made up of one or more objects working together - objects make use of each other's capabilities"
   ]
  },
  {
   "cell_type": "markdown",
   "metadata": {},
   "source": [
    "##### - Object\n",
    "- An object is **a bit of self-contained Code and Data**\n",
    "- A key aspect of the Object approach is to break the problem into smaller understandable parts (divide and conquer)\n",
    "- Objects have boundaries that allows us to ignore un-needed detail\n",
    "- We have been using objects all along : String Objects, Integer Objects, Dictionary Objects, List Objects..."
   ]
  },
  {
   "cell_type": "markdown",
   "metadata": {},
   "source": [
    "##### - Definitions\n",
    "- Class : a template\n",
    "- Method or Message : A defined capability of a class\n",
    "- Field or Attribute : A bit of data in a class\n",
    "- Object or Instance : A particular instance of a class"
   ]
  },
  {
   "cell_type": "code",
   "execution_count": 2,
   "metadata": {},
   "outputs": [
    {
     "name": "stdout",
     "output_type": "stream",
     "text": [
      "<class 'str'>\n"
     ]
    }
   ],
   "source": [
    "x = 'abc'\n",
    "print(type(x))"
   ]
  },
  {
   "cell_type": "code",
   "execution_count": 4,
   "metadata": {
    "scrolled": true
   },
   "outputs": [
    {
     "data": {
      "text/plain": [
       "['__add__',\n",
       " '__class__',\n",
       " '__contains__',\n",
       " '__delattr__',\n",
       " '__dir__',\n",
       " '__doc__',\n",
       " '__eq__',\n",
       " '__format__',\n",
       " '__ge__',\n",
       " '__getattribute__',\n",
       " '__getitem__',\n",
       " '__getnewargs__',\n",
       " '__gt__',\n",
       " '__hash__',\n",
       " '__init__',\n",
       " '__init_subclass__',\n",
       " '__iter__',\n",
       " '__le__',\n",
       " '__len__',\n",
       " '__lt__',\n",
       " '__mod__',\n",
       " '__mul__',\n",
       " '__ne__',\n",
       " '__new__',\n",
       " '__reduce__',\n",
       " '__reduce_ex__',\n",
       " '__repr__',\n",
       " '__rmod__',\n",
       " '__rmul__',\n",
       " '__setattr__',\n",
       " '__sizeof__',\n",
       " '__str__',\n",
       " '__subclasshook__',\n",
       " 'capitalize',\n",
       " 'casefold',\n",
       " 'center',\n",
       " 'count',\n",
       " 'encode',\n",
       " 'endswith',\n",
       " 'expandtabs',\n",
       " 'find',\n",
       " 'format',\n",
       " 'format_map',\n",
       " 'index',\n",
       " 'isalnum',\n",
       " 'isalpha',\n",
       " 'isdecimal',\n",
       " 'isdigit',\n",
       " 'isidentifier',\n",
       " 'islower',\n",
       " 'isnumeric',\n",
       " 'isprintable',\n",
       " 'isspace',\n",
       " 'istitle',\n",
       " 'isupper',\n",
       " 'join',\n",
       " 'ljust',\n",
       " 'lower',\n",
       " 'lstrip',\n",
       " 'maketrans',\n",
       " 'partition',\n",
       " 'replace',\n",
       " 'rfind',\n",
       " 'rindex',\n",
       " 'rjust',\n",
       " 'rpartition',\n",
       " 'rsplit',\n",
       " 'rstrip',\n",
       " 'split',\n",
       " 'splitlines',\n",
       " 'startswith',\n",
       " 'strip',\n",
       " 'swapcase',\n",
       " 'title',\n",
       " 'translate',\n",
       " 'upper',\n",
       " 'zfill']"
      ]
     },
     "execution_count": 4,
     "metadata": {},
     "output_type": "execute_result"
    }
   ],
   "source": [
    "# methods\n",
    "dir(x)"
   ]
  },
  {
   "cell_type": "markdown",
   "metadata": {},
   "source": [
    "### 1. First Class and Objects"
   ]
  },
  {
   "cell_type": "code",
   "execution_count": 16,
   "metadata": {
    "scrolled": true
   },
   "outputs": [
    {
     "name": "stdout",
     "output_type": "stream",
     "text": [
      "So far 1\n",
      "So far 2\n"
     ]
    },
    {
     "data": {
      "text/plain": [
       "2"
      ]
     },
     "execution_count": 16,
     "metadata": {},
     "output_type": "execute_result"
    }
   ],
   "source": [
    "class PartyAnimal :\n",
    "    x = 0\n",
    "    \n",
    "    def party(self) :\n",
    "        self.x = self.x + 1\n",
    "        print(\"So far\", self.x)\n",
    "    \n",
    "an = PartyAnimal()\n",
    "\n",
    "an.party()\n",
    "an.party()\n",
    "an.x"
   ]
  },
  {
   "cell_type": "code",
   "execution_count": 20,
   "metadata": {
    "scrolled": true
   },
   "outputs": [
    {
     "name": "stdout",
     "output_type": "stream",
     "text": [
      "Type <class '__main__.PartyAnimal'>\n",
      "Dir ['__class__', '__delattr__', '__dict__', '__dir__', '__doc__', '__eq__', '__format__', '__ge__', '__getattribute__', '__gt__', '__hash__', '__init__', '__init_subclass__', '__le__', '__lt__', '__module__', '__ne__', '__new__', '__reduce__', '__reduce_ex__', '__repr__', '__setattr__', '__sizeof__', '__str__', '__subclasshook__', '__weakref__', 'party', 'x']\n"
     ]
    }
   ],
   "source": [
    "print(\"Type\", type(an))\n",
    "print(\"Dir\", dir(an))"
   ]
  },
  {
   "cell_type": "markdown",
   "metadata": {},
   "source": [
    "### 2. Object Lifecycle\n",
    "- Objects are created, used and discarded\n",
    "- We have special blocks of code that get called\n",
    "    - At the moment of creation (constructor)\n",
    "    - At the moment of destruction (destructor)\n",
    "- Constructors are used a lot\n",
    "- Destructors are seldom used"
   ]
  },
  {
   "cell_type": "markdown",
   "metadata": {},
   "source": [
    "##### - Constructor\n",
    "The primary purpose of the constructor is to set up more instance variables to have the proper initial values when the object is created.\n",
    "<br>\n",
    "The constructor and destructor are optional. The constructor is typically used to set up variables. <br> The destructor is seldom used."
   ]
  },
  {
   "cell_type": "code",
   "execution_count": 26,
   "metadata": {},
   "outputs": [
    {
     "name": "stdout",
     "output_type": "stream",
     "text": [
      "I am constructed\n",
      "So far 1\n",
      "So far 2\n",
      "I am destructed 2\n",
      "an contains 42\n"
     ]
    }
   ],
   "source": [
    "class PartyAnimal() :\n",
    "    x = 0\n",
    "    \n",
    "    def __init__(self) :\n",
    "        print(\"I am constructed\")\n",
    "        \n",
    "    def party(self) :\n",
    "        self.x = self.x + 1\n",
    "        print(\"So far\", self.x)\n",
    "    \n",
    "    def __del__(self) :\n",
    "        print(\"I am destructed\", self.x)\n",
    "\n",
    "        \n",
    "an = PartyAnimal()\n",
    "an.party()\n",
    "an.party()\n",
    "an = 42\n",
    "print('an contains', an)"
   ]
  },
  {
   "cell_type": "code",
   "execution_count": 29,
   "metadata": {
    "scrolled": true
   },
   "outputs": [
    {
     "name": "stdout",
     "output_type": "stream",
     "text": [
      "Sally constructed\n",
      "Sally party count 1\n",
      "Jim constructed\n",
      "Jim party count 1\n",
      "Sally party count 2\n"
     ]
    }
   ],
   "source": [
    "# Constructors can have additional parameters.\n",
    "# These can be used to set up instance variables \n",
    "# for the particular instance of the class.\n",
    "\n",
    "\n",
    "class PartyAnimal() :\n",
    "    x = 0\n",
    "    name = \"\"\n",
    "    \n",
    "    def __init__(self, z) :\n",
    "        self.name = z\n",
    "        print(self.name, \"constructed\")\n",
    "        \n",
    "    def party(self) :\n",
    "        self.x = self.x + 1\n",
    "        print(self.name, \"party count\", self.x)\n",
    "    \n",
    "    def __del__(self) :\n",
    "        print(self.name, \"I am destructed\", self.x)\n",
    "\n",
    "s = PartyAnimal(\"Sally\")\n",
    "s.party()\n",
    "\n",
    "j = PartyAnimal(\"Jim\")\n",
    "j.party()\n",
    "s.party()\n",
    "\n",
    "# We have two independent instances."
   ]
  },
  {
   "cell_type": "markdown",
   "metadata": {},
   "source": [
    "### 3. Object Inheritance\n",
    "- When we make a new class - we can reuse an existing class and inherit all the capabilities of an existing class and then add our own little bit to make our new class\n",
    "- Another form of store and reuse\n",
    "- Write once - reuse many times\n",
    "- The new class (child) has all the capabilities of the old class (parent) - and then some more"
   ]
  },
  {
   "cell_type": "markdown",
   "metadata": {},
   "source": [
    "**Subclasses** are more specialized vesion of a class, which inherit attributes and behaviros from their parent classes, and can introduce their own."
   ]
  },
  {
   "cell_type": "code",
   "execution_count": 37,
   "metadata": {},
   "outputs": [
    {
     "name": "stdout",
     "output_type": "stream",
     "text": [
      "Sally constructed\n",
      "Sally I am destructed 1\n",
      "Sally party count 1\n",
      "Jim constructed\n",
      "Jim I am destructed 2\n",
      "Jim party count 1\n",
      "Jim party count 2\n",
      "Jim points 7\n"
     ]
    }
   ],
   "source": [
    "# FootballFan is a class which extends partyAnimal\n",
    "# It has all the capabilities of PartyAnimal and more.\n",
    "\n",
    "class PartyAnimal2() :\n",
    "    x = 0\n",
    "    name = \"\"\n",
    "    \n",
    "    def __init__(self, z) :\n",
    "        self.name = z\n",
    "        print(self.name, \"constructed\")\n",
    "        \n",
    "    def party(self) :\n",
    "        self.x = self.x + 1\n",
    "        print(self.name, \"party count\", self.x)\n",
    "\n",
    "    def __del__(self) :\n",
    "        print(self.name, \"I am destructed\", self.x)\n",
    "        \n",
    "class FootballFan(PartyAnimal2) :\n",
    "    points = 0\n",
    "\n",
    "    def touchdown(self) :\n",
    "        self.points = self.points + 7\n",
    "        self.party()\n",
    "        print(self.name, \"points\", self.points)\n",
    "\n",
    "s = PartyAnimal2(\"Sally\")\n",
    "s.party()\n",
    "\n",
    "j = FootballFan(\"Jim\")\n",
    "j.party()\n",
    "j.touchdown()"
   ]
  }
 ],
 "metadata": {
  "kernelspec": {
   "display_name": "Python 3",
   "language": "python",
   "name": "python3"
  },
  "language_info": {
   "codemirror_mode": {
    "name": "ipython",
    "version": 3
   },
   "file_extension": ".py",
   "mimetype": "text/x-python",
   "name": "python",
   "nbconvert_exporter": "python",
   "pygments_lexer": "ipython3",
   "version": "3.6.3"
  }
 },
 "nbformat": 4,
 "nbformat_minor": 2
}
