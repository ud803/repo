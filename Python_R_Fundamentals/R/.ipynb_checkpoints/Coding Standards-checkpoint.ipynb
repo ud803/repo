{
 "cells": [
  {
   "cell_type": "markdown",
   "metadata": {},
   "source": [
    "1. 항상 텍스트 에디터 / 텍스트 포맷을 사용하라.\n",
    "2. 들여쓰기를 하라\n",
    "    - 4칸 띄어쓰기 (최소), 8칸 (이상적)\n",
    "3. 코드의 폭을 적당하게(80자) 끊어라\n",
    "4. 함수를 너무 길게 만들지 말"
   ]
  }
 ],
 "metadata": {
  "kernelspec": {
   "display_name": "R",
   "language": "R",
   "name": "ir"
  },
  "language_info": {
   "codemirror_mode": "r",
   "file_extension": ".r",
   "mimetype": "text/x-r-source",
   "name": "R",
   "pygments_lexer": "r",
   "version": "3.4.2"
  }
 },
 "nbformat": 4,
 "nbformat_minor": 2
}
