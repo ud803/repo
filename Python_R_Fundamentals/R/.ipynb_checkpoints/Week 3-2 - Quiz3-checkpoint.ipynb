{
 "cells": [
  {
   "cell_type": "markdown",
   "metadata": {},
   "source": [
    "# Quiz 3"
   ]
  },
  {
   "cell_type": "markdown",
   "metadata": {},
   "source": [
    "### Q1. 'iris' 데이터셋에서 virginica의 Sepal.Length의 평균을 구하시오"
   ]
  },
  {
   "cell_type": "code",
   "execution_count": 2,
   "metadata": {
    "scrolled": true
   },
   "outputs": [
    {
     "data": {
      "text/html": [
       "<table>\n",
       "<thead><tr><th scope=col>Sepal.Length</th><th scope=col>Sepal.Width</th><th scope=col>Petal.Length</th><th scope=col>Petal.Width</th><th scope=col>Species</th></tr></thead>\n",
       "<tbody>\n",
       "\t<tr><td>5.1   </td><td>3.5   </td><td>1.4   </td><td>0.2   </td><td>setosa</td></tr>\n",
       "\t<tr><td>4.9   </td><td>3.0   </td><td>1.4   </td><td>0.2   </td><td>setosa</td></tr>\n",
       "\t<tr><td>4.7   </td><td>3.2   </td><td>1.3   </td><td>0.2   </td><td>setosa</td></tr>\n",
       "\t<tr><td>4.6   </td><td>3.1   </td><td>1.5   </td><td>0.2   </td><td>setosa</td></tr>\n",
       "\t<tr><td>5.0   </td><td>3.6   </td><td>1.4   </td><td>0.2   </td><td>setosa</td></tr>\n",
       "\t<tr><td>5.4   </td><td>3.9   </td><td>1.7   </td><td>0.4   </td><td>setosa</td></tr>\n",
       "</tbody>\n",
       "</table>\n"
      ],
      "text/latex": [
       "\\begin{tabular}{r|lllll}\n",
       " Sepal.Length & Sepal.Width & Petal.Length & Petal.Width & Species\\\\\n",
       "\\hline\n",
       "\t 5.1    & 3.5    & 1.4    & 0.2    & setosa\\\\\n",
       "\t 4.9    & 3.0    & 1.4    & 0.2    & setosa\\\\\n",
       "\t 4.7    & 3.2    & 1.3    & 0.2    & setosa\\\\\n",
       "\t 4.6    & 3.1    & 1.5    & 0.2    & setosa\\\\\n",
       "\t 5.0    & 3.6    & 1.4    & 0.2    & setosa\\\\\n",
       "\t 5.4    & 3.9    & 1.7    & 0.4    & setosa\\\\\n",
       "\\end{tabular}\n"
      ],
      "text/markdown": [
       "\n",
       "Sepal.Length | Sepal.Width | Petal.Length | Petal.Width | Species | \n",
       "|---|---|---|---|---|---|\n",
       "| 5.1    | 3.5    | 1.4    | 0.2    | setosa | \n",
       "| 4.9    | 3.0    | 1.4    | 0.2    | setosa | \n",
       "| 4.7    | 3.2    | 1.3    | 0.2    | setosa | \n",
       "| 4.6    | 3.1    | 1.5    | 0.2    | setosa | \n",
       "| 5.0    | 3.6    | 1.4    | 0.2    | setosa | \n",
       "| 5.4    | 3.9    | 1.7    | 0.4    | setosa | \n",
       "\n",
       "\n"
      ],
      "text/plain": [
       "  Sepal.Length Sepal.Width Petal.Length Petal.Width Species\n",
       "1 5.1          3.5         1.4          0.2         setosa \n",
       "2 4.9          3.0         1.4          0.2         setosa \n",
       "3 4.7          3.2         1.3          0.2         setosa \n",
       "4 4.6          3.1         1.5          0.2         setosa \n",
       "5 5.0          3.6         1.4          0.2         setosa \n",
       "6 5.4          3.9         1.7          0.4         setosa "
      ]
     },
     "metadata": {},
     "output_type": "display_data"
    }
   ],
   "source": [
    "library(datasets)\n",
    "head(iris)"
   ]
  },
  {
   "cell_type": "code",
   "execution_count": 40,
   "metadata": {},
   "outputs": [
    {
     "data": {
      "text/html": [
       "<strong>Sepal.Length:</strong> 6.588"
      ],
      "text/latex": [
       "\\textbf{Sepal.Length:} 6.588"
      ],
      "text/markdown": [
       "**Sepal.Length:** 6.588"
      ],
      "text/plain": [
       "Sepal.Length \n",
       "       6.588 "
      ]
     },
     "metadata": {},
     "output_type": "display_data"
    }
   ],
   "source": [
    "colMeans(iris[iris$Species == \"virginica\", ][1])"
   ]
  },
  {
   "cell_type": "markdown",
   "metadata": {},
   "source": [
    "### Q2. 각 열의 평균을 벡터로서 반환하는 함수를 쓰시오"
   ]
  },
  {
   "cell_type": "code",
   "execution_count": 43,
   "metadata": {},
   "outputs": [
    {
     "data": {
      "text/html": [
       "<dl class=dl-horizontal>\n",
       "\t<dt>Sepal.Length</dt>\n",
       "\t\t<dd>5.84333333333333</dd>\n",
       "\t<dt>Sepal.Width</dt>\n",
       "\t\t<dd>3.05733333333333</dd>\n",
       "\t<dt>Petal.Length</dt>\n",
       "\t\t<dd>3.758</dd>\n",
       "\t<dt>Petal.Width</dt>\n",
       "\t\t<dd>1.19933333333333</dd>\n",
       "</dl>\n"
      ],
      "text/latex": [
       "\\begin{description*}\n",
       "\\item[Sepal.Length] 5.84333333333333\n",
       "\\item[Sepal.Width] 3.05733333333333\n",
       "\\item[Petal.Length] 3.758\n",
       "\\item[Petal.Width] 1.19933333333333\n",
       "\\end{description*}\n"
      ],
      "text/markdown": [
       "Sepal.Length\n",
       ":   5.84333333333333Sepal.Width\n",
       ":   3.05733333333333Petal.Length\n",
       ":   3.758Petal.Width\n",
       ":   1.19933333333333\n",
       "\n"
      ],
      "text/plain": [
       "Sepal.Length  Sepal.Width Petal.Length  Petal.Width \n",
       "    5.843333     3.057333     3.758000     1.199333 "
      ]
     },
     "metadata": {},
     "output_type": "display_data"
    }
   ],
   "source": [
    "apply(iris[, 1:4], 2, mean)"
   ]
  },
  {
   "cell_type": "markdown",
   "metadata": {},
   "source": [
    "### Q3. 'mtcars' 데이터셋에서 실린더 개수에 따른 average mile per gallon (mpg)를 구하는 함수를 쓰시오"
   ]
  },
  {
   "cell_type": "code",
   "execution_count": 24,
   "metadata": {},
   "outputs": [
    {
     "data": {
      "text/html": [
       "<table>\n",
       "<thead><tr><th></th><th scope=col>mpg</th><th scope=col>cyl</th><th scope=col>disp</th><th scope=col>hp</th><th scope=col>drat</th><th scope=col>wt</th><th scope=col>qsec</th><th scope=col>vs</th><th scope=col>am</th><th scope=col>gear</th><th scope=col>carb</th></tr></thead>\n",
       "<tbody>\n",
       "\t<tr><th scope=row>Mazda RX4</th><td>21.0 </td><td>6    </td><td>160  </td><td>110  </td><td>3.90 </td><td>2.620</td><td>16.46</td><td>0    </td><td>1    </td><td>4    </td><td>4    </td></tr>\n",
       "\t<tr><th scope=row>Mazda RX4 Wag</th><td>21.0 </td><td>6    </td><td>160  </td><td>110  </td><td>3.90 </td><td>2.875</td><td>17.02</td><td>0    </td><td>1    </td><td>4    </td><td>4    </td></tr>\n",
       "\t<tr><th scope=row>Datsun 710</th><td>22.8 </td><td>4    </td><td>108  </td><td> 93  </td><td>3.85 </td><td>2.320</td><td>18.61</td><td>1    </td><td>1    </td><td>4    </td><td>1    </td></tr>\n",
       "\t<tr><th scope=row>Hornet 4 Drive</th><td>21.4 </td><td>6    </td><td>258  </td><td>110  </td><td>3.08 </td><td>3.215</td><td>19.44</td><td>1    </td><td>0    </td><td>3    </td><td>1    </td></tr>\n",
       "\t<tr><th scope=row>Hornet Sportabout</th><td>18.7 </td><td>8    </td><td>360  </td><td>175  </td><td>3.15 </td><td>3.440</td><td>17.02</td><td>0    </td><td>0    </td><td>3    </td><td>2    </td></tr>\n",
       "\t<tr><th scope=row>Valiant</th><td>18.1 </td><td>6    </td><td>225  </td><td>105  </td><td>2.76 </td><td>3.460</td><td>20.22</td><td>1    </td><td>0    </td><td>3    </td><td>1    </td></tr>\n",
       "</tbody>\n",
       "</table>\n"
      ],
      "text/latex": [
       "\\begin{tabular}{r|lllllllllll}\n",
       "  & mpg & cyl & disp & hp & drat & wt & qsec & vs & am & gear & carb\\\\\n",
       "\\hline\n",
       "\tMazda RX4 & 21.0  & 6     & 160   & 110   & 3.90  & 2.620 & 16.46 & 0     & 1     & 4     & 4    \\\\\n",
       "\tMazda RX4 Wag & 21.0  & 6     & 160   & 110   & 3.90  & 2.875 & 17.02 & 0     & 1     & 4     & 4    \\\\\n",
       "\tDatsun 710 & 22.8  & 4     & 108   &  93   & 3.85  & 2.320 & 18.61 & 1     & 1     & 4     & 1    \\\\\n",
       "\tHornet 4 Drive & 21.4  & 6     & 258   & 110   & 3.08  & 3.215 & 19.44 & 1     & 0     & 3     & 1    \\\\\n",
       "\tHornet Sportabout & 18.7  & 8     & 360   & 175   & 3.15  & 3.440 & 17.02 & 0     & 0     & 3     & 2    \\\\\n",
       "\tValiant & 18.1  & 6     & 225   & 105   & 2.76  & 3.460 & 20.22 & 1     & 0     & 3     & 1    \\\\\n",
       "\\end{tabular}\n"
      ],
      "text/markdown": [
       "\n",
       "| <!--/--> | mpg | cyl | disp | hp | drat | wt | qsec | vs | am | gear | carb | \n",
       "|---|---|---|---|---|---|\n",
       "| Mazda RX4 | 21.0  | 6     | 160   | 110   | 3.90  | 2.620 | 16.46 | 0     | 1     | 4     | 4     | \n",
       "| Mazda RX4 Wag | 21.0  | 6     | 160   | 110   | 3.90  | 2.875 | 17.02 | 0     | 1     | 4     | 4     | \n",
       "| Datsun 710 | 22.8  | 4     | 108   |  93   | 3.85  | 2.320 | 18.61 | 1     | 1     | 4     | 1     | \n",
       "| Hornet 4 Drive | 21.4  | 6     | 258   | 110   | 3.08  | 3.215 | 19.44 | 1     | 0     | 3     | 1     | \n",
       "| Hornet Sportabout | 18.7  | 8     | 360   | 175   | 3.15  | 3.440 | 17.02 | 0     | 0     | 3     | 2     | \n",
       "| Valiant | 18.1  | 6     | 225   | 105   | 2.76  | 3.460 | 20.22 | 1     | 0     | 3     | 1     | \n",
       "\n",
       "\n"
      ],
      "text/plain": [
       "                  mpg  cyl disp hp  drat wt    qsec  vs am gear carb\n",
       "Mazda RX4         21.0 6   160  110 3.90 2.620 16.46 0  1  4    4   \n",
       "Mazda RX4 Wag     21.0 6   160  110 3.90 2.875 17.02 0  1  4    4   \n",
       "Datsun 710        22.8 4   108   93 3.85 2.320 18.61 1  1  4    1   \n",
       "Hornet 4 Drive    21.4 6   258  110 3.08 3.215 19.44 1  0  3    1   \n",
       "Hornet Sportabout 18.7 8   360  175 3.15 3.440 17.02 0  0  3    2   \n",
       "Valiant           18.1 6   225  105 2.76 3.460 20.22 1  0  3    1   "
      ]
     },
     "metadata": {},
     "output_type": "display_data"
    }
   ],
   "source": [
    "head(mtcars)"
   ]
  },
  {
   "cell_type": "code",
   "execution_count": 28,
   "metadata": {
    "scrolled": true
   },
   "outputs": [
    {
     "name": "stderr",
     "output_type": "stream",
     "text": [
      "ERROR while rich displaying an object: Error in dn[[2L]]: 첨자의 허용 범위를 벗어났습니다\n",
      "\n",
      "Traceback:\n",
      "1. FUN(X[[i]], ...)\n",
      "2. tryCatch(withCallingHandlers({\n",
      " .     rpr <- mime2repr[[mime]](obj)\n",
      " .     if (is.null(rpr)) \n",
      " .         return(NULL)\n",
      " .     prepare_content(is.raw(rpr), rpr)\n",
      " . }, error = error_handler), error = outer_handler)\n",
      "3. tryCatchList(expr, classes, parentenv, handlers)\n",
      "4. tryCatchOne(expr, names, parentenv, handlers[[1L]])\n",
      "5. doTryCatch(return(expr), name, parentenv, handler)\n",
      "6. withCallingHandlers({\n",
      " .     rpr <- mime2repr[[mime]](obj)\n",
      " .     if (is.null(rpr)) \n",
      " .         return(NULL)\n",
      " .     prepare_content(is.raw(rpr), rpr)\n",
      " . }, error = error_handler)\n",
      "7. mime2repr[[mime]](obj)\n",
      "8. repr_markdown.numeric(obj)\n",
      "9. repr_vector_generic(html_escape_names(obj), \"%s. %s\\n\", \"%s\\n:   %s\", \n",
      " .     \"**%s:** %s\", \"%s\\n\\n\", item_uses_numbers = TRUE, escape_fun = html_escape)\n",
      "10. html_escape_names(obj)\n",
      "11. .escape_names(obj, \"html\")\n",
      "12. colnames(obj)\n",
      "ERROR while rich displaying an object: Error in dn[[2L]]: 첨자의 허용 범위를 벗어났습니다\n",
      "\n",
      "Traceback:\n",
      "1. FUN(X[[i]], ...)\n",
      "2. tryCatch(withCallingHandlers({\n",
      " .     rpr <- mime2repr[[mime]](obj)\n",
      " .     if (is.null(rpr)) \n",
      " .         return(NULL)\n",
      " .     prepare_content(is.raw(rpr), rpr)\n",
      " . }, error = error_handler), error = outer_handler)\n",
      "3. tryCatchList(expr, classes, parentenv, handlers)\n",
      "4. tryCatchOne(expr, names, parentenv, handlers[[1L]])\n",
      "5. doTryCatch(return(expr), name, parentenv, handler)\n",
      "6. withCallingHandlers({\n",
      " .     rpr <- mime2repr[[mime]](obj)\n",
      " .     if (is.null(rpr)) \n",
      " .         return(NULL)\n",
      " .     prepare_content(is.raw(rpr), rpr)\n",
      " . }, error = error_handler)\n",
      "7. mime2repr[[mime]](obj)\n",
      "8. repr_latex.numeric(obj)\n",
      "9. repr_vector_generic(latex_escape_names(obj), \"\\\\item %s\\n\", \"\\\\item[%s] %s\\n\", \n",
      " .     \"\\\\textbf{%s:} %s\", enum_wrap = \"\\\\begin{enumerate*}\\n%s\\\\end{enumerate*}\\n\", \n",
      " .     named_wrap = \"\\\\begin{description*}\\n%s\\\\end{description*}\\n\", \n",
      " .     only_named_item = \"\\\\textbf{%s:} %s\", escape_fun = latex_escape)\n",
      "10. latex_escape_names(obj)\n",
      "11. .escape_names(obj, \"latex\")\n",
      "12. colnames(obj)\n"
     ]
    },
    {
     "data": {
      "text/html": [
       "<dl class=dl-horizontal>\n",
       "\t<dt>4</dt>\n",
       "\t\t<dd>26.6636363636364</dd>\n",
       "\t<dt>6</dt>\n",
       "\t\t<dd>19.7428571428571</dd>\n",
       "\t<dt>8</dt>\n",
       "\t\t<dd>15.1</dd>\n",
       "</dl>\n"
      ],
      "text/plain": [
       "       4        6        8 \n",
       "26.66364 19.74286 15.10000 "
      ]
     },
     "metadata": {},
     "output_type": "display_data"
    }
   ],
   "source": [
    "tapply(mtcars$mpg, mtcars$cyl, mean)"
   ]
  },
  {
   "cell_type": "code",
   "execution_count": 29,
   "metadata": {
    "scrolled": true
   },
   "outputs": [
    {
     "data": {
      "text/html": [
       "<dl class=dl-horizontal>\n",
       "\t<dt>4</dt>\n",
       "\t\t<dd>26.6636363636364</dd>\n",
       "\t<dt>6</dt>\n",
       "\t\t<dd>19.7428571428571</dd>\n",
       "\t<dt>8</dt>\n",
       "\t\t<dd>15.1</dd>\n",
       "</dl>\n"
      ],
      "text/latex": [
       "\\begin{description*}\n",
       "\\item[4] 26.6636363636364\n",
       "\\item[6] 19.7428571428571\n",
       "\\item[8] 15.1\n",
       "\\end{description*}\n"
      ],
      "text/markdown": [
       "4\n",
       ":   26.66363636363646\n",
       ":   19.74285714285718\n",
       ":   15.1\n",
       "\n"
      ],
      "text/plain": [
       "       4        6        8 \n",
       "26.66364 19.74286 15.10000 "
      ]
     },
     "metadata": {},
     "output_type": "display_data"
    }
   ],
   "source": [
    "sapply(split(mtcars$mpg, mtcars$cyl), mean)"
   ]
  },
  {
   "cell_type": "markdown",
   "metadata": {},
   "source": [
    "### Q4. 4-cyl과 8-cyl 차량의 평균 horsepower의 차의 절대값은 얼마인지 구하시오"
   ]
  },
  {
   "cell_type": "code",
   "execution_count": 32,
   "metadata": {},
   "outputs": [
    {
     "data": {
      "text/html": [
       "<dl class=dl-horizontal>\n",
       "\t<dt>4</dt>\n",
       "\t\t<dd>82.6363636363636</dd>\n",
       "\t<dt>6</dt>\n",
       "\t\t<dd>122.285714285714</dd>\n",
       "\t<dt>8</dt>\n",
       "\t\t<dd>209.214285714286</dd>\n",
       "</dl>\n"
      ],
      "text/latex": [
       "\\begin{description*}\n",
       "\\item[4] 82.6363636363636\n",
       "\\item[6] 122.285714285714\n",
       "\\item[8] 209.214285714286\n",
       "\\end{description*}\n"
      ],
      "text/markdown": [
       "4\n",
       ":   82.63636363636366\n",
       ":   122.2857142857148\n",
       ":   209.214285714286\n",
       "\n"
      ],
      "text/plain": [
       "        4         6         8 \n",
       " 82.63636 122.28571 209.21429 "
      ]
     },
     "metadata": {},
     "output_type": "display_data"
    }
   ],
   "source": [
    "answer = sapply(split(mtcars$hp, mtcars$cyl), mean)\n",
    "answer"
   ]
  },
  {
   "cell_type": "code",
   "execution_count": 33,
   "metadata": {},
   "outputs": [
    {
     "data": {
      "text/html": [
       "<strong>4:</strong> 126.577922077922"
      ],
      "text/latex": [
       "\\textbf{4:} 126.577922077922"
      ],
      "text/markdown": [
       "**4:** 126.577922077922"
      ],
      "text/plain": [
       "       4 \n",
       "126.5779 "
      ]
     },
     "metadata": {},
     "output_type": "display_data"
    }
   ],
   "source": [
    "abs(answer[1] - answer[3])"
   ]
  },
  {
   "cell_type": "markdown",
   "metadata": {},
   "source": [
    "# Exercise 2"
   ]
  }
 ],
 "metadata": {
  "kernelspec": {
   "display_name": "R",
   "language": "R",
   "name": "ir"
  },
  "language_info": {
   "codemirror_mode": "r",
   "file_extension": ".r",
   "mimetype": "text/x-r-source",
   "name": "R",
   "pygments_lexer": "r",
   "version": "3.4.3"
  }
 },
 "nbformat": 4,
 "nbformat_minor": 2
}
