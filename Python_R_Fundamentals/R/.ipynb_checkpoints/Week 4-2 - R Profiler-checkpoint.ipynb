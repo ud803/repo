{
 "cells": [
  {
   "cell_type": "markdown",
   "metadata": {},
   "source": [
    "# R Profiler\n",
    "\n",
    "왜 내 코드는 실행만하면 이렇게 느린 걸까?\n",
    "- 프로파일링은 프로그램의 각 부분에서 얼마나 시간이 걸렸는지를 측정하는 방법이다\n",
    "- 코드를 최적화할 때 유용하다\n",
    "- 코드를 한 두번 돌릴 때는 빠르지만, 만약 1000번, 100000번 반복 한다면 어떻게 할 것인가?\n",
    "- 프로파일링은 추측하는 것보다 훨씬 낫다\n",
    "\n",
    "#### 최적화의 일반적인 원칙들\n",
    "1. 먼저 설계하고, 나중에 최적화하라\n",
    "2. 너무 이른 최적화는 모든 악의 근원이다\n",
    "3. 직접 측정해라. 추측하지 말라\n",
    "\n",
    "\n",
    "## 1. `system.time()`\n",
    "`system.time()`은 임의의 R 표현식을 입력으로 받아들여서 걸리는 시간을 계산한다.\n",
    "\n",
    "만약 오류가 발생한다면, 오류가 발생한 시간을 알려준다.\n",
    "\n",
    "결과값으로 `proc_time` 클래스의 오브젝트를 반환한다.\n",
    "- `user time` : 이 작업을 수행하는데 CPU(s)가 걸린 시간(컴퓨터가 겪는 시간)\n",
    "- `elapsed time` : 사용자가 느끼는 시간\n",
    "\n",
    "이 두 개념이 헷갈리는데, 간단히 정리하면 다음과 같다.\n",
    "- 사용자 시간과 경과된 시간은 유사하다\n",
    "- 만약 CPU가 대기하는 데 시간을 많이 쓴다면 elapsed가 user보다 클 것이다\n",
    "- 만약 멀티 코어/프로세서를 사용한다면 elapsed는 user보다 작을 수 있다\n",
    "    - 예) 멀티스레드 BLAS 라이브러리\n",
    "    - 병렬 패키지를 활용한 병렬 프로세싱(parallel processing)"
   ]
  },
  {
   "cell_type": "code",
   "execution_count": 4,
   "metadata": {},
   "outputs": [
    {
     "data": {
      "text/plain": [
       "   user  system elapsed \n",
       "  0.055   0.000   2.600 "
      ]
     },
     "metadata": {},
     "output_type": "display_data"
    }
   ],
   "source": [
    "## Elapsed time > user time\n",
    "system.time(readLines(\"http://www.jhsph.edu\"))"
   ]
  },
  {
   "cell_type": "code",
   "execution_count": 7,
   "metadata": {},
   "outputs": [
    {
     "data": {
      "text/plain": [
       "   user  system elapsed \n",
       " 30.846   0.088  31.026 "
      ]
     },
     "metadata": {},
     "output_type": "display_data"
    }
   ],
   "source": [
    "## Elapsed time < user time\n",
    "## 내 컴퓨터에서는 여전히 elapsed가 크다고 나옴..\n",
    "hilbert <- function(n) {\n",
    "    i <- 1:n\n",
    "    1 / outer(i - 1, i, \"+\")\n",
    "}\n",
    "\n",
    "x <- hilbert(2000)\n",
    "system.time(svd(x))"
   ]
  },
  {
   "cell_type": "code",
   "execution_count": 8,
   "metadata": {},
   "outputs": [
    {
     "data": {
      "text/plain": [
       "   user  system elapsed \n",
       "  0.086   0.000   0.087 "
      ]
     },
     "metadata": {},
     "output_type": "display_data"
    }
   ],
   "source": [
    "# Timing Longer Expressions\n",
    "system.time({\n",
    "    n <- 1000\n",
    "    r <- numeric(n)\n",
    "    for (i in 1:n) {\n",
    "        x <- rnorm(n)\n",
    "        r[i] <- mean(x)\n",
    "    }\n",
    "})"
   ]
  },
  {
   "cell_type": "markdown",
   "metadata": {},
   "source": [
    "`system.time()`은 코드 블럭이나 특정 함수 실행에 소요되는 시간을 측정할 수 있게 해준다.\n",
    "\n",
    "하지만 문제가 발생한 지점이 어디인지 모른다면 어떻게 할 것인가?\n",
    "\n",
    "## 2. `Rprof()`\n",
    "\n",
    "`Rprof` 함수는 R의 프로파일러를 작동시킨다.\n",
    "`summaryRprof()` 함수는 그 결과값을 요약해준다. \n",
    "\n",
    "#### 절대 `system.time()`과 `Rprof()`를 함께 사용하지 말 것!!\n",
    "\n",
    "- `Rprof` 함수는 함수가 호출될 때마다 그 기록을 남긴다. (샘플 인터벌 : 0.02초)\n",
    "- 코드가 빠르게 작동한다면, 프로파일링은 별 소용이 없다.\n",
    "\n",
    "\n",
    "![title](./Materials/RProfiler.png)\n"
   ]
  },
  {
   "cell_type": "markdown",
   "metadata": {},
   "source": [
    "**`summaryRprof()`** 함수는 R 프로파일러의 결과를 보여준다.\n",
    "- `by.total`은 각 함수에서 사용된 시간을 전체 시간으로 나눈다\n",
    "- `by.self`는 먼저 콜 스택에서 사용된 시간을 빼고 같은 작업을 한다"
   ]
  },
  {
   "cell_type": "markdown",
   "metadata": {},
   "source": [
    "![title](./Materials/Bytotal.png)"
   ]
  },
  {
   "cell_type": "code",
   "execution_count": 14,
   "metadata": {},
   "outputs": [],
   "source": [
    "?Rprof"
   ]
  }
 ],
 "metadata": {
  "kernelspec": {
   "display_name": "R",
   "language": "R",
   "name": "ir"
  },
  "language_info": {
   "codemirror_mode": "r",
   "file_extension": ".r",
   "mimetype": "text/x-r-source",
   "name": "R",
   "pygments_lexer": "r",
   "version": "3.4.3"
  }
 },
 "nbformat": 4,
 "nbformat_minor": 2
}
