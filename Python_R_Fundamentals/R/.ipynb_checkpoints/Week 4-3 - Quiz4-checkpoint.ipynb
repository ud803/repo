{
 "cells": [
  {
   "cell_type": "markdown",
   "metadata": {},
   "source": [
    "# Exercise\n",
    "\n",
    "주어진 문제를 읽고 아래에 답하세요.\n",
    "\n",
    "우리가 사용할 'hospital-data.csv' 파일은 병원을 비교하는 웹사이트이며, 미국 보건 당국이 관리하는 데이터이다. 이 데이터는 다양하게 사용되는데, 병원이 적정 품질의 의료 서비스를 제공하지 않을 경우 벌금을 부과하는데도 이용된다.\n",
    "\n",
    "웹사이트는 수많은 데이터를 포함하고 있지만 우리는 여기서 3가지 파일만 살펴볼 것이다.\n",
    "\n",
    "- `outcome-of-care-measure.csv` : 30일 사망률과 심장병의 재입원률 등을 포함한다.\n",
    "- `hospital-data.csv` : 각 병원의 정보를 포함한다\n",
    "- `Hospital_Revised_Flatfiles.pdf` : 각 파일의 변수 설명\n",
    "\n"
   ]
  },
  {
   "cell_type": "markdown",
   "metadata": {},
   "source": [
    "### Q1. 심장병의 30일 사망률을 도식화하기"
   ]
  },
  {
   "cell_type": "code",
   "execution_count": 37,
   "metadata": {
    "scrolled": true
   },
   "outputs": [
    {
     "data": {
      "text/html": [
       "<table>\n",
       "<thead><tr><th scope=col>Provider.Number</th><th scope=col>Hospital.Name</th><th scope=col>Address.1</th><th scope=col>Address.2</th><th scope=col>Address.3</th><th scope=col>City</th><th scope=col>State</th><th scope=col>ZIP.Code</th><th scope=col>County.Name</th><th scope=col>Phone.Number</th><th scope=col>⋯</th><th scope=col>Lower.Readmission.Estimate...Hospital.30.Day.Readmission.Rates.from.Heart.Failure</th><th scope=col>Upper.Readmission.Estimate...Hospital.30.Day.Readmission.Rates.from.Heart.Failure</th><th scope=col>Number.of.Patients...Hospital.30.Day.Readmission.Rates.from.Heart.Failure</th><th scope=col>Footnote...Hospital.30.Day.Readmission.Rates.from.Heart.Failure</th><th scope=col>Hospital.30.Day.Readmission.Rates.from.Pneumonia</th><th scope=col>Comparison.to.U.S..Rate...Hospital.30.Day.Readmission.Rates.from.Pneumonia</th><th scope=col>Lower.Readmission.Estimate...Hospital.30.Day.Readmission.Rates.from.Pneumonia</th><th scope=col>Upper.Readmission.Estimate...Hospital.30.Day.Readmission.Rates.from.Pneumonia</th><th scope=col>Number.of.Patients...Hospital.30.Day.Readmission.Rates.from.Pneumonia</th><th scope=col>Footnote...Hospital.30.Day.Readmission.Rates.from.Pneumonia</th></tr></thead>\n",
       "<tbody>\n",
       "\t<tr><td>010001                              </td><td>SOUTHEAST ALABAMA MEDICAL CENTER    </td><td>1108 ROSS CLARK CIRCLE              </td><td>                                    </td><td>                                    </td><td>DOTHAN                              </td><td>AL                                  </td><td>36301                               </td><td>HOUSTON                             </td><td>3347938701                          </td><td>⋯                                   </td><td>21.3                                </td><td>26.5                                </td><td>891                                 </td><td>                                    </td><td>17.1                                </td><td>No Different than U.S. National Rate</td><td>14.4                                </td><td>20.4                                </td><td>400                                 </td><td>                                    </td></tr>\n",
       "\t<tr><td>010005                              </td><td>MARSHALL MEDICAL CENTER SOUTH       </td><td>2505 U S HIGHWAY 431 NORTH          </td><td>                                    </td><td>                                    </td><td>BOAZ                                </td><td>AL                                  </td><td>35957                               </td><td>MARSHALL                            </td><td>2565938310                          </td><td>⋯                                   </td><td>19.2                                </td><td>26.1                                </td><td>264                                 </td><td>                                    </td><td>17.6                                </td><td>No Different than U.S. National Rate</td><td>15.0                                </td><td>20.6                                </td><td>374                                 </td><td>                                    </td></tr>\n",
       "\t<tr><td>010006                              </td><td>ELIZA COFFEE MEMORIAL HOSPITAL      </td><td>205 MARENGO STREET                  </td><td>                                    </td><td>                                    </td><td>FLORENCE                            </td><td>AL                                  </td><td>35631                               </td><td>LAUDERDALE                          </td><td>2567688400                          </td><td>⋯                                   </td><td>17.2                                </td><td>22.9                                </td><td>614                                 </td><td>                                    </td><td>16.9                                </td><td>No Different than U.S. National Rate</td><td>14.7                                </td><td>19.5                                </td><td>842                                 </td><td>                                    </td></tr>\n",
       "\t<tr><td>010007                              </td><td>MIZELL MEMORIAL HOSPITAL            </td><td>702 N MAIN ST                       </td><td>                                    </td><td>                                    </td><td>OPP                                 </td><td>AL                                  </td><td>36467                               </td><td>COVINGTON                           </td><td>3344933541                          </td><td>⋯                                   </td><td>22.4                                </td><td>31.9                                </td><td>135                                 </td><td>                                    </td><td>19.4                                </td><td>No Different than U.S. National Rate</td><td>15.9                                </td><td>23.2                                </td><td>254                                 </td><td>                                    </td></tr>\n",
       "\t<tr><td>010008                              </td><td>CRENSHAW COMMUNITY HOSPITAL         </td><td>101 HOSPITAL CIRCLE                 </td><td>                                    </td><td>                                    </td><td>LUVERNE                             </td><td>AL                                  </td><td>36049                               </td><td>CRENSHAW                            </td><td>3343353374                          </td><td>⋯                                   </td><td>19.9                                </td><td>30.2                                </td><td>59                                  </td><td>                                    </td><td>18.0                                </td><td>No Different than U.S. National Rate</td><td>14.0                                </td><td>22.8                                </td><td>56                                  </td><td>                                    </td></tr>\n",
       "\t<tr><td>010010                              </td><td>MARSHALL MEDICAL CENTER NORTH       </td><td>8000 ALABAMA HIGHWAY 69             </td><td>                                    </td><td>                                    </td><td>GUNTERSVILLE                        </td><td>AL                                  </td><td>35976                               </td><td>MARSHALL                            </td><td>2565718000                          </td><td>⋯                                   </td><td>20.1                                </td><td>28.2                                </td><td>173                                 </td><td>                                    </td><td>18.7                                </td><td>No Different than U.S. National Rate</td><td>15.7                                </td><td>22.2                                </td><td>326                                 </td><td>                                    </td></tr>\n",
       "</tbody>\n",
       "</table>\n"
      ],
      "text/latex": [
       "\\begin{tabular}{r|llllllllllllllllllllllllllllllllllllllllllllll}\n",
       " Provider.Number & Hospital.Name & Address.1 & Address.2 & Address.3 & City & State & ZIP.Code & County.Name & Phone.Number & ⋯ & Lower.Readmission.Estimate...Hospital.30.Day.Readmission.Rates.from.Heart.Failure & Upper.Readmission.Estimate...Hospital.30.Day.Readmission.Rates.from.Heart.Failure & Number.of.Patients...Hospital.30.Day.Readmission.Rates.from.Heart.Failure & Footnote...Hospital.30.Day.Readmission.Rates.from.Heart.Failure & Hospital.30.Day.Readmission.Rates.from.Pneumonia & Comparison.to.U.S..Rate...Hospital.30.Day.Readmission.Rates.from.Pneumonia & Lower.Readmission.Estimate...Hospital.30.Day.Readmission.Rates.from.Pneumonia & Upper.Readmission.Estimate...Hospital.30.Day.Readmission.Rates.from.Pneumonia & Number.of.Patients...Hospital.30.Day.Readmission.Rates.from.Pneumonia & Footnote...Hospital.30.Day.Readmission.Rates.from.Pneumonia\\\\\n",
       "\\hline\n",
       "\t 010001                               & SOUTHEAST ALABAMA MEDICAL CENTER     & 1108 ROSS CLARK CIRCLE               &                                      &                                      & DOTHAN                               & AL                                   & 36301                                & HOUSTON                              & 3347938701                           & ⋯                                    & 21.3                                 & 26.5                                 & 891                                  &                                      & 17.1                                 & No Different than U.S. National Rate & 14.4                                 & 20.4                                 & 400                                  &                                     \\\\\n",
       "\t 010005                               & MARSHALL MEDICAL CENTER SOUTH        & 2505 U S HIGHWAY 431 NORTH           &                                      &                                      & BOAZ                                 & AL                                   & 35957                                & MARSHALL                             & 2565938310                           & ⋯                                    & 19.2                                 & 26.1                                 & 264                                  &                                      & 17.6                                 & No Different than U.S. National Rate & 15.0                                 & 20.6                                 & 374                                  &                                     \\\\\n",
       "\t 010006                               & ELIZA COFFEE MEMORIAL HOSPITAL       & 205 MARENGO STREET                   &                                      &                                      & FLORENCE                             & AL                                   & 35631                                & LAUDERDALE                           & 2567688400                           & ⋯                                    & 17.2                                 & 22.9                                 & 614                                  &                                      & 16.9                                 & No Different than U.S. National Rate & 14.7                                 & 19.5                                 & 842                                  &                                     \\\\\n",
       "\t 010007                               & MIZELL MEMORIAL HOSPITAL             & 702 N MAIN ST                        &                                      &                                      & OPP                                  & AL                                   & 36467                                & COVINGTON                            & 3344933541                           & ⋯                                    & 22.4                                 & 31.9                                 & 135                                  &                                      & 19.4                                 & No Different than U.S. National Rate & 15.9                                 & 23.2                                 & 254                                  &                                     \\\\\n",
       "\t 010008                               & CRENSHAW COMMUNITY HOSPITAL          & 101 HOSPITAL CIRCLE                  &                                      &                                      & LUVERNE                              & AL                                   & 36049                                & CRENSHAW                             & 3343353374                           & ⋯                                    & 19.9                                 & 30.2                                 & 59                                   &                                      & 18.0                                 & No Different than U.S. National Rate & 14.0                                 & 22.8                                 & 56                                   &                                     \\\\\n",
       "\t 010010                               & MARSHALL MEDICAL CENTER NORTH        & 8000 ALABAMA HIGHWAY 69              &                                      &                                      & GUNTERSVILLE                         & AL                                   & 35976                                & MARSHALL                             & 2565718000                           & ⋯                                    & 20.1                                 & 28.2                                 & 173                                  &                                      & 18.7                                 & No Different than U.S. National Rate & 15.7                                 & 22.2                                 & 326                                  &                                     \\\\\n",
       "\\end{tabular}\n"
      ],
      "text/markdown": [
       "\n",
       "Provider.Number | Hospital.Name | Address.1 | Address.2 | Address.3 | City | State | ZIP.Code | County.Name | Phone.Number | ⋯ | Lower.Readmission.Estimate...Hospital.30.Day.Readmission.Rates.from.Heart.Failure | Upper.Readmission.Estimate...Hospital.30.Day.Readmission.Rates.from.Heart.Failure | Number.of.Patients...Hospital.30.Day.Readmission.Rates.from.Heart.Failure | Footnote...Hospital.30.Day.Readmission.Rates.from.Heart.Failure | Hospital.30.Day.Readmission.Rates.from.Pneumonia | Comparison.to.U.S..Rate...Hospital.30.Day.Readmission.Rates.from.Pneumonia | Lower.Readmission.Estimate...Hospital.30.Day.Readmission.Rates.from.Pneumonia | Upper.Readmission.Estimate...Hospital.30.Day.Readmission.Rates.from.Pneumonia | Number.of.Patients...Hospital.30.Day.Readmission.Rates.from.Pneumonia | Footnote...Hospital.30.Day.Readmission.Rates.from.Pneumonia | \n",
       "|---|---|---|---|---|---|\n",
       "| 010001                               | SOUTHEAST ALABAMA MEDICAL CENTER     | 1108 ROSS CLARK CIRCLE               |                                      |                                      | DOTHAN                               | AL                                   | 36301                                | HOUSTON                              | 3347938701                           | ⋯                                    | 21.3                                 | 26.5                                 | 891                                  |                                      | 17.1                                 | No Different than U.S. National Rate | 14.4                                 | 20.4                                 | 400                                  |                                      | \n",
       "| 010005                               | MARSHALL MEDICAL CENTER SOUTH        | 2505 U S HIGHWAY 431 NORTH           |                                      |                                      | BOAZ                                 | AL                                   | 35957                                | MARSHALL                             | 2565938310                           | ⋯                                    | 19.2                                 | 26.1                                 | 264                                  |                                      | 17.6                                 | No Different than U.S. National Rate | 15.0                                 | 20.6                                 | 374                                  |                                      | \n",
       "| 010006                               | ELIZA COFFEE MEMORIAL HOSPITAL       | 205 MARENGO STREET                   |                                      |                                      | FLORENCE                             | AL                                   | 35631                                | LAUDERDALE                           | 2567688400                           | ⋯                                    | 17.2                                 | 22.9                                 | 614                                  |                                      | 16.9                                 | No Different than U.S. National Rate | 14.7                                 | 19.5                                 | 842                                  |                                      | \n",
       "| 010007                               | MIZELL MEMORIAL HOSPITAL             | 702 N MAIN ST                        |                                      |                                      | OPP                                  | AL                                   | 36467                                | COVINGTON                            | 3344933541                           | ⋯                                    | 22.4                                 | 31.9                                 | 135                                  |                                      | 19.4                                 | No Different than U.S. National Rate | 15.9                                 | 23.2                                 | 254                                  |                                      | \n",
       "| 010008                               | CRENSHAW COMMUNITY HOSPITAL          | 101 HOSPITAL CIRCLE                  |                                      |                                      | LUVERNE                              | AL                                   | 36049                                | CRENSHAW                             | 3343353374                           | ⋯                                    | 19.9                                 | 30.2                                 | 59                                   |                                      | 18.0                                 | No Different than U.S. National Rate | 14.0                                 | 22.8                                 | 56                                   |                                      | \n",
       "| 010010                               | MARSHALL MEDICAL CENTER NORTH        | 8000 ALABAMA HIGHWAY 69              |                                      |                                      | GUNTERSVILLE                         | AL                                   | 35976                                | MARSHALL                             | 2565718000                           | ⋯                                    | 20.1                                 | 28.2                                 | 173                                  |                                      | 18.7                                 | No Different than U.S. National Rate | 15.7                                 | 22.2                                 | 326                                  |                                      | \n",
       "\n",
       "\n"
      ],
      "text/plain": [
       "  Provider.Number Hospital.Name                    Address.1                 \n",
       "1 010001          SOUTHEAST ALABAMA MEDICAL CENTER 1108 ROSS CLARK CIRCLE    \n",
       "2 010005          MARSHALL MEDICAL CENTER SOUTH    2505 U S HIGHWAY 431 NORTH\n",
       "3 010006          ELIZA COFFEE MEMORIAL HOSPITAL   205 MARENGO STREET        \n",
       "4 010007          MIZELL MEMORIAL HOSPITAL         702 N MAIN ST             \n",
       "5 010008          CRENSHAW COMMUNITY HOSPITAL      101 HOSPITAL CIRCLE       \n",
       "6 010010          MARSHALL MEDICAL CENTER NORTH    8000 ALABAMA HIGHWAY 69   \n",
       "  Address.2 Address.3 City         State ZIP.Code County.Name Phone.Number ⋯\n",
       "1                     DOTHAN       AL    36301    HOUSTON     3347938701   ⋯\n",
       "2                     BOAZ         AL    35957    MARSHALL    2565938310   ⋯\n",
       "3                     FLORENCE     AL    35631    LAUDERDALE  2567688400   ⋯\n",
       "4                     OPP          AL    36467    COVINGTON   3344933541   ⋯\n",
       "5                     LUVERNE      AL    36049    CRENSHAW    3343353374   ⋯\n",
       "6                     GUNTERSVILLE AL    35976    MARSHALL    2565718000   ⋯\n",
       "  Lower.Readmission.Estimate...Hospital.30.Day.Readmission.Rates.from.Heart.Failure\n",
       "1 21.3                                                                             \n",
       "2 19.2                                                                             \n",
       "3 17.2                                                                             \n",
       "4 22.4                                                                             \n",
       "5 19.9                                                                             \n",
       "6 20.1                                                                             \n",
       "  Upper.Readmission.Estimate...Hospital.30.Day.Readmission.Rates.from.Heart.Failure\n",
       "1 26.5                                                                             \n",
       "2 26.1                                                                             \n",
       "3 22.9                                                                             \n",
       "4 31.9                                                                             \n",
       "5 30.2                                                                             \n",
       "6 28.2                                                                             \n",
       "  Number.of.Patients...Hospital.30.Day.Readmission.Rates.from.Heart.Failure\n",
       "1 891                                                                      \n",
       "2 264                                                                      \n",
       "3 614                                                                      \n",
       "4 135                                                                      \n",
       "5 59                                                                       \n",
       "6 173                                                                      \n",
       "  Footnote...Hospital.30.Day.Readmission.Rates.from.Heart.Failure\n",
       "1                                                                \n",
       "2                                                                \n",
       "3                                                                \n",
       "4                                                                \n",
       "5                                                                \n",
       "6                                                                \n",
       "  Hospital.30.Day.Readmission.Rates.from.Pneumonia\n",
       "1 17.1                                            \n",
       "2 17.6                                            \n",
       "3 16.9                                            \n",
       "4 19.4                                            \n",
       "5 18.0                                            \n",
       "6 18.7                                            \n",
       "  Comparison.to.U.S..Rate...Hospital.30.Day.Readmission.Rates.from.Pneumonia\n",
       "1 No Different than U.S. National Rate                                      \n",
       "2 No Different than U.S. National Rate                                      \n",
       "3 No Different than U.S. National Rate                                      \n",
       "4 No Different than U.S. National Rate                                      \n",
       "5 No Different than U.S. National Rate                                      \n",
       "6 No Different than U.S. National Rate                                      \n",
       "  Lower.Readmission.Estimate...Hospital.30.Day.Readmission.Rates.from.Pneumonia\n",
       "1 14.4                                                                         \n",
       "2 15.0                                                                         \n",
       "3 14.7                                                                         \n",
       "4 15.9                                                                         \n",
       "5 14.0                                                                         \n",
       "6 15.7                                                                         \n",
       "  Upper.Readmission.Estimate...Hospital.30.Day.Readmission.Rates.from.Pneumonia\n",
       "1 20.4                                                                         \n",
       "2 20.6                                                                         \n",
       "3 19.5                                                                         \n",
       "4 23.2                                                                         \n",
       "5 22.8                                                                         \n",
       "6 22.2                                                                         \n",
       "  Number.of.Patients...Hospital.30.Day.Readmission.Rates.from.Pneumonia\n",
       "1 400                                                                  \n",
       "2 374                                                                  \n",
       "3 842                                                                  \n",
       "4 254                                                                  \n",
       "5 56                                                                   \n",
       "6 326                                                                  \n",
       "  Footnote...Hospital.30.Day.Readmission.Rates.from.Pneumonia\n",
       "1                                                            \n",
       "2                                                            \n",
       "3                                                            \n",
       "4                                                            \n",
       "5                                                            \n",
       "6                                                            "
      ]
     },
     "metadata": {},
     "output_type": "display_data"
    }
   ],
   "source": [
    "outcome <- read.csv(\"Materials/outcome-of-care-measures.csv\", colClasses= \"character\")\n",
    "head(outcome)\n",
    "\n",
    "# 여기서 열의 성질을 character 로 받았기 때문에"
   ]
  },
  {
   "cell_type": "code",
   "execution_count": 38,
   "metadata": {
    "scrolled": true
   },
   "outputs": [
    {
     "data": {
      "text/html": [
       "<ol class=list-inline>\n",
       "\t<li>'Provider.Number'</li>\n",
       "\t<li>'Hospital.Name'</li>\n",
       "\t<li>'Address.1'</li>\n",
       "\t<li>'Address.2'</li>\n",
       "\t<li>'Address.3'</li>\n",
       "\t<li>'City'</li>\n",
       "\t<li>'State'</li>\n",
       "\t<li>'ZIP.Code'</li>\n",
       "\t<li>'County.Name'</li>\n",
       "\t<li>'Phone.Number'</li>\n",
       "\t<li>'Hospital.30.Day.Death..Mortality..Rates.from.Heart.Attack'</li>\n",
       "\t<li>'Comparison.to.U.S..Rate...Hospital.30.Day.Death..Mortality..Rates.from.Heart.Attack'</li>\n",
       "\t<li>'Lower.Mortality.Estimate...Hospital.30.Day.Death..Mortality..Rates.from.Heart.Attack'</li>\n",
       "\t<li>'Upper.Mortality.Estimate...Hospital.30.Day.Death..Mortality..Rates.from.Heart.Attack'</li>\n",
       "\t<li>'Number.of.Patients...Hospital.30.Day.Death..Mortality..Rates.from.Heart.Attack'</li>\n",
       "\t<li>'Footnote...Hospital.30.Day.Death..Mortality..Rates.from.Heart.Attack'</li>\n",
       "\t<li>'Hospital.30.Day.Death..Mortality..Rates.from.Heart.Failure'</li>\n",
       "\t<li>'Comparison.to.U.S..Rate...Hospital.30.Day.Death..Mortality..Rates.from.Heart.Failure'</li>\n",
       "\t<li>'Lower.Mortality.Estimate...Hospital.30.Day.Death..Mortality..Rates.from.Heart.Failure'</li>\n",
       "\t<li>'Upper.Mortality.Estimate...Hospital.30.Day.Death..Mortality..Rates.from.Heart.Failure'</li>\n",
       "\t<li>'Number.of.Patients...Hospital.30.Day.Death..Mortality..Rates.from.Heart.Failure'</li>\n",
       "\t<li>'Footnote...Hospital.30.Day.Death..Mortality..Rates.from.Heart.Failure'</li>\n",
       "\t<li>'Hospital.30.Day.Death..Mortality..Rates.from.Pneumonia'</li>\n",
       "\t<li>'Comparison.to.U.S..Rate...Hospital.30.Day.Death..Mortality..Rates.from.Pneumonia'</li>\n",
       "\t<li>'Lower.Mortality.Estimate...Hospital.30.Day.Death..Mortality..Rates.from.Pneumonia'</li>\n",
       "\t<li>'Upper.Mortality.Estimate...Hospital.30.Day.Death..Mortality..Rates.from.Pneumonia'</li>\n",
       "\t<li>'Number.of.Patients...Hospital.30.Day.Death..Mortality..Rates.from.Pneumonia'</li>\n",
       "\t<li>'Footnote...Hospital.30.Day.Death..Mortality..Rates.from.Pneumonia'</li>\n",
       "\t<li>'Hospital.30.Day.Readmission.Rates.from.Heart.Attack'</li>\n",
       "\t<li>'Comparison.to.U.S..Rate...Hospital.30.Day.Readmission.Rates.from.Heart.Attack'</li>\n",
       "\t<li>'Lower.Readmission.Estimate...Hospital.30.Day.Readmission.Rates.from.Heart.Attack'</li>\n",
       "\t<li>'Upper.Readmission.Estimate...Hospital.30.Day.Readmission.Rates.from.Heart.Attack'</li>\n",
       "\t<li>'Number.of.Patients...Hospital.30.Day.Readmission.Rates.from.Heart.Attack'</li>\n",
       "\t<li>'Footnote...Hospital.30.Day.Readmission.Rates.from.Heart.Attack'</li>\n",
       "\t<li>'Hospital.30.Day.Readmission.Rates.from.Heart.Failure'</li>\n",
       "\t<li>'Comparison.to.U.S..Rate...Hospital.30.Day.Readmission.Rates.from.Heart.Failure'</li>\n",
       "\t<li>'Lower.Readmission.Estimate...Hospital.30.Day.Readmission.Rates.from.Heart.Failure'</li>\n",
       "\t<li>'Upper.Readmission.Estimate...Hospital.30.Day.Readmission.Rates.from.Heart.Failure'</li>\n",
       "\t<li>'Number.of.Patients...Hospital.30.Day.Readmission.Rates.from.Heart.Failure'</li>\n",
       "\t<li>'Footnote...Hospital.30.Day.Readmission.Rates.from.Heart.Failure'</li>\n",
       "\t<li>'Hospital.30.Day.Readmission.Rates.from.Pneumonia'</li>\n",
       "\t<li>'Comparison.to.U.S..Rate...Hospital.30.Day.Readmission.Rates.from.Pneumonia'</li>\n",
       "\t<li>'Lower.Readmission.Estimate...Hospital.30.Day.Readmission.Rates.from.Pneumonia'</li>\n",
       "\t<li>'Upper.Readmission.Estimate...Hospital.30.Day.Readmission.Rates.from.Pneumonia'</li>\n",
       "\t<li>'Number.of.Patients...Hospital.30.Day.Readmission.Rates.from.Pneumonia'</li>\n",
       "\t<li>'Footnote...Hospital.30.Day.Readmission.Rates.from.Pneumonia'</li>\n",
       "</ol>\n"
      ],
      "text/latex": [
       "\\begin{enumerate*}\n",
       "\\item 'Provider.Number'\n",
       "\\item 'Hospital.Name'\n",
       "\\item 'Address.1'\n",
       "\\item 'Address.2'\n",
       "\\item 'Address.3'\n",
       "\\item 'City'\n",
       "\\item 'State'\n",
       "\\item 'ZIP.Code'\n",
       "\\item 'County.Name'\n",
       "\\item 'Phone.Number'\n",
       "\\item 'Hospital.30.Day.Death..Mortality..Rates.from.Heart.Attack'\n",
       "\\item 'Comparison.to.U.S..Rate...Hospital.30.Day.Death..Mortality..Rates.from.Heart.Attack'\n",
       "\\item 'Lower.Mortality.Estimate...Hospital.30.Day.Death..Mortality..Rates.from.Heart.Attack'\n",
       "\\item 'Upper.Mortality.Estimate...Hospital.30.Day.Death..Mortality..Rates.from.Heart.Attack'\n",
       "\\item 'Number.of.Patients...Hospital.30.Day.Death..Mortality..Rates.from.Heart.Attack'\n",
       "\\item 'Footnote...Hospital.30.Day.Death..Mortality..Rates.from.Heart.Attack'\n",
       "\\item 'Hospital.30.Day.Death..Mortality..Rates.from.Heart.Failure'\n",
       "\\item 'Comparison.to.U.S..Rate...Hospital.30.Day.Death..Mortality..Rates.from.Heart.Failure'\n",
       "\\item 'Lower.Mortality.Estimate...Hospital.30.Day.Death..Mortality..Rates.from.Heart.Failure'\n",
       "\\item 'Upper.Mortality.Estimate...Hospital.30.Day.Death..Mortality..Rates.from.Heart.Failure'\n",
       "\\item 'Number.of.Patients...Hospital.30.Day.Death..Mortality..Rates.from.Heart.Failure'\n",
       "\\item 'Footnote...Hospital.30.Day.Death..Mortality..Rates.from.Heart.Failure'\n",
       "\\item 'Hospital.30.Day.Death..Mortality..Rates.from.Pneumonia'\n",
       "\\item 'Comparison.to.U.S..Rate...Hospital.30.Day.Death..Mortality..Rates.from.Pneumonia'\n",
       "\\item 'Lower.Mortality.Estimate...Hospital.30.Day.Death..Mortality..Rates.from.Pneumonia'\n",
       "\\item 'Upper.Mortality.Estimate...Hospital.30.Day.Death..Mortality..Rates.from.Pneumonia'\n",
       "\\item 'Number.of.Patients...Hospital.30.Day.Death..Mortality..Rates.from.Pneumonia'\n",
       "\\item 'Footnote...Hospital.30.Day.Death..Mortality..Rates.from.Pneumonia'\n",
       "\\item 'Hospital.30.Day.Readmission.Rates.from.Heart.Attack'\n",
       "\\item 'Comparison.to.U.S..Rate...Hospital.30.Day.Readmission.Rates.from.Heart.Attack'\n",
       "\\item 'Lower.Readmission.Estimate...Hospital.30.Day.Readmission.Rates.from.Heart.Attack'\n",
       "\\item 'Upper.Readmission.Estimate...Hospital.30.Day.Readmission.Rates.from.Heart.Attack'\n",
       "\\item 'Number.of.Patients...Hospital.30.Day.Readmission.Rates.from.Heart.Attack'\n",
       "\\item 'Footnote...Hospital.30.Day.Readmission.Rates.from.Heart.Attack'\n",
       "\\item 'Hospital.30.Day.Readmission.Rates.from.Heart.Failure'\n",
       "\\item 'Comparison.to.U.S..Rate...Hospital.30.Day.Readmission.Rates.from.Heart.Failure'\n",
       "\\item 'Lower.Readmission.Estimate...Hospital.30.Day.Readmission.Rates.from.Heart.Failure'\n",
       "\\item 'Upper.Readmission.Estimate...Hospital.30.Day.Readmission.Rates.from.Heart.Failure'\n",
       "\\item 'Number.of.Patients...Hospital.30.Day.Readmission.Rates.from.Heart.Failure'\n",
       "\\item 'Footnote...Hospital.30.Day.Readmission.Rates.from.Heart.Failure'\n",
       "\\item 'Hospital.30.Day.Readmission.Rates.from.Pneumonia'\n",
       "\\item 'Comparison.to.U.S..Rate...Hospital.30.Day.Readmission.Rates.from.Pneumonia'\n",
       "\\item 'Lower.Readmission.Estimate...Hospital.30.Day.Readmission.Rates.from.Pneumonia'\n",
       "\\item 'Upper.Readmission.Estimate...Hospital.30.Day.Readmission.Rates.from.Pneumonia'\n",
       "\\item 'Number.of.Patients...Hospital.30.Day.Readmission.Rates.from.Pneumonia'\n",
       "\\item 'Footnote...Hospital.30.Day.Readmission.Rates.from.Pneumonia'\n",
       "\\end{enumerate*}\n"
      ],
      "text/markdown": [
       "1. 'Provider.Number'\n",
       "2. 'Hospital.Name'\n",
       "3. 'Address.1'\n",
       "4. 'Address.2'\n",
       "5. 'Address.3'\n",
       "6. 'City'\n",
       "7. 'State'\n",
       "8. 'ZIP.Code'\n",
       "9. 'County.Name'\n",
       "10. 'Phone.Number'\n",
       "11. 'Hospital.30.Day.Death..Mortality..Rates.from.Heart.Attack'\n",
       "12. 'Comparison.to.U.S..Rate...Hospital.30.Day.Death..Mortality..Rates.from.Heart.Attack'\n",
       "13. 'Lower.Mortality.Estimate...Hospital.30.Day.Death..Mortality..Rates.from.Heart.Attack'\n",
       "14. 'Upper.Mortality.Estimate...Hospital.30.Day.Death..Mortality..Rates.from.Heart.Attack'\n",
       "15. 'Number.of.Patients...Hospital.30.Day.Death..Mortality..Rates.from.Heart.Attack'\n",
       "16. 'Footnote...Hospital.30.Day.Death..Mortality..Rates.from.Heart.Attack'\n",
       "17. 'Hospital.30.Day.Death..Mortality..Rates.from.Heart.Failure'\n",
       "18. 'Comparison.to.U.S..Rate...Hospital.30.Day.Death..Mortality..Rates.from.Heart.Failure'\n",
       "19. 'Lower.Mortality.Estimate...Hospital.30.Day.Death..Mortality..Rates.from.Heart.Failure'\n",
       "20. 'Upper.Mortality.Estimate...Hospital.30.Day.Death..Mortality..Rates.from.Heart.Failure'\n",
       "21. 'Number.of.Patients...Hospital.30.Day.Death..Mortality..Rates.from.Heart.Failure'\n",
       "22. 'Footnote...Hospital.30.Day.Death..Mortality..Rates.from.Heart.Failure'\n",
       "23. 'Hospital.30.Day.Death..Mortality..Rates.from.Pneumonia'\n",
       "24. 'Comparison.to.U.S..Rate...Hospital.30.Day.Death..Mortality..Rates.from.Pneumonia'\n",
       "25. 'Lower.Mortality.Estimate...Hospital.30.Day.Death..Mortality..Rates.from.Pneumonia'\n",
       "26. 'Upper.Mortality.Estimate...Hospital.30.Day.Death..Mortality..Rates.from.Pneumonia'\n",
       "27. 'Number.of.Patients...Hospital.30.Day.Death..Mortality..Rates.from.Pneumonia'\n",
       "28. 'Footnote...Hospital.30.Day.Death..Mortality..Rates.from.Pneumonia'\n",
       "29. 'Hospital.30.Day.Readmission.Rates.from.Heart.Attack'\n",
       "30. 'Comparison.to.U.S..Rate...Hospital.30.Day.Readmission.Rates.from.Heart.Attack'\n",
       "31. 'Lower.Readmission.Estimate...Hospital.30.Day.Readmission.Rates.from.Heart.Attack'\n",
       "32. 'Upper.Readmission.Estimate...Hospital.30.Day.Readmission.Rates.from.Heart.Attack'\n",
       "33. 'Number.of.Patients...Hospital.30.Day.Readmission.Rates.from.Heart.Attack'\n",
       "34. 'Footnote...Hospital.30.Day.Readmission.Rates.from.Heart.Attack'\n",
       "35. 'Hospital.30.Day.Readmission.Rates.from.Heart.Failure'\n",
       "36. 'Comparison.to.U.S..Rate...Hospital.30.Day.Readmission.Rates.from.Heart.Failure'\n",
       "37. 'Lower.Readmission.Estimate...Hospital.30.Day.Readmission.Rates.from.Heart.Failure'\n",
       "38. 'Upper.Readmission.Estimate...Hospital.30.Day.Readmission.Rates.from.Heart.Failure'\n",
       "39. 'Number.of.Patients...Hospital.30.Day.Readmission.Rates.from.Heart.Failure'\n",
       "40. 'Footnote...Hospital.30.Day.Readmission.Rates.from.Heart.Failure'\n",
       "41. 'Hospital.30.Day.Readmission.Rates.from.Pneumonia'\n",
       "42. 'Comparison.to.U.S..Rate...Hospital.30.Day.Readmission.Rates.from.Pneumonia'\n",
       "43. 'Lower.Readmission.Estimate...Hospital.30.Day.Readmission.Rates.from.Pneumonia'\n",
       "44. 'Upper.Readmission.Estimate...Hospital.30.Day.Readmission.Rates.from.Pneumonia'\n",
       "45. 'Number.of.Patients...Hospital.30.Day.Readmission.Rates.from.Pneumonia'\n",
       "46. 'Footnote...Hospital.30.Day.Readmission.Rates.from.Pneumonia'\n",
       "\n",
       "\n"
      ],
      "text/plain": [
       " [1] \"Provider.Number\"                                                                      \n",
       " [2] \"Hospital.Name\"                                                                        \n",
       " [3] \"Address.1\"                                                                            \n",
       " [4] \"Address.2\"                                                                            \n",
       " [5] \"Address.3\"                                                                            \n",
       " [6] \"City\"                                                                                 \n",
       " [7] \"State\"                                                                                \n",
       " [8] \"ZIP.Code\"                                                                             \n",
       " [9] \"County.Name\"                                                                          \n",
       "[10] \"Phone.Number\"                                                                         \n",
       "[11] \"Hospital.30.Day.Death..Mortality..Rates.from.Heart.Attack\"                            \n",
       "[12] \"Comparison.to.U.S..Rate...Hospital.30.Day.Death..Mortality..Rates.from.Heart.Attack\"  \n",
       "[13] \"Lower.Mortality.Estimate...Hospital.30.Day.Death..Mortality..Rates.from.Heart.Attack\" \n",
       "[14] \"Upper.Mortality.Estimate...Hospital.30.Day.Death..Mortality..Rates.from.Heart.Attack\" \n",
       "[15] \"Number.of.Patients...Hospital.30.Day.Death..Mortality..Rates.from.Heart.Attack\"       \n",
       "[16] \"Footnote...Hospital.30.Day.Death..Mortality..Rates.from.Heart.Attack\"                 \n",
       "[17] \"Hospital.30.Day.Death..Mortality..Rates.from.Heart.Failure\"                           \n",
       "[18] \"Comparison.to.U.S..Rate...Hospital.30.Day.Death..Mortality..Rates.from.Heart.Failure\" \n",
       "[19] \"Lower.Mortality.Estimate...Hospital.30.Day.Death..Mortality..Rates.from.Heart.Failure\"\n",
       "[20] \"Upper.Mortality.Estimate...Hospital.30.Day.Death..Mortality..Rates.from.Heart.Failure\"\n",
       "[21] \"Number.of.Patients...Hospital.30.Day.Death..Mortality..Rates.from.Heart.Failure\"      \n",
       "[22] \"Footnote...Hospital.30.Day.Death..Mortality..Rates.from.Heart.Failure\"                \n",
       "[23] \"Hospital.30.Day.Death..Mortality..Rates.from.Pneumonia\"                               \n",
       "[24] \"Comparison.to.U.S..Rate...Hospital.30.Day.Death..Mortality..Rates.from.Pneumonia\"     \n",
       "[25] \"Lower.Mortality.Estimate...Hospital.30.Day.Death..Mortality..Rates.from.Pneumonia\"    \n",
       "[26] \"Upper.Mortality.Estimate...Hospital.30.Day.Death..Mortality..Rates.from.Pneumonia\"    \n",
       "[27] \"Number.of.Patients...Hospital.30.Day.Death..Mortality..Rates.from.Pneumonia\"          \n",
       "[28] \"Footnote...Hospital.30.Day.Death..Mortality..Rates.from.Pneumonia\"                    \n",
       "[29] \"Hospital.30.Day.Readmission.Rates.from.Heart.Attack\"                                  \n",
       "[30] \"Comparison.to.U.S..Rate...Hospital.30.Day.Readmission.Rates.from.Heart.Attack\"        \n",
       "[31] \"Lower.Readmission.Estimate...Hospital.30.Day.Readmission.Rates.from.Heart.Attack\"     \n",
       "[32] \"Upper.Readmission.Estimate...Hospital.30.Day.Readmission.Rates.from.Heart.Attack\"     \n",
       "[33] \"Number.of.Patients...Hospital.30.Day.Readmission.Rates.from.Heart.Attack\"             \n",
       "[34] \"Footnote...Hospital.30.Day.Readmission.Rates.from.Heart.Attack\"                       \n",
       "[35] \"Hospital.30.Day.Readmission.Rates.from.Heart.Failure\"                                 \n",
       "[36] \"Comparison.to.U.S..Rate...Hospital.30.Day.Readmission.Rates.from.Heart.Failure\"       \n",
       "[37] \"Lower.Readmission.Estimate...Hospital.30.Day.Readmission.Rates.from.Heart.Failure\"    \n",
       "[38] \"Upper.Readmission.Estimate...Hospital.30.Day.Readmission.Rates.from.Heart.Failure\"    \n",
       "[39] \"Number.of.Patients...Hospital.30.Day.Readmission.Rates.from.Heart.Failure\"            \n",
       "[40] \"Footnote...Hospital.30.Day.Readmission.Rates.from.Heart.Failure\"                      \n",
       "[41] \"Hospital.30.Day.Readmission.Rates.from.Pneumonia\"                                     \n",
       "[42] \"Comparison.to.U.S..Rate...Hospital.30.Day.Readmission.Rates.from.Pneumonia\"           \n",
       "[43] \"Lower.Readmission.Estimate...Hospital.30.Day.Readmission.Rates.from.Pneumonia\"        \n",
       "[44] \"Upper.Readmission.Estimate...Hospital.30.Day.Readmission.Rates.from.Pneumonia\"        \n",
       "[45] \"Number.of.Patients...Hospital.30.Day.Readmission.Rates.from.Pneumonia\"                \n",
       "[46] \"Footnote...Hospital.30.Day.Readmission.Rates.from.Pneumonia\"                          "
      ]
     },
     "metadata": {},
     "output_type": "display_data"
    },
    {
     "data": {
      "text/html": [
       "<ol class=list-inline>\n",
       "\t<li>4706</li>\n",
       "\t<li>46</li>\n",
       "</ol>\n"
      ],
      "text/latex": [
       "\\begin{enumerate*}\n",
       "\\item 4706\n",
       "\\item 46\n",
       "\\end{enumerate*}\n"
      ],
      "text/markdown": [
       "1. 4706\n",
       "2. 46\n",
       "\n",
       "\n"
      ],
      "text/plain": [
       "[1] 4706   46"
      ]
     },
     "metadata": {},
     "output_type": "display_data"
    }
   ],
   "source": [
    "names(outcome)\n",
    "dim(outcome)\n",
    "# 4706개 병원, 46개의 열"
   ]
  },
  {
   "cell_type": "code",
   "execution_count": 39,
   "metadata": {
    "scrolled": false
   },
   "outputs": [
    {
     "name": "stderr",
     "output_type": "stream",
     "text": [
      "Warning message in eval(expr, envir, enclos):\n",
      "“강제형변환에 의해 생성된 NA 입니다”"
     ]
    },
    {
     "data": {
      "image/png": "[encoded data removed]",
      "text/plain": [
       "Plot with title “Histogram of heart_attack”"
      ]
     },
     "metadata": {},
     "output_type": "display_data"
    }
   ],
   "source": [
    "heart_attack <- as.numeric(outcome[, 11])\n",
    "hist(heart_attack)"
   ]
  },
  {
   "cell_type": "markdown",
   "metadata": {},
   "source": [
    "### Q2. 주에서 가장 품질이 좋은 병원을 찾아라\n",
    "\n",
    "- 2개의 인자를 받는 함수 `best`를 선언하시오\n",
    "- 인자 1 : 2글자로 된 각 주(state)의 약어 / 병원의 이름은 `Hospital.Name`에 있다.\n",
    "- 인자 2 : 원하는 질병 : `heart attack`, `heart failure`, or `pneumonia`\n",
    "- 함수의 목적은 주어진 질병에 대해 가장 30일 사망률이 낮은 병원을 출력하는 것이다.\n",
    "- 원하는 데이터가 없는 병원은 순위에서 제외시킨다.\n",
    "- 만약 동점이 있으면, 병원 이름은 알파벳 순서상 가장 빠른 것으로 한다.\n",
    "\n",
    "### Optional )\n",
    "- 추가적으로, 예외 처리를 한다\n",
    "- 만약 부적절한 `state`이 함수에 전달되면, 함수는 `stop` 함수를 통해 에러를 발생시키고 \"invalid state\" 메시지를 출력해야 한다.\n",
    "- 부적절 `outcome` 값이 전달되면, 마찬가지 \"invalid outcome\" 메시지를 출력한다"
   ]
  },
  {
   "cell_type": "code",
   "execution_count": 42,
   "metadata": {},
   "outputs": [
    {
     "data": {
      "text/html": [
       "<dl>\n",
       "\t<dt>$`heart attack`</dt>\n",
       "\t\t<dd>11</dd>\n",
       "\t<dt>$`heart failure`</dt>\n",
       "\t\t<dd>17</dd>\n",
       "\t<dt>$pneumonia</dt>\n",
       "\t\t<dd>23</dd>\n",
       "</dl>\n"
      ],
      "text/latex": [
       "\\begin{description}\n",
       "\\item[\\$`heart attack`] 11\n",
       "\\item[\\$`heart failure`] 17\n",
       "\\item[\\$pneumonia] 23\n",
       "\\end{description}\n"
      ],
      "text/markdown": [
       "$`heart attack`\n",
       ":   11\n",
       "$`heart failure`\n",
       ":   17\n",
       "$pneumonia\n",
       ":   23\n",
       "\n",
       "\n"
      ],
      "text/plain": [
       "$`heart attack`\n",
       "[1] 11\n",
       "\n",
       "$`heart failure`\n",
       "[1] 17\n",
       "\n",
       "$pneumonia\n",
       "[1] 23\n"
      ]
     },
     "metadata": {},
     "output_type": "display_data"
    },
    {
     "data": {
      "text/html": [
       "'double'"
      ],
      "text/latex": [
       "'double'"
      ],
      "text/markdown": [
       "'double'"
      ],
      "text/plain": [
       "[1] \"double\""
      ]
     },
     "metadata": {},
     "output_type": "display_data"
    }
   ],
   "source": [
    "a = list(\"heart attack\" = 11, \"heart failure\" = 17, \"pneumonia\" = 23)\n",
    "a\n",
    "typeof(a$'heart attack')"
   ]
  },
  {
   "cell_type": "code",
   "execution_count": 140,
   "metadata": {
    "scrolled": true
   },
   "outputs": [
    {
     "data": {
      "text/html": [
       "'CYPRESS FAIRBANKS MEDICAL CENTER'"
      ],
      "text/latex": [
       "'CYPRESS FAIRBANKS MEDICAL CENTER'"
      ],
      "text/markdown": [
       "'CYPRESS FAIRBANKS MEDICAL CENTER'"
      ],
      "text/plain": [
       "[1] \"CYPRESS FAIRBANKS MEDICAL CENTER\""
      ]
     },
     "metadata": {},
     "output_type": "display_data"
    },
    {
     "name": "stderr",
     "output_type": "stream",
     "text": [
      "Warning message in best(\"TX\", \"heart failure\"):\n",
      "“강제형변환에 의해 생성된 NA 입니다”"
     ]
    },
    {
     "data": {
      "text/html": [
       "'FORT DUNCAN MEDICAL CENTER'"
      ],
      "text/latex": [
       "'FORT DUNCAN MEDICAL CENTER'"
      ],
      "text/markdown": [
       "'FORT DUNCAN MEDICAL CENTER'"
      ],
      "text/plain": [
       "[1] \"FORT DUNCAN MEDICAL CENTER\""
      ]
     },
     "metadata": {},
     "output_type": "display_data"
    },
    {
     "data": {
      "text/html": [
       "'JOHNS HOPKINS HOSPITAL, THE'"
      ],
      "text/latex": [
       "'JOHNS HOPKINS HOSPITAL, THE'"
      ],
      "text/markdown": [
       "'JOHNS HOPKINS HOSPITAL, THE'"
      ],
      "text/plain": [
       "[1] \"JOHNS HOPKINS HOSPITAL, THE\""
      ]
     },
     "metadata": {},
     "output_type": "display_data"
    },
    {
     "name": "stderr",
     "output_type": "stream",
     "text": [
      "Warning message in best(\"MD\", \"pneumonia\"):\n",
      "“강제형변환에 의해 생성된 NA 입니다”"
     ]
    },
    {
     "data": {
      "text/html": [
       "'GREATER BALTIMORE MEDICAL CENTER'"
      ],
      "text/latex": [
       "'GREATER BALTIMORE MEDICAL CENTER'"
      ],
      "text/markdown": [
       "'GREATER BALTIMORE MEDICAL CENTER'"
      ],
      "text/plain": [
       "[1] \"GREATER BALTIMORE MEDICAL CENTER\""
      ]
     },
     "metadata": {},
     "output_type": "display_data"
    }
   ],
   "source": [
    "# column num for each disease are [11, 17, 23]\n",
    "\n",
    "best <- function(state, out) {\n",
    "    disease = list(\"heart attack\" = 11L, \"heart failure\" = 17L, \"pneumonia\" = 23L)\n",
    "    mask1 = outcome$State == state\n",
    "    mask2 = disease[out][[1]] # use with double bracket\n",
    "    outcome[, mask2] = as.numeric(outcome[, mask2])\n",
    "    result <- outcome[!is.na(outcome[, mask2]) & mask1, ]\n",
    "    result <- result[, c(7, 2, mask2)]\n",
    "    result_order <- result[order(result[,3]), ]\n",
    "    result_order[,2][1]\n",
    "}\n",
    "best(\"TX\", \"heart attack\")\n",
    "best(\"TX\", \"heart failure\")\n",
    "best(\"MD\", \"heart attack\")\n",
    "best(\"MD\", \"pneumonia\")"
   ]
  },
  {
   "cell_type": "markdown",
   "metadata": {},
   "source": [
    "### Q3. 병원을 결과값으로 순위를 매겨라\n",
    "`rankhospital`이라는 함수를 작성하시오. 이 함수는 3개의 인자를 받습니다.\n",
    "\n",
    "- `state` : 주의 이름\n",
    "- `outcome` : 질병 이름\n",
    "- `num` : 몇 번째 순위를 나열할 것인지 (혹은 BEST, WORST 병원)\n",
    "\n",
    "\n",
    "\n"
   ]
  },
  {
   "cell_type": "code",
   "execution_count": 163,
   "metadata": {
    "scrolled": true
   },
   "outputs": [
    {
     "name": "stderr",
     "output_type": "stream",
     "text": [
      "Warning message in rankhospital(\"TX\", \"heart failure\", 4):\n",
      "“강제형변환에 의해 생성된 NA 입니다”"
     ]
    },
    {
     "data": {
      "text/html": [
       "'DETAR HOSPITAL NAVARRO'"
      ],
      "text/latex": [
       "'DETAR HOSPITAL NAVARRO'"
      ],
      "text/markdown": [
       "'DETAR HOSPITAL NAVARRO'"
      ],
      "text/plain": [
       "[1] \"DETAR HOSPITAL NAVARRO\""
      ]
     },
     "metadata": {},
     "output_type": "display_data"
    },
    {
     "data": {
      "text/html": [
       "'HARFORD MEMORIAL HOSPITAL'"
      ],
      "text/latex": [
       "'HARFORD MEMORIAL HOSPITAL'"
      ],
      "text/markdown": [
       "'HARFORD MEMORIAL HOSPITAL'"
      ],
      "text/plain": [
       "[1] \"HARFORD MEMORIAL HOSPITAL\""
      ]
     },
     "metadata": {},
     "output_type": "display_data"
    }
   ],
   "source": [
    "# column num for each disease are [11, 17, 23]\n",
    "\n",
    "rankhospital <- function(state, out, num = \"best\") {\n",
    "    disease = list(\"heart attack\" = 11L, \"heart failure\" = 17L, \"pneumonia\" = 23L)\n",
    "    mask1 = outcome$State == state\n",
    "    mask2 = disease[out][[1]] # use with double bracket\n",
    "    outcome[, mask2] = as.numeric(outcome[, mask2])\n",
    "    result <- outcome[!is.na(outcome[, mask2]) & mask1, ]\n",
    "    result <- result[, c(7, 2, mask2)]\n",
    "    result_order <- result[order(result[,3], result[,2]), ]\n",
    "    \n",
    "    if(num == \"best\") {\n",
    "        result_order[,2][1]\n",
    "        }\n",
    "    else if(num == \"worst\") {\n",
    "        tail(result_order[,2], 1)\n",
    "    }\n",
    "    else {\n",
    "        result_order[,2][num]\n",
    "    }\n",
    "}\n",
    "\n",
    "rankhospital(\"TX\", \"heart failure\", 4)\n",
    "rankhospital(\"MD\", \"heart attack\", \"worst\")"
   ]
  },
  {
   "cell_type": "markdown",
   "metadata": {},
   "source": [
    "### Q4. 전체 주에서 병원의 순위 매기기\n",
    "\n",
    "`rankall` 이라는 함수를 작성하시오. 이 함수는 인자를 2개 받는다.\n",
    "\n",
    "- `outcome` : `outcome-of-care-measures.csv` 파일 \n",
    "- `num` : 순위 혹은 \"best\", \"worst\"\n",
    "\n",
    "그리고 각 주에서 그 분야의 n순위 (혹은 최고) 병원 목록을 반환한다.\n"
   ]
  },
  {
   "cell_type": "code",
   "execution_count": null,
   "metadata": {
    "collapsed": true
   },
   "outputs": [],
   "source": [
    "rankall <- function(outcome, num = \"best\") {\n",
    "    \n",
    "}"
   ]
  }
 ],
 "metadata": {
  "kernelspec": {
   "display_name": "R",
   "language": "R",
   "name": "ir"
  },
  "language_info": {
   "codemirror_mode": "r",
   "file_extension": ".r",
   "mimetype": "text/x-r-source",
   "name": "R",
   "pygments_lexer": "r",
   "version": "3.4.3"
  }
 },
 "nbformat": 4,
 "nbformat_minor": 2
}
