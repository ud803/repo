{
 "cells": [
  {
   "cell_type": "markdown",
   "metadata": {},
   "source": [
    "# `str` & Simulation\n",
    "이번 챕터에서는 R에서 데이터를 어떻게 시뮬레이션을 운영하는지를 배울 것이다.\n",
    "\n",
    "R은 여러 시뮬레이션 연구를 위해 많이 쓰이기 때문이다. 또한, 프로파일러를 배울 것인데, 이는 백그라운드에서 R 함수가 어떻게 동작하고 있고, 문제점들을 발견할 수 있게 해준다.\n",
    "\n",
    "프로파일러는 프로그램을 최적화하는 데 매우 중요한 툴이다.\n",
    "\n",
    "마지막으로, `str` 함수를 배울 것이다. 이는 정말로 매우 중요한 함수이다."
   ]
  },
  {
   "cell_type": "markdown",
   "metadata": {},
   "source": [
    "## 1. `str` 함수\n",
    "\n",
    "`str`은 R 오브젝트의 내부 구조(Structure)를 보여준다.\n",
    "\n",
    "- 분석을 해주는 함수이고, `summary`의 대체로 쓸 수 있다.\n",
    "- 특히 중첩된 오브젝트들을 간결하게 보여준다"
   ]
  },
  {
   "cell_type": "code",
   "execution_count": 2,
   "metadata": {},
   "outputs": [
    {
     "name": "stdout",
     "output_type": "stream",
     "text": [
      "function (object, ...)  \n"
     ]
    }
   ],
   "source": [
    "str(str)"
   ]
  },
  {
   "cell_type": "code",
   "execution_count": 3,
   "metadata": {
    "scrolled": true
   },
   "outputs": [
    {
     "name": "stdout",
     "output_type": "stream",
     "text": [
      "function (formula, data, subset, weights, na.action, method = \"qr\", model = TRUE, \n",
      "    x = FALSE, y = FALSE, qr = TRUE, singular.ok = TRUE, contrasts = NULL, \n",
      "    offset, ...)  \n"
     ]
    }
   ],
   "source": [
    "str(lm)"
   ]
  },
  {
   "cell_type": "code",
   "execution_count": 7,
   "metadata": {},
   "outputs": [
    {
     "data": {
      "text/plain": [
       "   Min. 1st Qu.  Median    Mean 3rd Qu.    Max. \n",
       "-8.5849 -0.7925  1.7658  1.9353  4.7610 13.7130 "
      ]
     },
     "metadata": {},
     "output_type": "display_data"
    }
   ],
   "source": [
    "x <- rnorm(100, 2, 4)\n",
    "summary(x)"
   ]
  },
  {
   "cell_type": "code",
   "execution_count": 9,
   "metadata": {},
   "outputs": [
    {
     "name": "stdout",
     "output_type": "stream",
     "text": [
      " num [1:100] 1.38 3.5 1.99 -3.01 1.21 ...\n"
     ]
    }
   ],
   "source": [
    "# x는 numeric vector이고, 100개의 원소라는 걸 알려준다\n",
    "str(x)"
   ]
  },
  {
   "cell_type": "code",
   "execution_count": 11,
   "metadata": {},
   "outputs": [
    {
     "name": "stdout",
     "output_type": "stream",
     "text": [
      " Factor w/ 40 levels \"1\",\"2\",\"3\",\"4\",..: 1 1 1 1 1 1 1 1 1 1 ...\n"
     ]
    }
   ],
   "source": [
    "f <- gl(40, 10)\n",
    "str(f)"
   ]
  },
  {
   "cell_type": "code",
   "execution_count": 12,
   "metadata": {
    "scrolled": true
   },
   "outputs": [
    {
     "data": {
      "text/html": [
       "<dl class=dl-horizontal>\n",
       "\t<dt>1</dt>\n",
       "\t\t<dd>10</dd>\n",
       "\t<dt>2</dt>\n",
       "\t\t<dd>10</dd>\n",
       "\t<dt>3</dt>\n",
       "\t\t<dd>10</dd>\n",
       "\t<dt>4</dt>\n",
       "\t\t<dd>10</dd>\n",
       "\t<dt>5</dt>\n",
       "\t\t<dd>10</dd>\n",
       "\t<dt>6</dt>\n",
       "\t\t<dd>10</dd>\n",
       "\t<dt>7</dt>\n",
       "\t\t<dd>10</dd>\n",
       "\t<dt>8</dt>\n",
       "\t\t<dd>10</dd>\n",
       "\t<dt>9</dt>\n",
       "\t\t<dd>10</dd>\n",
       "\t<dt>10</dt>\n",
       "\t\t<dd>10</dd>\n",
       "\t<dt>11</dt>\n",
       "\t\t<dd>10</dd>\n",
       "\t<dt>12</dt>\n",
       "\t\t<dd>10</dd>\n",
       "\t<dt>13</dt>\n",
       "\t\t<dd>10</dd>\n",
       "\t<dt>14</dt>\n",
       "\t\t<dd>10</dd>\n",
       "\t<dt>15</dt>\n",
       "\t\t<dd>10</dd>\n",
       "\t<dt>16</dt>\n",
       "\t\t<dd>10</dd>\n",
       "\t<dt>17</dt>\n",
       "\t\t<dd>10</dd>\n",
       "\t<dt>18</dt>\n",
       "\t\t<dd>10</dd>\n",
       "\t<dt>19</dt>\n",
       "\t\t<dd>10</dd>\n",
       "\t<dt>20</dt>\n",
       "\t\t<dd>10</dd>\n",
       "\t<dt>21</dt>\n",
       "\t\t<dd>10</dd>\n",
       "\t<dt>22</dt>\n",
       "\t\t<dd>10</dd>\n",
       "\t<dt>23</dt>\n",
       "\t\t<dd>10</dd>\n",
       "\t<dt>24</dt>\n",
       "\t\t<dd>10</dd>\n",
       "\t<dt>25</dt>\n",
       "\t\t<dd>10</dd>\n",
       "\t<dt>26</dt>\n",
       "\t\t<dd>10</dd>\n",
       "\t<dt>27</dt>\n",
       "\t\t<dd>10</dd>\n",
       "\t<dt>28</dt>\n",
       "\t\t<dd>10</dd>\n",
       "\t<dt>29</dt>\n",
       "\t\t<dd>10</dd>\n",
       "\t<dt>30</dt>\n",
       "\t\t<dd>10</dd>\n",
       "\t<dt>31</dt>\n",
       "\t\t<dd>10</dd>\n",
       "\t<dt>32</dt>\n",
       "\t\t<dd>10</dd>\n",
       "\t<dt>33</dt>\n",
       "\t\t<dd>10</dd>\n",
       "\t<dt>34</dt>\n",
       "\t\t<dd>10</dd>\n",
       "\t<dt>35</dt>\n",
       "\t\t<dd>10</dd>\n",
       "\t<dt>36</dt>\n",
       "\t\t<dd>10</dd>\n",
       "\t<dt>37</dt>\n",
       "\t\t<dd>10</dd>\n",
       "\t<dt>38</dt>\n",
       "\t\t<dd>10</dd>\n",
       "\t<dt>39</dt>\n",
       "\t\t<dd>10</dd>\n",
       "\t<dt>40</dt>\n",
       "\t\t<dd>10</dd>\n",
       "</dl>\n"
      ],
      "text/latex": [
       "\\begin{description*}\n",
       "\\item[1] 10\n",
       "\\item[2] 10\n",
       "\\item[3] 10\n",
       "\\item[4] 10\n",
       "\\item[5] 10\n",
       "\\item[6] 10\n",
       "\\item[7] 10\n",
       "\\item[8] 10\n",
       "\\item[9] 10\n",
       "\\item[10] 10\n",
       "\\item[11] 10\n",
       "\\item[12] 10\n",
       "\\item[13] 10\n",
       "\\item[14] 10\n",
       "\\item[15] 10\n",
       "\\item[16] 10\n",
       "\\item[17] 10\n",
       "\\item[18] 10\n",
       "\\item[19] 10\n",
       "\\item[20] 10\n",
       "\\item[21] 10\n",
       "\\item[22] 10\n",
       "\\item[23] 10\n",
       "\\item[24] 10\n",
       "\\item[25] 10\n",
       "\\item[26] 10\n",
       "\\item[27] 10\n",
       "\\item[28] 10\n",
       "\\item[29] 10\n",
       "\\item[30] 10\n",
       "\\item[31] 10\n",
       "\\item[32] 10\n",
       "\\item[33] 10\n",
       "\\item[34] 10\n",
       "\\item[35] 10\n",
       "\\item[36] 10\n",
       "\\item[37] 10\n",
       "\\item[38] 10\n",
       "\\item[39] 10\n",
       "\\item[40] 10\n",
       "\\end{description*}\n"
      ],
      "text/markdown": [
       "1\n",
       ":   102\n",
       ":   103\n",
       ":   104\n",
       ":   105\n",
       ":   106\n",
       ":   107\n",
       ":   108\n",
       ":   109\n",
       ":   1010\n",
       ":   1011\n",
       ":   1012\n",
       ":   1013\n",
       ":   1014\n",
       ":   1015\n",
       ":   1016\n",
       ":   1017\n",
       ":   1018\n",
       ":   1019\n",
       ":   1020\n",
       ":   1021\n",
       ":   1022\n",
       ":   1023\n",
       ":   1024\n",
       ":   1025\n",
       ":   1026\n",
       ":   1027\n",
       ":   1028\n",
       ":   1029\n",
       ":   1030\n",
       ":   1031\n",
       ":   1032\n",
       ":   1033\n",
       ":   1034\n",
       ":   1035\n",
       ":   1036\n",
       ":   1037\n",
       ":   1038\n",
       ":   1039\n",
       ":   1040\n",
       ":   10\n",
       "\n"
      ],
      "text/plain": [
       " 1  2  3  4  5  6  7  8  9 10 11 12 13 14 15 16 17 18 19 20 21 22 23 24 25 26 \n",
       "10 10 10 10 10 10 10 10 10 10 10 10 10 10 10 10 10 10 10 10 10 10 10 10 10 10 \n",
       "27 28 29 30 31 32 33 34 35 36 37 38 39 40 \n",
       "10 10 10 10 10 10 10 10 10 10 10 10 10 10 "
      ]
     },
     "metadata": {},
     "output_type": "display_data"
    }
   ],
   "source": [
    "summary(f)"
   ]
  },
  {
   "cell_type": "code",
   "execution_count": 13,
   "metadata": {},
   "outputs": [
    {
     "name": "stdout",
     "output_type": "stream",
     "text": [
      "'data.frame':\t153 obs. of  6 variables:\n",
      " $ Ozone  : int  41 36 12 18 NA 28 23 19 8 NA ...\n",
      " $ Solar.R: int  190 118 149 313 NA NA 299 99 19 194 ...\n",
      " $ Wind   : num  7.4 8 12.6 11.5 14.3 14.9 8.6 13.8 20.1 8.6 ...\n",
      " $ Temp   : int  67 72 74 62 56 66 65 59 61 69 ...\n",
      " $ Month  : int  5 5 5 5 5 5 5 5 5 5 ...\n",
      " $ Day    : int  1 2 3 4 5 6 7 8 9 10 ...\n"
     ]
    }
   ],
   "source": [
    "# 또한 데이터셋에도 사용할 수 있다\n",
    "library(datasets)\n",
    "str(airquality)"
   ]
  },
  {
   "cell_type": "code",
   "execution_count": 14,
   "metadata": {},
   "outputs": [
    {
     "name": "stdout",
     "output_type": "stream",
     "text": [
      " num [1:10, 1:10] 0.757 0.849 0.616 -1.393 0.434 ...\n"
     ]
    }
   ],
   "source": [
    "m <- matrix(rnorm(100), 10, 10)\n",
    "str(m)"
   ]
  },
  {
   "cell_type": "code",
   "execution_count": 16,
   "metadata": {
    "scrolled": true
   },
   "outputs": [
    {
     "name": "stdout",
     "output_type": "stream",
     "text": [
      "List of 5\n",
      " $ 5:'data.frame':\t31 obs. of  6 variables:\n",
      "  ..$ Ozone  : int [1:31] 41 36 12 18 NA 28 23 19 8 NA ...\n",
      "  ..$ Solar.R: int [1:31] 190 118 149 313 NA NA 299 99 19 194 ...\n",
      "  ..$ Wind   : num [1:31] 7.4 8 12.6 11.5 14.3 14.9 8.6 13.8 20.1 8.6 ...\n",
      "  ..$ Temp   : int [1:31] 67 72 74 62 56 66 65 59 61 69 ...\n",
      "  ..$ Month  : int [1:31] 5 5 5 5 5 5 5 5 5 5 ...\n",
      "  ..$ Day    : int [1:31] 1 2 3 4 5 6 7 8 9 10 ...\n",
      " $ 6:'data.frame':\t30 obs. of  6 variables:\n",
      "  ..$ Ozone  : int [1:30] NA NA NA NA NA NA 29 NA 71 39 ...\n",
      "  ..$ Solar.R: int [1:30] 286 287 242 186 220 264 127 273 291 323 ...\n",
      "  ..$ Wind   : num [1:30] 8.6 9.7 16.1 9.2 8.6 14.3 9.7 6.9 13.8 11.5 ...\n",
      "  ..$ Temp   : int [1:30] 78 74 67 84 85 79 82 87 90 87 ...\n",
      "  ..$ Month  : int [1:30] 6 6 6 6 6 6 6 6 6 6 ...\n",
      "  ..$ Day    : int [1:30] 1 2 3 4 5 6 7 8 9 10 ...\n",
      " $ 7:'data.frame':\t31 obs. of  6 variables:\n",
      "  ..$ Ozone  : int [1:31] 135 49 32 NA 64 40 77 97 97 85 ...\n",
      "  ..$ Solar.R: int [1:31] 269 248 236 101 175 314 276 267 272 175 ...\n",
      "  ..$ Wind   : num [1:31] 4.1 9.2 9.2 10.9 4.6 10.9 5.1 6.3 5.7 7.4 ...\n",
      "  ..$ Temp   : int [1:31] 84 85 81 84 83 83 88 92 92 89 ...\n",
      "  ..$ Month  : int [1:31] 7 7 7 7 7 7 7 7 7 7 ...\n",
      "  ..$ Day    : int [1:31] 1 2 3 4 5 6 7 8 9 10 ...\n",
      " $ 8:'data.frame':\t31 obs. of  6 variables:\n",
      "  ..$ Ozone  : int [1:31] 39 9 16 78 35 66 122 89 110 NA ...\n",
      "  ..$ Solar.R: int [1:31] 83 24 77 NA NA NA 255 229 207 222 ...\n",
      "  ..$ Wind   : num [1:31] 6.9 13.8 7.4 6.9 7.4 4.6 4 10.3 8 8.6 ...\n",
      "  ..$ Temp   : int [1:31] 81 81 82 86 85 87 89 90 90 92 ...\n",
      "  ..$ Month  : int [1:31] 8 8 8 8 8 8 8 8 8 8 ...\n",
      "  ..$ Day    : int [1:31] 1 2 3 4 5 6 7 8 9 10 ...\n",
      " $ 9:'data.frame':\t30 obs. of  6 variables:\n",
      "  ..$ Ozone  : int [1:30] 96 78 73 91 47 32 20 23 21 24 ...\n",
      "  ..$ Solar.R: int [1:30] 167 197 183 189 95 92 252 220 230 259 ...\n",
      "  ..$ Wind   : num [1:30] 6.9 5.1 2.8 4.6 7.4 15.5 10.9 10.3 10.9 9.7 ...\n",
      "  ..$ Temp   : int [1:30] 91 92 93 93 87 84 80 78 75 73 ...\n",
      "  ..$ Month  : int [1:30] 9 9 9 9 9 9 9 9 9 9 ...\n",
      "  ..$ Day    : int [1:30] 1 2 3 4 5 6 7 8 9 10 ...\n"
     ]
    }
   ],
   "source": [
    "s <- split(airquality, airquality$Month)\n",
    "str(s)\n",
    "    # 'List' of 5 !"
   ]
  },
  {
   "cell_type": "markdown",
   "metadata": {},
   "source": [
    "## 2. Simulation\n",
    "\n",
    "R에서 확률 분포에 관한 함수는 다음이 있다.\n",
    "\n",
    "- `rnorm` : random Normal variates\n",
    "- `dnorm` : Normal probability density\n",
    "- `pnorm` : cum distribution for Normal dist\n",
    "- `rpois` : generate random Poisson variates\n",
    "\n",
    "사실 접두사가 어떤 성질인지를 알려준다.\n",
    "\n",
    "- `d` : for density\n",
    "- `r` : for random number generation\n",
    "- `p` : for cumulative distribution\n",
    "- `q` : for quantile function\n",
    "\n",
    "그리고 이 접두사와 함께 쓰이는 확률 분포는 다음과 같다.\n",
    "\n",
    "- `norm`\n",
    "- `gamma`\n",
    "- `beta`\n",
    "- `pois`\n",
    "- `binom`"
   ]
  },
  {
   "cell_type": "code",
   "execution_count": 17,
   "metadata": {},
   "outputs": [
    {
     "data": {
      "text/html": [
       "<ol class=list-inline>\n",
       "\t<li>-1.27209877992121</li>\n",
       "\t<li>-0.367441072182068</li>\n",
       "\t<li>-0.404955508429234</li>\n",
       "\t<li>1.53553555994524</li>\n",
       "\t<li>0.628461623274096</li>\n",
       "\t<li>0.0470847906578629</li>\n",
       "\t<li>-0.099604814954229</li>\n",
       "\t<li>0.650374885624358</li>\n",
       "\t<li>1.17761047359997</li>\n",
       "\t<li>-0.199305787660729</li>\n",
       "</ol>\n"
      ],
      "text/latex": [
       "\\begin{enumerate*}\n",
       "\\item -1.27209877992121\n",
       "\\item -0.367441072182068\n",
       "\\item -0.404955508429234\n",
       "\\item 1.53553555994524\n",
       "\\item 0.628461623274096\n",
       "\\item 0.0470847906578629\n",
       "\\item -0.099604814954229\n",
       "\\item 0.650374885624358\n",
       "\\item 1.17761047359997\n",
       "\\item -0.199305787660729\n",
       "\\end{enumerate*}\n"
      ],
      "text/markdown": [
       "1. -1.27209877992121\n",
       "2. -0.367441072182068\n",
       "3. -0.404955508429234\n",
       "4. 1.53553555994524\n",
       "5. 0.628461623274096\n",
       "6. 0.0470847906578629\n",
       "7. -0.099604814954229\n",
       "8. 0.650374885624358\n",
       "9. 1.17761047359997\n",
       "10. -0.199305787660729\n",
       "\n",
       "\n"
      ],
      "text/plain": [
       " [1] -1.27209878 -0.36744107 -0.40495551  1.53553556  0.62846162  0.04708479\n",
       " [7] -0.09960481  0.65037489  1.17761047 -0.19930579"
      ]
     },
     "metadata": {},
     "output_type": "display_data"
    }
   ],
   "source": [
    "x <- rnorm(10)\n",
    "x"
   ]
  },
  {
   "cell_type": "code",
   "execution_count": 19,
   "metadata": {},
   "outputs": [
    {
     "data": {
      "text/html": [
       "<ol class=list-inline>\n",
       "\t<li>23.3526834118488</li>\n",
       "\t<li>20.8373669440785</li>\n",
       "\t<li>21.8915970581434</li>\n",
       "\t<li>20.4337761625783</li>\n",
       "\t<li>21.2879178997012</li>\n",
       "\t<li>19.3570812213094</li>\n",
       "\t<li>21.2167784331203</li>\n",
       "\t<li>22.9183668479317</li>\n",
       "\t<li>17.8210202304375</li>\n",
       "\t<li>23.2320452774186</li>\n",
       "</ol>\n"
      ],
      "text/latex": [
       "\\begin{enumerate*}\n",
       "\\item 23.3526834118488\n",
       "\\item 20.8373669440785\n",
       "\\item 21.8915970581434\n",
       "\\item 20.4337761625783\n",
       "\\item 21.2879178997012\n",
       "\\item 19.3570812213094\n",
       "\\item 21.2167784331203\n",
       "\\item 22.9183668479317\n",
       "\\item 17.8210202304375\n",
       "\\item 23.2320452774186\n",
       "\\end{enumerate*}\n"
      ],
      "text/markdown": [
       "1. 23.3526834118488\n",
       "2. 20.8373669440785\n",
       "3. 21.8915970581434\n",
       "4. 20.4337761625783\n",
       "5. 21.2879178997012\n",
       "6. 19.3570812213094\n",
       "7. 21.2167784331203\n",
       "8. 22.9183668479317\n",
       "9. 17.8210202304375\n",
       "10. 23.2320452774186\n",
       "\n",
       "\n"
      ],
      "text/plain": [
       " [1] 23.35268 20.83737 21.89160 20.43378 21.28792 19.35708 21.21678 22.91837\n",
       " [9] 17.82102 23.23205"
      ]
     },
     "metadata": {},
     "output_type": "display_data"
    }
   ],
   "source": [
    "x <- rnorm(10, 20, 2)\n",
    "x"
   ]
  },
  {
   "cell_type": "code",
   "execution_count": 20,
   "metadata": {},
   "outputs": [
    {
     "data": {
      "text/plain": [
       "   Min. 1st Qu.  Median    Mean 3rd Qu.    Max. \n",
       "  17.82   20.53   21.25   21.23   22.66   23.35 "
      ]
     },
     "metadata": {},
     "output_type": "display_data"
    }
   ],
   "source": [
    "summary(x)"
   ]
  },
  {
   "cell_type": "markdown",
   "metadata": {},
   "source": [
    "랜덤 넘버를 만들 때, 중요한 것은 `set.seed`를 통해 시드를 주어야 한다는 점이다.\n",
    "\n",
    "같은 시드를 준다면 어떤 컴퓨터에서 하든 같은 결과물을 만들어 낼 수 있다.\n",
    "\n",
    "즉, 시드가 동일하다면 랜덤은 랜덤이 아니게 된다."
   ]
  },
  {
   "cell_type": "code",
   "execution_count": 21,
   "metadata": {},
   "outputs": [
    {
     "data": {
      "text/html": [
       "<ol class=list-inline>\n",
       "\t<li>-0.626453810742332</li>\n",
       "\t<li>0.183643324222082</li>\n",
       "\t<li>-0.835628612410047</li>\n",
       "\t<li>1.59528080213779</li>\n",
       "\t<li>0.329507771815361</li>\n",
       "</ol>\n"
      ],
      "text/latex": [
       "\\begin{enumerate*}\n",
       "\\item -0.626453810742332\n",
       "\\item 0.183643324222082\n",
       "\\item -0.835628612410047\n",
       "\\item 1.59528080213779\n",
       "\\item 0.329507771815361\n",
       "\\end{enumerate*}\n"
      ],
      "text/markdown": [
       "1. -0.626453810742332\n",
       "2. 0.183643324222082\n",
       "3. -0.835628612410047\n",
       "4. 1.59528080213779\n",
       "5. 0.329507771815361\n",
       "\n",
       "\n"
      ],
      "text/plain": [
       "[1] -0.6264538  0.1836433 -0.8356286  1.5952808  0.3295078"
      ]
     },
     "metadata": {},
     "output_type": "display_data"
    }
   ],
   "source": [
    "set.seed(1)\n",
    "rnorm(5)"
   ]
  },
  {
   "cell_type": "code",
   "execution_count": 25,
   "metadata": {},
   "outputs": [
    {
     "data": {
      "text/html": [
       "<ol class=list-inline>\n",
       "\t<li>-0.820468384118015</li>\n",
       "\t<li>0.487429052428485</li>\n",
       "\t<li>0.738324705129217</li>\n",
       "\t<li>0.575781351653492</li>\n",
       "\t<li>-0.305388387156356</li>\n",
       "</ol>\n"
      ],
      "text/latex": [
       "\\begin{enumerate*}\n",
       "\\item -0.820468384118015\n",
       "\\item 0.487429052428485\n",
       "\\item 0.738324705129217\n",
       "\\item 0.575781351653492\n",
       "\\item -0.305388387156356\n",
       "\\end{enumerate*}\n"
      ],
      "text/markdown": [
       "1. -0.820468384118015\n",
       "2. 0.487429052428485\n",
       "3. 0.738324705129217\n",
       "4. 0.575781351653492\n",
       "5. -0.305388387156356\n",
       "\n",
       "\n"
      ],
      "text/plain": [
       "[1] -0.8204684  0.4874291  0.7383247  0.5757814 -0.3053884"
      ]
     },
     "metadata": {},
     "output_type": "display_data"
    }
   ],
   "source": [
    "# set.seed는 1회 적용되므로 여기서는 다시 랜덤\n",
    "rnorm(5)"
   ]
  },
  {
   "cell_type": "code",
   "execution_count": 24,
   "metadata": {},
   "outputs": [
    {
     "data": {
      "text/html": [
       "<ol class=list-inline>\n",
       "\t<li>-0.626453810742332</li>\n",
       "\t<li>0.183643324222082</li>\n",
       "\t<li>-0.835628612410047</li>\n",
       "\t<li>1.59528080213779</li>\n",
       "\t<li>0.329507771815361</li>\n",
       "</ol>\n"
      ],
      "text/latex": [
       "\\begin{enumerate*}\n",
       "\\item -0.626453810742332\n",
       "\\item 0.183643324222082\n",
       "\\item -0.835628612410047\n",
       "\\item 1.59528080213779\n",
       "\\item 0.329507771815361\n",
       "\\end{enumerate*}\n"
      ],
      "text/markdown": [
       "1. -0.626453810742332\n",
       "2. 0.183643324222082\n",
       "3. -0.835628612410047\n",
       "4. 1.59528080213779\n",
       "5. 0.329507771815361\n",
       "\n",
       "\n"
      ],
      "text/plain": [
       "[1] -0.6264538  0.1836433 -0.8356286  1.5952808  0.3295078"
      ]
     },
     "metadata": {},
     "output_type": "display_data"
    }
   ],
   "source": [
    "# 다시 돌아왔다\n",
    "set.seed(1)\n",
    "rnorm(5)"
   ]
  },
  {
   "cell_type": "code",
   "execution_count": 27,
   "metadata": {},
   "outputs": [
    {
     "data": {
      "text/html": [
       "<ol class=list-inline>\n",
       "\t<li>23</li>\n",
       "\t<li>20</li>\n",
       "\t<li>11</li>\n",
       "\t<li>22</li>\n",
       "\t<li>24</li>\n",
       "\t<li>16</li>\n",
       "\t<li>17</li>\n",
       "\t<li>18</li>\n",
       "\t<li>17</li>\n",
       "\t<li>21</li>\n",
       "</ol>\n"
      ],
      "text/latex": [
       "\\begin{enumerate*}\n",
       "\\item 23\n",
       "\\item 20\n",
       "\\item 11\n",
       "\\item 22\n",
       "\\item 24\n",
       "\\item 16\n",
       "\\item 17\n",
       "\\item 18\n",
       "\\item 17\n",
       "\\item 21\n",
       "\\end{enumerate*}\n"
      ],
      "text/markdown": [
       "1. 23\n",
       "2. 20\n",
       "3. 11\n",
       "4. 22\n",
       "5. 24\n",
       "6. 16\n",
       "7. 17\n",
       "8. 18\n",
       "9. 17\n",
       "10. 21\n",
       "\n",
       "\n"
      ],
      "text/plain": [
       " [1] 23 20 11 22 24 16 17 18 17 21"
      ]
     },
     "metadata": {},
     "output_type": "display_data"
    }
   ],
   "source": [
    "# generate 10 poisson variable with lambda = 20\n",
    "rpois(10, 20)"
   ]
  },
  {
   "cell_type": "markdown",
   "metadata": {},
   "source": [
    "## 3. Random Number from a Linear Model\n",
    "만약 확률분포가 아니라, 어떤 모형(예를 들어 선형 모형)으로부터 시뮬레이션을 하고 싶을 때는 어떻게 할까?\n",
    "\n",
    "아래와 같은 식이 있다고 가정하자.\n",
    "$$ y = \\beta_0 + \\beta_1x + \\epsilon $$\n",
    "where, \n",
    "$$  \\epsilon \\sim N(0, 2^2), x \\sim N(0, 1^2), \\beta_0 = 0.5, \\beta_1 = 2$$"
   ]
  },
  {
   "cell_type": "code",
   "execution_count": 29,
   "metadata": {},
   "outputs": [
    {
     "data": {
      "text/plain": [
       "   Min. 1st Qu.  Median    Mean 3rd Qu.    Max. \n",
       "-6.4084 -1.5402  0.6789  0.6893  2.9303  6.5052 "
      ]
     },
     "metadata": {},
     "output_type": "display_data"
    }
   ],
   "source": [
    "# 그냥 다 더해주면 된다!\n",
    "set.seed(20)\n",
    "x <- rnorm(100)\n",
    "e <- rnorm(100, 0, 2)\n",
    "y <- 0.5 + 2 * x + e\n",
    "summary(y)"
   ]
  },
  {
   "cell_type": "code",
   "execution_count": 30,
   "metadata": {},
   "outputs": [
    {
     "data": {
      "image/png": "[encoded data removed]",
      "text/plain": [
       "plot without title"
      ]
     },
     "metadata": {},
     "output_type": "display_data"
    }
   ],
   "source": [
    "plot(x, y)"
   ]
  },
  {
   "cell_type": "code",
   "execution_count": 31,
   "metadata": {},
   "outputs": [
    {
     "data": {
      "text/plain": [
       "   Min. 1st Qu.  Median    Mean 3rd Qu.    Max. \n",
       "-3.0489  0.1981  1.6548  1.6395  3.1800  6.3324 "
      ]
     },
     "metadata": {},
     "output_type": "display_data"
    }
   ],
   "source": [
    "# what if x is binary?\n",
    "x <- rbinom(100, 1, 0.5)\n",
    "y <- 0.5 + 2 * x + e\n",
    "summary(y)"
   ]
  },
  {
   "cell_type": "code",
   "execution_count": 32,
   "metadata": {},
   "outputs": [
    {
     "data": {
      "image/png": "[encoded data removed]",
      "text/plain": [
       "plot without title"
      ]
     },
     "metadata": {},
     "output_type": "display_data"
    }
   ],
   "source": [
    "plot(x, y)"
   ]
  },
  {
   "cell_type": "markdown",
   "metadata": {},
   "source": [
    "이번에는 모수가 선형으로 정의된 푸아송 분포를 시뮬레이트 한다고 가정하자.\n",
    "$$ Y \\sim Poisson(\\mu) $$\n",
    "$$ log\\mu = \\beta_0 + \\beta_1x$$\n",
    "$$ \\beta_0 = 0.5, \\beta_1 = 0.3 $$\n"
   ]
  },
  {
   "cell_type": "code",
   "execution_count": 33,
   "metadata": {},
   "outputs": [
    {
     "data": {
      "text/plain": [
       "   Min. 1st Qu.  Median    Mean 3rd Qu.    Max. \n",
       "   0.00    1.00    1.00    1.55    2.00    6.00 "
      ]
     },
     "metadata": {},
     "output_type": "display_data"
    }
   ],
   "source": [
    "set.seed(1)\n",
    "x <- rnorm(100)\n",
    "log.mu <- 0.5 + 0.3* x\n",
    "y <- rpois(100, exp(log.mu))\n",
    "summary(y)"
   ]
  },
  {
   "cell_type": "code",
   "execution_count": 34,
   "metadata": {},
   "outputs": [
    {
     "data": {
      "image/png": "[encoded data removed]",
      "text/plain": [
       "plot without title"
      ]
     },
     "metadata": {},
     "output_type": "display_data"
    }
   ],
   "source": [
    "plot(x, y)"
   ]
  },
  {
   "cell_type": "markdown",
   "metadata": {},
   "source": [
    "## 4. Random Sampling\n",
    "\n",
    "`sample` 함수는 오브젝트의 집합으로부터 임의로 뽑을 수 있게 해준다."
   ]
  },
  {
   "cell_type": "code",
   "execution_count": 36,
   "metadata": {},
   "outputs": [
    {
     "name": "stdout",
     "output_type": "stream",
     "text": [
      "function (x, size, replace = FALSE, prob = NULL)  \n"
     ]
    }
   ],
   "source": [
    "str(sample)"
   ]
  },
  {
   "cell_type": "code",
   "execution_count": 37,
   "metadata": {},
   "outputs": [
    {
     "data": {
      "text/html": [
       "<ol class=list-inline>\n",
       "\t<li>3</li>\n",
       "\t<li>4</li>\n",
       "\t<li>5</li>\n",
       "\t<li>7</li>\n",
       "</ol>\n"
      ],
      "text/latex": [
       "\\begin{enumerate*}\n",
       "\\item 3\n",
       "\\item 4\n",
       "\\item 5\n",
       "\\item 7\n",
       "\\end{enumerate*}\n"
      ],
      "text/markdown": [
       "1. 3\n",
       "2. 4\n",
       "3. 5\n",
       "4. 7\n",
       "\n",
       "\n"
      ],
      "text/plain": [
       "[1] 3 4 5 7"
      ]
     },
     "metadata": {},
     "output_type": "display_data"
    }
   ],
   "source": [
    "set.seed(1)\n",
    "sample(1:10, 4)"
   ]
  },
  {
   "cell_type": "code",
   "execution_count": 38,
   "metadata": {},
   "outputs": [
    {
     "data": {
      "text/html": [
       "<ol class=list-inline>\n",
       "\t<li>'f'</li>\n",
       "\t<li>'w'</li>\n",
       "\t<li>'y'</li>\n",
       "\t<li>'p'</li>\n",
       "\t<li>'n'</li>\n",
       "</ol>\n"
      ],
      "text/latex": [
       "\\begin{enumerate*}\n",
       "\\item 'f'\n",
       "\\item 'w'\n",
       "\\item 'y'\n",
       "\\item 'p'\n",
       "\\item 'n'\n",
       "\\end{enumerate*}\n"
      ],
      "text/markdown": [
       "1. 'f'\n",
       "2. 'w'\n",
       "3. 'y'\n",
       "4. 'p'\n",
       "5. 'n'\n",
       "\n",
       "\n"
      ],
      "text/plain": [
       "[1] \"f\" \"w\" \"y\" \"p\" \"n\""
      ]
     },
     "metadata": {},
     "output_type": "display_data"
    }
   ],
   "source": [
    "sample(letters, 5)"
   ]
  },
  {
   "cell_type": "code",
   "execution_count": 42,
   "metadata": {},
   "outputs": [
    {
     "data": {
      "text/html": [
       "<ol class=list-inline>\n",
       "\t<li>8</li>\n",
       "\t<li>10</li>\n",
       "\t<li>3</li>\n",
       "\t<li>7</li>\n",
       "\t<li>2</li>\n",
       "\t<li>3</li>\n",
       "\t<li>4</li>\n",
       "\t<li>1</li>\n",
       "\t<li>4</li>\n",
       "\t<li>9</li>\n",
       "</ol>\n"
      ],
      "text/latex": [
       "\\begin{enumerate*}\n",
       "\\item 8\n",
       "\\item 10\n",
       "\\item 3\n",
       "\\item 7\n",
       "\\item 2\n",
       "\\item 3\n",
       "\\item 4\n",
       "\\item 1\n",
       "\\item 4\n",
       "\\item 9\n",
       "\\end{enumerate*}\n"
      ],
      "text/markdown": [
       "1. 8\n",
       "2. 10\n",
       "3. 3\n",
       "4. 7\n",
       "5. 2\n",
       "6. 3\n",
       "7. 4\n",
       "8. 1\n",
       "9. 4\n",
       "10. 9\n",
       "\n",
       "\n"
      ],
      "text/plain": [
       " [1]  8 10  3  7  2  3  4  1  4  9"
      ]
     },
     "metadata": {},
     "output_type": "display_data"
    }
   ],
   "source": [
    "# with replacement (중복 허용하여))\n",
    "sample(1:10, replace = TRUE)"
   ]
  }
 ],
 "metadata": {
  "kernelspec": {
   "display_name": "R",
   "language": "R",
   "name": "ir"
  },
  "language_info": {
   "codemirror_mode": "r",
   "file_extension": ".r",
   "mimetype": "text/x-r-source",
   "name": "R",
   "pygments_lexer": "r",
   "version": "3.4.3"
  }
 },
 "nbformat": 4,
 "nbformat_minor": 2
}
