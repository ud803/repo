{
 "cells": [
  {
   "cell_type": "markdown",
   "metadata": {},
   "source": [
    "# Dates and Times in R\n",
    "\n",
    "R은 고유의 시간 개념을 가지고 있다.\n",
    "\n",
    "- 날짜는 `Date` 클래스로 나타낸다\n",
    "- 시간은 `POSIXct` 혹은 `POSIXlt` 클래스로 나타낸다\n",
    "- 날짜는 내부적으로 1970-01-01 이후로 경과된 '날'의 수로 저장된다\n",
    "- 시간은 내부적으로 1970-01-01 이후로 경과된 '초'의 수로 저장된다\n",
    "\n",
    "\n",
    "### 1. Dates in R\n",
    "날짜는 `Date` 클래스로 표현하며, `as.Date()` 함수를 사용하여 문자열을 날짜로 바꿀 수 있다."
   ]
  },
  {
   "cell_type": "code",
   "execution_count": 1,
   "metadata": {},
   "outputs": [
    {
     "data": {
      "text/html": [
       "<time datetime=\"1970-01-01\">1970-01-01</time>"
      ],
      "text/latex": [
       "1970-01-01"
      ],
      "text/markdown": [
       "1970-01-01"
      ],
      "text/plain": [
       "[1] \"1970-01-01\""
      ]
     },
     "metadata": {},
     "output_type": "display_data"
    }
   ],
   "source": [
    "x <- as.Date(\"1970-01-01\")\n",
    "x"
   ]
  },
  {
   "cell_type": "code",
   "execution_count": 5,
   "metadata": {},
   "outputs": [
    {
     "data": {
      "text/html": [
       "0"
      ],
      "text/latex": [
       "0"
      ],
      "text/markdown": [
       "0"
      ],
      "text/plain": [
       "[1] 0"
      ]
     },
     "metadata": {},
     "output_type": "display_data"
    },
    {
     "data": {
      "text/html": [
       "3"
      ],
      "text/latex": [
       "3"
      ],
      "text/markdown": [
       "3"
      ],
      "text/plain": [
       "[1] 3"
      ]
     },
     "metadata": {},
     "output_type": "display_data"
    }
   ],
   "source": [
    "# 3 days from 1970 01 01\n",
    "unclass(x)\n",
    "unclass(as.Date(\"1970-01-04\"))"
   ]
  },
  {
   "cell_type": "markdown",
   "metadata": {},
   "source": [
    "### 2. Times in R\n",
    "\n",
    "- `POSIXct`는 아주 거대한 정수이다. 시간을 데이터 프레임 같은 곳에 저장하고 싶을 때 사용한다\n",
    "- `POSIXlt`는 "
   ]
  }
 ],
 "metadata": {
  "kernelspec": {
   "display_name": "R",
   "language": "R",
   "name": "ir"
  },
  "language_info": {
   "codemirror_mode": "r",
   "file_extension": ".r",
   "mimetype": "text/x-r-source",
   "name": "R",
   "pygments_lexer": "r",
   "version": "3.4.2"
  }
 },
 "nbformat": 4,
 "nbformat_minor": 2
}
