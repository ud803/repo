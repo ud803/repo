{
 "cells": [
  {
   "cell_type": "markdown",
   "metadata": {},
   "source": [
    "# Functions\n",
    "\n",
    "`Function`은 `function()` 함수를 통해 만들 수 있으며, R에서 '함수' 오브젝트로써 저장된다."
   ]
  },
  {
   "cell_type": "raw",
   "metadata": {},
   "source": [
    "f <- function(<argument>) {\n",
    "        ## Do something interesting\n",
    "}"
   ]
  },
  {
   "cell_type": "markdown",
   "metadata": {},
   "source": [
    "특히 R에서 함수는 '**First Class Objects**'인데, 다른 R 오브젝트처럼 취급될 수 있다는 점이다.\n",
    "\n",
    "- 함수는 다른 함수에 또 다른 인자(argument)로서 전달될 수 있다.\n",
    "- 함수는 중첩이 가능하다. 즉, 다른 함수 안에 또 다른 함수를 정의할 수 있다."
   ]
  },
  {
   "cell_type": "markdown",
   "metadata": {},
   "source": [
    "간단한 함수를 만들어보자."
   ]
  },
  {
   "cell_type": "code",
   "execution_count": 86,
   "metadata": {},
   "outputs": [
    {
     "data": {
      "text/html": [
       "4"
      ],
      "text/latex": [
       "4"
      ],
      "text/markdown": [
       "4"
      ],
      "text/plain": [
       "[1] 4"
      ]
     },
     "metadata": {},
     "output_type": "display_data"
    }
   ],
   "source": [
    "# 두 인자를 더하는 함수\n",
    "\n",
    "add2 <- function(x,y) {\n",
    "    x + y\n",
    "}\n",
    "\n",
    "# return을 지정해주지 않으면, 마지막 표현식을 자동으로 return 한다\n",
    "add2(1,3)"
   ]
  },
  {
   "cell_type": "code",
   "execution_count": 87,
   "metadata": {},
   "outputs": [
    {
     "data": {
      "text/html": [
       "<ol class=list-inline>\n",
       "\t<li>11</li>\n",
       "\t<li>21</li>\n",
       "</ol>\n"
      ],
      "text/latex": [
       "\\begin{enumerate*}\n",
       "\\item 11\n",
       "\\item 21\n",
       "\\end{enumerate*}\n"
      ],
      "text/markdown": [
       "1. 11\n",
       "2. 21\n",
       "\n",
       "\n"
      ],
      "text/plain": [
       "[1] 11 21"
      ]
     },
     "metadata": {},
     "output_type": "display_data"
    },
    {
     "data": {
      "text/html": [
       "<ol class=list-inline>\n",
       "\t<li>'3'</li>\n",
       "\t<li>'a'</li>\n",
       "</ol>\n"
      ],
      "text/latex": [
       "\\begin{enumerate*}\n",
       "\\item '3'\n",
       "\\item 'a'\n",
       "\\end{enumerate*}\n"
      ],
      "text/markdown": [
       "1. '3'\n",
       "2. 'a'\n",
       "\n",
       "\n"
      ],
      "text/plain": [
       "[1] \"3\" \"a\""
      ]
     },
     "metadata": {},
     "output_type": "display_data"
    }
   ],
   "source": [
    "# n 보다 큰 숫자를 반환하는 함수\n",
    "# n 값을 지정해놓으면, n을 적지 않아도 default로 10이 들어간다\n",
    "\n",
    "above10 <- function(x, n = 10) {\n",
    "    use <- x > n  # boolean mask\n",
    "    x[use]\n",
    "}\n",
    "\n",
    "above10(c(1,3,5,10,11,21,4,5,0,-2,3))\n",
    "above10(c(1,3,'a'), 10)   # what happened here?"
   ]
  },
  {
   "cell_type": "code",
   "execution_count": 88,
   "metadata": {
    "collapsed": true
   },
   "outputs": [],
   "source": [
    "# Column Mean을 구하는 함수\n",
    "\n",
    "columnmean <- function(y) {\n",
    "    nc <- ncol(y)\n",
    "    means <- numeric(nc)\n",
    "        # numeric은 길이 n의 double type 벡터를 생성한다.\n",
    "    \n",
    "    for(i in 1:nc) {\n",
    "        means[i] <- mean(y[, i])\n",
    "    }\n",
    "    \n",
    "    return (means)\n",
    "}"
   ]
  },
  {
   "cell_type": "code",
   "execution_count": 89,
   "metadata": {},
   "outputs": [
    {
     "data": {
      "text/html": [
       "<ol class=list-inline>\n",
       "\t<li>&lt;NA&gt;</li>\n",
       "\t<li>4.5</li>\n",
       "\t<li>5.5</li>\n",
       "\t<li>6.5</li>\n",
       "\t<li>7.5</li>\n",
       "</ol>\n"
      ],
      "text/latex": [
       "\\begin{enumerate*}\n",
       "\\item <NA>\n",
       "\\item 4.5\n",
       "\\item 5.5\n",
       "\\item 6.5\n",
       "\\item 7.5\n",
       "\\end{enumerate*}\n"
      ],
      "text/markdown": [
       "1. &lt;NA&gt;\n",
       "2. 4.5\n",
       "3. 5.5\n",
       "4. 6.5\n",
       "5. 7.5\n",
       "\n",
       "\n"
      ],
      "text/plain": [
       "[1]  NA 4.5 5.5 6.5 7.5"
      ]
     },
     "metadata": {},
     "output_type": "display_data"
    }
   ],
   "source": [
    "matrix_1 = matrix(1:10, 2, 5, byrow=T)\n",
    "\n",
    "matrix_1[1,1] = NA\n",
    "\n",
    "columnmean(matrix_1)"
   ]
  },
  {
   "cell_type": "code",
   "execution_count": 90,
   "metadata": {
    "collapsed": true
   },
   "outputs": [],
   "source": [
    "# 이번에는 NA 값을 제외하고 계산한다.\n",
    "\n",
    "columnmean <- function(y, removeNA = TRUE) {\n",
    "    nc <- ncol(y)\n",
    "    means <- numeric(nc)\n",
    "        # numeric은 길이 n의 double type 벡터를 생성한다.\n",
    "    \n",
    "    for(i in 1:nc) {\n",
    "        means[i] <- mean(y[, i], na.rm = removeNA)\n",
    "            # NA 제\n",
    "    }\n",
    "    \n",
    "    return (means)\n",
    "}"
   ]
  },
  {
   "cell_type": "code",
   "execution_count": 91,
   "metadata": {
    "scrolled": true
   },
   "outputs": [
    {
     "data": {
      "text/html": [
       "<ol class=list-inline>\n",
       "\t<li>&lt;NA&gt;</li>\n",
       "\t<li>4.5</li>\n",
       "\t<li>5.5</li>\n",
       "\t<li>6.5</li>\n",
       "\t<li>7.5</li>\n",
       "</ol>\n"
      ],
      "text/latex": [
       "\\begin{enumerate*}\n",
       "\\item <NA>\n",
       "\\item 4.5\n",
       "\\item 5.5\n",
       "\\item 6.5\n",
       "\\item 7.5\n",
       "\\end{enumerate*}\n"
      ],
      "text/markdown": [
       "1. &lt;NA&gt;\n",
       "2. 4.5\n",
       "3. 5.5\n",
       "4. 6.5\n",
       "5. 7.5\n",
       "\n",
       "\n"
      ],
      "text/plain": [
       "[1]  NA 4.5 5.5 6.5 7.5"
      ]
     },
     "metadata": {},
     "output_type": "display_data"
    },
    {
     "data": {
      "text/html": [
       "<ol class=list-inline>\n",
       "\t<li>6</li>\n",
       "\t<li>4.5</li>\n",
       "\t<li>5.5</li>\n",
       "\t<li>6.5</li>\n",
       "\t<li>7.5</li>\n",
       "</ol>\n"
      ],
      "text/latex": [
       "\\begin{enumerate*}\n",
       "\\item 6\n",
       "\\item 4.5\n",
       "\\item 5.5\n",
       "\\item 6.5\n",
       "\\item 7.5\n",
       "\\end{enumerate*}\n"
      ],
      "text/markdown": [
       "1. 6\n",
       "2. 4.5\n",
       "3. 5.5\n",
       "4. 6.5\n",
       "5. 7.5\n",
       "\n",
       "\n"
      ],
      "text/plain": [
       "[1] 6.0 4.5 5.5 6.5 7.5"
      ]
     },
     "metadata": {},
     "output_type": "display_data"
    }
   ],
   "source": [
    "columnmean(matrix_1, FALSE)\n",
    "columnmean(matrix_1, TRUE)"
   ]
  },
  {
   "cell_type": "markdown",
   "metadata": {},
   "source": [
    "### 1. Function Arguments\n",
    "\n",
    "함수는 `named argument`를 갖는데, 이는 기본적으로 `default` 값들을 가지고 있다.\n",
    "\n",
    "- `formal argument`는 함수 정의에 포함된 인자들이다.\n",
    "- `formals` 함수는 함수의 모든 형식 인자를 반환한다.\n",
    "- R에서 모든 함수가 형식 인자를 사용하는 것은 아니다.\n",
    "- 함수의 인자는 없을 수도 있고, 기본값(default)을 가질 수도 있다."
   ]
  },
  {
   "cell_type": "markdown",
   "metadata": {},
   "source": [
    "함수는 '위치'를 통해서, 혹은 '인자의 이름'을 통해서 인자와 매칭된다.\n",
    "\n",
    "따라서 아래 표현식은 모두 같은 것들이다."
   ]
  },
  {
   "cell_type": "code",
   "execution_count": 92,
   "metadata": {
    "scrolled": true
   },
   "outputs": [
    {
     "data": {
      "text/html": [
       "0.956156696618844"
      ],
      "text/latex": [
       "0.956156696618844"
      ],
      "text/markdown": [
       "0.956156696618844"
      ],
      "text/plain": [
       "[1] 0.9561567"
      ]
     },
     "metadata": {},
     "output_type": "display_data"
    },
    {
     "data": {
      "text/html": [
       "0.956156696618844"
      ],
      "text/latex": [
       "0.956156696618844"
      ],
      "text/markdown": [
       "0.956156696618844"
      ],
      "text/plain": [
       "[1] 0.9561567"
      ]
     },
     "metadata": {},
     "output_type": "display_data"
    },
    {
     "data": {
      "text/html": [
       "0.956156696618844"
      ],
      "text/latex": [
       "0.956156696618844"
      ],
      "text/markdown": [
       "0.956156696618844"
      ],
      "text/plain": [
       "[1] 0.9561567"
      ]
     },
     "metadata": {},
     "output_type": "display_data"
    },
    {
     "data": {
      "text/html": [
       "0.956156696618844"
      ],
      "text/latex": [
       "0.956156696618844"
      ],
      "text/markdown": [
       "0.956156696618844"
      ],
      "text/plain": [
       "[1] 0.9561567"
      ]
     },
     "metadata": {},
     "output_type": "display_data"
    },
    {
     "data": {
      "text/html": [
       "0.956156696618844"
      ],
      "text/latex": [
       "0.956156696618844"
      ],
      "text/markdown": [
       "0.956156696618844"
      ],
      "text/plain": [
       "[1] 0.9561567"
      ]
     },
     "metadata": {},
     "output_type": "display_data"
    },
    {
     "name": "stderr",
     "output_type": "stream",
     "text": [
      "Warning message in if (na.rm) \"na.or.complete\" else \"everything\":\n",
      "“length > 1 이라는 조건이 있고, 첫번째 요소만이 사용될 것입니다”"
     ]
    },
    {
     "data": {
      "text/html": [
       "&lt;NA&gt;"
      ],
      "text/latex": [
       "<NA>"
      ],
      "text/markdown": [
       "&lt;NA&gt;"
      ],
      "text/plain": [
       "[1] NA"
      ]
     },
     "metadata": {},
     "output_type": "display_data"
    }
   ],
   "source": [
    "mydata <- rnorm(100)\n",
    "sd(mydata)\n",
    "sd(x = mydata)\n",
    "sd(x = mydata, na.rm = FALSE)\n",
    "sd(na.rm = FALSE, x = mydata)\n",
    "sd(mydata, FALSE)\n",
    "sd(FALSE, mydata) # 위치가 잘못됨"
   ]
  },
  {
   "cell_type": "markdown",
   "metadata": {},
   "source": [
    "위치를 통해서, 그리고 이름을 통해서 매칭하는 것을 섞어서 쓸 수도 있는데, 이름 매칭의 경우 먼저 '인자들의 리스트'에서 제외되고, 남은 인자들의 위치를 토대로 나머지가 매칭이 된다."
   ]
  },
  {
   "cell_type": "code",
   "execution_count": 1,
   "metadata": {},
   "outputs": [
    {
     "data": {
      "text/html": [
       "<pre class=language-r><code>function (formula, data, subset, weights, na.action, method = \"qr\", \n",
       "<span style=white-space:pre-wrap>    model = TRUE, x = FALSE, y = FALSE, qr = TRUE, singular.ok = TRUE, </span>\n",
       "<span style=white-space:pre-wrap>    contrasts = NULL, offset, ...) </span>\n",
       "NULL</code></pre>"
      ],
      "text/latex": [
       "\\begin{minted}{r}\n",
       "function (formula, data, subset, weights, na.action, method = \"qr\", \n",
       "    model = TRUE, x = FALSE, y = FALSE, qr = TRUE, singular.ok = TRUE, \n",
       "    contrasts = NULL, offset, ...) \n",
       "NULL\n",
       "\\end{minted}"
      ],
      "text/markdown": [
       "```r\n",
       "function (formula, data, subset, weights, na.action, method = \"qr\", \n",
       "    model = TRUE, x = FALSE, y = FALSE, qr = TRUE, singular.ok = TRUE, \n",
       "    contrasts = NULL, offset, ...) \n",
       "NULL\n",
       "```"
      ],
      "text/plain": [
       "function (formula, data, subset, weights, na.action, method = \"qr\", \n",
       "    model = TRUE, x = FALSE, y = FALSE, qr = TRUE, singular.ok = TRUE, \n",
       "    contrasts = NULL, offset, ...) \n",
       "NULL"
      ]
     },
     "metadata": {},
     "output_type": "display_data"
    }
   ],
   "source": [
    "args(lm)"
   ]
  },
  {
   "cell_type": "code",
   "execution_count": 95,
   "metadata": {},
   "outputs": [
    {
     "ename": "ERROR",
     "evalue": "Error in lm(data = mydata, y ~ x, model = FALSE, 1:100): 사용되지 않은 인자 (data = mydata, model = FALSE, 1:100)\n",
     "output_type": "error",
     "traceback": [
      "Error in lm(data = mydata, y ~ x, model = FALSE, 1:100): 사용되지 않은 인자 (data = mydata, model = FALSE, 1:100)\nTraceback:\n"
     ]
    }
   ],
   "source": [
    "# 위 lm 함수에서, 아래 두 개의 표현식은 동일하다.\n",
    "\n",
    "lm(data = mydata, y ~ x, model = FALSE, 1:100)\n",
    "lm(y ~ x, mydata, 1:100, model = FALSE)"
   ]
  },
  {
   "cell_type": "markdown",
   "metadata": {},
   "source": [
    "### 2. Lazy Evaluation\n",
    "R의 또다른 특성 중 하나는 'Lazy Evaluation'이다.\n",
    "\n",
    "함수에 전달된 인자들은 '게으르게', 필요할 때만 검사를 받는다."
   ]
  },
  {
   "cell_type": "code",
   "execution_count": 96,
   "metadata": {},
   "outputs": [
    {
     "data": {
      "text/html": [
       "4"
      ],
      "text/latex": [
       "4"
      ],
      "text/markdown": [
       "4"
      ],
      "text/plain": [
       "[1] 4"
      ]
     },
     "metadata": {},
     "output_type": "display_data"
    }
   ],
   "source": [
    "f <- function(a, b) {\n",
    "    a^2\n",
    "}\n",
    "f(2)\n",
    "\n",
    "# 이 함수는 인자 `b`를 사용하지 않는데, \n",
    "# 함수에 인자가 한 개만 전달하더라도 오류가 발생하지 않는다."
   ]
  },
  {
   "cell_type": "code",
   "execution_count": 97,
   "metadata": {},
   "outputs": [
    {
     "name": "stdout",
     "output_type": "stream",
     "text": [
      "[1] 45\n"
     ]
    },
    {
     "ename": "ERROR",
     "evalue": "Error in print(b): 기본값이 없는 인수 \"b\"가 누락되어 있습니다\n",
     "output_type": "error",
     "traceback": [
      "Error in print(b): 기본값이 없는 인수 \"b\"가 누락되어 있습니다\nTraceback:\n",
      "1. f(45)",
      "2. print(b)   # at line 3 of file <text>"
     ]
    }
   ],
   "source": [
    "f <- function(a, b) {\n",
    "    print(a)\n",
    "    print(b)\n",
    "}\n",
    "f(45)\n",
    "\n",
    "# 여기서 주의해야 할 점은 에러가 발생하기 전에 45는 출력이 되었다는 점이다\n",
    "# 이는 인자 'b'가 'a'의 출력 직전까지 검되지 않았다는 것을 의미한"
   ]
  },
  {
   "cell_type": "markdown",
   "metadata": {},
   "source": [
    "### 3. \"...\" Argument\n",
    "1) `...` 인자는 일반적으로 전달되는 인자들을 나타낼 때 사용된다.\n",
    "\n",
    "또한 다른 함수를 상속받아서 기존 함수의 인자 리스트를 반복하기 싫을 때도 사용한다."
   ]
  },
  {
   "cell_type": "code",
   "execution_count": 98,
   "metadata": {
    "collapsed": true
   },
   "outputs": [],
   "source": [
    "myplot <- function(x, y, type = \"l\", ...) {\n",
    "    plot(x, y, type = type, ...)\n",
    "}\n",
    "\n",
    "# 기존 plot함수의 ... 인자를 사용한다는 의"
   ]
  },
  {
   "cell_type": "markdown",
   "metadata": {},
   "source": [
    "2) 또한 제네릭 함수에서도 사용되는데, 이는 나중에 자세히 살펴보겠따."
   ]
  },
  {
   "cell_type": "code",
   "execution_count": 99,
   "metadata": {},
   "outputs": [
    {
     "data": {
      "text/html": [
       "<pre class=language-r><code>function (x, ...) \n",
       "UseMethod(\"mean\")</code></pre>"
      ],
      "text/latex": [
       "\\begin{minted}{r}\n",
       "function (x, ...) \n",
       "UseMethod(\"mean\")\n",
       "\\end{minted}"
      ],
      "text/markdown": [
       "```r\n",
       "function (x, ...) \n",
       "UseMethod(\"mean\")\n",
       "```"
      ],
      "text/plain": [
       "function (x, ...) \n",
       "UseMethod(\"mean\")\n",
       "<bytecode: 0x55cd4f3f08b8>\n",
       "<environment: namespace:base>"
      ]
     },
     "metadata": {},
     "output_type": "display_data"
    }
   ],
   "source": [
    "mean"
   ]
  },
  {
   "cell_type": "markdown",
   "metadata": {},
   "source": [
    "3) 마지막으로 `...`는 전달될 인자의 개수를 사전에 알 수 없을 경우 사용한다."
   ]
  },
  {
   "cell_type": "code",
   "execution_count": 100,
   "metadata": {},
   "outputs": [
    {
     "data": {
      "text/html": [
       "<pre class=language-r><code>function (..., sep = \" \", collapse = NULL) \n",
       "NULL</code></pre>"
      ],
      "text/latex": [
       "\\begin{minted}{r}\n",
       "function (..., sep = \" \", collapse = NULL) \n",
       "NULL\n",
       "\\end{minted}"
      ],
      "text/markdown": [
       "```r\n",
       "function (..., sep = \" \", collapse = NULL) \n",
       "NULL\n",
       "```"
      ],
      "text/plain": [
       "function (..., sep = \" \", collapse = NULL) \n",
       "NULL"
      ]
     },
     "metadata": {},
     "output_type": "display_data"
    }
   ],
   "source": [
    "args(paste)"
   ]
  },
  {
   "cell_type": "code",
   "execution_count": 101,
   "metadata": {},
   "outputs": [
    {
     "data": {
      "text/html": [
       "<pre class=language-r><code>function (..., file = \"\", sep = \" \", fill = FALSE, labels = NULL, \n",
       "<span style=white-space:pre-wrap>    append = FALSE) </span>\n",
       "NULL</code></pre>"
      ],
      "text/latex": [
       "\\begin{minted}{r}\n",
       "function (..., file = \"\", sep = \" \", fill = FALSE, labels = NULL, \n",
       "    append = FALSE) \n",
       "NULL\n",
       "\\end{minted}"
      ],
      "text/markdown": [
       "```r\n",
       "function (..., file = \"\", sep = \" \", fill = FALSE, labels = NULL, \n",
       "    append = FALSE) \n",
       "NULL\n",
       "```"
      ],
      "text/plain": [
       "function (..., file = \"\", sep = \" \", fill = FALSE, labels = NULL, \n",
       "    append = FALSE) \n",
       "NULL"
      ]
     },
     "metadata": {},
     "output_type": "display_data"
    }
   ],
   "source": [
    "args(cat)"
   ]
  },
  {
   "cell_type": "code",
   "execution_count": 102,
   "metadata": {},
   "outputs": [
    {
     "data": {
      "text/html": [
       "'a:b'"
      ],
      "text/latex": [
       "'a:b'"
      ],
      "text/markdown": [
       "'a:b'"
      ],
      "text/plain": [
       "[1] \"a:b\""
      ]
     },
     "metadata": {},
     "output_type": "display_data"
    },
    {
     "data": {
      "text/html": [
       "'a b :'"
      ],
      "text/latex": [
       "'a b :'"
      ],
      "text/markdown": [
       "'a b :'"
      ],
      "text/plain": [
       "[1] \"a b :\""
      ]
     },
     "metadata": {},
     "output_type": "display_data"
    }
   ],
   "source": [
    "paste(\"a\", \"b\", sep= \":\")\n",
    "paste(\"a\", \"b\", se = \":\")\n",
    "\n",
    "# 차이점은 무엇일까?"
   ]
  },
  {
   "cell_type": "markdown",
   "metadata": {},
   "source": [
    "### 4. Binding Values to Symbol\n",
    "\n",
    "R은 주어진 심볼에 어떤 값을 할당할지 어떻게 아는 것일까.\n",
    "\n",
    "예를 들어, lm 함수는 기본 `stats` 패키지에 들어있는 함수이지만, 아래와 같이 할당한다면 R은 어떻게 받아들일까?"
   ]
  },
  {
   "cell_type": "code",
   "execution_count": 103,
   "metadata": {},
   "outputs": [
    {
     "data": {
      "text/html": [
       "<pre class=language-r><code>function (x) \n",
       "{\n",
       "<span style=white-space:pre-wrap>    x * x</span>\n",
       "}</code></pre>"
      ],
      "text/latex": [
       "\\begin{minted}{r}\n",
       "function (x) \n",
       "\\{\n",
       "    x * x\n",
       "\\}\n",
       "\\end{minted}"
      ],
      "text/markdown": [
       "```r\n",
       "function (x) \n",
       "{\n",
       "    x * x\n",
       "}\n",
       "```"
      ],
      "text/plain": [
       "function(x) { x * x }"
      ]
     },
     "metadata": {},
     "output_type": "display_data"
    }
   ],
   "source": [
    "lm <- function(x) { x * x }\n",
    "lm"
   ]
  },
  {
   "cell_type": "markdown",
   "metadata": {},
   "source": [
    "R이 심볼에 값을 할당할때, 여러 `environment`를 거쳐서 적절한 값을 찾으려고 노력한다.\n",
    "\n",
    "커맨드 라인에서, R 오브젝트의 값을 알고 싶을 경우, 순서는 대략 다음과 같다.\n",
    "\n",
    "1. 요청받은 심볼 이름과 매칭하는 오브젝트를 전역 환경에서 찾는다.\n",
    "2. 검색 리스트에서 각 패키지의 이름 명단을 찾는다.\n",
    "    (이름 명단은 `search` 함수를 통해 볼 수 있다.)"
   ]
  },
  {
   "cell_type": "code",
   "execution_count": 104,
   "metadata": {},
   "outputs": [
    {
     "data": {
      "text/html": [
       "<ol class=list-inline>\n",
       "\t<li>'.GlobalEnv'</li>\n",
       "\t<li>'jupyter:irkernel'</li>\n",
       "\t<li>'package:stats'</li>\n",
       "\t<li>'package:graphics'</li>\n",
       "\t<li>'package:grDevices'</li>\n",
       "\t<li>'package:utils'</li>\n",
       "\t<li>'package:datasets'</li>\n",
       "\t<li>'package:methods'</li>\n",
       "\t<li>'Autoloads'</li>\n",
       "\t<li>'package:base'</li>\n",
       "</ol>\n"
      ],
      "text/latex": [
       "\\begin{enumerate*}\n",
       "\\item '.GlobalEnv'\n",
       "\\item 'jupyter:irkernel'\n",
       "\\item 'package:stats'\n",
       "\\item 'package:graphics'\n",
       "\\item 'package:grDevices'\n",
       "\\item 'package:utils'\n",
       "\\item 'package:datasets'\n",
       "\\item 'package:methods'\n",
       "\\item 'Autoloads'\n",
       "\\item 'package:base'\n",
       "\\end{enumerate*}\n"
      ],
      "text/markdown": [
       "1. '.GlobalEnv'\n",
       "2. 'jupyter:irkernel'\n",
       "3. 'package:stats'\n",
       "4. 'package:graphics'\n",
       "5. 'package:grDevices'\n",
       "6. 'package:utils'\n",
       "7. 'package:datasets'\n",
       "8. 'package:methods'\n",
       "9. 'Autoloads'\n",
       "10. 'package:base'\n",
       "\n",
       "\n"
      ],
      "text/plain": [
       " [1] \".GlobalEnv\"        \"jupyter:irkernel\"  \"package:stats\"    \n",
       " [4] \"package:graphics\"  \"package:grDevices\" \"package:utils\"    \n",
       " [7] \"package:datasets\"  \"package:methods\"   \"Autoloads\"        \n",
       "[10] \"package:base\"     "
      ]
     },
     "metadata": {},
     "output_type": "display_data"
    }
   ],
   "source": [
    "search()"
   ]
  },
  {
   "cell_type": "markdown",
   "metadata": {},
   "source": [
    "- 결과적으로 전역 환경이 항상 가장 먼저 탐색된다.\n",
    "- 그리고 검색 리스트에서 패키지의 순서도 영향을 미친다.\n",
    "- 사용자는 R이 시작할 때 어떤 패키지를 불러올 지 결정할 수 있다.\n",
    "- 사용자가 `library` 명령어로 패키지를 불러오면, 기본적으로 리스트에서 2번째에 위치하게 되고 기존의 리스트는 한 칸씩 밀린다\n",
    "- **R은 함수와 함수가 아닌 오브젝트의 이름 공간을 구분해 두었다. 따라서 오브젝트 c와 함수 c는 별개이다.**"
   ]
  },
  {
   "cell_type": "markdown",
   "metadata": {},
   "source": [
    "### 5. Scoping Rules\n",
    "\n",
    "R에서 탐색 규칙은 기존 S와는 많이 다르다.\n",
    "\n",
    "- 탐색 규칙은 값이 함수의 **자유 변수(free variable)**와 어떻게 연관되는지 결정한다\n",
    "- R은 '사전적 범위'(*lexical scoping*) 혹은 '정적 범위'(*static scoping*) 방식을 사용한다. 이와 다른 것으로 '동적 범위'(*dynamic scoping*)이 있다.\n",
    "- R이 어떻게 탐색 리스트를 사용해 심볼에 값을 할당하느냐도 탐색 규칙과 연관돼 있 \n",
    "- 사전적 범위는 통계적 계산을 단순화하는 데 아주 유용하다\n",
    "\n",
    "R에서의 사전적 범위를 다시 말하면,\n",
    "\n",
    "*\"자유 변수의 값들은 함수가 정의된 환경 내에서 탐색된다\"*는 것을 의미한다.\n",
    "\n",
    "환경(environment)이란,\n",
    "\n",
    "- (symbol, value)의 쌍이다. 예를 들면, `x`는 심볼이고, `3.14`는 값이다.\n",
    "- 모든 환경은 부모 환경을 갖고 있다. 한 환경이 여러 자식 환경을 갖는 것도 가능하다.\n",
    "- 부모 환경이 없는 유일한 환경은 빈 환경(empty env-)이다.\n",
    "- '함수 + 환경' = 종결(closure) 혹은 함수의 종결이다"
   ]
  },
  {
   "cell_type": "code",
   "execution_count": 105,
   "metadata": {
    "collapsed": true
   },
   "outputs": [],
   "source": [
    "f <- function(x, y) {\n",
    "    x^2 + y / z\n",
    "}"
   ]
  },
  {
   "cell_type": "markdown",
   "metadata": {},
   "source": [
    "위 함수는 2개의 형식 인자인 `x`와 `y`를 가지고 있다. \n",
    "\n",
    "함수의 본문을 보면, 다른 변수인 `z`가 있는데, 이를 **free variable**이라고 부른다.\n",
    "\n",
    "이러한 자유 변수는 형식 인자가 아니며, 지역 변수(local variable)도 아니다. \n",
    "\n",
    "여기서 탐색 규칙은 자유 변수에 어떻게 값이 할당되는지를 결정한다."
   ]
  },
  {
   "cell_type": "markdown",
   "metadata": {},
   "source": [
    "따라서, 자유 변수의 값을 찾을 때,\n",
    "\n",
    "- 심볼의 값이 함수가 정의된 환경에 없을 경우, 부모 환경으로 넘어간다\n",
    "- 부모 환경을 거슬러 오르다가 최상위 환경에서 멈춘다 ;보통 전역 환경이거나, 패키지의 이름공간이다\n",
    "- 최상위 환경 이후, 탐색은 빈 환경까지 내려간다. 만약 그래도 찾을 수 없다면 에러가 발생한다. \n",
    "\n",
    "\n",
    "#### 이 모든 것이 중요한 이유는, R에서는 다른 함수의 내부에 또 다른 함수를 정의할 수 있기 때문이다."
   ]
  },
  {
   "cell_type": "code",
   "execution_count": 106,
   "metadata": {
    "collapsed": true
   },
   "outputs": [],
   "source": [
    "# 이 함수는 또 다른 함수를 값으로서 반환한다.\n",
    "\n",
    "make.power <- function(n) {\n",
    "    pow <- function(x) {\n",
    "        x^n\n",
    "    }\n",
    "    pow\n",
    "}"
   ]
  },
  {
   "cell_type": "code",
   "execution_count": 107,
   "metadata": {},
   "outputs": [
    {
     "data": {
      "text/html": [
       "64"
      ],
      "text/latex": [
       "64"
      ],
      "text/markdown": [
       "64"
      ],
      "text/plain": [
       "[1] 64"
      ]
     },
     "metadata": {},
     "output_type": "display_data"
    }
   ],
   "source": [
    "make.power(3)(4) # 4^3 or x^n"
   ]
  },
  {
   "cell_type": "code",
   "execution_count": 108,
   "metadata": {},
   "outputs": [
    {
     "data": {
      "text/html": [
       "27"
      ],
      "text/latex": [
       "27"
      ],
      "text/markdown": [
       "27"
      ],
      "text/plain": [
       "[1] 27"
      ]
     },
     "metadata": {},
     "output_type": "display_data"
    },
    {
     "data": {
      "text/html": [
       "4"
      ],
      "text/latex": [
       "4"
      ],
      "text/markdown": [
       "4"
      ],
      "text/plain": [
       "[1] 4"
      ]
     },
     "metadata": {},
     "output_type": "display_data"
    }
   ],
   "source": [
    "cube <- make.power(3)\n",
    "square <- make.power(2)\n",
    "cube(3)\n",
    "square(2)"
   ]
  },
  {
   "cell_type": "code",
   "execution_count": 109,
   "metadata": {
    "scrolled": true
   },
   "outputs": [
    {
     "data": {
      "text/html": [
       "<ol class=list-inline>\n",
       "\t<li>'n'</li>\n",
       "\t<li>'pow'</li>\n",
       "</ol>\n"
      ],
      "text/latex": [
       "\\begin{enumerate*}\n",
       "\\item 'n'\n",
       "\\item 'pow'\n",
       "\\end{enumerate*}\n"
      ],
      "text/markdown": [
       "1. 'n'\n",
       "2. 'pow'\n",
       "\n",
       "\n"
      ],
      "text/plain": [
       "[1] \"n\"   \"pow\""
      ]
     },
     "metadata": {},
     "output_type": "display_data"
    },
    {
     "data": {
      "text/html": [
       "3"
      ],
      "text/latex": [
       "3"
      ],
      "text/markdown": [
       "3"
      ],
      "text/plain": [
       "[1] 3"
      ]
     },
     "metadata": {},
     "output_type": "display_data"
    }
   ],
   "source": [
    "# What's in a function's environment?\n",
    "ls(environment(cube))\n",
    "get(\"n\", environment(cube))"
   ]
  },
  {
   "cell_type": "markdown",
   "metadata": {},
   "source": [
    "### 6. Lexical vs. Dynamic Scoping"
   ]
  },
  {
   "cell_type": "code",
   "execution_count": 3,
   "metadata": {
    "collapsed": true
   },
   "outputs": [],
   "source": [
    "# Lexical Scoping vs. Dynamic Scoping\n",
    "y <- 10\n",
    "\n",
    "f <- function(x) {\n",
    "    y <- 2\n",
    "    y^2 + g(x)\n",
    "}\n",
    "\n",
    "g <- function(x) {\n",
    "    x+y\n",
    "}"
   ]
  },
  {
   "cell_type": "code",
   "execution_count": 4,
   "metadata": {},
   "outputs": [
    {
     "data": {
      "text/html": [
       "17"
      ],
      "text/latex": [
       "17"
      ],
      "text/markdown": [
       "17"
      ],
      "text/plain": [
       "[1] 17"
      ]
     },
     "metadata": {},
     "output_type": "display_data"
    }
   ],
   "source": [
    "# What is the value of f(3)?\n",
    "f(3)"
   ]
  },
  {
   "cell_type": "markdown",
   "metadata": {},
   "source": [
    "Lexical Scoping의 경우, 함수 g에서 자유 변수인 `y`의 값은 함수가 **정의된** 환경에서 탐색된다. 이 경우에는 전역 환경이므로, `y`의 값은 10이다.\n",
    "\n",
    "Dynamic Scoping의 경우, `y`의 값은 함수가 **호출된** 환경에서 탐색된다. (parent frame 이라고도 부른다.)\n",
    "따라서 `y`의 값은 2가 된다.\n",
    "\n",
    "### 7. Consequences of Lexical Scoping\n",
    "\n",
    "결과적으로,\n",
    "\n",
    "- R의 모든 오브젝트는 메모리에 저장되어야 한다.\n",
    "- 모든 함수는 정의된 환경에 대한 포인터를 갖는다."
   ]
  }
 ],
 "metadata": {
  "kernelspec": {
   "display_name": "R",
   "language": "R",
   "name": "ir"
  },
  "language_info": {
   "codemirror_mode": "r",
   "file_extension": ".r",
   "mimetype": "text/x-r-source",
   "name": "R",
   "pygments_lexer": "r",
   "version": "3.4.3"
  }
 },
 "nbformat": 4,
 "nbformat_minor": 2
}
