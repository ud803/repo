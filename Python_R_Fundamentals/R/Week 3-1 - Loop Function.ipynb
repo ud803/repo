{
 "cells": [
  {
   "cell_type": "markdown",
   "metadata": {},
   "source": [
    "# Loop Function"
   ]
  },
  {
   "cell_type": "markdown",
   "metadata": {},
   "source": [
    "앞서 Week 2에서 배운 `for, while` 반복문은 스크립트에서 유용하지만 커맨드라인에서는 사용이 쉽지 않다.\n",
    "\n",
    "커맨드라인에서의 반복문을 쉽게 해주는 명령어를 배워보자.\n",
    "\n",
    "- `lapply` : 리스트 내용을 반복하고 각 원소에 함수를 적용한다\n",
    "- `sapply` : `lapply`와 같지만 결과를 단순화해서 보여준다\n",
    "- `apply` : 배열에 함수를 적용하여 마진에 표시한다\n",
    "- `tapply` : 벡터의 부분집합에 함수를 적용한다\n",
    "- `mapply` : `lapply`의 다변량 버전이다\n",
    "- `split` : 주로 `lapply`와 함께 보조로 쓰인다"
   ]
  },
  {
   "cell_type": "markdown",
   "metadata": {},
   "source": [
    "## 1. `lapply`\n",
    "\n",
    "`lapply`는 3개의 인자를 받는다.\n",
    "\n",
    "1. 리스트\n",
    "2. 적용할 함수 (혹은 함수의 이름) - FUN\n",
    "3. '...' 인자를 통한 다른 인자"
   ]
  },
  {
   "cell_type": "code",
   "execution_count": 19,
   "metadata": {},
   "outputs": [
    {
     "data": {
      "text/html": [
       "<pre class=language-r><code>function (X, FUN, ...) \n",
       "NULL</code></pre>"
      ],
      "text/latex": [
       "\\begin{minted}{r}\n",
       "function (X, FUN, ...) \n",
       "NULL\n",
       "\\end{minted}"
      ],
      "text/markdown": [
       "```r\n",
       "function (X, FUN, ...) \n",
       "NULL\n",
       "```"
      ],
      "text/plain": [
       "function (X, FUN, ...) \n",
       "NULL"
      ]
     },
     "metadata": {},
     "output_type": "display_data"
    }
   ],
   "source": [
    "args(lapply)"
   ]
  },
  {
   "cell_type": "markdown",
   "metadata": {},
   "source": [
    "만약 x가 리스트가 아니면, as.list 함수를 통해 리스트로 강제 변형된다.\n",
    "\n",
    "실제 반복문은 내부적으로 C 코드를 통해 진행된다."
   ]
  },
  {
   "cell_type": "code",
   "execution_count": 9,
   "metadata": {},
   "outputs": [
    {
     "data": {
      "text/html": [
       "<dl>\n",
       "\t<dt>$a</dt>\n",
       "\t\t<dd>3</dd>\n",
       "\t<dt>$b</dt>\n",
       "\t\t<dd>0.372456912447725</dd>\n",
       "</dl>\n"
      ],
      "text/latex": [
       "\\begin{description}\n",
       "\\item[\\$a] 3\n",
       "\\item[\\$b] 0.372456912447725\n",
       "\\end{description}\n"
      ],
      "text/markdown": [
       "$a\n",
       ":   3\n",
       "$b\n",
       ":   0.372456912447725\n",
       "\n",
       "\n"
      ],
      "text/plain": [
       "$a\n",
       "[1] 3\n",
       "\n",
       "$b\n",
       "[1] 0.3724569\n"
      ]
     },
     "metadata": {},
     "output_type": "display_data"
    }
   ],
   "source": [
    "x <- list(a = 1:5, b = rnorm(10))\n",
    "lapply(x, mean)"
   ]
  },
  {
   "cell_type": "code",
   "execution_count": 15,
   "metadata": {},
   "outputs": [
    {
     "data": {
      "text/html": [
       "<dl>\n",
       "\t<dt>$a</dt>\n",
       "\t\t<dd>2.5</dd>\n",
       "\t<dt>$b</dt>\n",
       "\t\t<dd>-0.184603925417435</dd>\n",
       "\t<dt>$c</dt>\n",
       "\t\t<dd>1.07043866888864</dd>\n",
       "\t<dt>$d</dt>\n",
       "\t\t<dd>5.02955196607704</dd>\n",
       "</dl>\n"
      ],
      "text/latex": [
       "\\begin{description}\n",
       "\\item[\\$a] 2.5\n",
       "\\item[\\$b] -0.184603925417435\n",
       "\\item[\\$c] 1.07043866888864\n",
       "\\item[\\$d] 5.02955196607704\n",
       "\\end{description}\n"
      ],
      "text/markdown": [
       "$a\n",
       ":   2.5\n",
       "$b\n",
       ":   -0.184603925417435\n",
       "$c\n",
       ":   1.07043866888864\n",
       "$d\n",
       ":   5.02955196607704\n",
       "\n",
       "\n"
      ],
      "text/plain": [
       "$a\n",
       "[1] 2.5\n",
       "\n",
       "$b\n",
       "[1] -0.1846039\n",
       "\n",
       "$c\n",
       "[1] 1.070439\n",
       "\n",
       "$d\n",
       "[1] 5.029552\n"
      ]
     },
     "metadata": {},
     "output_type": "display_data"
    }
   ],
   "source": [
    "x <- list(a = 1:4, b = rnorm(10), c = rnorm(20, 1), d = rnorm(100, 5))\n",
    "lapply(x, mean)"
   ]
  },
  {
   "cell_type": "code",
   "execution_count": 21,
   "metadata": {},
   "outputs": [
    {
     "data": {
      "text/html": [
       "<ol>\n",
       "\t<li>0.41225763480179</li>\n",
       "\t<li><ol class=list-inline>\n",
       "\t<li>0.699344995897263</li>\n",
       "\t<li>0.717406265204772</li>\n",
       "</ol>\n",
       "</li>\n",
       "\t<li><ol class=list-inline>\n",
       "\t<li>0.489271125290543</li>\n",
       "\t<li>0.773629481904209</li>\n",
       "\t<li>0.811310572549701</li>\n",
       "</ol>\n",
       "</li>\n",
       "\t<li><ol class=list-inline>\n",
       "\t<li>0.427480180282146</li>\n",
       "\t<li>0.772369204089046</li>\n",
       "\t<li>0.573875551111996</li>\n",
       "\t<li>0.855965842492878</li>\n",
       "</ol>\n",
       "</li>\n",
       "</ol>\n"
      ],
      "text/latex": [
       "\\begin{enumerate}\n",
       "\\item 0.41225763480179\n",
       "\\item \\begin{enumerate*}\n",
       "\\item 0.699344995897263\n",
       "\\item 0.717406265204772\n",
       "\\end{enumerate*}\n",
       "\n",
       "\\item \\begin{enumerate*}\n",
       "\\item 0.489271125290543\n",
       "\\item 0.773629481904209\n",
       "\\item 0.811310572549701\n",
       "\\end{enumerate*}\n",
       "\n",
       "\\item \\begin{enumerate*}\n",
       "\\item 0.427480180282146\n",
       "\\item 0.772369204089046\n",
       "\\item 0.573875551111996\n",
       "\\item 0.855965842492878\n",
       "\\end{enumerate*}\n",
       "\n",
       "\\end{enumerate}\n"
      ],
      "text/markdown": [
       "1. 0.41225763480179\n",
       "2. 1. 0.699344995897263\n",
       "2. 0.717406265204772\n",
       "\n",
       "\n",
       "\n",
       "3. 1. 0.489271125290543\n",
       "2. 0.773629481904209\n",
       "3. 0.811310572549701\n",
       "\n",
       "\n",
       "\n",
       "4. 1. 0.427480180282146\n",
       "2. 0.772369204089046\n",
       "3. 0.573875551111996\n",
       "4. 0.855965842492878\n",
       "\n",
       "\n",
       "\n",
       "\n",
       "\n"
      ],
      "text/plain": [
       "[[1]]\n",
       "[1] 0.4122576\n",
       "\n",
       "[[2]]\n",
       "[1] 0.6993450 0.7174063\n",
       "\n",
       "[[3]]\n",
       "[1] 0.4892711 0.7736295 0.8113106\n",
       "\n",
       "[[4]]\n",
       "[1] 0.4274802 0.7723692 0.5738756 0.8559658\n"
      ]
     },
     "metadata": {},
     "output_type": "display_data"
    }
   ],
   "source": [
    "# uniform 분포의 random number를 제너레이트한다\n",
    "x <- 1:4\n",
    "lapply(x, runif)"
   ]
  },
  {
   "cell_type": "code",
   "execution_count": 23,
   "metadata": {
    "scrolled": true
   },
   "outputs": [
    {
     "data": {
      "text/html": [
       "<ol>\n",
       "\t<li>1.04927491396666</li>\n",
       "\t<li><ol class=list-inline>\n",
       "\t<li>1.36670268606395</li>\n",
       "\t<li>7.4324013479054</li>\n",
       "</ol>\n",
       "</li>\n",
       "\t<li><ol class=list-inline>\n",
       "\t<li>4.00896763429046</li>\n",
       "\t<li>2.86337938159704</li>\n",
       "\t<li>5.83175961161032</li>\n",
       "</ol>\n",
       "</li>\n",
       "\t<li><ol class=list-inline>\n",
       "\t<li>6.51608689455315</li>\n",
       "\t<li>9.09409347688779</li>\n",
       "\t<li>7.79735593358055</li>\n",
       "\t<li>5.27002576971427</li>\n",
       "</ol>\n",
       "</li>\n",
       "</ol>\n"
      ],
      "text/latex": [
       "\\begin{enumerate}\n",
       "\\item 1.04927491396666\n",
       "\\item \\begin{enumerate*}\n",
       "\\item 1.36670268606395\n",
       "\\item 7.4324013479054\n",
       "\\end{enumerate*}\n",
       "\n",
       "\\item \\begin{enumerate*}\n",
       "\\item 4.00896763429046\n",
       "\\item 2.86337938159704\n",
       "\\item 5.83175961161032\n",
       "\\end{enumerate*}\n",
       "\n",
       "\\item \\begin{enumerate*}\n",
       "\\item 6.51608689455315\n",
       "\\item 9.09409347688779\n",
       "\\item 7.79735593358055\n",
       "\\item 5.27002576971427\n",
       "\\end{enumerate*}\n",
       "\n",
       "\\end{enumerate}\n"
      ],
      "text/markdown": [
       "1. 1.04927491396666\n",
       "2. 1. 1.36670268606395\n",
       "2. 7.4324013479054\n",
       "\n",
       "\n",
       "\n",
       "3. 1. 4.00896763429046\n",
       "2. 2.86337938159704\n",
       "3. 5.83175961161032\n",
       "\n",
       "\n",
       "\n",
       "4. 1. 6.51608689455315\n",
       "2. 9.09409347688779\n",
       "3. 7.79735593358055\n",
       "4. 5.27002576971427\n",
       "\n",
       "\n",
       "\n",
       "\n",
       "\n"
      ],
      "text/plain": [
       "[[1]]\n",
       "[1] 1.049275\n",
       "\n",
       "[[2]]\n",
       "[1] 1.366703 7.432401\n",
       "\n",
       "[[3]]\n",
       "[1] 4.008968 2.863379 5.831760\n",
       "\n",
       "[[4]]\n",
       "[1] 6.516087 9.094093 7.797356 5.270026\n"
      ]
     },
     "metadata": {},
     "output_type": "display_data"
    }
   ],
   "source": [
    "# runif의 다른 인자들을 설정해준다.\n",
    "# 주의할 점은, runif() 형태가 아닌 lapply의 인자로서 들어간다는 점!\n",
    "x <- 1:4\n",
    "lapply(x, runif, min = 0, max = 10)"
   ]
  },
  {
   "cell_type": "markdown",
   "metadata": {},
   "source": [
    "`lapply`와 나머지 함수들은 어나니머스 함수를 많이 사용한다.\n",
    "\n",
    "어나니머스 함수란 이름이 없는 함수를 뜻한다.\n",
    "\n",
    "아래 리스트의 각 행렬에서 첫번째 열을 추출한다고 가정해보자."
   ]
  },
  {
   "cell_type": "code",
   "execution_count": 29,
   "metadata": {},
   "outputs": [
    {
     "data": {
      "text/html": [
       "<dl>\n",
       "\t<dt>$a</dt>\n",
       "\t\t<dd><table>\n",
       "<tbody>\n",
       "\t<tr><td>1</td><td>3</td></tr>\n",
       "\t<tr><td>2</td><td>4</td></tr>\n",
       "</tbody>\n",
       "</table>\n",
       "</dd>\n",
       "\t<dt>$b</dt>\n",
       "\t\t<dd><table>\n",
       "<tbody>\n",
       "\t<tr><td>3</td><td>5</td></tr>\n",
       "\t<tr><td>4</td><td>6</td></tr>\n",
       "</tbody>\n",
       "</table>\n",
       "</dd>\n",
       "</dl>\n"
      ],
      "text/latex": [
       "\\begin{description}\n",
       "\\item[\\$a] \\begin{tabular}{ll}\n",
       "\t 1 & 3\\\\\n",
       "\t 2 & 4\\\\\n",
       "\\end{tabular}\n",
       "\n",
       "\\item[\\$b] \\begin{tabular}{ll}\n",
       "\t 3 & 5\\\\\n",
       "\t 4 & 6\\\\\n",
       "\\end{tabular}\n",
       "\n",
       "\\end{description}\n"
      ],
      "text/markdown": [
       "$a\n",
       ":   \n",
       "| 1 | 3 | \n",
       "| 2 | 4 | \n",
       "\n",
       "\n",
       "\n",
       "$b\n",
       ":   \n",
       "| 3 | 5 | \n",
       "| 4 | 6 | \n",
       "\n",
       "\n",
       "\n",
       "\n",
       "\n"
      ],
      "text/plain": [
       "$a\n",
       "     [,1] [,2]\n",
       "[1,]    1    3\n",
       "[2,]    2    4\n",
       "\n",
       "$b\n",
       "     [,1] [,2]\n",
       "[1,]    3    5\n",
       "[2,]    4    6\n"
      ]
     },
     "metadata": {},
     "output_type": "display_data"
    }
   ],
   "source": [
    "x <- list(a = matrix(1:4, 2, 2), b = matrix(3:6, 2, 2))\n",
    "x"
   ]
  },
  {
   "cell_type": "markdown",
   "metadata": {},
   "source": [
    "첫 번째 열만 추출하는 함수는 따로 존재하지 않는다.\n",
    "\n",
    "따라서 어나니머스 함수를 사용하는 것이다."
   ]
  },
  {
   "cell_type": "code",
   "execution_count": 30,
   "metadata": {},
   "outputs": [
    {
     "data": {
      "text/html": [
       "<dl>\n",
       "\t<dt>$a</dt>\n",
       "\t\t<dd><ol class=list-inline>\n",
       "\t<li>1</li>\n",
       "\t<li>2</li>\n",
       "</ol>\n",
       "</dd>\n",
       "\t<dt>$b</dt>\n",
       "\t\t<dd><ol class=list-inline>\n",
       "\t<li>3</li>\n",
       "\t<li>4</li>\n",
       "</ol>\n",
       "</dd>\n",
       "</dl>\n"
      ],
      "text/latex": [
       "\\begin{description}\n",
       "\\item[\\$a] \\begin{enumerate*}\n",
       "\\item 1\n",
       "\\item 2\n",
       "\\end{enumerate*}\n",
       "\n",
       "\\item[\\$b] \\begin{enumerate*}\n",
       "\\item 3\n",
       "\\item 4\n",
       "\\end{enumerate*}\n",
       "\n",
       "\\end{description}\n"
      ],
      "text/markdown": [
       "$a\n",
       ":   1. 1\n",
       "2. 2\n",
       "\n",
       "\n",
       "\n",
       "$b\n",
       ":   1. 3\n",
       "2. 4\n",
       "\n",
       "\n",
       "\n",
       "\n",
       "\n"
      ],
      "text/plain": [
       "$a\n",
       "[1] 1 2\n",
       "\n",
       "$b\n",
       "[1] 3 4\n"
      ]
     },
     "metadata": {},
     "output_type": "display_data"
    }
   ],
   "source": [
    "# anonymous function\n",
    "# does not have its name\n",
    "lapply(x, function(elt) elt[,1])"
   ]
  },
  {
   "cell_type": "markdown",
   "metadata": {},
   "source": [
    "## 2. `sapply`\n",
    "`sapply`는 가능한 `lapply`의 결과를 단순화해주는 함수이다\n",
    "\n",
    "- 만약 결과 값이 모든 원소의 길이가 1인 리스트라면, 리스트 대신 벡터가 반환된다\n",
    "- 만약 결과 값이 모든 원소의 길이가 같은 벡터라면, 행렬이 반환된다\n",
    "- 어느 것에도 해당되지 않으면 그대로 리스트가 반환된다"
   ]
  },
  {
   "cell_type": "code",
   "execution_count": 32,
   "metadata": {},
   "outputs": [
    {
     "data": {
      "text/html": [
       "<table>\n",
       "<thead><tr><th scope=col>a</th><th scope=col>b</th></tr></thead>\n",
       "<tbody>\n",
       "\t<tr><td>1</td><td>3</td></tr>\n",
       "\t<tr><td>2</td><td>4</td></tr>\n",
       "</tbody>\n",
       "</table>\n"
      ],
      "text/latex": [
       "\\begin{tabular}{ll}\n",
       " a & b\\\\\n",
       "\\hline\n",
       "\t 1 & 3\\\\\n",
       "\t 2 & 4\\\\\n",
       "\\end{tabular}\n"
      ],
      "text/markdown": [
       "\n",
       "a | b | \n",
       "|---|---|\n",
       "| 1 | 3 | \n",
       "| 2 | 4 | \n",
       "\n",
       "\n"
      ],
      "text/plain": [
       "     a b\n",
       "[1,] 1 3\n",
       "[2,] 2 4"
      ]
     },
     "metadata": {},
     "output_type": "display_data"
    }
   ],
   "source": [
    "# lapply와 달리 행렬이 반환됨\n",
    "sapply(x, function(elt) elt[,1])"
   ]
  },
  {
   "cell_type": "markdown",
   "metadata": {},
   "source": [
    "## 3. `apply`\n",
    "\n",
    "`apply`는 배열의 마진에 함수를 적용한다.\n",
    "\n",
    "- 행렬의 각 행이나 각 열에 함수를 적용할 때 자주 쓰인다\n",
    "- 일반적인 배열과도 쓰일 수 있다\n",
    "- 반복문보다 빠르지는 않지만, 한 문장으로 간단하게 쓸 수 있다"
   ]
  },
  {
   "cell_type": "markdown",
   "metadata": {},
   "source": [
    "4개 인자를 받는다\n",
    "- x : 배열\n",
    "- `MARGIN` : 행을 알려주는 정수형 벡터\n",
    "- `FUN` : 적용될 함수\n",
    "- `...` : 그 외 `FUN`에 전달될 인자"
   ]
  },
  {
   "cell_type": "code",
   "execution_count": 37,
   "metadata": {},
   "outputs": [
    {
     "data": {
      "text/html": [
       "<pre class=language-r><code>function (X, MARGIN, FUN, ...) \n",
       "NULL</code></pre>"
      ],
      "text/latex": [
       "\\begin{minted}{r}\n",
       "function (X, MARGIN, FUN, ...) \n",
       "NULL\n",
       "\\end{minted}"
      ],
      "text/markdown": [
       "```r\n",
       "function (X, MARGIN, FUN, ...) \n",
       "NULL\n",
       "```"
      ],
      "text/plain": [
       "function (X, MARGIN, FUN, ...) \n",
       "NULL"
      ]
     },
     "metadata": {},
     "output_type": "display_data"
    }
   ],
   "source": [
    "args(apply)"
   ]
  },
  {
   "cell_type": "code",
   "execution_count": 38,
   "metadata": {},
   "outputs": [
    {
     "data": {
      "text/html": [
       "<ol class=list-inline>\n",
       "\t<li>-0.226675586200666</li>\n",
       "\t<li>-0.114781211700786</li>\n",
       "\t<li>-0.179972602297297</li>\n",
       "\t<li>-0.118089162289768</li>\n",
       "\t<li>0.0293102204264993</li>\n",
       "\t<li>0.0522231790950971</li>\n",
       "\t<li>-0.218439484861471</li>\n",
       "\t<li>0.350338368593968</li>\n",
       "\t<li>0.204997455310663</li>\n",
       "\t<li>0.183031098919212</li>\n",
       "</ol>\n"
      ],
      "text/latex": [
       "\\begin{enumerate*}\n",
       "\\item -0.226675586200666\n",
       "\\item -0.114781211700786\n",
       "\\item -0.179972602297297\n",
       "\\item -0.118089162289768\n",
       "\\item 0.0293102204264993\n",
       "\\item 0.0522231790950971\n",
       "\\item -0.218439484861471\n",
       "\\item 0.350338368593968\n",
       "\\item 0.204997455310663\n",
       "\\item 0.183031098919212\n",
       "\\end{enumerate*}\n"
      ],
      "text/markdown": [
       "1. -0.226675586200666\n",
       "2. -0.114781211700786\n",
       "3. -0.179972602297297\n",
       "4. -0.118089162289768\n",
       "5. 0.0293102204264993\n",
       "6. 0.0522231790950971\n",
       "7. -0.218439484861471\n",
       "8. 0.350338368593968\n",
       "9. 0.204997455310663\n",
       "10. 0.183031098919212\n",
       "\n",
       "\n"
      ],
      "text/plain": [
       " [1] -0.22667559 -0.11478121 -0.17997260 -0.11808916  0.02931022  0.05222318\n",
       " [7] -0.21843948  0.35033837  0.20499746  0.18303110"
      ]
     },
     "metadata": {},
     "output_type": "display_data"
    }
   ],
   "source": [
    "x <- matrix(rnorm(200), 20, 10)\n",
    "# 2 = 열(col) 기준\n",
    "apply(x, 2, mean)"
   ]
  },
  {
   "cell_type": "code",
   "execution_count": 40,
   "metadata": {},
   "outputs": [
    {
     "data": {
      "text/html": [
       "<ol class=list-inline>\n",
       "\t<li>0.0900824292897376</li>\n",
       "\t<li>0.00717200638012989</li>\n",
       "\t<li>0.0729132934322788</li>\n",
       "\t<li>0.126257600987979</li>\n",
       "\t<li>-0.347913397647243</li>\n",
       "\t<li>0.242160289819904</li>\n",
       "\t<li>-0.0229788581391582</li>\n",
       "\t<li>-0.575310135594988</li>\n",
       "\t<li>-0.164770923532411</li>\n",
       "\t<li>-0.459746682652144</li>\n",
       "\t<li>-0.0529100331111097</li>\n",
       "\t<li>-0.362280476454204</li>\n",
       "\t<li>0.272479187851286</li>\n",
       "\t<li>0.494994671985269</li>\n",
       "\t<li>0.811272064152575</li>\n",
       "\t<li>0.163624014996599</li>\n",
       "\t<li>-0.624771874955637</li>\n",
       "\t<li>0.314684486427151</li>\n",
       "\t<li>0.0359148983307285</li>\n",
       "\t<li>-0.0969880115758402</li>\n",
       "</ol>\n"
      ],
      "text/latex": [
       "\\begin{enumerate*}\n",
       "\\item 0.0900824292897376\n",
       "\\item 0.00717200638012989\n",
       "\\item 0.0729132934322788\n",
       "\\item 0.126257600987979\n",
       "\\item -0.347913397647243\n",
       "\\item 0.242160289819904\n",
       "\\item -0.0229788581391582\n",
       "\\item -0.575310135594988\n",
       "\\item -0.164770923532411\n",
       "\\item -0.459746682652144\n",
       "\\item -0.0529100331111097\n",
       "\\item -0.362280476454204\n",
       "\\item 0.272479187851286\n",
       "\\item 0.494994671985269\n",
       "\\item 0.811272064152575\n",
       "\\item 0.163624014996599\n",
       "\\item -0.624771874955637\n",
       "\\item 0.314684486427151\n",
       "\\item 0.0359148983307285\n",
       "\\item -0.0969880115758402\n",
       "\\end{enumerate*}\n"
      ],
      "text/markdown": [
       "1. 0.0900824292897376\n",
       "2. 0.00717200638012989\n",
       "3. 0.0729132934322788\n",
       "4. 0.126257600987979\n",
       "5. -0.347913397647243\n",
       "6. 0.242160289819904\n",
       "7. -0.0229788581391582\n",
       "8. -0.575310135594988\n",
       "9. -0.164770923532411\n",
       "10. -0.459746682652144\n",
       "11. -0.0529100331111097\n",
       "12. -0.362280476454204\n",
       "13. 0.272479187851286\n",
       "14. 0.494994671985269\n",
       "15. 0.811272064152575\n",
       "16. 0.163624014996599\n",
       "17. -0.624771874955637\n",
       "18. 0.314684486427151\n",
       "19. 0.0359148983307285\n",
       "20. -0.0969880115758402\n",
       "\n",
       "\n"
      ],
      "text/plain": [
       " [1]  0.090082429  0.007172006  0.072913293  0.126257601 -0.347913398\n",
       " [6]  0.242160290 -0.022978858 -0.575310136 -0.164770924 -0.459746683\n",
       "[11] -0.052910033 -0.362280476  0.272479188  0.494994672  0.811272064\n",
       "[16]  0.163624015 -0.624771875  0.314684486  0.035914898 -0.096988012"
      ]
     },
     "metadata": {},
     "output_type": "display_data"
    }
   ],
   "source": [
    "# 1 = 행(row) 기준\n",
    "apply(x, 1, mean)"
   ]
  },
  {
   "cell_type": "markdown",
   "metadata": {},
   "source": [
    "사실 행렬의 간단한 행/열 연산은 다른 최적화된 함수가 존재한다.\n",
    "\n",
    "- `rowSums` = `apply(x, 1, sum)`\n",
    "- `rowMeans`\n",
    "- `colSums`\n",
    "- `colMeans`\n",
    "\n",
    "이러한 함수들이 훨씬 훨씬 더 빠르므로, 거대한 행렬에서는 이들을 사용하자."
   ]
  },
  {
   "cell_type": "code",
   "execution_count": 48,
   "metadata": {},
   "outputs": [
    {
     "data": {
      "text/html": [
       "<table>\n",
       "<tbody>\n",
       "\t<tr><th scope=row>25%</th><td>0.0606527   </td><td>-0.7317654  </td><td>-0.4501331  </td><td>-0.500436   </td><td>-1.2065997  </td><td>-0.2705143  </td><td>-0.8900273  </td><td>-1.48394142 </td><td>-0.5635534  </td><td>-0.79929870 </td><td>-0.9751431  </td><td>-0.9336510  </td><td>-0.279501   </td><td>-0.006788539</td><td>0.5907915   </td><td>-0.8175139  </td><td>-2.0886680  </td><td>-0.03738429 </td><td>-0.6213612  </td><td>-0.8413536  </td></tr>\n",
       "\t<tr><th scope=row>75%</th><td>0.4371823   </td><td> 0.7061327  </td><td> 1.0063431  </td><td> 0.361069   </td><td> 0.2394192  </td><td> 0.5784695  </td><td> 0.7588106  </td><td> 0.05446823 </td><td> 0.1561690  </td><td>-0.02821464 </td><td> 0.6444782  </td><td> 0.3893733  </td><td> 1.012526   </td><td> 0.831326965</td><td>1.4938786   </td><td> 0.8020522  </td><td> 0.7750381  </td><td> 0.62962213 </td><td> 0.6963453  </td><td> 0.2053673  </td></tr>\n",
       "</tbody>\n",
       "</table>\n"
      ],
      "text/latex": [
       "\\begin{tabular}{r|llllllllllllllllllll}\n",
       "\t25\\% & 0.0606527    & -0.7317654   & -0.4501331   & -0.500436    & -1.2065997   & -0.2705143   & -0.8900273   & -1.48394142  & -0.5635534   & -0.79929870  & -0.9751431   & -0.9336510   & -0.279501    & -0.006788539 & 0.5907915    & -0.8175139   & -2.0886680   & -0.03738429  & -0.6213612   & -0.8413536  \\\\\n",
       "\t75\\% & 0.4371823    &  0.7061327   &  1.0063431   &  0.361069    &  0.2394192   &  0.5784695   &  0.7588106   &  0.05446823  &  0.1561690   & -0.02821464  &  0.6444782   &  0.3893733   &  1.012526    &  0.831326965 & 1.4938786    &  0.8020522   &  0.7750381   &  0.62962213  &  0.6963453   &  0.2053673  \\\\\n",
       "\\end{tabular}\n"
      ],
      "text/markdown": [
       "\n",
       "| 25% | 0.0606527    | -0.7317654   | -0.4501331   | -0.500436    | -1.2065997   | -0.2705143   | -0.8900273   | -1.48394142  | -0.5635534   | -0.79929870  | -0.9751431   | -0.9336510   | -0.279501    | -0.006788539 | 0.5907915    | -0.8175139   | -2.0886680   | -0.03738429  | -0.6213612   | -0.8413536   | \n",
       "| 75% | 0.4371823    |  0.7061327   |  1.0063431   |  0.361069    |  0.2394192   |  0.5784695   |  0.7588106   |  0.05446823  |  0.1561690   | -0.02821464  |  0.6444782   |  0.3893733   |  1.012526    |  0.831326965 | 1.4938786    |  0.8020522   |  0.7750381   |  0.62962213  |  0.6963453   |  0.2053673   | \n",
       "\n",
       "\n"
      ],
      "text/plain": [
       "    [,1]      [,2]       [,3]       [,4]      [,5]       [,6]       [,7]      \n",
       "25% 0.0606527 -0.7317654 -0.4501331 -0.500436 -1.2065997 -0.2705143 -0.8900273\n",
       "75% 0.4371823  0.7061327  1.0063431  0.361069  0.2394192  0.5784695  0.7588106\n",
       "    [,8]        [,9]       [,10]       [,11]      [,12]      [,13]    \n",
       "25% -1.48394142 -0.5635534 -0.79929870 -0.9751431 -0.9336510 -0.279501\n",
       "75%  0.05446823  0.1561690 -0.02821464  0.6444782  0.3893733  1.012526\n",
       "    [,14]        [,15]     [,16]      [,17]      [,18]       [,19]     \n",
       "25% -0.006788539 0.5907915 -0.8175139 -2.0886680 -0.03738429 -0.6213612\n",
       "75%  0.831326965 1.4938786  0.8020522  0.7750381  0.62962213  0.6963453\n",
       "    [,20]     \n",
       "25% -0.8413536\n",
       "75%  0.2053673"
      ]
     },
     "metadata": {},
     "output_type": "display_data"
    }
   ],
   "source": [
    "# quantile 범위를 구한다. quantile의 인자인 확률 인자도 함께 전달해준다.\n",
    "apply(x, 1, quantile, probs= c(0.25, 0.75))"
   ]
  },
  {
   "cell_type": "code",
   "execution_count": 52,
   "metadata": {},
   "outputs": [
    {
     "data": {
      "text/html": [
       "<ol class=list-inline>\n",
       "\t<li>2</li>\n",
       "\t<li>2</li>\n",
       "\t<li>10</li>\n",
       "</ol>\n"
      ],
      "text/latex": [
       "\\begin{enumerate*}\n",
       "\\item 2\n",
       "\\item 2\n",
       "\\item 10\n",
       "\\end{enumerate*}\n"
      ],
      "text/markdown": [
       "1. 2\n",
       "2. 2\n",
       "3. 10\n",
       "\n",
       "\n"
      ],
      "text/plain": [
       "[1]  2  2 10"
      ]
     },
     "metadata": {},
     "output_type": "display_data"
    },
    {
     "data": {
      "text/html": [
       "<table>\n",
       "<tbody>\n",
       "\t<tr><td>0.03935876</td><td>-0.3166123</td></tr>\n",
       "\t<tr><td>0.26632913</td><td> 0.1942991</td></tr>\n",
       "</tbody>\n",
       "</table>\n"
      ],
      "text/latex": [
       "\\begin{tabular}{ll}\n",
       "\t 0.03935876 & -0.3166123\\\\\n",
       "\t 0.26632913 &  0.1942991\\\\\n",
       "\\end{tabular}\n"
      ],
      "text/markdown": [
       "\n",
       "| 0.03935876 | -0.3166123 | \n",
       "| 0.26632913 |  0.1942991 | \n",
       "\n",
       "\n"
      ],
      "text/plain": [
       "     [,1]       [,2]      \n",
       "[1,] 0.03935876 -0.3166123\n",
       "[2,] 0.26632913  0.1942991"
      ]
     },
     "metadata": {},
     "output_type": "display_data"
    }
   ],
   "source": [
    "a <- array(rnorm(2 * 2 * 10), c(2, 2, 10))\n",
    "dim(a)\n",
    "apply(a, c(1, 2), mean)"
   ]
  },
  {
   "cell_type": "code",
   "execution_count": 53,
   "metadata": {},
   "outputs": [
    {
     "data": {
      "text/html": [
       "<table>\n",
       "<tbody>\n",
       "\t<tr><td>0.03935876</td><td>-0.3166123</td></tr>\n",
       "\t<tr><td>0.26632913</td><td> 0.1942991</td></tr>\n",
       "</tbody>\n",
       "</table>\n"
      ],
      "text/latex": [
       "\\begin{tabular}{ll}\n",
       "\t 0.03935876 & -0.3166123\\\\\n",
       "\t 0.26632913 &  0.1942991\\\\\n",
       "\\end{tabular}\n"
      ],
      "text/markdown": [
       "\n",
       "| 0.03935876 | -0.3166123 | \n",
       "| 0.26632913 |  0.1942991 | \n",
       "\n",
       "\n"
      ],
      "text/plain": [
       "     [,1]       [,2]      \n",
       "[1,] 0.03935876 -0.3166123\n",
       "[2,] 0.26632913  0.1942991"
      ]
     },
     "metadata": {},
     "output_type": "display_data"
    }
   ],
   "source": [
    "rowMeans(a, dims = 2)"
   ]
  },
  {
   "cell_type": "markdown",
   "metadata": {},
   "source": [
    "## 4. `mapply`\n",
    "`mapply`는 주어진 인자에 함수를 적용하는 다변량 `apply`이다.\n",
    "\n",
    "인자는 다음과 같다.\n",
    "\n",
    "- `FUN` : 적용할 함수\n",
    "- `...` : 적용할 인자들\n",
    "- `MoreArgs` : `FUN`에 전달할 다른 인자\n",
    "- `SIMPLLIFY` : 결과를 단순화 할지 결정"
   ]
  },
  {
   "cell_type": "code",
   "execution_count": 54,
   "metadata": {},
   "outputs": [
    {
     "data": {
      "text/html": [
       "<pre class=language-r><code>function (FUN, ..., MoreArgs = NULL, SIMPLIFY = TRUE, USE.NAMES = TRUE) \n",
       "NULL</code></pre>"
      ],
      "text/latex": [
       "\\begin{minted}{r}\n",
       "function (FUN, ..., MoreArgs = NULL, SIMPLIFY = TRUE, USE.NAMES = TRUE) \n",
       "NULL\n",
       "\\end{minted}"
      ],
      "text/markdown": [
       "```r\n",
       "function (FUN, ..., MoreArgs = NULL, SIMPLIFY = TRUE, USE.NAMES = TRUE) \n",
       "NULL\n",
       "```"
      ],
      "text/plain": [
       "function (FUN, ..., MoreArgs = NULL, SIMPLIFY = TRUE, USE.NAMES = TRUE) \n",
       "NULL"
      ]
     },
     "metadata": {},
     "output_type": "display_data"
    }
   ],
   "source": [
    "args(mapply)"
   ]
  },
  {
   "cell_type": "code",
   "execution_count": 57,
   "metadata": {},
   "outputs": [
    {
     "name": "stdout",
     "output_type": "stream",
     "text": [
      "[[1]]\n",
      "[1] 1 1 1 1\n",
      "\n",
      "[[2]]\n",
      "[1] 2 2 2\n",
      "\n",
      "[[3]]\n",
      "[1] 3 3\n",
      "\n",
      "[[4]]\n",
      "[1] 4\n",
      "\n"
     ]
    }
   ],
   "source": [
    "# 아래와 같은 리스트를 만든다고 가정하자.\n",
    "print(list(rep(1, 4), rep(2, 3), rep(3, 2), rep(4, 1)))"
   ]
  },
  {
   "cell_type": "code",
   "execution_count": 59,
   "metadata": {},
   "outputs": [
    {
     "name": "stdout",
     "output_type": "stream",
     "text": [
      "[[1]]\n",
      "[1] 1 1 1 1\n",
      "\n",
      "[[2]]\n",
      "[1] 2 2 2\n",
      "\n",
      "[[3]]\n",
      "[1] 3 3\n",
      "\n",
      "[[4]]\n",
      "[1] 4\n",
      "\n"
     ]
    }
   ],
   "source": [
    "# 하지만 위 방식은 너무 번거롭다\n",
    "print(mapply(rep, 1:4, 4:1))"
   ]
  },
  {
   "cell_type": "code",
   "execution_count": 62,
   "metadata": {},
   "outputs": [
    {
     "data": {
      "text/html": [
       "<ol class=list-inline>\n",
       "\t<li>-1.65378960104794</li>\n",
       "\t<li>-2.19104928945039</li>\n",
       "\t<li>1.03087332245891</li>\n",
       "\t<li>2.05839799572547</li>\n",
       "\t<li>1.91886782917998</li>\n",
       "</ol>\n"
      ],
      "text/latex": [
       "\\begin{enumerate*}\n",
       "\\item -1.65378960104794\n",
       "\\item -2.19104928945039\n",
       "\\item 1.03087332245891\n",
       "\\item 2.05839799572547\n",
       "\\item 1.91886782917998\n",
       "\\end{enumerate*}\n"
      ],
      "text/markdown": [
       "1. -1.65378960104794\n",
       "2. -2.19104928945039\n",
       "3. 1.03087332245891\n",
       "4. 2.05839799572547\n",
       "5. 1.91886782917998\n",
       "\n",
       "\n"
      ],
      "text/plain": [
       "[1] -1.653790 -2.191049  1.030873  2.058398  1.918868"
      ]
     },
     "metadata": {},
     "output_type": "display_data"
    },
    {
     "data": {
      "text/html": [
       "<ol class=list-inline>\n",
       "\t<li>0.895133644409296</li>\n",
       "\t<li>0.135305406815728</li>\n",
       "\t<li>2.82097248290778</li>\n",
       "\t<li>4.75879616155097</li>\n",
       "\t<li>0.920311768096636</li>\n",
       "</ol>\n"
      ],
      "text/latex": [
       "\\begin{enumerate*}\n",
       "\\item 0.895133644409296\n",
       "\\item 0.135305406815728\n",
       "\\item 2.82097248290778\n",
       "\\item 4.75879616155097\n",
       "\\item 0.920311768096636\n",
       "\\end{enumerate*}\n"
      ],
      "text/markdown": [
       "1. 0.895133644409296\n",
       "2. 0.135305406815728\n",
       "3. 2.82097248290778\n",
       "4. 4.75879616155097\n",
       "5. 0.920311768096636\n",
       "\n",
       "\n"
      ],
      "text/plain": [
       "[1] 0.8951336 0.1353054 2.8209725 4.7587962 0.9203118"
      ]
     },
     "metadata": {},
     "output_type": "display_data"
    }
   ],
   "source": [
    "# 또 다른 예제\n",
    "# Vectorizing a Function\n",
    "noise <- function(n, mean, sd) {\n",
    "    rnorm(n, mean, sd)\n",
    "}\n",
    "\n",
    "noise(5, 1, 2)\n",
    "\n",
    "# 내가 원하는 바는 아래가 아니다\n",
    "noise(1:5, 1:5, 2)"
   ]
  },
  {
   "cell_type": "code",
   "execution_count": 67,
   "metadata": {},
   "outputs": [
    {
     "data": {
      "text/html": [
       "<ol>\n",
       "\t<li>2.78143291886324</li>\n",
       "\t<li><ol class=list-inline>\n",
       "\t<li>6.86168803711694</li>\n",
       "\t<li>-0.668041121043126</li>\n",
       "</ol>\n",
       "</li>\n",
       "\t<li><ol class=list-inline>\n",
       "\t<li>1.26526074748199</li>\n",
       "\t<li>1.57398979755247</li>\n",
       "\t<li>4.02975242818149</li>\n",
       "</ol>\n",
       "</li>\n",
       "\t<li><ol class=list-inline>\n",
       "\t<li>2.05231352171488</li>\n",
       "\t<li>5.49209627501439</li>\n",
       "\t<li>6.21071859177091</li>\n",
       "\t<li>0.747551906117975</li>\n",
       "</ol>\n",
       "</li>\n",
       "\t<li><ol class=list-inline>\n",
       "\t<li>5.11558731845062</li>\n",
       "\t<li>6.14635233190948</li>\n",
       "\t<li>3.09523557144493</li>\n",
       "\t<li>5.75019017313507</li>\n",
       "\t<li>3.09731090831297</li>\n",
       "</ol>\n",
       "</li>\n",
       "</ol>\n"
      ],
      "text/latex": [
       "\\begin{enumerate}\n",
       "\\item 2.78143291886324\n",
       "\\item \\begin{enumerate*}\n",
       "\\item 6.86168803711694\n",
       "\\item -0.668041121043126\n",
       "\\end{enumerate*}\n",
       "\n",
       "\\item \\begin{enumerate*}\n",
       "\\item 1.26526074748199\n",
       "\\item 1.57398979755247\n",
       "\\item 4.02975242818149\n",
       "\\end{enumerate*}\n",
       "\n",
       "\\item \\begin{enumerate*}\n",
       "\\item 2.05231352171488\n",
       "\\item 5.49209627501439\n",
       "\\item 6.21071859177091\n",
       "\\item 0.747551906117975\n",
       "\\end{enumerate*}\n",
       "\n",
       "\\item \\begin{enumerate*}\n",
       "\\item 5.11558731845062\n",
       "\\item 6.14635233190948\n",
       "\\item 3.09523557144493\n",
       "\\item 5.75019017313507\n",
       "\\item 3.09731090831297\n",
       "\\end{enumerate*}\n",
       "\n",
       "\\end{enumerate}\n"
      ],
      "text/markdown": [
       "1. 2.78143291886324\n",
       "2. 1. 6.86168803711694\n",
       "2. -0.668041121043126\n",
       "\n",
       "\n",
       "\n",
       "3. 1. 1.26526074748199\n",
       "2. 1.57398979755247\n",
       "3. 4.02975242818149\n",
       "\n",
       "\n",
       "\n",
       "4. 1. 2.05231352171488\n",
       "2. 5.49209627501439\n",
       "3. 6.21071859177091\n",
       "4. 0.747551906117975\n",
       "\n",
       "\n",
       "\n",
       "5. 1. 5.11558731845062\n",
       "2. 6.14635233190948\n",
       "3. 3.09523557144493\n",
       "4. 5.75019017313507\n",
       "5. 3.09731090831297\n",
       "\n",
       "\n",
       "\n",
       "\n",
       "\n"
      ],
      "text/plain": [
       "[[1]]\n",
       "[1] 2.781433\n",
       "\n",
       "[[2]]\n",
       "[1]  6.8616880 -0.6680411\n",
       "\n",
       "[[3]]\n",
       "[1] 1.265261 1.573990 4.029752\n",
       "\n",
       "[[4]]\n",
       "[1] 2.0523135 5.4920963 6.2107186 0.7475519\n",
       "\n",
       "[[5]]\n",
       "[1] 5.115587 6.146352 3.095236 5.750190 3.097311\n"
      ]
     },
     "metadata": {},
     "output_type": "display_data"
    }
   ],
   "source": [
    "# 이걸 하고 싶었던 것\n",
    "mapply(noise, 1:5, 1:5, 2)"
   ]
  },
  {
   "cell_type": "markdown",
   "metadata": {},
   "source": [
    "## 5. `tapply`\n",
    "`tapply`는 벡터의 부분집합에 함수를 적용할 때 사용한다.\n",
    "\n",
    "ex) 전체 데이터에서 남성 집단의 평균을 구할 때,...\n",
    "\n",
    "- x는 벡터이다\n",
    "- `INDEX`는 팩터이거나 팩터의 리스트이다\n",
    "- `FUN`은 적용할 함수이다\n",
    "- `...`은 `FUN`에 전달될 다른 인자들이다\n",
    "- `simplify`는 결과를 단순화 할 것인지 결정한다"
   ]
  },
  {
   "cell_type": "code",
   "execution_count": 68,
   "metadata": {},
   "outputs": [
    {
     "data": {
      "text/html": [
       "<pre class=language-r><code>function (X, INDEX, FUN = NULL, ..., default = NA, simplify = TRUE) \n",
       "NULL</code></pre>"
      ],
      "text/latex": [
       "\\begin{minted}{r}\n",
       "function (X, INDEX, FUN = NULL, ..., default = NA, simplify = TRUE) \n",
       "NULL\n",
       "\\end{minted}"
      ],
      "text/markdown": [
       "```r\n",
       "function (X, INDEX, FUN = NULL, ..., default = NA, simplify = TRUE) \n",
       "NULL\n",
       "```"
      ],
      "text/plain": [
       "function (X, INDEX, FUN = NULL, ..., default = NA, simplify = TRUE) \n",
       "NULL"
      ]
     },
     "metadata": {},
     "output_type": "display_data"
    }
   ],
   "source": [
    "args(tapply)"
   ]
  },
  {
   "cell_type": "code",
   "execution_count": 81,
   "metadata": {},
   "outputs": [
    {
     "name": "stdout",
     "output_type": "stream",
     "text": [
      " [1] 1 1 1 1 1 1 1 1 1 1 2 2 2 2 2 2 2 2 2 2 3 3 3 3 3 3 3 3 3 3\n",
      "Levels: 1 2 3\n"
     ]
    }
   ],
   "source": [
    "# gl은 Factor Level을 제너레이트 하는 함수\n",
    "x <- c(rnorm(10), runif(10), rnorm(10, 1))\n",
    "f <- gl(3, 10)\n",
    "\n",
    "print(f)"
   ]
  },
  {
   "cell_type": "code",
   "execution_count": 87,
   "metadata": {},
   "outputs": [
    {
     "data": {
      "text/html": [
       "<dl>\n",
       "\t<dt>$`1`</dt>\n",
       "\t\t<dd><ol class=list-inline>\n",
       "\t<li>-1.04284810147422</li>\n",
       "\t<li>2.45713586328298</li>\n",
       "</ol>\n",
       "</dd>\n",
       "\t<dt>$`2`</dt>\n",
       "\t\t<dd><ol class=list-inline>\n",
       "\t<li>0.0263275916222483</li>\n",
       "\t<li>0.925568108214065</li>\n",
       "</ol>\n",
       "</dd>\n",
       "\t<dt>$`3`</dt>\n",
       "\t\t<dd><ol class=list-inline>\n",
       "\t<li>-0.471636163762055</li>\n",
       "\t<li>3.10805936747974</li>\n",
       "</ol>\n",
       "</dd>\n",
       "</dl>\n"
      ],
      "text/latex": [
       "\\begin{description}\n",
       "\\item[\\$`1`] \\begin{enumerate*}\n",
       "\\item -1.04284810147422\n",
       "\\item 2.45713586328298\n",
       "\\end{enumerate*}\n",
       "\n",
       "\\item[\\$`2`] \\begin{enumerate*}\n",
       "\\item 0.0263275916222483\n",
       "\\item 0.925568108214065\n",
       "\\end{enumerate*}\n",
       "\n",
       "\\item[\\$`3`] \\begin{enumerate*}\n",
       "\\item -0.471636163762055\n",
       "\\item 3.10805936747974\n",
       "\\end{enumerate*}\n",
       "\n",
       "\\end{description}\n"
      ],
      "text/markdown": [
       "$`1`\n",
       ":   1. -1.04284810147422\n",
       "2. 2.45713586328298\n",
       "\n",
       "\n",
       "\n",
       "$`2`\n",
       ":   1. 0.0263275916222483\n",
       "2. 0.925568108214065\n",
       "\n",
       "\n",
       "\n",
       "$`3`\n",
       ":   1. -0.471636163762055\n",
       "2. 3.10805936747974\n",
       "\n",
       "\n",
       "\n",
       "\n",
       "\n"
      ],
      "text/plain": [
       "$`1`\n",
       "[1] -1.042848  2.457136\n",
       "\n",
       "$`2`\n",
       "[1] 0.02632759 0.92556811\n",
       "\n",
       "$`3`\n",
       "[1] -0.4716362  3.1080594\n"
      ]
     },
     "metadata": {},
     "output_type": "display_data"
    }
   ],
   "source": [
    "# 팩터별(범주별) 함수 적용\n",
    "tapply(x, f, range)"
   ]
  },
  {
   "cell_type": "markdown",
   "metadata": {},
   "source": [
    "## 6. `split`\n",
    "`split`은 벡터나 다른 오브젝트를 받아서 팩터를 기준으로 그룹으로 나눈다.\n",
    "\n",
    "- x는 벡터, 리스트, 데이터 프레임이다\n",
    "- `f`는 팩터 혹은 팩터의 리스트이다\n",
    "- `drop`은 비어있는 팩터를 없앨 것인지 확인한다"
   ]
  },
  {
   "cell_type": "code",
   "execution_count": 88,
   "metadata": {},
   "outputs": [
    {
     "data": {
      "text/html": [
       "<pre class=language-r><code>function (x, f, drop = FALSE, ...) \n",
       "NULL</code></pre>"
      ],
      "text/latex": [
       "\\begin{minted}{r}\n",
       "function (x, f, drop = FALSE, ...) \n",
       "NULL\n",
       "\\end{minted}"
      ],
      "text/markdown": [
       "```r\n",
       "function (x, f, drop = FALSE, ...) \n",
       "NULL\n",
       "```"
      ],
      "text/plain": [
       "function (x, f, drop = FALSE, ...) \n",
       "NULL"
      ]
     },
     "metadata": {},
     "output_type": "display_data"
    }
   ],
   "source": [
    "args(split)"
   ]
  },
  {
   "cell_type": "code",
   "execution_count": 90,
   "metadata": {
    "scrolled": true
   },
   "outputs": [
    {
     "data": {
      "text/html": [
       "<dl>\n",
       "\t<dt>$`1`</dt>\n",
       "\t\t<dd><ol class=list-inline>\n",
       "\t<li>1.05335594814271</li>\n",
       "\t<li>-1.21142092521428</li>\n",
       "\t<li>-0.655272690002716</li>\n",
       "\t<li>-1.13467308064149</li>\n",
       "\t<li>1.92044730520148</li>\n",
       "\t<li>1.92048191966854</li>\n",
       "\t<li>-1.99981234160547</li>\n",
       "\t<li>0.196683262417927</li>\n",
       "\t<li>0.347567146904574</li>\n",
       "\t<li>1.62727429862593</li>\n",
       "</ol>\n",
       "</dd>\n",
       "\t<dt>$`2`</dt>\n",
       "\t\t<dd><ol class=list-inline>\n",
       "\t<li>0.908422950189561</li>\n",
       "\t<li>0.694071223028004</li>\n",
       "\t<li>0.474642807617784</li>\n",
       "\t<li>0.230774325551465</li>\n",
       "\t<li>0.622885728953406</li>\n",
       "\t<li>0.21158653171733</li>\n",
       "\t<li>0.337195569416508</li>\n",
       "\t<li>0.246546392794698</li>\n",
       "\t<li>0.180478827562183</li>\n",
       "\t<li>0.966931926086545</li>\n",
       "</ol>\n",
       "</dd>\n",
       "\t<dt>$`3`</dt>\n",
       "\t\t<dd><ol class=list-inline>\n",
       "\t<li>1.51391029188668</li>\n",
       "\t<li>1.70751210294092</li>\n",
       "\t<li>1.75524545304916</li>\n",
       "\t<li>1.37132364706986</li>\n",
       "\t<li>1.34566617598924</li>\n",
       "\t<li>0.838770903743869</li>\n",
       "\t<li>-0.641798610859509</li>\n",
       "\t<li>-0.0933276386279724</li>\n",
       "\t<li>0.339593217633489</li>\n",
       "\t<li>0.78165610915668</li>\n",
       "</ol>\n",
       "</dd>\n",
       "</dl>\n"
      ],
      "text/latex": [
       "\\begin{description}\n",
       "\\item[\\$`1`] \\begin{enumerate*}\n",
       "\\item 1.05335594814271\n",
       "\\item -1.21142092521428\n",
       "\\item -0.655272690002716\n",
       "\\item -1.13467308064149\n",
       "\\item 1.92044730520148\n",
       "\\item 1.92048191966854\n",
       "\\item -1.99981234160547\n",
       "\\item 0.196683262417927\n",
       "\\item 0.347567146904574\n",
       "\\item 1.62727429862593\n",
       "\\end{enumerate*}\n",
       "\n",
       "\\item[\\$`2`] \\begin{enumerate*}\n",
       "\\item 0.908422950189561\n",
       "\\item 0.694071223028004\n",
       "\\item 0.474642807617784\n",
       "\\item 0.230774325551465\n",
       "\\item 0.622885728953406\n",
       "\\item 0.21158653171733\n",
       "\\item 0.337195569416508\n",
       "\\item 0.246546392794698\n",
       "\\item 0.180478827562183\n",
       "\\item 0.966931926086545\n",
       "\\end{enumerate*}\n",
       "\n",
       "\\item[\\$`3`] \\begin{enumerate*}\n",
       "\\item 1.51391029188668\n",
       "\\item 1.70751210294092\n",
       "\\item 1.75524545304916\n",
       "\\item 1.37132364706986\n",
       "\\item 1.34566617598924\n",
       "\\item 0.838770903743869\n",
       "\\item -0.641798610859509\n",
       "\\item -0.0933276386279724\n",
       "\\item 0.339593217633489\n",
       "\\item 0.78165610915668\n",
       "\\end{enumerate*}\n",
       "\n",
       "\\end{description}\n"
      ],
      "text/markdown": [
       "$`1`\n",
       ":   1. 1.05335594814271\n",
       "2. -1.21142092521428\n",
       "3. -0.655272690002716\n",
       "4. -1.13467308064149\n",
       "5. 1.92044730520148\n",
       "6. 1.92048191966854\n",
       "7. -1.99981234160547\n",
       "8. 0.196683262417927\n",
       "9. 0.347567146904574\n",
       "10. 1.62727429862593\n",
       "\n",
       "\n",
       "\n",
       "$`2`\n",
       ":   1. 0.908422950189561\n",
       "2. 0.694071223028004\n",
       "3. 0.474642807617784\n",
       "4. 0.230774325551465\n",
       "5. 0.622885728953406\n",
       "6. 0.21158653171733\n",
       "7. 0.337195569416508\n",
       "8. 0.246546392794698\n",
       "9. 0.180478827562183\n",
       "10. 0.966931926086545\n",
       "\n",
       "\n",
       "\n",
       "$`3`\n",
       ":   1. 1.51391029188668\n",
       "2. 1.70751210294092\n",
       "3. 1.75524545304916\n",
       "4. 1.37132364706986\n",
       "5. 1.34566617598924\n",
       "6. 0.838770903743869\n",
       "7. -0.641798610859509\n",
       "8. -0.0933276386279724\n",
       "9. 0.339593217633489\n",
       "10. 0.78165610915668\n",
       "\n",
       "\n",
       "\n",
       "\n",
       "\n"
      ],
      "text/plain": [
       "$`1`\n",
       " [1]  1.0533559 -1.2114209 -0.6552727 -1.1346731  1.9204473  1.9204819\n",
       " [7] -1.9998123  0.1966833  0.3475671  1.6272743\n",
       "\n",
       "$`2`\n",
       " [1] 0.9084230 0.6940712 0.4746428 0.2307743 0.6228857 0.2115865 0.3371956\n",
       " [8] 0.2465464 0.1804788 0.9669319\n",
       "\n",
       "$`3`\n",
       " [1]  1.51391029  1.70751210  1.75524545  1.37132365  1.34566618  0.83877090\n",
       " [7] -0.64179861 -0.09332764  0.33959322  0.78165611\n"
      ]
     },
     "metadata": {},
     "output_type": "display_data"
    }
   ],
   "source": [
    "# 벡터가 리스트로 나뉘어졌다.\n",
    "x <- c(rnorm(10), runif(10), rnorm(10, 1))\n",
    "f <- gl(3, 10)\n",
    "split(x, f)"
   ]
  },
  {
   "cell_type": "markdown",
   "metadata": {},
   "source": [
    "`split`은 `lapply`와 함께 자주 쓰인다.\n",
    "(물론 tapply를 사용해도 된다)"
   ]
  },
  {
   "cell_type": "code",
   "execution_count": 91,
   "metadata": {},
   "outputs": [
    {
     "data": {
      "text/html": [
       "<dl>\n",
       "\t<dt>$`1`</dt>\n",
       "\t\t<dd>0.206463084349721</dd>\n",
       "\t<dt>$`2`</dt>\n",
       "\t\t<dd>0.487353628291748</dd>\n",
       "\t<dt>$`3`</dt>\n",
       "\t\t<dd>0.891855165198242</dd>\n",
       "</dl>\n"
      ],
      "text/latex": [
       "\\begin{description}\n",
       "\\item[\\$`1`] 0.206463084349721\n",
       "\\item[\\$`2`] 0.487353628291748\n",
       "\\item[\\$`3`] 0.891855165198242\n",
       "\\end{description}\n"
      ],
      "text/markdown": [
       "$`1`\n",
       ":   0.206463084349721\n",
       "$`2`\n",
       ":   0.487353628291748\n",
       "$`3`\n",
       ":   0.891855165198242\n",
       "\n",
       "\n"
      ],
      "text/plain": [
       "$`1`\n",
       "[1] 0.2064631\n",
       "\n",
       "$`2`\n",
       "[1] 0.4873536\n",
       "\n",
       "$`3`\n",
       "[1] 0.8918552\n"
      ]
     },
     "metadata": {},
     "output_type": "display_data"
    }
   ],
   "source": [
    "lapply(split(x, f), mean)"
   ]
  },
  {
   "cell_type": "code",
   "execution_count": 92,
   "metadata": {
    "scrolled": true
   },
   "outputs": [
    {
     "name": "stderr",
     "output_type": "stream",
     "text": [
      "ERROR while rich displaying an object: Error in dn[[2L]]: 첨자의 허용 범위를 벗어났습니다\n",
      "\n",
      "Traceback:\n",
      "1. FUN(X[[i]], ...)\n",
      "2. tryCatch(withCallingHandlers({\n",
      " .     rpr <- mime2repr[[mime]](obj)\n",
      " .     if (is.null(rpr)) \n",
      " .         return(NULL)\n",
      " .     prepare_content(is.raw(rpr), rpr)\n",
      " . }, error = error_handler), error = outer_handler)\n",
      "3. tryCatchList(expr, classes, parentenv, handlers)\n",
      "4. tryCatchOne(expr, names, parentenv, handlers[[1L]])\n",
      "5. doTryCatch(return(expr), name, parentenv, handler)\n",
      "6. withCallingHandlers({\n",
      " .     rpr <- mime2repr[[mime]](obj)\n",
      " .     if (is.null(rpr)) \n",
      " .         return(NULL)\n",
      " .     prepare_content(is.raw(rpr), rpr)\n",
      " . }, error = error_handler)\n",
      "7. mime2repr[[mime]](obj)\n",
      "8. repr_markdown.numeric(obj)\n",
      "9. repr_vector_generic(html_escape_names(obj), \"%s. %s\\n\", \"%s\\n:   %s\", \n",
      " .     \"**%s:** %s\", \"%s\\n\\n\", item_uses_numbers = TRUE, escape_fun = html_escape)\n",
      "10. html_escape_names(obj)\n",
      "11. .escape_names(obj, \"html\")\n",
      "12. colnames(obj)\n",
      "ERROR while rich displaying an object: Error in dn[[2L]]: 첨자의 허용 범위를 벗어났습니다\n",
      "\n",
      "Traceback:\n",
      "1. FUN(X[[i]], ...)\n",
      "2. tryCatch(withCallingHandlers({\n",
      " .     rpr <- mime2repr[[mime]](obj)\n",
      " .     if (is.null(rpr)) \n",
      " .         return(NULL)\n",
      " .     prepare_content(is.raw(rpr), rpr)\n",
      " . }, error = error_handler), error = outer_handler)\n",
      "3. tryCatchList(expr, classes, parentenv, handlers)\n",
      "4. tryCatchOne(expr, names, parentenv, handlers[[1L]])\n",
      "5. doTryCatch(return(expr), name, parentenv, handler)\n",
      "6. withCallingHandlers({\n",
      " .     rpr <- mime2repr[[mime]](obj)\n",
      " .     if (is.null(rpr)) \n",
      " .         return(NULL)\n",
      " .     prepare_content(is.raw(rpr), rpr)\n",
      " . }, error = error_handler)\n",
      "7. mime2repr[[mime]](obj)\n",
      "8. repr_latex.numeric(obj)\n",
      "9. repr_vector_generic(latex_escape_names(obj), \"\\\\item %s\\n\", \"\\\\item[%s] %s\\n\", \n",
      " .     \"\\\\textbf{%s:} %s\", enum_wrap = \"\\\\begin{enumerate*}\\n%s\\\\end{enumerate*}\\n\", \n",
      " .     named_wrap = \"\\\\begin{description*}\\n%s\\\\end{description*}\\n\", \n",
      " .     only_named_item = \"\\\\textbf{%s:} %s\", escape_fun = latex_escape)\n",
      "10. latex_escape_names(obj)\n",
      "11. .escape_names(obj, \"latex\")\n",
      "12. colnames(obj)\n"
     ]
    },
    {
     "data": {
      "text/html": [
       "<dl class=dl-horizontal>\n",
       "\t<dt>1</dt>\n",
       "\t\t<dd>0.206463084349721</dd>\n",
       "\t<dt>2</dt>\n",
       "\t\t<dd>0.487353628291748</dd>\n",
       "\t<dt>3</dt>\n",
       "\t\t<dd>0.891855165198242</dd>\n",
       "</dl>\n"
      ],
      "text/plain": [
       "        1         2         3 \n",
       "0.2064631 0.4873536 0.8918552 "
      ]
     },
     "metadata": {},
     "output_type": "display_data"
    }
   ],
   "source": [
    "tapply(x, f, mean)"
   ]
  },
  {
   "cell_type": "code",
   "execution_count": 96,
   "metadata": {
    "scrolled": true
   },
   "outputs": [
    {
     "data": {
      "text/html": [
       "<table>\n",
       "<thead><tr><th scope=col>Ozone</th><th scope=col>Solar.R</th><th scope=col>Wind</th><th scope=col>Temp</th><th scope=col>Month</th><th scope=col>Day</th></tr></thead>\n",
       "<tbody>\n",
       "\t<tr><td>41  </td><td>190 </td><td> 7.4</td><td>67  </td><td>5   </td><td>1   </td></tr>\n",
       "\t<tr><td>36  </td><td>118 </td><td> 8.0</td><td>72  </td><td>5   </td><td>2   </td></tr>\n",
       "\t<tr><td>12  </td><td>149 </td><td>12.6</td><td>74  </td><td>5   </td><td>3   </td></tr>\n",
       "\t<tr><td>18  </td><td>313 </td><td>11.5</td><td>62  </td><td>5   </td><td>4   </td></tr>\n",
       "\t<tr><td>NA  </td><td> NA </td><td>14.3</td><td>56  </td><td>5   </td><td>5   </td></tr>\n",
       "\t<tr><td>28  </td><td> NA </td><td>14.9</td><td>66  </td><td>5   </td><td>6   </td></tr>\n",
       "</tbody>\n",
       "</table>\n"
      ],
      "text/latex": [
       "\\begin{tabular}{r|llllll}\n",
       " Ozone & Solar.R & Wind & Temp & Month & Day\\\\\n",
       "\\hline\n",
       "\t 41   & 190  &  7.4 & 67   & 5    & 1   \\\\\n",
       "\t 36   & 118  &  8.0 & 72   & 5    & 2   \\\\\n",
       "\t 12   & 149  & 12.6 & 74   & 5    & 3   \\\\\n",
       "\t 18   & 313  & 11.5 & 62   & 5    & 4   \\\\\n",
       "\t NA   &  NA  & 14.3 & 56   & 5    & 5   \\\\\n",
       "\t 28   &  NA  & 14.9 & 66   & 5    & 6   \\\\\n",
       "\\end{tabular}\n"
      ],
      "text/markdown": [
       "\n",
       "Ozone | Solar.R | Wind | Temp | Month | Day | \n",
       "|---|---|---|---|---|---|\n",
       "| 41   | 190  |  7.4 | 67   | 5    | 1    | \n",
       "| 36   | 118  |  8.0 | 72   | 5    | 2    | \n",
       "| 12   | 149  | 12.6 | 74   | 5    | 3    | \n",
       "| 18   | 313  | 11.5 | 62   | 5    | 4    | \n",
       "| NA   |  NA  | 14.3 | 56   | 5    | 5    | \n",
       "| 28   |  NA  | 14.9 | 66   | 5    | 6    | \n",
       "\n",
       "\n"
      ],
      "text/plain": [
       "  Ozone Solar.R Wind Temp Month Day\n",
       "1 41    190      7.4 67   5     1  \n",
       "2 36    118      8.0 72   5     2  \n",
       "3 12    149     12.6 74   5     3  \n",
       "4 18    313     11.5 62   5     4  \n",
       "5 NA     NA     14.3 56   5     5  \n",
       "6 28     NA     14.9 66   5     6  "
      ]
     },
     "metadata": {},
     "output_type": "display_data"
    }
   ],
   "source": [
    "# 이번엔 데이터프레임\n",
    "library(datasets)\n",
    "head(airquality)"
   ]
  },
  {
   "cell_type": "code",
   "execution_count": 94,
   "metadata": {},
   "outputs": [
    {
     "data": {
      "text/html": [
       "<dl>\n",
       "\t<dt>$`5`</dt>\n",
       "\t\t<dd><dl class=dl-horizontal>\n",
       "\t<dt>Ozone</dt>\n",
       "\t\t<dd>&lt;NA&gt;</dd>\n",
       "\t<dt>Solar.R</dt>\n",
       "\t\t<dd>&lt;NA&gt;</dd>\n",
       "\t<dt>Wind</dt>\n",
       "\t\t<dd>11.6225806451613</dd>\n",
       "</dl>\n",
       "</dd>\n",
       "\t<dt>$`6`</dt>\n",
       "\t\t<dd><dl class=dl-horizontal>\n",
       "\t<dt>Ozone</dt>\n",
       "\t\t<dd>&lt;NA&gt;</dd>\n",
       "\t<dt>Solar.R</dt>\n",
       "\t\t<dd>190.166666666667</dd>\n",
       "\t<dt>Wind</dt>\n",
       "\t\t<dd>10.2666666666667</dd>\n",
       "</dl>\n",
       "</dd>\n",
       "\t<dt>$`7`</dt>\n",
       "\t\t<dd><dl class=dl-horizontal>\n",
       "\t<dt>Ozone</dt>\n",
       "\t\t<dd>&lt;NA&gt;</dd>\n",
       "\t<dt>Solar.R</dt>\n",
       "\t\t<dd>216.483870967742</dd>\n",
       "\t<dt>Wind</dt>\n",
       "\t\t<dd>8.94193548387097</dd>\n",
       "</dl>\n",
       "</dd>\n",
       "\t<dt>$`8`</dt>\n",
       "\t\t<dd><dl class=dl-horizontal>\n",
       "\t<dt>Ozone</dt>\n",
       "\t\t<dd>&lt;NA&gt;</dd>\n",
       "\t<dt>Solar.R</dt>\n",
       "\t\t<dd>&lt;NA&gt;</dd>\n",
       "\t<dt>Wind</dt>\n",
       "\t\t<dd>8.79354838709677</dd>\n",
       "</dl>\n",
       "</dd>\n",
       "\t<dt>$`9`</dt>\n",
       "\t\t<dd><dl class=dl-horizontal>\n",
       "\t<dt>Ozone</dt>\n",
       "\t\t<dd>&lt;NA&gt;</dd>\n",
       "\t<dt>Solar.R</dt>\n",
       "\t\t<dd>167.433333333333</dd>\n",
       "\t<dt>Wind</dt>\n",
       "\t\t<dd>10.18</dd>\n",
       "</dl>\n",
       "</dd>\n",
       "</dl>\n"
      ],
      "text/latex": [
       "\\begin{description}\n",
       "\\item[\\$`5`] \\begin{description*}\n",
       "\\item[Ozone] <NA>\n",
       "\\item[Solar.R] <NA>\n",
       "\\item[Wind] 11.6225806451613\n",
       "\\end{description*}\n",
       "\n",
       "\\item[\\$`6`] \\begin{description*}\n",
       "\\item[Ozone] <NA>\n",
       "\\item[Solar.R] 190.166666666667\n",
       "\\item[Wind] 10.2666666666667\n",
       "\\end{description*}\n",
       "\n",
       "\\item[\\$`7`] \\begin{description*}\n",
       "\\item[Ozone] <NA>\n",
       "\\item[Solar.R] 216.483870967742\n",
       "\\item[Wind] 8.94193548387097\n",
       "\\end{description*}\n",
       "\n",
       "\\item[\\$`8`] \\begin{description*}\n",
       "\\item[Ozone] <NA>\n",
       "\\item[Solar.R] <NA>\n",
       "\\item[Wind] 8.79354838709677\n",
       "\\end{description*}\n",
       "\n",
       "\\item[\\$`9`] \\begin{description*}\n",
       "\\item[Ozone] <NA>\n",
       "\\item[Solar.R] 167.433333333333\n",
       "\\item[Wind] 10.18\n",
       "\\end{description*}\n",
       "\n",
       "\\end{description}\n"
      ],
      "text/markdown": [
       "$`5`\n",
       ":   Ozone\n",
       ":   &lt;NA&gt;Solar.R\n",
       ":   &lt;NA&gt;Wind\n",
       ":   11.6225806451613\n",
       "\n",
       "\n",
       "$`6`\n",
       ":   Ozone\n",
       ":   &lt;NA&gt;Solar.R\n",
       ":   190.166666666667Wind\n",
       ":   10.2666666666667\n",
       "\n",
       "\n",
       "$`7`\n",
       ":   Ozone\n",
       ":   &lt;NA&gt;Solar.R\n",
       ":   216.483870967742Wind\n",
       ":   8.94193548387097\n",
       "\n",
       "\n",
       "$`8`\n",
       ":   Ozone\n",
       ":   &lt;NA&gt;Solar.R\n",
       ":   &lt;NA&gt;Wind\n",
       ":   8.79354838709677\n",
       "\n",
       "\n",
       "$`9`\n",
       ":   Ozone\n",
       ":   &lt;NA&gt;Solar.R\n",
       ":   167.433333333333Wind\n",
       ":   10.18\n",
       "\n",
       "\n",
       "\n",
       "\n"
      ],
      "text/plain": [
       "$`5`\n",
       "   Ozone  Solar.R     Wind \n",
       "      NA       NA 11.62258 \n",
       "\n",
       "$`6`\n",
       "    Ozone   Solar.R      Wind \n",
       "       NA 190.16667  10.26667 \n",
       "\n",
       "$`7`\n",
       "     Ozone    Solar.R       Wind \n",
       "        NA 216.483871   8.941935 \n",
       "\n",
       "$`8`\n",
       "   Ozone  Solar.R     Wind \n",
       "      NA       NA 8.793548 \n",
       "\n",
       "$`9`\n",
       "   Ozone  Solar.R     Wind \n",
       "      NA 167.4333  10.1800 \n"
      ]
     },
     "metadata": {},
     "output_type": "display_data"
    }
   ],
   "source": [
    "s <- split(airquality, airquality$Month)\n",
    "lapply(s, function(x) colMeans(x[, c(\"Ozone\", \"Solar.R\", \"Wind\")]))\n",
    "        # anonymous function\n",
    "        # 하지만 NA 처리를 해주지 않았다."
   ]
  },
  {
   "cell_type": "code",
   "execution_count": 98,
   "metadata": {},
   "outputs": [
    {
     "data": {
      "text/html": [
       "<table>\n",
       "<thead><tr><th></th><th scope=col>5</th><th scope=col>6</th><th scope=col>7</th><th scope=col>8</th><th scope=col>9</th></tr></thead>\n",
       "<tbody>\n",
       "\t<tr><th scope=row>Ozone</th><td>      NA  </td><td>       NA </td><td>        NA</td><td>      NA  </td><td>      NA  </td></tr>\n",
       "\t<tr><th scope=row>Solar.R</th><td>      NA  </td><td>190.16667 </td><td>216.483871</td><td>      NA  </td><td>167.4333  </td></tr>\n",
       "\t<tr><th scope=row>Wind</th><td>11.62258  </td><td> 10.26667 </td><td>  8.941935</td><td>8.793548  </td><td> 10.1800  </td></tr>\n",
       "</tbody>\n",
       "</table>\n"
      ],
      "text/latex": [
       "\\begin{tabular}{r|lllll}\n",
       "  & 5 & 6 & 7 & 8 & 9\\\\\n",
       "\\hline\n",
       "\tOzone &       NA   &        NA  &         NA &       NA   &       NA  \\\\\n",
       "\tSolar.R &       NA   & 190.16667  & 216.483871 &       NA   & 167.4333  \\\\\n",
       "\tWind & 11.62258   &  10.26667  &   8.941935 & 8.793548   &  10.1800  \\\\\n",
       "\\end{tabular}\n"
      ],
      "text/markdown": [
       "\n",
       "| <!--/--> | 5 | 6 | 7 | 8 | 9 | \n",
       "|---|---|---|\n",
       "| Ozone |       NA   |        NA  |         NA |       NA   |       NA   | \n",
       "| Solar.R |       NA   | 190.16667  | 216.483871 |       NA   | 167.4333   | \n",
       "| Wind | 11.62258   |  10.26667  |   8.941935 | 8.793548   |  10.1800   | \n",
       "\n",
       "\n"
      ],
      "text/plain": [
       "        5        6         7          8        9       \n",
       "Ozone         NA        NA         NA       NA       NA\n",
       "Solar.R       NA 190.16667 216.483871       NA 167.4333\n",
       "Wind    11.62258  10.26667   8.941935 8.793548  10.1800"
      ]
     },
     "metadata": {},
     "output_type": "display_data"
    }
   ],
   "source": [
    "# Simplified Result\n",
    "sapply(s, function(x) colMeans(x[, c(\"Ozone\", \"Solar.R\", \"Wind\")]))"
   ]
  },
  {
   "cell_type": "code",
   "execution_count": 100,
   "metadata": {
    "scrolled": true
   },
   "outputs": [
    {
     "data": {
      "text/html": [
       "<table>\n",
       "<thead><tr><th></th><th scope=col>5</th><th scope=col>6</th><th scope=col>7</th><th scope=col>8</th><th scope=col>9</th></tr></thead>\n",
       "<tbody>\n",
       "\t<tr><th scope=row>Ozone</th><td> 23.61538 </td><td> 29.44444 </td><td> 59.115385</td><td> 59.961538</td><td> 31.44828 </td></tr>\n",
       "\t<tr><th scope=row>Solar.R</th><td>181.29630 </td><td>190.16667 </td><td>216.483871</td><td>171.857143</td><td>167.43333 </td></tr>\n",
       "\t<tr><th scope=row>Wind</th><td> 11.62258 </td><td> 10.26667 </td><td>  8.941935</td><td>  8.793548</td><td> 10.18000 </td></tr>\n",
       "</tbody>\n",
       "</table>\n"
      ],
      "text/latex": [
       "\\begin{tabular}{r|lllll}\n",
       "  & 5 & 6 & 7 & 8 & 9\\\\\n",
       "\\hline\n",
       "\tOzone &  23.61538  &  29.44444  &  59.115385 &  59.961538 &  31.44828 \\\\\n",
       "\tSolar.R & 181.29630  & 190.16667  & 216.483871 & 171.857143 & 167.43333 \\\\\n",
       "\tWind &  11.62258  &  10.26667  &   8.941935 &   8.793548 &  10.18000 \\\\\n",
       "\\end{tabular}\n"
      ],
      "text/markdown": [
       "\n",
       "| <!--/--> | 5 | 6 | 7 | 8 | 9 | \n",
       "|---|---|---|\n",
       "| Ozone |  23.61538  |  29.44444  |  59.115385 |  59.961538 |  31.44828  | \n",
       "| Solar.R | 181.29630  | 190.16667  | 216.483871 | 171.857143 | 167.43333  | \n",
       "| Wind |  11.62258  |  10.26667  |   8.941935 |   8.793548 |  10.18000  | \n",
       "\n",
       "\n"
      ],
      "text/plain": [
       "        5         6         7          8          9        \n",
       "Ozone    23.61538  29.44444  59.115385  59.961538  31.44828\n",
       "Solar.R 181.29630 190.16667 216.483871 171.857143 167.43333\n",
       "Wind     11.62258  10.26667   8.941935   8.793548  10.18000"
      ]
     },
     "metadata": {},
     "output_type": "display_data"
    }
   ],
   "source": [
    "sapply(s, function(x) colMeans(x[, c(\"Ozone\", \"Solar.R\", \"Wind\")], na.rm = T))\n",
    "    # na.rm 로 na를 무시하고 계산"
   ]
  },
  {
   "cell_type": "markdown",
   "metadata": {},
   "source": [
    "## cf. Splitting on More than One Level"
   ]
  },
  {
   "cell_type": "code",
   "execution_count": 106,
   "metadata": {},
   "outputs": [
    {
     "data": {
      "text/html": [
       "<ol class=list-inline>\n",
       "\t<li>1</li>\n",
       "\t<li>1</li>\n",
       "\t<li>1</li>\n",
       "\t<li>1</li>\n",
       "\t<li>1</li>\n",
       "\t<li>2</li>\n",
       "\t<li>2</li>\n",
       "\t<li>2</li>\n",
       "\t<li>2</li>\n",
       "\t<li>2</li>\n",
       "</ol>\n"
      ],
      "text/latex": [
       "\\begin{enumerate*}\n",
       "\\item 1\n",
       "\\item 1\n",
       "\\item 1\n",
       "\\item 1\n",
       "\\item 1\n",
       "\\item 2\n",
       "\\item 2\n",
       "\\item 2\n",
       "\\item 2\n",
       "\\item 2\n",
       "\\end{enumerate*}\n"
      ],
      "text/markdown": [
       "1. 1\n",
       "2. 1\n",
       "3. 1\n",
       "4. 1\n",
       "5. 1\n",
       "6. 2\n",
       "7. 2\n",
       "8. 2\n",
       "9. 2\n",
       "10. 2\n",
       "\n",
       "\n"
      ],
      "text/plain": [
       " [1] 1 1 1 1 1 2 2 2 2 2\n",
       "Levels: 1 2"
      ]
     },
     "metadata": {},
     "output_type": "display_data"
    },
    {
     "data": {
      "text/html": [
       "<ol class=list-inline>\n",
       "\t<li>1</li>\n",
       "\t<li>1</li>\n",
       "\t<li>2</li>\n",
       "\t<li>2</li>\n",
       "\t<li>3</li>\n",
       "\t<li>3</li>\n",
       "\t<li>4</li>\n",
       "\t<li>4</li>\n",
       "\t<li>5</li>\n",
       "\t<li>5</li>\n",
       "</ol>\n"
      ],
      "text/latex": [
       "\\begin{enumerate*}\n",
       "\\item 1\n",
       "\\item 1\n",
       "\\item 2\n",
       "\\item 2\n",
       "\\item 3\n",
       "\\item 3\n",
       "\\item 4\n",
       "\\item 4\n",
       "\\item 5\n",
       "\\item 5\n",
       "\\end{enumerate*}\n"
      ],
      "text/markdown": [
       "1. 1\n",
       "2. 1\n",
       "3. 2\n",
       "4. 2\n",
       "5. 3\n",
       "6. 3\n",
       "7. 4\n",
       "8. 4\n",
       "9. 5\n",
       "10. 5\n",
       "\n",
       "\n"
      ],
      "text/plain": [
       " [1] 1 1 2 2 3 3 4 4 5 5\n",
       "Levels: 1 2 3 4 5"
      ]
     },
     "metadata": {},
     "output_type": "display_data"
    },
    {
     "data": {
      "text/html": [
       "<ol class=list-inline>\n",
       "\t<li>2.16154239118122</li>\n",
       "\t<li>-0.272204222520491</li>\n",
       "\t<li>-0.558294106320502</li>\n",
       "\t<li>-0.939473704452844</li>\n",
       "\t<li>0.0410322909714269</li>\n",
       "\t<li>0.512197355000738</li>\n",
       "\t<li>0.111096272346305</li>\n",
       "\t<li>0.890751302394815</li>\n",
       "\t<li>-2.80773110075626</li>\n",
       "\t<li>1.0212549455708</li>\n",
       "</ol>\n"
      ],
      "text/latex": [
       "\\begin{enumerate*}\n",
       "\\item 2.16154239118122\n",
       "\\item -0.272204222520491\n",
       "\\item -0.558294106320502\n",
       "\\item -0.939473704452844\n",
       "\\item 0.0410322909714269\n",
       "\\item 0.512197355000738\n",
       "\\item 0.111096272346305\n",
       "\\item 0.890751302394815\n",
       "\\item -2.80773110075626\n",
       "\\item 1.0212549455708\n",
       "\\end{enumerate*}\n"
      ],
      "text/markdown": [
       "1. 2.16154239118122\n",
       "2. -0.272204222520491\n",
       "3. -0.558294106320502\n",
       "4. -0.939473704452844\n",
       "5. 0.0410322909714269\n",
       "6. 0.512197355000738\n",
       "7. 0.111096272346305\n",
       "8. 0.890751302394815\n",
       "9. -2.80773110075626\n",
       "10. 1.0212549455708\n",
       "\n",
       "\n"
      ],
      "text/plain": [
       " [1]  2.16154239 -0.27220422 -0.55829411 -0.93947370  0.04103229  0.51219736\n",
       " [7]  0.11109627  0.89075130 -2.80773110  1.02125495"
      ]
     },
     "metadata": {},
     "output_type": "display_data"
    }
   ],
   "source": [
    "x <- rnorm(10)\n",
    "f1 <- gl(2, 5)\n",
    "f2 <- gl(5, 2)\n",
    "f1\n",
    "f2\n",
    "x"
   ]
  },
  {
   "cell_type": "code",
   "execution_count": 102,
   "metadata": {},
   "outputs": [
    {
     "data": {
      "text/html": [
       "<ol class=list-inline>\n",
       "\t<li>1.1</li>\n",
       "\t<li>1.1</li>\n",
       "\t<li>1.2</li>\n",
       "\t<li>1.2</li>\n",
       "\t<li>1.3</li>\n",
       "\t<li>2.3</li>\n",
       "\t<li>2.4</li>\n",
       "\t<li>2.4</li>\n",
       "\t<li>2.5</li>\n",
       "\t<li>2.5</li>\n",
       "</ol>\n"
      ],
      "text/latex": [
       "\\begin{enumerate*}\n",
       "\\item 1.1\n",
       "\\item 1.1\n",
       "\\item 1.2\n",
       "\\item 1.2\n",
       "\\item 1.3\n",
       "\\item 2.3\n",
       "\\item 2.4\n",
       "\\item 2.4\n",
       "\\item 2.5\n",
       "\\item 2.5\n",
       "\\end{enumerate*}\n"
      ],
      "text/markdown": [
       "1. 1.1\n",
       "2. 1.1\n",
       "3. 1.2\n",
       "4. 1.2\n",
       "5. 1.3\n",
       "6. 2.3\n",
       "7. 2.4\n",
       "8. 2.4\n",
       "9. 2.5\n",
       "10. 2.5\n",
       "\n",
       "\n"
      ],
      "text/plain": [
       " [1] 1.1 1.1 1.2 1.2 1.3 2.3 2.4 2.4 2.5 2.5\n",
       "Levels: 1.1 2.1 1.2 2.2 1.3 2.3 1.4 2.4 1.5 2.5"
      ]
     },
     "metadata": {},
     "output_type": "display_data"
    }
   ],
   "source": [
    "# 팩터 레벨을 결합하는 함수\n",
    "interaction(f1, f2)"
   ]
  },
  {
   "cell_type": "code",
   "execution_count": 107,
   "metadata": {},
   "outputs": [
    {
     "data": {
      "text/html": [
       "<dl>\n",
       "\t<dt>$`1.1`</dt>\n",
       "\t\t<dd><ol class=list-inline>\n",
       "\t<li>2.16154239118122</li>\n",
       "\t<li>-0.272204222520491</li>\n",
       "</ol>\n",
       "</dd>\n",
       "\t<dt>$`2.1`</dt>\n",
       "\t\t<dd></dd>\n",
       "\t<dt>$`1.2`</dt>\n",
       "\t\t<dd><ol class=list-inline>\n",
       "\t<li>-0.558294106320502</li>\n",
       "\t<li>-0.939473704452844</li>\n",
       "</ol>\n",
       "</dd>\n",
       "\t<dt>$`2.2`</dt>\n",
       "\t\t<dd></dd>\n",
       "\t<dt>$`1.3`</dt>\n",
       "\t\t<dd>0.0410322909714269</dd>\n",
       "\t<dt>$`2.3`</dt>\n",
       "\t\t<dd>0.512197355000738</dd>\n",
       "\t<dt>$`1.4`</dt>\n",
       "\t\t<dd></dd>\n",
       "\t<dt>$`2.4`</dt>\n",
       "\t\t<dd><ol class=list-inline>\n",
       "\t<li>0.111096272346305</li>\n",
       "\t<li>0.890751302394815</li>\n",
       "</ol>\n",
       "</dd>\n",
       "\t<dt>$`1.5`</dt>\n",
       "\t\t<dd></dd>\n",
       "\t<dt>$`2.5`</dt>\n",
       "\t\t<dd><ol class=list-inline>\n",
       "\t<li>-2.80773110075626</li>\n",
       "\t<li>1.0212549455708</li>\n",
       "</ol>\n",
       "</dd>\n",
       "</dl>\n"
      ],
      "text/latex": [
       "\\begin{description}\n",
       "\\item[\\$`1.1`] \\begin{enumerate*}\n",
       "\\item 2.16154239118122\n",
       "\\item -0.272204222520491\n",
       "\\end{enumerate*}\n",
       "\n",
       "\\item[\\$`2.1`] \n",
       "\\item[\\$`1.2`] \\begin{enumerate*}\n",
       "\\item -0.558294106320502\n",
       "\\item -0.939473704452844\n",
       "\\end{enumerate*}\n",
       "\n",
       "\\item[\\$`2.2`] \n",
       "\\item[\\$`1.3`] 0.0410322909714269\n",
       "\\item[\\$`2.3`] 0.512197355000738\n",
       "\\item[\\$`1.4`] \n",
       "\\item[\\$`2.4`] \\begin{enumerate*}\n",
       "\\item 0.111096272346305\n",
       "\\item 0.890751302394815\n",
       "\\end{enumerate*}\n",
       "\n",
       "\\item[\\$`1.5`] \n",
       "\\item[\\$`2.5`] \\begin{enumerate*}\n",
       "\\item -2.80773110075626\n",
       "\\item 1.0212549455708\n",
       "\\end{enumerate*}\n",
       "\n",
       "\\end{description}\n"
      ],
      "text/markdown": [
       "$`1.1`\n",
       ":   1. 2.16154239118122\n",
       "2. -0.272204222520491\n",
       "\n",
       "\n",
       "\n",
       "$`2.1`\n",
       ":   \n",
       "$`1.2`\n",
       ":   1. -0.558294106320502\n",
       "2. -0.939473704452844\n",
       "\n",
       "\n",
       "\n",
       "$`2.2`\n",
       ":   \n",
       "$`1.3`\n",
       ":   0.0410322909714269\n",
       "$`2.3`\n",
       ":   0.512197355000738\n",
       "$`1.4`\n",
       ":   \n",
       "$`2.4`\n",
       ":   1. 0.111096272346305\n",
       "2. 0.890751302394815\n",
       "\n",
       "\n",
       "\n",
       "$`1.5`\n",
       ":   \n",
       "$`2.5`\n",
       ":   1. -2.80773110075626\n",
       "2. 1.0212549455708\n",
       "\n",
       "\n",
       "\n",
       "\n",
       "\n"
      ],
      "text/plain": [
       "$`1.1`\n",
       "[1]  2.1615424 -0.2722042\n",
       "\n",
       "$`2.1`\n",
       "numeric(0)\n",
       "\n",
       "$`1.2`\n",
       "[1] -0.5582941 -0.9394737\n",
       "\n",
       "$`2.2`\n",
       "numeric(0)\n",
       "\n",
       "$`1.3`\n",
       "[1] 0.04103229\n",
       "\n",
       "$`2.3`\n",
       "[1] 0.5121974\n",
       "\n",
       "$`1.4`\n",
       "numeric(0)\n",
       "\n",
       "$`2.4`\n",
       "[1] 0.1110963 0.8907513\n",
       "\n",
       "$`1.5`\n",
       "numeric(0)\n",
       "\n",
       "$`2.5`\n",
       "[1] -2.807731  1.021255\n"
      ]
     },
     "metadata": {},
     "output_type": "display_data"
    }
   ],
   "source": [
    "# 여기서 Interaction 함수를 쓸 필요는 없다\n",
    "# 리스트로 결합하면 자동으로 인식됨\n",
    "split(x, list(f1, f2))"
   ]
  },
  {
   "cell_type": "code",
   "execution_count": 109,
   "metadata": {},
   "outputs": [
    {
     "data": {
      "text/html": [
       "<dl>\n",
       "\t<dt>$`1.1`</dt>\n",
       "\t\t<dd><ol class=list-inline>\n",
       "\t<li>2.16154239118122</li>\n",
       "\t<li>-0.272204222520491</li>\n",
       "</ol>\n",
       "</dd>\n",
       "\t<dt>$`1.2`</dt>\n",
       "\t\t<dd><ol class=list-inline>\n",
       "\t<li>-0.558294106320502</li>\n",
       "\t<li>-0.939473704452844</li>\n",
       "</ol>\n",
       "</dd>\n",
       "\t<dt>$`1.3`</dt>\n",
       "\t\t<dd>0.0410322909714269</dd>\n",
       "\t<dt>$`2.3`</dt>\n",
       "\t\t<dd>0.512197355000738</dd>\n",
       "\t<dt>$`2.4`</dt>\n",
       "\t\t<dd><ol class=list-inline>\n",
       "\t<li>0.111096272346305</li>\n",
       "\t<li>0.890751302394815</li>\n",
       "</ol>\n",
       "</dd>\n",
       "\t<dt>$`2.5`</dt>\n",
       "\t\t<dd><ol class=list-inline>\n",
       "\t<li>-2.80773110075626</li>\n",
       "\t<li>1.0212549455708</li>\n",
       "</ol>\n",
       "</dd>\n",
       "</dl>\n"
      ],
      "text/latex": [
       "\\begin{description}\n",
       "\\item[\\$`1.1`] \\begin{enumerate*}\n",
       "\\item 2.16154239118122\n",
       "\\item -0.272204222520491\n",
       "\\end{enumerate*}\n",
       "\n",
       "\\item[\\$`1.2`] \\begin{enumerate*}\n",
       "\\item -0.558294106320502\n",
       "\\item -0.939473704452844\n",
       "\\end{enumerate*}\n",
       "\n",
       "\\item[\\$`1.3`] 0.0410322909714269\n",
       "\\item[\\$`2.3`] 0.512197355000738\n",
       "\\item[\\$`2.4`] \\begin{enumerate*}\n",
       "\\item 0.111096272346305\n",
       "\\item 0.890751302394815\n",
       "\\end{enumerate*}\n",
       "\n",
       "\\item[\\$`2.5`] \\begin{enumerate*}\n",
       "\\item -2.80773110075626\n",
       "\\item 1.0212549455708\n",
       "\\end{enumerate*}\n",
       "\n",
       "\\end{description}\n"
      ],
      "text/markdown": [
       "$`1.1`\n",
       ":   1. 2.16154239118122\n",
       "2. -0.272204222520491\n",
       "\n",
       "\n",
       "\n",
       "$`1.2`\n",
       ":   1. -0.558294106320502\n",
       "2. -0.939473704452844\n",
       "\n",
       "\n",
       "\n",
       "$`1.3`\n",
       ":   0.0410322909714269\n",
       "$`2.3`\n",
       ":   0.512197355000738\n",
       "$`2.4`\n",
       ":   1. 0.111096272346305\n",
       "2. 0.890751302394815\n",
       "\n",
       "\n",
       "\n",
       "$`2.5`\n",
       ":   1. -2.80773110075626\n",
       "2. 1.0212549455708\n",
       "\n",
       "\n",
       "\n",
       "\n",
       "\n"
      ],
      "text/plain": [
       "$`1.1`\n",
       "[1]  2.1615424 -0.2722042\n",
       "\n",
       "$`1.2`\n",
       "[1] -0.5582941 -0.9394737\n",
       "\n",
       "$`1.3`\n",
       "[1] 0.04103229\n",
       "\n",
       "$`2.3`\n",
       "[1] 0.5121974\n",
       "\n",
       "$`2.4`\n",
       "[1] 0.1110963 0.8907513\n",
       "\n",
       "$`2.5`\n",
       "[1] -2.807731  1.021255\n"
      ]
     },
     "metadata": {},
     "output_type": "display_data"
    }
   ],
   "source": [
    "# drop = TRUE\n",
    "split(x, list(f1, f2), drop = TRUE)"
   ]
  }
 ],
 "metadata": {
  "kernelspec": {
   "display_name": "R",
   "language": "R",
   "name": "ir"
  },
  "language_info": {
   "codemirror_mode": "r",
   "file_extension": ".r",
   "mimetype": "text/x-r-source",
   "name": "R",
   "pygments_lexer": "r",
   "version": "3.4.3"
  }
 },
 "nbformat": 4,
 "nbformat_minor": 2
}
