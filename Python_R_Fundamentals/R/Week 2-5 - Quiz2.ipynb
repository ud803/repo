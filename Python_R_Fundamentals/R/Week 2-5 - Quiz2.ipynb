{
 "cells": [
  {
   "cell_type": "markdown",
   "metadata": {},
   "source": [
    "### Q1. 아래와 같은 함수를 정의했을 때, `cube(3)` 이라는 명령어의 결과값은?"
   ]
  },
  {
   "cell_type": "code",
   "execution_count": 1,
   "metadata": {
    "collapsed": true
   },
   "outputs": [],
   "source": [
    "cube <- function(x, n) {\n",
    "    x^3\n",
    "}"
   ]
  },
  {
   "cell_type": "code",
   "execution_count": 2,
   "metadata": {},
   "outputs": [
    {
     "data": {
      "text/html": [
       "27"
      ],
      "text/latex": [
       "27"
      ],
      "text/markdown": [
       "27"
      ],
      "text/plain": [
       "[1] 27"
      ]
     },
     "metadata": {},
     "output_type": "display_data"
    }
   ],
   "source": [
    "cube(3)"
   ]
  },
  {
   "cell_type": "markdown",
   "metadata": {},
   "source": [
    "### Q2. 다음 코드가 오류를 발생시키는 이유는?"
   ]
  },
  {
   "cell_type": "code",
   "execution_count": 3,
   "metadata": {
    "scrolled": true
   },
   "outputs": [
    {
     "name": "stderr",
     "output_type": "stream",
     "text": [
      "Warning message in if (x > 5) {:\n",
      "“length > 1 이라는 조건이 있고, 첫번째 요소만이 사용될 것입니다”"
     ]
    }
   ],
   "source": [
    "x <- 1:10\n",
    "if(x > 5) {\n",
    "    x <- 0\n",
    "}"
   ]
  },
  {
   "cell_type": "markdown",
   "metadata": {},
   "source": [
    "### Q3. 다음의 결과값은?"
   ]
  },
  {
   "cell_type": "code",
   "execution_count": 8,
   "metadata": {
    "collapsed": true
   },
   "outputs": [],
   "source": [
    "f <- function(x) {\n",
    "    g <- function(y) {\n",
    "        y + z\n",
    "    }\n",
    "    z <- 4\n",
    "    x + g(x)\n",
    "}"
   ]
  },
  {
   "cell_type": "code",
   "execution_count": 9,
   "metadata": {},
   "outputs": [
    {
     "data": {
      "text/html": [
       "10"
      ],
      "text/latex": [
       "10"
      ],
      "text/markdown": [
       "10"
      ],
      "text/plain": [
       "[1] 10"
      ]
     },
     "metadata": {},
     "output_type": "display_data"
    }
   ],
   "source": [
    "z <- 10\n",
    "f(3)"
   ]
  },
  {
   "cell_type": "markdown",
   "metadata": {},
   "source": [
    "### Q4. 다음의 코드 실행이후 y의 값은?"
   ]
  },
  {
   "cell_type": "code",
   "execution_count": 10,
   "metadata": {
    "collapsed": true
   },
   "outputs": [],
   "source": [
    "x <- 5\n",
    "y <- if(x < 3) {\n",
    "    NA\n",
    "} else {\n",
    "    10\n",
    "}"
   ]
  },
  {
   "cell_type": "markdown",
   "metadata": {},
   "source": [
    "### Q5. 아래 코드에서 자유 변수는 무엇인가?"
   ]
  },
  {
   "cell_type": "code",
   "execution_count": 11,
   "metadata": {
    "collapsed": true
   },
   "outputs": [],
   "source": [
    "h <- function(x, y = NULL, d = 3L) {\n",
    "    z <- cbind(x, d)\n",
    "    if(!is.null(y))\n",
    "        z <- z + y\n",
    "    else\n",
    "        z <- z + f\n",
    "    g <- x + y / z\n",
    "    if(d == 3L)\n",
    "        return(g)\n",
    "    g <- g + 10\n",
    "    g\n",
    "}"
   ]
  },
  {
   "cell_type": "markdown",
   "metadata": {},
   "source": [
    "# Exercise\n",
    "\n",
    "### `specdata` 파일을 이용하여 주어진 문제를 해결하세요. \n",
    "\n",
    "해당 압축 파일은 332개의 CSV (Comma-separated-value) 파일로 구성되어 있고, 미국의 332개 지역의 대기 오염 데이터를 포함하고 있다. \n",
    "\n",
    "각 파일은 한 지역의 파일이며 파일 번호는 지역의 번호이다.\n",
    "\n",
    "예를 들어, 200.csv는 200번 지역의 파일을 포함하고 있다.\n",
    "\n",
    "변수는 세 개로 구성되어 있다.\n",
    "\n",
    "- Date : YYYY-MM-DD 형식으로 구성된 날짜\n",
    "- sulfate : 그 날의 sulfate PM 수치\n",
    "- nitrate : 그 날의 nitrate PM 수치\n",
    "\n",
    "또한 데이터는 실제 관측치로 구성되어 있어 NA 값들이 매우 많으므로 NA 처리를 해줘야 한다."
   ]
  },
  {
   "cell_type": "markdown",
   "metadata": {},
   "source": [
    "### Part 1. \n",
    "- 'pollutant_mean' 이라는 함수를 만드세요.\n",
    "- 이 함수는 sulfate / nitrate의 평균 수치를 계산하는 함수입니다. (`mean` 함수)\n",
    "- 이 함수는 'directory', 'pollutant', 'id' 의 3개 인자를 받습니다.\n",
    "    - directory : 파일이 들어있는 폴더\n",
    "    - pollutant : 계산하고 싶은 물질 이름 (sulfate / nitrate)\n",
    "    - id : 찾고 싶은 id의 명단 (벡터로 구성)\n",
    "- NA 값들은 모두 무시한다."
   ]
  },
  {
   "cell_type": "code",
   "execution_count": 97,
   "metadata": {},
   "outputs": [
    {
     "data": {
      "text/html": [
       "<table>\n",
       "<thead><tr><th scope=col>Date</th><th scope=col>sulfate</th><th scope=col>nitrate</th><th scope=col>ID</th></tr></thead>\n",
       "<tbody>\n",
       "\t<tr><td>2000-01-01</td><td>NA        </td><td>NA        </td><td>135       </td></tr>\n",
       "\t<tr><td>2000-01-02</td><td>NA        </td><td>NA        </td><td>135       </td></tr>\n",
       "\t<tr><td>2000-01-03</td><td>NA        </td><td>NA        </td><td>135       </td></tr>\n",
       "\t<tr><td>2000-01-04</td><td>NA        </td><td>NA        </td><td>135       </td></tr>\n",
       "\t<tr><td>2000-01-05</td><td>NA        </td><td>NA        </td><td>135       </td></tr>\n",
       "\t<tr><td>2000-01-06</td><td>NA        </td><td>NA        </td><td>135       </td></tr>\n",
       "</tbody>\n",
       "</table>\n"
      ],
      "text/latex": [
       "\\begin{tabular}{r|llll}\n",
       " Date & sulfate & nitrate & ID\\\\\n",
       "\\hline\n",
       "\t 2000-01-01 & NA         & NA         & 135       \\\\\n",
       "\t 2000-01-02 & NA         & NA         & 135       \\\\\n",
       "\t 2000-01-03 & NA         & NA         & 135       \\\\\n",
       "\t 2000-01-04 & NA         & NA         & 135       \\\\\n",
       "\t 2000-01-05 & NA         & NA         & 135       \\\\\n",
       "\t 2000-01-06 & NA         & NA         & 135       \\\\\n",
       "\\end{tabular}\n"
      ],
      "text/markdown": [
       "\n",
       "Date | sulfate | nitrate | ID | \n",
       "|---|---|---|---|---|---|\n",
       "| 2000-01-01 | NA         | NA         | 135        | \n",
       "| 2000-01-02 | NA         | NA         | 135        | \n",
       "| 2000-01-03 | NA         | NA         | 135        | \n",
       "| 2000-01-04 | NA         | NA         | 135        | \n",
       "| 2000-01-05 | NA         | NA         | 135        | \n",
       "| 2000-01-06 | NA         | NA         | 135        | \n",
       "\n",
       "\n"
      ],
      "text/plain": [
       "  Date       sulfate nitrate ID \n",
       "1 2000-01-01 NA      NA      135\n",
       "2 2000-01-02 NA      NA      135\n",
       "3 2000-01-03 NA      NA      135\n",
       "4 2000-01-04 NA      NA      135\n",
       "5 2000-01-05 NA      NA      135\n",
       "6 2000-01-06 NA      NA      135"
      ]
     },
     "metadata": {},
     "output_type": "display_data"
    }
   ],
   "source": [
    "# 먼저 csv 파일이 어떻게 구성되어 있는지 아무 파일 중 하나를 골라 10줄만 불러오자\n",
    "a <- read.csv(\"Materials/specdata/135.csv\")\n",
    "head(a)"
   ]
  },
  {
   "cell_type": "code",
   "execution_count": 28,
   "metadata": {},
   "outputs": [
    {
     "data": {
      "text/html": [
       "'Materials/specdata/a'"
      ],
      "text/latex": [
       "'Materials/specdata/a'"
      ],
      "text/markdown": [
       "'Materials/specdata/a'"
      ],
      "text/plain": [
       "[1] \"Materials/specdata/a\""
      ]
     },
     "metadata": {},
     "output_type": "display_data"
    }
   ],
   "source": [
    "directory = \"Materials/specdata/\"\n",
    "paste(directory, \"a\", sep=\"\")"
   ]
  },
  {
   "cell_type": "code",
   "execution_count": 31,
   "metadata": {},
   "outputs": [
    {
     "data": {
      "text/html": [
       "<ol class=list-inline>\n",
       "\t<li>'001.csv'</li>\n",
       "\t<li>'002.csv'</li>\n",
       "\t<li>'003.csv'</li>\n",
       "\t<li>'004.csv'</li>\n",
       "\t<li>'005.csv'</li>\n",
       "\t<li>'006.csv'</li>\n",
       "\t<li>'007.csv'</li>\n",
       "\t<li>'008.csv'</li>\n",
       "\t<li>'009.csv'</li>\n",
       "\t<li>'010.csv'</li>\n",
       "\t<li>'011.csv'</li>\n",
       "\t<li>'012.csv'</li>\n",
       "\t<li>'013.csv'</li>\n",
       "\t<li>'014.csv'</li>\n",
       "\t<li>'015.csv'</li>\n",
       "\t<li>'016.csv'</li>\n",
       "\t<li>'017.csv'</li>\n",
       "\t<li>'018.csv'</li>\n",
       "\t<li>'019.csv'</li>\n",
       "\t<li>'020.csv'</li>\n",
       "\t<li>'021.csv'</li>\n",
       "\t<li>'022.csv'</li>\n",
       "\t<li>'023.csv'</li>\n",
       "\t<li>'024.csv'</li>\n",
       "\t<li>'025.csv'</li>\n",
       "\t<li>'026.csv'</li>\n",
       "\t<li>'027.csv'</li>\n",
       "\t<li>'028.csv'</li>\n",
       "\t<li>'029.csv'</li>\n",
       "\t<li>'030.csv'</li>\n",
       "\t<li>'031.csv'</li>\n",
       "\t<li>'032.csv'</li>\n",
       "\t<li>'033.csv'</li>\n",
       "\t<li>'034.csv'</li>\n",
       "\t<li>'035.csv'</li>\n",
       "\t<li>'036.csv'</li>\n",
       "\t<li>'037.csv'</li>\n",
       "\t<li>'038.csv'</li>\n",
       "\t<li>'039.csv'</li>\n",
       "\t<li>'040.csv'</li>\n",
       "\t<li>'041.csv'</li>\n",
       "\t<li>'042.csv'</li>\n",
       "\t<li>'043.csv'</li>\n",
       "\t<li>'044.csv'</li>\n",
       "\t<li>'045.csv'</li>\n",
       "\t<li>'046.csv'</li>\n",
       "\t<li>'047.csv'</li>\n",
       "\t<li>'048.csv'</li>\n",
       "\t<li>'049.csv'</li>\n",
       "\t<li>'050.csv'</li>\n",
       "\t<li>'051.csv'</li>\n",
       "\t<li>'052.csv'</li>\n",
       "\t<li>'053.csv'</li>\n",
       "\t<li>'054.csv'</li>\n",
       "\t<li>'055.csv'</li>\n",
       "\t<li>'056.csv'</li>\n",
       "\t<li>'057.csv'</li>\n",
       "\t<li>'058.csv'</li>\n",
       "\t<li>'059.csv'</li>\n",
       "\t<li>'060.csv'</li>\n",
       "\t<li>'061.csv'</li>\n",
       "\t<li>'062.csv'</li>\n",
       "\t<li>'063.csv'</li>\n",
       "\t<li>'064.csv'</li>\n",
       "\t<li>'065.csv'</li>\n",
       "\t<li>'066.csv'</li>\n",
       "\t<li>'067.csv'</li>\n",
       "\t<li>'068.csv'</li>\n",
       "\t<li>'069.csv'</li>\n",
       "\t<li>'070.csv'</li>\n",
       "\t<li>'071.csv'</li>\n",
       "\t<li>'072.csv'</li>\n",
       "\t<li>'073.csv'</li>\n",
       "\t<li>'074.csv'</li>\n",
       "\t<li>'075.csv'</li>\n",
       "\t<li>'076.csv'</li>\n",
       "\t<li>'077.csv'</li>\n",
       "\t<li>'078.csv'</li>\n",
       "\t<li>'079.csv'</li>\n",
       "\t<li>'080.csv'</li>\n",
       "\t<li>'081.csv'</li>\n",
       "\t<li>'082.csv'</li>\n",
       "\t<li>'083.csv'</li>\n",
       "\t<li>'084.csv'</li>\n",
       "\t<li>'085.csv'</li>\n",
       "\t<li>'086.csv'</li>\n",
       "\t<li>'087.csv'</li>\n",
       "\t<li>'088.csv'</li>\n",
       "\t<li>'089.csv'</li>\n",
       "\t<li>'090.csv'</li>\n",
       "\t<li>'091.csv'</li>\n",
       "\t<li>'092.csv'</li>\n",
       "\t<li>'093.csv'</li>\n",
       "\t<li>'094.csv'</li>\n",
       "\t<li>'095.csv'</li>\n",
       "\t<li>'096.csv'</li>\n",
       "\t<li>'097.csv'</li>\n",
       "\t<li>'098.csv'</li>\n",
       "\t<li>'099.csv'</li>\n",
       "\t<li>'100.csv'</li>\n",
       "</ol>\n"
      ],
      "text/latex": [
       "\\begin{enumerate*}\n",
       "\\item '001.csv'\n",
       "\\item '002.csv'\n",
       "\\item '003.csv'\n",
       "\\item '004.csv'\n",
       "\\item '005.csv'\n",
       "\\item '006.csv'\n",
       "\\item '007.csv'\n",
       "\\item '008.csv'\n",
       "\\item '009.csv'\n",
       "\\item '010.csv'\n",
       "\\item '011.csv'\n",
       "\\item '012.csv'\n",
       "\\item '013.csv'\n",
       "\\item '014.csv'\n",
       "\\item '015.csv'\n",
       "\\item '016.csv'\n",
       "\\item '017.csv'\n",
       "\\item '018.csv'\n",
       "\\item '019.csv'\n",
       "\\item '020.csv'\n",
       "\\item '021.csv'\n",
       "\\item '022.csv'\n",
       "\\item '023.csv'\n",
       "\\item '024.csv'\n",
       "\\item '025.csv'\n",
       "\\item '026.csv'\n",
       "\\item '027.csv'\n",
       "\\item '028.csv'\n",
       "\\item '029.csv'\n",
       "\\item '030.csv'\n",
       "\\item '031.csv'\n",
       "\\item '032.csv'\n",
       "\\item '033.csv'\n",
       "\\item '034.csv'\n",
       "\\item '035.csv'\n",
       "\\item '036.csv'\n",
       "\\item '037.csv'\n",
       "\\item '038.csv'\n",
       "\\item '039.csv'\n",
       "\\item '040.csv'\n",
       "\\item '041.csv'\n",
       "\\item '042.csv'\n",
       "\\item '043.csv'\n",
       "\\item '044.csv'\n",
       "\\item '045.csv'\n",
       "\\item '046.csv'\n",
       "\\item '047.csv'\n",
       "\\item '048.csv'\n",
       "\\item '049.csv'\n",
       "\\item '050.csv'\n",
       "\\item '051.csv'\n",
       "\\item '052.csv'\n",
       "\\item '053.csv'\n",
       "\\item '054.csv'\n",
       "\\item '055.csv'\n",
       "\\item '056.csv'\n",
       "\\item '057.csv'\n",
       "\\item '058.csv'\n",
       "\\item '059.csv'\n",
       "\\item '060.csv'\n",
       "\\item '061.csv'\n",
       "\\item '062.csv'\n",
       "\\item '063.csv'\n",
       "\\item '064.csv'\n",
       "\\item '065.csv'\n",
       "\\item '066.csv'\n",
       "\\item '067.csv'\n",
       "\\item '068.csv'\n",
       "\\item '069.csv'\n",
       "\\item '070.csv'\n",
       "\\item '071.csv'\n",
       "\\item '072.csv'\n",
       "\\item '073.csv'\n",
       "\\item '074.csv'\n",
       "\\item '075.csv'\n",
       "\\item '076.csv'\n",
       "\\item '077.csv'\n",
       "\\item '078.csv'\n",
       "\\item '079.csv'\n",
       "\\item '080.csv'\n",
       "\\item '081.csv'\n",
       "\\item '082.csv'\n",
       "\\item '083.csv'\n",
       "\\item '084.csv'\n",
       "\\item '085.csv'\n",
       "\\item '086.csv'\n",
       "\\item '087.csv'\n",
       "\\item '088.csv'\n",
       "\\item '089.csv'\n",
       "\\item '090.csv'\n",
       "\\item '091.csv'\n",
       "\\item '092.csv'\n",
       "\\item '093.csv'\n",
       "\\item '094.csv'\n",
       "\\item '095.csv'\n",
       "\\item '096.csv'\n",
       "\\item '097.csv'\n",
       "\\item '098.csv'\n",
       "\\item '099.csv'\n",
       "\\item '100.csv'\n",
       "\\end{enumerate*}\n"
      ],
      "text/markdown": [
       "1. '001.csv'\n",
       "2. '002.csv'\n",
       "3. '003.csv'\n",
       "4. '004.csv'\n",
       "5. '005.csv'\n",
       "6. '006.csv'\n",
       "7. '007.csv'\n",
       "8. '008.csv'\n",
       "9. '009.csv'\n",
       "10. '010.csv'\n",
       "11. '011.csv'\n",
       "12. '012.csv'\n",
       "13. '013.csv'\n",
       "14. '014.csv'\n",
       "15. '015.csv'\n",
       "16. '016.csv'\n",
       "17. '017.csv'\n",
       "18. '018.csv'\n",
       "19. '019.csv'\n",
       "20. '020.csv'\n",
       "21. '021.csv'\n",
       "22. '022.csv'\n",
       "23. '023.csv'\n",
       "24. '024.csv'\n",
       "25. '025.csv'\n",
       "26. '026.csv'\n",
       "27. '027.csv'\n",
       "28. '028.csv'\n",
       "29. '029.csv'\n",
       "30. '030.csv'\n",
       "31. '031.csv'\n",
       "32. '032.csv'\n",
       "33. '033.csv'\n",
       "34. '034.csv'\n",
       "35. '035.csv'\n",
       "36. '036.csv'\n",
       "37. '037.csv'\n",
       "38. '038.csv'\n",
       "39. '039.csv'\n",
       "40. '040.csv'\n",
       "41. '041.csv'\n",
       "42. '042.csv'\n",
       "43. '043.csv'\n",
       "44. '044.csv'\n",
       "45. '045.csv'\n",
       "46. '046.csv'\n",
       "47. '047.csv'\n",
       "48. '048.csv'\n",
       "49. '049.csv'\n",
       "50. '050.csv'\n",
       "51. '051.csv'\n",
       "52. '052.csv'\n",
       "53. '053.csv'\n",
       "54. '054.csv'\n",
       "55. '055.csv'\n",
       "56. '056.csv'\n",
       "57. '057.csv'\n",
       "58. '058.csv'\n",
       "59. '059.csv'\n",
       "60. '060.csv'\n",
       "61. '061.csv'\n",
       "62. '062.csv'\n",
       "63. '063.csv'\n",
       "64. '064.csv'\n",
       "65. '065.csv'\n",
       "66. '066.csv'\n",
       "67. '067.csv'\n",
       "68. '068.csv'\n",
       "69. '069.csv'\n",
       "70. '070.csv'\n",
       "71. '071.csv'\n",
       "72. '072.csv'\n",
       "73. '073.csv'\n",
       "74. '074.csv'\n",
       "75. '075.csv'\n",
       "76. '076.csv'\n",
       "77. '077.csv'\n",
       "78. '078.csv'\n",
       "79. '079.csv'\n",
       "80. '080.csv'\n",
       "81. '081.csv'\n",
       "82. '082.csv'\n",
       "83. '083.csv'\n",
       "84. '084.csv'\n",
       "85. '085.csv'\n",
       "86. '086.csv'\n",
       "87. '087.csv'\n",
       "88. '088.csv'\n",
       "89. '089.csv'\n",
       "90. '090.csv'\n",
       "91. '091.csv'\n",
       "92. '092.csv'\n",
       "93. '093.csv'\n",
       "94. '094.csv'\n",
       "95. '095.csv'\n",
       "96. '096.csv'\n",
       "97. '097.csv'\n",
       "98. '098.csv'\n",
       "99. '099.csv'\n",
       "100. '100.csv'\n",
       "\n",
       "\n"
      ],
      "text/plain": [
       "  [1] \"001.csv\" \"002.csv\" \"003.csv\" \"004.csv\" \"005.csv\" \"006.csv\" \"007.csv\"\n",
       "  [8] \"008.csv\" \"009.csv\" \"010.csv\" \"011.csv\" \"012.csv\" \"013.csv\" \"014.csv\"\n",
       " [15] \"015.csv\" \"016.csv\" \"017.csv\" \"018.csv\" \"019.csv\" \"020.csv\" \"021.csv\"\n",
       " [22] \"022.csv\" \"023.csv\" \"024.csv\" \"025.csv\" \"026.csv\" \"027.csv\" \"028.csv\"\n",
       " [29] \"029.csv\" \"030.csv\" \"031.csv\" \"032.csv\" \"033.csv\" \"034.csv\" \"035.csv\"\n",
       " [36] \"036.csv\" \"037.csv\" \"038.csv\" \"039.csv\" \"040.csv\" \"041.csv\" \"042.csv\"\n",
       " [43] \"043.csv\" \"044.csv\" \"045.csv\" \"046.csv\" \"047.csv\" \"048.csv\" \"049.csv\"\n",
       " [50] \"050.csv\" \"051.csv\" \"052.csv\" \"053.csv\" \"054.csv\" \"055.csv\" \"056.csv\"\n",
       " [57] \"057.csv\" \"058.csv\" \"059.csv\" \"060.csv\" \"061.csv\" \"062.csv\" \"063.csv\"\n",
       " [64] \"064.csv\" \"065.csv\" \"066.csv\" \"067.csv\" \"068.csv\" \"069.csv\" \"070.csv\"\n",
       " [71] \"071.csv\" \"072.csv\" \"073.csv\" \"074.csv\" \"075.csv\" \"076.csv\" \"077.csv\"\n",
       " [78] \"078.csv\" \"079.csv\" \"080.csv\" \"081.csv\" \"082.csv\" \"083.csv\" \"084.csv\"\n",
       " [85] \"085.csv\" \"086.csv\" \"087.csv\" \"088.csv\" \"089.csv\" \"090.csv\" \"091.csv\"\n",
       " [92] \"092.csv\" \"093.csv\" \"094.csv\" \"095.csv\" \"096.csv\" \"097.csv\" \"098.csv\"\n",
       " [99] \"099.csv\" \"100.csv\""
      ]
     },
     "metadata": {},
     "output_type": "display_data"
    }
   ],
   "source": [
    "sprintf(\"%03d.csv\", 1:100)"
   ]
  },
  {
   "cell_type": "code",
   "execution_count": 213,
   "metadata": {},
   "outputs": [],
   "source": [
    "pollutant_mean <- function(directory, pollutant, id = 1:332) {\n",
    "    \n",
    "    sum = 0\n",
    "    count = 0\n",
    "    \n",
    "    for (i in id) {\n",
    "        file_name <- sprintf(\"%03d.csv\", i)\n",
    "        file_path <- read.csv(paste(directory, file_name, sep=''))\n",
    "        sum = sum + sum(file_path[pollutant][!is.na(file_path[pollutant])])\n",
    "        count = count + dim(file_path[!is.na(file_path[pollutant]),])[1]\n",
    "    }\n",
    "    \n",
    "    sum / count\n",
    "}"
   ]
  },
  {
   "cell_type": "code",
   "execution_count": 214,
   "metadata": {},
   "outputs": [
    {
     "data": {
      "text/html": [
       "4.06412824256036"
      ],
      "text/latex": [
       "4.06412824256036"
      ],
      "text/markdown": [
       "4.06412824256036"
      ],
      "text/plain": [
       "[1] 4.064128"
      ]
     },
     "metadata": {},
     "output_type": "display_data"
    }
   ],
   "source": [
    "pollutant_mean(\"Materials/specdata/\", \"sulfate\", 1:10)"
   ]
  },
  {
   "cell_type": "markdown",
   "metadata": {},
   "source": [
    "### Part 2.\n",
    "전체 파일을 읽어서, 각 파일에서 온전한 관측치 쌍의 숫자를 세어라.\n",
    "그리고 열 이름이 각각 'id', 'nobs'인 데이터 프레임에 저장하여 데이터 프레임을 리턴하라."
   ]
  },
  {
   "cell_type": "code",
   "execution_count": 124,
   "metadata": {
    "scrolled": false
   },
   "outputs": [
    {
     "data": {
      "text/html": [
       "<ol class=list-inline>\n",
       "\t<li>41</li>\n",
       "\t<li>4</li>\n",
       "</ol>\n"
      ],
      "text/latex": [
       "\\begin{enumerate*}\n",
       "\\item 41\n",
       "\\item 4\n",
       "\\end{enumerate*}\n"
      ],
      "text/markdown": [
       "1. 41\n",
       "2. 4\n",
       "\n",
       "\n"
      ],
      "text/plain": [
       "[1] 41  4"
      ]
     },
     "metadata": {},
     "output_type": "display_data"
    }
   ],
   "source": [
    "mask = a[!is.na(a[\"sulfate\"]) & !is.na(a[\"nitrate\"]), ]\n",
    "dim(mask)"
   ]
  },
  {
   "cell_type": "code",
   "execution_count": 150,
   "metadata": {
    "scrolled": true
   },
   "outputs": [
    {
     "data": {
      "text/html": [
       "<table>\n",
       "<thead><tr><th scope=col>id</th><th scope=col>nobs</th></tr></thead>\n",
       "<tbody>\n",
       "\t<tr><td>1</td><td>3</td></tr>\n",
       "</tbody>\n",
       "</table>\n"
      ],
      "text/latex": [
       "\\begin{tabular}{r|ll}\n",
       " id & nobs\\\\\n",
       "\\hline\n",
       "\t 1 & 3\\\\\n",
       "\\end{tabular}\n"
      ],
      "text/markdown": [
       "\n",
       "id | nobs | \n",
       "|---|\n",
       "| 1 | 3 | \n",
       "\n",
       "\n"
      ],
      "text/plain": [
       "  id nobs\n",
       "1 1  3   "
      ]
     },
     "metadata": {},
     "output_type": "display_data"
    }
   ],
   "source": [
    "result_df = data.frame(id = 1, nobs = 0)\n",
    "result_df[1,] = c(1,3)\n",
    "result_df"
   ]
  },
  {
   "cell_type": "code",
   "execution_count": 156,
   "metadata": {},
   "outputs": [
    {
     "data": {
      "text/html": [
       "<ol class=list-inline>\n",
       "\t<li>1</li>\n",
       "\t<li>2</li>\n",
       "</ol>\n"
      ],
      "text/latex": [
       "\\begin{enumerate*}\n",
       "\\item 1\n",
       "\\item 2\n",
       "\\end{enumerate*}\n"
      ],
      "text/markdown": [
       "1. 1\n",
       "2. 2\n",
       "\n",
       "\n"
      ],
      "text/plain": [
       "[1] 1 2"
      ]
     },
     "metadata": {},
     "output_type": "display_data"
    }
   ],
   "source": [
    "dim(result_df)"
   ]
  },
  {
   "cell_type": "code",
   "execution_count": 187,
   "metadata": {
    "scrolled": true
   },
   "outputs": [],
   "source": [
    "complete <- function(directory, id = 1:332) {\n",
    "    result_df = data.frame(id = 1, nobs = 0)\n",
    "    j = 1\n",
    "    for (i in id) {\n",
    "        file_name <- sprintf(\"%03d.csv\", i)\n",
    "        file_path <- read.csv(paste(directory, file_name, sep=''))\n",
    "        mask = file_path[!is.na(file_path[\"sulfate\"]) & !is.na(file_path[\"nitrate\"]), ]\n",
    "        result_df[j,] = c(i, dim(mask)[1])\n",
    "        j = j+1\n",
    "    }\n",
    "    result_df\n",
    "}"
   ]
  },
  {
   "cell_type": "markdown",
   "metadata": {},
   "source": [
    "### Part 3.\n",
    "\n",
    "- 인자 (디렉토리, 최소 완전한 관측 수)\n",
    "\n",
    "최소 관측 수보다 완전한 데이터가 많은 지역에서 두 물질 간의 상관관계를 구하여라.\n",
    "\n",
    "그리고 이 상관관계들로 구성된 벡터를 리턴하여라.\n",
    "\n",
    "만약 어떠한 지역도 최소 관측 수를 만족 못시킨다면 길이가 0인 벡터를 리턴하라."
   ]
  },
  {
   "cell_type": "code",
   "execution_count": 185,
   "metadata": {
    "scrolled": true
   },
   "outputs": [],
   "source": [
    "corr <- function(directory, threshold = 0) {\n",
    "    id = 1:332\n",
    "    j = 1\n",
    "    result_vector = c()\n",
    "    for (i in id) {\n",
    "        file_name <- sprintf(\"%03d.csv\", i)\n",
    "        file_path <- read.csv(paste(directory, file_name, sep=''))\n",
    "        mask = file_path[!is.na(file_path[\"sulfate\"]) & !is.na(file_path[\"nitrate\"]), ]\n",
    "        if(dim(mask)[1] > threshold) {\n",
    "            result_vector[j] = cor(mask[\"sulfate\"], mask[\"nitrate\"])\n",
    "            j = j + 1\n",
    "        }\n",
    "    }\n",
    "    \n",
    "    result_vector\n",
    "}"
   ]
  },
  {
   "cell_type": "markdown",
   "metadata": {},
   "source": [
    "### Quiz for Exercise"
   ]
  },
  {
   "cell_type": "code",
   "execution_count": 215,
   "metadata": {},
   "outputs": [
    {
     "data": {
      "text/html": [
       "4.06412824256036"
      ],
      "text/latex": [
       "4.06412824256036"
      ],
      "text/markdown": [
       "4.06412824256036"
      ],
      "text/plain": [
       "[1] 4.064128"
      ]
     },
     "metadata": {},
     "output_type": "display_data"
    }
   ],
   "source": [
    "pollutant_mean(\"Materials/specdata/\", \"sulfate\", 1:10)"
   ]
  },
  {
   "cell_type": "code",
   "execution_count": 232,
   "metadata": {},
   "outputs": [
    {
     "data": {
      "text/html": [
       "1.70604735169492"
      ],
      "text/latex": [
       "1.70604735169492"
      ],
      "text/markdown": [
       "1.70604735169492"
      ],
      "text/plain": [
       "[1] 1.706047"
      ]
     },
     "metadata": {},
     "output_type": "display_data"
    }
   ],
   "source": [
    "pollutant_mean(\"Materials/specdata/\", \"nitrate\", 70:72)"
   ]
  },
  {
   "cell_type": "code",
   "execution_count": 220,
   "metadata": {},
   "outputs": [
    {
     "data": {
      "text/html": [
       "1.47714303030303"
      ],
      "text/latex": [
       "1.47714303030303"
      ],
      "text/markdown": [
       "1.47714303030303"
      ],
      "text/plain": [
       "[1] 1.477143"
      ]
     },
     "metadata": {},
     "output_type": "display_data"
    }
   ],
   "source": [
    "pollutant_mean(\"Materials/specdata/\", \"sulfate\", 34)"
   ]
  },
  {
   "cell_type": "code",
   "execution_count": 222,
   "metadata": {},
   "outputs": [
    {
     "data": {
      "text/html": [
       "1.70293184286701"
      ],
      "text/latex": [
       "1.70293184286701"
      ],
      "text/markdown": [
       "1.70293184286701"
      ],
      "text/plain": [
       "[1] 1.702932"
      ]
     },
     "metadata": {},
     "output_type": "display_data"
    }
   ],
   "source": [
    "pollutant_mean(\"Materials/specdata/\", \"nitrate\")"
   ]
  },
  {
   "cell_type": "code",
   "execution_count": 224,
   "metadata": {},
   "outputs": [
    {
     "name": "stdout",
     "output_type": "stream",
     "text": [
      "[1] 228 148 124 165 104 460 232\n"
     ]
    }
   ],
   "source": [
    "cc <- complete(\"Materials/specdata/\", c(6, 10, 20, 34, 100, 200, 310))\n",
    "print(cc$nobs)"
   ]
  },
  {
   "cell_type": "code",
   "execution_count": 225,
   "metadata": {},
   "outputs": [
    {
     "name": "stdout",
     "output_type": "stream",
     "text": [
      "[1] 219\n"
     ]
    }
   ],
   "source": [
    "cc <- complete(\"Materials/specdata/\", 54)\n",
    "print(cc$nobs)"
   ]
  },
  {
   "cell_type": "code",
   "execution_count": 226,
   "metadata": {},
   "outputs": [
    {
     "name": "stdout",
     "output_type": "stream",
     "text": [
      " [1] 711 135  74 445 178  73  49   0 687 237\n"
     ]
    }
   ],
   "source": [
    "set.seed(42)\n",
    "cc <- complete(\"Materials/specdata/\", 332:1)\n",
    "use <- sample(332, 10)\n",
    "print(cc[use, \"nobs\"])"
   ]
  },
  {
   "cell_type": "code",
   "execution_count": 227,
   "metadata": {},
   "outputs": [
    {
     "name": "stdout",
     "output_type": "stream",
     "text": [
      "[1]  0.2688  0.1127 -0.0085  0.4586  0.0447\n"
     ]
    }
   ],
   "source": [
    "cr <- corr(\"Materials/specdata/\")\n",
    "cr <- sort(cr)\n",
    "set.seed(868)\n",
    "out <- round(cr[sample(length(cr), 5)], 4)\n",
    "print(out)"
   ]
  },
  {
   "cell_type": "code",
   "execution_count": 230,
   "metadata": {},
   "outputs": [
    {
     "name": "stdout",
     "output_type": "stream",
     "text": [
      "[1] 243.0000   0.2540   0.0504  -0.1462  -0.1680   0.5969\n"
     ]
    }
   ],
   "source": [
    "cr <- corr(\"Materials/specdata/\", 129)\n",
    "cr <- sort(cr)\n",
    "n <- length(cr)\n",
    "set.seed(197)\n",
    "out <- c(n, round(cr[sample(n,5)], 4))\n",
    "print(out)"
   ]
  },
  {
   "cell_type": "code",
   "execution_count": 231,
   "metadata": {},
   "outputs": [
    {
     "name": "stdout",
     "output_type": "stream",
     "text": [
      "[1]  0.0000 -0.0190  0.0419  0.1901\n"
     ]
    }
   ],
   "source": [
    "cr <- corr(\"Materials/specdata/\", 2000)\n",
    "n <- length(cr)\n",
    "cr <- corr(\"Materials/specdata/\", 1000)\n",
    "cr <- sort(cr)\n",
    "print( c(n, round(cr, 4)))"
   ]
  }
 ],
 "metadata": {
  "kernelspec": {
   "display_name": "R",
   "language": "R",
   "name": "ir"
  },
  "language_info": {
   "codemirror_mode": "r",
   "file_extension": ".r",
   "mimetype": "text/x-r-source",
   "name": "R",
   "pygments_lexer": "r",
   "version": "3.4.3"
  }
 },
 "nbformat": 4,
 "nbformat_minor": 2
}
