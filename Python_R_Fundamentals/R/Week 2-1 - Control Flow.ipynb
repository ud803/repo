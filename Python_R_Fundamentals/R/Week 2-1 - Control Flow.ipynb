{
 "cells": [
  {
   "cell_type": "markdown",
   "metadata": {},
   "source": [
    "이번 챕터에서는 R의 함수와 흐름을 결정하는 문법을 공부할 것이다.\n",
    "\n",
    "흐름을 제어하는 (if-else, for루프)를 배우고, 함수를 선언하는 기초 문법을 배운다.\n",
    "\n",
    "그리고 프로그래밍 언어의 \"[Lexical Scoping](http://whatis.techtarget.com/definition/lexical-scoping-static-scoping)\"(변수의 운용범위?)에 대해서도 배운다.\n",
    "\n"
   ]
  },
  {
   "cell_type": "markdown",
   "metadata": {},
   "source": [
    "# Control Structures\n",
    "\n",
    "R에서 흐름을 제어하는 구조는 프로그램의 실행 흐름을 런타임 컨디션에 따라 조정해준다. \n",
    "\n",
    "자주 쓰이는 구문들은 아래와 같다.\n",
    "\n",
    "- `if, else` : 조건을 검사한다\n",
    "- `for` : 정해진 횟수만큼 루프를 돌린다\n",
    "- `while` : 주어진 조건이 True인 동안 루프를 돌린다\n",
    "- `repeate` : 무한 루프를 돌린다\n",
    "- `break` : 루프에서 벗어난다\n",
    "- `next` : 루프의 반복을 1회 건너뛴다 (다시 다음루프 시작)\n",
    "- `return` : 함수를 종료한다\n",
    "\n",
    "흐름 제어 구문들은 인터랙티브 세션에서는 잘 쓰이지 않지만, 긴 스크립트 형태에서는 많이 쓰인다.\n",
    "\n",
    "\n",
    "### `if`\n",
    "\n",
    "`if`문의 문법은 아래와 같다.\n",
    "\n",
    "`else`나 `if else`문의 사용은 선택적이다."
   ]
  },
  {
   "cell_type": "raw",
   "metadata": {},
   "source": [
    "if(<condition>) {\n",
    "    ## do something\n",
    "} else {\n",
    "    ## do something else\n",
    "}\n",
    "\n",
    "if(<condition2>) {\n",
    "    ## do something\n",
    "} else if {\n",
    "    ## do something different\n",
    "} else {\n",
    "    ## do something different\n",
    "}"
   ]
  },
  {
   "cell_type": "code",
   "execution_count": 3,
   "metadata": {},
   "outputs": [
    {
     "data": {
      "text/html": [
       "0"
      ],
      "text/latex": [
       "0"
      ],
      "text/markdown": [
       "0"
      ],
      "text/plain": [
       "[1] 0"
      ]
     },
     "metadata": {},
     "output_type": "display_data"
    }
   ],
   "source": [
    "# 간단한 예를 살펴보자.\n",
    "x = 2\n",
    "\n",
    "if(x >3) {\n",
    "    y <- 10\n",
    "} else {\n",
    "    y <- 0\n",
    "}\n",
    "\n",
    "y"
   ]
  },
  {
   "cell_type": "code",
   "execution_count": 4,
   "metadata": {},
   "outputs": [
    {
     "data": {
      "text/html": [
       "0"
      ],
      "text/latex": [
       "0"
      ],
      "text/markdown": [
       "0"
      ],
      "text/plain": [
       "[1] 0"
      ]
     },
     "metadata": {},
     "output_type": "display_data"
    }
   ],
   "source": [
    "# 위와 똑같은 코드를 이렇게도 사용할 수 있다.\n",
    "y <- if(x > 3) {\n",
    "    10\n",
    "} else {\n",
    "    0\n",
    "}\n",
    "\n",
    "y"
   ]
  },
  {
   "cell_type": "markdown",
   "metadata": {},
   "source": [
    "### `for`\n",
    "\n",
    "`for` 반복문은 보통 특정 오브젝트의 원소들을 반복하는 데 많이 사용된다."
   ]
  },
  {
   "cell_type": "raw",
   "metadata": {},
   "source": [
    "for (i in 1:10) {\n",
    "    print(i)\n",
    "}"
   ]
  },
  {
   "cell_type": "code",
   "execution_count": 6,
   "metadata": {},
   "outputs": [
    {
     "name": "stdout",
     "output_type": "stream",
     "text": [
      "[1] \"a\"\n",
      "[1] \"b\"\n",
      "[1] \"c\"\n",
      "[1] \"d\"\n",
      "[1] \"a\"\n",
      "[1] \"b\"\n",
      "[1] \"c\"\n",
      "[1] \"d\"\n"
     ]
    }
   ],
   "source": [
    "# for 루프의 다양한 사용을 살펴보자.\n",
    "\n",
    "x <- c(\"a\", \"b\", \"c\", \"d\")\n",
    "\n",
    "for(i in 1:4) {\n",
    "    print(x[i])\n",
    "}\n",
    "\n",
    "\n",
    "# seq_along은 벡터를 인풋으로 받아서 \n",
    "# 정수형 순서값을 반환한다\n",
    "for(i in seq_along(x)) {\n",
    "    print(x[i])\n",
    "}"
   ]
  },
  {
   "cell_type": "code",
   "execution_count": 9,
   "metadata": {},
   "outputs": [
    {
     "name": "stdout",
     "output_type": "stream",
     "text": [
      "[1] \"a\"\n",
      "[1] \"b\"\n",
      "[1] \"c\"\n",
      "[1] \"d\"\n",
      "[1] \"a\"\n",
      "[1] \"b\"\n",
      "[1] \"c\"\n",
      "[1] \"d\"\n"
     ]
    }
   ],
   "source": [
    "# 원소를 그대로 받는다\n",
    "for(letter in x) {\n",
    "    print(letter)\n",
    "}\n",
    "\n",
    "# 한 줄에 넣는다면 {}를 사용할 필요가 없음\n",
    "for(i in 1:4) print(x[i])"
   ]
  },
  {
   "cell_type": "code",
   "execution_count": 11,
   "metadata": {},
   "outputs": [
    {
     "name": "stdout",
     "output_type": "stream",
     "text": [
      "     [,1] [,2] [,3]\n",
      "[1,]    1    3    5\n",
      "[2,]    2    4    6\n",
      "[1] 1\n",
      "[1] 3\n",
      "[1] 5\n",
      "[1] 2\n",
      "[1] 4\n",
      "[1] 6\n"
     ]
    }
   ],
   "source": [
    "# 중첩 for 문\n",
    "\n",
    "x <- matrix(1:6, 2, 3)\n",
    "\n",
    "print(x)\n",
    "\n",
    "for(i in seq_len(nrow(x))) {\n",
    "    for(j in seq_len(ncol(x))) {\n",
    "        print(x[i, j])\n",
    "    }\n",
    "    \n",
    "}"
   ]
  },
  {
   "cell_type": "code",
   "execution_count": 14,
   "metadata": {},
   "outputs": [
    {
     "data": {
      "text/html": [
       "<ol class=list-inline>\n",
       "\t<li>1</li>\n",
       "\t<li>2</li>\n",
       "\t<li>3</li>\n",
       "</ol>\n"
      ],
      "text/latex": [
       "\\begin{enumerate*}\n",
       "\\item 1\n",
       "\\item 2\n",
       "\\item 3\n",
       "\\end{enumerate*}\n"
      ],
      "text/markdown": [
       "1. 1\n",
       "2. 2\n",
       "3. 3\n",
       "\n",
       "\n"
      ],
      "text/plain": [
       "[1] 1 2 3"
      ]
     },
     "metadata": {},
     "output_type": "display_data"
    }
   ],
   "source": [
    "# seq_len : 주어진 인풋만큼의 배열을 만듦\n",
    "seq_len(3)"
   ]
  },
  {
   "cell_type": "code",
   "execution_count": 19,
   "metadata": {},
   "outputs": [
    {
     "data": {
      "text/html": [
       "<ol class=list-inline>\n",
       "\t<li>1</li>\n",
       "\t<li>2</li>\n",
       "\t<li>3</li>\n",
       "</ol>\n"
      ],
      "text/latex": [
       "\\begin{enumerate*}\n",
       "\\item 1\n",
       "\\item 2\n",
       "\\item 3\n",
       "\\end{enumerate*}\n"
      ],
      "text/markdown": [
       "1. 1\n",
       "2. 2\n",
       "3. 3\n",
       "\n",
       "\n"
      ],
      "text/plain": [
       "[1] 1 2 3"
      ]
     },
     "metadata": {},
     "output_type": "display_data"
    }
   ],
   "source": [
    "# seq_along : 주어진 배열의 길이만큼의 배열을 만\n",
    "seq_along(c(1,2,3))"
   ]
  },
  {
   "cell_type": "markdown",
   "metadata": {},
   "source": [
    "### `while`\n",
    "\n",
    "`While`은 주어진 조건을 검증하면서 시작한다. 만약 값이 True이면, 루프 내용을 실행한다."
   ]
  },
  {
   "cell_type": "code",
   "execution_count": 22,
   "metadata": {
    "scrolled": true
   },
   "outputs": [
    {
     "name": "stdout",
     "output_type": "stream",
     "text": [
      "[1] 0\n",
      "[1] 1\n",
      "[1] 2\n",
      "[1] 3\n",
      "[1] 4\n",
      "[1] 5\n",
      "[1] 6\n",
      "[1] 7\n",
      "[1] 8\n",
      "[1] 9\n"
     ]
    }
   ],
   "source": [
    "count <- 0\n",
    "while(count < 10) {\n",
    "    print(count)\n",
    "    count <- count + 1\n",
    "}"
   ]
  },
  {
   "cell_type": "markdown",
   "metadata": {},
   "source": [
    "*주어진 조건은 항상 왼쪽에서 오른쪽 순서로 읽는다.*"
   ]
  },
  {
   "cell_type": "code",
   "execution_count": 46,
   "metadata": {
    "scrolled": true
   },
   "outputs": [
    {
     "data": {
      "text/html": [
       "<ol class=list-inline>\n",
       "\t<li>TRUE</li>\n",
       "\t<li>FALSE</li>\n",
       "\t<li>FALSE</li>\n",
       "</ol>\n"
      ],
      "text/latex": [
       "\\begin{enumerate*}\n",
       "\\item TRUE\n",
       "\\item FALSE\n",
       "\\item FALSE\n",
       "\\end{enumerate*}\n"
      ],
      "text/markdown": [
       "1. TRUE\n",
       "2. FALSE\n",
       "3. FALSE\n",
       "\n",
       "\n"
      ],
      "text/plain": [
       "[1]  TRUE FALSE FALSE"
      ]
     },
     "metadata": {},
     "output_type": "display_data"
    },
    {
     "data": {
      "text/html": [
       "TRUE"
      ],
      "text/latex": [
       "TRUE"
      ],
      "text/markdown": [
       "TRUE"
      ],
      "text/plain": [
       "[1] TRUE"
      ]
     },
     "metadata": {},
     "output_type": "display_data"
    }
   ],
   "source": [
    "# 논리 연산 주의할 점\n",
    "# &나 |는 벡터의 원소 단위로 비교하고, &&나 ||는 첫번째 원소만으로 비교한다!\n",
    "\n",
    "a = c(2, 1, 2)\n",
    "b = c(2, 3, 4)\n",
    "\n",
    "a == b & a >= b\n",
    "a == b && a >= b"
   ]
  },
  {
   "cell_type": "code",
   "execution_count": 53,
   "metadata": {},
   "outputs": [
    {
     "data": {
      "text/html": [
       "FALSE"
      ],
      "text/latex": [
       "FALSE"
      ],
      "text/markdown": [
       "FALSE"
      ],
      "text/plain": [
       "[1] FALSE"
      ]
     },
     "metadata": {},
     "output_type": "display_data"
    },
    {
     "data": {
      "text/html": [
       "FALSE"
      ],
      "text/latex": [
       "FALSE"
      ],
      "text/markdown": [
       "FALSE"
      ],
      "text/plain": [
       "[1] FALSE"
      ]
     },
     "metadata": {},
     "output_type": "display_data"
    }
   ],
   "source": [
    "z <- \n",
    "\n",
    "z >=3 & z <= 10\n",
    "z >=3 && z <= 10"
   ]
  },
  {
   "cell_type": "code",
   "execution_count": 103,
   "metadata": {
    "scrolled": true
   },
   "outputs": [
    {
     "name": "stdout",
     "output_type": "stream",
     "text": [
      "[1] 5\n",
      "[1] 6\n",
      "[1] 7\n",
      "[1] 6\n",
      "[1] 5\n",
      "[1] 4\n",
      "[1] 5\n",
      "[1] 6\n",
      "[1] 5\n",
      "[1] 6\n",
      "[1] 7\n",
      "[1] 8\n",
      "[1] 7\n",
      "[1] 6\n",
      "[1] 7\n",
      "[1] 8\n",
      "[1] 9\n",
      "[1] 8\n",
      "[1] 7\n",
      "[1] 8\n",
      "[1] 7\n",
      "[1] 6\n",
      "[1] 7\n",
      "[1] 8\n",
      "[1] 9\n",
      "[1] 10\n"
     ]
    }
   ],
   "source": [
    "# 조건이 1개 이상일 때\n",
    "# 여기서 루프가 몇 번이나 돌지는 알 수 없다.\n",
    "z <- 5\n",
    "while(z >= 3 && z <= 10) {\n",
    "    print(z)\n",
    "    coin <- rbinom(1, 1, 0.5)\n",
    "\n",
    "    if(coin == 1) {  ## random walk\n",
    "        z <- z + 1\n",
    "    } else {\n",
    "        z <- z - 1\n",
    "    }\n",
    "}\n",
    "\n",
    "  "
   ]
  },
  {
   "cell_type": "markdown",
   "metadata": {},
   "source": [
    "### `repeat`\n",
    "`repeat`은 무한 루프를 생성한다.\n",
    "\n",
    "보통 통계적 응용으로 사용하지는 않지만, 특정 용도로 사용된다.\n",
    "\n",
    "`repeat`은 프로그램이 끝날 것이라는 보장이 없기 때문에, 항상 반복에 제한을 걸어야 한다. \n"
   ]
  },
  {
   "cell_type": "raw",
   "metadata": {},
   "source": [
    "x0 <- 1\n",
    "tol <- 1e-8\n",
    "\n",
    "repeat {\n",
    "    x1 <- computeEstimate()\n",
    "    \n",
    "    if(abs(x1 - x0) < tol) {\n",
    "         break\n",
    "    } else {\n",
    "        x0 <- x1\n",
    "    }\n",
    "}"
   ]
  },
  {
   "cell_type": "markdown",
   "metadata": {},
   "source": [
    "### `next`, `return`\n",
    "\n",
    "`next`는 반복문에서 해당 루프를 건너뛸 때 사용한다.\n",
    "\n",
    "건너 뛰고 나서는, 다음 반복 차수로 넘어간다."
   ]
  },
  {
   "cell_type": "code",
   "execution_count": 104,
   "metadata": {},
   "outputs": [
    {
     "name": "stdout",
     "output_type": "stream",
     "text": [
      "[1] 100\n"
     ]
    }
   ],
   "source": [
    "for (i in 1:100) {\n",
    "    if(i <= 99) {\n",
    "        ## Skip the first 99 iter\n",
    "        next\n",
    "    }\n",
    "    \n",
    "    print(i)\n",
    "}"
   ]
  },
  {
   "cell_type": "markdown",
   "metadata": {},
   "source": [
    "`return`은 함수가 종료되고, 해당 값을 반환(return)해야 한다는 신호를 보낸다."
   ]
  },
  {
   "cell_type": "code",
   "execution_count": null,
   "metadata": {
    "collapsed": true
   },
   "outputs": [],
   "source": []
  }
 ],
 "metadata": {
  "kernelspec": {
   "display_name": "R",
   "language": "R",
   "name": "ir"
  },
  "language_info": {
   "codemirror_mode": "r",
   "file_extension": ".r",
   "mimetype": "text/x-r-source",
   "name": "R",
   "pygments_lexer": "r",
   "version": "3.4.3"
  }
 },
 "nbformat": 4,
 "nbformat_minor": 2
}
