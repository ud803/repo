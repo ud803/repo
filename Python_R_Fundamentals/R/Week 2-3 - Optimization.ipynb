{
 "cells": [
  {
   "cell_type": "markdown",
   "metadata": {},
   "source": [
    "# Application : Optimization\n",
    "\n",
    "- R에서, `optim`, `nlm`, `optimize`와 같은 최적화 기법들은 인자가 파라미터의 벡터로 구성된 함수를 전달하도록 요구한다 (e.g. a log-likelihood)\n",
    "- 하지만, 목적 함수는 파라미터 외에도 다른 것들에 의존할 수 있다\n",
    "- 최적화 프로그램을 설계할 때, 사용자들이 며몇 파라미터를 고정된 상태로 두도록 하는 것이 바람직할 때가 있다\n",
    "\n",
    "아래서 살펴볼 \"생성자 함수(Constructor Function)\"는 함수를 리턴하는 함수이다.\n",
    "\n",
    "즉, 다른 함수를 '생성'하는 함수이다.\n",
    "\n",
    "\n",
    "### 1. Maximizing a Normal Likelihood\n"
   ]
  },
  {
   "cell_type": "code",
   "execution_count": 24,
   "metadata": {
    "collapsed": true
   },
   "outputs": [],
   "source": [
    "# Write a \"constructor\" function\n",
    "# Optimization func in R minimize functions, so you should use negative log-like\n",
    "\n",
    "make.NegLogLik <- function(data, fixed=c(FALSE, FALSE)) {\n",
    "    params <- fixed\n",
    "    function(p) {\n",
    "        params[!fixed] <- p\n",
    "        mu <- params[1]\n",
    "        sigma <- params[2]\n",
    "        a <- -0.5*length(data)*log(2*pi*sigma^2)\n",
    "        b <- -0.5*sum((data-mu)^2) / (sigma^2)\n",
    "        -(a+b)\n",
    "    }\n",
    "}"
   ]
  },
  {
   "cell_type": "code",
   "execution_count": 25,
   "metadata": {},
   "outputs": [
    {
     "name": "stdout",
     "output_type": "stream",
     "text": [
      "function(p) {\n",
      "        params[!fixed] <- p\n",
      "        mu <- params[1]\n",
      "        sigma <- params[2]\n",
      "        a <- -0.5*length(data)*log(2*pi*sigma^2)\n",
      "        b <- -0.5*sum((data-mu)^2) / (sigma^2)\n",
      "        -(a+b)\n",
      "    }\n",
      "<bytecode: 0x5567237bead0>\n",
      "<environment: 0x5567230e78e0>\n"
     ]
    }
   ],
   "source": [
    "set.seed(1); normals <- rnorm(100, 1, 2)\n",
    "\n",
    "nLL <- make.NegLogLik(normals)\n",
    "print(nLL)\n",
    "\n",
    "# 여기서는 environment가 출력이 되는데, 전역 환경에서 정의된 함수와 달리\n",
    "# 함수 내의 함수는 포인터가 생기기 때문에 그것을 알려주기 위함이"
   ]
  },
  {
   "cell_type": "code",
   "execution_count": 26,
   "metadata": {
    "scrolled": true
   },
   "outputs": [
    {
     "data": {
      "text/html": [
       "<ol class=list-inline>\n",
       "\t<li>'data'</li>\n",
       "\t<li>'fixed'</li>\n",
       "\t<li>'params'</li>\n",
       "</ol>\n"
      ],
      "text/latex": [
       "\\begin{enumerate*}\n",
       "\\item 'data'\n",
       "\\item 'fixed'\n",
       "\\item 'params'\n",
       "\\end{enumerate*}\n"
      ],
      "text/markdown": [
       "1. 'data'\n",
       "2. 'fixed'\n",
       "3. 'params'\n",
       "\n",
       "\n"
      ],
      "text/plain": [
       "[1] \"data\"   \"fixed\"  \"params\""
      ]
     },
     "metadata": {},
     "output_type": "display_data"
    }
   ],
   "source": [
    "ls(environment(nLL))"
   ]
  },
  {
   "cell_type": "markdown",
   "metadata": {},
   "source": [
    "### 2. Estimating Parameters"
   ]
  },
  {
   "cell_type": "code",
   "execution_count": 27,
   "metadata": {},
   "outputs": [
    {
     "data": {
      "text/html": [
       "<dl class=dl-horizontal>\n",
       "\t<dt>mu</dt>\n",
       "\t\t<dd>1.21823870094054</dd>\n",
       "\t<dt>sigma</dt>\n",
       "\t\t<dd>1.78734322778414</dd>\n",
       "</dl>\n"
      ],
      "text/latex": [
       "\\begin{description*}\n",
       "\\item[mu] 1.21823870094054\n",
       "\\item[sigma] 1.78734322778414\n",
       "\\end{description*}\n"
      ],
      "text/markdown": [
       "mu\n",
       ":   1.21823870094054sigma\n",
       ":   1.78734322778414\n",
       "\n"
      ],
      "text/plain": [
       "      mu    sigma \n",
       "1.218239 1.787343 "
      ]
     },
     "metadata": {},
     "output_type": "display_data"
    }
   ],
   "source": [
    "optim(c(mu = 0, sigma = 1), nLL)$par"
   ]
  },
  {
   "cell_type": "code",
   "execution_count": 28,
   "metadata": {},
   "outputs": [
    {
     "data": {
      "text/html": [
       "1.21777473382931"
      ],
      "text/latex": [
       "1.21777473382931"
      ],
      "text/markdown": [
       "1.21777473382931"
      ],
      "text/plain": [
       "[1] 1.217775"
      ]
     },
     "metadata": {},
     "output_type": "display_data"
    }
   ],
   "source": [
    "# Fixing sigma = 2\n",
    "nLL <- make.NegLogLik(normals, c(FALSE, 2))\n",
    "optimize(nLL, c(-1, 3))$minimum"
   ]
  },
  {
   "cell_type": "code",
   "execution_count": 29,
   "metadata": {},
   "outputs": [
    {
     "data": {
      "text/html": [
       "1.80059579512448"
      ],
      "text/latex": [
       "1.80059579512448"
      ],
      "text/markdown": [
       "1.80059579512448"
      ],
      "text/plain": [
       "[1] 1.800596"
      ]
     },
     "metadata": {},
     "output_type": "display_data"
    }
   ],
   "source": [
    "# Fixing mu = 1\n",
    "nLL <- make.NegLogLik(normals, c(1, FALSE))\n",
    "optimize(nLL, c(1e-6, 10))$minimum"
   ]
  },
  {
   "cell_type": "markdown",
   "metadata": {},
   "source": [
    "### 3. Plotting the Likelihood"
   ]
  },
  {
   "cell_type": "code",
   "execution_count": 31,
   "metadata": {
    "scrolled": false
   },
   "outputs": [
    {
     "data": {
      "image/png": "[encoded data removed]",
      "text/plain": [
       "plot without title"
      ]
     },
     "metadata": {},
     "output_type": "display_data"
    }
   ],
   "source": [
    "nLL <- make.NegLogLik(normals, c(1, FALSE))\n",
    "x <- seq(1.7, 1.9, len = 100)\n",
    "y <- sapply(x, nLL)\n",
    "plot(x, exp(-(y - min(y))), type = \"l\")"
   ]
  },
  {
   "cell_type": "code",
   "execution_count": 32,
   "metadata": {
    "scrolled": false
   },
   "outputs": [
    {
     "data": {
      "image/png": "[encoded data removed]",
      "text/plain": [
       "plot without title"
      ]
     },
     "metadata": {},
     "output_type": "display_data"
    }
   ],
   "source": [
    "nLL <- make.NegLogLik(normals, c(FALSE, 2))\n",
    "x <- seq(0.5, 1.5, len = 100)\n",
    "y <- sapply(x, nLL)\n",
    "plot(x, exp(-(y - min(y))), type = \"l\")"
   ]
  }
 ],
 "metadata": {
  "kernelspec": {
   "display_name": "R",
   "language": "R",
   "name": "ir"
  },
  "language_info": {
   "codemirror_mode": "r",
   "file_extension": ".r",
   "mimetype": "text/x-r-source",
   "name": "R",
   "pygments_lexer": "r",
   "version": "3.4.3"
  }
 },
 "nbformat": 4,
 "nbformat_minor": 2
}
