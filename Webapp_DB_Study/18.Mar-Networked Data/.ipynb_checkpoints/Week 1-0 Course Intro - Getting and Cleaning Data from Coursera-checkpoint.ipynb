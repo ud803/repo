{
 "cells": [
  {
   "cell_type": "markdown",
   "metadata": {},
   "source": [
    "이 강의에서는 데이터가 어떻게 얻어지는지를 배운다.\n",
    "\n",
    "웹, API, 그리고 다양한 텍스트 파일, 이진파일, 데이터베이스로부터 데이터를 불러오는 방법을 배운다.\n",
    "\n",
    "또한 불러온 데이터를 어떻게 클리닝하고 작게 만드는지 배우게 된다.\n",
    "\n",
    "##### \"The course will cover the basics needed for collecting, cleaning, and sharing data.\"\n",
    "\n",
    "\n",
    "# Content\n",
    "\n",
    "- Data Collection\n",
    "    - Raw files\n",
    "    - Databases\n",
    "    - APIs\n",
    "    \n",
    "- Data formats\n",
    "    - Flat files (.csv, .txt)\n",
    "    - XML\n",
    "    - JSON\n",
    "    \n",
    "- Marking data tidy\n",
    "- Distributing data\n",
    "- Scripting for data cleaning\n",
    "\n",
    "\n",
    "##### 종합하자면, 이 강의의 목표는 데이터 파이프라인의 앞부분을 가르치는 것이다.\n",
    "\n",
    "**Raw data -> Processing sscript -> tidy data** -> data analysis -> data communication\n",
    "\n"
   ]
  }
 ],
 "metadata": {
  "kernelspec": {
   "display_name": "R",
   "language": "R",
   "name": "ir"
  },
  "language_info": {
   "codemirror_mode": "r",
   "file_extension": ".r",
   "mimetype": "text/x-r-source",
   "name": "R",
   "pygments_lexer": "r",
   "version": "3.4.3"
  }
 },
 "nbformat": 4,
 "nbformat_minor": 2
}
