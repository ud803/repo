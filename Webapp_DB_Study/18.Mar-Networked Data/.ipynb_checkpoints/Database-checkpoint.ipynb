{
 "cells": [
  {
   "cell_type": "markdown",
   "metadata": {},
   "source": [
    "# Relational Databases\n",
    "Relational databases model data by storing rows and columns in tables.\n",
    "<br> The power of the relational database lies in its ability to efficiently retrieve data from those tables and in particular where there are multiple tables and the relationships btw those tables involved in the query."
   ]
  },
  {
   "cell_type": "markdown",
   "metadata": {},
   "source": [
    "- Database : Contains many tables\n",
    "- Relation (or table) : Contains tuples and attributes\n",
    "- Tuple (or row) : a set of fields that generally represents an \"object\" like a person or a music track\n",
    "- Attribute (also column or field) : one of possibly many elements of data corresponding to the object represented by the row"
   ]
  },
  {
   "cell_type": "markdown",
   "metadata": {},
   "source": [
    "![title](./Database.png)"
   ]
  },
  {
   "cell_type": "markdown",
   "metadata": {},
   "source": [
    "A relation is defined as a **set of tuples** that have the same **attributes.**\n",
    "<br>**A tuple** usually represents an object and information about that object.\n",
    "<br>**Objects** are typically physical objects or concepts.\n",
    "<br>**A relation** is usually described as a table, which is organized into rows and columns.\n",
    "<br> All the data, referenced by an attribute are in the same domain and **conform to the same constraints.**"
   ]
  },
  {
   "cell_type": "markdown",
   "metadata": {},
   "source": [
    "##### - Schema\n",
    "Strong contracts about the content that sort of at some level feels very similar to what we're doing. "
   ]
  },
  {
   "cell_type": "markdown",
   "metadata": {},
   "source": [
    "### 1. SQL\n",
    "**Structured Query Language** is the language we use to issue commands to the database.\n",
    "<br> The API btw an application and a database system!\n",
    "<br><br> **CRUD**\n",
    "- **C**reate a table\n",
    "- **R**etrieve some data\n",
    "- **U**pdate data\n",
    "- **D**elete data\n",
    "\n",
    "### 2. Using Databases\n",
    "\n",
    "##### - Two roles in large projects\n",
    "- Application Developer : Builds the logic for the application.\n",
    "- Database Administrator - Monitors and adjusts the database as the program runs in production\n",
    "\n",
    "##### - Database Model\n",
    "A **Database Model** or **Database Schema** is the structure or format of a database, described in a formal language supported by the database management system.\n",
    "<br><br> In other words, a \"database model\" is the application of a data model when used in conjunction with a database management system.\n",
    "\n",
    "##### - Common Database Systems\n",
    "- Three Major DBMS in wide use\n",
    "    - Oracle : Large, commercial, enterprise-scale, very very tweakable\n",
    "    - MySql : Simpler but very fast and scalable - commercial open source (MARIA DB)\n",
    "    <br> usually used for web\n",
    "    - SqlServer : Very nice - from Microsoft (also Access)\n",
    "- Many other smaller projects, free and open source\n",
    "    - HSQL, SQLite, Postgress, ...\n",
    "    \n",
    "##### - SQLite\n",
    "SQLite is what's called an **embedded database.**\n",
    "<br> MySql or Oracle are whole pieces of separate software that we sort of talk across a network connection.\n",
    "<br> But SQLite is actually a part of software, and so it's built in.\n",
    "<br> It's built into...\n",
    "    - Your car!\n",
    "    - your Iphone !\n",
    "    - Python\n",
    "    - Skype\n",
    "    - Google\n",
    "    - ...\n",
    "    "
   ]
  },
  {
   "cell_type": "markdown",
   "metadata": {},
   "source": []
  }
 ],
 "metadata": {
  "kernelspec": {
   "display_name": "Python 3",
   "language": "python",
   "name": "python3"
  },
  "language_info": {
   "codemirror_mode": {
    "name": "ipython",
    "version": 3
   },
   "file_extension": ".py",
   "mimetype": "text/x-python",
   "name": "python",
   "nbconvert_exporter": "python",
   "pygments_lexer": "ipython3",
   "version": "3.6.3"
  }
 },
 "nbformat": 4,
 "nbformat_minor": 2
}
