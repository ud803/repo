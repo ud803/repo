{
 "cells": [
  {
   "cell_type": "markdown",
   "metadata": {},
   "source": [
    "# `data.table`\n",
    "\n",
    "- `data.table`은 `data.frame`보다 더 효율적일 때가 많다\n",
    "- `data.frame`을 상속받는다\n",
    "    - 데이터프레임에서 가능한 메서드는 모두 사용 가능\n",
    "- C로 작성되어 훨씬 빠르다\n",
    "- 그룹을 나누고, 서브셋을 만들고, 자료를 업데이트하는데 훨씬 훨씬 빠르다\n",
    "\n",
    "http://stackoverflow.com/questions/13618488/what-you-can-do-with-data-frame-that-you-cant-in-data-table\n",
    "\n",
    "https://github.com/raphg/Biostat-578/blob/master/Advanced_data_manipulation.Rmd\n",
    "\n",
    "### 1. Creating Data Tables"
   ]
  },
  {
   "cell_type": "code",
   "execution_count": 4,
   "metadata": {},
   "outputs": [],
   "source": [
    "library(data.table)"
   ]
  },
  {
   "cell_type": "code",
   "execution_count": 45,
   "metadata": {},
   "outputs": [
    {
     "data": {
      "text/html": [
       "<table>\n",
       "<thead><tr><th scope=col>x</th><th scope=col>y</th><th scope=col>z</th></tr></thead>\n",
       "<tbody>\n",
       "\t<tr><td>-0.1259656</td><td>a         </td><td>-1.741379 </td></tr>\n",
       "\t<tr><td> 0.1307752</td><td>a         </td><td>-2.821392 </td></tr>\n",
       "\t<tr><td>-0.1673330</td><td>a         </td><td>-1.264231 </td></tr>\n",
       "</tbody>\n",
       "</table>\n"
      ],
      "text/latex": [
       "\\begin{tabular}{r|lll}\n",
       " x & y & z\\\\\n",
       "\\hline\n",
       "\t -0.1259656 & a          & -1.741379 \\\\\n",
       "\t  0.1307752 & a          & -2.821392 \\\\\n",
       "\t -0.1673330 & a          & -1.264231 \\\\\n",
       "\\end{tabular}\n"
      ],
      "text/markdown": [
       "\n",
       "x | y | z | \n",
       "|---|---|---|\n",
       "| -0.1259656 | a          | -1.741379  | \n",
       "|  0.1307752 | a          | -2.821392  | \n",
       "| -0.1673330 | a          | -1.264231  | \n",
       "\n",
       "\n"
      ],
      "text/plain": [
       "  x          y z        \n",
       "1 -0.1259656 a -1.741379\n",
       "2  0.1307752 a -2.821392\n",
       "3 -0.1673330 a -1.264231"
      ]
     },
     "metadata": {},
     "output_type": "display_data"
    }
   ],
   "source": [
    "DF = data.frame(x=rnorm(9), y=rep(c(\"a\", \"b\", \"c\"), each=3), z=rnorm(9))\n",
    "head(DF, 3)"
   ]
  },
  {
   "cell_type": "code",
   "execution_count": 5,
   "metadata": {},
   "outputs": [
    {
     "data": {
      "text/html": [
       "<table>\n",
       "<thead><tr><th scope=col>x</th><th scope=col>y</th><th scope=col>z</th></tr></thead>\n",
       "<tbody>\n",
       "\t<tr><td> 1.2983127</td><td>a         </td><td>0.4161695 </td></tr>\n",
       "\t<tr><td>-0.9594838</td><td>a         </td><td>0.8963377 </td></tr>\n",
       "\t<tr><td> 0.5943397</td><td>a         </td><td>1.6486333 </td></tr>\n",
       "</tbody>\n",
       "</table>\n"
      ],
      "text/latex": [
       "\\begin{tabular}{r|lll}\n",
       " x & y & z\\\\\n",
       "\\hline\n",
       "\t  1.2983127 & a          & 0.4161695 \\\\\n",
       "\t -0.9594838 & a          & 0.8963377 \\\\\n",
       "\t  0.5943397 & a          & 1.6486333 \\\\\n",
       "\\end{tabular}\n"
      ],
      "text/markdown": [
       "\n",
       "x | y | z | \n",
       "|---|---|---|\n",
       "|  1.2983127 | a          | 0.4161695  | \n",
       "| -0.9594838 | a          | 0.8963377  | \n",
       "|  0.5943397 | a          | 1.6486333  | \n",
       "\n",
       "\n"
      ],
      "text/plain": [
       "  x          y z        \n",
       "1  1.2983127 a 0.4161695\n",
       "2 -0.9594838 a 0.8963377\n",
       "3  0.5943397 a 1.6486333"
      ]
     },
     "metadata": {},
     "output_type": "display_data"
    }
   ],
   "source": [
    "DT = data.table(x=rnorm(9), y=rep(c(\"a\", \"b\", \"c\"), each=3), z=rnorm(9))\n",
    "head(DT, 3)"
   ]
  },
  {
   "cell_type": "code",
   "execution_count": 6,
   "metadata": {},
   "outputs": [
    {
     "name": "stdout",
     "output_type": "stream",
     "text": [
      "     NAME NROW NCOL MB COLS  KEY\n",
      "[1,] DT      9    3  1 x,y,z    \n",
      "Total: 1MB\n"
     ]
    }
   ],
   "source": [
    "# 메모리에 있는 모든 데이터 테이블 목을 출력\n",
    "tables()"
   ]
  },
  {
   "cell_type": "markdown",
   "metadata": {},
   "source": [
    "### 2. Subsetting Rows\n",
    "\n",
    "데이터프레임과 다른 점은 일반적인 서브셋이 행을 기준으로 만들어진다는 점이다."
   ]
  },
  {
   "cell_type": "code",
   "execution_count": 49,
   "metadata": {},
   "outputs": [
    {
     "data": {
      "text/html": [
       "<table>\n",
       "<thead><tr><th scope=col>x</th></tr></thead>\n",
       "<tbody>\n",
       "\t<tr><td>-0.1259656</td></tr>\n",
       "\t<tr><td> 0.1307752</td></tr>\n",
       "\t<tr><td>-0.1673330</td></tr>\n",
       "</tbody>\n",
       "</table>\n"
      ],
      "text/latex": [
       "\\begin{tabular}{r|l}\n",
       " x\\\\\n",
       "\\hline\n",
       "\t -0.1259656\\\\\n",
       "\t  0.1307752\\\\\n",
       "\t -0.1673330\\\\\n",
       "\\end{tabular}\n"
      ],
      "text/markdown": [
       "\n",
       "x | \n",
       "|---|---|---|\n",
       "| -0.1259656 | \n",
       "|  0.1307752 | \n",
       "| -0.1673330 | \n",
       "\n",
       "\n"
      ],
      "text/plain": [
       "  x         \n",
       "1 -0.1259656\n",
       "2  0.1307752\n",
       "3 -0.1673330"
      ]
     },
     "metadata": {},
     "output_type": "display_data"
    }
   ],
   "source": [
    "# 3번째 컬럼\n",
    "head(DF[1],3)"
   ]
  },
  {
   "cell_type": "code",
   "execution_count": 50,
   "metadata": {},
   "outputs": [
    {
     "data": {
      "text/html": [
       "<table>\n",
       "<thead><tr><th scope=col>x</th><th scope=col>y</th><th scope=col>z</th></tr></thead>\n",
       "<tbody>\n",
       "\t<tr><td>1.298313 </td><td>a        </td><td>0.4161695</td></tr>\n",
       "</tbody>\n",
       "</table>\n"
      ],
      "text/latex": [
       "\\begin{tabular}{r|lll}\n",
       " x & y & z\\\\\n",
       "\\hline\n",
       "\t 1.298313  & a         & 0.4161695\\\\\n",
       "\\end{tabular}\n"
      ],
      "text/markdown": [
       "\n",
       "x | y | z | \n",
       "|---|\n",
       "| 1.298313  | a         | 0.4161695 | \n",
       "\n",
       "\n"
      ],
      "text/plain": [
       "  x        y z        \n",
       "1 1.298313 a 0.4161695"
      ]
     },
     "metadata": {},
     "output_type": "display_data"
    }
   ],
   "source": [
    "# 3번째 행\n",
    "head(DT[1],3)"
   ]
  },
  {
   "cell_type": "code",
   "execution_count": 35,
   "metadata": {},
   "outputs": [
    {
     "data": {
      "text/html": [
       "<table>\n",
       "<thead><tr><th scope=col>x</th><th scope=col>y</th><th scope=col>z</th></tr></thead>\n",
       "<tbody>\n",
       "\t<tr><td>-0.9594838</td><td>a         </td><td>0.8963377 </td></tr>\n",
       "</tbody>\n",
       "</table>\n"
      ],
      "text/latex": [
       "\\begin{tabular}{r|lll}\n",
       " x & y & z\\\\\n",
       "\\hline\n",
       "\t -0.9594838 & a          & 0.8963377 \\\\\n",
       "\\end{tabular}\n"
      ],
      "text/markdown": [
       "\n",
       "x | y | z | \n",
       "|---|\n",
       "| -0.9594838 | a          | 0.8963377  | \n",
       "\n",
       "\n"
      ],
      "text/plain": [
       "  x          y z        \n",
       "1 -0.9594838 a 0.8963377"
      ]
     },
     "metadata": {},
     "output_type": "display_data"
    },
    {
     "data": {
      "text/html": [
       "<table>\n",
       "<thead><tr><th scope=col>x</th><th scope=col>y</th><th scope=col>z</th></tr></thead>\n",
       "<tbody>\n",
       "\t<tr><td> 1.2983127</td><td>a         </td><td>0.4161695 </td></tr>\n",
       "\t<tr><td>-0.9594838</td><td>a         </td><td>0.8963377 </td></tr>\n",
       "\t<tr><td> 0.5943397</td><td>a         </td><td>1.6486333 </td></tr>\n",
       "</tbody>\n",
       "</table>\n"
      ],
      "text/latex": [
       "\\begin{tabular}{r|lll}\n",
       " x & y & z\\\\\n",
       "\\hline\n",
       "\t  1.2983127 & a          & 0.4161695 \\\\\n",
       "\t -0.9594838 & a          & 0.8963377 \\\\\n",
       "\t  0.5943397 & a          & 1.6486333 \\\\\n",
       "\\end{tabular}\n"
      ],
      "text/markdown": [
       "\n",
       "x | y | z | \n",
       "|---|---|---|\n",
       "|  1.2983127 | a          | 0.4161695  | \n",
       "| -0.9594838 | a          | 0.8963377  | \n",
       "|  0.5943397 | a          | 1.6486333  | \n",
       "\n",
       "\n"
      ],
      "text/plain": [
       "  x          y z        \n",
       "1  1.2983127 a 0.4161695\n",
       "2 -0.9594838 a 0.8963377\n",
       "3  0.5943397 a 1.6486333"
      ]
     },
     "metadata": {},
     "output_type": "display_data"
    }
   ],
   "source": [
    "DT[2,]\n",
    "DT[DT$y==\"a\", ]"
   ]
  },
  {
   "cell_type": "markdown",
   "metadata": {},
   "source": [
    "### 3. Subsetting Columns\n",
    "\n",
    "- 서브셋 함수는 데이터테이블에서 변형된다\n",
    "- 컴마(,) 이후에 전달되는 인자는 \"표현식(expression)\"이라고 부른다\n",
    "- R에서, 표현식은 {}안에 포함된 명령문의 집합이다"
   ]
  },
  {
   "cell_type": "code",
   "execution_count": 52,
   "metadata": {},
   "outputs": [
    {
     "data": {
      "text/html": [
       "<table>\n",
       "<thead><tr><th scope=col>y</th><th scope=col>z</th></tr></thead>\n",
       "<tbody>\n",
       "\t<tr><td>a        </td><td>0.4161695</td></tr>\n",
       "\t<tr><td>a        </td><td>0.8963377</td></tr>\n",
       "\t<tr><td>a        </td><td>1.6486333</td></tr>\n",
       "</tbody>\n",
       "</table>\n"
      ],
      "text/latex": [
       "\\begin{tabular}{r|ll}\n",
       " y & z\\\\\n",
       "\\hline\n",
       "\t a         & 0.4161695\\\\\n",
       "\t a         & 0.8963377\\\\\n",
       "\t a         & 1.6486333\\\\\n",
       "\\end{tabular}\n"
      ],
      "text/markdown": [
       "\n",
       "y | z | \n",
       "|---|---|---|\n",
       "| a         | 0.4161695 | \n",
       "| a         | 0.8963377 | \n",
       "| a         | 1.6486333 | \n",
       "\n",
       "\n"
      ],
      "text/plain": [
       "  y z        \n",
       "1 a 0.4161695\n",
       "2 a 0.8963377\n",
       "3 a 1.6486333"
      ]
     },
     "metadata": {},
     "output_type": "display_data"
    }
   ],
   "source": [
    "head(DT[,c(2,3)],3)"
   ]
  },
  {
   "cell_type": "code",
   "execution_count": 55,
   "metadata": {},
   "outputs": [
    {
     "name": "stdout",
     "output_type": "stream",
     "text": [
      "[1] 10\n",
      "[1] 5\n"
     ]
    }
   ],
   "source": [
    "# 정의할 땐 10을 출력하지만\n",
    "# 반환은 5를 한다\n",
    "k = {print(10); 5}\n",
    "\n",
    "print(k)"
   ]
  },
  {
   "cell_type": "code",
   "execution_count": 58,
   "metadata": {},
   "outputs": [
    {
     "data": {
      "text/html": [
       "<table>\n",
       "<thead><tr><th scope=col>V1</th><th scope=col>V2</th></tr></thead>\n",
       "<tbody>\n",
       "\t<tr><td>0.4683495 </td><td>-0.4775512</td></tr>\n",
       "</tbody>\n",
       "</table>\n"
      ],
      "text/latex": [
       "\\begin{tabular}{r|ll}\n",
       " V1 & V2\\\\\n",
       "\\hline\n",
       "\t 0.4683495  & -0.4775512\\\\\n",
       "\\end{tabular}\n"
      ],
      "text/markdown": [
       "\n",
       "V1 | V2 | \n",
       "|---|\n",
       "| 0.4683495  | -0.4775512 | \n",
       "\n",
       "\n"
      ],
      "text/plain": [
       "  V1        V2        \n",
       "1 0.4683495 -0.4775512"
      ]
     },
     "metadata": {},
     "output_type": "display_data"
    }
   ],
   "source": [
    "# 데이터 테이블에서는 원하는 함수를 바로 적용할 수 있다\n",
    "DT[, list(mean(x), sum(z))]"
   ]
  },
  {
   "cell_type": "code",
   "execution_count": 59,
   "metadata": {},
   "outputs": [
    {
     "data": {
      "text/plain": [
       "y\n",
       "a b c \n",
       "3 3 3 "
      ]
     },
     "metadata": {},
     "output_type": "display_data"
    }
   ],
   "source": [
    "DT[,table(y)]"
   ]
  },
  {
   "cell_type": "code",
   "execution_count": 62,
   "metadata": {},
   "outputs": [
    {
     "name": "stdout",
     "output_type": "stream",
     "text": [
      "              x y          z          w\n",
      "1:  1.298312716 a  0.4161695 0.17319703\n",
      "2: -0.959483753 a  0.8963377 0.80342121\n",
      "3:  0.594339660 a  1.6486333 2.71799176\n",
      "4:  1.005841924 b -3.0001965 9.00117881\n",
      "5:  0.008340454 b -1.2837106 1.64791278\n",
      "6:  0.622138020 b  0.7330602 0.53737722\n",
      "7:  0.332431202 c -0.2226859 0.04958902\n",
      "8:  1.780496679 c -0.5777695 0.33381760\n",
      "9: -0.467271742 c  0.9126106 0.83285815\n"
     ]
    }
   ],
   "source": [
    "# Data Table Transformation\n",
    "print(DT[,w:=z^2])"
   ]
  },
  {
   "cell_type": "code",
   "execution_count": 63,
   "metadata": {},
   "outputs": [
    {
     "name": "stderr",
     "output_type": "stream",
     "text": [
      "Warning message in `[.data.table`(DT, , `:=`(y, 2)):\n",
      "“Coerced 'double' RHS to 'character' to match the column's type; may have truncated precision. Either change the target column to 'double' first (by creating a new 'double' vector length 9 (nrows of entire table) and assign that; i.e. 'replace' column), or coerce RHS to 'character' (e.g. 1L, NA_[real|integer]_, as.*, etc) to make your intent clear and for speed. Or, set the column type correctly up front when you create the table and stick to it, please.”"
     ]
    },
    {
     "name": "stdout",
     "output_type": "stream",
     "text": [
      "              x y          z          w\n",
      "1:  1.298312716 2  0.4161695 0.17319703\n",
      "2: -0.959483753 2  0.8963377 0.80342121\n",
      "3:  0.594339660 2  1.6486333 2.71799176\n",
      "4:  1.005841924 2 -3.0001965 9.00117881\n",
      "5:  0.008340454 2 -1.2837106 1.64791278\n",
      "6:  0.622138020 2  0.7330602 0.53737722\n",
      "7:  0.332431202 2 -0.2226859 0.04958902\n",
      "8:  1.780496679 2 -0.5777695 0.33381760\n",
      "9: -0.467271742 2  0.9126106 0.83285815\n"
     ]
    }
   ],
   "source": [
    "DT2 <- DT\n",
    "print(DT[, y:=2])"
   ]
  },
  {
   "cell_type": "code",
   "execution_count": 65,
   "metadata": {},
   "outputs": [
    {
     "data": {
      "text/html": [
       "<table>\n",
       "<thead><tr><th scope=col>x</th><th scope=col>y</th><th scope=col>z</th><th scope=col>w</th></tr></thead>\n",
       "<tbody>\n",
       "\t<tr><td> 1.2983127</td><td>2         </td><td>0.4161695 </td><td>0.1731970 </td></tr>\n",
       "\t<tr><td>-0.9594838</td><td>2         </td><td>0.8963377 </td><td>0.8034212 </td></tr>\n",
       "\t<tr><td> 0.5943397</td><td>2         </td><td>1.6486333 </td><td>2.7179918 </td></tr>\n",
       "</tbody>\n",
       "</table>\n"
      ],
      "text/latex": [
       "\\begin{tabular}{r|llll}\n",
       " x & y & z & w\\\\\n",
       "\\hline\n",
       "\t  1.2983127 & 2          & 0.4161695  & 0.1731970 \\\\\n",
       "\t -0.9594838 & 2          & 0.8963377  & 0.8034212 \\\\\n",
       "\t  0.5943397 & 2          & 1.6486333  & 2.7179918 \\\\\n",
       "\\end{tabular}\n"
      ],
      "text/markdown": [
       "\n",
       "x | y | z | w | \n",
       "|---|---|---|\n",
       "|  1.2983127 | 2          | 0.4161695  | 0.1731970  | \n",
       "| -0.9594838 | 2          | 0.8963377  | 0.8034212  | \n",
       "|  0.5943397 | 2          | 1.6486333  | 2.7179918  | \n",
       "\n",
       "\n"
      ],
      "text/plain": [
       "  x          y z         w        \n",
       "1  1.2983127 2 0.4161695 0.1731970\n",
       "2 -0.9594838 2 0.8963377 0.8034212\n",
       "3  0.5943397 2 1.6486333 2.7179918"
      ]
     },
     "metadata": {},
     "output_type": "display_data"
    }
   ],
   "source": [
    "head(DT,n=3)"
   ]
  },
  {
   "cell_type": "code",
   "execution_count": 67,
   "metadata": {},
   "outputs": [
    {
     "data": {
      "text/html": [
       "<table>\n",
       "<thead><tr><th scope=col>x</th><th scope=col>y</th><th scope=col>z</th><th scope=col>w</th></tr></thead>\n",
       "<tbody>\n",
       "\t<tr><td> 1.2983127</td><td>2         </td><td>0.4161695 </td><td>0.1731970 </td></tr>\n",
       "\t<tr><td>-0.9594838</td><td>2         </td><td>0.8963377 </td><td>0.8034212 </td></tr>\n",
       "\t<tr><td> 0.5943397</td><td>2         </td><td>1.6486333 </td><td>2.7179918 </td></tr>\n",
       "</tbody>\n",
       "</table>\n"
      ],
      "text/latex": [
       "\\begin{tabular}{r|llll}\n",
       " x & y & z & w\\\\\n",
       "\\hline\n",
       "\t  1.2983127 & 2          & 0.4161695  & 0.1731970 \\\\\n",
       "\t -0.9594838 & 2          & 0.8963377  & 0.8034212 \\\\\n",
       "\t  0.5943397 & 2          & 1.6486333  & 2.7179918 \\\\\n",
       "\\end{tabular}\n"
      ],
      "text/markdown": [
       "\n",
       "x | y | z | w | \n",
       "|---|---|---|\n",
       "|  1.2983127 | 2          | 0.4161695  | 0.1731970  | \n",
       "| -0.9594838 | 2          | 0.8963377  | 0.8034212  | \n",
       "|  0.5943397 | 2          | 1.6486333  | 2.7179918  | \n",
       "\n",
       "\n"
      ],
      "text/plain": [
       "  x          y z         w        \n",
       "1  1.2983127 2 0.4161695 0.1731970\n",
       "2 -0.9594838 2 0.8963377 0.8034212\n",
       "3  0.5943397 2 1.6486333 2.7179918"
      ]
     },
     "metadata": {},
     "output_type": "display_data"
    }
   ],
   "source": [
    "# 얘도 바뀌어버렸다\n",
    "# 따라서 복사를 하려면 copy 함수를 이용하도록\n",
    "head(DT2,n=3)"
   ]
  },
  {
   "cell_type": "markdown",
   "metadata": {},
   "source": [
    "### 4. Multiple Operations"
   ]
  },
  {
   "cell_type": "code",
   "execution_count": 69,
   "metadata": {},
   "outputs": [
    {
     "data": {},
     "metadata": {},
     "output_type": "display_data"
    },
    {
     "data": {
      "text/html": [
       "<table>\n",
       "<thead><tr><th scope=col>x</th><th scope=col>y</th><th scope=col>z</th><th scope=col>w</th><th scope=col>m</th></tr></thead>\n",
       "<tbody>\n",
       "\t<tr><td> 1.298312716</td><td>2           </td><td> 0.4161695  </td><td>0.17319703  </td><td>2.747276    </td></tr>\n",
       "\t<tr><td>-0.959483753</td><td>2           </td><td> 0.8963377  </td><td>0.80342121  </td><td>2.303592    </td></tr>\n",
       "\t<tr><td> 0.594339660</td><td>2           </td><td> 1.6486333  </td><td>2.71799176  </td><td>2.856582    </td></tr>\n",
       "\t<tr><td> 1.005841924</td><td>2           </td><td>-3.0001965  </td><td>9.00117881  </td><td>1.587675    </td></tr>\n",
       "\t<tr><td> 0.008340454</td><td>2           </td><td>-1.2837106  </td><td>1.64791278  </td><td>1.897097    </td></tr>\n",
       "\t<tr><td> 0.622138020</td><td>2           </td><td> 0.7330602  </td><td>0.53737722  </td><td>2.667937    </td></tr>\n",
       "\t<tr><td> 0.332431202</td><td>2           </td><td>-0.2226859  </td><td>0.04958902  </td><td>2.353251    </td></tr>\n",
       "\t<tr><td> 1.780496679</td><td>2           </td><td>-0.5777695  </td><td>0.33381760  </td><td>2.632903    </td></tr>\n",
       "\t<tr><td>-0.467271742</td><td>2           </td><td> 0.9126106  </td><td>0.83285815  </td><td>2.445022    </td></tr>\n",
       "</tbody>\n",
       "</table>\n"
      ],
      "text/latex": [
       "\\begin{tabular}{r|lllll}\n",
       " x & y & z & w & m\\\\\n",
       "\\hline\n",
       "\t  1.298312716 & 2            &  0.4161695   & 0.17319703   & 2.747276    \\\\\n",
       "\t -0.959483753 & 2            &  0.8963377   & 0.80342121   & 2.303592    \\\\\n",
       "\t  0.594339660 & 2            &  1.6486333   & 2.71799176   & 2.856582    \\\\\n",
       "\t  1.005841924 & 2            & -3.0001965   & 9.00117881   & 1.587675    \\\\\n",
       "\t  0.008340454 & 2            & -1.2837106   & 1.64791278   & 1.897097    \\\\\n",
       "\t  0.622138020 & 2            &  0.7330602   & 0.53737722   & 2.667937    \\\\\n",
       "\t  0.332431202 & 2            & -0.2226859   & 0.04958902   & 2.353251    \\\\\n",
       "\t  1.780496679 & 2            & -0.5777695   & 0.33381760   & 2.632903    \\\\\n",
       "\t -0.467271742 & 2            &  0.9126106   & 0.83285815   & 2.445022    \\\\\n",
       "\\end{tabular}\n"
      ],
      "text/markdown": [
       "\n",
       "x | y | z | w | m | \n",
       "|---|---|---|---|---|---|---|---|---|\n",
       "|  1.298312716 | 2            |  0.4161695   | 0.17319703   | 2.747276     | \n",
       "| -0.959483753 | 2            |  0.8963377   | 0.80342121   | 2.303592     | \n",
       "|  0.594339660 | 2            |  1.6486333   | 2.71799176   | 2.856582     | \n",
       "|  1.005841924 | 2            | -3.0001965   | 9.00117881   | 1.587675     | \n",
       "|  0.008340454 | 2            | -1.2837106   | 1.64791278   | 1.897097     | \n",
       "|  0.622138020 | 2            |  0.7330602   | 0.53737722   | 2.667937     | \n",
       "|  0.332431202 | 2            | -0.2226859   | 0.04958902   | 2.353251     | \n",
       "|  1.780496679 | 2            | -0.5777695   | 0.33381760   | 2.632903     | \n",
       "| -0.467271742 | 2            |  0.9126106   | 0.83285815   | 2.445022     | \n",
       "\n",
       "\n"
      ],
      "text/plain": [
       "  x            y z          w          m       \n",
       "1  1.298312716 2  0.4161695 0.17319703 2.747276\n",
       "2 -0.959483753 2  0.8963377 0.80342121 2.303592\n",
       "3  0.594339660 2  1.6486333 2.71799176 2.856582\n",
       "4  1.005841924 2 -3.0001965 9.00117881 1.587675\n",
       "5  0.008340454 2 -1.2837106 1.64791278 1.897097\n",
       "6  0.622138020 2  0.7330602 0.53737722 2.667937\n",
       "7  0.332431202 2 -0.2226859 0.04958902 2.353251\n",
       "8  1.780496679 2 -0.5777695 0.33381760 2.632903\n",
       "9 -0.467271742 2  0.9126106 0.83285815 2.445022"
      ]
     },
     "metadata": {},
     "output_type": "display_data"
    }
   ],
   "source": [
    "DT[, m:= {tmp <- (x+z); log2(tmp+5)}]\n",
    "DT"
   ]
  },
  {
   "cell_type": "code",
   "execution_count": 71,
   "metadata": {},
   "outputs": [
    {
     "data": {},
     "metadata": {},
     "output_type": "display_data"
    },
    {
     "data": {
      "text/html": [
       "<table>\n",
       "<thead><tr><th scope=col>x</th><th scope=col>y</th><th scope=col>z</th><th scope=col>w</th><th scope=col>m</th><th scope=col>a</th></tr></thead>\n",
       "<tbody>\n",
       "\t<tr><td> 1.298312716</td><td>2           </td><td> 0.4161695  </td><td>0.17319703  </td><td>2.747276    </td><td> TRUE       </td></tr>\n",
       "\t<tr><td>-0.959483753</td><td>2           </td><td> 0.8963377  </td><td>0.80342121  </td><td>2.303592    </td><td>FALSE       </td></tr>\n",
       "\t<tr><td> 0.594339660</td><td>2           </td><td> 1.6486333  </td><td>2.71799176  </td><td>2.856582    </td><td> TRUE       </td></tr>\n",
       "\t<tr><td> 1.005841924</td><td>2           </td><td>-3.0001965  </td><td>9.00117881  </td><td>1.587675    </td><td> TRUE       </td></tr>\n",
       "\t<tr><td> 0.008340454</td><td>2           </td><td>-1.2837106  </td><td>1.64791278  </td><td>1.897097    </td><td> TRUE       </td></tr>\n",
       "\t<tr><td> 0.622138020</td><td>2           </td><td> 0.7330602  </td><td>0.53737722  </td><td>2.667937    </td><td> TRUE       </td></tr>\n",
       "\t<tr><td> 0.332431202</td><td>2           </td><td>-0.2226859  </td><td>0.04958902  </td><td>2.353251    </td><td> TRUE       </td></tr>\n",
       "\t<tr><td> 1.780496679</td><td>2           </td><td>-0.5777695  </td><td>0.33381760  </td><td>2.632903    </td><td> TRUE       </td></tr>\n",
       "\t<tr><td>-0.467271742</td><td>2           </td><td> 0.9126106  </td><td>0.83285815  </td><td>2.445022    </td><td>FALSE       </td></tr>\n",
       "</tbody>\n",
       "</table>\n"
      ],
      "text/latex": [
       "\\begin{tabular}{r|llllll}\n",
       " x & y & z & w & m & a\\\\\n",
       "\\hline\n",
       "\t  1.298312716 & 2            &  0.4161695   & 0.17319703   & 2.747276     &  TRUE       \\\\\n",
       "\t -0.959483753 & 2            &  0.8963377   & 0.80342121   & 2.303592     & FALSE       \\\\\n",
       "\t  0.594339660 & 2            &  1.6486333   & 2.71799176   & 2.856582     &  TRUE       \\\\\n",
       "\t  1.005841924 & 2            & -3.0001965   & 9.00117881   & 1.587675     &  TRUE       \\\\\n",
       "\t  0.008340454 & 2            & -1.2837106   & 1.64791278   & 1.897097     &  TRUE       \\\\\n",
       "\t  0.622138020 & 2            &  0.7330602   & 0.53737722   & 2.667937     &  TRUE       \\\\\n",
       "\t  0.332431202 & 2            & -0.2226859   & 0.04958902   & 2.353251     &  TRUE       \\\\\n",
       "\t  1.780496679 & 2            & -0.5777695   & 0.33381760   & 2.632903     &  TRUE       \\\\\n",
       "\t -0.467271742 & 2            &  0.9126106   & 0.83285815   & 2.445022     & FALSE       \\\\\n",
       "\\end{tabular}\n"
      ],
      "text/markdown": [
       "\n",
       "x | y | z | w | m | a | \n",
       "|---|---|---|---|---|---|---|---|---|\n",
       "|  1.298312716 | 2            |  0.4161695   | 0.17319703   | 2.747276     |  TRUE        | \n",
       "| -0.959483753 | 2            |  0.8963377   | 0.80342121   | 2.303592     | FALSE        | \n",
       "|  0.594339660 | 2            |  1.6486333   | 2.71799176   | 2.856582     |  TRUE        | \n",
       "|  1.005841924 | 2            | -3.0001965   | 9.00117881   | 1.587675     |  TRUE        | \n",
       "|  0.008340454 | 2            | -1.2837106   | 1.64791278   | 1.897097     |  TRUE        | \n",
       "|  0.622138020 | 2            |  0.7330602   | 0.53737722   | 2.667937     |  TRUE        | \n",
       "|  0.332431202 | 2            | -0.2226859   | 0.04958902   | 2.353251     |  TRUE        | \n",
       "|  1.780496679 | 2            | -0.5777695   | 0.33381760   | 2.632903     |  TRUE        | \n",
       "| -0.467271742 | 2            |  0.9126106   | 0.83285815   | 2.445022     | FALSE        | \n",
       "\n",
       "\n"
      ],
      "text/plain": [
       "  x            y z          w          m        a    \n",
       "1  1.298312716 2  0.4161695 0.17319703 2.747276  TRUE\n",
       "2 -0.959483753 2  0.8963377 0.80342121 2.303592 FALSE\n",
       "3  0.594339660 2  1.6486333 2.71799176 2.856582  TRUE\n",
       "4  1.005841924 2 -3.0001965 9.00117881 1.587675  TRUE\n",
       "5  0.008340454 2 -1.2837106 1.64791278 1.897097  TRUE\n",
       "6  0.622138020 2  0.7330602 0.53737722 2.667937  TRUE\n",
       "7  0.332431202 2 -0.2226859 0.04958902 2.353251  TRUE\n",
       "8  1.780496679 2 -0.5777695 0.33381760 2.632903  TRUE\n",
       "9 -0.467271742 2  0.9126106 0.83285815 2.445022 FALSE"
      ]
     },
     "metadata": {},
     "output_type": "display_data"
    }
   ],
   "source": [
    "DT[, a:=x>0]\n",
    "DT"
   ]
  },
  {
   "cell_type": "code",
   "execution_count": 78,
   "metadata": {},
   "outputs": [
    {
     "data": {},
     "metadata": {},
     "output_type": "display_data"
    },
    {
     "data": {
      "text/html": [
       "<table>\n",
       "<thead><tr><th scope=col>x</th><th scope=col>y</th><th scope=col>z</th><th scope=col>w</th><th scope=col>m</th><th scope=col>a</th><th scope=col>b</th></tr></thead>\n",
       "<tbody>\n",
       "\t<tr><td> 1.298312716</td><td>2           </td><td> 0.4161695  </td><td>0.17319703  </td><td>2.747276    </td><td> TRUE       </td><td>2.8718521   </td></tr>\n",
       "\t<tr><td>-0.959483753</td><td>2           </td><td> 0.8963377  </td><td>0.80342121  </td><td>2.303592    </td><td>FALSE       </td><td>0.1047619   </td></tr>\n",
       "\t<tr><td> 0.594339660</td><td>2           </td><td> 1.6486333  </td><td>2.71799176  </td><td>2.856582    </td><td> TRUE       </td><td>2.8718521   </td></tr>\n",
       "\t<tr><td> 1.005841924</td><td>2           </td><td>-3.0001965  </td><td>9.00117881  </td><td>1.587675    </td><td> TRUE       </td><td>2.8718521   </td></tr>\n",
       "\t<tr><td> 0.008340454</td><td>2           </td><td>-1.2837106  </td><td>1.64791278  </td><td>1.897097    </td><td> TRUE       </td><td>2.8718521   </td></tr>\n",
       "\t<tr><td> 0.622138020</td><td>2           </td><td> 0.7330602  </td><td>0.53737722  </td><td>2.667937    </td><td> TRUE       </td><td>2.8718521   </td></tr>\n",
       "\t<tr><td> 0.332431202</td><td>2           </td><td>-0.2226859  </td><td>0.04958902  </td><td>2.353251    </td><td> TRUE       </td><td>2.8718521   </td></tr>\n",
       "\t<tr><td> 1.780496679</td><td>2           </td><td>-0.5777695  </td><td>0.33381760  </td><td>2.632903    </td><td> TRUE       </td><td>2.8718521   </td></tr>\n",
       "\t<tr><td>-0.467271742</td><td>2           </td><td> 0.9126106  </td><td>0.83285815  </td><td>2.445022    </td><td>FALSE       </td><td>0.1047619   </td></tr>\n",
       "</tbody>\n",
       "</table>\n"
      ],
      "text/latex": [
       "\\begin{tabular}{r|lllllll}\n",
       " x & y & z & w & m & a & b\\\\\n",
       "\\hline\n",
       "\t  1.298312716 & 2            &  0.4161695   & 0.17319703   & 2.747276     &  TRUE        & 2.8718521   \\\\\n",
       "\t -0.959483753 & 2            &  0.8963377   & 0.80342121   & 2.303592     & FALSE        & 0.1047619   \\\\\n",
       "\t  0.594339660 & 2            &  1.6486333   & 2.71799176   & 2.856582     &  TRUE        & 2.8718521   \\\\\n",
       "\t  1.005841924 & 2            & -3.0001965   & 9.00117881   & 1.587675     &  TRUE        & 2.8718521   \\\\\n",
       "\t  0.008340454 & 2            & -1.2837106   & 1.64791278   & 1.897097     &  TRUE        & 2.8718521   \\\\\n",
       "\t  0.622138020 & 2            &  0.7330602   & 0.53737722   & 2.667937     &  TRUE        & 2.8718521   \\\\\n",
       "\t  0.332431202 & 2            & -0.2226859   & 0.04958902   & 2.353251     &  TRUE        & 2.8718521   \\\\\n",
       "\t  1.780496679 & 2            & -0.5777695   & 0.33381760   & 2.632903     &  TRUE        & 2.8718521   \\\\\n",
       "\t -0.467271742 & 2            &  0.9126106   & 0.83285815   & 2.445022     & FALSE        & 0.1047619   \\\\\n",
       "\\end{tabular}\n"
      ],
      "text/markdown": [
       "\n",
       "x | y | z | w | m | a | b | \n",
       "|---|---|---|---|---|---|---|---|---|\n",
       "|  1.298312716 | 2            |  0.4161695   | 0.17319703   | 2.747276     |  TRUE        | 2.8718521    | \n",
       "| -0.959483753 | 2            |  0.8963377   | 0.80342121   | 2.303592     | FALSE        | 0.1047619    | \n",
       "|  0.594339660 | 2            |  1.6486333   | 2.71799176   | 2.856582     |  TRUE        | 2.8718521    | \n",
       "|  1.005841924 | 2            | -3.0001965   | 9.00117881   | 1.587675     |  TRUE        | 2.8718521    | \n",
       "|  0.008340454 | 2            | -1.2837106   | 1.64791278   | 1.897097     |  TRUE        | 2.8718521    | \n",
       "|  0.622138020 | 2            |  0.7330602   | 0.53737722   | 2.667937     |  TRUE        | 2.8718521    | \n",
       "|  0.332431202 | 2            | -0.2226859   | 0.04958902   | 2.353251     |  TRUE        | 2.8718521    | \n",
       "|  1.780496679 | 2            | -0.5777695   | 0.33381760   | 2.632903     |  TRUE        | 2.8718521    | \n",
       "| -0.467271742 | 2            |  0.9126106   | 0.83285815   | 2.445022     | FALSE        | 0.1047619    | \n",
       "\n",
       "\n"
      ],
      "text/plain": [
       "  x            y z          w          m        a     b        \n",
       "1  1.298312716 2  0.4161695 0.17319703 2.747276  TRUE 2.8718521\n",
       "2 -0.959483753 2  0.8963377 0.80342121 2.303592 FALSE 0.1047619\n",
       "3  0.594339660 2  1.6486333 2.71799176 2.856582  TRUE 2.8718521\n",
       "4  1.005841924 2 -3.0001965 9.00117881 1.587675  TRUE 2.8718521\n",
       "5  0.008340454 2 -1.2837106 1.64791278 1.897097  TRUE 2.8718521\n",
       "6  0.622138020 2  0.7330602 0.53737722 2.667937  TRUE 2.8718521\n",
       "7  0.332431202 2 -0.2226859 0.04958902 2.353251  TRUE 2.8718521\n",
       "8  1.780496679 2 -0.5777695 0.33381760 2.632903  TRUE 2.8718521\n",
       "9 -0.467271742 2  0.9126106 0.83285815 2.445022 FALSE 0.1047619"
      ]
     },
     "metadata": {},
     "output_type": "display_data"
    }
   ],
   "source": [
    "# grouped by a\n",
    "# 즉, a가 True인 곳의 b값을 모두 특정 값으로 바꾸고\n",
    "# a가 False인 곳의 b값을 모두 특정 값으로 바꾼다\n",
    "DT[, b:=mean(x+w), by=a]\n",
    "DT"
   ]
  },
  {
   "cell_type": "markdown",
   "metadata": {},
   "source": [
    "### 5. Special Variables\n",
    "\n",
    "`.N` : An integer, length 1, containing the number of times of particular group"
   ]
  },
  {
   "cell_type": "code",
   "execution_count": 85,
   "metadata": {
    "scrolled": true
   },
   "outputs": [
    {
     "data": {
      "text/html": [
       "<table>\n",
       "<thead><tr><th scope=col>x</th><th scope=col>N</th></tr></thead>\n",
       "<tbody>\n",
       "\t<tr><td>a    </td><td>33387</td></tr>\n",
       "\t<tr><td>c    </td><td>33201</td></tr>\n",
       "\t<tr><td>b    </td><td>33412</td></tr>\n",
       "</tbody>\n",
       "</table>\n"
      ],
      "text/latex": [
       "\\begin{tabular}{r|ll}\n",
       " x & N\\\\\n",
       "\\hline\n",
       "\t a     & 33387\\\\\n",
       "\t c     & 33201\\\\\n",
       "\t b     & 33412\\\\\n",
       "\\end{tabular}\n"
      ],
      "text/markdown": [
       "\n",
       "x | N | \n",
       "|---|---|---|\n",
       "| a     | 33387 | \n",
       "| c     | 33201 | \n",
       "| b     | 33412 | \n",
       "\n",
       "\n"
      ],
      "text/plain": [
       "  x N    \n",
       "1 a 33387\n",
       "2 c 33201\n",
       "3 b 33412"
      ]
     },
     "metadata": {},
     "output_type": "display_data"
    }
   ],
   "source": [
    "set.seed(123)\n",
    "DT <- data.table(x=sample(letters[1:3], 1E5, TRUE))\n",
    "DT[, .N, by=x]"
   ]
  },
  {
   "cell_type": "markdown",
   "metadata": {},
   "source": [
    "### 6. Keys\n",
    "\n",
    "Key를 설정하면 훨씬 빠르게 연산을 수행할 수 있다."
   ]
  },
  {
   "cell_type": "code",
   "execution_count": 86,
   "metadata": {
    "scrolled": true
   },
   "outputs": [
    {
     "data": {
      "text/html": [
       "<table>\n",
       "<thead><tr><th scope=col>x</th><th scope=col>y</th></tr></thead>\n",
       "<tbody>\n",
       "\t<tr><td>a          </td><td> 0.25958973</td></tr>\n",
       "\t<tr><td>a          </td><td> 0.91751072</td></tr>\n",
       "\t<tr><td>a          </td><td>-0.72231834</td></tr>\n",
       "\t<tr><td>a          </td><td>-0.80828402</td></tr>\n",
       "\t<tr><td>a          </td><td>-0.14135202</td></tr>\n",
       "\t<tr><td>a          </td><td> 2.25701345</td></tr>\n",
       "\t<tr><td>a          </td><td>-2.37955015</td></tr>\n",
       "\t<tr><td>a          </td><td>-0.45425393</td></tr>\n",
       "\t<tr><td>a          </td><td>-0.06007418</td></tr>\n",
       "\t<tr><td>a          </td><td> 0.86090061</td></tr>\n",
       "\t<tr><td>a          </td><td>-1.78466393</td></tr>\n",
       "\t<tr><td>a          </td><td>-0.13074225</td></tr>\n",
       "\t<tr><td>a          </td><td>-0.36983749</td></tr>\n",
       "\t<tr><td>a          </td><td>-0.18065990</td></tr>\n",
       "\t<tr><td>a          </td><td>-1.04973030</td></tr>\n",
       "\t<tr><td>a          </td><td> 0.37831550</td></tr>\n",
       "\t<tr><td>a          </td><td>-1.37079353</td></tr>\n",
       "\t<tr><td>a          </td><td>-0.31611578</td></tr>\n",
       "\t<tr><td>a          </td><td> 0.39435003</td></tr>\n",
       "\t<tr><td>a          </td><td>-1.68987831</td></tr>\n",
       "\t<tr><td>a          </td><td>-1.46233527</td></tr>\n",
       "\t<tr><td>a          </td><td> 2.55837664</td></tr>\n",
       "\t<tr><td>a          </td><td> 0.08788697</td></tr>\n",
       "\t<tr><td>a          </td><td> 1.73141492</td></tr>\n",
       "\t<tr><td>a          </td><td> 1.21512638</td></tr>\n",
       "\t<tr><td>a          </td><td> 0.29954390</td></tr>\n",
       "\t<tr><td>a          </td><td>-0.17245754</td></tr>\n",
       "\t<tr><td>a          </td><td> 1.13249663</td></tr>\n",
       "\t<tr><td>a          </td><td> 0.02319828</td></tr>\n",
       "\t<tr><td>a          </td><td> 1.33587399</td></tr>\n",
       "\t<tr><td>⋮</td><td>⋮</td></tr>\n",
       "\t<tr><td>a          </td><td> 0.44949417</td></tr>\n",
       "\t<tr><td>a          </td><td> 2.78868764</td></tr>\n",
       "\t<tr><td>a          </td><td>-0.46848614</td></tr>\n",
       "\t<tr><td>a          </td><td> 1.01260608</td></tr>\n",
       "\t<tr><td>a          </td><td>-0.04374086</td></tr>\n",
       "\t<tr><td>a          </td><td> 1.40669725</td></tr>\n",
       "\t<tr><td>a          </td><td> 0.41992874</td></tr>\n",
       "\t<tr><td>a          </td><td> 0.31008615</td></tr>\n",
       "\t<tr><td>a          </td><td> 1.11904687</td></tr>\n",
       "\t<tr><td>a          </td><td>-1.29814018</td></tr>\n",
       "\t<tr><td>a          </td><td>-1.28248182</td></tr>\n",
       "\t<tr><td>a          </td><td> 1.65942788</td></tr>\n",
       "\t<tr><td>a          </td><td> 0.78374544</td></tr>\n",
       "\t<tr><td>a          </td><td> 0.57771022</td></tr>\n",
       "\t<tr><td>a          </td><td>-0.26724640</td></tr>\n",
       "\t<tr><td>a          </td><td>-0.64569141</td></tr>\n",
       "\t<tr><td>a          </td><td>-0.44952912</td></tr>\n",
       "\t<tr><td>a          </td><td>-0.82619821</td></tr>\n",
       "\t<tr><td>a          </td><td> 1.05503854</td></tr>\n",
       "\t<tr><td>a          </td><td>-0.87926983</td></tr>\n",
       "\t<tr><td>a          </td><td>-1.27712832</td></tr>\n",
       "\t<tr><td>a          </td><td>-0.63412243</td></tr>\n",
       "\t<tr><td>a          </td><td> 0.66470047</td></tr>\n",
       "\t<tr><td>a          </td><td>-0.50958183</td></tr>\n",
       "\t<tr><td>a          </td><td> 0.40736335</td></tr>\n",
       "\t<tr><td>a          </td><td> 1.67774776</td></tr>\n",
       "\t<tr><td>a          </td><td>-1.05205570</td></tr>\n",
       "\t<tr><td>a          </td><td>-0.63690737</td></tr>\n",
       "\t<tr><td>a          </td><td> 0.56539163</td></tr>\n",
       "\t<tr><td>a          </td><td> 0.38015779</td></tr>\n",
       "</tbody>\n",
       "</table>\n"
      ],
      "text/latex": [
       "\\begin{tabular}{r|ll}\n",
       " x & y\\\\\n",
       "\\hline\n",
       "\t a           &  0.25958973\\\\\n",
       "\t a           &  0.91751072\\\\\n",
       "\t a           & -0.72231834\\\\\n",
       "\t a           & -0.80828402\\\\\n",
       "\t a           & -0.14135202\\\\\n",
       "\t a           &  2.25701345\\\\\n",
       "\t a           & -2.37955015\\\\\n",
       "\t a           & -0.45425393\\\\\n",
       "\t a           & -0.06007418\\\\\n",
       "\t a           &  0.86090061\\\\\n",
       "\t a           & -1.78466393\\\\\n",
       "\t a           & -0.13074225\\\\\n",
       "\t a           & -0.36983749\\\\\n",
       "\t a           & -0.18065990\\\\\n",
       "\t a           & -1.04973030\\\\\n",
       "\t a           &  0.37831550\\\\\n",
       "\t a           & -1.37079353\\\\\n",
       "\t a           & -0.31611578\\\\\n",
       "\t a           &  0.39435003\\\\\n",
       "\t a           & -1.68987831\\\\\n",
       "\t a           & -1.46233527\\\\\n",
       "\t a           &  2.55837664\\\\\n",
       "\t a           &  0.08788697\\\\\n",
       "\t a           &  1.73141492\\\\\n",
       "\t a           &  1.21512638\\\\\n",
       "\t a           &  0.29954390\\\\\n",
       "\t a           & -0.17245754\\\\\n",
       "\t a           &  1.13249663\\\\\n",
       "\t a           &  0.02319828\\\\\n",
       "\t a           &  1.33587399\\\\\n",
       "\t ⋮ & ⋮\\\\\n",
       "\t a           &  0.44949417\\\\\n",
       "\t a           &  2.78868764\\\\\n",
       "\t a           & -0.46848614\\\\\n",
       "\t a           &  1.01260608\\\\\n",
       "\t a           & -0.04374086\\\\\n",
       "\t a           &  1.40669725\\\\\n",
       "\t a           &  0.41992874\\\\\n",
       "\t a           &  0.31008615\\\\\n",
       "\t a           &  1.11904687\\\\\n",
       "\t a           & -1.29814018\\\\\n",
       "\t a           & -1.28248182\\\\\n",
       "\t a           &  1.65942788\\\\\n",
       "\t a           &  0.78374544\\\\\n",
       "\t a           &  0.57771022\\\\\n",
       "\t a           & -0.26724640\\\\\n",
       "\t a           & -0.64569141\\\\\n",
       "\t a           & -0.44952912\\\\\n",
       "\t a           & -0.82619821\\\\\n",
       "\t a           &  1.05503854\\\\\n",
       "\t a           & -0.87926983\\\\\n",
       "\t a           & -1.27712832\\\\\n",
       "\t a           & -0.63412243\\\\\n",
       "\t a           &  0.66470047\\\\\n",
       "\t a           & -0.50958183\\\\\n",
       "\t a           &  0.40736335\\\\\n",
       "\t a           &  1.67774776\\\\\n",
       "\t a           & -1.05205570\\\\\n",
       "\t a           & -0.63690737\\\\\n",
       "\t a           &  0.56539163\\\\\n",
       "\t a           &  0.38015779\\\\\n",
       "\\end{tabular}\n"
      ],
      "text/markdown": [
       "\n",
       "x | y | \n",
       "|---|---|---|---|---|---|---|---|---|---|---|---|---|---|---|---|---|---|---|---|---|---|---|---|---|---|---|---|---|---|---|---|---|---|---|---|---|---|---|---|---|---|---|---|---|---|---|---|---|---|---|---|---|---|---|---|---|---|---|---|---|\n",
       "| a           |  0.25958973 | \n",
       "| a           |  0.91751072 | \n",
       "| a           | -0.72231834 | \n",
       "| a           | -0.80828402 | \n",
       "| a           | -0.14135202 | \n",
       "| a           |  2.25701345 | \n",
       "| a           | -2.37955015 | \n",
       "| a           | -0.45425393 | \n",
       "| a           | -0.06007418 | \n",
       "| a           |  0.86090061 | \n",
       "| a           | -1.78466393 | \n",
       "| a           | -0.13074225 | \n",
       "| a           | -0.36983749 | \n",
       "| a           | -0.18065990 | \n",
       "| a           | -1.04973030 | \n",
       "| a           |  0.37831550 | \n",
       "| a           | -1.37079353 | \n",
       "| a           | -0.31611578 | \n",
       "| a           |  0.39435003 | \n",
       "| a           | -1.68987831 | \n",
       "| a           | -1.46233527 | \n",
       "| a           |  2.55837664 | \n",
       "| a           |  0.08788697 | \n",
       "| a           |  1.73141492 | \n",
       "| a           |  1.21512638 | \n",
       "| a           |  0.29954390 | \n",
       "| a           | -0.17245754 | \n",
       "| a           |  1.13249663 | \n",
       "| a           |  0.02319828 | \n",
       "| a           |  1.33587399 | \n",
       "| ⋮ | ⋮ | \n",
       "| a           |  0.44949417 | \n",
       "| a           |  2.78868764 | \n",
       "| a           | -0.46848614 | \n",
       "| a           |  1.01260608 | \n",
       "| a           | -0.04374086 | \n",
       "| a           |  1.40669725 | \n",
       "| a           |  0.41992874 | \n",
       "| a           |  0.31008615 | \n",
       "| a           |  1.11904687 | \n",
       "| a           | -1.29814018 | \n",
       "| a           | -1.28248182 | \n",
       "| a           |  1.65942788 | \n",
       "| a           |  0.78374544 | \n",
       "| a           |  0.57771022 | \n",
       "| a           | -0.26724640 | \n",
       "| a           | -0.64569141 | \n",
       "| a           | -0.44952912 | \n",
       "| a           | -0.82619821 | \n",
       "| a           |  1.05503854 | \n",
       "| a           | -0.87926983 | \n",
       "| a           | -1.27712832 | \n",
       "| a           | -0.63412243 | \n",
       "| a           |  0.66470047 | \n",
       "| a           | -0.50958183 | \n",
       "| a           |  0.40736335 | \n",
       "| a           |  1.67774776 | \n",
       "| a           | -1.05205570 | \n",
       "| a           | -0.63690737 | \n",
       "| a           |  0.56539163 | \n",
       "| a           |  0.38015779 | \n",
       "\n",
       "\n"
      ],
      "text/plain": [
       "    x y          \n",
       "1   a  0.25958973\n",
       "2   a  0.91751072\n",
       "3   a -0.72231834\n",
       "4   a -0.80828402\n",
       "5   a -0.14135202\n",
       "6   a  2.25701345\n",
       "7   a -2.37955015\n",
       "8   a -0.45425393\n",
       "9   a -0.06007418\n",
       "10  a  0.86090061\n",
       "11  a -1.78466393\n",
       "12  a -0.13074225\n",
       "13  a -0.36983749\n",
       "14  a -0.18065990\n",
       "15  a -1.04973030\n",
       "16  a  0.37831550\n",
       "17  a -1.37079353\n",
       "18  a -0.31611578\n",
       "19  a  0.39435003\n",
       "20  a -1.68987831\n",
       "21  a -1.46233527\n",
       "22  a  2.55837664\n",
       "23  a  0.08788697\n",
       "24  a  1.73141492\n",
       "25  a  1.21512638\n",
       "26  a  0.29954390\n",
       "27  a -0.17245754\n",
       "28  a  1.13249663\n",
       "29  a  0.02319828\n",
       "30  a  1.33587399\n",
       "⋮   ⋮ ⋮          \n",
       "71  a  0.44949417\n",
       "72  a  2.78868764\n",
       "73  a -0.46848614\n",
       "74  a  1.01260608\n",
       "75  a -0.04374086\n",
       "76  a  1.40669725\n",
       "77  a  0.41992874\n",
       "78  a  0.31008615\n",
       "79  a  1.11904687\n",
       "80  a -1.29814018\n",
       "81  a -1.28248182\n",
       "82  a  1.65942788\n",
       "83  a  0.78374544\n",
       "84  a  0.57771022\n",
       "85  a -0.26724640\n",
       "86  a -0.64569141\n",
       "87  a -0.44952912\n",
       "88  a -0.82619821\n",
       "89  a  1.05503854\n",
       "90  a -0.87926983\n",
       "91  a -1.27712832\n",
       "92  a -0.63412243\n",
       "93  a  0.66470047\n",
       "94  a -0.50958183\n",
       "95  a  0.40736335\n",
       "96  a  1.67774776\n",
       "97  a -1.05205570\n",
       "98  a -0.63690737\n",
       "99  a  0.56539163\n",
       "100 a  0.38015779"
      ]
     },
     "metadata": {},
     "output_type": "display_data"
    }
   ],
   "source": [
    "DT <- data.table(x=rep(c(\"a\", \"b\", \"c\"), each = 100), y=rnorm(300))\n",
    "setkey(DT, x)\n",
    "DT['a']"
   ]
  },
  {
   "cell_type": "code",
   "execution_count": 90,
   "metadata": {},
   "outputs": [
    {
     "data": {
      "text/html": [
       "<table>\n",
       "<thead><tr><th scope=col>x</th><th scope=col>y</th><th scope=col>z</th></tr></thead>\n",
       "<tbody>\n",
       "\t<tr><td>a</td><td>1</td><td>5</td></tr>\n",
       "\t<tr><td>a</td><td>2</td><td>5</td></tr>\n",
       "\t<tr><td>b</td><td>3</td><td>6</td></tr>\n",
       "</tbody>\n",
       "</table>\n"
      ],
      "text/latex": [
       "\\begin{tabular}{r|lll}\n",
       " x & y & z\\\\\n",
       "\\hline\n",
       "\t a & 1 & 5\\\\\n",
       "\t a & 2 & 5\\\\\n",
       "\t b & 3 & 6\\\\\n",
       "\\end{tabular}\n"
      ],
      "text/markdown": [
       "\n",
       "x | y | z | \n",
       "|---|---|---|\n",
       "| a | 1 | 5 | \n",
       "| a | 2 | 5 | \n",
       "| b | 3 | 6 | \n",
       "\n",
       "\n"
      ],
      "text/plain": [
       "  x y z\n",
       "1 a 1 5\n",
       "2 a 2 5\n",
       "3 b 3 6"
      ]
     },
     "metadata": {},
     "output_type": "display_data"
    }
   ],
   "source": [
    "# 키를 이용한 Join\n",
    "DT1 <- data.table(x=c('a', 'a', 'b', 'dt1'), y=1:4)\n",
    "DT2 <- data.table(x=c('a', 'b', 'dt2'), z=5:7)\n",
    "setkey(DT1, x); setkey(DT2, x)\n",
    "merge(DT1, DT2)"
   ]
  },
  {
   "cell_type": "markdown",
   "metadata": {},
   "source": [
    "### 7. Fast Reading"
   ]
  },
  {
   "cell_type": "code",
   "execution_count": 91,
   "metadata": {},
   "outputs": [
    {
     "data": {
      "text/plain": [
       "   user  system elapsed \n",
       "  0.614   0.012   0.627 "
      ]
     },
     "metadata": {},
     "output_type": "display_data"
    }
   ],
   "source": [
    "big_df <- data.frame(x=rnorm(1E6), y=rnorm(1E6))\n",
    "file <- tempfile()\n",
    "write.table(big_df, file=file, row.names=FALSE, col.names=TRUE, sep=\"\\t\", quote=FALSE)\n",
    "system.time(fread(file))\n",
    "\n",
    "#fread는 데이터테이블을 읽어오는 함"
   ]
  },
  {
   "cell_type": "code",
   "execution_count": 92,
   "metadata": {},
   "outputs": [
    {
     "data": {
      "text/plain": [
       "   user  system elapsed \n",
       "  8.484   0.075   8.580 "
      ]
     },
     "metadata": {},
     "output_type": "display_data"
    }
   ],
   "source": [
    "system.time(read.table(file, header=TRUE, sep=\"\\t\"))"
   ]
  },
  {
   "cell_type": "code",
   "execution_count": null,
   "metadata": {
    "collapsed": true
   },
   "outputs": [],
   "source": []
  }
 ],
 "metadata": {
  "kernelspec": {
   "display_name": "R",
   "language": "R",
   "name": "ir"
  },
  "language_info": {
   "codemirror_mode": "r",
   "file_extension": ".r",
   "mimetype": "text/x-r-source",
   "name": "R",
   "pygments_lexer": "r",
   "version": "3.4.3"
  }
 },
 "nbformat": 4,
 "nbformat_minor": 2
}
