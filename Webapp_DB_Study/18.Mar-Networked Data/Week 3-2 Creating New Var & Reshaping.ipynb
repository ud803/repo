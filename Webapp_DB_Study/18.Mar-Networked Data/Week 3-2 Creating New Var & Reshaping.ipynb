{
 "cells": [
  {
   "cell_type": "markdown",
   "metadata": {},
   "source": [
    "# Creating New Vars\n",
    "\n",
    "새로운 변수를 만들고 싶을 때가 있다.\n",
    "\n",
    "- 데이터를 변형하여 원하는 값들만을 남길 때\n",
    "- raw data를 변형하여 새로운 값으로 바꿀 때.. 등\n",
    "\n",
    "\n",
    "https://data.baltimorecity.gov/api/views/k5ry-ef3g/rows.csv?accessType=DOWNLOAD"
   ]
  },
  {
   "cell_type": "code",
   "execution_count": 1,
   "metadata": {},
   "outputs": [
    {
     "data": {
      "text/html": [
       "<table>\n",
       "<thead><tr><th scope=col>name</th><th scope=col>zipCode</th><th scope=col>neighborhood</th><th scope=col>councilDistrict</th><th scope=col>policeDistrict</th><th scope=col>Location.1</th></tr></thead>\n",
       "<tbody>\n",
       "\t<tr><td>410                              </td><td>21206                            </td><td>Frankford                        </td><td>2                                </td><td>NORTHEASTERN                     </td><td>4509 BELAIR ROAD\n",
       "Baltimore, MD\n",
       "</td></tr>\n",
       "\t<tr><td>1919                             </td><td>21231                            </td><td>Fells Point                      </td><td>1                                </td><td>SOUTHEASTERN                     </td><td>1919 FLEET ST\n",
       "Baltimore, MD\n",
       "   </td></tr>\n",
       "\t<tr><td>SAUTE                            </td><td>21224                            </td><td>Canton                           </td><td>1                                </td><td>SOUTHEASTERN                     </td><td>2844 HUDSON ST\n",
       "Baltimore, MD\n",
       "  </td></tr>\n",
       "</tbody>\n",
       "</table>\n"
      ],
      "text/latex": [
       "\\begin{tabular}{r|llllll}\n",
       " name & zipCode & neighborhood & councilDistrict & policeDistrict & Location.1\\\\\n",
       "\\hline\n",
       "\t 410                               & 21206                             & Frankford                         & 2                                 & NORTHEASTERN                      & 4509 BELAIR ROAD\n",
       "Baltimore, MD\n",
       "\\\\\n",
       "\t 1919                              & 21231                             & Fells Point                       & 1                                 & SOUTHEASTERN                      & 1919 FLEET ST\n",
       "Baltimore, MD\n",
       "   \\\\\n",
       "\t SAUTE                             & 21224                             & Canton                            & 1                                 & SOUTHEASTERN                      & 2844 HUDSON ST\n",
       "Baltimore, MD\n",
       "  \\\\\n",
       "\\end{tabular}\n"
      ],
      "text/markdown": [
       "\n",
       "name | zipCode | neighborhood | councilDistrict | policeDistrict | Location.1 | \n",
       "|---|---|---|\n",
       "| 410                               | 21206                             | Frankford                         | 2                                 | NORTHEASTERN                      | 4509 BELAIR ROAD\n",
       "Baltimore, MD\n",
       " | \n",
       "| 1919                              | 21231                             | Fells Point                       | 1                                 | SOUTHEASTERN                      | 1919 FLEET ST\n",
       "Baltimore, MD\n",
       "    | \n",
       "| SAUTE                             | 21224                             | Canton                            | 1                                 | SOUTHEASTERN                      | 2844 HUDSON ST\n",
       "Baltimore, MD\n",
       "   | \n",
       "\n",
       "\n"
      ],
      "text/plain": [
       "  name  zipCode neighborhood councilDistrict policeDistrict\n",
       "1 410   21206   Frankford    2               NORTHEASTERN  \n",
       "2 1919  21231   Fells Point  1               SOUTHEASTERN  \n",
       "3 SAUTE 21224   Canton       1               SOUTHEASTERN  \n",
       "  Location.1                       \n",
       "1 4509 BELAIR ROAD\\nBaltimore, MD\\n\n",
       "2 1919 FLEET ST\\nBaltimore, MD\\n   \n",
       "3 2844 HUDSON ST\\nBaltimore, MD\\n  "
      ]
     },
     "metadata": {},
     "output_type": "display_data"
    }
   ],
   "source": [
    "if(!file.exists(\"./data\")){dir.create(\"./data\")}\n",
    "fileURL <- \"https://data.baltimorecity.gov/api/views/k5ry-ef3g/rows.csv?accessType=DOWNLOAD\"\n",
    "download.file(fileURL, destfile=\"./data/restaurants.csv\", method=\"curl\")\n",
    "restData <- read.csv(\"./data/restaurants.csv\")\n",
    "\n",
    "head(restData, 3)"
   ]
  },
  {
   "cell_type": "code",
   "execution_count": 2,
   "metadata": {},
   "outputs": [
    {
     "data": {
      "text/html": [
       "<ol class=list-inline>\n",
       "\t<li>1</li>\n",
       "\t<li>3</li>\n",
       "\t<li>5</li>\n",
       "\t<li>7</li>\n",
       "\t<li>9</li>\n",
       "</ol>\n"
      ],
      "text/latex": [
       "\\begin{enumerate*}\n",
       "\\item 1\n",
       "\\item 3\n",
       "\\item 5\n",
       "\\item 7\n",
       "\\item 9\n",
       "\\end{enumerate*}\n"
      ],
      "text/markdown": [
       "1. 1\n",
       "2. 3\n",
       "3. 5\n",
       "4. 7\n",
       "5. 9\n",
       "\n",
       "\n"
      ],
      "text/plain": [
       "[1] 1 3 5 7 9"
      ]
     },
     "metadata": {},
     "output_type": "display_data"
    }
   ],
   "source": [
    "# Creating Sequences\n",
    "# 간격이 2\n",
    "s1 <- seq(1,10, by=2); s1"
   ]
  },
  {
   "cell_type": "code",
   "execution_count": 4,
   "metadata": {},
   "outputs": [
    {
     "data": {
      "text/html": [
       "<ol class=list-inline>\n",
       "\t<li>1</li>\n",
       "\t<li>5.5</li>\n",
       "\t<li>10</li>\n",
       "</ol>\n"
      ],
      "text/latex": [
       "\\begin{enumerate*}\n",
       "\\item 1\n",
       "\\item 5.5\n",
       "\\item 10\n",
       "\\end{enumerate*}\n"
      ],
      "text/markdown": [
       "1. 1\n",
       "2. 5.5\n",
       "3. 10\n",
       "\n",
       "\n"
      ],
      "text/plain": [
       "[1]  1.0  5.5 10.0"
      ]
     },
     "metadata": {},
     "output_type": "display_data"
    }
   ],
   "source": [
    "s2 <- seq(1,10, length=3); s2"
   ]
  },
  {
   "cell_type": "code",
   "execution_count": 6,
   "metadata": {},
   "outputs": [
    {
     "data": {
      "text/html": [
       "<ol class=list-inline>\n",
       "\t<li>1</li>\n",
       "\t<li>2</li>\n",
       "\t<li>3</li>\n",
       "\t<li>4</li>\n",
       "\t<li>5</li>\n",
       "</ol>\n"
      ],
      "text/latex": [
       "\\begin{enumerate*}\n",
       "\\item 1\n",
       "\\item 2\n",
       "\\item 3\n",
       "\\item 4\n",
       "\\item 5\n",
       "\\end{enumerate*}\n"
      ],
      "text/markdown": [
       "1. 1\n",
       "2. 2\n",
       "3. 3\n",
       "4. 4\n",
       "5. 5\n",
       "\n",
       "\n"
      ],
      "text/plain": [
       "[1] 1 2 3 4 5"
      ]
     },
     "metadata": {},
     "output_type": "display_data"
    }
   ],
   "source": [
    "# 길이가 x와 같은 index를 만들때 편하다\n",
    "x <- c(1, 3, 8, 25, 100); seq(along = x)"
   ]
  },
  {
   "cell_type": "code",
   "execution_count": 7,
   "metadata": {},
   "outputs": [
    {
     "data": {
      "text/plain": [
       "\n",
       "FALSE  TRUE \n",
       " 1314    13 "
      ]
     },
     "metadata": {},
     "output_type": "display_data"
    }
   ],
   "source": [
    "# Subsetting Variables\n",
    "restData$nearMe = restData$neighborhood %in% c(\"Roland Park\", \"Homeland\")\n",
    "table(restData$nearMe)"
   ]
  },
  {
   "cell_type": "markdown",
   "metadata": {},
   "source": [
    "### 1. Creating Binary Variables"
   ]
  },
  {
   "cell_type": "code",
   "execution_count": 10,
   "metadata": {},
   "outputs": [
    {
     "data": {
      "text/plain": [
       "       \n",
       "        FALSE TRUE\n",
       "  FALSE  1326    0\n",
       "  TRUE      0    1"
      ]
     },
     "metadata": {},
     "output_type": "display_data"
    }
   ],
   "source": [
    "restData$zipWrong = ifelse(restData$zipCode <0, T, F)\n",
    "table(restData$zipWrong, restData$zipCode <0)"
   ]
  },
  {
   "cell_type": "markdown",
   "metadata": {},
   "source": [
    "### 2. Creating Categorical Variables"
   ]
  },
  {
   "cell_type": "code",
   "execution_count": 15,
   "metadata": {
    "scrolled": true
   },
   "outputs": [
    {
     "data": {
      "text/html": [
       "<dl class=dl-horizontal>\n",
       "\t<dt>0%</dt>\n",
       "\t\t<dd>1</dd>\n",
       "\t<dt>25%</dt>\n",
       "\t\t<dd>3.25</dd>\n",
       "\t<dt>50%</dt>\n",
       "\t\t<dd>5.5</dd>\n",
       "\t<dt>75%</dt>\n",
       "\t\t<dd>7.75</dd>\n",
       "\t<dt>100%</dt>\n",
       "\t\t<dd>10</dd>\n",
       "</dl>\n"
      ],
      "text/latex": [
       "\\begin{description*}\n",
       "\\item[0\\textbackslash{}\\%] 1\n",
       "\\item[25\\textbackslash{}\\%] 3.25\n",
       "\\item[50\\textbackslash{}\\%] 5.5\n",
       "\\item[75\\textbackslash{}\\%] 7.75\n",
       "\\item[100\\textbackslash{}\\%] 10\n",
       "\\end{description*}\n"
      ],
      "text/markdown": [
       "0%\n",
       ":   125%\n",
       ":   3.2550%\n",
       ":   5.575%\n",
       ":   7.75100%\n",
       ":   10\n",
       "\n"
      ],
      "text/plain": [
       "   0%   25%   50%   75%  100% \n",
       " 1.00  3.25  5.50  7.75 10.00 "
      ]
     },
     "metadata": {},
     "output_type": "display_data"
    }
   ],
   "source": [
    "a = seq(1,10)\n",
    "quantile(a)"
   ]
  },
  {
   "cell_type": "code",
   "execution_count": 18,
   "metadata": {},
   "outputs": [
    {
     "name": "stdout",
     "output_type": "stream",
     "text": [
      " Factor w/ 4 levels \"(1,3.25]\",\"(3.25,5.5]\",..: NA 1 1 2 2 3 3 4 4 4\n"
     ]
    }
   ],
   "source": [
    "# 팩터로 구분한\n",
    "str(cut(a, breaks=quantile(a)))"
   ]
  },
  {
   "cell_type": "code",
   "execution_count": 11,
   "metadata": {},
   "outputs": [
    {
     "data": {
      "text/plain": [
       "\n",
       "(-2.123e+04,2.12e+04]  (2.12e+04,2.122e+04] (2.122e+04,2.123e+04] \n",
       "                  337                   375                   282 \n",
       "(2.123e+04,2.129e+04] \n",
       "                  332 "
      ]
     },
     "metadata": {},
     "output_type": "display_data"
    }
   ],
   "source": [
    "# cut은 정해진 변수의 quantile에 따라 범위를 나누어 팩터를 부여함\n",
    "restData$zipGroups = cut(restData$zipCode, breaks=quantile(restData$zipCode))\n",
    "table(restData$zipGroups)"
   ]
  },
  {
   "cell_type": "code",
   "execution_count": 13,
   "metadata": {},
   "outputs": [
    {
     "data": {
      "text/plain": [
       "                       \n",
       "                        -21226 21201 21202 21205 21206 21207 21208 21209 21210\n",
       "  (-2.123e+04,2.12e+04]      0   136   201     0     0     0     0     0     0\n",
       "  (2.12e+04,2.122e+04]       0     0     0    27    30     4     1     8    23\n",
       "  (2.122e+04,2.123e+04]      0     0     0     0     0     0     0     0     0\n",
       "  (2.123e+04,2.129e+04]      0     0     0     0     0     0     0     0     0\n",
       "                       \n",
       "                        21211 21212 21213 21214 21215 21216 21217 21218 21220\n",
       "  (-2.123e+04,2.12e+04]     0     0     0     0     0     0     0     0     0\n",
       "  (2.12e+04,2.122e+04]     41    28    31    17    54    10    32    69     0\n",
       "  (2.122e+04,2.123e+04]     0     0     0     0     0     0     0     0     1\n",
       "  (2.123e+04,2.129e+04]     0     0     0     0     0     0     0     0     0\n",
       "                       \n",
       "                        21222 21223 21224 21225 21226 21227 21229 21230 21231\n",
       "  (-2.123e+04,2.12e+04]     0     0     0     0     0     0     0     0     0\n",
       "  (2.12e+04,2.122e+04]      0     0     0     0     0     0     0     0     0\n",
       "  (2.122e+04,2.123e+04]     7    56   199    19     0     0     0     0     0\n",
       "  (2.123e+04,2.129e+04]     0     0     0     0    18     4    13   156   127\n",
       "                       \n",
       "                        21234 21237 21239 21251 21287\n",
       "  (-2.123e+04,2.12e+04]     0     0     0     0     0\n",
       "  (2.12e+04,2.122e+04]      0     0     0     0     0\n",
       "  (2.122e+04,2.123e+04]     0     0     0     0     0\n",
       "  (2.123e+04,2.129e+04]     7     1     3     2     1"
      ]
     },
     "metadata": {},
     "output_type": "display_data"
    }
   ],
   "source": [
    "table(restData$zipGroups, restData$zipCode)"
   ]
  },
  {
   "cell_type": "markdown",
   "metadata": {},
   "source": [
    "### 3. Creating Factor Variables"
   ]
  },
  {
   "cell_type": "code",
   "execution_count": 19,
   "metadata": {},
   "outputs": [
    {
     "data": {
      "text/html": [
       "<ol class=list-inline>\n",
       "\t<li>21206</li>\n",
       "\t<li>21231</li>\n",
       "\t<li>21224</li>\n",
       "\t<li>21211</li>\n",
       "\t<li>21223</li>\n",
       "\t<li>21218</li>\n",
       "\t<li>21205</li>\n",
       "\t<li>21211</li>\n",
       "\t<li>21205</li>\n",
       "\t<li>21231</li>\n",
       "</ol>\n"
      ],
      "text/latex": [
       "\\begin{enumerate*}\n",
       "\\item 21206\n",
       "\\item 21231\n",
       "\\item 21224\n",
       "\\item 21211\n",
       "\\item 21223\n",
       "\\item 21218\n",
       "\\item 21205\n",
       "\\item 21211\n",
       "\\item 21205\n",
       "\\item 21231\n",
       "\\end{enumerate*}\n"
      ],
      "text/markdown": [
       "1. 21206\n",
       "2. 21231\n",
       "3. 21224\n",
       "4. 21211\n",
       "5. 21223\n",
       "6. 21218\n",
       "7. 21205\n",
       "8. 21211\n",
       "9. 21205\n",
       "10. 21231\n",
       "\n",
       "\n"
      ],
      "text/plain": [
       " [1] 21206 21231 21224 21211 21223 21218 21205 21211 21205 21231\n",
       "32 Levels: -21226 21201 21202 21205 21206 21207 21208 21209 21210 ... 21287"
      ]
     },
     "metadata": {},
     "output_type": "display_data"
    }
   ],
   "source": [
    "# zipCode는 integer이지만 factor로 바꾼다\n",
    "restData$zcf <- factor(restData$zipCode)\n",
    "restData$zcf[1:10]"
   ]
  },
  {
   "cell_type": "code",
   "execution_count": 23,
   "metadata": {},
   "outputs": [
    {
     "data": {
      "text/html": [
       "'integer'"
      ],
      "text/latex": [
       "'integer'"
      ],
      "text/markdown": [
       "'integer'"
      ],
      "text/plain": [
       "[1] \"integer\""
      ]
     },
     "metadata": {},
     "output_type": "display_data"
    },
    {
     "data": {
      "text/html": [
       "'factor'"
      ],
      "text/latex": [
       "'factor'"
      ],
      "text/markdown": [
       "'factor'"
      ],
      "text/plain": [
       "[1] \"factor\""
      ]
     },
     "metadata": {},
     "output_type": "display_data"
    }
   ],
   "source": [
    "class(restData$zipCode)\n",
    "class(restData$zcf)"
   ]
  },
  {
   "cell_type": "code",
   "execution_count": 31,
   "metadata": {},
   "outputs": [
    {
     "data": {
      "text/html": [
       "<ol class=list-inline>\n",
       "\t<li>'no'</li>\n",
       "\t<li>'no'</li>\n",
       "\t<li>'no'</li>\n",
       "\t<li>'yes'</li>\n",
       "\t<li>'yes'</li>\n",
       "\t<li>'no'</li>\n",
       "\t<li>'yes'</li>\n",
       "\t<li>'yes'</li>\n",
       "\t<li>'no'</li>\n",
       "\t<li>'yes'</li>\n",
       "</ol>\n"
      ],
      "text/latex": [
       "\\begin{enumerate*}\n",
       "\\item 'no'\n",
       "\\item 'no'\n",
       "\\item 'no'\n",
       "\\item 'yes'\n",
       "\\item 'yes'\n",
       "\\item 'no'\n",
       "\\item 'yes'\n",
       "\\item 'yes'\n",
       "\\item 'no'\n",
       "\\item 'yes'\n",
       "\\end{enumerate*}\n"
      ],
      "text/markdown": [
       "1. 'no'\n",
       "2. 'no'\n",
       "3. 'no'\n",
       "4. 'yes'\n",
       "5. 'yes'\n",
       "6. 'no'\n",
       "7. 'yes'\n",
       "8. 'yes'\n",
       "9. 'no'\n",
       "10. 'yes'\n",
       "\n",
       "\n"
      ],
      "text/plain": [
       " [1] \"no\"  \"no\"  \"no\"  \"yes\" \"yes\" \"no\"  \"yes\" \"yes\" \"no\"  \"yes\""
      ]
     },
     "metadata": {},
     "output_type": "display_data"
    },
    {
     "data": {
      "text/html": [
       "<ol class=list-inline>\n",
       "\t<li>no</li>\n",
       "\t<li>no</li>\n",
       "\t<li>no</li>\n",
       "\t<li>yes</li>\n",
       "\t<li>yes</li>\n",
       "\t<li>no</li>\n",
       "\t<li>yes</li>\n",
       "\t<li>yes</li>\n",
       "\t<li>no</li>\n",
       "\t<li>yes</li>\n",
       "</ol>\n"
      ],
      "text/latex": [
       "\\begin{enumerate*}\n",
       "\\item no\n",
       "\\item no\n",
       "\\item no\n",
       "\\item yes\n",
       "\\item yes\n",
       "\\item no\n",
       "\\item yes\n",
       "\\item yes\n",
       "\\item no\n",
       "\\item yes\n",
       "\\end{enumerate*}\n"
      ],
      "text/markdown": [
       "1. no\n",
       "2. no\n",
       "3. no\n",
       "4. yes\n",
       "5. yes\n",
       "6. no\n",
       "7. yes\n",
       "8. yes\n",
       "9. no\n",
       "10. yes\n",
       "\n",
       "\n"
      ],
      "text/plain": [
       " [1] no  no  no  yes yes no  yes yes no  yes\n",
       "Levels: yes no"
      ]
     },
     "metadata": {},
     "output_type": "display_data"
    }
   ],
   "source": [
    "# Levels of factor variables\n",
    "yesno <- sample(c(\"yes\", \"no\"), size=10, replace=TRUE)\n",
    "yesnofac = factor(yesno, levels=c(\"yes\", \"no\"))\n",
    "    # by default, 가장 사전 순서에서 먼 값을 첫 번째 factor level로 한다\n",
    "yesno\n",
    "yesnofac"
   ]
  },
  {
   "cell_type": "code",
   "execution_count": 32,
   "metadata": {},
   "outputs": [
    {
     "data": {
      "text/html": [
       "<ol class=list-inline>\n",
       "\t<li>no</li>\n",
       "\t<li>no</li>\n",
       "\t<li>no</li>\n",
       "\t<li>yes</li>\n",
       "\t<li>yes</li>\n",
       "\t<li>no</li>\n",
       "\t<li>yes</li>\n",
       "\t<li>yes</li>\n",
       "\t<li>no</li>\n",
       "\t<li>yes</li>\n",
       "</ol>\n"
      ],
      "text/latex": [
       "\\begin{enumerate*}\n",
       "\\item no\n",
       "\\item no\n",
       "\\item no\n",
       "\\item yes\n",
       "\\item yes\n",
       "\\item no\n",
       "\\item yes\n",
       "\\item yes\n",
       "\\item no\n",
       "\\item yes\n",
       "\\end{enumerate*}\n"
      ],
      "text/markdown": [
       "1. no\n",
       "2. no\n",
       "3. no\n",
       "4. yes\n",
       "5. yes\n",
       "6. no\n",
       "7. yes\n",
       "8. yes\n",
       "9. no\n",
       "10. yes\n",
       "\n",
       "\n"
      ],
      "text/plain": [
       " [1] no  no  no  yes yes no  yes yes no  yes\n",
       "Levels: yes no"
      ]
     },
     "metadata": {},
     "output_type": "display_data"
    },
    {
     "data": {
      "text/html": [
       "<ol class=list-inline>\n",
       "\t<li>'no'</li>\n",
       "\t<li>'no'</li>\n",
       "\t<li>'no'</li>\n",
       "\t<li>'yes'</li>\n",
       "\t<li>'yes'</li>\n",
       "\t<li>'no'</li>\n",
       "\t<li>'yes'</li>\n",
       "\t<li>'yes'</li>\n",
       "\t<li>'no'</li>\n",
       "\t<li>'yes'</li>\n",
       "</ol>\n"
      ],
      "text/latex": [
       "\\begin{enumerate*}\n",
       "\\item 'no'\n",
       "\\item 'no'\n",
       "\\item 'no'\n",
       "\\item 'yes'\n",
       "\\item 'yes'\n",
       "\\item 'no'\n",
       "\\item 'yes'\n",
       "\\item 'yes'\n",
       "\\item 'no'\n",
       "\\item 'yes'\n",
       "\\end{enumerate*}\n"
      ],
      "text/markdown": [
       "1. 'no'\n",
       "2. 'no'\n",
       "3. 'no'\n",
       "4. 'yes'\n",
       "5. 'yes'\n",
       "6. 'no'\n",
       "7. 'yes'\n",
       "8. 'yes'\n",
       "9. 'no'\n",
       "10. 'yes'\n",
       "\n",
       "\n"
      ],
      "text/plain": [
       " [1] \"no\"  \"no\"  \"no\"  \"yes\" \"yes\" \"no\"  \"yes\" \"yes\" \"no\"  \"yes\""
      ]
     },
     "metadata": {},
     "output_type": "display_data"
    },
    {
     "data": {
      "text/html": [
       "<ol class=list-inline>\n",
       "\t<li>no</li>\n",
       "\t<li>no</li>\n",
       "\t<li>no</li>\n",
       "\t<li>yes</li>\n",
       "\t<li>yes</li>\n",
       "\t<li>no</li>\n",
       "\t<li>yes</li>\n",
       "\t<li>yes</li>\n",
       "\t<li>no</li>\n",
       "\t<li>yes</li>\n",
       "</ol>\n"
      ],
      "text/latex": [
       "\\begin{enumerate*}\n",
       "\\item no\n",
       "\\item no\n",
       "\\item no\n",
       "\\item yes\n",
       "\\item yes\n",
       "\\item no\n",
       "\\item yes\n",
       "\\item yes\n",
       "\\item no\n",
       "\\item yes\n",
       "\\end{enumerate*}\n"
      ],
      "text/markdown": [
       "1. no\n",
       "2. no\n",
       "3. no\n",
       "4. yes\n",
       "5. yes\n",
       "6. no\n",
       "7. yes\n",
       "8. yes\n",
       "9. no\n",
       "10. yes\n",
       "\n",
       "\n"
      ],
      "text/plain": [
       " [1] no  no  no  yes yes no  yes yes no  yes\n",
       "Levels: yes no"
      ]
     },
     "metadata": {},
     "output_type": "display_data"
    }
   ],
   "source": [
    "# Reference 를 yes로 바꾼다\n",
    "relevel(yesnofac, ref=\"yes\")\n",
    "yesno\n",
    "yesnofac"
   ]
  },
  {
   "cell_type": "code",
   "execution_count": 33,
   "metadata": {},
   "outputs": [
    {
     "data": {
      "text/html": [
       "<ol class=list-inline>\n",
       "\t<li>2</li>\n",
       "\t<li>2</li>\n",
       "\t<li>2</li>\n",
       "\t<li>1</li>\n",
       "\t<li>1</li>\n",
       "\t<li>2</li>\n",
       "\t<li>1</li>\n",
       "\t<li>1</li>\n",
       "\t<li>2</li>\n",
       "\t<li>1</li>\n",
       "</ol>\n"
      ],
      "text/latex": [
       "\\begin{enumerate*}\n",
       "\\item 2\n",
       "\\item 2\n",
       "\\item 2\n",
       "\\item 1\n",
       "\\item 1\n",
       "\\item 2\n",
       "\\item 1\n",
       "\\item 1\n",
       "\\item 2\n",
       "\\item 1\n",
       "\\end{enumerate*}\n"
      ],
      "text/markdown": [
       "1. 2\n",
       "2. 2\n",
       "3. 2\n",
       "4. 1\n",
       "5. 1\n",
       "6. 2\n",
       "7. 1\n",
       "8. 1\n",
       "9. 2\n",
       "10. 1\n",
       "\n",
       "\n"
      ],
      "text/plain": [
       " [1] 2 2 2 1 1 2 1 1 2 1"
      ]
     },
     "metadata": {},
     "output_type": "display_data"
    }
   ],
   "source": [
    "# 가장 낮은 값(yes)가 1이 됨\n",
    "as.numeric(yesnofac)"
   ]
  },
  {
   "cell_type": "markdown",
   "metadata": {},
   "source": [
    "##### Common Transforms\n",
    "\n",
    "- `abs(x)`\n",
    "- `sqrt(x)`\n",
    "- `ceiling(x)`\n",
    "- `floor(x)`\n",
    "- `round(x)`\n",
    "- `round(x, digits=n)`\n",
    "- `signif(x, digits=n)`\n",
    "- `cos(x), sin(x)`\n",
    "- `log(x)`\n",
    "- `log2(x), log10(x)`\n",
    "- `exp(x)`"
   ]
  },
  {
   "cell_type": "markdown",
   "metadata": {},
   "source": [
    "# Reshaping\n",
    "\n",
    "The goal is \"Tidy Data\"\n",
    "\n",
    "http://www.slideshare.net/jeffereybreen/reshaping-data-in-r\n"
   ]
  },
  {
   "cell_type": "code",
   "execution_count": 38,
   "metadata": {},
   "outputs": [],
   "source": [
    "library(reshape2)"
   ]
  },
  {
   "cell_type": "code",
   "execution_count": 37,
   "metadata": {
    "scrolled": true
   },
   "outputs": [
    {
     "data": {
      "text/html": [
       "<table>\n",
       "<thead><tr><th></th><th scope=col>mpg</th><th scope=col>cyl</th><th scope=col>disp</th><th scope=col>hp</th><th scope=col>drat</th><th scope=col>wt</th><th scope=col>qsec</th><th scope=col>vs</th><th scope=col>am</th><th scope=col>gear</th><th scope=col>carb</th></tr></thead>\n",
       "<tbody>\n",
       "\t<tr><th scope=row>Mazda RX4</th><td>21.0 </td><td>6    </td><td>160  </td><td>110  </td><td>3.90 </td><td>2.620</td><td>16.46</td><td>0    </td><td>1    </td><td>4    </td><td>4    </td></tr>\n",
       "\t<tr><th scope=row>Mazda RX4 Wag</th><td>21.0 </td><td>6    </td><td>160  </td><td>110  </td><td>3.90 </td><td>2.875</td><td>17.02</td><td>0    </td><td>1    </td><td>4    </td><td>4    </td></tr>\n",
       "\t<tr><th scope=row>Datsun 710</th><td>22.8 </td><td>4    </td><td>108  </td><td> 93  </td><td>3.85 </td><td>2.320</td><td>18.61</td><td>1    </td><td>1    </td><td>4    </td><td>1    </td></tr>\n",
       "\t<tr><th scope=row>Hornet 4 Drive</th><td>21.4 </td><td>6    </td><td>258  </td><td>110  </td><td>3.08 </td><td>3.215</td><td>19.44</td><td>1    </td><td>0    </td><td>3    </td><td>1    </td></tr>\n",
       "\t<tr><th scope=row>Hornet Sportabout</th><td>18.7 </td><td>8    </td><td>360  </td><td>175  </td><td>3.15 </td><td>3.440</td><td>17.02</td><td>0    </td><td>0    </td><td>3    </td><td>2    </td></tr>\n",
       "\t<tr><th scope=row>Valiant</th><td>18.1 </td><td>6    </td><td>225  </td><td>105  </td><td>2.76 </td><td>3.460</td><td>20.22</td><td>1    </td><td>0    </td><td>3    </td><td>1    </td></tr>\n",
       "</tbody>\n",
       "</table>\n"
      ],
      "text/latex": [
       "\\begin{tabular}{r|lllllllllll}\n",
       "  & mpg & cyl & disp & hp & drat & wt & qsec & vs & am & gear & carb\\\\\n",
       "\\hline\n",
       "\tMazda RX4 & 21.0  & 6     & 160   & 110   & 3.90  & 2.620 & 16.46 & 0     & 1     & 4     & 4    \\\\\n",
       "\tMazda RX4 Wag & 21.0  & 6     & 160   & 110   & 3.90  & 2.875 & 17.02 & 0     & 1     & 4     & 4    \\\\\n",
       "\tDatsun 710 & 22.8  & 4     & 108   &  93   & 3.85  & 2.320 & 18.61 & 1     & 1     & 4     & 1    \\\\\n",
       "\tHornet 4 Drive & 21.4  & 6     & 258   & 110   & 3.08  & 3.215 & 19.44 & 1     & 0     & 3     & 1    \\\\\n",
       "\tHornet Sportabout & 18.7  & 8     & 360   & 175   & 3.15  & 3.440 & 17.02 & 0     & 0     & 3     & 2    \\\\\n",
       "\tValiant & 18.1  & 6     & 225   & 105   & 2.76  & 3.460 & 20.22 & 1     & 0     & 3     & 1    \\\\\n",
       "\\end{tabular}\n"
      ],
      "text/markdown": [
       "\n",
       "| <!--/--> | mpg | cyl | disp | hp | drat | wt | qsec | vs | am | gear | carb | \n",
       "|---|---|---|---|---|---|\n",
       "| Mazda RX4 | 21.0  | 6     | 160   | 110   | 3.90  | 2.620 | 16.46 | 0     | 1     | 4     | 4     | \n",
       "| Mazda RX4 Wag | 21.0  | 6     | 160   | 110   | 3.90  | 2.875 | 17.02 | 0     | 1     | 4     | 4     | \n",
       "| Datsun 710 | 22.8  | 4     | 108   |  93   | 3.85  | 2.320 | 18.61 | 1     | 1     | 4     | 1     | \n",
       "| Hornet 4 Drive | 21.4  | 6     | 258   | 110   | 3.08  | 3.215 | 19.44 | 1     | 0     | 3     | 1     | \n",
       "| Hornet Sportabout | 18.7  | 8     | 360   | 175   | 3.15  | 3.440 | 17.02 | 0     | 0     | 3     | 2     | \n",
       "| Valiant | 18.1  | 6     | 225   | 105   | 2.76  | 3.460 | 20.22 | 1     | 0     | 3     | 1     | \n",
       "\n",
       "\n"
      ],
      "text/plain": [
       "                  mpg  cyl disp hp  drat wt    qsec  vs am gear carb\n",
       "Mazda RX4         21.0 6   160  110 3.90 2.620 16.46 0  1  4    4   \n",
       "Mazda RX4 Wag     21.0 6   160  110 3.90 2.875 17.02 0  1  4    4   \n",
       "Datsun 710        22.8 4   108   93 3.85 2.320 18.61 1  1  4    1   \n",
       "Hornet 4 Drive    21.4 6   258  110 3.08 3.215 19.44 1  0  3    1   \n",
       "Hornet Sportabout 18.7 8   360  175 3.15 3.440 17.02 0  0  3    2   \n",
       "Valiant           18.1 6   225  105 2.76 3.460 20.22 1  0  3    1   "
      ]
     },
     "metadata": {},
     "output_type": "display_data"
    }
   ],
   "source": [
    "head(mtcars)"
   ]
  },
  {
   "cell_type": "markdown",
   "metadata": {},
   "source": [
    "### 1. Melting data frames\n",
    "\n",
    "데이터프레임을 녹여서 여러 칼럼으로 나열된 측정치를 variable, value 두 개 컬럼으로 변환시킨다."
   ]
  },
  {
   "cell_type": "code",
   "execution_count": 40,
   "metadata": {},
   "outputs": [
    {
     "data": {
      "text/html": [
       "<table>\n",
       "<thead><tr><th scope=col>carname</th><th scope=col>gear</th><th scope=col>cyl</th><th scope=col>variable</th><th scope=col>value</th></tr></thead>\n",
       "<tbody>\n",
       "\t<tr><td>Mazda RX4    </td><td>4            </td><td>6            </td><td>mpg          </td><td>21.0         </td></tr>\n",
       "\t<tr><td>Mazda RX4 Wag</td><td>4            </td><td>6            </td><td>mpg          </td><td>21.0         </td></tr>\n",
       "\t<tr><td>Datsun 710   </td><td>4            </td><td>4            </td><td>mpg          </td><td>22.8         </td></tr>\n",
       "</tbody>\n",
       "</table>\n"
      ],
      "text/latex": [
       "\\begin{tabular}{r|lllll}\n",
       " carname & gear & cyl & variable & value\\\\\n",
       "\\hline\n",
       "\t Mazda RX4     & 4             & 6             & mpg           & 21.0         \\\\\n",
       "\t Mazda RX4 Wag & 4             & 6             & mpg           & 21.0         \\\\\n",
       "\t Datsun 710    & 4             & 4             & mpg           & 22.8         \\\\\n",
       "\\end{tabular}\n"
      ],
      "text/markdown": [
       "\n",
       "carname | gear | cyl | variable | value | \n",
       "|---|---|---|\n",
       "| Mazda RX4     | 4             | 6             | mpg           | 21.0          | \n",
       "| Mazda RX4 Wag | 4             | 6             | mpg           | 21.0          | \n",
       "| Datsun 710    | 4             | 4             | mpg           | 22.8          | \n",
       "\n",
       "\n"
      ],
      "text/plain": [
       "  carname       gear cyl variable value\n",
       "1 Mazda RX4     4    6   mpg      21.0 \n",
       "2 Mazda RX4 Wag 4    6   mpg      21.0 \n",
       "3 Datsun 710    4    4   mpg      22.8 "
      ]
     },
     "metadata": {},
     "output_type": "display_data"
    }
   ],
   "source": [
    "mtcars$carname <- rownames(mtcars)\n",
    "carMelt <- melt(mtcars, id=c(\"carname\", \"gear\", \"cyl\"), measure.vars=c(\"mpg\", \"hp\"))\n",
    "head(carMelt, n=3)"
   ]
  },
  {
   "cell_type": "code",
   "execution_count": 41,
   "metadata": {},
   "outputs": [
    {
     "data": {
      "text/html": [
       "<table>\n",
       "<thead><tr><th></th><th scope=col>carname</th><th scope=col>gear</th><th scope=col>cyl</th><th scope=col>variable</th><th scope=col>value</th></tr></thead>\n",
       "<tbody>\n",
       "\t<tr><th scope=row>62</th><td>Ferrari Dino </td><td>5            </td><td>6            </td><td>hp           </td><td>175          </td></tr>\n",
       "\t<tr><th scope=row>63</th><td>Maserati Bora</td><td>5            </td><td>8            </td><td>hp           </td><td>335          </td></tr>\n",
       "\t<tr><th scope=row>64</th><td>Volvo 142E   </td><td>4            </td><td>4            </td><td>hp           </td><td>109          </td></tr>\n",
       "</tbody>\n",
       "</table>\n"
      ],
      "text/latex": [
       "\\begin{tabular}{r|lllll}\n",
       "  & carname & gear & cyl & variable & value\\\\\n",
       "\\hline\n",
       "\t62 & Ferrari Dino  & 5             & 6             & hp            & 175          \\\\\n",
       "\t63 & Maserati Bora & 5             & 8             & hp            & 335          \\\\\n",
       "\t64 & Volvo 142E    & 4             & 4             & hp            & 109          \\\\\n",
       "\\end{tabular}\n"
      ],
      "text/markdown": [
       "\n",
       "| <!--/--> | carname | gear | cyl | variable | value | \n",
       "|---|---|---|\n",
       "| 62 | Ferrari Dino  | 5             | 6             | hp            | 175           | \n",
       "| 63 | Maserati Bora | 5             | 8             | hp            | 335           | \n",
       "| 64 | Volvo 142E    | 4             | 4             | hp            | 109           | \n",
       "\n",
       "\n"
      ],
      "text/plain": [
       "   carname       gear cyl variable value\n",
       "62 Ferrari Dino  5    6   hp       175  \n",
       "63 Maserati Bora 5    8   hp       335  \n",
       "64 Volvo 142E    4    4   hp       109  "
      ]
     },
     "metadata": {},
     "output_type": "display_data"
    }
   ],
   "source": [
    "tail(carMelt, n=3)"
   ]
  },
  {
   "cell_type": "markdown",
   "metadata": {},
   "source": [
    "### 2. Casting data frames"
   ]
  },
  {
   "cell_type": "code",
   "execution_count": 44,
   "metadata": {},
   "outputs": [
    {
     "name": "stderr",
     "output_type": "stream",
     "text": [
      "Aggregation function missing: defaulting to length\n"
     ]
    },
    {
     "data": {
      "text/html": [
       "<table>\n",
       "<thead><tr><th scope=col>cyl</th><th scope=col>mpg</th><th scope=col>hp</th></tr></thead>\n",
       "<tbody>\n",
       "\t<tr><td>4 </td><td>11</td><td>11</td></tr>\n",
       "\t<tr><td>6 </td><td> 7</td><td> 7</td></tr>\n",
       "\t<tr><td>8 </td><td>14</td><td>14</td></tr>\n",
       "</tbody>\n",
       "</table>\n"
      ],
      "text/latex": [
       "\\begin{tabular}{r|lll}\n",
       " cyl & mpg & hp\\\\\n",
       "\\hline\n",
       "\t 4  & 11 & 11\\\\\n",
       "\t 6  &  7 &  7\\\\\n",
       "\t 8  & 14 & 14\\\\\n",
       "\\end{tabular}\n"
      ],
      "text/markdown": [
       "\n",
       "cyl | mpg | hp | \n",
       "|---|---|---|\n",
       "| 4  | 11 | 11 | \n",
       "| 6  |  7 |  7 | \n",
       "| 8  | 14 | 14 | \n",
       "\n",
       "\n"
      ],
      "text/plain": [
       "  cyl mpg hp\n",
       "1 4   11  11\n",
       "2 6    7   7\n",
       "3 8   14  14"
      ]
     },
     "metadata": {},
     "output_type": "display_data"
    }
   ],
   "source": [
    "cylData <- dcast(carMelt, cyl ~ variable)\n",
    "cylData"
   ]
  },
  {
   "cell_type": "code",
   "execution_count": 46,
   "metadata": {},
   "outputs": [
    {
     "data": {
      "text/html": [
       "<table>\n",
       "<thead><tr><th scope=col>cyl</th><th scope=col>mpg</th><th scope=col>hp</th></tr></thead>\n",
       "<tbody>\n",
       "\t<tr><td>4        </td><td>26.66364 </td><td> 82.63636</td></tr>\n",
       "\t<tr><td>6        </td><td>19.74286 </td><td>122.28571</td></tr>\n",
       "\t<tr><td>8        </td><td>15.10000 </td><td>209.21429</td></tr>\n",
       "</tbody>\n",
       "</table>\n"
      ],
      "text/latex": [
       "\\begin{tabular}{r|lll}\n",
       " cyl & mpg & hp\\\\\n",
       "\\hline\n",
       "\t 4         & 26.66364  &  82.63636\\\\\n",
       "\t 6         & 19.74286  & 122.28571\\\\\n",
       "\t 8         & 15.10000  & 209.21429\\\\\n",
       "\\end{tabular}\n"
      ],
      "text/markdown": [
       "\n",
       "cyl | mpg | hp | \n",
       "|---|---|---|\n",
       "| 4         | 26.66364  |  82.63636 | \n",
       "| 6         | 19.74286  | 122.28571 | \n",
       "| 8         | 15.10000  | 209.21429 | \n",
       "\n",
       "\n"
      ],
      "text/plain": [
       "  cyl mpg      hp       \n",
       "1 4   26.66364  82.63636\n",
       "2 6   19.74286 122.28571\n",
       "3 8   15.10000 209.21429"
      ]
     },
     "metadata": {},
     "output_type": "display_data"
    }
   ],
   "source": [
    "cylData2 <- dcast(carMelt, cyl~ variable, mean)\n",
    "cylData2"
   ]
  },
  {
   "cell_type": "markdown",
   "metadata": {},
   "source": [
    "### 3. Averaging Values\n"
   ]
  },
  {
   "cell_type": "code",
   "execution_count": 47,
   "metadata": {},
   "outputs": [
    {
     "data": {
      "text/html": [
       "<table>\n",
       "<thead><tr><th scope=col>count</th><th scope=col>spray</th></tr></thead>\n",
       "<tbody>\n",
       "\t<tr><td>10</td><td>A </td></tr>\n",
       "\t<tr><td> 7</td><td>A </td></tr>\n",
       "\t<tr><td>20</td><td>A </td></tr>\n",
       "\t<tr><td>14</td><td>A </td></tr>\n",
       "\t<tr><td>14</td><td>A </td></tr>\n",
       "\t<tr><td>12</td><td>A </td></tr>\n",
       "</tbody>\n",
       "</table>\n"
      ],
      "text/latex": [
       "\\begin{tabular}{r|ll}\n",
       " count & spray\\\\\n",
       "\\hline\n",
       "\t 10 & A \\\\\n",
       "\t  7 & A \\\\\n",
       "\t 20 & A \\\\\n",
       "\t 14 & A \\\\\n",
       "\t 14 & A \\\\\n",
       "\t 12 & A \\\\\n",
       "\\end{tabular}\n"
      ],
      "text/markdown": [
       "\n",
       "count | spray | \n",
       "|---|---|---|---|---|---|\n",
       "| 10 | A  | \n",
       "|  7 | A  | \n",
       "| 20 | A  | \n",
       "| 14 | A  | \n",
       "| 14 | A  | \n",
       "| 12 | A  | \n",
       "\n",
       "\n"
      ],
      "text/plain": [
       "  count spray\n",
       "1 10    A    \n",
       "2  7    A    \n",
       "3 20    A    \n",
       "4 14    A    \n",
       "5 14    A    \n",
       "6 12    A    "
      ]
     },
     "metadata": {},
     "output_type": "display_data"
    }
   ],
   "source": [
    "head(InsectSprays)"
   ]
  },
  {
   "cell_type": "code",
   "execution_count": 49,
   "metadata": {},
   "outputs": [
    {
     "name": "stdout",
     "output_type": "stream",
     "text": [
      "  A   B   C   D   E   F \n",
      "174 184  25  59  42 200 \n"
     ]
    }
   ],
   "source": [
    "# 앞에서 배운 tapply 사용\n",
    "print(tapply(InsectSprays$count, InsectSprays$spray, sum))"
   ]
  },
  {
   "cell_type": "code",
   "execution_count": 51,
   "metadata": {},
   "outputs": [
    {
     "data": {
      "text/html": [
       "<dl>\n",
       "\t<dt>$A</dt>\n",
       "\t\t<dd><ol class=list-inline>\n",
       "\t<li>10</li>\n",
       "\t<li>7</li>\n",
       "\t<li>20</li>\n",
       "\t<li>14</li>\n",
       "\t<li>14</li>\n",
       "\t<li>12</li>\n",
       "\t<li>10</li>\n",
       "\t<li>23</li>\n",
       "\t<li>17</li>\n",
       "\t<li>20</li>\n",
       "\t<li>14</li>\n",
       "\t<li>13</li>\n",
       "</ol>\n",
       "</dd>\n",
       "\t<dt>$B</dt>\n",
       "\t\t<dd><ol class=list-inline>\n",
       "\t<li>11</li>\n",
       "\t<li>17</li>\n",
       "\t<li>21</li>\n",
       "\t<li>11</li>\n",
       "\t<li>16</li>\n",
       "\t<li>14</li>\n",
       "\t<li>17</li>\n",
       "\t<li>17</li>\n",
       "\t<li>19</li>\n",
       "\t<li>21</li>\n",
       "\t<li>7</li>\n",
       "\t<li>13</li>\n",
       "</ol>\n",
       "</dd>\n",
       "\t<dt>$C</dt>\n",
       "\t\t<dd><ol class=list-inline>\n",
       "\t<li>0</li>\n",
       "\t<li>1</li>\n",
       "\t<li>7</li>\n",
       "\t<li>2</li>\n",
       "\t<li>3</li>\n",
       "\t<li>1</li>\n",
       "\t<li>2</li>\n",
       "\t<li>1</li>\n",
       "\t<li>3</li>\n",
       "\t<li>0</li>\n",
       "\t<li>1</li>\n",
       "\t<li>4</li>\n",
       "</ol>\n",
       "</dd>\n",
       "\t<dt>$D</dt>\n",
       "\t\t<dd><ol class=list-inline>\n",
       "\t<li>3</li>\n",
       "\t<li>5</li>\n",
       "\t<li>12</li>\n",
       "\t<li>6</li>\n",
       "\t<li>4</li>\n",
       "\t<li>3</li>\n",
       "\t<li>5</li>\n",
       "\t<li>5</li>\n",
       "\t<li>5</li>\n",
       "\t<li>5</li>\n",
       "\t<li>2</li>\n",
       "\t<li>4</li>\n",
       "</ol>\n",
       "</dd>\n",
       "\t<dt>$E</dt>\n",
       "\t\t<dd><ol class=list-inline>\n",
       "\t<li>3</li>\n",
       "\t<li>5</li>\n",
       "\t<li>3</li>\n",
       "\t<li>5</li>\n",
       "\t<li>3</li>\n",
       "\t<li>6</li>\n",
       "\t<li>1</li>\n",
       "\t<li>1</li>\n",
       "\t<li>3</li>\n",
       "\t<li>2</li>\n",
       "\t<li>6</li>\n",
       "\t<li>4</li>\n",
       "</ol>\n",
       "</dd>\n",
       "\t<dt>$F</dt>\n",
       "\t\t<dd><ol class=list-inline>\n",
       "\t<li>11</li>\n",
       "\t<li>9</li>\n",
       "\t<li>15</li>\n",
       "\t<li>22</li>\n",
       "\t<li>15</li>\n",
       "\t<li>16</li>\n",
       "\t<li>13</li>\n",
       "\t<li>10</li>\n",
       "\t<li>26</li>\n",
       "\t<li>26</li>\n",
       "\t<li>24</li>\n",
       "\t<li>13</li>\n",
       "</ol>\n",
       "</dd>\n",
       "</dl>\n"
      ],
      "text/latex": [
       "\\begin{description}\n",
       "\\item[\\$A] \\begin{enumerate*}\n",
       "\\item 10\n",
       "\\item 7\n",
       "\\item 20\n",
       "\\item 14\n",
       "\\item 14\n",
       "\\item 12\n",
       "\\item 10\n",
       "\\item 23\n",
       "\\item 17\n",
       "\\item 20\n",
       "\\item 14\n",
       "\\item 13\n",
       "\\end{enumerate*}\n",
       "\n",
       "\\item[\\$B] \\begin{enumerate*}\n",
       "\\item 11\n",
       "\\item 17\n",
       "\\item 21\n",
       "\\item 11\n",
       "\\item 16\n",
       "\\item 14\n",
       "\\item 17\n",
       "\\item 17\n",
       "\\item 19\n",
       "\\item 21\n",
       "\\item 7\n",
       "\\item 13\n",
       "\\end{enumerate*}\n",
       "\n",
       "\\item[\\$C] \\begin{enumerate*}\n",
       "\\item 0\n",
       "\\item 1\n",
       "\\item 7\n",
       "\\item 2\n",
       "\\item 3\n",
       "\\item 1\n",
       "\\item 2\n",
       "\\item 1\n",
       "\\item 3\n",
       "\\item 0\n",
       "\\item 1\n",
       "\\item 4\n",
       "\\end{enumerate*}\n",
       "\n",
       "\\item[\\$D] \\begin{enumerate*}\n",
       "\\item 3\n",
       "\\item 5\n",
       "\\item 12\n",
       "\\item 6\n",
       "\\item 4\n",
       "\\item 3\n",
       "\\item 5\n",
       "\\item 5\n",
       "\\item 5\n",
       "\\item 5\n",
       "\\item 2\n",
       "\\item 4\n",
       "\\end{enumerate*}\n",
       "\n",
       "\\item[\\$E] \\begin{enumerate*}\n",
       "\\item 3\n",
       "\\item 5\n",
       "\\item 3\n",
       "\\item 5\n",
       "\\item 3\n",
       "\\item 6\n",
       "\\item 1\n",
       "\\item 1\n",
       "\\item 3\n",
       "\\item 2\n",
       "\\item 6\n",
       "\\item 4\n",
       "\\end{enumerate*}\n",
       "\n",
       "\\item[\\$F] \\begin{enumerate*}\n",
       "\\item 11\n",
       "\\item 9\n",
       "\\item 15\n",
       "\\item 22\n",
       "\\item 15\n",
       "\\item 16\n",
       "\\item 13\n",
       "\\item 10\n",
       "\\item 26\n",
       "\\item 26\n",
       "\\item 24\n",
       "\\item 13\n",
       "\\end{enumerate*}\n",
       "\n",
       "\\end{description}\n"
      ],
      "text/markdown": [
       "$A\n",
       ":   1. 10\n",
       "2. 7\n",
       "3. 20\n",
       "4. 14\n",
       "5. 14\n",
       "6. 12\n",
       "7. 10\n",
       "8. 23\n",
       "9. 17\n",
       "10. 20\n",
       "11. 14\n",
       "12. 13\n",
       "\n",
       "\n",
       "\n",
       "$B\n",
       ":   1. 11\n",
       "2. 17\n",
       "3. 21\n",
       "4. 11\n",
       "5. 16\n",
       "6. 14\n",
       "7. 17\n",
       "8. 17\n",
       "9. 19\n",
       "10. 21\n",
       "11. 7\n",
       "12. 13\n",
       "\n",
       "\n",
       "\n",
       "$C\n",
       ":   1. 0\n",
       "2. 1\n",
       "3. 7\n",
       "4. 2\n",
       "5. 3\n",
       "6. 1\n",
       "7. 2\n",
       "8. 1\n",
       "9. 3\n",
       "10. 0\n",
       "11. 1\n",
       "12. 4\n",
       "\n",
       "\n",
       "\n",
       "$D\n",
       ":   1. 3\n",
       "2. 5\n",
       "3. 12\n",
       "4. 6\n",
       "5. 4\n",
       "6. 3\n",
       "7. 5\n",
       "8. 5\n",
       "9. 5\n",
       "10. 5\n",
       "11. 2\n",
       "12. 4\n",
       "\n",
       "\n",
       "\n",
       "$E\n",
       ":   1. 3\n",
       "2. 5\n",
       "3. 3\n",
       "4. 5\n",
       "5. 3\n",
       "6. 6\n",
       "7. 1\n",
       "8. 1\n",
       "9. 3\n",
       "10. 2\n",
       "11. 6\n",
       "12. 4\n",
       "\n",
       "\n",
       "\n",
       "$F\n",
       ":   1. 11\n",
       "2. 9\n",
       "3. 15\n",
       "4. 22\n",
       "5. 15\n",
       "6. 16\n",
       "7. 13\n",
       "8. 10\n",
       "9. 26\n",
       "10. 26\n",
       "11. 24\n",
       "12. 13\n",
       "\n",
       "\n",
       "\n",
       "\n",
       "\n"
      ],
      "text/plain": [
       "$A\n",
       " [1] 10  7 20 14 14 12 10 23 17 20 14 13\n",
       "\n",
       "$B\n",
       " [1] 11 17 21 11 16 14 17 17 19 21  7 13\n",
       "\n",
       "$C\n",
       " [1] 0 1 7 2 3 1 2 1 3 0 1 4\n",
       "\n",
       "$D\n",
       " [1]  3  5 12  6  4  3  5  5  5  5  2  4\n",
       "\n",
       "$E\n",
       " [1] 3 5 3 5 3 6 1 1 3 2 6 4\n",
       "\n",
       "$F\n",
       " [1] 11  9 15 22 15 16 13 10 26 26 24 13\n"
      ]
     },
     "metadata": {},
     "output_type": "display_data"
    }
   ],
   "source": [
    "# split 방법\n",
    "spIns = split(InsectSprays$count, InsectSprays$spray)\n",
    "spIns"
   ]
  },
  {
   "cell_type": "code",
   "execution_count": 54,
   "metadata": {},
   "outputs": [
    {
     "data": {
      "text/html": [
       "<dl>\n",
       "\t<dt>$A</dt>\n",
       "\t\t<dd>174</dd>\n",
       "\t<dt>$B</dt>\n",
       "\t\t<dd>184</dd>\n",
       "\t<dt>$C</dt>\n",
       "\t\t<dd>25</dd>\n",
       "\t<dt>$D</dt>\n",
       "\t\t<dd>59</dd>\n",
       "\t<dt>$E</dt>\n",
       "\t\t<dd>42</dd>\n",
       "\t<dt>$F</dt>\n",
       "\t\t<dd>200</dd>\n",
       "</dl>\n"
      ],
      "text/latex": [
       "\\begin{description}\n",
       "\\item[\\$A] 174\n",
       "\\item[\\$B] 184\n",
       "\\item[\\$C] 25\n",
       "\\item[\\$D] 59\n",
       "\\item[\\$E] 42\n",
       "\\item[\\$F] 200\n",
       "\\end{description}\n"
      ],
      "text/markdown": [
       "$A\n",
       ":   174\n",
       "$B\n",
       ":   184\n",
       "$C\n",
       ":   25\n",
       "$D\n",
       ":   59\n",
       "$E\n",
       ":   42\n",
       "$F\n",
       ":   200\n",
       "\n",
       "\n"
      ],
      "text/plain": [
       "$A\n",
       "[1] 174\n",
       "\n",
       "$B\n",
       "[1] 184\n",
       "\n",
       "$C\n",
       "[1] 25\n",
       "\n",
       "$D\n",
       "[1] 59\n",
       "\n",
       "$E\n",
       "[1] 42\n",
       "\n",
       "$F\n",
       "[1] 200\n"
      ]
     },
     "metadata": {},
     "output_type": "display_data"
    }
   ],
   "source": [
    "# split + lapply\n",
    "lapply(spIns, sum)"
   ]
  },
  {
   "cell_type": "code",
   "execution_count": 56,
   "metadata": {},
   "outputs": [
    {
     "data": {
      "text/html": [
       "<dl class=dl-horizontal>\n",
       "\t<dt>A</dt>\n",
       "\t\t<dd>174</dd>\n",
       "\t<dt>B</dt>\n",
       "\t\t<dd>184</dd>\n",
       "\t<dt>C</dt>\n",
       "\t\t<dd>25</dd>\n",
       "\t<dt>D</dt>\n",
       "\t\t<dd>59</dd>\n",
       "\t<dt>E</dt>\n",
       "\t\t<dd>42</dd>\n",
       "\t<dt>F</dt>\n",
       "\t\t<dd>200</dd>\n",
       "</dl>\n"
      ],
      "text/latex": [
       "\\begin{description*}\n",
       "\\item[A] 174\n",
       "\\item[B] 184\n",
       "\\item[C] 25\n",
       "\\item[D] 59\n",
       "\\item[E] 42\n",
       "\\item[F] 200\n",
       "\\end{description*}\n"
      ],
      "text/markdown": [
       "A\n",
       ":   174B\n",
       ":   184C\n",
       ":   25D\n",
       ":   59E\n",
       ":   42F\n",
       ":   200\n",
       "\n"
      ],
      "text/plain": [
       "  A   B   C   D   E   F \n",
       "174 184  25  59  42 200 "
      ]
     },
     "metadata": {},
     "output_type": "display_data"
    }
   ],
   "source": [
    "unlist(sprCount)"
   ]
  },
  {
   "cell_type": "code",
   "execution_count": 57,
   "metadata": {},
   "outputs": [
    {
     "data": {
      "text/html": [
       "<dl class=dl-horizontal>\n",
       "\t<dt>A</dt>\n",
       "\t\t<dd>174</dd>\n",
       "\t<dt>B</dt>\n",
       "\t\t<dd>184</dd>\n",
       "\t<dt>C</dt>\n",
       "\t\t<dd>25</dd>\n",
       "\t<dt>D</dt>\n",
       "\t\t<dd>59</dd>\n",
       "\t<dt>E</dt>\n",
       "\t\t<dd>42</dd>\n",
       "\t<dt>F</dt>\n",
       "\t\t<dd>200</dd>\n",
       "</dl>\n"
      ],
      "text/latex": [
       "\\begin{description*}\n",
       "\\item[A] 174\n",
       "\\item[B] 184\n",
       "\\item[C] 25\n",
       "\\item[D] 59\n",
       "\\item[E] 42\n",
       "\\item[F] 200\n",
       "\\end{description*}\n"
      ],
      "text/markdown": [
       "A\n",
       ":   174B\n",
       ":   184C\n",
       ":   25D\n",
       ":   59E\n",
       ":   42F\n",
       ":   200\n",
       "\n"
      ],
      "text/plain": [
       "  A   B   C   D   E   F \n",
       "174 184  25  59  42 200 "
      ]
     },
     "metadata": {},
     "output_type": "display_data"
    }
   ],
   "source": [
    "sapply(spIns, sum)"
   ]
  }
 ],
 "metadata": {
  "kernelspec": {
   "display_name": "R",
   "language": "R",
   "name": "ir"
  },
  "language_info": {
   "codemirror_mode": "r",
   "file_extension": ".r",
   "mimetype": "text/x-r-source",
   "name": "R",
   "pygments_lexer": "r",
   "version": "3.4.3"
  }
 },
 "nbformat": 4,
 "nbformat_minor": 2
}
