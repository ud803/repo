{
 "cells": [
  {
   "cell_type": "markdown",
   "metadata": {},
   "source": [
    "# API Design\n",
    "\n",
    "이제 기초적인 내용을 알았으니, API의 구성요소를 살펴볼 것이다.\n",
    "\n",
    "\n",
    "### 1. Organizing Data\n",
    "내셔널 지오그래픽은 2011년 한 해 미국인들이 800억장의 사진을 찍었다고 추정했다. \n",
    "\n",
    "몇몇 사람들은 한 폴더에 그 사진을 모두 담을 것이고, 다른 이들은 시간에 따라 계층적으로 폴더를 구성할 것이다.\n",
    "\n",
    "마찬가지로 API를 만들 때, 기업들도 똑같은 생각을 한다. 앞에서 말한 것처럼 API의 목적은 컴퓨터가 기업의 데이터에 쉽게 접근하도록 하기 위함이다.\n",
    "\n",
    "쉽게 사용할 수 있도록, 어떤 기업은 하나의 URL로 모든 데이터에 대한 접근을 열어놨을 수도 있다.\n",
    "\n",
    "또 다른 기업은 모든 데이터 하나하나를 하나의 URL에 할당했을 수도 있다. \n",
    "\n",
    "각 기업은 특수한 상황과 산업에서 하는 방법에 따라 API를 구축하려고 노력할 것이다.\n",
    "\n",
    "### 2. Start with an Architectural Style\n",
    "API에 대해 얘기할 때, [**soap**](https://en.wikipedia.org/wiki/SOAP)나 [**rest**](https://en.wikipedia.org/wiki/Representational_state_transfer)같은 용어들을 들어봤을 것이다.\n",
    "\n",
    "**SOAP**는 XML기반의 디자인이고, 요청과 응답의 표준화된 구조를 가지고 있다.\n",
    "**REST**는 *Representational State Transfer*의 약자이고, 더 열린 접근이고 많은 기법들을 제공하지만, API를 설계하는 사람에게 결정권을 많이 준다.\n",
    "\n",
    "\n",
    "\n"
   ]
  }
 ],
 "metadata": {
  "kernelspec": {
   "display_name": "Python 3",
   "language": "python",
   "name": "python3"
  },
  "language_info": {
   "codemirror_mode": {
    "name": "ipython",
    "version": 3
   },
   "file_extension": ".py",
   "mimetype": "text/x-python",
   "name": "python",
   "nbconvert_exporter": "python",
   "pygments_lexer": "ipython3",
   "version": "3.6.3"
  }
 },
 "nbformat": 4,
 "nbformat_minor": 2
}
