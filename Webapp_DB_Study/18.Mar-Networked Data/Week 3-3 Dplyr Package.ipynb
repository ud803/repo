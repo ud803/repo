{
 "cells": [
  {
   "cell_type": "markdown",
   "metadata": {},
   "source": [
    "# Dplyr Package\n",
    "\n",
    "- Optimized and distilled version of `plyr`\n",
    "- very fast (coded with C++)\n",
    "- 항상 새로운 데이터프레임을 반환한다\n",
    "\n",
    "- `select` : return a subset of the columns of a data frame\n",
    "- `filter` : extract a subset of rows from a data frame based on logical cond\n",
    "- `rename` : rename\n",
    "- `mutate` : add new var/colum or transform existing vars\n",
    "- `summarize` : generate summary statistics of different vars, possibly with strata\n"
   ]
  },
  {
   "cell_type": "code",
   "execution_count": 4,
   "metadata": {},
   "outputs": [
    {
     "name": "stderr",
     "output_type": "stream",
     "text": [
      "\n",
      "Attaching package: ‘dplyr’\n",
      "\n",
      "The following objects are masked from ‘package:stats’:\n",
      "\n",
      "    filter, lag\n",
      "\n",
      "The following objects are masked from ‘package:base’:\n",
      "\n",
      "    intersect, setdiff, setequal, union\n",
      "\n"
     ]
    }
   ],
   "source": [
    "library(dplyr)"
   ]
  },
  {
   "cell_type": "code",
   "execution_count": 6,
   "metadata": {},
   "outputs": [
    {
     "data": {
      "text/html": [
       "<ol class=list-inline>\n",
       "\t<li>6940</li>\n",
       "\t<li>8</li>\n",
       "</ol>\n"
      ],
      "text/latex": [
       "\\begin{enumerate*}\n",
       "\\item 6940\n",
       "\\item 8\n",
       "\\end{enumerate*}\n"
      ],
      "text/markdown": [
       "1. 6940\n",
       "2. 8\n",
       "\n",
       "\n"
      ],
      "text/plain": [
       "[1] 6940    8"
      ]
     },
     "metadata": {},
     "output_type": "display_data"
    }
   ],
   "source": [
    "chicago <- readRDS(\"chicago.rds\")\n",
    "dim(chicago)"
   ]
  },
  {
   "cell_type": "code",
   "execution_count": 8,
   "metadata": {},
   "outputs": [
    {
     "name": "stdout",
     "output_type": "stream",
     "text": [
      "'data.frame':\t6940 obs. of  8 variables:\n",
      " $ city      : chr  \"chic\" \"chic\" \"chic\" \"chic\" ...\n",
      " $ tmpd      : num  31.5 33 33 29 32 40 34.5 29 26.5 32.5 ...\n",
      " $ dptp      : num  31.5 29.9 27.4 28.6 28.9 ...\n",
      " $ date      : Date, format: \"1987-01-01\" \"1987-01-02\" ...\n",
      " $ pm25tmean2: num  NA NA NA NA NA NA NA NA NA NA ...\n",
      " $ pm10tmean2: num  34 NA 34.2 47 NA ...\n",
      " $ o3tmean2  : num  4.25 3.3 3.33 4.38 4.75 ...\n",
      " $ no2tmean2 : num  20 23.2 23.8 30.4 30.3 ...\n"
     ]
    }
   ],
   "source": [
    "str(chicago)"
   ]
  },
  {
   "cell_type": "code",
   "execution_count": 9,
   "metadata": {},
   "outputs": [
    {
     "data": {
      "text/html": [
       "<ol class=list-inline>\n",
       "\t<li>'city'</li>\n",
       "\t<li>'tmpd'</li>\n",
       "\t<li>'dptp'</li>\n",
       "\t<li>'date'</li>\n",
       "\t<li>'pm25tmean2'</li>\n",
       "\t<li>'pm10tmean2'</li>\n",
       "\t<li>'o3tmean2'</li>\n",
       "\t<li>'no2tmean2'</li>\n",
       "</ol>\n"
      ],
      "text/latex": [
       "\\begin{enumerate*}\n",
       "\\item 'city'\n",
       "\\item 'tmpd'\n",
       "\\item 'dptp'\n",
       "\\item 'date'\n",
       "\\item 'pm25tmean2'\n",
       "\\item 'pm10tmean2'\n",
       "\\item 'o3tmean2'\n",
       "\\item 'no2tmean2'\n",
       "\\end{enumerate*}\n"
      ],
      "text/markdown": [
       "1. 'city'\n",
       "2. 'tmpd'\n",
       "3. 'dptp'\n",
       "4. 'date'\n",
       "5. 'pm25tmean2'\n",
       "6. 'pm10tmean2'\n",
       "7. 'o3tmean2'\n",
       "8. 'no2tmean2'\n",
       "\n",
       "\n"
      ],
      "text/plain": [
       "[1] \"city\"       \"tmpd\"       \"dptp\"       \"date\"       \"pm25tmean2\"\n",
       "[6] \"pm10tmean2\" \"o3tmean2\"   \"no2tmean2\" "
      ]
     },
     "metadata": {},
     "output_type": "display_data"
    }
   ],
   "source": [
    "names(chicago)"
   ]
  },
  {
   "cell_type": "markdown",
   "metadata": {},
   "source": [
    "### 1. Select"
   ]
  },
  {
   "cell_type": "code",
   "execution_count": 10,
   "metadata": {},
   "outputs": [
    {
     "data": {
      "text/html": [
       "<table>\n",
       "<thead><tr><th scope=col>city</th><th scope=col>tmpd</th><th scope=col>dptp</th></tr></thead>\n",
       "<tbody>\n",
       "\t<tr><td>chic  </td><td>31.5  </td><td>31.500</td></tr>\n",
       "\t<tr><td>chic  </td><td>33.0  </td><td>29.875</td></tr>\n",
       "\t<tr><td>chic  </td><td>33.0  </td><td>27.375</td></tr>\n",
       "\t<tr><td>chic  </td><td>29.0  </td><td>28.625</td></tr>\n",
       "\t<tr><td>chic  </td><td>32.0  </td><td>28.875</td></tr>\n",
       "\t<tr><td>chic  </td><td>40.0  </td><td>35.125</td></tr>\n",
       "</tbody>\n",
       "</table>\n"
      ],
      "text/latex": [
       "\\begin{tabular}{r|lll}\n",
       " city & tmpd & dptp\\\\\n",
       "\\hline\n",
       "\t chic   & 31.5   & 31.500\\\\\n",
       "\t chic   & 33.0   & 29.875\\\\\n",
       "\t chic   & 33.0   & 27.375\\\\\n",
       "\t chic   & 29.0   & 28.625\\\\\n",
       "\t chic   & 32.0   & 28.875\\\\\n",
       "\t chic   & 40.0   & 35.125\\\\\n",
       "\\end{tabular}\n"
      ],
      "text/markdown": [
       "\n",
       "city | tmpd | dptp | \n",
       "|---|---|---|---|---|---|\n",
       "| chic   | 31.5   | 31.500 | \n",
       "| chic   | 33.0   | 29.875 | \n",
       "| chic   | 33.0   | 27.375 | \n",
       "| chic   | 29.0   | 28.625 | \n",
       "| chic   | 32.0   | 28.875 | \n",
       "| chic   | 40.0   | 35.125 | \n",
       "\n",
       "\n"
      ],
      "text/plain": [
       "  city tmpd dptp  \n",
       "1 chic 31.5 31.500\n",
       "2 chic 33.0 29.875\n",
       "3 chic 33.0 27.375\n",
       "4 chic 29.0 28.625\n",
       "5 chic 32.0 28.875\n",
       "6 chic 40.0 35.125"
      ]
     },
     "metadata": {},
     "output_type": "display_data"
    }
   ],
   "source": [
    "# city~dptp 칼럼을 전부 보여줌\n",
    "head(select(chicago, city:dptp))"
   ]
  },
  {
   "cell_type": "code",
   "execution_count": 11,
   "metadata": {},
   "outputs": [
    {
     "data": {
      "text/html": [
       "<table>\n",
       "<thead><tr><th scope=col>date</th><th scope=col>pm25tmean2</th><th scope=col>pm10tmean2</th><th scope=col>o3tmean2</th><th scope=col>no2tmean2</th></tr></thead>\n",
       "<tbody>\n",
       "\t<tr><td>1987-01-01</td><td>NA        </td><td>34.00000  </td><td>4.250000  </td><td>19.98810  </td></tr>\n",
       "\t<tr><td>1987-01-02</td><td>NA        </td><td>      NA  </td><td>3.304348  </td><td>23.19099  </td></tr>\n",
       "\t<tr><td>1987-01-03</td><td>NA        </td><td>34.16667  </td><td>3.333333  </td><td>23.81548  </td></tr>\n",
       "\t<tr><td>1987-01-04</td><td>NA        </td><td>47.00000  </td><td>4.375000  </td><td>30.43452  </td></tr>\n",
       "\t<tr><td>1987-01-05</td><td>NA        </td><td>      NA  </td><td>4.750000  </td><td>30.33333  </td></tr>\n",
       "\t<tr><td>1987-01-06</td><td>NA        </td><td>48.00000  </td><td>5.833333  </td><td>25.77233  </td></tr>\n",
       "</tbody>\n",
       "</table>\n"
      ],
      "text/latex": [
       "\\begin{tabular}{r|lllll}\n",
       " date & pm25tmean2 & pm10tmean2 & o3tmean2 & no2tmean2\\\\\n",
       "\\hline\n",
       "\t 1987-01-01 & NA         & 34.00000   & 4.250000   & 19.98810  \\\\\n",
       "\t 1987-01-02 & NA         &       NA   & 3.304348   & 23.19099  \\\\\n",
       "\t 1987-01-03 & NA         & 34.16667   & 3.333333   & 23.81548  \\\\\n",
       "\t 1987-01-04 & NA         & 47.00000   & 4.375000   & 30.43452  \\\\\n",
       "\t 1987-01-05 & NA         &       NA   & 4.750000   & 30.33333  \\\\\n",
       "\t 1987-01-06 & NA         & 48.00000   & 5.833333   & 25.77233  \\\\\n",
       "\\end{tabular}\n"
      ],
      "text/markdown": [
       "\n",
       "date | pm25tmean2 | pm10tmean2 | o3tmean2 | no2tmean2 | \n",
       "|---|---|---|---|---|---|\n",
       "| 1987-01-01 | NA         | 34.00000   | 4.250000   | 19.98810   | \n",
       "| 1987-01-02 | NA         |       NA   | 3.304348   | 23.19099   | \n",
       "| 1987-01-03 | NA         | 34.16667   | 3.333333   | 23.81548   | \n",
       "| 1987-01-04 | NA         | 47.00000   | 4.375000   | 30.43452   | \n",
       "| 1987-01-05 | NA         |       NA   | 4.750000   | 30.33333   | \n",
       "| 1987-01-06 | NA         | 48.00000   | 5.833333   | 25.77233   | \n",
       "\n",
       "\n"
      ],
      "text/plain": [
       "  date       pm25tmean2 pm10tmean2 o3tmean2 no2tmean2\n",
       "1 1987-01-01 NA         34.00000   4.250000 19.98810 \n",
       "2 1987-01-02 NA               NA   3.304348 23.19099 \n",
       "3 1987-01-03 NA         34.16667   3.333333 23.81548 \n",
       "4 1987-01-04 NA         47.00000   4.375000 30.43452 \n",
       "5 1987-01-05 NA               NA   4.750000 30.33333 \n",
       "6 1987-01-06 NA         48.00000   5.833333 25.77233 "
      ]
     },
     "metadata": {},
     "output_type": "display_data"
    }
   ],
   "source": [
    "# 특정 컬럼 제외하고\n",
    "head(select(chicago, -(city:dptp)))"
   ]
  },
  {
   "cell_type": "code",
   "execution_count": 13,
   "metadata": {
    "scrolled": true
   },
   "outputs": [
    {
     "data": {
      "text/html": [
       "<table>\n",
       "<thead><tr><th scope=col>date</th><th scope=col>pm25tmean2</th><th scope=col>pm10tmean2</th><th scope=col>o3tmean2</th><th scope=col>no2tmean2</th></tr></thead>\n",
       "<tbody>\n",
       "\t<tr><td>1987-01-01</td><td>NA        </td><td>34.00000  </td><td>4.250000  </td><td>19.98810  </td></tr>\n",
       "\t<tr><td>1987-01-02</td><td>NA        </td><td>      NA  </td><td>3.304348  </td><td>23.19099  </td></tr>\n",
       "\t<tr><td>1987-01-03</td><td>NA        </td><td>34.16667  </td><td>3.333333  </td><td>23.81548  </td></tr>\n",
       "\t<tr><td>1987-01-04</td><td>NA        </td><td>47.00000  </td><td>4.375000  </td><td>30.43452  </td></tr>\n",
       "\t<tr><td>1987-01-05</td><td>NA        </td><td>      NA  </td><td>4.750000  </td><td>30.33333  </td></tr>\n",
       "\t<tr><td>1987-01-06</td><td>NA        </td><td>48.00000  </td><td>5.833333  </td><td>25.77233  </td></tr>\n",
       "</tbody>\n",
       "</table>\n"
      ],
      "text/latex": [
       "\\begin{tabular}{r|lllll}\n",
       " date & pm25tmean2 & pm10tmean2 & o3tmean2 & no2tmean2\\\\\n",
       "\\hline\n",
       "\t 1987-01-01 & NA         & 34.00000   & 4.250000   & 19.98810  \\\\\n",
       "\t 1987-01-02 & NA         &       NA   & 3.304348   & 23.19099  \\\\\n",
       "\t 1987-01-03 & NA         & 34.16667   & 3.333333   & 23.81548  \\\\\n",
       "\t 1987-01-04 & NA         & 47.00000   & 4.375000   & 30.43452  \\\\\n",
       "\t 1987-01-05 & NA         &       NA   & 4.750000   & 30.33333  \\\\\n",
       "\t 1987-01-06 & NA         & 48.00000   & 5.833333   & 25.77233  \\\\\n",
       "\\end{tabular}\n"
      ],
      "text/markdown": [
       "\n",
       "date | pm25tmean2 | pm10tmean2 | o3tmean2 | no2tmean2 | \n",
       "|---|---|---|---|---|---|\n",
       "| 1987-01-01 | NA         | 34.00000   | 4.250000   | 19.98810   | \n",
       "| 1987-01-02 | NA         |       NA   | 3.304348   | 23.19099   | \n",
       "| 1987-01-03 | NA         | 34.16667   | 3.333333   | 23.81548   | \n",
       "| 1987-01-04 | NA         | 47.00000   | 4.375000   | 30.43452   | \n",
       "| 1987-01-05 | NA         |       NA   | 4.750000   | 30.33333   | \n",
       "| 1987-01-06 | NA         | 48.00000   | 5.833333   | 25.77233   | \n",
       "\n",
       "\n"
      ],
      "text/plain": [
       "  date       pm25tmean2 pm10tmean2 o3tmean2 no2tmean2\n",
       "1 1987-01-01 NA         34.00000   4.250000 19.98810 \n",
       "2 1987-01-02 NA               NA   3.304348 23.19099 \n",
       "3 1987-01-03 NA         34.16667   3.333333 23.81548 \n",
       "4 1987-01-04 NA         47.00000   4.375000 30.43452 \n",
       "5 1987-01-05 NA               NA   4.750000 30.33333 \n",
       "6 1987-01-06 NA         48.00000   5.833333 25.77233 "
      ]
     },
     "metadata": {},
     "output_type": "display_data"
    }
   ],
   "source": [
    "# R에서도 할 수는 있다, 다만 번거로울 뿐\n",
    "i <- match(\"city\", names(chicago))\n",
    "j <- match(\"dptp\", names(chicago))\n",
    "\n",
    "head(chicago[, -(i:j)])"
   ]
  },
  {
   "cell_type": "markdown",
   "metadata": {},
   "source": [
    "### 2. Filter"
   ]
  },
  {
   "cell_type": "code",
   "execution_count": 14,
   "metadata": {},
   "outputs": [
    {
     "data": {
      "text/html": [
       "<table>\n",
       "<thead><tr><th scope=col>city</th><th scope=col>tmpd</th><th scope=col>dptp</th><th scope=col>date</th><th scope=col>pm25tmean2</th><th scope=col>pm10tmean2</th><th scope=col>o3tmean2</th><th scope=col>no2tmean2</th></tr></thead>\n",
       "<tbody>\n",
       "\t<tr><td>chic      </td><td>23        </td><td>21.9      </td><td>1998-01-17</td><td>38.10     </td><td>32.46154  </td><td> 3.180556 </td><td>25.30000  </td></tr>\n",
       "\t<tr><td>chic      </td><td>28        </td><td>25.8      </td><td>1998-01-23</td><td>33.95     </td><td>38.69231  </td><td> 1.750000 </td><td>29.37630  </td></tr>\n",
       "\t<tr><td>chic      </td><td>55        </td><td>51.3      </td><td>1998-04-30</td><td>39.40     </td><td>34.00000  </td><td>10.786232 </td><td>25.31310  </td></tr>\n",
       "\t<tr><td>chic      </td><td>59        </td><td>53.7      </td><td>1998-05-01</td><td>35.40     </td><td>28.50000  </td><td>14.295125 </td><td>31.42905  </td></tr>\n",
       "\t<tr><td>chic      </td><td>57        </td><td>52.0      </td><td>1998-05-02</td><td>33.30     </td><td>35.00000  </td><td>20.662879 </td><td>26.79861  </td></tr>\n",
       "\t<tr><td>chic      </td><td>57        </td><td>56.0      </td><td>1998-05-07</td><td>32.10     </td><td>34.50000  </td><td>24.270422 </td><td>33.99167  </td></tr>\n",
       "</tbody>\n",
       "</table>\n"
      ],
      "text/latex": [
       "\\begin{tabular}{r|llllllll}\n",
       " city & tmpd & dptp & date & pm25tmean2 & pm10tmean2 & o3tmean2 & no2tmean2\\\\\n",
       "\\hline\n",
       "\t chic       & 23         & 21.9       & 1998-01-17 & 38.10      & 32.46154   &  3.180556  & 25.30000  \\\\\n",
       "\t chic       & 28         & 25.8       & 1998-01-23 & 33.95      & 38.69231   &  1.750000  & 29.37630  \\\\\n",
       "\t chic       & 55         & 51.3       & 1998-04-30 & 39.40      & 34.00000   & 10.786232  & 25.31310  \\\\\n",
       "\t chic       & 59         & 53.7       & 1998-05-01 & 35.40      & 28.50000   & 14.295125  & 31.42905  \\\\\n",
       "\t chic       & 57         & 52.0       & 1998-05-02 & 33.30      & 35.00000   & 20.662879  & 26.79861  \\\\\n",
       "\t chic       & 57         & 56.0       & 1998-05-07 & 32.10      & 34.50000   & 24.270422  & 33.99167  \\\\\n",
       "\\end{tabular}\n"
      ],
      "text/markdown": [
       "\n",
       "city | tmpd | dptp | date | pm25tmean2 | pm10tmean2 | o3tmean2 | no2tmean2 | \n",
       "|---|---|---|---|---|---|\n",
       "| chic       | 23         | 21.9       | 1998-01-17 | 38.10      | 32.46154   |  3.180556  | 25.30000   | \n",
       "| chic       | 28         | 25.8       | 1998-01-23 | 33.95      | 38.69231   |  1.750000  | 29.37630   | \n",
       "| chic       | 55         | 51.3       | 1998-04-30 | 39.40      | 34.00000   | 10.786232  | 25.31310   | \n",
       "| chic       | 59         | 53.7       | 1998-05-01 | 35.40      | 28.50000   | 14.295125  | 31.42905   | \n",
       "| chic       | 57         | 52.0       | 1998-05-02 | 33.30      | 35.00000   | 20.662879  | 26.79861   | \n",
       "| chic       | 57         | 56.0       | 1998-05-07 | 32.10      | 34.50000   | 24.270422  | 33.99167   | \n",
       "\n",
       "\n"
      ],
      "text/plain": [
       "  city tmpd dptp date       pm25tmean2 pm10tmean2 o3tmean2  no2tmean2\n",
       "1 chic 23   21.9 1998-01-17 38.10      32.46154    3.180556 25.30000 \n",
       "2 chic 28   25.8 1998-01-23 33.95      38.69231    1.750000 29.37630 \n",
       "3 chic 55   51.3 1998-04-30 39.40      34.00000   10.786232 25.31310 \n",
       "4 chic 59   53.7 1998-05-01 35.40      28.50000   14.295125 31.42905 \n",
       "5 chic 57   52.0 1998-05-02 33.30      35.00000   20.662879 26.79861 \n",
       "6 chic 57   56.0 1998-05-07 32.10      34.50000   24.270422 33.99167 "
      ]
     },
     "metadata": {},
     "output_type": "display_data"
    }
   ],
   "source": [
    "chic.f <- filter(chicago, pm25tmean2 >30)\n",
    "head(chic.f)"
   ]
  },
  {
   "cell_type": "code",
   "execution_count": 19,
   "metadata": {},
   "outputs": [
    {
     "data": {
      "text/html": [
       "<table>\n",
       "<thead><tr><th></th><th scope=col>city</th><th scope=col>tmpd</th><th scope=col>dptp</th><th scope=col>date</th><th scope=col>pm25tmean2</th><th scope=col>pm10tmean2</th><th scope=col>o3tmean2</th><th scope=col>no2tmean2</th></tr></thead>\n",
       "<tbody>\n",
       "\t<tr><th scope=row>4035</th><td>chic      </td><td>23        </td><td>21.9      </td><td>1998-01-17</td><td>38.10     </td><td>32.46154  </td><td> 3.180556 </td><td>25.30000  </td></tr>\n",
       "\t<tr><th scope=row>4041</th><td>chic      </td><td>28        </td><td>25.8      </td><td>1998-01-23</td><td>33.95     </td><td>38.69231  </td><td> 1.750000 </td><td>29.37630  </td></tr>\n",
       "\t<tr><th scope=row>4138</th><td>chic      </td><td>55        </td><td>51.3      </td><td>1998-04-30</td><td>39.40     </td><td>34.00000  </td><td>10.786232 </td><td>25.31310  </td></tr>\n",
       "\t<tr><th scope=row>4139</th><td>chic      </td><td>59        </td><td>53.7      </td><td>1998-05-01</td><td>35.40     </td><td>28.50000  </td><td>14.295125 </td><td>31.42905  </td></tr>\n",
       "\t<tr><th scope=row>4140</th><td>chic      </td><td>57        </td><td>52.0      </td><td>1998-05-02</td><td>33.30     </td><td>35.00000  </td><td>20.662879 </td><td>26.79861  </td></tr>\n",
       "\t<tr><th scope=row>4145</th><td>chic      </td><td>57        </td><td>56.0      </td><td>1998-05-07</td><td>32.10     </td><td>34.50000  </td><td>24.270422 </td><td>33.99167  </td></tr>\n",
       "</tbody>\n",
       "</table>\n"
      ],
      "text/latex": [
       "\\begin{tabular}{r|llllllll}\n",
       "  & city & tmpd & dptp & date & pm25tmean2 & pm10tmean2 & o3tmean2 & no2tmean2\\\\\n",
       "\\hline\n",
       "\t4035 & chic       & 23         & 21.9       & 1998-01-17 & 38.10      & 32.46154   &  3.180556  & 25.30000  \\\\\n",
       "\t4041 & chic       & 28         & 25.8       & 1998-01-23 & 33.95      & 38.69231   &  1.750000  & 29.37630  \\\\\n",
       "\t4138 & chic       & 55         & 51.3       & 1998-04-30 & 39.40      & 34.00000   & 10.786232  & 25.31310  \\\\\n",
       "\t4139 & chic       & 59         & 53.7       & 1998-05-01 & 35.40      & 28.50000   & 14.295125  & 31.42905  \\\\\n",
       "\t4140 & chic       & 57         & 52.0       & 1998-05-02 & 33.30      & 35.00000   & 20.662879  & 26.79861  \\\\\n",
       "\t4145 & chic       & 57         & 56.0       & 1998-05-07 & 32.10      & 34.50000   & 24.270422  & 33.99167  \\\\\n",
       "\\end{tabular}\n"
      ],
      "text/markdown": [
       "\n",
       "| <!--/--> | city | tmpd | dptp | date | pm25tmean2 | pm10tmean2 | o3tmean2 | no2tmean2 | \n",
       "|---|---|---|---|---|---|\n",
       "| 4035 | chic       | 23         | 21.9       | 1998-01-17 | 38.10      | 32.46154   |  3.180556  | 25.30000   | \n",
       "| 4041 | chic       | 28         | 25.8       | 1998-01-23 | 33.95      | 38.69231   |  1.750000  | 29.37630   | \n",
       "| 4138 | chic       | 55         | 51.3       | 1998-04-30 | 39.40      | 34.00000   | 10.786232  | 25.31310   | \n",
       "| 4139 | chic       | 59         | 53.7       | 1998-05-01 | 35.40      | 28.50000   | 14.295125  | 31.42905   | \n",
       "| 4140 | chic       | 57         | 52.0       | 1998-05-02 | 33.30      | 35.00000   | 20.662879  | 26.79861   | \n",
       "| 4145 | chic       | 57         | 56.0       | 1998-05-07 | 32.10      | 34.50000   | 24.270422  | 33.99167   | \n",
       "\n",
       "\n"
      ],
      "text/plain": [
       "     city tmpd dptp date       pm25tmean2 pm10tmean2 o3tmean2  no2tmean2\n",
       "4035 chic 23   21.9 1998-01-17 38.10      32.46154    3.180556 25.30000 \n",
       "4041 chic 28   25.8 1998-01-23 33.95      38.69231    1.750000 29.37630 \n",
       "4138 chic 55   51.3 1998-04-30 39.40      34.00000   10.786232 25.31310 \n",
       "4139 chic 59   53.7 1998-05-01 35.40      28.50000   14.295125 31.42905 \n",
       "4140 chic 57   52.0 1998-05-02 33.30      35.00000   20.662879 26.79861 \n",
       "4145 chic 57   56.0 1998-05-07 32.10      34.50000   24.270422 33.99167 "
      ]
     },
     "metadata": {},
     "output_type": "display_data"
    }
   ],
   "source": [
    "# Same as \n",
    "head(chicago[ !is.na(chicago[\"pm25tmean2\"]) & chicago[\"pm25tmean2\"]>30, ])"
   ]
  },
  {
   "cell_type": "code",
   "execution_count": 16,
   "metadata": {},
   "outputs": [
    {
     "data": {
      "text/html": [
       "<table>\n",
       "<thead><tr><th scope=col>city</th><th scope=col>tmpd</th><th scope=col>dptp</th><th scope=col>date</th><th scope=col>pm25tmean2</th><th scope=col>pm10tmean2</th><th scope=col>o3tmean2</th><th scope=col>no2tmean2</th></tr></thead>\n",
       "<tbody>\n",
       "\t<tr><td>chic      </td><td>81        </td><td>71.2      </td><td>1998-08-23</td><td>39.6000   </td><td>59.0      </td><td>45.86364  </td><td>14.32639  </td></tr>\n",
       "\t<tr><td>chic      </td><td>81        </td><td>70.4      </td><td>1998-09-06</td><td>31.5000   </td><td>50.5      </td><td>50.66250  </td><td>20.31250  </td></tr>\n",
       "\t<tr><td>chic      </td><td>82        </td><td>72.2      </td><td>2001-07-20</td><td>32.3000   </td><td>58.5      </td><td>33.00380  </td><td>33.67500  </td></tr>\n",
       "\t<tr><td>chic      </td><td>84        </td><td>72.9      </td><td>2001-08-01</td><td>43.7000   </td><td>81.5      </td><td>45.17736  </td><td>27.44239  </td></tr>\n",
       "\t<tr><td>chic      </td><td>85        </td><td>72.6      </td><td>2001-08-08</td><td>38.8375   </td><td>70.0      </td><td>37.98047  </td><td>27.62743  </td></tr>\n",
       "\t<tr><td>chic      </td><td>84        </td><td>72.6      </td><td>2001-08-09</td><td>38.2000   </td><td>66.0      </td><td>36.73245  </td><td>26.46742  </td></tr>\n",
       "</tbody>\n",
       "</table>\n"
      ],
      "text/latex": [
       "\\begin{tabular}{r|llllllll}\n",
       " city & tmpd & dptp & date & pm25tmean2 & pm10tmean2 & o3tmean2 & no2tmean2\\\\\n",
       "\\hline\n",
       "\t chic       & 81         & 71.2       & 1998-08-23 & 39.6000    & 59.0       & 45.86364   & 14.32639  \\\\\n",
       "\t chic       & 81         & 70.4       & 1998-09-06 & 31.5000    & 50.5       & 50.66250   & 20.31250  \\\\\n",
       "\t chic       & 82         & 72.2       & 2001-07-20 & 32.3000    & 58.5       & 33.00380   & 33.67500  \\\\\n",
       "\t chic       & 84         & 72.9       & 2001-08-01 & 43.7000    & 81.5       & 45.17736   & 27.44239  \\\\\n",
       "\t chic       & 85         & 72.6       & 2001-08-08 & 38.8375    & 70.0       & 37.98047   & 27.62743  \\\\\n",
       "\t chic       & 84         & 72.6       & 2001-08-09 & 38.2000    & 66.0       & 36.73245   & 26.46742  \\\\\n",
       "\\end{tabular}\n"
      ],
      "text/markdown": [
       "\n",
       "city | tmpd | dptp | date | pm25tmean2 | pm10tmean2 | o3tmean2 | no2tmean2 | \n",
       "|---|---|---|---|---|---|\n",
       "| chic       | 81         | 71.2       | 1998-08-23 | 39.6000    | 59.0       | 45.86364   | 14.32639   | \n",
       "| chic       | 81         | 70.4       | 1998-09-06 | 31.5000    | 50.5       | 50.66250   | 20.31250   | \n",
       "| chic       | 82         | 72.2       | 2001-07-20 | 32.3000    | 58.5       | 33.00380   | 33.67500   | \n",
       "| chic       | 84         | 72.9       | 2001-08-01 | 43.7000    | 81.5       | 45.17736   | 27.44239   | \n",
       "| chic       | 85         | 72.6       | 2001-08-08 | 38.8375    | 70.0       | 37.98047   | 27.62743   | \n",
       "| chic       | 84         | 72.6       | 2001-08-09 | 38.2000    | 66.0       | 36.73245   | 26.46742   | \n",
       "\n",
       "\n"
      ],
      "text/plain": [
       "  city tmpd dptp date       pm25tmean2 pm10tmean2 o3tmean2 no2tmean2\n",
       "1 chic 81   71.2 1998-08-23 39.6000    59.0       45.86364 14.32639 \n",
       "2 chic 81   70.4 1998-09-06 31.5000    50.5       50.66250 20.31250 \n",
       "3 chic 82   72.2 2001-07-20 32.3000    58.5       33.00380 33.67500 \n",
       "4 chic 84   72.9 2001-08-01 43.7000    81.5       45.17736 27.44239 \n",
       "5 chic 85   72.6 2001-08-08 38.8375    70.0       37.98047 27.62743 \n",
       "6 chic 84   72.6 2001-08-09 38.2000    66.0       36.73245 26.46742 "
      ]
     },
     "metadata": {},
     "output_type": "display_data"
    }
   ],
   "source": [
    "chic.f <- filter(chicago, pm25tmean2 >30 & tmpd > 80)\n",
    "head(chic.f)"
   ]
  }
 ],
 "metadata": {
  "kernelspec": {
   "display_name": "R",
   "language": "R",
   "name": "ir"
  },
  "language_info": {
   "codemirror_mode": "r",
   "file_extension": ".r",
   "mimetype": "text/x-r-source",
   "name": "R",
   "pygments_lexer": "r",
   "version": "3.4.3"
  }
 },
 "nbformat": 4,
 "nbformat_minor": 2
}
