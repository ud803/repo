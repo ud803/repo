{
 "cells": [
  {
   "cell_type": "markdown",
   "metadata": {},
   "source": [
    "# Network Data\n",
    "\n",
    "### 1. Transport Control Protocol (TCP)\n",
    "- Buil on top of IP (Internet Protocol)\n",
    "- Assumes IP might lose some data - stores and retransmits data if it seems to be lost\n",
    "- Handles \"flow control\" using a transmit window\n",
    "- provides a nice reliable pipe\n",
    "\n",
    "### 2. TCP onnections / Sockets\n",
    "\n",
    "\"In computer networking, an Internet **socket** or network **socket** is an endpoint of a bidirectional inter-process communication flow across an Internet protocol-based computer network, such as the Internet.\""
   ]
  },
  {
   "cell_type": "code",
   "execution_count": 6,
   "metadata": {
    "collapsed": true
   },
   "outputs": [],
   "source": [
    "# Built-in support for TCP Sockets\n",
    "import socket\n",
    "mysock = socket.socket(socket.AF_INET, socket.SOCK_STREAM)\n",
    "mysock.connect( ('google.com', 80) )   # (Host, Port)\n",
    "\n",
    "# It's not sending the data yet.\n",
    "# It's like dialing the phone."
   ]
  },
  {
   "cell_type": "markdown",
   "metadata": {},
   "source": [
    "Since TCP gives us a reliable socket, what do we want to do with the socket? \n",
    "<br>What problem do we want to solve?\n",
    "\n",
    "**Application Protocols**\n",
    "- Mail\n",
    "- World Wide Web"
   ]
  },
  {
   "cell_type": "markdown",
   "metadata": {},
   "source": [
    "### 3. Hypertext Transfer Protocol (HTTP)\n",
    "- The dominant Application Layer Protocol on the Internet\n",
    "- Invented for the Web - to retrieve HTML, Images, Documents, etc\n",
    "- Extended to be data in addition to documents - RSS, Web Services, etc.\n",
    "\n",
    "Set of rules to allow browsers to retrieve web documents from servers over the Internet.\n",
    "\n",
    "http://www.dr-chuck.com/page1.htm  ( protocol / host / document)\n",
    "\n",
    "##### - Getting Data From The Server (Request - Response Cycle)\n",
    "Each time the user clicks on an anchor tag with an href= value to switch to a new page, the browser makes a connection to the web server and issues a \"GET\" request - to GET the content of the page at the specified URL.\n",
    "\n",
    "(telnet)\n",
    "telnet www.dr-chuck.com 80"
   ]
  },
  {
   "cell_type": "code",
   "execution_count": 26,
   "metadata": {},
   "outputs": [
    {
     "name": "stdout",
     "output_type": "stream",
     "text": [
      "Trying 192.241.136.170...\n",
      "Connected to data.pr4e.org.\n",
      "Escape character is '^]'.\n",
      "Connection closed by foreign host.\n",
      "-e GET http://data.pr4e.org/romeo.txt HTTP/1.0\n",
      "\n",
      "\n"
     ]
    }
   ],
   "source": [
    "# in telnet (Command LINE)\n",
    "!telnet data.pr4e.org 80\n",
    "!echo -e \"GET http://data.pr4e.org/romeo.txt HTTP/1.0\\n\\n\""
   ]
  },
  {
   "cell_type": "code",
   "execution_count": 27,
   "metadata": {
    "scrolled": true
   },
   "outputs": [
    {
     "name": "stdout",
     "output_type": "stream",
     "text": [
      "HTTP/1.1 400 Bad Request\r\n",
      "Date: Sat, 10 Feb 2018 13:26:26 GMT\r\n",
      "Server: Apache/2.4.7 (Ubuntu)\r\n",
      "Content-Length: 307\r\n",
      "Connection: close\r\n",
      "Content-Type: text/html; charset=iso-8859-1\r\n",
      "\r\n",
      "<!DOCTYPE HTML PUBLIC \"-//IETF//DTD HTML 2.0//EN\">\n",
      "<html><head>\n",
      "<title>400 Bad Request</title>\n",
      "</head><body>\n",
      "<h1>Bad Request</h1>\n",
      "<p>Your browser sent a request that this server could not understand.<br />\n",
      "</p>\n",
      "<hr>\n",
      "<address>Apache/2.4.7 (Ubuntu) Server at do1.dr-chuck.com Port 80</address>\n",
      "</body></html>\n",
      "\n"
     ]
    }
   ],
   "source": [
    "# An HTTP Request in Python\n",
    "import socket\n",
    "mysock = socket.socket(socket.AF_INET, socket.SOCK_STREAM)\n",
    "mysock.connect(('data.pr4e.org', 80))\n",
    "cmd = 'GET http://data.pr4e.org/romeo.txt HTTP/1.0\\n\\n'.encode()\n",
    "    # make a request\n",
    "    # \\n\\n is like a grammar\n",
    "    # .encode to convert Unicode to UTF-8\n",
    "mysock.send(cmd)\n",
    "\n",
    "while True :\n",
    "    data = mysock.recv(512)\n",
    "    if (len(data) < 1) :\n",
    "        break\n",
    "        # End of File , or end of transmission\n",
    "    print(data.decode())\n",
    "        # UTF-8 to Unicode\n",
    "mysock.close()"
   ]
  },
  {
   "cell_type": "markdown",
   "metadata": {},
   "source": [
    "# Python Exercise"
   ]
  },
  {
   "cell_type": "markdown",
   "metadata": {},
   "source": [
    "### 1. Using urllib in Python\n",
    "Since HTTP is so common, we have a library that does all the socket work for us and makes web pages look like a file."
   ]
  },
  {
   "cell_type": "code",
   "execution_count": 38,
   "metadata": {},
   "outputs": [
    {
     "name": "stdout",
     "output_type": "stream",
     "text": [
      "But soft what light through yonder window breaks\n",
      "It is the east and Juliet is the sun\n",
      "Arise fair sun and kill the envious moon\n",
      "Who is already sick and pale with grief\n"
     ]
    }
   ],
   "source": [
    "import urllib.request, urllib.parse, urllib.error\n",
    "\n",
    "fhand = urllib.request.urlopen('http://data.pr4e.org/romeo.txt')\n",
    "    # filehandle, same as 'open' for a file\n",
    "for line in fhand :\n",
    "    print(line.decode().strip())\n",
    "    # strip : return a copy of the string with leading and trailing char removed\n",
    "    # 인자가 생략되거나 None이 전달되면, whitespace 문자열이 사라짐\n",
    "    # 이 경우엔 \\n이 stripped."
   ]
  },
  {
   "cell_type": "code",
   "execution_count": 52,
   "metadata": {},
   "outputs": [
    {
     "name": "stdout",
     "output_type": "stream",
     "text": [
      "{'But': 1, 'soft': 1, 'what': 1, 'light': 1, 'through': 1, 'yonder': 1, 'window': 1, 'breaks': 1, 'It': 1, 'is': 3, 'the': 3, 'east': 1, 'and': 3, 'Juliet': 1, 'sun': 2, 'Arise': 1, 'fair': 1, 'kill': 1, 'envious': 1, 'moon': 1, 'Who': 1, 'already': 1, 'sick': 1, 'pale': 1, 'with': 1, 'grief': 1}\n"
     ]
    }
   ],
   "source": [
    "fhand = urllib.request.urlopen('http://data.pr4e.org/romeo.txt')\n",
    "counts = dict()\n",
    "for line in fhand :\n",
    "    words = line.decode().split()\n",
    "    for word in words :\n",
    "        counts[word] = counts.get(word, 0) + 1\n",
    "        # dict.get은 지정된 key의 value를 반환하거나,\n",
    "        # 그 값이 없을 경우 옆의 인자를 (이 경우엔 0) 반환한다!\n",
    "print(counts)"
   ]
  },
  {
   "cell_type": "code",
   "execution_count": 56,
   "metadata": {
    "scrolled": true
   },
   "outputs": [
    {
     "name": "stdout",
     "output_type": "stream",
     "text": [
      "<h1>The First Page</h1>\n",
      "<p>\n",
      "If you like, you can switch to the\n",
      "<a href=\"http://www.dr-chuck.com/page2.htm\">\n",
      "Second Page</a>.\n",
      "</p>\n"
     ]
    }
   ],
   "source": [
    "# Reading Web Pages\n",
    "fhand = urllib.request.urlopen('http://www.dr-chuck.com/page1.htm')\n",
    "for line in fhand:\n",
    "    print(line.decode().strip())"
   ]
  },
  {
   "cell_type": "markdown",
   "metadata": {},
   "source": [
    "### 2. Web Scraping\n",
    "- When a program or script pretends to be a browser and retrieves web pages, looks at those web pages, extracts information, and then looks at more web pages\n",
    "- Search engines scrape web pages - we call this \"spidering the web\" or \"web crawling\""
   ]
  },
  {
   "cell_type": "markdown",
   "metadata": {},
   "source": [
    "##### - Why scrape?\n",
    "- Pull data - particularly social data - who links to who?\n",
    "- Get your own data back out of some system that has no \"export capability\"\n",
    "- Monitor a site for new information\n",
    "- Spider the web to make a database for a search engine"
   ]
  },
  {
   "cell_type": "markdown",
   "metadata": {},
   "source": [
    "##### - The Easy Way -> Beautiful Soup\n",
    "- You could do string searches the hard way\n",
    "- Or use the free software library called **BeautifulSoup** from www.crummy.com "
   ]
  },
  {
   "cell_type": "code",
   "execution_count": 60,
   "metadata": {
    "scrolled": true
   },
   "outputs": [
    {
     "name": "stdout",
     "output_type": "stream",
     "text": [
      "Enter - https://www.google.com\n",
      "https://www.google.co.kr/imghp?hl=ko&tab=wi\n",
      "https://maps.google.co.kr/maps?hl=ko&tab=wl\n",
      "https://play.google.com/?hl=ko&tab=w8\n",
      "https://www.youtube.com/?gl=KR&tab=w1\n",
      "https://news.google.co.kr/nwshp?hl=ko&tab=wn\n",
      "https://mail.google.com/mail/?tab=wm\n",
      "https://drive.google.com/?tab=wo\n",
      "https://www.google.co.kr/intl/ko/options/\n",
      "http://www.google.co.kr/history/optout?hl=ko\n",
      "/preferences?hl=ko\n",
      "https://accounts.google.com/ServiceLogin?hl=ko&passive=true&continue=https://www.google.co.kr/%3Fgfe_rd%3Dcr%26dcr%3D0%26ei%3DjP5-WrvfEo7A9AXMnbPQCA\n",
      "/search?dcr=0&site=&ie=UTF-8&q=2018+%EB%8F%99%EA%B3%84+%EC%98%AC%EB%A6%BC%ED%94%BD&oi=ddle&ct=2018-doodle-snow-games-day-4-6210713008734208-lawcta&hl=ko&kgmid=/m/03tng8&sa=X&ved=0ahUKEwiwoPO8xJvZAhUBo5QKHaz2C6wQPQgD\n",
      "/advanced_search?hl=ko&authuser=0\n",
      "/language_tools?hl=ko&authuser=0\n",
      "/intl/ko/ads/\n",
      "http://www.google.co.kr/intl/ko/services/\n",
      "https://plus.google.com/102197601262446632410\n",
      "/intl/ko/about.html\n",
      "https://www.google.co.kr/setprefdomain?prefdom=US&sig=__0vBf9fCiknd_K-LwA9Hdg7nSFFo%3D\n",
      "/intl/ko/policies/privacy/\n",
      "/intl/ko/policies/terms/\n"
     ]
    }
   ],
   "source": [
    "from bs4 import BeautifulSoup\n",
    "\n",
    "url = input('Enter - ')\n",
    "html = urllib.request.urlopen(url).read()\n",
    "    # read the whole line\n",
    "soup = BeautifulSoup(html, 'html.parser')\n",
    "    # parsing\n",
    "    \n",
    "# Retrieve all of the anchor tags\n",
    "tags = soup('a')\n",
    "    # give me a list of anchor tags\n",
    "for tag in tags :\n",
    "    print(tag.get('href', None))\n",
    "    # like dictionary"
   ]
  },
  {
   "cell_type": "markdown",
   "metadata": {},
   "source": [
    "# Data On the Web\n",
    "- With the HTTP request/response well understood and well supported, there was a natural move toward exchanging data btw programs using these protocols.\n",
    "- We needed to come up with an agreed way to represent data going btw applications and across networks.\n",
    "- There are two commonly used formats : **XML and JSON**\n",
    "\n",
    "XML이 좀 더 오래되었고 복잡함.\n",
    "JSON이 더 최근 것이고, 파이썬의 딕셔너리와 비슷하다."
   ]
  },
  {
   "cell_type": "markdown",
   "metadata": {},
   "source": [
    "##### - Sending Data across the \"Net\"\n",
    "ex. (Python Dictionary) -> Wire -> (Java HashMap)\n",
    "\n",
    "We use **Serialization format** (XML & JSON)"
   ]
  },
  {
   "cell_type": "markdown",
   "metadata": {},
   "source": [
    "## 1. XML (eXtensible Markup Language)\n",
    "- Primary purpose is to help information systems **share structured data**\n",
    "- It started as a simplified subset of the SGML (Standard Generalized ~), and is designed to be relatively human-legible\n",
    "\n",
    "### 1) XML \"elements\" (or Nodes)"
   ]
  },
  {
   "cell_type": "raw",
   "metadata": {},
   "source": [
    "# Simple element & Complex element\n",
    "\n",
    "<people>\n",
    "    <person>\n",
    "        <name> Chuck </name>\n",
    "        <phone type=\"intl\"> 303 4456 </phone>\n",
    "    </person>\n",
    "    <person>\n",
    "        <name> Noah </name>\n",
    "        <phone> 622 7421 </phone>\n",
    "        <email hide=\"yes\" />\n",
    "    </person>\n",
    "</people"
   ]
  },
  {
   "cell_type": "raw",
   "metadata": {},
   "source": [
    "# XML Basics\n",
    "\n",
    "<Start Tag 1>\n",
    "    <Start Tag 2> Text Content </End Tag 2>\n",
    "    <Start Tag 3 + Attribute> Text Content </End Tag 3>\n",
    "    <Self Closing Tag + Attribute>\n",
    "<End Tag 1>"
   ]
  },
  {
   "cell_type": "markdown",
   "metadata": {},
   "source": [
    "White space doesn't matter. \n",
    "<br> We indent only to be **readable.**"
   ]
  },
  {
   "cell_type": "markdown",
   "metadata": {},
   "source": [
    "- Tags : indicate the beginning and ending of elements\n",
    "- Attributes : Keyword/value pairs on the opening tag of XML\n",
    "- Serialize / De-Serialize : Act of converting data in one program into a common format that can be stored and/or transmitted btw systems in a programming language-independent manner"
   ]
  },
  {
   "cell_type": "markdown",
   "metadata": {},
   "source": [
    "#### *XML as a Tree\n",
    "![title](./XMLTree.png)"
   ]
  },
  {
   "cell_type": "raw",
   "metadata": {},
   "source": [
    "<a>\n",
    "    <b> X </b>\n",
    "    <c>\n",
    "        <d> Y </d>\n",
    "        <e> Z </e>\n",
    "    </c>\n",
    "</a>"
   ]
  },
  {
   "cell_type": "markdown",
   "metadata": {},
   "source": [
    "#### *XML as a Path\n",
    "\n",
    "/a/b : X\n",
    "<br>/a/c/d : Y\n",
    "<br>/a/c/e : Z"
   ]
  },
  {
   "cell_type": "markdown",
   "metadata": {},
   "source": [
    "### 2) XML Schema\n",
    "- Description of the legal format of an XML document\n",
    "- Often used to specify a \"**contract**\" btw systems : **XML Validation**\n"
   ]
  },
  {
   "cell_type": "raw",
   "metadata": {},
   "source": [
    "# 1. XML Document\n",
    "\n",
    "<person>\n",
    "    <lastname>Severance</lastname>\n",
    "    <age>17</age>\n",
    "    <dateborn>2001-04-17</dateborn>\n",
    "</person>"
   ]
  },
  {
   "cell_type": "raw",
   "metadata": {},
   "source": [
    "# 2. XML Schema Contract\n",
    "\n",
    "<xs:complexType name=\"person\">\n",
    "    <xs:sequence>\n",
    "        <xs:element name=\"lastname\" type=\"xs:string\"/>\n",
    "        <xs:element name=\"age\" type=\"xs:integer\"/>\n",
    "        <xs:element name=\"dateborn\" type=\"xs:date\"/>\n",
    "    </xs:sequence>\n",
    "</xs:complexType>"
   ]
  },
  {
   "cell_type": "markdown",
   "metadata": {},
   "source": [
    "##### -Many XML Schema Languages\n",
    "- Document Type Definition (DTD)\n",
    "- SGML\n",
    "- XML Schema from W3C (XSD) : **most widely used**\n"
   ]
  },
  {
   "cell_type": "markdown",
   "metadata": {},
   "source": [
    "### 3) XSD Schema \n",
    "W3C : World Wide Web Consortium\n"
   ]
  },
  {
   "cell_type": "markdown",
   "metadata": {},
   "source": [
    "- Constraints\n",
    "- Data Types\n",
    "    - string\n",
    "    - date\n",
    "    - dateTime\n",
    "    - decimal\n",
    "    - integer"
   ]
  },
  {
   "cell_type": "raw",
   "metadata": {},
   "source": [
    "# XSD Constraints\n",
    "\n",
    "<xs:complexType name=\"person\">\n",
    "    <xs:sequence>\n",
    "        <xs:element name=\"full_name\" type=\"xs:string\"\n",
    "        minOccurs=\"1\" maxOccurs=\"1\"/>\n",
    "        <xs:element name=\"child_name\" type=\"xs:integer\"\n",
    "        minOccurs=\"0\" maxOccurs=\"10\"/>\n",
    "        <xs:element name=\"dateborn\" type=\"xs:date\"/>\n",
    "    </xs:sequence>\n",
    "</xs:complexType>\n",
    "\n",
    "# ISO 8601 Date/Time Format\n",
    "2002-05-30T09:30:10Z"
   ]
  },
  {
   "cell_type": "markdown",
   "metadata": {},
   "source": [
    "### 4) Parsing XML"
   ]
  },
  {
   "cell_type": "code",
   "execution_count": 97,
   "metadata": {},
   "outputs": [
    {
     "name": "stdout",
     "output_type": "stream",
     "text": [
      "Name: Chuck\n",
      "Attr: yes\n"
     ]
    }
   ],
   "source": [
    "# Simple Tag! \n",
    "\n",
    "import xml.etree.ElementTree as ET\n",
    "data = '''<person>\n",
    "<name>Chuck</name>\n",
    "<phone type=\"int1\">\n",
    "+1 734 303 4456 </phone>\n",
    "<email hide=\"yes\"/>\n",
    "</person>\n",
    "'''\n",
    "\n",
    "tree = ET.fromstring(data)\n",
    "    #fromstring converts 'string' to 'tree'\n",
    "print('Name:', tree.find('name').text)\n",
    "    # .text는 tag사이의 내용을 의미\n",
    "print('Attr:', tree.find('email').get('hide'))\n",
    "    # 'hide'라는 attribute를 보여주라는 의미"
   ]
  },
  {
   "cell_type": "code",
   "execution_count": 103,
   "metadata": {
    "scrolled": true
   },
   "outputs": [
    {
     "name": "stdout",
     "output_type": "stream",
     "text": [
      "User count: 2\n",
      "Name Chuck\n",
      "Id 001\n",
      "Attribute 2\n",
      "Name Brent\n",
      "Id 009\n",
      "Attribute 7\n"
     ]
    }
   ],
   "source": [
    "imput = '''<stuff>\n",
    "<users>\n",
    "    <user x=\"2\">\n",
    "        <id>001</id>\n",
    "        <name>Chuck</name>\n",
    "    </user>\n",
    "    <user x=\"7\">\n",
    "        <id>009</id>\n",
    "        <name>Brent</name>\n",
    "    </user>\n",
    "</users>\n",
    "</stuff>'''\n",
    "\n",
    "stuff = ET.fromstring(imput)\n",
    "lst = stuff.findall('users/user')\n",
    "print('User count:', len(lst))\n",
    "for item in lst :\n",
    "    print('Name', item.find('name').text)\n",
    "    print('Id', item.find('id').text)\n",
    "    print('Attribute', item.get(\"x\"))\n",
    "    "
   ]
  },
  {
   "cell_type": "markdown",
   "metadata": {},
   "source": [
    "## 2. JSON (JavaScrip Object Notation)\n",
    "\n",
    "JSON represents data as nested \"lists\" and \"dictionaries\".\n",
    "<br>So, it's easier to use."
   ]
  },
  {
   "cell_type": "code",
   "execution_count": 111,
   "metadata": {},
   "outputs": [
    {
     "name": "stdout",
     "output_type": "stream",
     "text": [
      "Name: Chuck\n",
      "Hide: yes\n"
     ]
    }
   ],
   "source": [
    "import json\n",
    "data = '''\n",
    "{\n",
    "    \"name\": \"Chuck\",\n",
    "    \"phone\" : {\n",
    "        \"type\" : \"intl\",\n",
    "        \"number\" : \"+1 734 303 4456\"\n",
    "    },\n",
    "    \"email\" : {\n",
    "        \"hide\" : \"yes\"\n",
    "    }\n",
    "}\n",
    "'''\n",
    "\n",
    "info = json.loads(data)\n",
    "print('Name:', info[\"name\"])\n",
    "print('Hide:', info[\"email\"][\"hide\"])"
   ]
  },
  {
   "cell_type": "code",
   "execution_count": 116,
   "metadata": {},
   "outputs": [
    {
     "data": {
      "text/plain": [
       "{'email': {'hide': 'yes'},\n",
       " 'name': 'Chuck',\n",
       " 'phone': {'number': '+1 734 303 4456', 'type': 'intl'}}"
      ]
     },
     "execution_count": 116,
     "metadata": {},
     "output_type": "execute_result"
    }
   ],
   "source": [
    "info"
   ]
  },
  {
   "cell_type": "markdown",
   "metadata": {},
   "source": [
    "## 3. Using APIs\n",
    "- Most non-trivial web applications use services\n",
    "- They use services from other applications\n",
    "    - Credit Card Change\n",
    "    - Hotel Reservation Systems\n",
    "- Services publish the \"rules\" applications must follow to make use of the service (**API**)"
   ]
  },
  {
   "cell_type": "markdown",
   "metadata": {},
   "source": [
    "### 1) API (Application Programming Interface)\n",
    "We'll use Google Geocoding API"
   ]
  },
  {
   "cell_type": "code",
   "execution_count": 128,
   "metadata": {
    "scrolled": true
   },
   "outputs": [
    {
     "name": "stdout",
     "output_type": "stream",
     "text": [
      "Enter location: hwagok\n",
      "Retrieving http://maps.googleapis.com/maps/api/geocode/json?address=hwagok\n",
      "Retrieved 1514 characters\n",
      "lat 37.54157800000001 lng 126.840436\n",
      "Hwagok-dong, Seoul, South Korea\n"
     ]
    }
   ],
   "source": [
    "# http://maps.googleapis.com/maps/api/geocode/json?address=Ann+Arbor%2C+MI\n",
    "\n",
    "import urllib.request, urllib.parse, urllib.error\n",
    "import json\n",
    "\n",
    "serviceurl = \"http://maps.googleapis.com/maps/api/geocode/json?\"\n",
    "\n",
    "while True :\n",
    "    address = input('Enter location: ')\n",
    "    if len(address) < 1 : break\n",
    "        \n",
    "    url = serviceurl + urllib.parse.urlencode({'address' : address})\n",
    "    \n",
    "    print(\"Retrieving\", url)\n",
    "    uh = urllib.request.urlopen(url)\n",
    "    data = uh.read().decode()\n",
    "    print('Retrieved', len(data), 'characters')\n",
    "    \n",
    "    try :\n",
    "        js = json.loads(data)\n",
    "    except :\n",
    "        js = None\n",
    "    \n",
    "    if not js or 'status' not in js or js['status'] != 'OK' :\n",
    "        print(\"==== Failure To Retrieve ====\")\n",
    "        print(data)\n",
    "        continue\n",
    "    \n",
    "    lat = js[\"results\"][0][\"geometry\"][\"location\"][\"lat\"]\n",
    "    lng = js[\"results\"][0][\"geometry\"][\"location\"][\"lng\"]\n",
    "    print('lat', lat, 'lng', lng)\n",
    "    location = js['results'][0]['formatted_address']\n",
    "    print(location)\n",
    "    break"
   ]
  },
  {
   "cell_type": "markdown",
   "metadata": {},
   "source": [
    "#### *Real JSON dat for SEOUL\n",
    "![title](./JSON.png)"
   ]
  },
  {
   "cell_type": "markdown",
   "metadata": {},
   "source": [
    "### 2) Securing API Requests\n",
    "\n",
    "- The compute resources to run these APIs are not \"free\"\n",
    "- The data provided by these APIs is usually valuable\n",
    "- The data providers might limit the number of requests per day, demand an API 'key', or even charge for usage\n",
    "- They might change the rules as things progress"
   ]
  },
  {
   "cell_type": "markdown",
   "metadata": {},
   "source": [
    "Google geo provides 2500 free APIs per day.\n",
    "TWITTER recommends authorization from the company !"
   ]
  },
  {
   "cell_type": "code",
   "execution_count": 130,
   "metadata": {
    "collapsed": true
   },
   "outputs": [
    {
     "ename": "ModuleNotFoundError",
     "evalue": "No module named 'twurl'",
     "output_type": "error",
     "traceback": [
      "\u001b[0;31m---------------------------------------------------------------------------\u001b[0m",
      "\u001b[0;31mModuleNotFoundError\u001b[0m                       Traceback (most recent call last)",
      "\u001b[0;32m<ipython-input-130-23c197b12a17>\u001b[0m in \u001b[0;36m<module>\u001b[0;34m()\u001b[0m\n\u001b[1;32m      2\u001b[0m \u001b[0;34m\u001b[0m\u001b[0m\n\u001b[1;32m      3\u001b[0m \u001b[0;32mimport\u001b[0m \u001b[0murllib\u001b[0m\u001b[0;34m.\u001b[0m\u001b[0mrequest\u001b[0m\u001b[0;34m,\u001b[0m \u001b[0murllib\u001b[0m\u001b[0;34m.\u001b[0m\u001b[0mparse\u001b[0m\u001b[0;34m,\u001b[0m \u001b[0murllib\u001b[0m\u001b[0;34m.\u001b[0m\u001b[0merror\u001b[0m\u001b[0;34m\u001b[0m\u001b[0m\n\u001b[0;32m----> 4\u001b[0;31m \u001b[0;32mimport\u001b[0m \u001b[0mtwurl\u001b[0m\u001b[0;34m\u001b[0m\u001b[0m\n\u001b[0m\u001b[1;32m      5\u001b[0m \u001b[0;32mimport\u001b[0m \u001b[0mjson\u001b[0m\u001b[0;34m\u001b[0m\u001b[0m\n\u001b[1;32m      6\u001b[0m \u001b[0;34m\u001b[0m\u001b[0m\n",
      "\u001b[0;31mModuleNotFoundError\u001b[0m: No module named 'twurl'"
     ]
    }
   ],
   "source": [
    "# TWITTER\n",
    "# and you need a KEY to get access\n",
    "\n",
    "import urllib.request, urllib.parse, urllib.error\n",
    "import twurl\n",
    "import json\n",
    "\n",
    "TWITTER_URL = \"https://api.twitter.com/1.1/friends/list.json\"\n",
    "\n",
    "while True :\n",
    "    print('')\n",
    "    acct = input('Enter Twitter Account :')\n",
    "    if (len(acct) < 1) : break\n",
    "    url = twurl.augment(TWITTER_URL, \n",
    "                       {'screen_name' : acct, 'count' : '5'})\n",
    "    print('Retrieving', url)\n",
    "    connection = urllib.request.urlopen(url)\n",
    "    data = connetion.read().decode()\n",
    "    headers = dict(connection.getheaders())\n",
    "    print(\"Remaining\", headers['x-rate-limit-remaining'])\n",
    "    js = json.loads(data)\n",
    "    print(json.dumps(js, indent=4))\n",
    "    \n",
    "    for u in js['users'] :\n",
    "        print(u['screen_name'])\n",
    "        s = u['status']['text']\n",
    "        print('\\t', s[:50])"
   ]
  },
  {
   "cell_type": "markdown",
   "metadata": {},
   "source": [
    "# 4. REST\n",
    "Representational State Transfer\n",
    "IS a way of providing interoperability btw computer systems on the Internet."
   ]
  }
 ],
 "metadata": {
  "kernelspec": {
   "display_name": "Python 3",
   "language": "python",
   "name": "python3"
  },
  "language_info": {
   "codemirror_mode": {
    "name": "ipython",
    "version": 3
   },
   "file_extension": ".py",
   "mimetype": "text/x-python",
   "name": "python",
   "nbconvert_exporter": "python",
   "pygments_lexer": "ipython3",
   "version": "3.6.3"
  }
 },
 "nbformat": 4,
 "nbformat_minor": 2
}
