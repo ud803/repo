{
 "cells": [
  {
   "cell_type": "markdown",
   "metadata": {},
   "source": [
    "앞서 사용했던 Forum 데이터셋을 이용해 여러가지 문제를 해결할 것이다.\n",
    "이번에는 내 노트북에서 쉘을 통해 하지 않고, 직접 VMware의 하둡을 통해 해볼 것이다."
   ]
  },
  {
   "cell_type": "markdown",
   "metadata": {},
   "source": [
    "### 1. 데이터셋 소개\n",
    "데이터셋은 앞서 말했다시피 사용자들이 의견을 공유하는 포럼의 데이터이다.\n",
    "전체 데이터는 [여기서](content.udacity-data.com/course/hadoop/forum_data.tar.gz) 내려받을 수 있다.\n",
    "\n",
    "데이터셋은 2개의 파일로 구성되어 있다.\n",
    "\n",
    "1.forum_nodes.tsv\n",
    "<br>포럼의 모든 질문과 답변을 하나의 테이블에 담은 파일이다.\n",
    "**tab**을 구분자로서 사용했고, RDBMS(관계형 데이터베이스)로부터 익스포트되었다. 그리고 **모든 필드는 쌍따옴표**로 구분되어있다.\n",
    "\n",
    "\n",
    "    - \"id\": id of the node\n",
    "    - \"title\": title of the node. in case \"node_type\" is \"answer\" or \"comment\", this field will be empty\n",
    "    - \"tagnames\": space separated list of tags\n",
    "    - \"author_id\": id of the author\n",
    "    - \"body\": content of the post\n",
    "    - \"node_type\": type of the node, either \"question\", \"answer\" or \"comment\"\n",
    "    - \"parent_id\": node under which the post is located, will be empty for \"questions\"\n",
    "    - \"abs_parent_id\": top node where the post is located\n",
    "    - \"added_at\": date added\n",
    "\n",
    "2.forum_users.tsv\n",
    "<br>사용자의 정보에 대한 테이블이다.\n",
    "\n",
    "- \"user_ptr_id\" : id of the user\n",
    "- \"reputation\" : reputation, karma of user\n",
    "- \"gold\" : badges earned\n"
   ]
  },
  {
   "cell_type": "markdown",
   "metadata": {},
   "source": [
    "### 2. Tasks\n",
    "\n",
    "##### 1) Task 1\n",
    "여기서 해결한 문제는, 각 학생들이 가장 많은 게시물을 작성한 시간을 알아내는 것이다.\n",
    "\n",
    "시간은 date_added 필드를 사용하고, last_activity_at_field는 무시한다.\n",
    "\n",
    "Reducer의 출력값은 아래와 같은 형태여야 한다.\n",
    "\n",
    "만약 동일한 출력값이 있어도 그대로 출력하면 된다."
   ]
  },
  {
   "cell_type": "raw",
   "metadata": {},
   "source": [
    "author_id    hour"
   ]
  },
  {
   "cell_type": "code",
   "execution_count": 1,
   "metadata": {
    "collapsed": true
   },
   "outputs": [
    {
     "ename": "SyntaxError",
     "evalue": "unexpected character after line continuation character (<ipython-input-1-8804348f0bc8>, line 2)",
     "output_type": "error",
     "traceback": [
      "\u001b[0;36m  File \u001b[0;32m\"<ipython-input-1-8804348f0bc8>\"\u001b[0;36m, line \u001b[0;32m2\u001b[0m\n\u001b[0;31m    13431511\\t13\u001b[0m\n\u001b[0m                ^\u001b[0m\n\u001b[0;31mSyntaxError\u001b[0m\u001b[0;31m:\u001b[0m unexpected character after line continuation character\n"
     ]
    }
   ],
   "source": [
    "# for example,\n",
    "13431511\\t13\n",
    "54525254141\\t21"
   ]
  },
  {
   "cell_type": "code",
   "execution_count": null,
   "metadata": {
    "collapsed": true
   },
   "outputs": [],
   "source": []
  }
 ],
 "metadata": {
  "kernelspec": {
   "display_name": "Python 3",
   "language": "python",
   "name": "python3"
  },
  "language_info": {
   "codemirror_mode": {
    "name": "ipython",
    "version": 3
   },
   "file_extension": ".py",
   "mimetype": "text/x-python",
   "name": "python",
   "nbconvert_exporter": "python",
   "pygments_lexer": "ipython3",
   "version": "3.6.3"
  }
 },
 "nbformat": 4,
 "nbformat_minor": 2
}
